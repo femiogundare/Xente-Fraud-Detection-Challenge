{
 "cells": [
  {
   "cell_type": "code",
   "execution_count": 1,
   "metadata": {},
   "outputs": [],
   "source": [
    "import numpy as np\n",
    "import math\n",
    "import pandas as pd\n",
    "import seaborn as sns\n",
    "import matplotlib.pyplot as plt\n",
    "%matplotlib inline\n",
    "\n",
    "import time\n",
    "from collections import Counter\n",
    "from sklearn.preprocessing import LabelEncoder\n",
    "from sklearn.model_selection import train_test_split, RandomizedSearchCV, GridSearchCV, StratifiedKFold, StratifiedShuffleSplit, cross_val_score\n",
    "from sklearn.pipeline import make_pipeline\n",
    "from sklearn.metrics import confusion_matrix, classification_report, precision_score, recall_score, f1_score, precision_recall_curve"
   ]
  },
  {
   "cell_type": "code",
   "execution_count": 2,
   "metadata": {},
   "outputs": [],
   "source": [
    "train_data = pd.read_csv('FeatureEngineeredTrain.csv')\n",
    "test_data = pd.read_csv('FeatureEngineeredTest.csv')"
   ]
  },
  {
   "cell_type": "code",
   "execution_count": 3,
   "metadata": {},
   "outputs": [],
   "source": [
    "train_data['PricingStrategy'] = train_data['PricingStrategy'].replace({0:1, 1:2, 2:3})\n",
    "test_data['PricingStrategy'] = test_data['PricingStrategy'].replace({0:1, 1:2, 2:3})"
   ]
  },
  {
   "cell_type": "code",
   "execution_count": 4,
   "metadata": {},
   "outputs": [],
   "source": [
    "train_data['Charges_per_Pricing'] = train_data['ExtraCharges']/train_data['PricingStrategy']\n",
    "test_data['Charges_per_Pricing'] = test_data['ExtraCharges']/test_data['PricingStrategy']"
   ]
  },
  {
   "cell_type": "code",
   "execution_count": 5,
   "metadata": {},
   "outputs": [],
   "source": [
    "def time_in_seconds(time_series):\n",
    "    time = time_series.split(' ')[1].split(':')\n",
    "    hr, mn, sec = int(time[0]), int(time[1]), int(time[2])\n",
    "    return hr*3600 + mn*60 + sec\n",
    "\n",
    "train_data['Time_in_Secs'] = train_data['Time'].map(time_in_seconds)\n",
    "test_data['Time_in_Secs'] = test_data['Time'].map(time_in_seconds)"
   ]
  },
  {
   "cell_type": "code",
   "execution_count": 6,
   "metadata": {},
   "outputs": [],
   "source": [
    "train_data['Cyclic_Time_x'] = train_data['Time_in_Secs'].map(lambda x: math.sin(2*math.pi*x/86400))\n",
    "train_data['Cyclic_Time_y'] = train_data['Time_in_Secs'].map(lambda x: math.cos(2*math.pi*x/86400))\n",
    "\n",
    "test_data['Cyclic_Time_x'] = test_data['Time_in_Secs'].map(lambda x: math.sin(2*math.pi*x/86400))\n",
    "test_data['Cyclic_Time_y'] = test_data['Time_in_Secs'].map(lambda x: math.cos(2*math.pi*x/86400))\n",
    "\n",
    "train_data.drop('Time_in_Secs', axis=1, inplace=True)\n",
    "test_data.drop('Time_in_Secs', axis=1, inplace=True)"
   ]
  },
  {
   "cell_type": "code",
   "execution_count": 7,
   "metadata": {},
   "outputs": [
    {
     "data": {
      "text/plain": [
       "62908    2019-01-18T05:25:23Z\n",
       "Name: TransactionStartTime, dtype: object"
      ]
     },
     "execution_count": 7,
     "metadata": {},
     "output_type": "execute_result"
    }
   ],
   "source": [
    "train_data['TransactionStartTime'].sample()#.values[0].split('T')[0].split('-')[2]"
   ]
  },
  {
   "cell_type": "code",
   "execution_count": 8,
   "metadata": {},
   "outputs": [],
   "source": [
    "def week_of_trans(time_series):\n",
    "    time = time_series.split('T')[0].split('-')\n",
    "    day = int(time[2])\n",
    "    \n",
    "    if day in range(1, 8):\n",
    "        return 'first_week'\n",
    "    elif day in range(8, 15):\n",
    "        return 'second_week'\n",
    "    elif day in range(15, 22):\n",
    "        return 'third_week'\n",
    "    elif day in range(22, 29):\n",
    "        return 'fourth_week'\n",
    "    else:\n",
    "        return 'fifth_week'\n",
    "    \n",
    "train_data['Week'] = train_data['TransactionStartTime'].map(week_of_trans)\n",
    "test_data['Week'] = test_data['TransactionStartTime'].map(week_of_trans)"
   ]
  },
  {
   "cell_type": "code",
   "execution_count": 9,
   "metadata": {},
   "outputs": [],
   "source": [
    "train_data['Amount_to_mean_CustomerId'] = train_data['Amount']/train_data.groupby('CustomerId')['Amount'].transform('mean')\n",
    "train_data['Amount_to_std_CustomerId'] = train_data['Amount']/train_data.groupby('CustomerId')['Amount'].transform('std')\n",
    "\n",
    "train_data['Amount_to_mean_ProviderId'] = train_data['Amount']/train_data.groupby('ProviderId')['Amount'].transform('mean')\n",
    "train_data['Amount_to_std_ProviderId'] = train_data['Amount']/train_data.groupby('ProviderId')['Amount'].transform('std')\n",
    "\n",
    "train_data['Amount_to_mean_PricingStrategy'] = train_data['Amount']/train_data.groupby('PricingStrategy')['Amount'].transform('mean')\n",
    "train_data['Amount_to_std_PricingStrategy'] = train_data['Amount']/train_data.groupby('PricingStrategy')['Amount'].transform('std')\n",
    "\n",
    "train_data['Amount_to_mean_ProductCategory'] = train_data['Amount']/train_data.groupby('ProductCategory')['Amount'].transform('mean')\n",
    "train_data['Amount_to_std_ProductCategory'] = train_data['Amount']/train_data.groupby('ProductCategory')['Amount'].transform('std')\n",
    "\n",
    "train_data['Amount_to_mean_ChannelId'] = train_data['Amount']/train_data.groupby('ChannelId')['Amount'].transform('mean')\n",
    "train_data['Amount_to_std_ChannelId'] = train_data['Amount']/train_data.groupby('ChannelId')['Amount'].transform('std')\n",
    "\n",
    "train_data['Amount_to_mean_ProductId'] = train_data['Amount']/train_data.groupby('ProductId')['Amount'].transform('mean')\n",
    "train_data['Amount_to_std_ProductId'] = train_data['Amount']/train_data.groupby('ProductId')['Amount'].transform('std')"
   ]
  },
  {
   "cell_type": "code",
   "execution_count": 10,
   "metadata": {},
   "outputs": [
    {
     "data": {
      "text/plain": [
       "0    0.328699\n",
       "1   -0.006574\n",
       "2         inf\n",
       "3    1.164874\n",
       "4   -0.037509\n",
       "Name: Amount_to_std_CustomerId, dtype: float64"
      ]
     },
     "execution_count": 10,
     "metadata": {},
     "output_type": "execute_result"
    }
   ],
   "source": [
    "train_data['Amount_to_std_CustomerId'].head()"
   ]
  },
  {
   "cell_type": "code",
   "execution_count": null,
   "metadata": {},
   "outputs": [],
   "source": []
  },
  {
   "cell_type": "code",
   "execution_count": 11,
   "metadata": {},
   "outputs": [],
   "source": [
    "test_data['Amount_to_mean_CustomerId'] = test_data['Amount']/test_data.groupby('CustomerId')['Amount'].transform('mean')\n",
    "test_data['Amount_to_std_CustomerId'] = test_data['Amount']/test_data.groupby('CustomerId')['Amount'].transform('std')\n",
    "\n",
    "test_data['Amount_to_mean_ProviderId'] = test_data['Amount']/test_data.groupby('ProviderId')['Amount'].transform('mean')\n",
    "test_data['Amount_to_std_ProviderId'] = test_data['Amount']/test_data.groupby('ProviderId')['Amount'].transform('std')\n",
    "\n",
    "test_data['Amount_to_mean_PricingStrategy'] = test_data['Amount']/test_data.groupby('PricingStrategy')['Amount'].transform('mean')\n",
    "test_data['Amount_to_std_PricingStrategy'] = test_data['Amount']/test_data.groupby('PricingStrategy')['Amount'].transform('std')\n",
    "\n",
    "test_data['Amount_to_mean_ProductCategory'] = test_data['Amount']/test_data.groupby('ProductCategory')['Amount'].transform('mean')\n",
    "test_data['Amount_to_std_ProductCategory'] = test_data['Amount']/test_data.groupby('ProductCategory')['Amount'].transform('std')\n",
    "\n",
    "test_data['Amount_to_mean_ChannelId'] = test_data['Amount']/test_data.groupby('ChannelId')['Amount'].transform('mean')\n",
    "test_data['Amount_to_std_ChannelId'] = test_data['Amount']/test_data.groupby('ChannelId')['Amount'].transform('std')\n",
    "\n",
    "test_data['Amount_to_mean_ProductId'] = test_data['Amount']/test_data.groupby('ProductId')['Amount'].transform('mean')\n",
    "test_data['Amount_to_std_ProductId'] = test_data['Amount']/test_data.groupby('ProductId')['Amount'].transform('std')"
   ]
  },
  {
   "cell_type": "code",
   "execution_count": 12,
   "metadata": {},
   "outputs": [],
   "source": [
    "train_data = train_data.replace([np.inf, -np.inf], np.nan)\n",
    "test_data = test_data.replace([np.inf, -np.inf], np.nan)"
   ]
  },
  {
   "cell_type": "code",
   "execution_count": 13,
   "metadata": {},
   "outputs": [
    {
     "data": {
      "text/plain": [
       "False    95662\n",
       "dtype: int64"
      ]
     },
     "execution_count": 13,
     "metadata": {},
     "output_type": "execute_result"
    }
   ],
   "source": [
    "train_data.isin([np.inf, -np.inf, np.nan]).all(axis='columns').value_counts()"
   ]
  },
  {
   "cell_type": "code",
   "execution_count": 14,
   "metadata": {},
   "outputs": [
    {
     "data": {
      "text/plain": [
       "(array([133, 134, 140, 144], dtype=int64),)"
      ]
     },
     "execution_count": 14,
     "metadata": {},
     "output_type": "execute_result"
    }
   ],
   "source": [
    "np.where(train_data.isnull().sum()>0)"
   ]
  },
  {
   "cell_type": "code",
   "execution_count": 15,
   "metadata": {},
   "outputs": [
    {
     "data": {
      "text/plain": [
       "Index(['Amount_to_mean_CustomerId', 'Amount_to_std_CustomerId',\n",
       "       'Amount_to_std_ProductCategory', 'Amount_to_std_ProductId'],\n",
       "      dtype='object')"
      ]
     },
     "execution_count": 15,
     "metadata": {},
     "output_type": "execute_result"
    }
   ],
   "source": [
    "train_data.columns[np.where(train_data.isnull().sum()>0)]"
   ]
  },
  {
   "cell_type": "code",
   "execution_count": 16,
   "metadata": {},
   "outputs": [],
   "source": [
    "original_train = train_data.copy()\n",
    "original_test = test_data.copy()"
   ]
  },
  {
   "cell_type": "code",
   "execution_count": 17,
   "metadata": {},
   "outputs": [],
   "source": [
    "null_cols = train_data.columns[np.where(train_data.isnull().sum()>0)]\n",
    "\n",
    "for col in null_cols:\n",
    "    train_data[col] = train_data[col].fillna(train_data[col].mean())\n",
    "    test_data[col] = test_data[col].fillna(test_data[col].mean())"
   ]
  },
  {
   "cell_type": "code",
   "execution_count": null,
   "metadata": {},
   "outputs": [],
   "source": []
  },
  {
   "cell_type": "code",
   "execution_count": 137,
   "metadata": {},
   "outputs": [],
   "source": [
    "train_data.drop(['TransactionId', 'BatchId', 'AccountId', 'SubscriptionId', 'CustomerId', \n",
    "                 'TransactionStartTime', 'Past_one_Week', 'Date'], \n",
    "                axis=1, inplace=True\n",
    "               )\n",
    "\n",
    "testTransId = test_data['TransactionId']\n",
    "test_data.drop(['TransactionId', 'BatchId', 'AccountId', 'SubscriptionId', 'CustomerId', \n",
    "                 'TransactionStartTime', 'Past_one_Week', 'Date'], \n",
    "                axis=1, inplace=True\n",
    "               )"
   ]
  },
  {
   "cell_type": "code",
   "execution_count": 138,
   "metadata": {},
   "outputs": [],
   "source": [
    "train_data.drop('Time', axis=1, inplace=True)\n",
    "test_data.drop('Time', axis=1, inplace=True)"
   ]
  },
  {
   "cell_type": "code",
   "execution_count": 139,
   "metadata": {},
   "outputs": [],
   "source": [
    "cat_columns = ['Year']\n",
    "\n",
    "for col in cat_columns:\n",
    "    train_data[col] = train_data[col].astype(str)\n",
    "    test_data[col] = test_data[col].astype(str)"
   ]
  },
  {
   "cell_type": "code",
   "execution_count": 140,
   "metadata": {},
   "outputs": [],
   "source": [
    "train_data.drop('Hour', axis=1, inplace=True)\n",
    "test_data.drop('Hour', axis=1, inplace=True)"
   ]
  },
  {
   "cell_type": "code",
   "execution_count": 141,
   "metadata": {},
   "outputs": [
    {
     "data": {
      "text/plain": [
       "(95662, 135)"
      ]
     },
     "execution_count": 141,
     "metadata": {},
     "output_type": "execute_result"
    }
   ],
   "source": [
    "train_data.shape"
   ]
  },
  {
   "cell_type": "code",
   "execution_count": 142,
   "metadata": {},
   "outputs": [
    {
     "data": {
      "text/plain": [
       "(45019, 134)"
      ]
     },
     "execution_count": 142,
     "metadata": {},
     "output_type": "execute_result"
    }
   ],
   "source": [
    "test_data.shape"
   ]
  },
  {
   "cell_type": "code",
   "execution_count": 143,
   "metadata": {},
   "outputs": [
    {
     "data": {
      "text/plain": [
       "Index(['ProviderId', 'ProductId', 'ProductCategory', 'ChannelId', 'Year',\n",
       "       'Month', 'Weekday', 'Weekday/Weekend', 'Holiday', 'Form', 'Suspicious',\n",
       "       'Multiple_Sub_by_Customer', 'Multiple_Sub_by_Acc', 'Week'],\n",
       "      dtype='object')"
      ]
     },
     "execution_count": 143,
     "metadata": {},
     "output_type": "execute_result"
    }
   ],
   "source": [
    "train_data.select_dtypes(include='object').columns"
   ]
  },
  {
   "cell_type": "code",
   "execution_count": 144,
   "metadata": {},
   "outputs": [
    {
     "name": "stderr",
     "output_type": "stream",
     "text": [
      "C:\\Users\\USER\\AppData\\Local\\Continuum\\anaconda3\\lib\\site-packages\\ipykernel_launcher.py:9: SettingWithCopyWarning: \n",
      "A value is trying to be set on a copy of a slice from a DataFrame.\n",
      "Try using .loc[row_indexer,col_indexer] = value instead\n",
      "\n",
      "See the caveats in the documentation: http://pandas.pydata.org/pandas-docs/stable/indexing.html#indexing-view-versus-copy\n",
      "  if __name__ == '__main__':\n",
      "C:\\Users\\USER\\AppData\\Local\\Continuum\\anaconda3\\lib\\site-packages\\ipykernel_launcher.py:10: SettingWithCopyWarning: \n",
      "A value is trying to be set on a copy of a slice from a DataFrame.\n",
      "Try using .loc[row_indexer,col_indexer] = value instead\n",
      "\n",
      "See the caveats in the documentation: http://pandas.pydata.org/pandas-docs/stable/indexing.html#indexing-view-versus-copy\n",
      "  # Remove the CWD from sys.path while we load stuff.\n"
     ]
    }
   ],
   "source": [
    "fraudResult = train_data['FraudResult']\n",
    "\n",
    "train_num = train_data.drop('FraudResult', axis=1).select_dtypes(exclude='object')\n",
    "test_num = test_data.select_dtypes(exclude='object')\n",
    "\n",
    "train_cat = train_data.select_dtypes(include='object')\n",
    "test_cat = test_data.select_dtypes(include='object')\n",
    "\n",
    "train_cat['label'] = 1\n",
    "test_cat['label'] = 0"
   ]
  },
  {
   "cell_type": "code",
   "execution_count": 145,
   "metadata": {},
   "outputs": [],
   "source": [
    "combined = pd.concat([train_cat, test_cat], axis=0)#.reset_index(drop=True)"
   ]
  },
  {
   "cell_type": "code",
   "execution_count": 146,
   "metadata": {},
   "outputs": [],
   "source": [
    "combined = pd.get_dummies(combined, columns=combined.columns[:-1], drop_first=True)\n",
    "\n",
    "train_cat = combined[combined['label']==1]\n",
    "test_cat = combined[combined['label']==0]"
   ]
  },
  {
   "cell_type": "code",
   "execution_count": 147,
   "metadata": {},
   "outputs": [
    {
     "name": "stderr",
     "output_type": "stream",
     "text": [
      "C:\\Users\\USER\\AppData\\Local\\Continuum\\anaconda3\\lib\\site-packages\\pandas\\core\\frame.py:3940: SettingWithCopyWarning: \n",
      "A value is trying to be set on a copy of a slice from a DataFrame\n",
      "\n",
      "See the caveats in the documentation: http://pandas.pydata.org/pandas-docs/stable/indexing.html#indexing-view-versus-copy\n",
      "  errors=errors)\n"
     ]
    }
   ],
   "source": [
    "train_cat.drop('label', axis=1, inplace=True)\n",
    "test_cat.drop('label', axis=1, inplace=True)"
   ]
  },
  {
   "cell_type": "code",
   "execution_count": 148,
   "metadata": {},
   "outputs": [],
   "source": [
    "train_data = pd.concat([train_num, train_cat, fraudResult], axis=1)\n",
    "test_data = pd.concat([test_num, test_cat], axis=1)"
   ]
  },
  {
   "cell_type": "code",
   "execution_count": 149,
   "metadata": {},
   "outputs": [
    {
     "data": {
      "text/plain": [
       "(array([], dtype=int64),)"
      ]
     },
     "execution_count": 149,
     "metadata": {},
     "output_type": "execute_result"
    }
   ],
   "source": [
    "np.where(train_data.isnull().sum()>0)"
   ]
  },
  {
   "cell_type": "code",
   "execution_count": 150,
   "metadata": {},
   "outputs": [],
   "source": [
    "train_data.to_csv('FinalTrain.csv', index=False)\n",
    "test_data.to_csv('FinalTest.csv', index=False)"
   ]
  },
  {
   "cell_type": "code",
   "execution_count": 25,
   "metadata": {},
   "outputs": [],
   "source": [
    "X, y = train_data.drop('FraudResult', axis=1), train_data['FraudResult']\n",
    "\n",
    "X_train, X_test, y_train, y_test = train_test_split(\n",
    "    X, y, stratify=y, test_size=0.2, random_state=42\n",
    ")"
   ]
  },
  {
   "cell_type": "code",
   "execution_count": 26,
   "metadata": {},
   "outputs": [],
   "source": [
    "#from sklearn.preprocessing import StandardScaler"
   ]
  },
  {
   "cell_type": "code",
   "execution_count": 27,
   "metadata": {},
   "outputs": [],
   "source": [
    "#original_test_data = test_data.copy()"
   ]
  },
  {
   "cell_type": "code",
   "execution_count": 28,
   "metadata": {},
   "outputs": [],
   "source": [
    "#scaler = StandardScaler(copy=True, with_mean=True, with_std=True)\n",
    "\n",
    "#X_train.loc[:, train_num.columns] = scaler.fit_transform(X_train.loc[:, train_num.columns])\n",
    "#X_test.loc[:, train_num.columns] = scaler.transform(X_test.loc[:, train_num.columns])\n",
    "#test_data.loc[:, train_num.columns] = scaler.transform(test_data.loc[:, train_num.columns])"
   ]
  },
  {
   "cell_type": "code",
   "execution_count": 29,
   "metadata": {},
   "outputs": [
    {
     "data": {
      "text/html": [
       "<div>\n",
       "<style scoped>\n",
       "    .dataframe tbody tr th:only-of-type {\n",
       "        vertical-align: middle;\n",
       "    }\n",
       "\n",
       "    .dataframe tbody tr th {\n",
       "        vertical-align: top;\n",
       "    }\n",
       "\n",
       "    .dataframe thead th {\n",
       "        text-align: right;\n",
       "    }\n",
       "</style>\n",
       "<table border=\"1\" class=\"dataframe\">\n",
       "  <thead>\n",
       "    <tr style=\"text-align: right;\">\n",
       "      <th></th>\n",
       "      <th>Amount</th>\n",
       "      <th>PricingStrategy</th>\n",
       "      <th>No. Customers per Acc</th>\n",
       "      <th>ExtraCharges</th>\n",
       "      <th>Days_to_Nearest_Holiday</th>\n",
       "      <th>Prev_Amt</th>\n",
       "      <th>Time_since_last_trans</th>\n",
       "      <th>Avg_amt_per_ProviderId_in_last_12hhrs</th>\n",
       "      <th>sum_of_amt_per_ProviderId_in_last_12hhrs</th>\n",
       "      <th>max_amt_per_ProviderId_in_last_12hhrs</th>\n",
       "      <th>...</th>\n",
       "      <th>Hour_7</th>\n",
       "      <th>Hour_8</th>\n",
       "      <th>Hour_9</th>\n",
       "      <th>Weekday/Weekend_Weekend</th>\n",
       "      <th>Holiday_Yes</th>\n",
       "      <th>Form_Debit</th>\n",
       "      <th>Suspicious_Suspicious</th>\n",
       "      <th>Suspicious_Very Suspicious</th>\n",
       "      <th>Multiple_Sub_by_Customer_Yes</th>\n",
       "      <th>Multiple_Sub_by_Acc_Yes</th>\n",
       "    </tr>\n",
       "  </thead>\n",
       "  <tbody>\n",
       "    <tr>\n",
       "      <th>13447</th>\n",
       "      <td>-70.0</td>\n",
       "      <td>3</td>\n",
       "      <td>30893</td>\n",
       "      <td>0.0</td>\n",
       "      <td>23</td>\n",
       "      <td>3500.0</td>\n",
       "      <td>0.333333</td>\n",
       "      <td>-232.500000</td>\n",
       "      <td>-930.0</td>\n",
       "      <td>-18.0</td>\n",
       "      <td>...</td>\n",
       "      <td>0</td>\n",
       "      <td>0</td>\n",
       "      <td>0</td>\n",
       "      <td>0</td>\n",
       "      <td>0</td>\n",
       "      <td>0</td>\n",
       "      <td>0</td>\n",
       "      <td>0</td>\n",
       "      <td>1</td>\n",
       "      <td>1</td>\n",
       "    </tr>\n",
       "    <tr>\n",
       "      <th>26074</th>\n",
       "      <td>-75.0</td>\n",
       "      <td>3</td>\n",
       "      <td>30893</td>\n",
       "      <td>0.0</td>\n",
       "      <td>11</td>\n",
       "      <td>1500.0</td>\n",
       "      <td>0.416667</td>\n",
       "      <td>-76.071429</td>\n",
       "      <td>-1065.0</td>\n",
       "      <td>-20.0</td>\n",
       "      <td>...</td>\n",
       "      <td>1</td>\n",
       "      <td>0</td>\n",
       "      <td>0</td>\n",
       "      <td>0</td>\n",
       "      <td>0</td>\n",
       "      <td>0</td>\n",
       "      <td>0</td>\n",
       "      <td>0</td>\n",
       "      <td>1</td>\n",
       "      <td>1</td>\n",
       "    </tr>\n",
       "    <tr>\n",
       "      <th>65964</th>\n",
       "      <td>2000.0</td>\n",
       "      <td>3</td>\n",
       "      <td>359</td>\n",
       "      <td>0.0</td>\n",
       "      <td>6</td>\n",
       "      <td>1500.0</td>\n",
       "      <td>12.966667</td>\n",
       "      <td>2014.285714</td>\n",
       "      <td>14100.0</td>\n",
       "      <td>5000.0</td>\n",
       "      <td>...</td>\n",
       "      <td>1</td>\n",
       "      <td>0</td>\n",
       "      <td>0</td>\n",
       "      <td>0</td>\n",
       "      <td>0</td>\n",
       "      <td>1</td>\n",
       "      <td>0</td>\n",
       "      <td>0</td>\n",
       "      <td>1</td>\n",
       "      <td>0</td>\n",
       "    </tr>\n",
       "    <tr>\n",
       "      <th>89786</th>\n",
       "      <td>10000.0</td>\n",
       "      <td>3</td>\n",
       "      <td>3</td>\n",
       "      <td>0.0</td>\n",
       "      <td>8</td>\n",
       "      <td>1000.0</td>\n",
       "      <td>2.200000</td>\n",
       "      <td>10000.000000</td>\n",
       "      <td>10000.0</td>\n",
       "      <td>10000.0</td>\n",
       "      <td>...</td>\n",
       "      <td>0</td>\n",
       "      <td>0</td>\n",
       "      <td>0</td>\n",
       "      <td>0</td>\n",
       "      <td>0</td>\n",
       "      <td>1</td>\n",
       "      <td>0</td>\n",
       "      <td>0</td>\n",
       "      <td>1</td>\n",
       "      <td>0</td>\n",
       "    </tr>\n",
       "    <tr>\n",
       "      <th>16997</th>\n",
       "      <td>20000.0</td>\n",
       "      <td>3</td>\n",
       "      <td>66</td>\n",
       "      <td>1800.0</td>\n",
       "      <td>21</td>\n",
       "      <td>-100.0</td>\n",
       "      <td>173.900000</td>\n",
       "      <td>12500.000000</td>\n",
       "      <td>25000.0</td>\n",
       "      <td>20000.0</td>\n",
       "      <td>...</td>\n",
       "      <td>0</td>\n",
       "      <td>0</td>\n",
       "      <td>0</td>\n",
       "      <td>0</td>\n",
       "      <td>0</td>\n",
       "      <td>1</td>\n",
       "      <td>0</td>\n",
       "      <td>0</td>\n",
       "      <td>1</td>\n",
       "      <td>0</td>\n",
       "    </tr>\n",
       "  </tbody>\n",
       "</table>\n",
       "<p>5 rows × 204 columns</p>\n",
       "</div>"
      ],
      "text/plain": [
       "        Amount  PricingStrategy  No. Customers per Acc  ExtraCharges  \\\n",
       "13447    -70.0                3                  30893           0.0   \n",
       "26074    -75.0                3                  30893           0.0   \n",
       "65964   2000.0                3                    359           0.0   \n",
       "89786  10000.0                3                      3           0.0   \n",
       "16997  20000.0                3                     66        1800.0   \n",
       "\n",
       "       Days_to_Nearest_Holiday  Prev_Amt  Time_since_last_trans  \\\n",
       "13447                       23    3500.0               0.333333   \n",
       "26074                       11    1500.0               0.416667   \n",
       "65964                        6    1500.0              12.966667   \n",
       "89786                        8    1000.0               2.200000   \n",
       "16997                       21    -100.0             173.900000   \n",
       "\n",
       "       Avg_amt_per_ProviderId_in_last_12hhrs  \\\n",
       "13447                            -232.500000   \n",
       "26074                             -76.071429   \n",
       "65964                            2014.285714   \n",
       "89786                           10000.000000   \n",
       "16997                           12500.000000   \n",
       "\n",
       "       sum_of_amt_per_ProviderId_in_last_12hhrs  \\\n",
       "13447                                    -930.0   \n",
       "26074                                   -1065.0   \n",
       "65964                                   14100.0   \n",
       "89786                                   10000.0   \n",
       "16997                                   25000.0   \n",
       "\n",
       "       max_amt_per_ProviderId_in_last_12hhrs  ...  Hour_7  Hour_8  Hour_9  \\\n",
       "13447                                  -18.0  ...       0       0       0   \n",
       "26074                                  -20.0  ...       1       0       0   \n",
       "65964                                 5000.0  ...       1       0       0   \n",
       "89786                                10000.0  ...       0       0       0   \n",
       "16997                                20000.0  ...       0       0       0   \n",
       "\n",
       "       Weekday/Weekend_Weekend  Holiday_Yes  Form_Debit  \\\n",
       "13447                        0            0           0   \n",
       "26074                        0            0           0   \n",
       "65964                        0            0           1   \n",
       "89786                        0            0           1   \n",
       "16997                        0            0           1   \n",
       "\n",
       "       Suspicious_Suspicious  Suspicious_Very Suspicious  \\\n",
       "13447                      0                           0   \n",
       "26074                      0                           0   \n",
       "65964                      0                           0   \n",
       "89786                      0                           0   \n",
       "16997                      0                           0   \n",
       "\n",
       "       Multiple_Sub_by_Customer_Yes  Multiple_Sub_by_Acc_Yes  \n",
       "13447                             1                        1  \n",
       "26074                             1                        1  \n",
       "65964                             1                        0  \n",
       "89786                             1                        0  \n",
       "16997                             1                        0  \n",
       "\n",
       "[5 rows x 204 columns]"
      ]
     },
     "execution_count": 29,
     "metadata": {},
     "output_type": "execute_result"
    }
   ],
   "source": [
    "X_test.head()"
   ]
  },
  {
   "cell_type": "code",
   "execution_count": 30,
   "metadata": {},
   "outputs": [],
   "source": [
    "from sklearn.utils import resample"
   ]
  },
  {
   "cell_type": "code",
   "execution_count": 31,
   "metadata": {},
   "outputs": [],
   "source": [
    "# concatenate our training data back together\n",
    "X = pd.concat([X_train, y_train], axis=1)\n",
    "\n",
    "# separate minority and majority classes\n",
    "not_fraud = X[X.FraudResult==0]\n",
    "fraud = X[X.FraudResult==1]\n",
    "\n",
    "# upsample minority\n",
    "fraud_upsampled = resample(fraud,\n",
    "                          replace=True, # sample with replacement\n",
    "                          n_samples=len(not_fraud), # match number in majority class\n",
    "                          random_state=27) # reproducible results\n",
    "\n",
    "# combine majority and upsampled minority\n",
    "upsampled = pd.concat([not_fraud, fraud_upsampled])\n",
    "\n",
    "# check new class counts\n",
    "upsampled.FraudResult.value_counts()\n",
    "\n",
    "y_train_upsampled = upsampled.FraudResult\n",
    "X_train_upsampled = upsampled.drop('FraudResult', axis=1)"
   ]
  },
  {
   "cell_type": "code",
   "execution_count": 32,
   "metadata": {},
   "outputs": [
    {
     "data": {
      "text/plain": [
       "1    76375\n",
       "0    76375\n",
       "Name: FraudResult, dtype: int64"
      ]
     },
     "execution_count": 32,
     "metadata": {},
     "output_type": "execute_result"
    }
   ],
   "source": [
    "y_train_upsampled.value_counts()"
   ]
  },
  {
   "cell_type": "code",
   "execution_count": 33,
   "metadata": {},
   "outputs": [],
   "source": [
    "# downsample majority\n",
    "not_fraud_downsampled = resample(not_fraud,\n",
    "                                replace = False, # sample without replacement\n",
    "                                n_samples = len(fraud), # match minority n\n",
    "                                random_state = 27) # reproducible results\n",
    "\n",
    "# combine minority and downsampled majority\n",
    "downsampled = pd.concat([not_fraud_downsampled, fraud])\n",
    "\n",
    "# checking counts\n",
    "downsampled.FraudResult.value_counts()\n",
    "\n",
    "y_train_downsampled = downsampled.FraudResult\n",
    "X_train_downsampled = downsampled.drop('FraudResult', axis=1)"
   ]
  },
  {
   "cell_type": "code",
   "execution_count": 34,
   "metadata": {},
   "outputs": [
    {
     "data": {
      "text/plain": [
       "1    154\n",
       "0    154\n",
       "Name: FraudResult, dtype: int64"
      ]
     },
     "execution_count": 34,
     "metadata": {},
     "output_type": "execute_result"
    }
   ],
   "source": [
    "y_train_downsampled.value_counts()"
   ]
  },
  {
   "cell_type": "code",
   "execution_count": null,
   "metadata": {},
   "outputs": [],
   "source": []
  },
  {
   "cell_type": "code",
   "execution_count": 31,
   "metadata": {},
   "outputs": [],
   "source": [
    "from sklearn.model_selection import TimeSeriesSplit"
   ]
  },
  {
   "cell_type": "code",
   "execution_count": 32,
   "metadata": {},
   "outputs": [],
   "source": [
    "cv = StratifiedKFold(n_splits=5, random_state=42)\n",
    "tss = TimeSeriesSplit(n_splits=5)"
   ]
  },
  {
   "cell_type": "code",
   "execution_count": null,
   "metadata": {},
   "outputs": [],
   "source": []
  },
  {
   "cell_type": "code",
   "execution_count": 33,
   "metadata": {},
   "outputs": [],
   "source": [
    "from sklearn.ensemble import RandomForestClassifier\n",
    "from sklearn.tree import DecisionTreeClassifier\n",
    "import xgboost as xgb\n",
    "import lightgbm as lgb\n",
    "import catboost as cat\n",
    "from sklearn.svm import SVC\n",
    "from sklearn.linear_model import LogisticRegression\n",
    "from sklearn.ensemble import ExtraTreesClassifier\n",
    "from sklearn.ensemble import BaggingClassifier\n",
    "from sklearn.ensemble import GradientBoostingClassifier\n",
    "from sklearn.ensemble import AdaBoostClassifier"
   ]
  },
  {
   "cell_type": "code",
   "execution_count": 34,
   "metadata": {},
   "outputs": [],
   "source": [
    "from sklearn.feature_selection import SelectKBest\n",
    "from sklearn.feature_selection import chi2, f_classif\n",
    "from sklearn.feature_selection import RFE"
   ]
  },
  {
   "cell_type": "markdown",
   "metadata": {},
   "source": [
    "<h2>Random Forest</h2>"
   ]
  },
  {
   "cell_type": "code",
   "execution_count": 43,
   "metadata": {},
   "outputs": [
    {
     "data": {
      "text/plain": [
       "RandomForestClassifier(bootstrap=True, class_weight=None, criterion='gini',\n",
       "            max_depth=5, max_features='auto', max_leaf_nodes=None,\n",
       "            min_impurity_decrease=0.0, min_impurity_split=None,\n",
       "            min_samples_leaf=1, min_samples_split=2,\n",
       "            min_weight_fraction_leaf=0.0, n_estimators=100, n_jobs=-1,\n",
       "            oob_score=False, random_state=42, verbose=0, warm_start=False)"
      ]
     },
     "execution_count": 43,
     "metadata": {},
     "output_type": "execute_result"
    }
   ],
   "source": [
    "#cost-sensitive classification\n",
    "rfc = RandomForestClassifier(n_estimators=100, n_jobs=-1, random_state=42)\n",
    "rfc.fit(X_train, y_train)"
   ]
  },
  {
   "cell_type": "code",
   "execution_count": 44,
   "metadata": {},
   "outputs": [
    {
     "data": {
      "text/plain": [
       "0.8327619250983535"
      ]
     },
     "execution_count": 44,
     "metadata": {},
     "output_type": "execute_result"
    }
   ],
   "source": [
    "rfc_cost_score = cross_val_score(rfc, X_train, y_train, scoring='f1', cv=tss, n_jobs=-1).mean()\n",
    "rfc_cost_score"
   ]
  },
  {
   "cell_type": "code",
   "execution_count": 43,
   "metadata": {},
   "outputs": [
    {
     "name": "stdout",
     "output_type": "stream",
     "text": [
      "Precision: 0.8606489886924669\n",
      "Recall: 0.8366114561766735\n"
     ]
    }
   ],
   "source": [
    "print('Precision: {}'.format(cross_val_score(rfc, X_train, y_train, scoring='precision', cv=tss, n_jobs=-1).mean()))\n",
    "print('Recall: {}'.format(cross_val_score(rfc, X_train, y_train, scoring='recall', cv=tss, n_jobs=-1).mean()))"
   ]
  },
  {
   "cell_type": "code",
   "execution_count": 44,
   "metadata": {},
   "outputs": [
    {
     "name": "stdout",
     "output_type": "stream",
     "text": [
      "1.0\n",
      "0.8799999999999999\n"
     ]
    }
   ],
   "source": [
    "rfc_train_cost = f1_score(y_train, rfc.predict(X_train))\n",
    "rfc_test_cost = f1_score(y_test, rfc.predict(X_test))\n",
    "\n",
    "print(rfc_train_cost)\n",
    "print(rfc_test_cost)"
   ]
  },
  {
   "cell_type": "code",
   "execution_count": 45,
   "metadata": {},
   "outputs": [
    {
     "data": {
      "text/html": [
       "<div>\n",
       "<style scoped>\n",
       "    .dataframe tbody tr th:only-of-type {\n",
       "        vertical-align: middle;\n",
       "    }\n",
       "\n",
       "    .dataframe tbody tr th {\n",
       "        vertical-align: top;\n",
       "    }\n",
       "\n",
       "    .dataframe thead th {\n",
       "        text-align: right;\n",
       "    }\n",
       "</style>\n",
       "<table border=\"1\" class=\"dataframe\">\n",
       "  <thead>\n",
       "    <tr style=\"text-align: right;\">\n",
       "      <th></th>\n",
       "      <th>Feat.</th>\n",
       "      <th>Importances</th>\n",
       "    </tr>\n",
       "  </thead>\n",
       "  <tbody>\n",
       "    <tr>\n",
       "      <th>0</th>\n",
       "      <td>Amount</td>\n",
       "      <td>0.105480</td>\n",
       "    </tr>\n",
       "    <tr>\n",
       "      <th>115</th>\n",
       "      <td>Amount_to_mean_ChannelId</td>\n",
       "      <td>0.064642</td>\n",
       "    </tr>\n",
       "    <tr>\n",
       "      <th>116</th>\n",
       "      <td>Amount_to_std_ChannelId</td>\n",
       "      <td>0.053603</td>\n",
       "    </tr>\n",
       "    <tr>\n",
       "      <th>112</th>\n",
       "      <td>Amount_to_std_PricingStrategy</td>\n",
       "      <td>0.049519</td>\n",
       "    </tr>\n",
       "    <tr>\n",
       "      <th>114</th>\n",
       "      <td>Amount_to_std_ProductCategory</td>\n",
       "      <td>0.041533</td>\n",
       "    </tr>\n",
       "    <tr>\n",
       "      <th>7</th>\n",
       "      <td>Avg_amt_per_ProviderId_in_last_12hhrs</td>\n",
       "      <td>0.034030</td>\n",
       "    </tr>\n",
       "    <tr>\n",
       "      <th>113</th>\n",
       "      <td>Amount_to_mean_ProductCategory</td>\n",
       "      <td>0.025987</td>\n",
       "    </tr>\n",
       "    <tr>\n",
       "      <th>9</th>\n",
       "      <td>max_amt_per_ProviderId_in_last_12hhrs</td>\n",
       "      <td>0.023784</td>\n",
       "    </tr>\n",
       "    <tr>\n",
       "      <th>13</th>\n",
       "      <td>max_amt_per_ProviderId_in_last_24hhrs</td>\n",
       "      <td>0.022635</td>\n",
       "    </tr>\n",
       "    <tr>\n",
       "      <th>111</th>\n",
       "      <td>Amount_to_mean_PricingStrategy</td>\n",
       "      <td>0.022162</td>\n",
       "    </tr>\n",
       "    <tr>\n",
       "      <th>59</th>\n",
       "      <td>Avg_amt_per_ProductId_in_last_24hhrs</td>\n",
       "      <td>0.020918</td>\n",
       "    </tr>\n",
       "    <tr>\n",
       "      <th>23</th>\n",
       "      <td>Avg_amt_per_ProductCategory_in_last_12hhrs</td>\n",
       "      <td>0.018771</td>\n",
       "    </tr>\n",
       "  </tbody>\n",
       "</table>\n",
       "</div>"
      ],
      "text/plain": [
       "                                          Feat.  Importances\n",
       "0                                        Amount     0.105480\n",
       "115                    Amount_to_mean_ChannelId     0.064642\n",
       "116                     Amount_to_std_ChannelId     0.053603\n",
       "112               Amount_to_std_PricingStrategy     0.049519\n",
       "114               Amount_to_std_ProductCategory     0.041533\n",
       "7         Avg_amt_per_ProviderId_in_last_12hhrs     0.034030\n",
       "113              Amount_to_mean_ProductCategory     0.025987\n",
       "9         max_amt_per_ProviderId_in_last_12hhrs     0.023784\n",
       "13        max_amt_per_ProviderId_in_last_24hhrs     0.022635\n",
       "111              Amount_to_mean_PricingStrategy     0.022162\n",
       "59         Avg_amt_per_ProductId_in_last_24hhrs     0.020918\n",
       "23   Avg_amt_per_ProductCategory_in_last_12hhrs     0.018771"
      ]
     },
     "execution_count": 45,
     "metadata": {},
     "output_type": "execute_result"
    }
   ],
   "source": [
    "rfc_importances = rfc.feature_importances_\n",
    "rfc_features = X_train.columns\n",
    "\n",
    "rfc_feat_importances = pd.DataFrame({'Feat.' : rfc_features, 'Importances' : rfc_importances}).sort_values(by='Importances', ascending=False)\n",
    "rfc_feat_importances[:12]"
   ]
  },
  {
   "cell_type": "markdown",
   "metadata": {},
   "source": [
    "<h4>Feature Importance</h4>"
   ]
  },
  {
   "cell_type": "code",
   "execution_count": 46,
   "metadata": {},
   "outputs": [
    {
     "data": {
      "text/plain": [
       "RandomForestClassifier(bootstrap=True, class_weight=None, criterion='gini',\n",
       "            max_depth=None, max_features='auto', max_leaf_nodes=None,\n",
       "            min_impurity_decrease=0.0, min_impurity_split=None,\n",
       "            min_samples_leaf=1, min_samples_split=2,\n",
       "            min_weight_fraction_leaf=0.0, n_estimators=100, n_jobs=-1,\n",
       "            oob_score=False, random_state=42, verbose=0, warm_start=False)"
      ]
     },
     "execution_count": 46,
     "metadata": {},
     "output_type": "execute_result"
    }
   ],
   "source": [
    "#with top 12 features\n",
    "rfc_12 = RandomForestClassifier(n_estimators=100, n_jobs=-1, random_state=42)\n",
    "rfc_12.fit(X_train.loc[:, rfc_feat_importances['Feat.'][:12]], y_train)"
   ]
  },
  {
   "cell_type": "code",
   "execution_count": 47,
   "metadata": {},
   "outputs": [
    {
     "data": {
      "text/plain": [
       "0.8951491156708548"
      ]
     },
     "execution_count": 47,
     "metadata": {},
     "output_type": "execute_result"
    }
   ],
   "source": [
    "rfc_12_score = cross_val_score(rfc_12, X_train.loc[:, rfc_feat_importances['Feat.'][:12]], y_train, scoring='f1', cv=tss, n_jobs=-1).mean()\n",
    "rfc_12_score"
   ]
  },
  {
   "cell_type": "code",
   "execution_count": 48,
   "metadata": {},
   "outputs": [
    {
     "name": "stdout",
     "output_type": "stream",
     "text": [
      "Precision: 0.9526621715880028\n",
      "Recall: 0.8471244536461928\n"
     ]
    }
   ],
   "source": [
    "print('Precision: {}'.format(cross_val_score(rfc_12, X_train.loc[:, rfc_feat_importances['Feat.'][:12]], y_train, scoring='precision', cv=tss, n_jobs=-1).mean()))\n",
    "print('Recall: {}'.format(cross_val_score(rfc_12, X_train.loc[:, rfc_feat_importances['Feat.'][:12]], y_train, scoring='recall', cv=tss, n_jobs=-1).mean()))"
   ]
  },
  {
   "cell_type": "code",
   "execution_count": 99,
   "metadata": {},
   "outputs": [
    {
     "name": "stdout",
     "output_type": "stream",
     "text": [
      "0.9837133550488599\n",
      "0.9066666666666667\n"
     ]
    }
   ],
   "source": [
    "rfc_train_12 = f1_score(y_train, rfc_12.predict(X_train.loc[:, rfc_feat_importances['Feat.'][:12]]))\n",
    "rfc_test_12 = f1_score(y_test, rfc_12.predict(X_test.loc[:, rfc_feat_importances['Feat.'][:12]]))\n",
    "\n",
    "print(rfc_train_12)\n",
    "print(rfc_test_12)"
   ]
  },
  {
   "cell_type": "code",
   "execution_count": 50,
   "metadata": {},
   "outputs": [],
   "source": [
    "test_predictions = rfc_12.predict(test_data.loc[:, rfc_feat_importances['Feat.'][:12]])\n",
    "\n",
    "submission = pd.DataFrame({'TransactionId' : testTransId, 'FraudResult' : test_predictions})\n",
    "submission.to_csv('rfc_12_initial.csv', index=False)"
   ]
  },
  {
   "cell_type": "code",
   "execution_count": null,
   "metadata": {},
   "outputs": [],
   "source": []
  },
  {
   "cell_type": "code",
   "execution_count": null,
   "metadata": {},
   "outputs": [],
   "source": []
  },
  {
   "cell_type": "markdown",
   "metadata": {},
   "source": [
    "<h2>XGBOOST</h2>"
   ]
  },
  {
   "cell_type": "code",
   "execution_count": 48,
   "metadata": {},
   "outputs": [],
   "source": [
    "#cost sensitive"
   ]
  },
  {
   "cell_type": "code",
   "execution_count": 35,
   "metadata": {},
   "outputs": [
    {
     "data": {
      "text/plain": [
       "XGBClassifier(base_score=0.5, booster='gbtree', colsample_bylevel=1,\n",
       "       colsample_bynode=1, colsample_bytree=1, gamma=0, learning_rate=0.1,\n",
       "       max_delta_step=0, max_depth=3, min_child_weight=1, missing=None,\n",
       "       n_estimators=100, n_jobs=-1, nthread=None,\n",
       "       objective='binary:logistic', random_state=42, reg_alpha=0,\n",
       "       reg_lambda=1, scale_pos_weight=496, seed=None, silent=None,\n",
       "       subsample=1, verbosity=1)"
      ]
     },
     "execution_count": 35,
     "metadata": {},
     "output_type": "execute_result"
    }
   ],
   "source": [
    "xgbm = xgb.XGBClassifier(n_jobs=-1, random_state=42, scale_pos_weight=496)\n",
    "xgbm.fit(X_train, y_train)"
   ]
  },
  {
   "cell_type": "code",
   "execution_count": 46,
   "metadata": {},
   "outputs": [
    {
     "data": {
      "text/plain": [
       "0.8492524435366249"
      ]
     },
     "execution_count": 46,
     "metadata": {},
     "output_type": "execute_result"
    }
   ],
   "source": [
    "cross_val_score(xgbm, X_train, y_train, scoring='f1', cv=cv, n_jobs=-1, verbose=0).mean()"
   ]
  },
  {
   "cell_type": "code",
   "execution_count": 47,
   "metadata": {},
   "outputs": [
    {
     "name": "stdout",
     "output_type": "stream",
     "text": [
      "Train Score: 0.890173\n",
      "Test Score: 0.774194\n"
     ]
    }
   ],
   "source": [
    "train_predictions = xgbm.predict(X_train)\n",
    "test_predictions = xgbm.predict(X_test)\n",
    "\n",
    "print('Train Score: {:4f}'.format(f1_score(y_train, train_predictions)))\n",
    "print('Test Score: {:4f}'.format(f1_score(y_test, test_predictions)))"
   ]
  },
  {
   "cell_type": "code",
   "execution_count": 50,
   "metadata": {},
   "outputs": [
    {
     "data": {
      "text/plain": [
       "array([[19076,    18],\n",
       "       [    3,    36]], dtype=int64)"
      ]
     },
     "execution_count": 50,
     "metadata": {},
     "output_type": "execute_result"
    }
   ],
   "source": [
    "confusion_matrix(y_test, xgbm.predict(X_test))"
   ]
  },
  {
   "cell_type": "code",
   "execution_count": 65,
   "metadata": {},
   "outputs": [],
   "source": [
    "#undersampling"
   ]
  },
  {
   "cell_type": "code",
   "execution_count": 68,
   "metadata": {},
   "outputs": [
    {
     "name": "stdout",
     "output_type": "stream",
     "text": [
      "0.8035452015684574\n"
     ]
    }
   ],
   "source": [
    "f1_under = []\n",
    "\n",
    "for train, test in tss.split(X_train, y_train):\n",
    "    X = pd.concat([X_train.iloc[train], y_train.iloc[train]], axis=1)\n",
    "\n",
    "    not_fraud = X[X.FraudResult==0]\n",
    "    fraud = X[X.FraudResult==1]\n",
    "\n",
    "    not_fraud_downsampled = resample(not_fraud,\n",
    "                                replace = False, # sample without replacement\n",
    "                                n_samples = len(fraud), # match minority n\n",
    "                                random_state = 27) # reproducible results\n",
    "\n",
    "    # combine minority and downsampled majority\n",
    "    downsampled = pd.concat([not_fraud_downsampled, fraud])\n",
    "\n",
    "    # checking counts\n",
    "    downsampled.FraudResult.value_counts()\n",
    "\n",
    "    y_train_downsampled = downsampled.FraudResult\n",
    "    X_train_downsampled = downsampled.drop('FraudResult', axis=1)\n",
    "    \n",
    "    model = xgb.XGBClassifier(n_jobs=-1, random_state=42)\n",
    "    model.fit(X_train_upsampled, y_train_upsampled)\n",
    "    f1_under.append(f1_score(y_train.iloc[test], model.predict(X_train.iloc[test])))\n",
    "\n",
    "print(np.mean(f1_under))"
   ]
  },
  {
   "cell_type": "code",
   "execution_count": 67,
   "metadata": {},
   "outputs": [],
   "source": [
    "#oversampling"
   ]
  },
  {
   "cell_type": "code",
   "execution_count": 69,
   "metadata": {},
   "outputs": [
    {
     "name": "stdout",
     "output_type": "stream",
     "text": [
      "0.8922797520385177\n"
     ]
    }
   ],
   "source": [
    "f1_over = []\n",
    "\n",
    "for train, test in tss.split(X_train, y_train):\n",
    "    # concatenate our training data back together\n",
    "    X = pd.concat([X_train, y_train], axis=1)\n",
    "\n",
    "    # separate minority and majority classes\n",
    "    not_fraud = X[X.FraudResult==0]\n",
    "    fraud = X[X.FraudResult==1]\n",
    "\n",
    "    # upsample minority\n",
    "    fraud_upsampled = resample(fraud,\n",
    "                          replace=True, # sample with replacement\n",
    "                          n_samples=len(not_fraud), # match number in majority class\n",
    "                          random_state=27) # reproducible results\n",
    "\n",
    "    # combine majority and upsampled minority\n",
    "    upsampled = pd.concat([not_fraud, fraud_upsampled])\n",
    "\n",
    "    # check new class counts\n",
    "    upsampled.FraudResult.value_counts()\n",
    "\n",
    "    y_train_upsampled = upsampled.FraudResult\n",
    "    X_train_upsampled = upsampled.drop('FraudResult', axis=1)\n",
    "    \n",
    "    model = xgb.XGBClassifier(n_jobs=-1, random_state=42)\n",
    "    model.fit(X_train_upsampled, y_train_upsampled)\n",
    "    f1_over.append(f1_score(y_train.iloc[test], model.predict(X_train.iloc[test])))\n",
    "\n",
    "print(np.mean(f1_over))"
   ]
  },
  {
   "cell_type": "code",
   "execution_count": 70,
   "metadata": {},
   "outputs": [
    {
     "data": {
      "text/plain": [
       "StratifiedKFold(n_splits=5, random_state=42, shuffle=False)"
      ]
     },
     "execution_count": 70,
     "metadata": {},
     "output_type": "execute_result"
    }
   ],
   "source": [
    "cv"
   ]
  },
  {
   "cell_type": "code",
   "execution_count": 72,
   "metadata": {},
   "outputs": [
    {
     "data": {
      "text/plain": [
       "XGBClassifier(base_score=0.5, booster='gbtree', colsample_bylevel=1,\n",
       "       colsample_bynode=1, colsample_bytree=1, gamma=0, learning_rate=0.1,\n",
       "       max_delta_step=0, max_depth=3, min_child_weight=1, missing=None,\n",
       "       n_estimators=100, n_jobs=-1, nthread=None,\n",
       "       objective='binary:logistic', random_state=42, reg_alpha=0,\n",
       "       reg_lambda=1, scale_pos_weight=496, seed=None, silent=None,\n",
       "       subsample=1, verbosity=1)"
      ]
     },
     "execution_count": 72,
     "metadata": {},
     "output_type": "execute_result"
    }
   ],
   "source": [
    "xgbm"
   ]
  },
  {
   "cell_type": "code",
   "execution_count": null,
   "metadata": {},
   "outputs": [],
   "source": []
  },
  {
   "cell_type": "code",
   "execution_count": 73,
   "metadata": {},
   "outputs": [],
   "source": [
    "from xgboost import plot_importance"
   ]
  },
  {
   "cell_type": "code",
   "execution_count": 74,
   "metadata": {},
   "outputs": [
    {
     "data": {
      "text/plain": [
       "<matplotlib.axes._subplots.AxesSubplot at 0x209ad0e860>"
      ]
     },
     "execution_count": 74,
     "metadata": {},
     "output_type": "execute_result"
    },
    {
     "data": {
      "image/png": "[encoded data removed]",
      "text/plain": [
       "<Figure size 432x288 with 1 Axes>"
      ]
     },
     "metadata": {
      "needs_background": "light"
     },
     "output_type": "display_data"
    }
   ],
   "source": [
    "plot_importance(xgbm, max_num_features=15)"
   ]
  },
  {
   "cell_type": "code",
   "execution_count": 76,
   "metadata": {},
   "outputs": [
    {
     "data": {
      "text/html": [
       "<div>\n",
       "<style scoped>\n",
       "    .dataframe tbody tr th:only-of-type {\n",
       "        vertical-align: middle;\n",
       "    }\n",
       "\n",
       "    .dataframe tbody tr th {\n",
       "        vertical-align: top;\n",
       "    }\n",
       "\n",
       "    .dataframe thead th {\n",
       "        text-align: right;\n",
       "    }\n",
       "</style>\n",
       "<table border=\"1\" class=\"dataframe\">\n",
       "  <thead>\n",
       "    <tr style=\"text-align: right;\">\n",
       "      <th></th>\n",
       "      <th>Feat.</th>\n",
       "      <th>Importance</th>\n",
       "    </tr>\n",
       "  </thead>\n",
       "  <tbody>\n",
       "    <tr>\n",
       "      <th>8</th>\n",
       "      <td>sum_of_amt_per_ProviderId_in_last_12hhrs</td>\n",
       "      <td>0.346181</td>\n",
       "    </tr>\n",
       "    <tr>\n",
       "      <th>115</th>\n",
       "      <td>Amount_to_mean_ChannelId</td>\n",
       "      <td>0.261299</td>\n",
       "    </tr>\n",
       "    <tr>\n",
       "      <th>79</th>\n",
       "      <td>Avg_amt_per_PricingStrategy_in_last_72hhrs</td>\n",
       "      <td>0.152574</td>\n",
       "    </tr>\n",
       "    <tr>\n",
       "      <th>6</th>\n",
       "      <td>Time_since_last_trans</td>\n",
       "      <td>0.052989</td>\n",
       "    </tr>\n",
       "    <tr>\n",
       "      <th>57</th>\n",
       "      <td>max_amt_per_ProductId_in_last_12hhrs</td>\n",
       "      <td>0.022151</td>\n",
       "    </tr>\n",
       "  </tbody>\n",
       "</table>\n",
       "</div>"
      ],
      "text/plain": [
       "                                          Feat.  Importance\n",
       "8      sum_of_amt_per_ProviderId_in_last_12hhrs    0.346181\n",
       "115                    Amount_to_mean_ChannelId    0.261299\n",
       "79   Avg_amt_per_PricingStrategy_in_last_72hhrs    0.152574\n",
       "6                         Time_since_last_trans    0.052989\n",
       "57         max_amt_per_ProductId_in_last_12hhrs    0.022151"
      ]
     },
     "execution_count": 76,
     "metadata": {},
     "output_type": "execute_result"
    }
   ],
   "source": [
    "xgbm_ft_imp = xgbm.feature_importances_\n",
    "\n",
    "importances = pd.DataFrame({'Feat.' : X_train.columns, 'Importance' : xgbm_ft_imp}).sort_values(by='Importance', ascending=False)\n",
    "importances.head()"
   ]
  },
  {
   "cell_type": "code",
   "execution_count": 36,
   "metadata": {},
   "outputs": [
    {
     "data": {
      "text/plain": [
       "XGBClassifier(base_score=0.5, booster='gbtree', colsample_bylevel=1,\n",
       "       colsample_bynode=1, colsample_bytree=1, gamma=0, learning_rate=0.1,\n",
       "       max_delta_step=0, max_depth=3, min_child_weight=1, missing=None,\n",
       "       n_estimators=100, n_jobs=-1, nthread=None,\n",
       "       objective='binary:logistic', random_state=42, reg_alpha=0,\n",
       "       reg_lambda=1, scale_pos_weight=496, seed=None, silent=None,\n",
       "       subsample=1, verbosity=1)"
      ]
     },
     "execution_count": 36,
     "metadata": {},
     "output_type": "execute_result"
    }
   ],
   "source": [
    "xgbm"
   ]
  },
  {
   "cell_type": "code",
   "execution_count": 43,
   "metadata": {},
   "outputs": [],
   "source": [
    "predictions = xgbm.predict(test_data)\n",
    "\n",
    "\n",
    "submission = pd.DataFrame({'TransactionId' : testTransId, 'FraudResult' : predictions})\n",
    "submission.to_csv('submission.csv', index=False)\n",
    "\n",
    "\n",
    "#0.5....."
   ]
  },
  {
   "cell_type": "code",
   "execution_count": null,
   "metadata": {},
   "outputs": [],
   "source": []
  }
 ],
 "metadata": {
  "kernelspec": {
   "display_name": "Python 3",
   "language": "python",
   "name": "python3"
  },
  "language_info": {
   "codemirror_mode": {
    "name": "ipython",
    "version": 3
   },
   "file_extension": ".py",
   "mimetype": "text/x-python",
   "name": "python",
   "nbconvert_exporter": "python",
   "pygments_lexer": "ipython3",
   "version": "3.7.4"
  }
 },
 "nbformat": 4,
 "nbformat_minor": 2
}
