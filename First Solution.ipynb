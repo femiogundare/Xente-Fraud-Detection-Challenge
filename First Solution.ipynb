{
 "cells": [
  {
   "cell_type": "code",
   "execution_count": 1,
   "metadata": {},
   "outputs": [],
   "source": [
    "import numpy as np\n",
    "import pandas as pd\n",
    "import seaborn as sns\n",
    "import matplotlib.pyplot as plt\n",
    "%matplotlib inline\n",
    "\n",
    "import time\n",
    "from collections import Counter\n",
    "from sklearn.preprocessing import LabelEncoder\n",
    "from sklearn.model_selection import train_test_split, RandomizedSearchCV, GridSearchCV, StratifiedKFold, StratifiedShuffleSplit, cross_val_score\n",
    "from sklearn.pipeline import make_pipeline\n",
    "#from imblearn.pipeline import make_pipeline as make_pipeline_imb\n",
    "##from imblearn.over_sampling import SMOTE\n",
    "#from imblearn.under_sampling import NearMiss\n",
    "#from imblearn.metrics import classification_report_imbalanced\n",
    "from sklearn.metrics import confusion_matrix, classification_report, precision_score, recall_score, f1_score, precision_recall_curve"
   ]
  },
  {
   "cell_type": "code",
   "execution_count": 2,
   "metadata": {},
   "outputs": [],
   "source": [
    "train_data = pd.read_csv('training.csv', sep=',')\n",
    "test_data = pd.read_csv('test.csv', sep=',')"
   ]
  },
  {
   "cell_type": "code",
   "execution_count": 6,
   "metadata": {},
   "outputs": [],
   "source": [
    "pd.DataFrame({'Time' : train_data['TransactionStartTime']}).to_csv('train_trans_time.csv', index=False)\n",
    "pd.DataFrame({'Time' : test_data['TransactionStartTime']}).to_csv('test_trans_time.csv', index=False)"
   ]
  },
  {
   "cell_type": "code",
   "execution_count": null,
   "metadata": {},
   "outputs": [],
   "source": []
  },
  {
   "cell_type": "code",
   "execution_count": 4,
   "metadata": {},
   "outputs": [],
   "source": [
    "train_data.drop([\n",
    "    'TransactionId', 'BatchId', 'AccountId', 'SubscriptionId', 'CustomerId', 'CurrencyCode',\n",
    "    'CountryCode', 'ProductId'\n",
    "], axis=1, inplace=True)\n",
    "\n",
    "testTransId = test_data['TransactionId']\n",
    "test_data.drop([\n",
    "    'TransactionId', 'BatchId', 'AccountId', 'SubscriptionId', 'CustomerId', 'CurrencyCode',\n",
    "    'CountryCode', 'ProductId'], axis=1, inplace=True)"
   ]
  },
  {
   "cell_type": "code",
   "execution_count": 4,
   "metadata": {},
   "outputs": [
    {
     "data": {
      "text/html": [
       "<div>\n",
       "<style scoped>\n",
       "    .dataframe tbody tr th:only-of-type {\n",
       "        vertical-align: middle;\n",
       "    }\n",
       "\n",
       "    .dataframe tbody tr th {\n",
       "        vertical-align: top;\n",
       "    }\n",
       "\n",
       "    .dataframe thead th {\n",
       "        text-align: right;\n",
       "    }\n",
       "</style>\n",
       "<table border=\"1\" class=\"dataframe\">\n",
       "  <thead>\n",
       "    <tr style=\"text-align: right;\">\n",
       "      <th></th>\n",
       "      <th>ProviderId</th>\n",
       "      <th>ProductCategory</th>\n",
       "      <th>ChannelId</th>\n",
       "      <th>Amount</th>\n",
       "      <th>Value</th>\n",
       "      <th>TransactionStartTime</th>\n",
       "      <th>PricingStrategy</th>\n",
       "      <th>FraudResult</th>\n",
       "    </tr>\n",
       "  </thead>\n",
       "  <tbody>\n",
       "    <tr>\n",
       "      <th>0</th>\n",
       "      <td>ProviderId_6</td>\n",
       "      <td>airtime</td>\n",
       "      <td>ChannelId_3</td>\n",
       "      <td>1000.0</td>\n",
       "      <td>1000</td>\n",
       "      <td>2018-11-15T02:18:49Z</td>\n",
       "      <td>2</td>\n",
       "      <td>0</td>\n",
       "    </tr>\n",
       "    <tr>\n",
       "      <th>1</th>\n",
       "      <td>ProviderId_4</td>\n",
       "      <td>financial_services</td>\n",
       "      <td>ChannelId_2</td>\n",
       "      <td>-20.0</td>\n",
       "      <td>20</td>\n",
       "      <td>2018-11-15T02:19:08Z</td>\n",
       "      <td>2</td>\n",
       "      <td>0</td>\n",
       "    </tr>\n",
       "    <tr>\n",
       "      <th>2</th>\n",
       "      <td>ProviderId_6</td>\n",
       "      <td>airtime</td>\n",
       "      <td>ChannelId_3</td>\n",
       "      <td>500.0</td>\n",
       "      <td>500</td>\n",
       "      <td>2018-11-15T02:44:21Z</td>\n",
       "      <td>2</td>\n",
       "      <td>0</td>\n",
       "    </tr>\n",
       "  </tbody>\n",
       "</table>\n",
       "</div>"
      ],
      "text/plain": [
       "     ProviderId     ProductCategory    ChannelId  Amount  Value  \\\n",
       "0  ProviderId_6             airtime  ChannelId_3  1000.0   1000   \n",
       "1  ProviderId_4  financial_services  ChannelId_2   -20.0     20   \n",
       "2  ProviderId_6             airtime  ChannelId_3   500.0    500   \n",
       "\n",
       "   TransactionStartTime  PricingStrategy  FraudResult  \n",
       "0  2018-11-15T02:18:49Z                2            0  \n",
       "1  2018-11-15T02:19:08Z                2            0  \n",
       "2  2018-11-15T02:44:21Z                2            0  "
      ]
     },
     "execution_count": 4,
     "metadata": {},
     "output_type": "execute_result"
    }
   ],
   "source": [
    "train_data.head(3)"
   ]
  },
  {
   "cell_type": "code",
   "execution_count": 5,
   "metadata": {},
   "outputs": [],
   "source": [
    "def amount_value(data):\n",
    "    amount = data[0]\n",
    "    value = data[1]\n",
    "    \n",
    "    if np.abs(amount) != value:\n",
    "        return value - np.abs(amount)\n",
    "    else:\n",
    "        return 0\n",
    "    \n",
    "train_data['ExtraCharges'] = train_data[['Amount', 'Value']].apply(amount_value, axis=1)\n",
    "test_data['ExtraCharges'] = test_data[['Amount', 'Value']].apply(amount_value, axis=1)"
   ]
  },
  {
   "cell_type": "code",
   "execution_count": 6,
   "metadata": {},
   "outputs": [
    {
     "data": {
      "text/html": [
       "<div>\n",
       "<style scoped>\n",
       "    .dataframe tbody tr th:only-of-type {\n",
       "        vertical-align: middle;\n",
       "    }\n",
       "\n",
       "    .dataframe tbody tr th {\n",
       "        vertical-align: top;\n",
       "    }\n",
       "\n",
       "    .dataframe thead th {\n",
       "        text-align: right;\n",
       "    }\n",
       "</style>\n",
       "<table border=\"1\" class=\"dataframe\">\n",
       "  <thead>\n",
       "    <tr style=\"text-align: right;\">\n",
       "      <th></th>\n",
       "      <th>ProviderId</th>\n",
       "      <th>ProductCategory</th>\n",
       "      <th>ChannelId</th>\n",
       "      <th>Amount</th>\n",
       "      <th>Value</th>\n",
       "      <th>TransactionStartTime</th>\n",
       "      <th>PricingStrategy</th>\n",
       "      <th>FraudResult</th>\n",
       "      <th>ExtraCharges</th>\n",
       "    </tr>\n",
       "  </thead>\n",
       "  <tbody>\n",
       "    <tr>\n",
       "      <th>0</th>\n",
       "      <td>ProviderId_6</td>\n",
       "      <td>airtime</td>\n",
       "      <td>ChannelId_3</td>\n",
       "      <td>1000.0</td>\n",
       "      <td>1000</td>\n",
       "      <td>2018-11-15T02:18:49Z</td>\n",
       "      <td>2</td>\n",
       "      <td>0</td>\n",
       "      <td>0.0</td>\n",
       "    </tr>\n",
       "    <tr>\n",
       "      <th>1</th>\n",
       "      <td>ProviderId_4</td>\n",
       "      <td>financial_services</td>\n",
       "      <td>ChannelId_2</td>\n",
       "      <td>-20.0</td>\n",
       "      <td>20</td>\n",
       "      <td>2018-11-15T02:19:08Z</td>\n",
       "      <td>2</td>\n",
       "      <td>0</td>\n",
       "      <td>0.0</td>\n",
       "    </tr>\n",
       "    <tr>\n",
       "      <th>2</th>\n",
       "      <td>ProviderId_6</td>\n",
       "      <td>airtime</td>\n",
       "      <td>ChannelId_3</td>\n",
       "      <td>500.0</td>\n",
       "      <td>500</td>\n",
       "      <td>2018-11-15T02:44:21Z</td>\n",
       "      <td>2</td>\n",
       "      <td>0</td>\n",
       "      <td>0.0</td>\n",
       "    </tr>\n",
       "  </tbody>\n",
       "</table>\n",
       "</div>"
      ],
      "text/plain": [
       "     ProviderId     ProductCategory    ChannelId  Amount  Value  \\\n",
       "0  ProviderId_6             airtime  ChannelId_3  1000.0   1000   \n",
       "1  ProviderId_4  financial_services  ChannelId_2   -20.0     20   \n",
       "2  ProviderId_6             airtime  ChannelId_3   500.0    500   \n",
       "\n",
       "   TransactionStartTime  PricingStrategy  FraudResult  ExtraCharges  \n",
       "0  2018-11-15T02:18:49Z                2            0           0.0  \n",
       "1  2018-11-15T02:19:08Z                2            0           0.0  \n",
       "2  2018-11-15T02:44:21Z                2            0           0.0  "
      ]
     },
     "execution_count": 6,
     "metadata": {},
     "output_type": "execute_result"
    }
   ],
   "source": [
    "train_data.head(3)"
   ]
  },
  {
   "cell_type": "code",
   "execution_count": 7,
   "metadata": {},
   "outputs": [],
   "source": [
    "newColumns = [\n",
    "    'ProviderId', 'ProductCategory', 'ChannelId', 'Amount', 'ExtraCharges', 'Value',\n",
    "    'TransactionStartTime', 'PricingStrategy', 'FraudResult'\n",
    "]\n",
    "\n",
    "train_data = train_data.reindex(columns=newColumns)\n",
    "test_data = test_data.reindex(columns=newColumns[:-1])"
   ]
  },
  {
   "cell_type": "code",
   "execution_count": 8,
   "metadata": {},
   "outputs": [
    {
     "data": {
      "text/plain": [
       "Value    0.989692\n",
       "dtype: float64"
      ]
     },
     "execution_count": 8,
     "metadata": {},
     "output_type": "execute_result"
    }
   ],
   "source": [
    "train_data[['Value']].corrwith(train_data['Amount'])"
   ]
  },
  {
   "cell_type": "code",
   "execution_count": 9,
   "metadata": {},
   "outputs": [],
   "source": [
    "train_data.drop('Value', axis=1, inplace=True)\n",
    "test_data.drop('Value', axis=1, inplace=True)"
   ]
  },
  {
   "cell_type": "code",
   "execution_count": 10,
   "metadata": {},
   "outputs": [
    {
     "data": {
      "text/html": [
       "<div>\n",
       "<style scoped>\n",
       "    .dataframe tbody tr th:only-of-type {\n",
       "        vertical-align: middle;\n",
       "    }\n",
       "\n",
       "    .dataframe tbody tr th {\n",
       "        vertical-align: top;\n",
       "    }\n",
       "\n",
       "    .dataframe thead th {\n",
       "        text-align: right;\n",
       "    }\n",
       "</style>\n",
       "<table border=\"1\" class=\"dataframe\">\n",
       "  <thead>\n",
       "    <tr style=\"text-align: right;\">\n",
       "      <th></th>\n",
       "      <th>ProviderId</th>\n",
       "      <th>ProductCategory</th>\n",
       "      <th>ChannelId</th>\n",
       "      <th>Amount</th>\n",
       "      <th>ExtraCharges</th>\n",
       "      <th>TransactionStartTime</th>\n",
       "      <th>PricingStrategy</th>\n",
       "      <th>FraudResult</th>\n",
       "    </tr>\n",
       "  </thead>\n",
       "  <tbody>\n",
       "    <tr>\n",
       "      <th>0</th>\n",
       "      <td>ProviderId_6</td>\n",
       "      <td>airtime</td>\n",
       "      <td>ChannelId_3</td>\n",
       "      <td>1000.0</td>\n",
       "      <td>0.0</td>\n",
       "      <td>2018-11-15T02:18:49Z</td>\n",
       "      <td>2</td>\n",
       "      <td>0</td>\n",
       "    </tr>\n",
       "    <tr>\n",
       "      <th>1</th>\n",
       "      <td>ProviderId_4</td>\n",
       "      <td>financial_services</td>\n",
       "      <td>ChannelId_2</td>\n",
       "      <td>-20.0</td>\n",
       "      <td>0.0</td>\n",
       "      <td>2018-11-15T02:19:08Z</td>\n",
       "      <td>2</td>\n",
       "      <td>0</td>\n",
       "    </tr>\n",
       "    <tr>\n",
       "      <th>2</th>\n",
       "      <td>ProviderId_6</td>\n",
       "      <td>airtime</td>\n",
       "      <td>ChannelId_3</td>\n",
       "      <td>500.0</td>\n",
       "      <td>0.0</td>\n",
       "      <td>2018-11-15T02:44:21Z</td>\n",
       "      <td>2</td>\n",
       "      <td>0</td>\n",
       "    </tr>\n",
       "  </tbody>\n",
       "</table>\n",
       "</div>"
      ],
      "text/plain": [
       "     ProviderId     ProductCategory    ChannelId  Amount  ExtraCharges  \\\n",
       "0  ProviderId_6             airtime  ChannelId_3  1000.0           0.0   \n",
       "1  ProviderId_4  financial_services  ChannelId_2   -20.0           0.0   \n",
       "2  ProviderId_6             airtime  ChannelId_3   500.0           0.0   \n",
       "\n",
       "   TransactionStartTime  PricingStrategy  FraudResult  \n",
       "0  2018-11-15T02:18:49Z                2            0  \n",
       "1  2018-11-15T02:19:08Z                2            0  \n",
       "2  2018-11-15T02:44:21Z                2            0  "
      ]
     },
     "execution_count": 10,
     "metadata": {},
     "output_type": "execute_result"
    }
   ],
   "source": [
    "train_data.head(3)"
   ]
  },
  {
   "cell_type": "code",
   "execution_count": 11,
   "metadata": {},
   "outputs": [
    {
     "data": {
      "text/html": [
       "<div>\n",
       "<style scoped>\n",
       "    .dataframe tbody tr th:only-of-type {\n",
       "        vertical-align: middle;\n",
       "    }\n",
       "\n",
       "    .dataframe tbody tr th {\n",
       "        vertical-align: top;\n",
       "    }\n",
       "\n",
       "    .dataframe thead th {\n",
       "        text-align: right;\n",
       "    }\n",
       "</style>\n",
       "<table border=\"1\" class=\"dataframe\">\n",
       "  <thead>\n",
       "    <tr style=\"text-align: right;\">\n",
       "      <th></th>\n",
       "      <th>ProviderId</th>\n",
       "      <th>ProductCategory</th>\n",
       "      <th>ChannelId</th>\n",
       "      <th>Amount</th>\n",
       "      <th>ExtraCharges</th>\n",
       "      <th>TransactionStartTime</th>\n",
       "      <th>PricingStrategy</th>\n",
       "    </tr>\n",
       "  </thead>\n",
       "  <tbody>\n",
       "    <tr>\n",
       "      <th>0</th>\n",
       "      <td>ProviderId_5</td>\n",
       "      <td>airtime</td>\n",
       "      <td>ChannelId_3</td>\n",
       "      <td>1000.0</td>\n",
       "      <td>0.0</td>\n",
       "      <td>2019-02-13T10:01:40Z</td>\n",
       "      <td>4</td>\n",
       "    </tr>\n",
       "    <tr>\n",
       "      <th>1</th>\n",
       "      <td>ProviderId_5</td>\n",
       "      <td>financial_services</td>\n",
       "      <td>ChannelId_3</td>\n",
       "      <td>2000.0</td>\n",
       "      <td>0.0</td>\n",
       "      <td>2019-02-13T10:02:12Z</td>\n",
       "      <td>2</td>\n",
       "    </tr>\n",
       "    <tr>\n",
       "      <th>2</th>\n",
       "      <td>ProviderId_4</td>\n",
       "      <td>financial_services</td>\n",
       "      <td>ChannelId_2</td>\n",
       "      <td>-50.0</td>\n",
       "      <td>0.0</td>\n",
       "      <td>2019-02-13T10:02:30Z</td>\n",
       "      <td>2</td>\n",
       "    </tr>\n",
       "  </tbody>\n",
       "</table>\n",
       "</div>"
      ],
      "text/plain": [
       "     ProviderId     ProductCategory    ChannelId  Amount  ExtraCharges  \\\n",
       "0  ProviderId_5             airtime  ChannelId_3  1000.0           0.0   \n",
       "1  ProviderId_5  financial_services  ChannelId_3  2000.0           0.0   \n",
       "2  ProviderId_4  financial_services  ChannelId_2   -50.0           0.0   \n",
       "\n",
       "   TransactionStartTime  PricingStrategy  \n",
       "0  2019-02-13T10:01:40Z                4  \n",
       "1  2019-02-13T10:02:12Z                2  \n",
       "2  2019-02-13T10:02:30Z                2  "
      ]
     },
     "execution_count": 11,
     "metadata": {},
     "output_type": "execute_result"
    }
   ],
   "source": [
    "test_data.head(3)"
   ]
  },
  {
   "cell_type": "code",
   "execution_count": 12,
   "metadata": {},
   "outputs": [],
   "source": [
    "def get_year(trans_time):\n",
    "    yr = trans_time.split('T')[0].split('-')[0]\n",
    "    return yr\n",
    "\n",
    "train_data['Year'] = train_data['TransactionStartTime'].map(get_year)\n",
    "test_data['Year'] = test_data['TransactionStartTime'].map(get_year)"
   ]
  },
  {
   "cell_type": "code",
   "execution_count": 13,
   "metadata": {},
   "outputs": [],
   "source": [
    "def get_month(trans_time):\n",
    "    month = trans_time.split('T')[0].split('-')[1]\n",
    "    \n",
    "    if month == '11':\n",
    "        return 'November'\n",
    "    elif month == '12':\n",
    "        return 'December'\n",
    "    elif month == '01':\n",
    "        return 'January'\n",
    "    elif month == '02':\n",
    "        return 'February'\n",
    "    elif month == '03':\n",
    "        return 'March'\n",
    "    \n",
    "train_data['Month'] = train_data['TransactionStartTime'].map(get_month)\n",
    "test_data['Month'] = test_data['TransactionStartTime'].map(get_month)"
   ]
  },
  {
   "cell_type": "code",
   "execution_count": 14,
   "metadata": {},
   "outputs": [],
   "source": [
    "from datetime import datetime\n",
    "import calendar\n",
    "\n",
    "\n",
    "def get_weekday(trans_time):\n",
    "    yr = trans_time.split('T')[0].split('-')[0]\n",
    "    month = trans_time.split('T')[0].split('-')[1]\n",
    "    day = trans_time.split('T')[0].split('-')[2]\n",
    "    \n",
    "    date = datetime(year=int(yr), month=int(month), day=int(day))\n",
    "    return calendar.day_name[date.weekday()]\n",
    "\n",
    "train_data['Weekday'] = train_data['TransactionStartTime'].map(get_weekday)\n",
    "test_data['Weekday'] = test_data['TransactionStartTime'].map(get_weekday)"
   ]
  },
  {
   "cell_type": "code",
   "execution_count": null,
   "metadata": {},
   "outputs": [],
   "source": []
  },
  {
   "cell_type": "code",
   "execution_count": null,
   "metadata": {},
   "outputs": [],
   "source": []
  },
  {
   "cell_type": "code",
   "execution_count": 15,
   "metadata": {},
   "outputs": [
    {
     "data": {
      "text/html": [
       "<div>\n",
       "<style scoped>\n",
       "    .dataframe tbody tr th:only-of-type {\n",
       "        vertical-align: middle;\n",
       "    }\n",
       "\n",
       "    .dataframe tbody tr th {\n",
       "        vertical-align: top;\n",
       "    }\n",
       "\n",
       "    .dataframe thead th {\n",
       "        text-align: right;\n",
       "    }\n",
       "</style>\n",
       "<table border=\"1\" class=\"dataframe\">\n",
       "  <thead>\n",
       "    <tr style=\"text-align: right;\">\n",
       "      <th></th>\n",
       "      <th>ProviderId</th>\n",
       "      <th>ProductCategory</th>\n",
       "      <th>ChannelId</th>\n",
       "      <th>Amount</th>\n",
       "      <th>ExtraCharges</th>\n",
       "      <th>TransactionStartTime</th>\n",
       "      <th>PricingStrategy</th>\n",
       "      <th>FraudResult</th>\n",
       "      <th>Year</th>\n",
       "      <th>Month</th>\n",
       "      <th>Weekday</th>\n",
       "    </tr>\n",
       "  </thead>\n",
       "  <tbody>\n",
       "    <tr>\n",
       "      <th>0</th>\n",
       "      <td>ProviderId_6</td>\n",
       "      <td>airtime</td>\n",
       "      <td>ChannelId_3</td>\n",
       "      <td>1000.0</td>\n",
       "      <td>0.0</td>\n",
       "      <td>2018-11-15T02:18:49Z</td>\n",
       "      <td>2</td>\n",
       "      <td>0</td>\n",
       "      <td>2018</td>\n",
       "      <td>November</td>\n",
       "      <td>Thursday</td>\n",
       "    </tr>\n",
       "    <tr>\n",
       "      <th>1</th>\n",
       "      <td>ProviderId_4</td>\n",
       "      <td>financial_services</td>\n",
       "      <td>ChannelId_2</td>\n",
       "      <td>-20.0</td>\n",
       "      <td>0.0</td>\n",
       "      <td>2018-11-15T02:19:08Z</td>\n",
       "      <td>2</td>\n",
       "      <td>0</td>\n",
       "      <td>2018</td>\n",
       "      <td>November</td>\n",
       "      <td>Thursday</td>\n",
       "    </tr>\n",
       "    <tr>\n",
       "      <th>2</th>\n",
       "      <td>ProviderId_6</td>\n",
       "      <td>airtime</td>\n",
       "      <td>ChannelId_3</td>\n",
       "      <td>500.0</td>\n",
       "      <td>0.0</td>\n",
       "      <td>2018-11-15T02:44:21Z</td>\n",
       "      <td>2</td>\n",
       "      <td>0</td>\n",
       "      <td>2018</td>\n",
       "      <td>November</td>\n",
       "      <td>Thursday</td>\n",
       "    </tr>\n",
       "    <tr>\n",
       "      <th>3</th>\n",
       "      <td>ProviderId_1</td>\n",
       "      <td>utility_bill</td>\n",
       "      <td>ChannelId_3</td>\n",
       "      <td>20000.0</td>\n",
       "      <td>1800.0</td>\n",
       "      <td>2018-11-15T03:32:55Z</td>\n",
       "      <td>2</td>\n",
       "      <td>0</td>\n",
       "      <td>2018</td>\n",
       "      <td>November</td>\n",
       "      <td>Thursday</td>\n",
       "    </tr>\n",
       "    <tr>\n",
       "      <th>4</th>\n",
       "      <td>ProviderId_4</td>\n",
       "      <td>financial_services</td>\n",
       "      <td>ChannelId_2</td>\n",
       "      <td>-644.0</td>\n",
       "      <td>0.0</td>\n",
       "      <td>2018-11-15T03:34:21Z</td>\n",
       "      <td>2</td>\n",
       "      <td>0</td>\n",
       "      <td>2018</td>\n",
       "      <td>November</td>\n",
       "      <td>Thursday</td>\n",
       "    </tr>\n",
       "  </tbody>\n",
       "</table>\n",
       "</div>"
      ],
      "text/plain": [
       "     ProviderId     ProductCategory    ChannelId   Amount  ExtraCharges  \\\n",
       "0  ProviderId_6             airtime  ChannelId_3   1000.0           0.0   \n",
       "1  ProviderId_4  financial_services  ChannelId_2    -20.0           0.0   \n",
       "2  ProviderId_6             airtime  ChannelId_3    500.0           0.0   \n",
       "3  ProviderId_1        utility_bill  ChannelId_3  20000.0        1800.0   \n",
       "4  ProviderId_4  financial_services  ChannelId_2   -644.0           0.0   \n",
       "\n",
       "   TransactionStartTime  PricingStrategy  FraudResult  Year     Month  \\\n",
       "0  2018-11-15T02:18:49Z                2            0  2018  November   \n",
       "1  2018-11-15T02:19:08Z                2            0  2018  November   \n",
       "2  2018-11-15T02:44:21Z                2            0  2018  November   \n",
       "3  2018-11-15T03:32:55Z                2            0  2018  November   \n",
       "4  2018-11-15T03:34:21Z                2            0  2018  November   \n",
       "\n",
       "    Weekday  \n",
       "0  Thursday  \n",
       "1  Thursday  \n",
       "2  Thursday  \n",
       "3  Thursday  \n",
       "4  Thursday  "
      ]
     },
     "execution_count": 15,
     "metadata": {},
     "output_type": "execute_result"
    }
   ],
   "source": [
    "train_data.head()"
   ]
  },
  {
   "cell_type": "code",
   "execution_count": 16,
   "metadata": {},
   "outputs": [],
   "source": [
    "x='2018-11-15T02:18:49Z'"
   ]
  },
  {
   "cell_type": "code",
   "execution_count": 17,
   "metadata": {},
   "outputs": [
    {
     "data": {
      "text/plain": [
       "'02'"
      ]
     },
     "execution_count": 17,
     "metadata": {},
     "output_type": "execute_result"
    }
   ],
   "source": [
    "x.split('T')[1].split(':')[0]"
   ]
  },
  {
   "cell_type": "code",
   "execution_count": 18,
   "metadata": {},
   "outputs": [],
   "source": [
    "def get_hour(trans_time):\n",
    "    hour = trans_time.split('T')[1].split(':')[0]\n",
    "    time_interval = ''\n",
    "    \n",
    "    if (hour=='00') | (hour=='01') | (hour=='02') | (hour=='03') | (hour=='04') | (hour=='05'):\n",
    "        time_interval = 'early morning'\n",
    "    elif (hour=='06') | (hour=='07') | (hour=='08') | (hour=='09') | (hour=='10') | (hour=='11'):\n",
    "        time_interval = 'morning'\n",
    "    elif (hour=='12') | (hour=='13') | (hour=='14') | (hour=='15'):\n",
    "        time_interval = 'afternoon'\n",
    "    elif (hour=='16') | (hour=='17') | (hour=='18') | (hour=='19'):\n",
    "        time_interval = 'evening'\n",
    "    elif (hour=='20') | (hour=='21') | (hour=='22') | (hour=='23'):\n",
    "        time_interval = 'night'\n",
    "        \n",
    "    \n",
    "    return time_interval\n",
    "\n",
    "\n",
    "train_data['Time Interval'] = train_data['TransactionStartTime'].map(get_hour)\n",
    "test_data['Time Interval'] = test_data['TransactionStartTime'].map(get_hour)"
   ]
  },
  {
   "cell_type": "code",
   "execution_count": 19,
   "metadata": {},
   "outputs": [
    {
     "data": {
      "text/plain": [
       "morning          34342\n",
       "evening          26061\n",
       "afternoon        21950\n",
       "early morning     7837\n",
       "night             5472\n",
       "Name: Time Interval, dtype: int64"
      ]
     },
     "execution_count": 19,
     "metadata": {},
     "output_type": "execute_result"
    }
   ],
   "source": [
    "train_data['Time Interval'].value_counts()"
   ]
  },
  {
   "cell_type": "code",
   "execution_count": 20,
   "metadata": {},
   "outputs": [
    {
     "data": {
      "text/html": [
       "<div>\n",
       "<style scoped>\n",
       "    .dataframe tbody tr th:only-of-type {\n",
       "        vertical-align: middle;\n",
       "    }\n",
       "\n",
       "    .dataframe tbody tr th {\n",
       "        vertical-align: top;\n",
       "    }\n",
       "\n",
       "    .dataframe thead th {\n",
       "        text-align: right;\n",
       "    }\n",
       "</style>\n",
       "<table border=\"1\" class=\"dataframe\">\n",
       "  <thead>\n",
       "    <tr style=\"text-align: right;\">\n",
       "      <th></th>\n",
       "      <th>ProviderId</th>\n",
       "      <th>ProductCategory</th>\n",
       "      <th>ChannelId</th>\n",
       "      <th>Amount</th>\n",
       "      <th>ExtraCharges</th>\n",
       "      <th>TransactionStartTime</th>\n",
       "      <th>PricingStrategy</th>\n",
       "      <th>Year</th>\n",
       "      <th>Month</th>\n",
       "      <th>Weekday</th>\n",
       "      <th>Time Interval</th>\n",
       "    </tr>\n",
       "  </thead>\n",
       "  <tbody>\n",
       "    <tr>\n",
       "      <th>0</th>\n",
       "      <td>ProviderId_5</td>\n",
       "      <td>airtime</td>\n",
       "      <td>ChannelId_3</td>\n",
       "      <td>1000.0</td>\n",
       "      <td>0.0</td>\n",
       "      <td>2019-02-13T10:01:40Z</td>\n",
       "      <td>4</td>\n",
       "      <td>2019</td>\n",
       "      <td>February</td>\n",
       "      <td>Wednesday</td>\n",
       "      <td>morning</td>\n",
       "    </tr>\n",
       "    <tr>\n",
       "      <th>1</th>\n",
       "      <td>ProviderId_5</td>\n",
       "      <td>financial_services</td>\n",
       "      <td>ChannelId_3</td>\n",
       "      <td>2000.0</td>\n",
       "      <td>0.0</td>\n",
       "      <td>2019-02-13T10:02:12Z</td>\n",
       "      <td>2</td>\n",
       "      <td>2019</td>\n",
       "      <td>February</td>\n",
       "      <td>Wednesday</td>\n",
       "      <td>morning</td>\n",
       "    </tr>\n",
       "    <tr>\n",
       "      <th>2</th>\n",
       "      <td>ProviderId_4</td>\n",
       "      <td>financial_services</td>\n",
       "      <td>ChannelId_2</td>\n",
       "      <td>-50.0</td>\n",
       "      <td>0.0</td>\n",
       "      <td>2019-02-13T10:02:30Z</td>\n",
       "      <td>2</td>\n",
       "      <td>2019</td>\n",
       "      <td>February</td>\n",
       "      <td>Wednesday</td>\n",
       "      <td>morning</td>\n",
       "    </tr>\n",
       "    <tr>\n",
       "      <th>3</th>\n",
       "      <td>ProviderId_5</td>\n",
       "      <td>airtime</td>\n",
       "      <td>ChannelId_3</td>\n",
       "      <td>3000.0</td>\n",
       "      <td>0.0</td>\n",
       "      <td>2019-02-13T10:02:38Z</td>\n",
       "      <td>4</td>\n",
       "      <td>2019</td>\n",
       "      <td>February</td>\n",
       "      <td>Wednesday</td>\n",
       "      <td>morning</td>\n",
       "    </tr>\n",
       "    <tr>\n",
       "      <th>4</th>\n",
       "      <td>ProviderId_4</td>\n",
       "      <td>financial_services</td>\n",
       "      <td>ChannelId_2</td>\n",
       "      <td>-60.0</td>\n",
       "      <td>0.0</td>\n",
       "      <td>2019-02-13T10:02:58Z</td>\n",
       "      <td>2</td>\n",
       "      <td>2019</td>\n",
       "      <td>February</td>\n",
       "      <td>Wednesday</td>\n",
       "      <td>morning</td>\n",
       "    </tr>\n",
       "  </tbody>\n",
       "</table>\n",
       "</div>"
      ],
      "text/plain": [
       "     ProviderId     ProductCategory    ChannelId  Amount  ExtraCharges  \\\n",
       "0  ProviderId_5             airtime  ChannelId_3  1000.0           0.0   \n",
       "1  ProviderId_5  financial_services  ChannelId_3  2000.0           0.0   \n",
       "2  ProviderId_4  financial_services  ChannelId_2   -50.0           0.0   \n",
       "3  ProviderId_5             airtime  ChannelId_3  3000.0           0.0   \n",
       "4  ProviderId_4  financial_services  ChannelId_2   -60.0           0.0   \n",
       "\n",
       "   TransactionStartTime  PricingStrategy  Year     Month    Weekday  \\\n",
       "0  2019-02-13T10:01:40Z                4  2019  February  Wednesday   \n",
       "1  2019-02-13T10:02:12Z                2  2019  February  Wednesday   \n",
       "2  2019-02-13T10:02:30Z                2  2019  February  Wednesday   \n",
       "3  2019-02-13T10:02:38Z                4  2019  February  Wednesday   \n",
       "4  2019-02-13T10:02:58Z                2  2019  February  Wednesday   \n",
       "\n",
       "  Time Interval  \n",
       "0       morning  \n",
       "1       morning  \n",
       "2       morning  \n",
       "3       morning  \n",
       "4       morning  "
      ]
     },
     "execution_count": 20,
     "metadata": {},
     "output_type": "execute_result"
    }
   ],
   "source": [
    "test_data.head()"
   ]
  },
  {
   "cell_type": "code",
   "execution_count": 21,
   "metadata": {},
   "outputs": [
    {
     "data": {
      "text/plain": [
       "ExtraCharges    0.054714\n",
       "dtype: float64"
      ]
     },
     "execution_count": 21,
     "metadata": {},
     "output_type": "execute_result"
    }
   ],
   "source": [
    "train_data[['ExtraCharges']].corrwith(train_data['Amount'])"
   ]
  },
  {
   "cell_type": "code",
   "execution_count": 22,
   "metadata": {},
   "outputs": [],
   "source": [
    "train_data.drop('TransactionStartTime', axis=1, inplace=True)\n",
    "test_data.drop('TransactionStartTime', axis=1, inplace=True)"
   ]
  },
  {
   "cell_type": "code",
   "execution_count": 23,
   "metadata": {},
   "outputs": [
    {
     "data": {
      "text/html": [
       "<div>\n",
       "<style scoped>\n",
       "    .dataframe tbody tr th:only-of-type {\n",
       "        vertical-align: middle;\n",
       "    }\n",
       "\n",
       "    .dataframe tbody tr th {\n",
       "        vertical-align: top;\n",
       "    }\n",
       "\n",
       "    .dataframe thead th {\n",
       "        text-align: right;\n",
       "    }\n",
       "</style>\n",
       "<table border=\"1\" class=\"dataframe\">\n",
       "  <thead>\n",
       "    <tr style=\"text-align: right;\">\n",
       "      <th></th>\n",
       "      <th>ProviderId</th>\n",
       "      <th>ProductCategory</th>\n",
       "      <th>ChannelId</th>\n",
       "      <th>Amount</th>\n",
       "      <th>ExtraCharges</th>\n",
       "      <th>PricingStrategy</th>\n",
       "      <th>FraudResult</th>\n",
       "      <th>Year</th>\n",
       "      <th>Month</th>\n",
       "      <th>Weekday</th>\n",
       "      <th>Time Interval</th>\n",
       "    </tr>\n",
       "  </thead>\n",
       "  <tbody>\n",
       "    <tr>\n",
       "      <th>0</th>\n",
       "      <td>ProviderId_6</td>\n",
       "      <td>airtime</td>\n",
       "      <td>ChannelId_3</td>\n",
       "      <td>1000.0</td>\n",
       "      <td>0.0</td>\n",
       "      <td>2</td>\n",
       "      <td>0</td>\n",
       "      <td>2018</td>\n",
       "      <td>November</td>\n",
       "      <td>Thursday</td>\n",
       "      <td>early morning</td>\n",
       "    </tr>\n",
       "    <tr>\n",
       "      <th>1</th>\n",
       "      <td>ProviderId_4</td>\n",
       "      <td>financial_services</td>\n",
       "      <td>ChannelId_2</td>\n",
       "      <td>-20.0</td>\n",
       "      <td>0.0</td>\n",
       "      <td>2</td>\n",
       "      <td>0</td>\n",
       "      <td>2018</td>\n",
       "      <td>November</td>\n",
       "      <td>Thursday</td>\n",
       "      <td>early morning</td>\n",
       "    </tr>\n",
       "    <tr>\n",
       "      <th>2</th>\n",
       "      <td>ProviderId_6</td>\n",
       "      <td>airtime</td>\n",
       "      <td>ChannelId_3</td>\n",
       "      <td>500.0</td>\n",
       "      <td>0.0</td>\n",
       "      <td>2</td>\n",
       "      <td>0</td>\n",
       "      <td>2018</td>\n",
       "      <td>November</td>\n",
       "      <td>Thursday</td>\n",
       "      <td>early morning</td>\n",
       "    </tr>\n",
       "  </tbody>\n",
       "</table>\n",
       "</div>"
      ],
      "text/plain": [
       "     ProviderId     ProductCategory    ChannelId  Amount  ExtraCharges  \\\n",
       "0  ProviderId_6             airtime  ChannelId_3  1000.0           0.0   \n",
       "1  ProviderId_4  financial_services  ChannelId_2   -20.0           0.0   \n",
       "2  ProviderId_6             airtime  ChannelId_3   500.0           0.0   \n",
       "\n",
       "   PricingStrategy  FraudResult  Year     Month   Weekday  Time Interval  \n",
       "0                2            0  2018  November  Thursday  early morning  \n",
       "1                2            0  2018  November  Thursday  early morning  \n",
       "2                2            0  2018  November  Thursday  early morning  "
      ]
     },
     "execution_count": 23,
     "metadata": {},
     "output_type": "execute_result"
    }
   ],
   "source": [
    "train_data.head(3)"
   ]
  },
  {
   "cell_type": "code",
   "execution_count": 24,
   "metadata": {},
   "outputs": [],
   "source": [
    "fraudResult = train_data['FraudResult']\n",
    "\n",
    "train_amount = train_data['Amount']\n",
    "train_charges = train_data['ExtraCharges']\n",
    "\n",
    "test_amount = test_data['Amount']\n",
    "test_charges = test_data['ExtraCharges']\n",
    "\n",
    "\n",
    "train_data = train_data.drop(['Amount', 'FraudResult', 'ExtraCharges'], axis=1)\n",
    "test_data = test_data.drop(['Amount', 'ExtraCharges'], axis=1)\n",
    "\n",
    "train_data['label'] = 1\n",
    "test_data['label'] = 0"
   ]
  },
  {
   "cell_type": "code",
   "execution_count": 25,
   "metadata": {},
   "outputs": [],
   "source": [
    "combined = pd.concat([train_data, test_data], axis=0)#.reset_index(drop=True)"
   ]
  },
  {
   "cell_type": "code",
   "execution_count": 26,
   "metadata": {},
   "outputs": [
    {
     "data": {
      "text/plain": [
       "Index(['ProviderId', 'ProductCategory', 'ChannelId', 'PricingStrategy', 'Year',\n",
       "       'Month', 'Weekday', 'Time Interval', 'label'],\n",
       "      dtype='object')"
      ]
     },
     "execution_count": 26,
     "metadata": {},
     "output_type": "execute_result"
    }
   ],
   "source": [
    "combined.columns#[:-1]"
   ]
  },
  {
   "cell_type": "code",
   "execution_count": 27,
   "metadata": {},
   "outputs": [],
   "source": [
    "combined = pd.get_dummies(combined, columns=combined.columns[:-1], drop_first=True)\n",
    "\n",
    "train_data = combined[combined['label']==1]\n",
    "test_data = combined[combined['label']==0]"
   ]
  },
  {
   "cell_type": "code",
   "execution_count": 28,
   "metadata": {},
   "outputs": [
    {
     "name": "stderr",
     "output_type": "stream",
     "text": [
      "C:\\Users\\Immanuel\\Anaconda3\\lib\\site-packages\\pandas\\core\\frame.py:3940: SettingWithCopyWarning: \n",
      "A value is trying to be set on a copy of a slice from a DataFrame\n",
      "\n",
      "See the caveats in the documentation: http://pandas.pydata.org/pandas-docs/stable/indexing.html#indexing-view-versus-copy\n",
      "  errors=errors)\n"
     ]
    }
   ],
   "source": [
    "train_data.drop('label', axis=1, inplace=True)\n",
    "test_data.drop('label', axis=1, inplace=True)"
   ]
  },
  {
   "cell_type": "code",
   "execution_count": 29,
   "metadata": {},
   "outputs": [],
   "source": [
    "train_data = pd.concat([train_data, train_amount, train_charges, fraudResult], axis=1)\n",
    "test_data = pd.concat([test_data, test_amount, test_charges,], axis=1)"
   ]
  },
  {
   "cell_type": "code",
   "execution_count": 30,
   "metadata": {},
   "outputs": [
    {
     "data": {
      "text/html": [
       "<div>\n",
       "<style scoped>\n",
       "    .dataframe tbody tr th:only-of-type {\n",
       "        vertical-align: middle;\n",
       "    }\n",
       "\n",
       "    .dataframe tbody tr th {\n",
       "        vertical-align: top;\n",
       "    }\n",
       "\n",
       "    .dataframe thead th {\n",
       "        text-align: right;\n",
       "    }\n",
       "</style>\n",
       "<table border=\"1\" class=\"dataframe\">\n",
       "  <thead>\n",
       "    <tr style=\"text-align: right;\">\n",
       "      <th></th>\n",
       "      <th>ProviderId_ProviderId_2</th>\n",
       "      <th>ProviderId_ProviderId_3</th>\n",
       "      <th>ProviderId_ProviderId_4</th>\n",
       "      <th>ProviderId_ProviderId_5</th>\n",
       "      <th>ProviderId_ProviderId_6</th>\n",
       "      <th>ProductCategory_data_bundles</th>\n",
       "      <th>ProductCategory_financial_services</th>\n",
       "      <th>ProductCategory_movies</th>\n",
       "      <th>ProductCategory_other</th>\n",
       "      <th>ProductCategory_retail</th>\n",
       "      <th>...</th>\n",
       "      <th>Weekday_Thursday</th>\n",
       "      <th>Weekday_Tuesday</th>\n",
       "      <th>Weekday_Wednesday</th>\n",
       "      <th>Time Interval_early morning</th>\n",
       "      <th>Time Interval_evening</th>\n",
       "      <th>Time Interval_morning</th>\n",
       "      <th>Time Interval_night</th>\n",
       "      <th>Amount</th>\n",
       "      <th>ExtraCharges</th>\n",
       "      <th>FraudResult</th>\n",
       "    </tr>\n",
       "  </thead>\n",
       "  <tbody>\n",
       "    <tr>\n",
       "      <th>0</th>\n",
       "      <td>0</td>\n",
       "      <td>0</td>\n",
       "      <td>0</td>\n",
       "      <td>0</td>\n",
       "      <td>1</td>\n",
       "      <td>0</td>\n",
       "      <td>0</td>\n",
       "      <td>0</td>\n",
       "      <td>0</td>\n",
       "      <td>0</td>\n",
       "      <td>...</td>\n",
       "      <td>1</td>\n",
       "      <td>0</td>\n",
       "      <td>0</td>\n",
       "      <td>1</td>\n",
       "      <td>0</td>\n",
       "      <td>0</td>\n",
       "      <td>0</td>\n",
       "      <td>1000.0</td>\n",
       "      <td>0.0</td>\n",
       "      <td>0</td>\n",
       "    </tr>\n",
       "    <tr>\n",
       "      <th>1</th>\n",
       "      <td>0</td>\n",
       "      <td>0</td>\n",
       "      <td>1</td>\n",
       "      <td>0</td>\n",
       "      <td>0</td>\n",
       "      <td>0</td>\n",
       "      <td>1</td>\n",
       "      <td>0</td>\n",
       "      <td>0</td>\n",
       "      <td>0</td>\n",
       "      <td>...</td>\n",
       "      <td>1</td>\n",
       "      <td>0</td>\n",
       "      <td>0</td>\n",
       "      <td>1</td>\n",
       "      <td>0</td>\n",
       "      <td>0</td>\n",
       "      <td>0</td>\n",
       "      <td>-20.0</td>\n",
       "      <td>0.0</td>\n",
       "      <td>0</td>\n",
       "    </tr>\n",
       "    <tr>\n",
       "      <th>2</th>\n",
       "      <td>0</td>\n",
       "      <td>0</td>\n",
       "      <td>0</td>\n",
       "      <td>0</td>\n",
       "      <td>1</td>\n",
       "      <td>0</td>\n",
       "      <td>0</td>\n",
       "      <td>0</td>\n",
       "      <td>0</td>\n",
       "      <td>0</td>\n",
       "      <td>...</td>\n",
       "      <td>1</td>\n",
       "      <td>0</td>\n",
       "      <td>0</td>\n",
       "      <td>1</td>\n",
       "      <td>0</td>\n",
       "      <td>0</td>\n",
       "      <td>0</td>\n",
       "      <td>500.0</td>\n",
       "      <td>0.0</td>\n",
       "      <td>0</td>\n",
       "    </tr>\n",
       "    <tr>\n",
       "      <th>3</th>\n",
       "      <td>0</td>\n",
       "      <td>0</td>\n",
       "      <td>0</td>\n",
       "      <td>0</td>\n",
       "      <td>0</td>\n",
       "      <td>0</td>\n",
       "      <td>0</td>\n",
       "      <td>0</td>\n",
       "      <td>0</td>\n",
       "      <td>0</td>\n",
       "      <td>...</td>\n",
       "      <td>1</td>\n",
       "      <td>0</td>\n",
       "      <td>0</td>\n",
       "      <td>1</td>\n",
       "      <td>0</td>\n",
       "      <td>0</td>\n",
       "      <td>0</td>\n",
       "      <td>20000.0</td>\n",
       "      <td>1800.0</td>\n",
       "      <td>0</td>\n",
       "    </tr>\n",
       "    <tr>\n",
       "      <th>4</th>\n",
       "      <td>0</td>\n",
       "      <td>0</td>\n",
       "      <td>1</td>\n",
       "      <td>0</td>\n",
       "      <td>0</td>\n",
       "      <td>0</td>\n",
       "      <td>1</td>\n",
       "      <td>0</td>\n",
       "      <td>0</td>\n",
       "      <td>0</td>\n",
       "      <td>...</td>\n",
       "      <td>1</td>\n",
       "      <td>0</td>\n",
       "      <td>0</td>\n",
       "      <td>1</td>\n",
       "      <td>0</td>\n",
       "      <td>0</td>\n",
       "      <td>0</td>\n",
       "      <td>-644.0</td>\n",
       "      <td>0.0</td>\n",
       "      <td>0</td>\n",
       "    </tr>\n",
       "  </tbody>\n",
       "</table>\n",
       "<p>5 rows × 39 columns</p>\n",
       "</div>"
      ],
      "text/plain": [
       "   ProviderId_ProviderId_2  ProviderId_ProviderId_3  ProviderId_ProviderId_4  \\\n",
       "0                        0                        0                        0   \n",
       "1                        0                        0                        1   \n",
       "2                        0                        0                        0   \n",
       "3                        0                        0                        0   \n",
       "4                        0                        0                        1   \n",
       "\n",
       "   ProviderId_ProviderId_5  ProviderId_ProviderId_6  \\\n",
       "0                        0                        1   \n",
       "1                        0                        0   \n",
       "2                        0                        1   \n",
       "3                        0                        0   \n",
       "4                        0                        0   \n",
       "\n",
       "   ProductCategory_data_bundles  ProductCategory_financial_services  \\\n",
       "0                             0                                   0   \n",
       "1                             0                                   1   \n",
       "2                             0                                   0   \n",
       "3                             0                                   0   \n",
       "4                             0                                   1   \n",
       "\n",
       "   ProductCategory_movies  ProductCategory_other  ProductCategory_retail  ...  \\\n",
       "0                       0                      0                       0  ...   \n",
       "1                       0                      0                       0  ...   \n",
       "2                       0                      0                       0  ...   \n",
       "3                       0                      0                       0  ...   \n",
       "4                       0                      0                       0  ...   \n",
       "\n",
       "   Weekday_Thursday  Weekday_Tuesday  Weekday_Wednesday  \\\n",
       "0                 1                0                  0   \n",
       "1                 1                0                  0   \n",
       "2                 1                0                  0   \n",
       "3                 1                0                  0   \n",
       "4                 1                0                  0   \n",
       "\n",
       "   Time Interval_early morning  Time Interval_evening  Time Interval_morning  \\\n",
       "0                            1                      0                      0   \n",
       "1                            1                      0                      0   \n",
       "2                            1                      0                      0   \n",
       "3                            1                      0                      0   \n",
       "4                            1                      0                      0   \n",
       "\n",
       "   Time Interval_night   Amount  ExtraCharges  FraudResult  \n",
       "0                    0   1000.0           0.0            0  \n",
       "1                    0    -20.0           0.0            0  \n",
       "2                    0    500.0           0.0            0  \n",
       "3                    0  20000.0        1800.0            0  \n",
       "4                    0   -644.0           0.0            0  \n",
       "\n",
       "[5 rows x 39 columns]"
      ]
     },
     "execution_count": 30,
     "metadata": {},
     "output_type": "execute_result"
    }
   ],
   "source": [
    "train_data.head()"
   ]
  },
  {
   "cell_type": "code",
   "execution_count": 31,
   "metadata": {},
   "outputs": [
    {
     "data": {
      "text/html": [
       "<div>\n",
       "<style scoped>\n",
       "    .dataframe tbody tr th:only-of-type {\n",
       "        vertical-align: middle;\n",
       "    }\n",
       "\n",
       "    .dataframe tbody tr th {\n",
       "        vertical-align: top;\n",
       "    }\n",
       "\n",
       "    .dataframe thead th {\n",
       "        text-align: right;\n",
       "    }\n",
       "</style>\n",
       "<table border=\"1\" class=\"dataframe\">\n",
       "  <thead>\n",
       "    <tr style=\"text-align: right;\">\n",
       "      <th></th>\n",
       "      <th>ProviderId_ProviderId_2</th>\n",
       "      <th>ProviderId_ProviderId_3</th>\n",
       "      <th>ProviderId_ProviderId_4</th>\n",
       "      <th>ProviderId_ProviderId_5</th>\n",
       "      <th>ProviderId_ProviderId_6</th>\n",
       "      <th>ProductCategory_data_bundles</th>\n",
       "      <th>ProductCategory_financial_services</th>\n",
       "      <th>ProductCategory_movies</th>\n",
       "      <th>ProductCategory_other</th>\n",
       "      <th>ProductCategory_retail</th>\n",
       "      <th>...</th>\n",
       "      <th>Weekday_Sunday</th>\n",
       "      <th>Weekday_Thursday</th>\n",
       "      <th>Weekday_Tuesday</th>\n",
       "      <th>Weekday_Wednesday</th>\n",
       "      <th>Time Interval_early morning</th>\n",
       "      <th>Time Interval_evening</th>\n",
       "      <th>Time Interval_morning</th>\n",
       "      <th>Time Interval_night</th>\n",
       "      <th>Amount</th>\n",
       "      <th>ExtraCharges</th>\n",
       "    </tr>\n",
       "  </thead>\n",
       "  <tbody>\n",
       "    <tr>\n",
       "      <th>0</th>\n",
       "      <td>0</td>\n",
       "      <td>0</td>\n",
       "      <td>0</td>\n",
       "      <td>1</td>\n",
       "      <td>0</td>\n",
       "      <td>0</td>\n",
       "      <td>0</td>\n",
       "      <td>0</td>\n",
       "      <td>0</td>\n",
       "      <td>0</td>\n",
       "      <td>...</td>\n",
       "      <td>0</td>\n",
       "      <td>0</td>\n",
       "      <td>0</td>\n",
       "      <td>1</td>\n",
       "      <td>0</td>\n",
       "      <td>0</td>\n",
       "      <td>1</td>\n",
       "      <td>0</td>\n",
       "      <td>1000.0</td>\n",
       "      <td>0.0</td>\n",
       "    </tr>\n",
       "    <tr>\n",
       "      <th>1</th>\n",
       "      <td>0</td>\n",
       "      <td>0</td>\n",
       "      <td>0</td>\n",
       "      <td>1</td>\n",
       "      <td>0</td>\n",
       "      <td>0</td>\n",
       "      <td>1</td>\n",
       "      <td>0</td>\n",
       "      <td>0</td>\n",
       "      <td>0</td>\n",
       "      <td>...</td>\n",
       "      <td>0</td>\n",
       "      <td>0</td>\n",
       "      <td>0</td>\n",
       "      <td>1</td>\n",
       "      <td>0</td>\n",
       "      <td>0</td>\n",
       "      <td>1</td>\n",
       "      <td>0</td>\n",
       "      <td>2000.0</td>\n",
       "      <td>0.0</td>\n",
       "    </tr>\n",
       "    <tr>\n",
       "      <th>2</th>\n",
       "      <td>0</td>\n",
       "      <td>0</td>\n",
       "      <td>1</td>\n",
       "      <td>0</td>\n",
       "      <td>0</td>\n",
       "      <td>0</td>\n",
       "      <td>1</td>\n",
       "      <td>0</td>\n",
       "      <td>0</td>\n",
       "      <td>0</td>\n",
       "      <td>...</td>\n",
       "      <td>0</td>\n",
       "      <td>0</td>\n",
       "      <td>0</td>\n",
       "      <td>1</td>\n",
       "      <td>0</td>\n",
       "      <td>0</td>\n",
       "      <td>1</td>\n",
       "      <td>0</td>\n",
       "      <td>-50.0</td>\n",
       "      <td>0.0</td>\n",
       "    </tr>\n",
       "    <tr>\n",
       "      <th>3</th>\n",
       "      <td>0</td>\n",
       "      <td>0</td>\n",
       "      <td>0</td>\n",
       "      <td>1</td>\n",
       "      <td>0</td>\n",
       "      <td>0</td>\n",
       "      <td>0</td>\n",
       "      <td>0</td>\n",
       "      <td>0</td>\n",
       "      <td>0</td>\n",
       "      <td>...</td>\n",
       "      <td>0</td>\n",
       "      <td>0</td>\n",
       "      <td>0</td>\n",
       "      <td>1</td>\n",
       "      <td>0</td>\n",
       "      <td>0</td>\n",
       "      <td>1</td>\n",
       "      <td>0</td>\n",
       "      <td>3000.0</td>\n",
       "      <td>0.0</td>\n",
       "    </tr>\n",
       "    <tr>\n",
       "      <th>4</th>\n",
       "      <td>0</td>\n",
       "      <td>0</td>\n",
       "      <td>1</td>\n",
       "      <td>0</td>\n",
       "      <td>0</td>\n",
       "      <td>0</td>\n",
       "      <td>1</td>\n",
       "      <td>0</td>\n",
       "      <td>0</td>\n",
       "      <td>0</td>\n",
       "      <td>...</td>\n",
       "      <td>0</td>\n",
       "      <td>0</td>\n",
       "      <td>0</td>\n",
       "      <td>1</td>\n",
       "      <td>0</td>\n",
       "      <td>0</td>\n",
       "      <td>1</td>\n",
       "      <td>0</td>\n",
       "      <td>-60.0</td>\n",
       "      <td>0.0</td>\n",
       "    </tr>\n",
       "  </tbody>\n",
       "</table>\n",
       "<p>5 rows × 38 columns</p>\n",
       "</div>"
      ],
      "text/plain": [
       "   ProviderId_ProviderId_2  ProviderId_ProviderId_3  ProviderId_ProviderId_4  \\\n",
       "0                        0                        0                        0   \n",
       "1                        0                        0                        0   \n",
       "2                        0                        0                        1   \n",
       "3                        0                        0                        0   \n",
       "4                        0                        0                        1   \n",
       "\n",
       "   ProviderId_ProviderId_5  ProviderId_ProviderId_6  \\\n",
       "0                        1                        0   \n",
       "1                        1                        0   \n",
       "2                        0                        0   \n",
       "3                        1                        0   \n",
       "4                        0                        0   \n",
       "\n",
       "   ProductCategory_data_bundles  ProductCategory_financial_services  \\\n",
       "0                             0                                   0   \n",
       "1                             0                                   1   \n",
       "2                             0                                   1   \n",
       "3                             0                                   0   \n",
       "4                             0                                   1   \n",
       "\n",
       "   ProductCategory_movies  ProductCategory_other  ProductCategory_retail  ...  \\\n",
       "0                       0                      0                       0  ...   \n",
       "1                       0                      0                       0  ...   \n",
       "2                       0                      0                       0  ...   \n",
       "3                       0                      0                       0  ...   \n",
       "4                       0                      0                       0  ...   \n",
       "\n",
       "   Weekday_Sunday  Weekday_Thursday  Weekday_Tuesday  Weekday_Wednesday  \\\n",
       "0               0                 0                0                  1   \n",
       "1               0                 0                0                  1   \n",
       "2               0                 0                0                  1   \n",
       "3               0                 0                0                  1   \n",
       "4               0                 0                0                  1   \n",
       "\n",
       "   Time Interval_early morning  Time Interval_evening  Time Interval_morning  \\\n",
       "0                            0                      0                      1   \n",
       "1                            0                      0                      1   \n",
       "2                            0                      0                      1   \n",
       "3                            0                      0                      1   \n",
       "4                            0                      0                      1   \n",
       "\n",
       "   Time Interval_night  Amount  ExtraCharges  \n",
       "0                    0  1000.0           0.0  \n",
       "1                    0  2000.0           0.0  \n",
       "2                    0   -50.0           0.0  \n",
       "3                    0  3000.0           0.0  \n",
       "4                    0   -60.0           0.0  \n",
       "\n",
       "[5 rows x 38 columns]"
      ]
     },
     "execution_count": 31,
     "metadata": {},
     "output_type": "execute_result"
    }
   ],
   "source": [
    "test_data.head()"
   ]
  },
  {
   "cell_type": "code",
   "execution_count": null,
   "metadata": {},
   "outputs": [],
   "source": []
  },
  {
   "cell_type": "code",
   "execution_count": 32,
   "metadata": {},
   "outputs": [],
   "source": [
    "X, y = train_data.drop('FraudResult', axis=1), train_data['FraudResult']\n",
    "\n",
    "X_train, X_test, y_train, y_test = train_test_split(\n",
    "    X, y, stratify=y, test_size=0.3, random_state=42\n",
    ")"
   ]
  },
  {
   "cell_type": "code",
   "execution_count": 33,
   "metadata": {},
   "outputs": [
    {
     "data": {
      "text/plain": [
       "Counter({0: 66828, 1: 135})"
      ]
     },
     "execution_count": 33,
     "metadata": {},
     "output_type": "execute_result"
    }
   ],
   "source": [
    "Counter(y_train)"
   ]
  },
  {
   "cell_type": "code",
   "execution_count": 34,
   "metadata": {},
   "outputs": [],
   "source": [
    "from sklearn.preprocessing import StandardScaler"
   ]
  },
  {
   "cell_type": "code",
   "execution_count": 35,
   "metadata": {},
   "outputs": [
    {
     "data": {
      "text/plain": [
       "135"
      ]
     },
     "execution_count": 35,
     "metadata": {},
     "output_type": "execute_result"
    }
   ],
   "source": [
    "len(y_train[y_train==1])"
   ]
  },
  {
   "cell_type": "code",
   "execution_count": 36,
   "metadata": {},
   "outputs": [],
   "source": [
    "cv = StratifiedKFold(n_splits=5, random_state=42)"
   ]
  },
  {
   "cell_type": "code",
   "execution_count": null,
   "metadata": {},
   "outputs": [],
   "source": []
  },
  {
   "cell_type": "code",
   "execution_count": null,
   "metadata": {},
   "outputs": [],
   "source": []
  },
  {
   "cell_type": "markdown",
   "metadata": {},
   "source": [
    "XGBOOST"
   ]
  },
  {
   "cell_type": "code",
   "execution_count": 37,
   "metadata": {},
   "outputs": [
    {
     "name": "stderr",
     "output_type": "stream",
     "text": [
      "C:\\Users\\Immanuel\\Anaconda3\\lib\\site-packages\\sklearn\\cross_validation.py:41: DeprecationWarning: This module was deprecated in version 0.18 in favor of the model_selection module into which all the refactored classes and functions are moved. Also note that the interface of the new CV iterators are different from that of this module. This module will be removed in 0.20.\n",
      "  \"This module will be removed in 0.20.\", DeprecationWarning)\n"
     ]
    }
   ],
   "source": [
    "import xgboost as xgb\n",
    "from xgboost import plot_importance"
   ]
  },
  {
   "cell_type": "code",
   "execution_count": 38,
   "metadata": {},
   "outputs": [
    {
     "name": "stdout",
     "output_type": "stream",
     "text": [
      "Train Score: 0.708661\n",
      "Test Score: 0.696203\n"
     ]
    },
    {
     "name": "stderr",
     "output_type": "stream",
     "text": [
      "C:\\Users\\Immanuel\\Anaconda3\\lib\\site-packages\\sklearn\\preprocessing\\label.py:151: DeprecationWarning: The truth value of an empty array is ambiguous. Returning False, but in future this will result in an error. Use `array.size > 0` to check that an array is not empty.\n",
      "  if diff:\n",
      "C:\\Users\\Immanuel\\Anaconda3\\lib\\site-packages\\sklearn\\preprocessing\\label.py:151: DeprecationWarning: The truth value of an empty array is ambiguous. Returning False, but in future this will result in an error. Use `array.size > 0` to check that an array is not empty.\n",
      "  if diff:\n"
     ]
    }
   ],
   "source": [
    "model = xgb.XGBClassifier(\n",
    "    max_depth=4, min_child_weight=1, gamma = 0, subsample=0.8, colsample_bytree=0.8,\n",
    "    scale_pos_weight = len(y_train[y_train]==0)/len(y_train[y_train==1]), nthread=-1\n",
    ")\n",
    "\n",
    "model.fit(X_train, y_train)\n",
    "\n",
    "train_predictions = model.predict(X_train)\n",
    "test_predictions = model.predict(X_test)\n",
    "\n",
    "print('Train Score: {:4f}'.format(f1_score(y_train, train_predictions)))\n",
    "print('Test Score: {:4f}'.format(f1_score(y_test, test_predictions)))"
   ]
  },
  {
   "cell_type": "code",
   "execution_count": 39,
   "metadata": {},
   "outputs": [
    {
     "name": "stdout",
     "output_type": "stream",
     "text": [
      "Model CV Score: 0.7125315288314457\n"
     ]
    }
   ],
   "source": [
    "val = cross_val_score(model, X_train, y_train, scoring='f1', cv=cv, n_jobs=-1, verbose=0).mean()\n",
    "\n",
    "\n",
    "print('Model CV Score: {}'.format(val))"
   ]
  },
  {
   "cell_type": "code",
   "execution_count": null,
   "metadata": {},
   "outputs": [],
   "source": []
  },
  {
   "cell_type": "code",
   "execution_count": null,
   "metadata": {},
   "outputs": [],
   "source": []
  },
  {
   "cell_type": "code",
   "execution_count": 40,
   "metadata": {},
   "outputs": [
    {
     "name": "stderr",
     "output_type": "stream",
     "text": [
      "C:\\Users\\Immanuel\\Anaconda3\\lib\\site-packages\\sklearn\\model_selection\\_search.py:762: DeprecationWarning: The grid_scores_ attribute was deprecated in version 0.18 in favor of the more elaborate cv_results_ attribute. The grid_scores_ attribute will not be available from 0.20\n",
      "  DeprecationWarning)\n"
     ]
    },
    {
     "data": {
      "text/plain": [
       "[mean: 0.66168, std: 0.07514, params: {'max_depth': 3, 'min_child_weight': 1},\n",
       " mean: 0.65352, std: 0.08054, params: {'max_depth': 3, 'min_child_weight': 3},\n",
       " mean: 0.63776, std: 0.06330, params: {'max_depth': 3, 'min_child_weight': 5},\n",
       " mean: 0.71253, std: 0.06390, params: {'max_depth': 4, 'min_child_weight': 1},\n",
       " mean: 0.70713, std: 0.07367, params: {'max_depth': 4, 'min_child_weight': 3},\n",
       " mean: 0.69759, std: 0.07121, params: {'max_depth': 4, 'min_child_weight': 5},\n",
       " mean: 0.75590, std: 0.06362, params: {'max_depth': 5, 'min_child_weight': 1},\n",
       " mean: 0.72137, std: 0.07115, params: {'max_depth': 5, 'min_child_weight': 3},\n",
       " mean: 0.71542, std: 0.05914, params: {'max_depth': 5, 'min_child_weight': 5},\n",
       " mean: 0.77806, std: 0.07052, params: {'max_depth': 7, 'min_child_weight': 1},\n",
       " mean: 0.75103, std: 0.07047, params: {'max_depth': 7, 'min_child_weight': 3},\n",
       " mean: 0.73176, std: 0.06451, params: {'max_depth': 7, 'min_child_weight': 5}]"
      ]
     },
     "execution_count": 40,
     "metadata": {},
     "output_type": "execute_result"
    }
   ],
   "source": [
    "params_1 = {\n",
    "    'max_depth' : [3, 4, 5, 7],\n",
    "    'min_child_weight' : list(range(1, 6, 2))\n",
    "}\n",
    "\n",
    "grid = GridSearchCV(\n",
    "    xgb.XGBClassifier(\n",
    "    max_depth=4, min_child_weight=1, gamma = 0, subsample=0.8, colsample_bytree=0.8,\n",
    "    scale_pos_weight = len(y_train[y_train]==0)/len(y_train[y_train==1]), nthread=-1\n",
    "), params_1, scoring='f1', n_jobs=-1, refit=True, verbose=0, cv=cv\n",
    ")\n",
    "\n",
    "grid.fit(X_train, y_train)\n",
    "\n",
    "grid.grid_scores_"
   ]
  },
  {
   "cell_type": "code",
   "execution_count": 41,
   "metadata": {},
   "outputs": [
    {
     "data": {
      "text/plain": [
       "({'max_depth': 7, 'min_child_weight': 1}, 0.7780571360256477)"
      ]
     },
     "execution_count": 41,
     "metadata": {},
     "output_type": "execute_result"
    }
   ],
   "source": [
    "grid.best_params_, grid.best_score_"
   ]
  },
  {
   "cell_type": "code",
   "execution_count": 42,
   "metadata": {},
   "outputs": [
    {
     "name": "stderr",
     "output_type": "stream",
     "text": [
      "C:\\Users\\Immanuel\\Anaconda3\\lib\\site-packages\\sklearn\\model_selection\\_search.py:762: DeprecationWarning: The grid_scores_ attribute was deprecated in version 0.18 in favor of the more elaborate cv_results_ attribute. The grid_scores_ attribute will not be available from 0.20\n",
      "  DeprecationWarning)\n"
     ]
    },
    {
     "data": {
      "text/plain": [
       "[mean: 0.77943, std: 0.06605, params: {'max_depth': 6, 'min_child_weight': 1},\n",
       " mean: 0.76378, std: 0.07073, params: {'max_depth': 6, 'min_child_weight': 2},\n",
       " mean: 0.74330, std: 0.07273, params: {'max_depth': 6, 'min_child_weight': 3},\n",
       " mean: 0.77806, std: 0.07052, params: {'max_depth': 7, 'min_child_weight': 1},\n",
       " mean: 0.77806, std: 0.07673, params: {'max_depth': 7, 'min_child_weight': 2},\n",
       " mean: 0.75103, std: 0.07047, params: {'max_depth': 7, 'min_child_weight': 3},\n",
       " mean: 0.78984, std: 0.06788, params: {'max_depth': 8, 'min_child_weight': 1},\n",
       " mean: 0.77737, std: 0.07337, params: {'max_depth': 8, 'min_child_weight': 2},\n",
       " mean: 0.75155, std: 0.07299, params: {'max_depth': 8, 'min_child_weight': 3}]"
      ]
     },
     "execution_count": 42,
     "metadata": {},
     "output_type": "execute_result"
    }
   ],
   "source": [
    "params_2 = {\n",
    "    'max_depth' : [6, 7, 8],\n",
    "    'min_child_weight' : [1, 2, 3]\n",
    "}\n",
    "\n",
    "grid2 = GridSearchCV(\n",
    "    xgb.XGBClassifier(\n",
    "    max_depth=4, min_child_weight=1, gamma = 0, subsample=0.8, colsample_bytree=0.8,\n",
    "    scale_pos_weight = len(y_train[y_train]==0)/len(y_train[y_train==1]), nthread=-1\n",
    "), params_2, scoring='f1', n_jobs=-1, refit=True, verbose=0, cv=cv\n",
    ")\n",
    "\n",
    "grid2.fit(X_train, y_train)\n",
    "\n",
    "grid2.grid_scores_"
   ]
  },
  {
   "cell_type": "code",
   "execution_count": 43,
   "metadata": {},
   "outputs": [
    {
     "data": {
      "text/plain": [
       "({'max_depth': 8, 'min_child_weight': 1}, 0.7898396911942334)"
      ]
     },
     "execution_count": 43,
     "metadata": {},
     "output_type": "execute_result"
    }
   ],
   "source": [
    "grid2.best_params_, grid2.best_score_"
   ]
  },
  {
   "cell_type": "code",
   "execution_count": 44,
   "metadata": {},
   "outputs": [
    {
     "name": "stderr",
     "output_type": "stream",
     "text": [
      "C:\\Users\\Immanuel\\Anaconda3\\lib\\site-packages\\sklearn\\model_selection\\_search.py:762: DeprecationWarning: The grid_scores_ attribute was deprecated in version 0.18 in favor of the more elaborate cv_results_ attribute. The grid_scores_ attribute will not be available from 0.20\n",
      "  DeprecationWarning)\n"
     ]
    },
    {
     "data": {
      "text/plain": [
       "[mean: 0.77943, std: 0.06605, params: {'max_depth': 6},\n",
       " mean: 0.77806, std: 0.07052, params: {'max_depth': 7},\n",
       " mean: 0.78984, std: 0.06788, params: {'max_depth': 8},\n",
       " mean: 0.78932, std: 0.07050, params: {'max_depth': 9},\n",
       " mean: 0.78806, std: 0.06346, params: {'max_depth': 10},\n",
       " mean: 0.79130, std: 0.06923, params: {'max_depth': 11},\n",
       " mean: 0.78426, std: 0.06848, params: {'max_depth': 12}]"
      ]
     },
     "execution_count": 44,
     "metadata": {},
     "output_type": "execute_result"
    }
   ],
   "source": [
    "params_3 = {\n",
    "    'max_depth' : [6, 7, 8, 9, 10, 11, 12],\n",
    "\n",
    "}\n",
    "\n",
    "grid3 = GridSearchCV(\n",
    "    xgb.XGBClassifier(\n",
    "    max_depth=4, min_child_weight=1, gamma = 0, subsample=0.8, colsample_bytree=0.8,\n",
    "    scale_pos_weight = len(y_train[y_train]==0)/len(y_train[y_train==1]), nthread=-1\n",
    "), params_3, scoring='f1', n_jobs=-1, refit=True, verbose=0, cv=cv\n",
    ")\n",
    "\n",
    "grid3.fit(X_train, y_train)\n",
    "\n",
    "grid3.grid_scores_"
   ]
  },
  {
   "cell_type": "code",
   "execution_count": 45,
   "metadata": {},
   "outputs": [
    {
     "data": {
      "text/plain": [
       "({'max_depth': 11}, 0.7912991431784155)"
      ]
     },
     "execution_count": 45,
     "metadata": {},
     "output_type": "execute_result"
    }
   ],
   "source": [
    "grid3.best_params_, grid3.best_score_"
   ]
  },
  {
   "cell_type": "code",
   "execution_count": 46,
   "metadata": {},
   "outputs": [
    {
     "name": "stderr",
     "output_type": "stream",
     "text": [
      "C:\\Users\\Immanuel\\Anaconda3\\lib\\site-packages\\sklearn\\model_selection\\_search.py:762: DeprecationWarning: The grid_scores_ attribute was deprecated in version 0.18 in favor of the more elaborate cv_results_ attribute. The grid_scores_ attribute will not be available from 0.20\n",
      "  DeprecationWarning)\n"
     ]
    },
    {
     "data": {
      "text/plain": [
       "[mean: 0.79130, std: 0.06923, params: {'gamma': 0.0},\n",
       " mean: 0.78870, std: 0.06744, params: {'gamma': 0.1},\n",
       " mean: 0.78676, std: 0.06923, params: {'gamma': 0.2},\n",
       " mean: 0.78676, std: 0.06923, params: {'gamma': 0.3},\n",
       " mean: 0.78424, std: 0.06780, params: {'gamma': 0.4}]"
      ]
     },
     "execution_count": 46,
     "metadata": {},
     "output_type": "execute_result"
    }
   ],
   "source": [
    "params_4 = {\n",
    "    'gamma' : [i/10.0 for i in range(0, 5)],\n",
    "\n",
    "}\n",
    "\n",
    "grid4 = GridSearchCV(\n",
    "    xgb.XGBClassifier(\n",
    "    max_depth=11, min_child_weight=1, gamma = 0, subsample=0.8, colsample_bytree=0.8,\n",
    "    scale_pos_weight = len(y_train[y_train]==0)/len(y_train[y_train==1]), nthread=-1\n",
    "), params_4, scoring='f1', n_jobs=-1, refit=True, verbose=0, cv=cv\n",
    ")\n",
    "\n",
    "grid4.fit(X_train, y_train)\n",
    "\n",
    "grid4.grid_scores_"
   ]
  },
  {
   "cell_type": "code",
   "execution_count": 47,
   "metadata": {},
   "outputs": [
    {
     "data": {
      "text/plain": [
       "({'gamma': 0.0}, 0.7912991431784155)"
      ]
     },
     "execution_count": 47,
     "metadata": {},
     "output_type": "execute_result"
    }
   ],
   "source": [
    "grid4.best_params_, grid4.best_score_"
   ]
  },
  {
   "cell_type": "code",
   "execution_count": 48,
   "metadata": {},
   "outputs": [
    {
     "name": "stderr",
     "output_type": "stream",
     "text": [
      "C:\\Users\\Immanuel\\Anaconda3\\lib\\site-packages\\sklearn\\model_selection\\_search.py:762: DeprecationWarning: The grid_scores_ attribute was deprecated in version 0.18 in favor of the more elaborate cv_results_ attribute. The grid_scores_ attribute will not be available from 0.20\n",
      "  DeprecationWarning)\n"
     ]
    },
    {
     "data": {
      "text/plain": [
       "[mean: 0.79130, std: 0.06923, params: {'gamma': 0.0},\n",
       " mean: 0.79130, std: 0.06923, params: {'gamma': 0.02},\n",
       " mean: 0.79130, std: 0.06923, params: {'gamma': 0.04},\n",
       " mean: 0.79130, std: 0.06923, params: {'gamma': 0.06},\n",
       " mean: 0.79130, std: 0.06923, params: {'gamma': 0.08}]"
      ]
     },
     "execution_count": 48,
     "metadata": {},
     "output_type": "execute_result"
    }
   ],
   "source": [
    "params_5 = {\n",
    "    'gamma' : np.arange(0.0, 0.1, 0.02)\n",
    "\n",
    "}\n",
    "\n",
    "grid5 = GridSearchCV(\n",
    "    xgb.XGBClassifier(\n",
    "    max_depth=11, min_child_weight=1, gamma = 0, subsample=0.8, colsample_bytree=0.8,\n",
    "    scale_pos_weight = len(y_train[y_train]==0)/len(y_train[y_train==1]), nthread=-1\n",
    "), params_5, scoring='f1', n_jobs=-1, refit=True, verbose=0, cv=cv\n",
    ")\n",
    "\n",
    "grid5.fit(X_train, y_train)\n",
    "\n",
    "grid5.grid_scores_"
   ]
  },
  {
   "cell_type": "code",
   "execution_count": 50,
   "metadata": {},
   "outputs": [
    {
     "data": {
      "text/plain": [
       "({'gamma': 0.0}, 0.7912991431784155)"
      ]
     },
     "execution_count": 50,
     "metadata": {},
     "output_type": "execute_result"
    }
   ],
   "source": [
    "grid5.best_params_, grid5.best_score_"
   ]
  },
  {
   "cell_type": "code",
   "execution_count": 51,
   "metadata": {},
   "outputs": [
    {
     "name": "stderr",
     "output_type": "stream",
     "text": [
      "C:\\Users\\Immanuel\\Anaconda3\\lib\\site-packages\\sklearn\\model_selection\\_search.py:762: DeprecationWarning: The grid_scores_ attribute was deprecated in version 0.18 in favor of the more elaborate cv_results_ attribute. The grid_scores_ attribute will not be available from 0.20\n",
      "  DeprecationWarning)\n"
     ]
    },
    {
     "data": {
      "text/plain": [
       "[mean: 0.78791, std: 0.08812, params: {'colsample_bytree': 0.6, 'subsample': 0.6},\n",
       " mean: 0.77699, std: 0.06446, params: {'colsample_bytree': 0.6, 'subsample': 0.7},\n",
       " mean: 0.77136, std: 0.07077, params: {'colsample_bytree': 0.6, 'subsample': 0.8},\n",
       " mean: 0.78054, std: 0.07270, params: {'colsample_bytree': 0.6, 'subsample': 0.9},\n",
       " mean: 0.79768, std: 0.06915, params: {'colsample_bytree': 0.7, 'subsample': 0.6},\n",
       " mean: 0.78284, std: 0.06197, params: {'colsample_bytree': 0.7, 'subsample': 0.7},\n",
       " mean: 0.78180, std: 0.06674, params: {'colsample_bytree': 0.7, 'subsample': 0.8},\n",
       " mean: 0.78025, std: 0.06331, params: {'colsample_bytree': 0.7, 'subsample': 0.9},\n",
       " mean: 0.79129, std: 0.05968, params: {'colsample_bytree': 0.8, 'subsample': 0.6},\n",
       " mean: 0.77231, std: 0.07747, params: {'colsample_bytree': 0.8, 'subsample': 0.7},\n",
       " mean: 0.79130, std: 0.06923, params: {'colsample_bytree': 0.8, 'subsample': 0.8},\n",
       " mean: 0.79406, std: 0.05582, params: {'colsample_bytree': 0.8, 'subsample': 0.9},\n",
       " mean: 0.78235, std: 0.07180, params: {'colsample_bytree': 0.9, 'subsample': 0.6},\n",
       " mean: 0.77291, std: 0.08845, params: {'colsample_bytree': 0.9, 'subsample': 0.7},\n",
       " mean: 0.78749, std: 0.08538, params: {'colsample_bytree': 0.9, 'subsample': 0.8},\n",
       " mean: 0.78664, std: 0.06733, params: {'colsample_bytree': 0.9, 'subsample': 0.9}]"
      ]
     },
     "execution_count": 51,
     "metadata": {},
     "output_type": "execute_result"
    }
   ],
   "source": [
    "params_6 = {\n",
    "    'subsample' : [i/10.0 for i in range(6, 10)],\n",
    "    'colsample_bytree' : [i/10.0 for i in range(6, 10)]\n",
    "\n",
    "}\n",
    "\n",
    "grid6 = GridSearchCV(\n",
    "    xgb.XGBClassifier(\n",
    "    max_depth=11, min_child_weight=1, gamma = 0.0, subsample=0.8, colsample_bytree=0.8,\n",
    "    scale_pos_weight = len(y_train[y_train]==0)/len(y_train[y_train==1]), nthread=-1\n",
    "), params_6, scoring='f1', n_jobs=-1, refit=True, verbose=0, cv=cv\n",
    ")\n",
    "\n",
    "grid6.fit(X_train, y_train)\n",
    "\n",
    "grid6.grid_scores_"
   ]
  },
  {
   "cell_type": "code",
   "execution_count": 52,
   "metadata": {},
   "outputs": [
    {
     "data": {
      "text/plain": [
       "({'colsample_bytree': 0.7, 'subsample': 0.6}, 0.797681072214377)"
      ]
     },
     "execution_count": 52,
     "metadata": {},
     "output_type": "execute_result"
    }
   ],
   "source": [
    "grid6.best_params_, grid6.best_score_"
   ]
  },
  {
   "cell_type": "code",
   "execution_count": 80,
   "metadata": {},
   "outputs": [
    {
     "name": "stderr",
     "output_type": "stream",
     "text": [
      "C:\\Users\\Immanuel\\Anaconda3\\lib\\site-packages\\sklearn\\model_selection\\_search.py:762: DeprecationWarning: The grid_scores_ attribute was deprecated in version 0.18 in favor of the more elaborate cv_results_ attribute. The grid_scores_ attribute will not be available from 0.20\n",
      "  DeprecationWarning)\n"
     ]
    },
    {
     "data": {
      "text/plain": [
       "[mean: 0.76027, std: 0.07034, params: {'colsample_bytree': 0.6, 'subsample': 0.5},\n",
       " mean: 0.76419, std: 0.06811, params: {'colsample_bytree': 0.6, 'subsample': 0.55},\n",
       " mean: 0.78791, std: 0.08812, params: {'colsample_bytree': 0.6, 'subsample': 0.6000000000000001},\n",
       " mean: 0.77987, std: 0.06852, params: {'colsample_bytree': 0.6, 'subsample': 0.6500000000000001},\n",
       " mean: 0.76719, std: 0.07029, params: {'colsample_bytree': 0.65, 'subsample': 0.5},\n",
       " mean: 0.76572, std: 0.06458, params: {'colsample_bytree': 0.65, 'subsample': 0.55},\n",
       " mean: 0.79447, std: 0.07714, params: {'colsample_bytree': 0.65, 'subsample': 0.6000000000000001},\n",
       " mean: 0.78076, std: 0.07253, params: {'colsample_bytree': 0.65, 'subsample': 0.6500000000000001},\n",
       " mean: 0.78433, std: 0.07913, params: {'colsample_bytree': 0.7000000000000001, 'subsample': 0.5},\n",
       " mean: 0.78338, std: 0.05245, params: {'colsample_bytree': 0.7000000000000001, 'subsample': 0.55},\n",
       " mean: 0.79768, std: 0.06915, params: {'colsample_bytree': 0.7000000000000001, 'subsample': 0.6000000000000001},\n",
       " mean: 0.78047, std: 0.06126, params: {'colsample_bytree': 0.7000000000000001, 'subsample': 0.6500000000000001},\n",
       " mean: 0.77534, std: 0.07392, params: {'colsample_bytree': 0.7500000000000001, 'subsample': 0.5},\n",
       " mean: 0.79597, std: 0.06021, params: {'colsample_bytree': 0.7500000000000001, 'subsample': 0.55},\n",
       " mean: 0.79115, std: 0.07614, params: {'colsample_bytree': 0.7500000000000001, 'subsample': 0.6000000000000001},\n",
       " mean: 0.77977, std: 0.06407, params: {'colsample_bytree': 0.7500000000000001, 'subsample': 0.6500000000000001},\n",
       " mean: 0.77802, std: 0.07655, params: {'colsample_bytree': 0.8000000000000002, 'subsample': 0.5},\n",
       " mean: 0.79249, std: 0.06431, params: {'colsample_bytree': 0.8000000000000002, 'subsample': 0.55},\n",
       " mean: 0.79129, std: 0.05968, params: {'colsample_bytree': 0.8000000000000002, 'subsample': 0.6000000000000001},\n",
       " mean: 0.78037, std: 0.06043, params: {'colsample_bytree': 0.8000000000000002, 'subsample': 0.6500000000000001}]"
      ]
     },
     "execution_count": 80,
     "metadata": {},
     "output_type": "execute_result"
    }
   ],
   "source": [
    "params_7 = {\n",
    "    'subsample' : np.arange(0.500, 0.70, 0.05),\n",
    "    'colsample_bytree' : np.arange(0.600, 0.8, 0.05)\n",
    "}\n",
    "\n",
    "grid7 = GridSearchCV(\n",
    "    xgb.XGBClassifier(\n",
    "    max_depth=11, min_child_weight=1, gamma = 0.0, subsample=0.8, colsample_bytree=0.8,\n",
    "    scale_pos_weight = len(y_train[y_train]==0)/len(y_train[y_train==1]), nthread=-1\n",
    "), params_7, scoring='f1', n_jobs=-1, refit=True, verbose=0, cv=cv\n",
    ")\n",
    "\n",
    "grid7.fit(X_train, y_train)\n",
    "\n",
    "grid7.grid_scores_"
   ]
  },
  {
   "cell_type": "code",
   "execution_count": 81,
   "metadata": {},
   "outputs": [
    {
     "data": {
      "text/plain": [
       "({'colsample_bytree': 0.7000000000000001, 'subsample': 0.6000000000000001},\n",
       " 0.797681072214377)"
      ]
     },
     "execution_count": 81,
     "metadata": {},
     "output_type": "execute_result"
    }
   ],
   "source": [
    "grid7.best_params_, grid7.best_score_"
   ]
  },
  {
   "cell_type": "code",
   "execution_count": 85,
   "metadata": {},
   "outputs": [
    {
     "name": "stderr",
     "output_type": "stream",
     "text": [
      "C:\\Users\\Immanuel\\Anaconda3\\lib\\site-packages\\sklearn\\model_selection\\_search.py:762: DeprecationWarning: The grid_scores_ attribute was deprecated in version 0.18 in favor of the more elaborate cv_results_ attribute. The grid_scores_ attribute will not be available from 0.20\n",
      "  DeprecationWarning)\n"
     ]
    },
    {
     "data": {
      "text/plain": [
       "[mean: 0.79655, std: 0.07445, params: {'colsample_bytree': 0.63, 'subsample': 0.61},\n",
       " mean: 0.78556, std: 0.06269, params: {'colsample_bytree': 0.63, 'subsample': 0.62},\n",
       " mean: 0.78000, std: 0.06866, params: {'colsample_bytree': 0.63, 'subsample': 0.63},\n",
       " mean: 0.78076, std: 0.07253, params: {'colsample_bytree': 0.63, 'subsample': 0.64},\n",
       " mean: 0.79584, std: 0.07154, params: {'colsample_bytree': 0.64, 'subsample': 0.61},\n",
       " mean: 0.77804, std: 0.06068, params: {'colsample_bytree': 0.64, 'subsample': 0.62},\n",
       " mean: 0.78537, std: 0.06428, params: {'colsample_bytree': 0.64, 'subsample': 0.63},\n",
       " mean: 0.77756, std: 0.06759, params: {'colsample_bytree': 0.64, 'subsample': 0.64},\n",
       " mean: 0.79584, std: 0.07154, params: {'colsample_bytree': 0.65, 'subsample': 0.61},\n",
       " mean: 0.77804, std: 0.06068, params: {'colsample_bytree': 0.65, 'subsample': 0.62},\n",
       " mean: 0.78537, std: 0.06428, params: {'colsample_bytree': 0.65, 'subsample': 0.63},\n",
       " mean: 0.77756, std: 0.06759, params: {'colsample_bytree': 0.65, 'subsample': 0.64},\n",
       " mean: 0.81183, std: 0.06926, params: {'colsample_bytree': 0.66, 'subsample': 0.61},\n",
       " mean: 0.79258, std: 0.05130, params: {'colsample_bytree': 0.66, 'subsample': 0.62},\n",
       " mean: 0.78682, std: 0.06873, params: {'colsample_bytree': 0.66, 'subsample': 0.63},\n",
       " mean: 0.77756, std: 0.06759, params: {'colsample_bytree': 0.66, 'subsample': 0.64},\n",
       " mean: 0.81183, std: 0.06926, params: {'colsample_bytree': 0.67, 'subsample': 0.61},\n",
       " mean: 0.79258, std: 0.05130, params: {'colsample_bytree': 0.67, 'subsample': 0.62},\n",
       " mean: 0.78682, std: 0.06873, params: {'colsample_bytree': 0.67, 'subsample': 0.63},\n",
       " mean: 0.77756, std: 0.06759, params: {'colsample_bytree': 0.67, 'subsample': 0.64},\n",
       " mean: 0.81183, std: 0.06926, params: {'colsample_bytree': 0.68, 'subsample': 0.61},\n",
       " mean: 0.79258, std: 0.05130, params: {'colsample_bytree': 0.68, 'subsample': 0.62},\n",
       " mean: 0.78682, std: 0.06873, params: {'colsample_bytree': 0.68, 'subsample': 0.63},\n",
       " mean: 0.77756, std: 0.06759, params: {'colsample_bytree': 0.68, 'subsample': 0.64},\n",
       " mean: 0.80078, std: 0.06409, params: {'colsample_bytree': 0.69, 'subsample': 0.61},\n",
       " mean: 0.78575, std: 0.05658, params: {'colsample_bytree': 0.69, 'subsample': 0.62},\n",
       " mean: 0.76856, std: 0.07648, params: {'colsample_bytree': 0.69, 'subsample': 0.63},\n",
       " mean: 0.78047, std: 0.06126, params: {'colsample_bytree': 0.69, 'subsample': 0.64}]"
      ]
     },
     "execution_count": 85,
     "metadata": {},
     "output_type": "execute_result"
    }
   ],
   "source": [
    "params_8 = {\n",
    "    \n",
    "    'subsample' : [0.61, 0.62, 0.63, 0.64],\n",
    "    'colsample_bytree' : [0.63, 0.64, 0.65, 0.66, 0.67, 0.68, 0.69]\n",
    "\n",
    "}\n",
    "\n",
    "grid8 = GridSearchCV(\n",
    "    xgb.XGBClassifier(\n",
    "    max_depth=11, min_child_weight=1, gamma = 0.0, subsample=0.8, colsample_bytree=0.8,\n",
    "    scale_pos_weight = len(y_train[y_train]==0)/len(y_train[y_train==1]), nthread=-1\n",
    "), params_8, scoring='f1', n_jobs=-1, refit=True, verbose=0, cv=cv\n",
    ")\n",
    "\n",
    "grid8.fit(X_train, y_train)\n",
    "\n",
    "grid8.grid_scores_"
   ]
  },
  {
   "cell_type": "code",
   "execution_count": 86,
   "metadata": {},
   "outputs": [
    {
     "data": {
      "text/plain": [
       "({'colsample_bytree': 0.66, 'subsample': 0.61}, 0.8118274551058706)"
      ]
     },
     "execution_count": 86,
     "metadata": {},
     "output_type": "execute_result"
    }
   ],
   "source": [
    "grid8.best_params_, grid8.best_score_"
   ]
  },
  {
   "cell_type": "code",
   "execution_count": null,
   "metadata": {},
   "outputs": [],
   "source": []
  },
  {
   "cell_type": "code",
   "execution_count": 87,
   "metadata": {},
   "outputs": [
    {
     "name": "stderr",
     "output_type": "stream",
     "text": [
      "C:\\Users\\Immanuel\\Anaconda3\\lib\\site-packages\\sklearn\\model_selection\\_search.py:762: DeprecationWarning: The grid_scores_ attribute was deprecated in version 0.18 in favor of the more elaborate cv_results_ attribute. The grid_scores_ attribute will not be available from 0.20\n",
      "  DeprecationWarning)\n"
     ]
    },
    {
     "data": {
      "text/plain": [
       "[mean: 0.80166, std: 0.08557, params: {'reg_alpha': 0, 'reg_lambda': 0.01},\n",
       " mean: 0.80615, std: 0.08297, params: {'reg_alpha': 0, 'reg_lambda': 0.05},\n",
       " mean: 0.80564, std: 0.08122, params: {'reg_alpha': 0, 'reg_lambda': 0.1},\n",
       " mean: 0.80301, std: 0.07987, params: {'reg_alpha': 0, 'reg_lambda': 0.5},\n",
       " mean: 0.81183, std: 0.06926, params: {'reg_alpha': 0, 'reg_lambda': 1},\n",
       " mean: 0.80166, std: 0.08557, params: {'reg_alpha': 0.001, 'reg_lambda': 0.01},\n",
       " mean: 0.80615, std: 0.08297, params: {'reg_alpha': 0.001, 'reg_lambda': 0.05},\n",
       " mean: 0.80564, std: 0.08122, params: {'reg_alpha': 0.001, 'reg_lambda': 0.1},\n",
       " mean: 0.80301, std: 0.07987, params: {'reg_alpha': 0.001, 'reg_lambda': 0.5},\n",
       " mean: 0.81183, std: 0.06926, params: {'reg_alpha': 0.001, 'reg_lambda': 1},\n",
       " mean: 0.80564, std: 0.08122, params: {'reg_alpha': 0.005, 'reg_lambda': 0.01},\n",
       " mean: 0.80166, std: 0.08557, params: {'reg_alpha': 0.005, 'reg_lambda': 0.05},\n",
       " mean: 0.80814, std: 0.08120, params: {'reg_alpha': 0.005, 'reg_lambda': 0.1},\n",
       " mean: 0.80102, std: 0.08259, params: {'reg_alpha': 0.005, 'reg_lambda': 0.5},\n",
       " mean: 0.81183, std: 0.06926, params: {'reg_alpha': 0.005, 'reg_lambda': 1},\n",
       " mean: 0.80366, std: 0.08396, params: {'reg_alpha': 0.01, 'reg_lambda': 0.01},\n",
       " mean: 0.80615, std: 0.08297, params: {'reg_alpha': 0.01, 'reg_lambda': 0.05},\n",
       " mean: 0.80416, std: 0.08566, params: {'reg_alpha': 0.01, 'reg_lambda': 0.1},\n",
       " mean: 0.80301, std: 0.07987, params: {'reg_alpha': 0.01, 'reg_lambda': 0.5},\n",
       " mean: 0.80602, std: 0.06252, params: {'reg_alpha': 0.01, 'reg_lambda': 1},\n",
       " mean: 0.80365, std: 0.08292, params: {'reg_alpha': 0.05, 'reg_lambda': 0.01},\n",
       " mean: 0.80416, std: 0.08566, params: {'reg_alpha': 0.05, 'reg_lambda': 0.05},\n",
       " mean: 0.80416, std: 0.08566, params: {'reg_alpha': 0.05, 'reg_lambda': 0.1},\n",
       " mean: 0.80102, std: 0.08259, params: {'reg_alpha': 0.05, 'reg_lambda': 0.5},\n",
       " mean: 0.79508, std: 0.05190, params: {'reg_alpha': 0.05, 'reg_lambda': 1}]"
      ]
     },
     "execution_count": 87,
     "metadata": {},
     "output_type": "execute_result"
    }
   ],
   "source": [
    "params_9 = {\n",
    "    \n",
    "    'reg_lambda' : [0.01, 0.05, 0.1, 0.5, 1],\n",
    "    'reg_alpha':[0, 0.001, 0.005, 0.01, 0.05]\n",
    "\n",
    "}\n",
    "\n",
    "grid9 = GridSearchCV(\n",
    "    xgb.XGBClassifier(\n",
    "    max_depth=11, min_child_weight=1, gamma = 0.0, subsample=0.61, colsample_bytree=0.66,\n",
    "    scale_pos_weight = len(y_train[y_train]==0)/len(y_train[y_train==1]), nthread=-1\n",
    "), params_9, scoring='f1', n_jobs=-1, refit=True, verbose=0, cv=cv\n",
    ")\n",
    "\n",
    "grid9.fit(X_train, y_train)\n",
    "\n",
    "grid9.grid_scores_"
   ]
  },
  {
   "cell_type": "code",
   "execution_count": 88,
   "metadata": {},
   "outputs": [
    {
     "data": {
      "text/plain": [
       "({'reg_alpha': 0, 'reg_lambda': 1}, 0.8118274551058706)"
      ]
     },
     "execution_count": 88,
     "metadata": {},
     "output_type": "execute_result"
    }
   ],
   "source": [
    "grid9.best_params_, grid9.best_score_"
   ]
  },
  {
   "cell_type": "code",
   "execution_count": 91,
   "metadata": {},
   "outputs": [
    {
     "name": "stderr",
     "output_type": "stream",
     "text": [
      "C:\\Users\\Immanuel\\Anaconda3\\lib\\site-packages\\sklearn\\model_selection\\_search.py:762: DeprecationWarning: The grid_scores_ attribute was deprecated in version 0.18 in favor of the more elaborate cv_results_ attribute. The grid_scores_ attribute will not be available from 0.20\n",
      "  DeprecationWarning)\n"
     ]
    },
    {
     "data": {
      "text/plain": [
       "[mean: 0.80102, std: 0.08259, params: {'reg_alpha': 0.0001, 'reg_lambda': 0.6},\n",
       " mean: 0.80888, std: 0.06566, params: {'reg_alpha': 0.0001, 'reg_lambda': 0.7},\n",
       " mean: 0.81183, std: 0.06926, params: {'reg_alpha': 0.0001, 'reg_lambda': 0.8},\n",
       " mean: 0.81183, std: 0.06926, params: {'reg_alpha': 0.0001, 'reg_lambda': 0.9},\n",
       " mean: 0.81183, std: 0.06926, params: {'reg_alpha': 0.0001, 'reg_lambda': 1},\n",
       " mean: 0.79065, std: 0.05345, params: {'reg_alpha': 0.0001, 'reg_lambda': 1.1},\n",
       " mean: 0.80102, std: 0.08259, params: {'reg_alpha': 0.0002, 'reg_lambda': 0.6},\n",
       " mean: 0.80888, std: 0.06566, params: {'reg_alpha': 0.0002, 'reg_lambda': 0.7},\n",
       " mean: 0.81183, std: 0.06926, params: {'reg_alpha': 0.0002, 'reg_lambda': 0.8},\n",
       " mean: 0.81183, std: 0.06926, params: {'reg_alpha': 0.0002, 'reg_lambda': 0.9},\n",
       " mean: 0.81183, std: 0.06926, params: {'reg_alpha': 0.0002, 'reg_lambda': 1},\n",
       " mean: 0.79065, std: 0.05345, params: {'reg_alpha': 0.0002, 'reg_lambda': 1.1},\n",
       " mean: 0.80102, std: 0.08259, params: {'reg_alpha': 0.00035, 'reg_lambda': 0.6},\n",
       " mean: 0.81183, std: 0.06926, params: {'reg_alpha': 0.00035, 'reg_lambda': 0.7},\n",
       " mean: 0.81183, std: 0.06926, params: {'reg_alpha': 0.00035, 'reg_lambda': 0.8},\n",
       " mean: 0.81183, std: 0.06926, params: {'reg_alpha': 0.00035, 'reg_lambda': 0.9},\n",
       " mean: 0.81183, std: 0.06926, params: {'reg_alpha': 0.00035, 'reg_lambda': 1},\n",
       " mean: 0.79065, std: 0.05345, params: {'reg_alpha': 0.00035, 'reg_lambda': 1.1},\n",
       " mean: 0.80102, std: 0.08259, params: {'reg_alpha': 0.00045, 'reg_lambda': 0.6},\n",
       " mean: 0.81183, std: 0.06926, params: {'reg_alpha': 0.00045, 'reg_lambda': 0.7},\n",
       " mean: 0.81183, std: 0.06926, params: {'reg_alpha': 0.00045, 'reg_lambda': 0.8},\n",
       " mean: 0.81183, std: 0.06926, params: {'reg_alpha': 0.00045, 'reg_lambda': 0.9},\n",
       " mean: 0.81183, std: 0.06926, params: {'reg_alpha': 0.00045, 'reg_lambda': 1},\n",
       " mean: 0.79065, std: 0.05345, params: {'reg_alpha': 0.00045, 'reg_lambda': 1.1}]"
      ]
     },
     "execution_count": 91,
     "metadata": {},
     "output_type": "execute_result"
    }
   ],
   "source": [
    "params_10 = {\n",
    "    \n",
    "    'reg_lambda' : [0.6, 0.7, 0.8, 0.9, 1, 1.1],\n",
    "    'reg_alpha':[0.0001, 0.0002, 0.00035, 0.00045]\n",
    "\n",
    "}\n",
    "\n",
    "grid10 = GridSearchCV(\n",
    "    xgb.XGBClassifier(\n",
    "    max_depth=11, min_child_weight=1, gamma = 0.0, subsample=0.61, colsample_bytree=0.66,\n",
    "    scale_pos_weight = len(y_train[y_train]==0)/len(y_train[y_train==1]), nthread=-1\n",
    "), params_10, scoring='f1', n_jobs=-1, refit=True, verbose=0, cv=cv\n",
    ")\n",
    "\n",
    "grid10.fit(X_train, y_train)\n",
    "\n",
    "grid10.grid_scores_"
   ]
  },
  {
   "cell_type": "code",
   "execution_count": 90,
   "metadata": {},
   "outputs": [
    {
     "data": {
      "text/plain": [
       "({'reg_alpha': 0.0002, 'reg_lambda': 1}, 0.8118274551058706)"
      ]
     },
     "execution_count": 90,
     "metadata": {},
     "output_type": "execute_result"
    }
   ],
   "source": [
    "grid10.best_params_, grid10.best_score_"
   ]
  },
  {
   "cell_type": "code",
   "execution_count": null,
   "metadata": {},
   "outputs": [],
   "source": []
  },
  {
   "cell_type": "code",
   "execution_count": null,
   "metadata": {},
   "outputs": [],
   "source": []
  },
  {
   "cell_type": "code",
   "execution_count": 38,
   "metadata": {},
   "outputs": [],
   "source": [
    "xgbc = xgb.XGBClassifier(n_estimators=16000, learning_rate=0.007,\n",
    "    max_depth=11, min_child_weight=1, gamma = 0.0, subsample=0.61, colsample_bytree=0.66,\n",
    "    scale_pos_weight = len(y_train[y_train]==0)/len(y_train[y_train==1]), nthread=-1,\n",
    "    reg_alpha=0.0002, reg_lambda=1\n",
    ")"
   ]
  },
  {
   "cell_type": "code",
   "execution_count": 93,
   "metadata": {},
   "outputs": [
    {
     "name": "stderr",
     "output_type": "stream",
     "text": [
      "C:\\Users\\Immanuel\\Anaconda3\\lib\\site-packages\\sklearn\\preprocessing\\label.py:151: DeprecationWarning: The truth value of an empty array is ambiguous. Returning False, but in future this will result in an error. Use `array.size > 0` to check that an array is not empty.\n",
      "  if diff:\n"
     ]
    },
    {
     "name": "stdout",
     "output_type": "stream",
     "text": [
      "Train Score: 0.846395\n",
      "Test Score: 0.773723\n"
     ]
    },
    {
     "name": "stderr",
     "output_type": "stream",
     "text": [
      "C:\\Users\\Immanuel\\Anaconda3\\lib\\site-packages\\sklearn\\preprocessing\\label.py:151: DeprecationWarning: The truth value of an empty array is ambiguous. Returning False, but in future this will result in an error. Use `array.size > 0` to check that an array is not empty.\n",
      "  if diff:\n"
     ]
    }
   ],
   "source": [
    "\n",
    "\n",
    "\n",
    "xgbc.fit(X_train, y_train)\n",
    "\n",
    "\n",
    "train_predictions = xgbc.predict(X_train)\n",
    "test_predictions = xgbc.predict(X_test)\n",
    "\n",
    "print('Train Score: {:4f}'.format(f1_score(y_train, train_predictions)))\n",
    "print('Test Score: {:4f}'.format(f1_score(y_test, test_predictions)))"
   ]
  },
  {
   "cell_type": "code",
   "execution_count": 94,
   "metadata": {},
   "outputs": [
    {
     "data": {
      "text/plain": [
       "0.7804617676048415"
      ]
     },
     "execution_count": 94,
     "metadata": {},
     "output_type": "execute_result"
    }
   ],
   "source": [
    "cross_val_score(xgbc, X_train, y_train, scoring='f1', cv=cv, n_jobs=-1, verbose=0).mean()"
   ]
  },
  {
   "cell_type": "code",
   "execution_count": null,
   "metadata": {},
   "outputs": [],
   "source": []
  },
  {
   "cell_type": "code",
   "execution_count": 39,
   "metadata": {},
   "outputs": [],
   "source": [
    "from sklearn.metrics import f1_score"
   ]
  },
  {
   "cell_type": "code",
   "execution_count": null,
   "metadata": {},
   "outputs": [],
   "source": [
    "#cv = StratifiedKFold(n_splits=10, random_state=42)\n",
    "def plot_learning_curves(model, X, y):    \n",
    "    #X_train, X_val, y_train, y_val = train_test_split(X, y, test_size=0.2)    \n",
    "    train_errors, val_errors = [], []    \n",
    "    for train, test in cv.split(X_train.values, y_train.values):        \n",
    "        model.fit(X_train.values[train], y_train.values[train])        \n",
    "        y_train_predict = model.predict(X_train.values[train])\n",
    "\n",
    "        y_val_predict = model.predict(X_train.values[test])        \n",
    "        train_errors.append(1 - f1_score(y_train.values[train], y_train_predict))        \n",
    "        val_errors.append(1 - f1_score(y_train.values[test], y_val_predict))    \n",
    "    plt.plot(train_errors, \"r-+\", linewidth=2, label=\"train\")    \n",
    "    plt.plot(val_errors, \"b-\", linewidth=3, label=\"val\")\n",
    "    plt.legend()\n",
    "    \n",
    "    \n",
    "\n",
    "        \n",
    "\n",
    "                \n",
    "                 \n",
    "plot_learning_curves(classifier, X_train, y_train\n",
    ")"
   ]
  },
  {
   "cell_type": "code",
   "execution_count": null,
   "metadata": {},
   "outputs": [],
   "source": []
  },
  {
   "cell_type": "code",
   "execution_count": null,
   "metadata": {},
   "outputs": [],
   "source": []
  },
  {
   "cell_type": "code",
   "execution_count": null,
   "metadata": {},
   "outputs": [],
   "source": []
  },
  {
   "cell_type": "markdown",
   "metadata": {},
   "source": [
    "LIGHTGBM"
   ]
  },
  {
   "cell_type": "code",
   "execution_count": 40,
   "metadata": {},
   "outputs": [],
   "source": [
    "import lightgbm as lgb"
   ]
  },
  {
   "cell_type": "code",
   "execution_count": 40,
   "metadata": {},
   "outputs": [
    {
     "data": {
      "text/plain": [
       "Counter({0: 66828, 1: 135})"
      ]
     },
     "execution_count": 40,
     "metadata": {},
     "output_type": "execute_result"
    }
   ],
   "source": [
    "Counter(y_train)"
   ]
  },
  {
   "cell_type": "code",
   "execution_count": 48,
   "metadata": {},
   "outputs": [
    {
     "name": "stderr",
     "output_type": "stream",
     "text": [
      "C:\\Users\\Immanuel\\Anaconda3\\lib\\site-packages\\sklearn\\preprocessing\\label.py:151: DeprecationWarning: The truth value of an empty array is ambiguous. Returning False, but in future this will result in an error. Use `array.size > 0` to check that an array is not empty.\n",
      "  if diff:\n"
     ]
    },
    {
     "name": "stdout",
     "output_type": "stream",
     "text": [
      "Train Score: 0.752089\n",
      "Test Score: 0.675000\n"
     ]
    },
    {
     "name": "stderr",
     "output_type": "stream",
     "text": [
      "C:\\Users\\Immanuel\\Anaconda3\\lib\\site-packages\\sklearn\\preprocessing\\label.py:151: DeprecationWarning: The truth value of an empty array is ambiguous. Returning False, but in future this will result in an error. Use `array.size > 0` to check that an array is not empty.\n",
      "  if diff:\n"
     ]
    }
   ],
   "source": [
    "model = lgb.LGBMClassifier(\n",
    "    objective='binary', class_weight={0:1, 1:99.7979888}, num_leaves=31, max_depth=5, \n",
    "    min_child_samples=20, min_child_weight=0.001, subsample=0.8, \n",
    "    colsample_bytree=0.8, subsample_freq=5\n",
    ")\n",
    "\n",
    "model.fit(X_train, y_train)\n",
    "\n",
    "train_predictions = model.predict(X_train)\n",
    "test_predictions = model.predict(X_test)\n",
    "\n",
    "print('Train Score: {:4f}'.format(f1_score(y_train, train_predictions)))\n",
    "print('Test Score: {:4f}'.format(f1_score(y_test, test_predictions)))"
   ]
  },
  {
   "cell_type": "code",
   "execution_count": 49,
   "metadata": {},
   "outputs": [
    {
     "data": {
      "text/plain": [
       "0.7336842517800837"
      ]
     },
     "execution_count": 49,
     "metadata": {},
     "output_type": "execute_result"
    }
   ],
   "source": [
    "cross_val_score(model, X_train, y_train, scoring='f1', cv=cv, n_jobs=-1, verbose=0).mean()"
   ]
  },
  {
   "cell_type": "code",
   "execution_count": 42,
   "metadata": {},
   "outputs": [
    {
     "name": "stderr",
     "output_type": "stream",
     "text": [
      "C:\\Users\\Immanuel\\Anaconda3\\lib\\site-packages\\sklearn\\model_selection\\_search.py:762: DeprecationWarning: The grid_scores_ attribute was deprecated in version 0.18 in favor of the more elaborate cv_results_ attribute. The grid_scores_ attribute will not be available from 0.20\n",
      "  DeprecationWarning)\n"
     ]
    },
    {
     "data": {
      "text/plain": [
       "[mean: 0.51924, std: 0.01553, params: {'max_depth': 1, 'min_child_samples': 15},\n",
       " mean: 0.52361, std: 0.01634, params: {'max_depth': 1, 'min_child_samples': 20},\n",
       " mean: 0.52361, std: 0.01634, params: {'max_depth': 1, 'min_child_samples': 25},\n",
       " mean: 0.52361, std: 0.01634, params: {'max_depth': 1, 'min_child_samples': 30},\n",
       " mean: 0.68645, std: 0.06415, params: {'max_depth': 3, 'min_child_samples': 15},\n",
       " mean: 0.69242, std: 0.06693, params: {'max_depth': 3, 'min_child_samples': 20},\n",
       " mean: 0.68676, std: 0.06756, params: {'max_depth': 3, 'min_child_samples': 25},\n",
       " mean: 0.68007, std: 0.06889, params: {'max_depth': 3, 'min_child_samples': 30},\n",
       " mean: 0.74657, std: 0.06064, params: {'max_depth': 5, 'min_child_samples': 15},\n",
       " mean: 0.73368, std: 0.05783, params: {'max_depth': 5, 'min_child_samples': 20},\n",
       " mean: 0.72153, std: 0.06230, params: {'max_depth': 5, 'min_child_samples': 25},\n",
       " mean: 0.72602, std: 0.07105, params: {'max_depth': 5, 'min_child_samples': 30}]"
      ]
     },
     "execution_count": 42,
     "metadata": {},
     "output_type": "execute_result"
    }
   ],
   "source": [
    "lgb_params_1 = {\n",
    "    'num_leaves' : [10, 15, 20, 25, 30, 35],\n",
    "    'max_depth' : list(range(1, 6, 2)),\n",
    "}\n",
    "\n",
    "lgb_grid = GridSearchCV(\n",
    "    lgb.LGBMClassifier(\n",
    "    objective='binary', class_weight={0:1, 1:99.7979888}, num_leaves=31, max_depth=5, \n",
    "    min_child_samples=20, min_child_weight=0.001, subsample=0.8, \n",
    "    colsample_bytree=0.8, subsample_freq=5\n",
    "), lgb_params_1, scoring='f1', n_jobs=-1, refit=True, verbose=0, cv=cv\n",
    ")\n",
    "\n",
    "lgb_grid.fit(X_train, y_train)\n",
    "\n",
    "lgb_grid.grid_scores_"
   ]
  },
  {
   "cell_type": "code",
   "execution_count": 43,
   "metadata": {},
   "outputs": [
    {
     "data": {
      "text/plain": [
       "({'max_depth': 5, 'min_child_samples': 15}, 0.7465692790896421)"
      ]
     },
     "execution_count": 43,
     "metadata": {},
     "output_type": "execute_result"
    }
   ],
   "source": [
    "lgb_grid.best_params_, lgb_grid.best_score_"
   ]
  },
  {
   "cell_type": "code",
   "execution_count": null,
   "metadata": {},
   "outputs": [],
   "source": [
    "lgb_params_2 = {\n",
    "    'min_child_samples' : [5, 10, 15, 19],\n",
    "    'max_depth' : [4, 5, 6, 7, 8, 9]\n",
    "}\n",
    "\n",
    "lgb_grid2 = GridSearchCV(\n",
    "    lgb.LGBMClassifier(\n",
    "    objective='binary', class_weight={0:1, 1:99.7979888}, num_leaves=31, max_depth=5, \n",
    "    min_child_samples=20, min_child_weight=0.001, subsample=0.8, \n",
    "    colsample_bytree=0.8, subsample_freq=5\n",
    "), lgb_params_2, scoring='f1', n_jobs=-1, refit=True, verbose=0, cv=cv\n",
    ")\n",
    "\n",
    "lgb_grid2.fit(X_train, y_train)\n",
    "\n",
    "lgb_grid2.grid_scores_"
   ]
  },
  {
   "cell_type": "code",
   "execution_count": 53,
   "metadata": {},
   "outputs": [
    {
     "data": {
      "text/plain": [
       "({'max_depth': 7, 'num_leaves': 21}, 0.748264370662598)"
      ]
     },
     "execution_count": 53,
     "metadata": {},
     "output_type": "execute_result"
    }
   ],
   "source": [
    "lgb_grid2.best_params_, lgb_grid2.best_score_"
   ]
  },
  {
   "cell_type": "code",
   "execution_count": 54,
   "metadata": {},
   "outputs": [
    {
     "name": "stderr",
     "output_type": "stream",
     "text": [
      "C:\\Users\\Immanuel\\Anaconda3\\lib\\site-packages\\sklearn\\model_selection\\_search.py:762: DeprecationWarning: The grid_scores_ attribute was deprecated in version 0.18 in favor of the more elaborate cv_results_ attribute. The grid_scores_ attribute will not be available from 0.20\n",
      "  DeprecationWarning)\n"
     ]
    },
    {
     "data": {
      "text/plain": [
       "[mean: 0.73220, std: 0.05618, params: {'min_child_samples': 15, 'min_child_weight': 0.001, 'min_split_gain': 0.0},\n",
       " mean: 0.75205, std: 0.06141, params: {'min_child_samples': 15, 'min_child_weight': 0.001, 'min_split_gain': 0.2},\n",
       " mean: 0.74539, std: 0.06200, params: {'min_child_samples': 15, 'min_child_weight': 0.001, 'min_split_gain': 0.4},\n",
       " mean: 0.73293, std: 0.05865, params: {'min_child_samples': 15, 'min_child_weight': 0.001, 'min_split_gain': 0.6},\n",
       " mean: 0.73220, std: 0.05618, params: {'min_child_samples': 15, 'min_child_weight': 0.01, 'min_split_gain': 0.0},\n",
       " mean: 0.75205, std: 0.06141, params: {'min_child_samples': 15, 'min_child_weight': 0.01, 'min_split_gain': 0.2},\n",
       " mean: 0.74539, std: 0.06200, params: {'min_child_samples': 15, 'min_child_weight': 0.01, 'min_split_gain': 0.4},\n",
       " mean: 0.73651, std: 0.05670, params: {'min_child_samples': 15, 'min_child_weight': 0.01, 'min_split_gain': 0.6},\n",
       " mean: 0.74747, std: 0.06272, params: {'min_child_samples': 15, 'min_child_weight': 0.1, 'min_split_gain': 0.0},\n",
       " mean: 0.76038, std: 0.06026, params: {'min_child_samples': 15, 'min_child_weight': 0.1, 'min_split_gain': 0.2},\n",
       " mean: 0.74539, std: 0.06200, params: {'min_child_samples': 15, 'min_child_weight': 0.1, 'min_split_gain': 0.4},\n",
       " mean: 0.74766, std: 0.04646, params: {'min_child_samples': 15, 'min_child_weight': 0.1, 'min_split_gain': 0.6},\n",
       " mean: 0.75198, std: 0.06201, params: {'min_child_samples': 15, 'min_child_weight': 1, 'min_split_gain': 0.0},\n",
       " mean: 0.75071, std: 0.08091, params: {'min_child_samples': 15, 'min_child_weight': 1, 'min_split_gain': 0.2},\n",
       " mean: 0.73045, std: 0.07201, params: {'min_child_samples': 15, 'min_child_weight': 1, 'min_split_gain': 0.4},\n",
       " mean: 0.73632, std: 0.06171, params: {'min_child_samples': 15, 'min_child_weight': 1, 'min_split_gain': 0.6},\n",
       " mean: 0.74826, std: 0.06969, params: {'min_child_samples': 20, 'min_child_weight': 0.001, 'min_split_gain': 0.0},\n",
       " mean: 0.72672, std: 0.06727, params: {'min_child_samples': 20, 'min_child_weight': 0.001, 'min_split_gain': 0.2},\n",
       " mean: 0.73814, std: 0.05022, params: {'min_child_samples': 20, 'min_child_weight': 0.001, 'min_split_gain': 0.4},\n",
       " mean: 0.73645, std: 0.04915, params: {'min_child_samples': 20, 'min_child_weight': 0.001, 'min_split_gain': 0.6},\n",
       " mean: 0.74631, std: 0.07102, params: {'min_child_samples': 20, 'min_child_weight': 0.01, 'min_split_gain': 0.0},\n",
       " mean: 0.72672, std: 0.06727, params: {'min_child_samples': 20, 'min_child_weight': 0.01, 'min_split_gain': 0.2},\n",
       " mean: 0.73814, std: 0.05022, params: {'min_child_samples': 20, 'min_child_weight': 0.01, 'min_split_gain': 0.4},\n",
       " mean: 0.73645, std: 0.04915, params: {'min_child_samples': 20, 'min_child_weight': 0.01, 'min_split_gain': 0.6},\n",
       " mean: 0.74138, std: 0.06700, params: {'min_child_samples': 20, 'min_child_weight': 0.1, 'min_split_gain': 0.0},\n",
       " mean: 0.74255, std: 0.05289, params: {'min_child_samples': 20, 'min_child_weight': 0.1, 'min_split_gain': 0.2},\n",
       " mean: 0.73814, std: 0.05022, params: {'min_child_samples': 20, 'min_child_weight': 0.1, 'min_split_gain': 0.4},\n",
       " mean: 0.73645, std: 0.04915, params: {'min_child_samples': 20, 'min_child_weight': 0.1, 'min_split_gain': 0.6},\n",
       " mean: 0.73116, std: 0.07222, params: {'min_child_samples': 20, 'min_child_weight': 1, 'min_split_gain': 0.0},\n",
       " mean: 0.73005, std: 0.06679, params: {'min_child_samples': 20, 'min_child_weight': 1, 'min_split_gain': 0.2},\n",
       " mean: 0.71833, std: 0.05860, params: {'min_child_samples': 20, 'min_child_weight': 1, 'min_split_gain': 0.4},\n",
       " mean: 0.71509, std: 0.06213, params: {'min_child_samples': 20, 'min_child_weight': 1, 'min_split_gain': 0.6},\n",
       " mean: 0.73658, std: 0.07897, params: {'min_child_samples': 25, 'min_child_weight': 0.001, 'min_split_gain': 0.0},\n",
       " mean: 0.72979, std: 0.06515, params: {'min_child_samples': 25, 'min_child_weight': 0.001, 'min_split_gain': 0.2},\n",
       " mean: 0.73503, std: 0.04681, params: {'min_child_samples': 25, 'min_child_weight': 0.001, 'min_split_gain': 0.4},\n",
       " mean: 0.72799, std: 0.04454, params: {'min_child_samples': 25, 'min_child_weight': 0.001, 'min_split_gain': 0.6},\n",
       " mean: 0.73658, std: 0.07897, params: {'min_child_samples': 25, 'min_child_weight': 0.01, 'min_split_gain': 0.0},\n",
       " mean: 0.73676, std: 0.05437, params: {'min_child_samples': 25, 'min_child_weight': 0.01, 'min_split_gain': 0.2},\n",
       " mean: 0.73503, std: 0.04681, params: {'min_child_samples': 25, 'min_child_weight': 0.01, 'min_split_gain': 0.4},\n",
       " mean: 0.72799, std: 0.04454, params: {'min_child_samples': 25, 'min_child_weight': 0.01, 'min_split_gain': 0.6},\n",
       " mean: 0.73945, std: 0.07304, params: {'min_child_samples': 25, 'min_child_weight': 0.1, 'min_split_gain': 0.0},\n",
       " mean: 0.73676, std: 0.05437, params: {'min_child_samples': 25, 'min_child_weight': 0.1, 'min_split_gain': 0.2},\n",
       " mean: 0.73907, std: 0.05013, params: {'min_child_samples': 25, 'min_child_weight': 0.1, 'min_split_gain': 0.4},\n",
       " mean: 0.72888, std: 0.04993, params: {'min_child_samples': 25, 'min_child_weight': 0.1, 'min_split_gain': 0.6},\n",
       " mean: 0.73200, std: 0.05583, params: {'min_child_samples': 25, 'min_child_weight': 1, 'min_split_gain': 0.0},\n",
       " mean: 0.72058, std: 0.05900, params: {'min_child_samples': 25, 'min_child_weight': 1, 'min_split_gain': 0.2},\n",
       " mean: 0.71587, std: 0.05642, params: {'min_child_samples': 25, 'min_child_weight': 1, 'min_split_gain': 0.4},\n",
       " mean: 0.71441, std: 0.05894, params: {'min_child_samples': 25, 'min_child_weight': 1, 'min_split_gain': 0.6},\n",
       " mean: 0.73936, std: 0.08113, params: {'min_child_samples': 30, 'min_child_weight': 0.001, 'min_split_gain': 0.0},\n",
       " mean: 0.73536, std: 0.04805, params: {'min_child_samples': 30, 'min_child_weight': 0.001, 'min_split_gain': 0.2},\n",
       " mean: 0.72594, std: 0.04446, params: {'min_child_samples': 30, 'min_child_weight': 0.001, 'min_split_gain': 0.4},\n",
       " mean: 0.72770, std: 0.04419, params: {'min_child_samples': 30, 'min_child_weight': 0.001, 'min_split_gain': 0.6},\n",
       " mean: 0.73936, std: 0.08113, params: {'min_child_samples': 30, 'min_child_weight': 0.01, 'min_split_gain': 0.0},\n",
       " mean: 0.73536, std: 0.04805, params: {'min_child_samples': 30, 'min_child_weight': 0.01, 'min_split_gain': 0.2},\n",
       " mean: 0.72594, std: 0.04446, params: {'min_child_samples': 30, 'min_child_weight': 0.01, 'min_split_gain': 0.4},\n",
       " mean: 0.72770, std: 0.04419, params: {'min_child_samples': 30, 'min_child_weight': 0.01, 'min_split_gain': 0.6},\n",
       " mean: 0.73421, std: 0.07700, params: {'min_child_samples': 30, 'min_child_weight': 0.1, 'min_split_gain': 0.0},\n",
       " mean: 0.73599, std: 0.05781, params: {'min_child_samples': 30, 'min_child_weight': 0.1, 'min_split_gain': 0.2},\n",
       " mean: 0.72838, std: 0.04558, params: {'min_child_samples': 30, 'min_child_weight': 0.1, 'min_split_gain': 0.4},\n",
       " mean: 0.72445, std: 0.04946, params: {'min_child_samples': 30, 'min_child_weight': 0.1, 'min_split_gain': 0.6},\n",
       " mean: 0.73211, std: 0.07293, params: {'min_child_samples': 30, 'min_child_weight': 1, 'min_split_gain': 0.0},\n",
       " mean: 0.72569, std: 0.05584, params: {'min_child_samples': 30, 'min_child_weight': 1, 'min_split_gain': 0.2},\n",
       " mean: 0.71715, std: 0.05414, params: {'min_child_samples': 30, 'min_child_weight': 1, 'min_split_gain': 0.4},\n",
       " mean: 0.70897, std: 0.06588, params: {'min_child_samples': 30, 'min_child_weight': 1, 'min_split_gain': 0.6}]"
      ]
     },
     "execution_count": 54,
     "metadata": {},
     "output_type": "execute_result"
    }
   ],
   "source": [
    "lgb_params_3 = {\n",
    "    'min_child_samples' : [15, 20, 25, 30],\n",
    "    'min_child_weight' : [0.001, 0.01, 0.1, 1],\n",
    "    'min_split_gain' : [0.0, 0.2, 0.4, 0.6]\n",
    "}\n",
    "\n",
    "lgb_grid3 = GridSearchCV(\n",
    "    lgb.LGBMClassifier(\n",
    "    objective='binary', class_weight={0:1, 1:99.7979888}, num_leaves=21, max_depth=7, \n",
    "    min_child_samples=20, min_child_weight=0.001, subsample=0.8, \n",
    "    colsample_bytree=0.8, subsample_freq=5\n",
    "), lgb_params_3, scoring='f1', n_jobs=-1, refit=True, verbose=0, cv=cv\n",
    ")\n",
    "\n",
    "lgb_grid3.fit(X_train, y_train)\n",
    "\n",
    "lgb_grid3.grid_scores_"
   ]
  },
  {
   "cell_type": "code",
   "execution_count": 55,
   "metadata": {},
   "outputs": [
    {
     "data": {
      "text/plain": [
       "({'min_child_samples': 15, 'min_child_weight': 0.1, 'min_split_gain': 0.2},\n",
       " 0.760378471569263)"
      ]
     },
     "execution_count": 55,
     "metadata": {},
     "output_type": "execute_result"
    }
   ],
   "source": [
    "lgb_grid3.best_params_, lgb_grid3.best_score_"
   ]
  },
  {
   "cell_type": "code",
   "execution_count": 41,
   "metadata": {},
   "outputs": [
    {
     "name": "stderr",
     "output_type": "stream",
     "text": [
      "C:\\Users\\Immanuel\\Anaconda3\\lib\\site-packages\\sklearn\\model_selection\\_search.py:762: DeprecationWarning: The grid_scores_ attribute was deprecated in version 0.18 in favor of the more elaborate cv_results_ attribute. The grid_scores_ attribute will not be available from 0.20\n",
      "  DeprecationWarning)\n"
     ]
    },
    {
     "data": {
      "text/plain": [
       "[mean: 0.75230, std: 0.06857, params: {'min_child_samples': 10, 'min_child_weight': 0.03, 'min_split_gain': 0.0},\n",
       " mean: 0.75884, std: 0.05437, params: {'min_child_samples': 10, 'min_child_weight': 0.03, 'min_split_gain': 0.05},\n",
       " mean: 0.76301, std: 0.05541, params: {'min_child_samples': 10, 'min_child_weight': 0.03, 'min_split_gain': 0.1},\n",
       " mean: 0.75429, std: 0.07395, params: {'min_child_samples': 10, 'min_child_weight': 0.03, 'min_split_gain': 0.15000000000000002},\n",
       " mean: 0.76267, std: 0.05837, params: {'min_child_samples': 10, 'min_child_weight': 0.03, 'min_split_gain': 0.2},\n",
       " mean: 0.75514, std: 0.05432, params: {'min_child_samples': 10, 'min_child_weight': 0.03, 'min_split_gain': 0.25},\n",
       " mean: 0.75887, std: 0.05271, params: {'min_child_samples': 10, 'min_child_weight': 0.03, 'min_split_gain': 0.30000000000000004},\n",
       " mean: 0.74105, std: 0.07017, params: {'min_child_samples': 10, 'min_child_weight': 0.03, 'min_split_gain': 0.35000000000000003},\n",
       " mean: 0.74813, std: 0.06439, params: {'min_child_samples': 10, 'min_child_weight': 0.03, 'min_split_gain': 0.4},\n",
       " mean: 0.76644, std: 0.06147, params: {'min_child_samples': 10, 'min_child_weight': 0.05, 'min_split_gain': 0.0},\n",
       " mean: 0.75640, std: 0.05187, params: {'min_child_samples': 10, 'min_child_weight': 0.05, 'min_split_gain': 0.05},\n",
       " mean: 0.74857, std: 0.07392, params: {'min_child_samples': 10, 'min_child_weight': 0.05, 'min_split_gain': 0.1},\n",
       " mean: 0.74500, std: 0.06883, params: {'min_child_samples': 10, 'min_child_weight': 0.05, 'min_split_gain': 0.15000000000000002},\n",
       " mean: 0.76267, std: 0.05837, params: {'min_child_samples': 10, 'min_child_weight': 0.05, 'min_split_gain': 0.2},\n",
       " mean: 0.75520, std: 0.07577, params: {'min_child_samples': 10, 'min_child_weight': 0.05, 'min_split_gain': 0.25},\n",
       " mean: 0.76434, std: 0.05591, params: {'min_child_samples': 10, 'min_child_weight': 0.05, 'min_split_gain': 0.30000000000000004},\n",
       " mean: 0.74461, std: 0.06764, params: {'min_child_samples': 10, 'min_child_weight': 0.05, 'min_split_gain': 0.35000000000000003},\n",
       " mean: 0.75162, std: 0.05971, params: {'min_child_samples': 10, 'min_child_weight': 0.05, 'min_split_gain': 0.4},\n",
       " mean: 0.74492, std: 0.08124, params: {'min_child_samples': 10, 'min_child_weight': 0.1, 'min_split_gain': 0.0},\n",
       " mean: 0.75043, std: 0.07104, params: {'min_child_samples': 10, 'min_child_weight': 0.1, 'min_split_gain': 0.05},\n",
       " mean: 0.76136, std: 0.05728, params: {'min_child_samples': 10, 'min_child_weight': 0.1, 'min_split_gain': 0.1},\n",
       " mean: 0.74857, std: 0.07392, params: {'min_child_samples': 10, 'min_child_weight': 0.1, 'min_split_gain': 0.15000000000000002},\n",
       " mean: 0.75666, std: 0.05973, params: {'min_child_samples': 10, 'min_child_weight': 0.1, 'min_split_gain': 0.2},\n",
       " mean: 0.74972, std: 0.07032, params: {'min_child_samples': 10, 'min_child_weight': 0.1, 'min_split_gain': 0.25},\n",
       " mean: 0.75938, std: 0.05065, params: {'min_child_samples': 10, 'min_child_weight': 0.1, 'min_split_gain': 0.30000000000000004},\n",
       " mean: 0.74401, std: 0.06348, params: {'min_child_samples': 10, 'min_child_weight': 0.1, 'min_split_gain': 0.35000000000000003},\n",
       " mean: 0.74685, std: 0.07271, params: {'min_child_samples': 10, 'min_child_weight': 0.1, 'min_split_gain': 0.4},\n",
       " mean: 0.74620, std: 0.07247, params: {'min_child_samples': 10, 'min_child_weight': 0.15, 'min_split_gain': 0.0},\n",
       " mean: 0.75300, std: 0.07231, params: {'min_child_samples': 10, 'min_child_weight': 0.15, 'min_split_gain': 0.05},\n",
       " mean: 0.76753, std: 0.05676, params: {'min_child_samples': 10, 'min_child_weight': 0.15, 'min_split_gain': 0.1},\n",
       " mean: 0.75297, std: 0.07691, params: {'min_child_samples': 10, 'min_child_weight': 0.15, 'min_split_gain': 0.15000000000000002},\n",
       " mean: 0.75764, std: 0.05260, params: {'min_child_samples': 10, 'min_child_weight': 0.15, 'min_split_gain': 0.2},\n",
       " mean: 0.76230, std: 0.05429, params: {'min_child_samples': 10, 'min_child_weight': 0.15, 'min_split_gain': 0.25},\n",
       " mean: 0.76434, std: 0.05591, params: {'min_child_samples': 10, 'min_child_weight': 0.15, 'min_split_gain': 0.30000000000000004},\n",
       " mean: 0.75367, std: 0.05466, params: {'min_child_samples': 10, 'min_child_weight': 0.15, 'min_split_gain': 0.35000000000000003},\n",
       " mean: 0.75191, std: 0.07272, params: {'min_child_samples': 10, 'min_child_weight': 0.15, 'min_split_gain': 0.4},\n",
       " mean: 0.76396, std: 0.06056, params: {'min_child_samples': 12, 'min_child_weight': 0.03, 'min_split_gain': 0.0},\n",
       " mean: 0.76674, std: 0.05883, params: {'min_child_samples': 12, 'min_child_weight': 0.03, 'min_split_gain': 0.05},\n",
       " mean: 0.76393, std: 0.06391, params: {'min_child_samples': 12, 'min_child_weight': 0.03, 'min_split_gain': 0.1},\n",
       " mean: 0.74709, std: 0.04890, params: {'min_child_samples': 12, 'min_child_weight': 0.03, 'min_split_gain': 0.15000000000000002},\n",
       " mean: 0.75909, std: 0.05130, params: {'min_child_samples': 12, 'min_child_weight': 0.03, 'min_split_gain': 0.2},\n",
       " mean: 0.74909, std: 0.05226, params: {'min_child_samples': 12, 'min_child_weight': 0.03, 'min_split_gain': 0.25},\n",
       " mean: 0.76286, std: 0.06405, params: {'min_child_samples': 12, 'min_child_weight': 0.03, 'min_split_gain': 0.30000000000000004},\n",
       " mean: 0.75776, std: 0.05893, params: {'min_child_samples': 12, 'min_child_weight': 0.03, 'min_split_gain': 0.35000000000000003},\n",
       " mean: 0.75294, std: 0.05529, params: {'min_child_samples': 12, 'min_child_weight': 0.03, 'min_split_gain': 0.4},\n",
       " mean: 0.76228, std: 0.06258, params: {'min_child_samples': 12, 'min_child_weight': 0.05, 'min_split_gain': 0.0},\n",
       " mean: 0.75638, std: 0.06715, params: {'min_child_samples': 12, 'min_child_weight': 0.05, 'min_split_gain': 0.05},\n",
       " mean: 0.76494, std: 0.06511, params: {'min_child_samples': 12, 'min_child_weight': 0.05, 'min_split_gain': 0.1},\n",
       " mean: 0.75334, std: 0.05083, params: {'min_child_samples': 12, 'min_child_weight': 0.05, 'min_split_gain': 0.15000000000000002},\n",
       " mean: 0.76161, std: 0.05436, params: {'min_child_samples': 12, 'min_child_weight': 0.05, 'min_split_gain': 0.2},\n",
       " mean: 0.75567, std: 0.05830, params: {'min_child_samples': 12, 'min_child_weight': 0.05, 'min_split_gain': 0.25},\n",
       " mean: 0.76639, std: 0.05946, params: {'min_child_samples': 12, 'min_child_weight': 0.05, 'min_split_gain': 0.30000000000000004},\n",
       " mean: 0.76129, std: 0.05425, params: {'min_child_samples': 12, 'min_child_weight': 0.05, 'min_split_gain': 0.35000000000000003},\n",
       " mean: 0.75546, std: 0.05840, params: {'min_child_samples': 12, 'min_child_weight': 0.05, 'min_split_gain': 0.4},\n",
       " mean: 0.76136, std: 0.05728, params: {'min_child_samples': 12, 'min_child_weight': 0.1, 'min_split_gain': 0.0},\n",
       " mean: 0.76198, std: 0.05969, params: {'min_child_samples': 12, 'min_child_weight': 0.1, 'min_split_gain': 0.05},\n",
       " mean: 0.76494, std: 0.06511, params: {'min_child_samples': 12, 'min_child_weight': 0.1, 'min_split_gain': 0.1},\n",
       " mean: 0.76115, std: 0.05912, params: {'min_child_samples': 12, 'min_child_weight': 0.1, 'min_split_gain': 0.15000000000000002},\n",
       " mean: 0.76283, std: 0.05701, params: {'min_child_samples': 12, 'min_child_weight': 0.1, 'min_split_gain': 0.2},\n",
       " mean: 0.75687, std: 0.05347, params: {'min_child_samples': 12, 'min_child_weight': 0.1, 'min_split_gain': 0.25},\n",
       " mean: 0.75623, std: 0.05014, params: {'min_child_samples': 12, 'min_child_weight': 0.1, 'min_split_gain': 0.30000000000000004},\n",
       " mean: 0.75869, std: 0.05361, params: {'min_child_samples': 12, 'min_child_weight': 0.1, 'min_split_gain': 0.35000000000000003},\n",
       " mean: 0.75462, std: 0.05372, params: {'min_child_samples': 12, 'min_child_weight': 0.1, 'min_split_gain': 0.4},\n",
       " mean: 0.75593, std: 0.06377, params: {'min_child_samples': 12, 'min_child_weight': 0.15, 'min_split_gain': 0.0},\n",
       " mean: 0.75668, std: 0.05759, params: {'min_child_samples': 12, 'min_child_weight': 0.15, 'min_split_gain': 0.05},\n",
       " mean: 0.76357, std: 0.06331, params: {'min_child_samples': 12, 'min_child_weight': 0.15, 'min_split_gain': 0.1},\n",
       " mean: 0.76972, std: 0.06211, params: {'min_child_samples': 12, 'min_child_weight': 0.15, 'min_split_gain': 0.15000000000000002},\n",
       " mean: 0.76403, std: 0.05574, params: {'min_child_samples': 12, 'min_child_weight': 0.15, 'min_split_gain': 0.2},\n",
       " mean: 0.75361, std: 0.04577, params: {'min_child_samples': 12, 'min_child_weight': 0.15, 'min_split_gain': 0.25},\n",
       " mean: 0.76152, std: 0.05231, params: {'min_child_samples': 12, 'min_child_weight': 0.15, 'min_split_gain': 0.30000000000000004},\n",
       " mean: 0.76163, std: 0.06153, params: {'min_child_samples': 12, 'min_child_weight': 0.15, 'min_split_gain': 0.35000000000000003},\n",
       " mean: 0.75419, std: 0.05508, params: {'min_child_samples': 12, 'min_child_weight': 0.15, 'min_split_gain': 0.4},\n",
       " mean: 0.76107, std: 0.06460, params: {'min_child_samples': 14, 'min_child_weight': 0.03, 'min_split_gain': 0.0},\n",
       " mean: 0.75327, std: 0.05174, params: {'min_child_samples': 14, 'min_child_weight': 0.03, 'min_split_gain': 0.05},\n",
       " mean: 0.76011, std: 0.05651, params: {'min_child_samples': 14, 'min_child_weight': 0.03, 'min_split_gain': 0.1},\n",
       " mean: 0.75894, std: 0.06277, params: {'min_child_samples': 14, 'min_child_weight': 0.03, 'min_split_gain': 0.15000000000000002},\n",
       " mean: 0.76845, std: 0.05954, params: {'min_child_samples': 14, 'min_child_weight': 0.03, 'min_split_gain': 0.2},\n",
       " mean: 0.74998, std: 0.05667, params: {'min_child_samples': 14, 'min_child_weight': 0.03, 'min_split_gain': 0.25},\n",
       " mean: 0.74675, std: 0.05514, params: {'min_child_samples': 14, 'min_child_weight': 0.03, 'min_split_gain': 0.30000000000000004},\n",
       " mean: 0.74621, std: 0.05406, params: {'min_child_samples': 14, 'min_child_weight': 0.03, 'min_split_gain': 0.35000000000000003},\n",
       " mean: 0.75600, std: 0.06576, params: {'min_child_samples': 14, 'min_child_weight': 0.03, 'min_split_gain': 0.4},\n",
       " mean: 0.75749, std: 0.05645, params: {'min_child_samples': 14, 'min_child_weight': 0.05, 'min_split_gain': 0.0},\n",
       " mean: 0.76029, std: 0.05221, params: {'min_child_samples': 14, 'min_child_weight': 0.05, 'min_split_gain': 0.05},\n",
       " mean: 0.75663, std: 0.05823, params: {'min_child_samples': 14, 'min_child_weight': 0.05, 'min_split_gain': 0.1},\n",
       " mean: 0.76077, std: 0.06067, params: {'min_child_samples': 14, 'min_child_weight': 0.05, 'min_split_gain': 0.15000000000000002},\n",
       " mean: 0.76565, std: 0.05696, params: {'min_child_samples': 14, 'min_child_weight': 0.05, 'min_split_gain': 0.2},\n",
       " mean: 0.75171, std: 0.05418, params: {'min_child_samples': 14, 'min_child_weight': 0.05, 'min_split_gain': 0.25},\n",
       " mean: 0.75031, std: 0.05150, params: {'min_child_samples': 14, 'min_child_weight': 0.05, 'min_split_gain': 0.30000000000000004},\n",
       " mean: 0.74963, std: 0.04866, params: {'min_child_samples': 14, 'min_child_weight': 0.05, 'min_split_gain': 0.35000000000000003},\n",
       " mean: 0.75600, std: 0.06576, params: {'min_child_samples': 14, 'min_child_weight': 0.05, 'min_split_gain': 0.4},\n",
       " mean: 0.75494, std: 0.06543, params: {'min_child_samples': 14, 'min_child_weight': 0.1, 'min_split_gain': 0.0},\n",
       " mean: 0.76476, std: 0.06252, params: {'min_child_samples': 14, 'min_child_weight': 0.1, 'min_split_gain': 0.05},\n",
       " mean: 0.75485, std: 0.05967, params: {'min_child_samples': 14, 'min_child_weight': 0.1, 'min_split_gain': 0.1},\n",
       " mean: 0.76357, std: 0.06331, params: {'min_child_samples': 14, 'min_child_weight': 0.1, 'min_split_gain': 0.15000000000000002},\n",
       " mean: 0.75477, std: 0.05075, params: {'min_child_samples': 14, 'min_child_weight': 0.1, 'min_split_gain': 0.2},\n",
       " mean: 0.74926, std: 0.05132, params: {'min_child_samples': 14, 'min_child_weight': 0.1, 'min_split_gain': 0.25},\n",
       " mean: 0.75393, std: 0.05060, params: {'min_child_samples': 14, 'min_child_weight': 0.1, 'min_split_gain': 0.30000000000000004},\n",
       " mean: 0.75232, std: 0.05301, params: {'min_child_samples': 14, 'min_child_weight': 0.1, 'min_split_gain': 0.35000000000000003},\n",
       " mean: 0.75195, std: 0.06435, params: {'min_child_samples': 14, 'min_child_weight': 0.1, 'min_split_gain': 0.4},\n",
       " mean: 0.75665, std: 0.06342, params: {'min_child_samples': 14, 'min_child_weight': 0.15, 'min_split_gain': 0.0},\n",
       " mean: 0.75638, std: 0.06715, params: {'min_child_samples': 14, 'min_child_weight': 0.15, 'min_split_gain': 0.05},\n",
       " mean: 0.76589, std: 0.05794, params: {'min_child_samples': 14, 'min_child_weight': 0.15, 'min_split_gain': 0.1},\n",
       " mean: 0.76201, std: 0.06342, params: {'min_child_samples': 14, 'min_child_weight': 0.15, 'min_split_gain': 0.15000000000000002},\n",
       " mean: 0.75094, std: 0.05901, params: {'min_child_samples': 14, 'min_child_weight': 0.15, 'min_split_gain': 0.2},\n",
       " mean: 0.74753, std: 0.05387, params: {'min_child_samples': 14, 'min_child_weight': 0.15, 'min_split_gain': 0.25},\n",
       " mean: 0.75141, std: 0.04601, params: {'min_child_samples': 14, 'min_child_weight': 0.15, 'min_split_gain': 0.30000000000000004},\n",
       " mean: 0.75207, std: 0.05164, params: {'min_child_samples': 14, 'min_child_weight': 0.15, 'min_split_gain': 0.35000000000000003},\n",
       " mean: 0.75900, std: 0.05522, params: {'min_child_samples': 14, 'min_child_weight': 0.15, 'min_split_gain': 0.4},\n",
       " mean: 0.73467, std: 0.05760, params: {'min_child_samples': 16, 'min_child_weight': 0.03, 'min_split_gain': 0.0},\n",
       " mean: 0.74161, std: 0.05477, params: {'min_child_samples': 16, 'min_child_weight': 0.03, 'min_split_gain': 0.05},\n",
       " mean: 0.74068, std: 0.06096, params: {'min_child_samples': 16, 'min_child_weight': 0.03, 'min_split_gain': 0.1},\n",
       " mean: 0.74718, std: 0.06819, params: {'min_child_samples': 16, 'min_child_weight': 0.03, 'min_split_gain': 0.15000000000000002},\n",
       " mean: 0.74202, std: 0.06259, params: {'min_child_samples': 16, 'min_child_weight': 0.03, 'min_split_gain': 0.2},\n",
       " mean: 0.74793, std: 0.06106, params: {'min_child_samples': 16, 'min_child_weight': 0.03, 'min_split_gain': 0.25},\n",
       " mean: 0.74611, std: 0.06635, params: {'min_child_samples': 16, 'min_child_weight': 0.03, 'min_split_gain': 0.30000000000000004},\n",
       " mean: 0.74250, std: 0.06637, params: {'min_child_samples': 16, 'min_child_weight': 0.03, 'min_split_gain': 0.35000000000000003},\n",
       " mean: 0.74551, std: 0.05893, params: {'min_child_samples': 16, 'min_child_weight': 0.03, 'min_split_gain': 0.4},\n",
       " mean: 0.74272, std: 0.05969, params: {'min_child_samples': 16, 'min_child_weight': 0.05, 'min_split_gain': 0.0},\n",
       " mean: 0.74974, std: 0.06455, params: {'min_child_samples': 16, 'min_child_weight': 0.05, 'min_split_gain': 0.05},\n",
       " mean: 0.74316, std: 0.06278, params: {'min_child_samples': 16, 'min_child_weight': 0.05, 'min_split_gain': 0.1},\n",
       " mean: 0.73723, std: 0.06707, params: {'min_child_samples': 16, 'min_child_weight': 0.05, 'min_split_gain': 0.15000000000000002},\n",
       " mean: 0.74202, std: 0.06259, params: {'min_child_samples': 16, 'min_child_weight': 0.05, 'min_split_gain': 0.2},\n",
       " mean: 0.75230, std: 0.06218, params: {'min_child_samples': 16, 'min_child_weight': 0.05, 'min_split_gain': 0.25},\n",
       " mean: 0.74611, std: 0.06635, params: {'min_child_samples': 16, 'min_child_weight': 0.05, 'min_split_gain': 0.30000000000000004},\n",
       " mean: 0.74785, std: 0.05959, params: {'min_child_samples': 16, 'min_child_weight': 0.05, 'min_split_gain': 0.35000000000000003},\n",
       " mean: 0.74551, std: 0.05893, params: {'min_child_samples': 16, 'min_child_weight': 0.05, 'min_split_gain': 0.4},\n",
       " mean: 0.73726, std: 0.06534, params: {'min_child_samples': 16, 'min_child_weight': 0.1, 'min_split_gain': 0.0},\n",
       " mean: 0.74328, std: 0.06001, params: {'min_child_samples': 16, 'min_child_weight': 0.1, 'min_split_gain': 0.05},\n",
       " mean: 0.75907, std: 0.06185, params: {'min_child_samples': 16, 'min_child_weight': 0.1, 'min_split_gain': 0.1},\n",
       " mean: 0.74035, std: 0.05790, params: {'min_child_samples': 16, 'min_child_weight': 0.1, 'min_split_gain': 0.15000000000000002},\n",
       " mean: 0.74420, std: 0.05904, params: {'min_child_samples': 16, 'min_child_weight': 0.1, 'min_split_gain': 0.2},\n",
       " mean: 0.74793, std: 0.06106, params: {'min_child_samples': 16, 'min_child_weight': 0.1, 'min_split_gain': 0.25},\n",
       " mean: 0.74625, std: 0.06889, params: {'min_child_samples': 16, 'min_child_weight': 0.1, 'min_split_gain': 0.30000000000000004},\n",
       " mean: 0.74785, std: 0.05959, params: {'min_child_samples': 16, 'min_child_weight': 0.1, 'min_split_gain': 0.35000000000000003},\n",
       " mean: 0.74551, std: 0.05893, params: {'min_child_samples': 16, 'min_child_weight': 0.1, 'min_split_gain': 0.4},\n",
       " mean: 0.73911, std: 0.06368, params: {'min_child_samples': 16, 'min_child_weight': 0.15, 'min_split_gain': 0.0},\n",
       " mean: 0.75150, std: 0.06394, params: {'min_child_samples': 16, 'min_child_weight': 0.15, 'min_split_gain': 0.05},\n",
       " mean: 0.74474, std: 0.06578, params: {'min_child_samples': 16, 'min_child_weight': 0.15, 'min_split_gain': 0.1},\n",
       " mean: 0.74204, std: 0.05423, params: {'min_child_samples': 16, 'min_child_weight': 0.15, 'min_split_gain': 0.15000000000000002},\n",
       " mean: 0.74558, std: 0.05969, params: {'min_child_samples': 16, 'min_child_weight': 0.15, 'min_split_gain': 0.2},\n",
       " mean: 0.74916, std: 0.06478, params: {'min_child_samples': 16, 'min_child_weight': 0.15, 'min_split_gain': 0.25},\n",
       " mean: 0.74321, std: 0.05743, params: {'min_child_samples': 16, 'min_child_weight': 0.15, 'min_split_gain': 0.30000000000000004},\n",
       " mean: 0.74949, std: 0.05691, params: {'min_child_samples': 16, 'min_child_weight': 0.15, 'min_split_gain': 0.35000000000000003},\n",
       " mean: 0.74716, std: 0.05629, params: {'min_child_samples': 16, 'min_child_weight': 0.15, 'min_split_gain': 0.4},\n",
       " mean: 0.74240, std: 0.05783, params: {'min_child_samples': 18, 'min_child_weight': 0.03, 'min_split_gain': 0.0},\n",
       " mean: 0.74422, std: 0.06338, params: {'min_child_samples': 18, 'min_child_weight': 0.03, 'min_split_gain': 0.05},\n",
       " mean: 0.74592, std: 0.05427, params: {'min_child_samples': 18, 'min_child_weight': 0.03, 'min_split_gain': 0.1},\n",
       " mean: 0.75023, std: 0.06741, params: {'min_child_samples': 18, 'min_child_weight': 0.03, 'min_split_gain': 0.15000000000000002},\n",
       " mean: 0.74676, std: 0.05752, params: {'min_child_samples': 18, 'min_child_weight': 0.03, 'min_split_gain': 0.2},\n",
       " mean: 0.73787, std: 0.05509, params: {'min_child_samples': 18, 'min_child_weight': 0.03, 'min_split_gain': 0.25},\n",
       " mean: 0.73738, std: 0.04906, params: {'min_child_samples': 18, 'min_child_weight': 0.03, 'min_split_gain': 0.30000000000000004},\n",
       " mean: 0.74167, std: 0.05345, params: {'min_child_samples': 18, 'min_child_weight': 0.03, 'min_split_gain': 0.35000000000000003},\n",
       " mean: 0.74385, std: 0.05439, params: {'min_child_samples': 18, 'min_child_weight': 0.03, 'min_split_gain': 0.4},\n",
       " mean: 0.74419, std: 0.05779, params: {'min_child_samples': 18, 'min_child_weight': 0.05, 'min_split_gain': 0.0},\n",
       " mean: 0.74047, std: 0.06045, params: {'min_child_samples': 18, 'min_child_weight': 0.05, 'min_split_gain': 0.05},\n",
       " mean: 0.74401, std: 0.05618, params: {'min_child_samples': 18, 'min_child_weight': 0.05, 'min_split_gain': 0.1},\n",
       " mean: 0.74958, std: 0.05845, params: {'min_child_samples': 18, 'min_child_weight': 0.05, 'min_split_gain': 0.15000000000000002},\n",
       " mean: 0.74676, std: 0.05752, params: {'min_child_samples': 18, 'min_child_weight': 0.05, 'min_split_gain': 0.2},\n",
       " mean: 0.74320, std: 0.06060, params: {'min_child_samples': 18, 'min_child_weight': 0.05, 'min_split_gain': 0.25},\n",
       " mean: 0.73738, std: 0.04906, params: {'min_child_samples': 18, 'min_child_weight': 0.05, 'min_split_gain': 0.30000000000000004},\n",
       " mean: 0.74167, std: 0.05345, params: {'min_child_samples': 18, 'min_child_weight': 0.05, 'min_split_gain': 0.35000000000000003},\n",
       " mean: 0.73980, std: 0.05172, params: {'min_child_samples': 18, 'min_child_weight': 0.05, 'min_split_gain': 0.4},\n",
       " mean: 0.74908, std: 0.06066, params: {'min_child_samples': 18, 'min_child_weight': 0.1, 'min_split_gain': 0.0},\n",
       " mean: 0.74047, std: 0.06045, params: {'min_child_samples': 18, 'min_child_weight': 0.1, 'min_split_gain': 0.05},\n",
       " mean: 0.74184, std: 0.05874, params: {'min_child_samples': 18, 'min_child_weight': 0.1, 'min_split_gain': 0.1},\n",
       " mean: 0.74958, std: 0.05845, params: {'min_child_samples': 18, 'min_child_weight': 0.1, 'min_split_gain': 0.15000000000000002},\n",
       " mean: 0.74676, std: 0.05752, params: {'min_child_samples': 18, 'min_child_weight': 0.1, 'min_split_gain': 0.2},\n",
       " mean: 0.74459, std: 0.05186, params: {'min_child_samples': 18, 'min_child_weight': 0.1, 'min_split_gain': 0.25},\n",
       " mean: 0.74192, std: 0.05290, params: {'min_child_samples': 18, 'min_child_weight': 0.1, 'min_split_gain': 0.30000000000000004},\n",
       " mean: 0.73738, std: 0.04906, params: {'min_child_samples': 18, 'min_child_weight': 0.1, 'min_split_gain': 0.35000000000000003},\n",
       " mean: 0.74142, std: 0.05205, params: {'min_child_samples': 18, 'min_child_weight': 0.1, 'min_split_gain': 0.4},\n",
       " mean: 0.74419, std: 0.05779, params: {'min_child_samples': 18, 'min_child_weight': 0.15, 'min_split_gain': 0.0},\n",
       " mean: 0.74780, std: 0.05403, params: {'min_child_samples': 18, 'min_child_weight': 0.15, 'min_split_gain': 0.05},\n",
       " mean: 0.75130, std: 0.06012, params: {'min_child_samples': 18, 'min_child_weight': 0.15, 'min_split_gain': 0.1},\n",
       " mean: 0.75367, std: 0.06197, params: {'min_child_samples': 18, 'min_child_weight': 0.15, 'min_split_gain': 0.15000000000000002},\n",
       " mean: 0.74676, std: 0.05752, params: {'min_child_samples': 18, 'min_child_weight': 0.15, 'min_split_gain': 0.2},\n",
       " mean: 0.73911, std: 0.05624, params: {'min_child_samples': 18, 'min_child_weight': 0.15, 'min_split_gain': 0.25},\n",
       " mean: 0.74192, std: 0.05290, params: {'min_child_samples': 18, 'min_child_weight': 0.15, 'min_split_gain': 0.30000000000000004},\n",
       " mean: 0.74142, std: 0.05205, params: {'min_child_samples': 18, 'min_child_weight': 0.15, 'min_split_gain': 0.35000000000000003},\n",
       " mean: 0.74676, std: 0.05752, params: {'min_child_samples': 18, 'min_child_weight': 0.15, 'min_split_gain': 0.4}]"
      ]
     },
     "execution_count": 41,
     "metadata": {},
     "output_type": "execute_result"
    }
   ],
   "source": [
    "lgb_params_4 = {\n",
    "    'min_child_samples' : list(range(10, 20, 2)),\n",
    "    'min_child_weight' : [0.03, 0.05, 0.1, 0.15],\n",
    "    'min_split_gain' : [0.0, 0.2, 0.4, 0.6]\n",
    "                               \n",
    "                               }\n",
    "\n",
    "lgb_grid4 = GridSearchCV(\n",
    "    lgb.LGBMClassifier(\n",
    "    objective='binary', class_weight={0:1, 1:99.7979888}, num_leaves=21, max_depth=7, \n",
    "    min_child_samples=20, min_child_weight=0.001, subsample=0.8, \n",
    "    colsample_bytree=0.8, subsample_freq=5\n",
    "), lgb_params_4, scoring='f1', n_jobs=-1, refit=True, verbose=0, cv=cv\n",
    ")\n",
    "\n",
    "lgb_grid4.fit(X_train, y_train)\n",
    "\n",
    "lgb_grid4.grid_scores_"
   ]
  },
  {
   "cell_type": "code",
   "execution_count": 42,
   "metadata": {},
   "outputs": [
    {
     "data": {
      "text/plain": [
       "({'min_child_samples': 12,\n",
       "  'min_child_weight': 0.15,\n",
       "  'min_split_gain': 0.15000000000000002},\n",
       " 0.7697224790315436)"
      ]
     },
     "execution_count": 42,
     "metadata": {},
     "output_type": "execute_result"
    }
   ],
   "source": [
    "lgb_grid4.best_params_, lgb_grid4.best_score_"
   ]
  },
  {
   "cell_type": "code",
   "execution_count": 44,
   "metadata": {},
   "outputs": [
    {
     "name": "stderr",
     "output_type": "stream",
     "text": [
      "C:\\Users\\Immanuel\\Anaconda3\\lib\\site-packages\\sklearn\\model_selection\\_search.py:762: DeprecationWarning: The grid_scores_ attribute was deprecated in version 0.18 in favor of the more elaborate cv_results_ attribute. The grid_scores_ attribute will not be available from 0.20\n",
      "  DeprecationWarning)\n"
     ]
    },
    {
     "data": {
      "text/plain": [
       "[mean: 0.77053, std: 0.06150, params: {'min_child_samples': 11, 'min_child_weight': 0.15, 'min_split_gain': 0.1},\n",
       " mean: 0.75585, std: 0.06537, params: {'min_child_samples': 11, 'min_child_weight': 0.15, 'min_split_gain': 0.13},\n",
       " mean: 0.76442, std: 0.05512, params: {'min_child_samples': 11, 'min_child_weight': 0.15, 'min_split_gain': 0.16},\n",
       " mean: 0.75374, std: 0.06960, params: {'min_child_samples': 11, 'min_child_weight': 0.15, 'min_split_gain': 0.19},\n",
       " mean: 0.76283, std: 0.05701, params: {'min_child_samples': 11, 'min_child_weight': 0.15, 'min_split_gain': 0.2},\n",
       " mean: 0.75072, std: 0.08050, params: {'min_child_samples': 11, 'min_child_weight': 0.3, 'min_split_gain': 0.1},\n",
       " mean: 0.75428, std: 0.07787, params: {'min_child_samples': 11, 'min_child_weight': 0.3, 'min_split_gain': 0.13},\n",
       " mean: 0.75428, std: 0.07787, params: {'min_child_samples': 11, 'min_child_weight': 0.3, 'min_split_gain': 0.16},\n",
       " mean: 0.76620, std: 0.05423, params: {'min_child_samples': 11, 'min_child_weight': 0.3, 'min_split_gain': 0.19},\n",
       " mean: 0.76972, std: 0.06211, params: {'min_child_samples': 11, 'min_child_weight': 0.3, 'min_split_gain': 0.2},\n",
       " mean: 0.75240, std: 0.07919, params: {'min_child_samples': 11, 'min_child_weight': 0.45, 'min_split_gain': 0.1},\n",
       " mean: 0.75391, std: 0.08465, params: {'min_child_samples': 11, 'min_child_weight': 0.45, 'min_split_gain': 0.13},\n",
       " mean: 0.75415, std: 0.07652, params: {'min_child_samples': 11, 'min_child_weight': 0.45, 'min_split_gain': 0.16},\n",
       " mean: 0.75971, std: 0.05844, params: {'min_child_samples': 11, 'min_child_weight': 0.45, 'min_split_gain': 0.19},\n",
       " mean: 0.76233, std: 0.05988, params: {'min_child_samples': 11, 'min_child_weight': 0.45, 'min_split_gain': 0.2},\n",
       " mean: 0.74616, std: 0.08010, params: {'min_child_samples': 11, 'min_child_weight': 0.5, 'min_split_gain': 0.1},\n",
       " mean: 0.75744, std: 0.08163, params: {'min_child_samples': 11, 'min_child_weight': 0.5, 'min_split_gain': 0.13},\n",
       " mean: 0.75488, std: 0.08024, params: {'min_child_samples': 11, 'min_child_weight': 0.5, 'min_split_gain': 0.16},\n",
       " mean: 0.75788, std: 0.06059, params: {'min_child_samples': 11, 'min_child_weight': 0.5, 'min_split_gain': 0.19},\n",
       " mean: 0.75880, std: 0.06421, params: {'min_child_samples': 11, 'min_child_weight': 0.5, 'min_split_gain': 0.2},\n",
       " mean: 0.76357, std: 0.06331, params: {'min_child_samples': 12, 'min_child_weight': 0.15, 'min_split_gain': 0.1},\n",
       " mean: 0.76357, std: 0.06331, params: {'min_child_samples': 12, 'min_child_weight': 0.15, 'min_split_gain': 0.13},\n",
       " mean: 0.75771, std: 0.05027, params: {'min_child_samples': 12, 'min_child_weight': 0.15, 'min_split_gain': 0.16},\n",
       " mean: 0.76146, std: 0.05253, params: {'min_child_samples': 12, 'min_child_weight': 0.15, 'min_split_gain': 0.19},\n",
       " mean: 0.76403, std: 0.05574, params: {'min_child_samples': 12, 'min_child_weight': 0.15, 'min_split_gain': 0.2},\n",
       " mean: 0.75247, std: 0.07792, params: {'min_child_samples': 12, 'min_child_weight': 0.3, 'min_split_gain': 0.1},\n",
       " mean: 0.76547, std: 0.06102, params: {'min_child_samples': 12, 'min_child_weight': 0.3, 'min_split_gain': 0.13},\n",
       " mean: 0.76764, std: 0.05386, params: {'min_child_samples': 12, 'min_child_weight': 0.3, 'min_split_gain': 0.16},\n",
       " mean: 0.76108, std: 0.05922, params: {'min_child_samples': 12, 'min_child_weight': 0.3, 'min_split_gain': 0.19},\n",
       " mean: 0.77041, std: 0.06197, params: {'min_child_samples': 12, 'min_child_weight': 0.3, 'min_split_gain': 0.2},\n",
       " mean: 0.76432, std: 0.05650, params: {'min_child_samples': 12, 'min_child_weight': 0.45, 'min_split_gain': 0.1},\n",
       " mean: 0.75620, std: 0.06090, params: {'min_child_samples': 12, 'min_child_weight': 0.45, 'min_split_gain': 0.13},\n",
       " mean: 0.75288, std: 0.05613, params: {'min_child_samples': 12, 'min_child_weight': 0.45, 'min_split_gain': 0.16},\n",
       " mean: 0.75667, std: 0.06021, params: {'min_child_samples': 12, 'min_child_weight': 0.45, 'min_split_gain': 0.19},\n",
       " mean: 0.75910, std: 0.06164, params: {'min_child_samples': 12, 'min_child_weight': 0.45, 'min_split_gain': 0.2},\n",
       " mean: 0.75892, std: 0.06305, params: {'min_child_samples': 12, 'min_child_weight': 0.5, 'min_split_gain': 0.1},\n",
       " mean: 0.74628, std: 0.07920, params: {'min_child_samples': 12, 'min_child_weight': 0.5, 'min_split_gain': 0.13},\n",
       " mean: 0.76166, std: 0.06063, params: {'min_child_samples': 12, 'min_child_weight': 0.5, 'min_split_gain': 0.16},\n",
       " mean: 0.75316, std: 0.06468, params: {'min_child_samples': 12, 'min_child_weight': 0.5, 'min_split_gain': 0.19},\n",
       " mean: 0.75015, std: 0.07547, params: {'min_child_samples': 12, 'min_child_weight': 0.5, 'min_split_gain': 0.2},\n",
       " mean: 0.77263, std: 0.06502, params: {'min_child_samples': 13, 'min_child_weight': 0.15, 'min_split_gain': 0.1},\n",
       " mean: 0.76509, std: 0.06202, params: {'min_child_samples': 13, 'min_child_weight': 0.15, 'min_split_gain': 0.13},\n",
       " mean: 0.76179, std: 0.06634, params: {'min_child_samples': 13, 'min_child_weight': 0.15, 'min_split_gain': 0.16},\n",
       " mean: 0.76339, std: 0.06430, params: {'min_child_samples': 13, 'min_child_weight': 0.15, 'min_split_gain': 0.19},\n",
       " mean: 0.76305, std: 0.05927, params: {'min_child_samples': 13, 'min_child_weight': 0.15, 'min_split_gain': 0.2},\n",
       " mean: 0.76336, std: 0.06381, params: {'min_child_samples': 13, 'min_child_weight': 0.3, 'min_split_gain': 0.1},\n",
       " mean: 0.76154, std: 0.06588, params: {'min_child_samples': 13, 'min_child_weight': 0.3, 'min_split_gain': 0.13},\n",
       " mean: 0.77476, std: 0.05412, params: {'min_child_samples': 13, 'min_child_weight': 0.3, 'min_split_gain': 0.16},\n",
       " mean: 0.76432, std: 0.05650, params: {'min_child_samples': 13, 'min_child_weight': 0.3, 'min_split_gain': 0.19},\n",
       " mean: 0.76091, std: 0.05719, params: {'min_child_samples': 13, 'min_child_weight': 0.3, 'min_split_gain': 0.2},\n",
       " mean: 0.75620, std: 0.06090, params: {'min_child_samples': 13, 'min_child_weight': 0.45, 'min_split_gain': 0.1},\n",
       " mean: 0.75974, std: 0.05648, params: {'min_child_samples': 13, 'min_child_weight': 0.45, 'min_split_gain': 0.13},\n",
       " mean: 0.75791, std: 0.05870, params: {'min_child_samples': 13, 'min_child_weight': 0.45, 'min_split_gain': 0.16},\n",
       " mean: 0.76151, std: 0.06615, params: {'min_child_samples': 13, 'min_child_weight': 0.45, 'min_split_gain': 0.19},\n",
       " mean: 0.76493, std: 0.05963, params: {'min_child_samples': 13, 'min_child_weight': 0.45, 'min_split_gain': 0.2},\n",
       " mean: 0.76775, std: 0.06238, params: {'min_child_samples': 13, 'min_child_weight': 0.5, 'min_split_gain': 0.1},\n",
       " mean: 0.75620, std: 0.06090, params: {'min_child_samples': 13, 'min_child_weight': 0.5, 'min_split_gain': 0.13},\n",
       " mean: 0.75813, std: 0.06488, params: {'min_child_samples': 13, 'min_child_weight': 0.5, 'min_split_gain': 0.16},\n",
       " mean: 0.75974, std: 0.05648, params: {'min_child_samples': 13, 'min_child_weight': 0.5, 'min_split_gain': 0.19},\n",
       " mean: 0.76200, std: 0.06287, params: {'min_child_samples': 13, 'min_child_weight': 0.5, 'min_split_gain': 0.2}]"
      ]
     },
     "execution_count": 44,
     "metadata": {},
     "output_type": "execute_result"
    }
   ],
   "source": [
    "lgb_params_5 = {\n",
    "    'min_child_samples' : [11, 12, 13],\n",
    "    'min_child_weight' : [0.15, 0.30, 0.45, 0.50],\n",
    "    'min_split_gain' : [0.1, 0.13, 0.16, 0.19, 0.2]\n",
    "                               \n",
    "                               }\n",
    "\n",
    "lgb_grid5 = GridSearchCV(\n",
    "    lgb.LGBMClassifier(\n",
    "    objective='binary', class_weight={0:1, 1:99.7979888}, num_leaves=21, max_depth=7, \n",
    "    min_child_samples=20, min_child_weight=0.001, subsample=0.8, \n",
    "    colsample_bytree=0.8, subsample_freq=5\n",
    "), lgb_params_5, scoring='f1', n_jobs=-1, refit=True, verbose=0, cv=cv\n",
    ")\n",
    "\n",
    "lgb_grid5.fit(X_train, y_train)\n",
    "\n",
    "lgb_grid5.grid_scores_"
   ]
  },
  {
   "cell_type": "code",
   "execution_count": 45,
   "metadata": {},
   "outputs": [
    {
     "data": {
      "text/plain": [
       "({'min_child_samples': 13, 'min_child_weight': 0.3, 'min_split_gain': 0.16},\n",
       " 0.774761430125497)"
      ]
     },
     "execution_count": 45,
     "metadata": {},
     "output_type": "execute_result"
    }
   ],
   "source": [
    "lgb_grid5.best_params_, lgb_grid5.best_score_"
   ]
  },
  {
   "cell_type": "code",
   "execution_count": 46,
   "metadata": {},
   "outputs": [
    {
     "name": "stderr",
     "output_type": "stream",
     "text": [
      "C:\\Users\\Immanuel\\Anaconda3\\lib\\site-packages\\sklearn\\model_selection\\_search.py:762: DeprecationWarning: The grid_scores_ attribute was deprecated in version 0.18 in favor of the more elaborate cv_results_ attribute. The grid_scores_ attribute will not be available from 0.20\n",
      "  DeprecationWarning)\n"
     ]
    },
    {
     "data": {
      "text/plain": [
       "[mean: 0.76509, std: 0.06202, params: {'min_child_weight': 0.2, 'min_split_gain': 0.14},\n",
       " mean: 0.76692, std: 0.05970, params: {'min_child_weight': 0.2, 'min_split_gain': 0.15},\n",
       " mean: 0.76591, std: 0.05456, params: {'min_child_weight': 0.2, 'min_split_gain': 0.16},\n",
       " mean: 0.76509, std: 0.06202, params: {'min_child_weight': 0.2, 'min_split_gain': 0.17},\n",
       " mean: 0.76509, std: 0.06202, params: {'min_child_weight': 0.2, 'min_split_gain': 0.18},\n",
       " mean: 0.76879, std: 0.05747, params: {'min_child_weight': 0.2, 'min_split_gain': 0.19},\n",
       " mean: 0.76180, std: 0.05370, params: {'min_child_weight': 0.25, 'min_split_gain': 0.14},\n",
       " mean: 0.76250, std: 0.05886, params: {'min_child_weight': 0.25, 'min_split_gain': 0.15},\n",
       " mean: 0.76692, std: 0.05970, params: {'min_child_weight': 0.25, 'min_split_gain': 0.16},\n",
       " mean: 0.76122, std: 0.06149, params: {'min_child_weight': 0.25, 'min_split_gain': 0.17},\n",
       " mean: 0.76692, std: 0.05970, params: {'min_child_weight': 0.25, 'min_split_gain': 0.18},\n",
       " mean: 0.76238, std: 0.06011, params: {'min_child_weight': 0.25, 'min_split_gain': 0.19},\n",
       " mean: 0.76778, std: 0.06234, params: {'min_child_weight': 0.3, 'min_split_gain': 0.14},\n",
       " mean: 0.76509, std: 0.06202, params: {'min_child_weight': 0.3, 'min_split_gain': 0.15},\n",
       " mean: 0.77476, std: 0.05412, params: {'min_child_weight': 0.3, 'min_split_gain': 0.16},\n",
       " mean: 0.76509, std: 0.06202, params: {'min_child_weight': 0.3, 'min_split_gain': 0.17},\n",
       " mean: 0.76250, std: 0.05886, params: {'min_child_weight': 0.3, 'min_split_gain': 0.18},\n",
       " mean: 0.76432, std: 0.05650, params: {'min_child_weight': 0.3, 'min_split_gain': 0.19},\n",
       " mean: 0.76140, std: 0.06412, params: {'min_child_weight': 0.35, 'min_split_gain': 0.14},\n",
       " mean: 0.76692, std: 0.05970, params: {'min_child_weight': 0.35, 'min_split_gain': 0.15},\n",
       " mean: 0.76250, std: 0.05886, params: {'min_child_weight': 0.35, 'min_split_gain': 0.16},\n",
       " mean: 0.76509, std: 0.06202, params: {'min_child_weight': 0.35, 'min_split_gain': 0.17},\n",
       " mean: 0.76250, std: 0.05886, params: {'min_child_weight': 0.35, 'min_split_gain': 0.18},\n",
       " mean: 0.76707, std: 0.06586, params: {'min_child_weight': 0.35, 'min_split_gain': 0.19},\n",
       " mean: 0.75806, std: 0.05852, params: {'min_child_weight': 0.4, 'min_split_gain': 0.14},\n",
       " mean: 0.76313, std: 0.06289, params: {'min_child_weight': 0.4, 'min_split_gain': 0.15},\n",
       " mean: 0.76551, std: 0.05056, params: {'min_child_weight': 0.4, 'min_split_gain': 0.16},\n",
       " mean: 0.75887, std: 0.06489, params: {'min_child_weight': 0.4, 'min_split_gain': 0.17},\n",
       " mean: 0.76238, std: 0.06011, params: {'min_child_weight': 0.4, 'min_split_gain': 0.18},\n",
       " mean: 0.76243, std: 0.06584, params: {'min_child_weight': 0.4, 'min_split_gain': 0.19}]"
      ]
     },
     "execution_count": 46,
     "metadata": {},
     "output_type": "execute_result"
    }
   ],
   "source": [
    "lgb_params_7 = {\n",
    "    \n",
    "    'min_child_weight' : [0.2, 0.25, 0.30, 0.35, 0.4],\n",
    "    'min_split_gain' : [0.14, 0.15, 0.16, 0.17, 0.18, 0.19]\n",
    "                               \n",
    "                               }\n",
    "\n",
    "lgb_grid7 = GridSearchCV(\n",
    "    lgb.LGBMClassifier(\n",
    "    objective='binary', class_weight={0:1, 1:99.7979888}, num_leaves=21, max_depth=7, \n",
    "    min_child_samples=13, min_child_weight=0.001, subsample=0.8, \n",
    "    colsample_bytree=0.8, subsample_freq=5\n",
    "), lgb_params_7, scoring='f1', n_jobs=-1, refit=True, verbose=0, cv=cv\n",
    ")\n",
    "\n",
    "lgb_grid7.fit(X_train, y_train)\n",
    "\n",
    "lgb_grid7.grid_scores_"
   ]
  },
  {
   "cell_type": "code",
   "execution_count": 47,
   "metadata": {},
   "outputs": [
    {
     "data": {
      "text/plain": [
       "({'min_child_weight': 0.3, 'min_split_gain': 0.16}, 0.774761430125497)"
      ]
     },
     "execution_count": 47,
     "metadata": {},
     "output_type": "execute_result"
    }
   ],
   "source": [
    "lgb_grid7.best_params_, lgb_grid7.best_score_"
   ]
  },
  {
   "cell_type": "code",
   "execution_count": 48,
   "metadata": {},
   "outputs": [
    {
     "name": "stderr",
     "output_type": "stream",
     "text": [
      "C:\\Users\\Immanuel\\Anaconda3\\lib\\site-packages\\sklearn\\model_selection\\_search.py:762: DeprecationWarning: The grid_scores_ attribute was deprecated in version 0.18 in favor of the more elaborate cv_results_ attribute. The grid_scores_ attribute will not be available from 0.20\n",
      "  DeprecationWarning)\n"
     ]
    },
    {
     "data": {
      "text/plain": [
       "[mean: 0.77331, std: 0.02887, params: {'colsample_bytree': 0.5, 'subsample': 0.5},\n",
       " mean: 0.72474, std: 0.03699, params: {'colsample_bytree': 0.5, 'subsample': 0.6},\n",
       " mean: 0.72107, std: 0.05189, params: {'colsample_bytree': 0.5, 'subsample': 0.7},\n",
       " mean: 0.74077, std: 0.05412, params: {'colsample_bytree': 0.5, 'subsample': 0.8},\n",
       " mean: 0.79387, std: 0.03105, params: {'colsample_bytree': 0.6, 'subsample': 0.5},\n",
       " mean: 0.73424, std: 0.05172, params: {'colsample_bytree': 0.6, 'subsample': 0.6},\n",
       " mean: 0.74649, std: 0.04438, params: {'colsample_bytree': 0.6, 'subsample': 0.7},\n",
       " mean: 0.75208, std: 0.05456, params: {'colsample_bytree': 0.6, 'subsample': 0.8},\n",
       " mean: 0.79166, std: 0.01373, params: {'colsample_bytree': 0.7, 'subsample': 0.5},\n",
       " mean: 0.74487, std: 0.07113, params: {'colsample_bytree': 0.7, 'subsample': 0.6},\n",
       " mean: 0.75982, std: 0.06030, params: {'colsample_bytree': 0.7, 'subsample': 0.7},\n",
       " mean: 0.76659, std: 0.05817, params: {'colsample_bytree': 0.7, 'subsample': 0.8},\n",
       " mean: 0.80321, std: 0.01366, params: {'colsample_bytree': 0.8, 'subsample': 0.5},\n",
       " mean: 0.74156, std: 0.05924, params: {'colsample_bytree': 0.8, 'subsample': 0.6},\n",
       " mean: 0.75522, std: 0.05121, params: {'colsample_bytree': 0.8, 'subsample': 0.7},\n",
       " mean: 0.77476, std: 0.05412, params: {'colsample_bytree': 0.8, 'subsample': 0.8}]"
      ]
     },
     "execution_count": 48,
     "metadata": {},
     "output_type": "execute_result"
    }
   ],
   "source": [
    "lgb_params_8 = {\n",
    "    \n",
    "    'subsample' : [0.5, 0.6, 0.7, 0.8],\n",
    "    'colsample_bytree' : [0.5, 0.6, 0.7, 0.8]\n",
    "                               \n",
    "                               }\n",
    "\n",
    "lgb_grid8 = GridSearchCV(\n",
    "    lgb.LGBMClassifier(\n",
    "    objective='binary', class_weight={0:1, 1:99.7979888}, num_leaves=21, max_depth=7, \n",
    "    min_child_samples=13, min_child_weight=0.3, min_split_gain=0.16, subsample=0.8, \n",
    "    colsample_bytree=0.8, subsample_freq=5\n",
    "), lgb_params_8, scoring='f1', n_jobs=-1, refit=True, verbose=0, cv=cv\n",
    ")\n",
    "\n",
    "lgb_grid8.fit(X_train, y_train)\n",
    "\n",
    "lgb_grid8.grid_scores_"
   ]
  },
  {
   "cell_type": "code",
   "execution_count": 49,
   "metadata": {},
   "outputs": [
    {
     "data": {
      "text/plain": [
       "({'colsample_bytree': 0.8, 'subsample': 0.5}, 0.8032066226101563)"
      ]
     },
     "execution_count": 49,
     "metadata": {},
     "output_type": "execute_result"
    }
   ],
   "source": [
    "lgb_grid8.best_params_, lgb_grid8.best_score_"
   ]
  },
  {
   "cell_type": "code",
   "execution_count": 50,
   "metadata": {},
   "outputs": [
    {
     "name": "stderr",
     "output_type": "stream",
     "text": [
      "C:\\Users\\Immanuel\\Anaconda3\\lib\\site-packages\\sklearn\\model_selection\\_search.py:762: DeprecationWarning: The grid_scores_ attribute was deprecated in version 0.18 in favor of the more elaborate cv_results_ attribute. The grid_scores_ attribute will not be available from 0.20\n",
      "  DeprecationWarning)\n"
     ]
    },
    {
     "data": {
      "text/plain": [
       "[mean: 0.78876, std: 0.01973, params: {'colsample_bytree': 0.705, 'subsample': 0.3},\n",
       " mean: 0.80252, std: 0.02076, params: {'colsample_bytree': 0.705, 'subsample': 0.35},\n",
       " mean: 0.78621, std: 0.02230, params: {'colsample_bytree': 0.705, 'subsample': 0.39999999999999997},\n",
       " mean: 0.79961, std: 0.01814, params: {'colsample_bytree': 0.705, 'subsample': 0.44999999999999996},\n",
       " mean: 0.79166, std: 0.01373, params: {'colsample_bytree': 0.705, 'subsample': 0.49999999999999994},\n",
       " mean: 0.74370, std: 0.05980, params: {'colsample_bytree': 0.705, 'subsample': 0.5499999999999999},\n",
       " mean: 0.78547, std: 0.02215, params: {'colsample_bytree': 0.755, 'subsample': 0.3},\n",
       " mean: 0.79184, std: 0.01875, params: {'colsample_bytree': 0.755, 'subsample': 0.35},\n",
       " mean: 0.77711, std: 0.01497, params: {'colsample_bytree': 0.755, 'subsample': 0.39999999999999997},\n",
       " mean: 0.79932, std: 0.01323, params: {'colsample_bytree': 0.755, 'subsample': 0.44999999999999996},\n",
       " mean: 0.79769, std: 0.00627, params: {'colsample_bytree': 0.755, 'subsample': 0.49999999999999994},\n",
       " mean: 0.73923, std: 0.05941, params: {'colsample_bytree': 0.755, 'subsample': 0.5499999999999999},\n",
       " mean: 0.78744, std: 0.00785, params: {'colsample_bytree': 0.805, 'subsample': 0.3},\n",
       " mean: 0.79218, std: 0.02319, params: {'colsample_bytree': 0.805, 'subsample': 0.35},\n",
       " mean: 0.78965, std: 0.02749, params: {'colsample_bytree': 0.805, 'subsample': 0.39999999999999997},\n",
       " mean: 0.79942, std: 0.01558, params: {'colsample_bytree': 0.805, 'subsample': 0.44999999999999996},\n",
       " mean: 0.80321, std: 0.01366, params: {'colsample_bytree': 0.805, 'subsample': 0.49999999999999994},\n",
       " mean: 0.73645, std: 0.05700, params: {'colsample_bytree': 0.805, 'subsample': 0.5499999999999999},\n",
       " mean: 0.79441, std: 0.02229, params: {'colsample_bytree': 0.8550000000000001, 'subsample': 0.3},\n",
       " mean: 0.78806, std: 0.01821, params: {'colsample_bytree': 0.8550000000000001, 'subsample': 0.35},\n",
       " mean: 0.79906, std: 0.02682, params: {'colsample_bytree': 0.8550000000000001, 'subsample': 0.39999999999999997},\n",
       " mean: 0.79794, std: 0.02684, params: {'colsample_bytree': 0.8550000000000001, 'subsample': 0.44999999999999996},\n",
       " mean: 0.80465, std: 0.01997, params: {'colsample_bytree': 0.8550000000000001, 'subsample': 0.49999999999999994},\n",
       " mean: 0.73417, std: 0.05575, params: {'colsample_bytree': 0.8550000000000001, 'subsample': 0.5499999999999999}]"
      ]
     },
     "execution_count": 50,
     "metadata": {},
     "output_type": "execute_result"
    }
   ],
   "source": [
    "lgb_params_9 = {\n",
    "    \n",
    "    'subsample' : np.arange(0.3, 0.6, 0.05),\n",
    "    'colsample_bytree' : np.arange(0.705, 0.9, 0.05)\n",
    "                               \n",
    "                               }\n",
    "\n",
    "lgb_grid9 = GridSearchCV(\n",
    "    lgb.LGBMClassifier(\n",
    "    objective='binary', class_weight={0:1, 1:99.7979888}, num_leaves=21, max_depth=7, \n",
    "    min_child_samples=13, min_child_weight=0.3, min_split_gain=0.16, subsample=0.8, \n",
    "    colsample_bytree=0.8, subsample_freq=5\n",
    "), lgb_params_9, scoring='f1', n_jobs=-1, refit=True, verbose=0, cv=cv\n",
    ")\n",
    "\n",
    "lgb_grid9.fit(X_train, y_train)\n",
    "\n",
    "lgb_grid9.grid_scores_"
   ]
  },
  {
   "cell_type": "code",
   "execution_count": 51,
   "metadata": {},
   "outputs": [
    {
     "data": {
      "text/plain": [
       "({'colsample_bytree': 0.8550000000000001, 'subsample': 0.49999999999999994},\n",
       " 0.8046487295877308)"
      ]
     },
     "execution_count": 51,
     "metadata": {},
     "output_type": "execute_result"
    }
   ],
   "source": [
    "lgb_grid9.best_params_, lgb_grid9.best_score_"
   ]
  },
  {
   "cell_type": "code",
   "execution_count": 54,
   "metadata": {},
   "outputs": [
    {
     "name": "stderr",
     "output_type": "stream",
     "text": [
      "C:\\Users\\Immanuel\\Anaconda3\\lib\\site-packages\\sklearn\\model_selection\\_search.py:762: DeprecationWarning: The grid_scores_ attribute was deprecated in version 0.18 in favor of the more elaborate cv_results_ attribute. The grid_scores_ attribute will not be available from 0.20\n",
      "  DeprecationWarning)\n"
     ]
    },
    {
     "data": {
      "text/plain": [
       "[mean: 0.79177, std: 0.01110, params: {'colsample_bytree': 0.81, 'subsample': 0.47},\n",
       " mean: 0.80277, std: 0.00860, params: {'colsample_bytree': 0.81, 'subsample': 0.475},\n",
       " mean: 0.79927, std: 0.01436, params: {'colsample_bytree': 0.81, 'subsample': 0.48},\n",
       " mean: 0.80844, std: 0.02153, params: {'colsample_bytree': 0.81, 'subsample': 0.485},\n",
       " mean: 0.80044, std: 0.01642, params: {'colsample_bytree': 0.81, 'subsample': 0.49},\n",
       " mean: 0.79939, std: 0.01700, params: {'colsample_bytree': 0.81, 'subsample': 0.495},\n",
       " mean: 0.80321, std: 0.01366, params: {'colsample_bytree': 0.81, 'subsample': 0.5},\n",
       " mean: 0.79177, std: 0.01110, params: {'colsample_bytree': 0.815, 'subsample': 0.47},\n",
       " mean: 0.80277, std: 0.00860, params: {'colsample_bytree': 0.815, 'subsample': 0.475},\n",
       " mean: 0.79927, std: 0.01436, params: {'colsample_bytree': 0.815, 'subsample': 0.48},\n",
       " mean: 0.80844, std: 0.02153, params: {'colsample_bytree': 0.815, 'subsample': 0.485},\n",
       " mean: 0.80044, std: 0.01642, params: {'colsample_bytree': 0.815, 'subsample': 0.49},\n",
       " mean: 0.79939, std: 0.01700, params: {'colsample_bytree': 0.815, 'subsample': 0.495},\n",
       " mean: 0.80321, std: 0.01366, params: {'colsample_bytree': 0.815, 'subsample': 0.5},\n",
       " mean: 0.78901, std: 0.02309, params: {'colsample_bytree': 0.82, 'subsample': 0.47},\n",
       " mean: 0.79744, std: 0.00852, params: {'colsample_bytree': 0.82, 'subsample': 0.475},\n",
       " mean: 0.80515, std: 0.02316, params: {'colsample_bytree': 0.82, 'subsample': 0.48},\n",
       " mean: 0.80147, std: 0.01540, params: {'colsample_bytree': 0.82, 'subsample': 0.485},\n",
       " mean: 0.79361, std: 0.00679, params: {'colsample_bytree': 0.82, 'subsample': 0.49},\n",
       " mean: 0.79164, std: 0.00993, params: {'colsample_bytree': 0.82, 'subsample': 0.495},\n",
       " mean: 0.78751, std: 0.01298, params: {'colsample_bytree': 0.82, 'subsample': 0.5},\n",
       " mean: 0.78901, std: 0.02309, params: {'colsample_bytree': 0.825, 'subsample': 0.47},\n",
       " mean: 0.79744, std: 0.00852, params: {'colsample_bytree': 0.825, 'subsample': 0.475},\n",
       " mean: 0.80515, std: 0.02316, params: {'colsample_bytree': 0.825, 'subsample': 0.48},\n",
       " mean: 0.80147, std: 0.01540, params: {'colsample_bytree': 0.825, 'subsample': 0.485},\n",
       " mean: 0.79361, std: 0.00679, params: {'colsample_bytree': 0.825, 'subsample': 0.49},\n",
       " mean: 0.79164, std: 0.00993, params: {'colsample_bytree': 0.825, 'subsample': 0.495},\n",
       " mean: 0.78751, std: 0.01298, params: {'colsample_bytree': 0.825, 'subsample': 0.5},\n",
       " mean: 0.78901, std: 0.02309, params: {'colsample_bytree': 0.83, 'subsample': 0.47},\n",
       " mean: 0.79744, std: 0.00852, params: {'colsample_bytree': 0.83, 'subsample': 0.475},\n",
       " mean: 0.80515, std: 0.02316, params: {'colsample_bytree': 0.83, 'subsample': 0.48},\n",
       " mean: 0.80147, std: 0.01540, params: {'colsample_bytree': 0.83, 'subsample': 0.485},\n",
       " mean: 0.79361, std: 0.00679, params: {'colsample_bytree': 0.83, 'subsample': 0.49},\n",
       " mean: 0.79164, std: 0.00993, params: {'colsample_bytree': 0.83, 'subsample': 0.495},\n",
       " mean: 0.78751, std: 0.01298, params: {'colsample_bytree': 0.83, 'subsample': 0.5}]"
      ]
     },
     "execution_count": 54,
     "metadata": {},
     "output_type": "execute_result"
    }
   ],
   "source": [
    "lgb_params_10 = {\n",
    "    \n",
    "    'subsample' : [0.47, 0.475, 0.48, 0.485, 0.49, 0.495, 0.50],\n",
    "    'colsample_bytree' : [0.81, 0.815, 0.82, 0.825, 0.83]\n",
    "                               \n",
    "                               }\n",
    "\n",
    "lgb_grid10 = GridSearchCV(\n",
    "    lgb.LGBMClassifier(\n",
    "    objective='binary', class_weight={0:1, 1:99.7979888}, num_leaves=21, max_depth=7, \n",
    "    min_child_samples=13, min_child_weight=0.3, min_split_gain=0.16, subsample=0.8, \n",
    "    colsample_bytree=0.8, subsample_freq=5\n",
    "), lgb_params_10, scoring='f1', n_jobs=-1, refit=True, verbose=0, cv=cv\n",
    ")\n",
    "\n",
    "lgb_grid10.fit(X_train, y_train)\n",
    "\n",
    "lgb_grid10.grid_scores_"
   ]
  },
  {
   "cell_type": "code",
   "execution_count": 55,
   "metadata": {},
   "outputs": [
    {
     "data": {
      "text/plain": [
       "({'colsample_bytree': 0.81, 'subsample': 0.485}, 0.8084357734331686)"
      ]
     },
     "execution_count": 55,
     "metadata": {},
     "output_type": "execute_result"
    }
   ],
   "source": [
    "lgb_grid10.best_params_, lgb_grid10.best_score_"
   ]
  },
  {
   "cell_type": "code",
   "execution_count": 58,
   "metadata": {},
   "outputs": [
    {
     "name": "stderr",
     "output_type": "stream",
     "text": [
      "C:\\Users\\Immanuel\\Anaconda3\\lib\\site-packages\\sklearn\\model_selection\\_search.py:762: DeprecationWarning: The grid_scores_ attribute was deprecated in version 0.18 in favor of the more elaborate cv_results_ attribute. The grid_scores_ attribute will not be available from 0.20\n",
      "  DeprecationWarning)\n"
     ]
    },
    {
     "data": {
      "text/plain": [
       "[mean: 0.76180, std: 0.08000, params: {'subsample_freq': 0},\n",
       " mean: 0.81570, std: 0.02222, params: {'subsample_freq': 1},\n",
       " mean: 0.81173, std: 0.03083, params: {'subsample_freq': 2},\n",
       " mean: 0.81547, std: 0.03673, params: {'subsample_freq': 3},\n",
       " mean: 0.82052, std: 0.03260, params: {'subsample_freq': 4},\n",
       " mean: 0.80844, std: 0.02153, params: {'subsample_freq': 5},\n",
       " mean: 0.78405, std: 0.02149, params: {'subsample_freq': 6},\n",
       " mean: 0.80485, std: 0.02339, params: {'subsample_freq': 7},\n",
       " mean: 0.81770, std: 0.03074, params: {'subsample_freq': 8},\n",
       " mean: 0.59309, std: 0.19324, params: {'subsample_freq': 9},\n",
       " mean: 0.73027, std: 0.05107, params: {'subsample_freq': 10},\n",
       " mean: 0.75840, std: 0.08434, params: {'subsample_freq': 11}]"
      ]
     },
     "execution_count": 58,
     "metadata": {},
     "output_type": "execute_result"
    }
   ],
   "source": [
    "lgb_params_11 = {\n",
    "    \n",
    "    'subsample_freq' : list(range(0, 12))\n",
    "                               \n",
    "                               }\n",
    "\n",
    "lgb_grid11 = GridSearchCV(\n",
    "    lgb.LGBMClassifier(\n",
    "    objective='binary', class_weight={0:1, 1:99.7979888}, num_leaves=21, max_depth=7, \n",
    "    min_child_samples=13, min_child_weight=0.3, min_split_gain=0.16, subsample=0.485, \n",
    "    colsample_bytree=0.81, subsample_freq=5\n",
    "), lgb_params_11, scoring='f1', n_jobs=-1, refit=True, verbose=0, cv=cv\n",
    ")\n",
    "\n",
    "lgb_grid11.fit(X_train, y_train)\n",
    "\n",
    "lgb_grid11.grid_scores_"
   ]
  },
  {
   "cell_type": "code",
   "execution_count": 59,
   "metadata": {},
   "outputs": [
    {
     "data": {
      "text/plain": [
       "({'subsample_freq': 4}, 0.8205205429128672)"
      ]
     },
     "execution_count": 59,
     "metadata": {},
     "output_type": "execute_result"
    }
   ],
   "source": [
    "lgb_grid11.best_params_, lgb_grid11.best_score_"
   ]
  },
  {
   "cell_type": "code",
   "execution_count": 62,
   "metadata": {},
   "outputs": [
    {
     "name": "stderr",
     "output_type": "stream",
     "text": [
      "C:\\Users\\Immanuel\\Anaconda3\\lib\\site-packages\\sklearn\\model_selection\\_search.py:762: DeprecationWarning: The grid_scores_ attribute was deprecated in version 0.18 in favor of the more elaborate cv_results_ attribute. The grid_scores_ attribute will not be available from 0.20\n",
      "  DeprecationWarning)\n"
     ]
    },
    {
     "data": {
      "text/plain": [
       "[mean: 0.81720, std: 0.02518, params: {'subsample_for_bin': 50000},\n",
       " mean: 0.82052, std: 0.03260, params: {'subsample_for_bin': 60000},\n",
       " mean: 0.82052, std: 0.03260, params: {'subsample_for_bin': 70000},\n",
       " mean: 0.82052, std: 0.03260, params: {'subsample_for_bin': 80000},\n",
       " mean: 0.82052, std: 0.03260, params: {'subsample_for_bin': 90000},\n",
       " mean: 0.82052, std: 0.03260, params: {'subsample_for_bin': 100000},\n",
       " mean: 0.82052, std: 0.03260, params: {'subsample_for_bin': 110000},\n",
       " mean: 0.82052, std: 0.03260, params: {'subsample_for_bin': 120000},\n",
       " mean: 0.82052, std: 0.03260, params: {'subsample_for_bin': 130000},\n",
       " mean: 0.82052, std: 0.03260, params: {'subsample_for_bin': 140000}]"
      ]
     },
     "execution_count": 62,
     "metadata": {},
     "output_type": "execute_result"
    }
   ],
   "source": [
    "lgb_params_12 = {\n",
    "    \n",
    "    'subsample_for_bin' : list(range(50000, 150000, 10000))\n",
    "                               \n",
    "                               }\n",
    "\n",
    "lgb_grid12 = GridSearchCV(\n",
    "    lgb.LGBMClassifier(\n",
    "    objective='binary', class_weight={0:1, 1:99.7979888}, num_leaves=21, max_depth=7, \n",
    "    min_child_samples=13, min_child_weight=0.3, min_split_gain=0.16, subsample=0.485, \n",
    "    colsample_bytree=0.81, subsample_freq=4\n",
    "), lgb_params_12, scoring='f1', n_jobs=-1, refit=True, verbose=0, cv=cv\n",
    ")\n",
    "\n",
    "lgb_grid12.fit(X_train, y_train)\n",
    "\n",
    "lgb_grid12.grid_scores_"
   ]
  },
  {
   "cell_type": "code",
   "execution_count": 63,
   "metadata": {},
   "outputs": [
    {
     "data": {
      "text/plain": [
       "({'subsample_for_bin': 60000}, 0.8205205429128672)"
      ]
     },
     "execution_count": 63,
     "metadata": {},
     "output_type": "execute_result"
    }
   ],
   "source": [
    "lgb_grid12.best_params_, lgb_grid12.best_score_"
   ]
  },
  {
   "cell_type": "code",
   "execution_count": 64,
   "metadata": {},
   "outputs": [
    {
     "name": "stderr",
     "output_type": "stream",
     "text": [
      "C:\\Users\\Immanuel\\Anaconda3\\lib\\site-packages\\sklearn\\model_selection\\_search.py:762: DeprecationWarning: The grid_scores_ attribute was deprecated in version 0.18 in favor of the more elaborate cv_results_ attribute. The grid_scores_ attribute will not be available from 0.20\n",
      "  DeprecationWarning)\n"
     ]
    },
    {
     "data": {
      "text/plain": [
       "[mean: 0.81461, std: 0.02774, params: {'reg_alpha': 0, 'reg_lambda': 0.01},\n",
       " mean: 0.81180, std: 0.02699, params: {'reg_alpha': 0, 'reg_lambda': 0.05},\n",
       " mean: 0.80805, std: 0.02960, params: {'reg_alpha': 0, 'reg_lambda': 0.1},\n",
       " mean: 0.78156, std: 0.02791, params: {'reg_alpha': 0, 'reg_lambda': 0.5},\n",
       " mean: 0.75778, std: 0.05962, params: {'reg_alpha': 0, 'reg_lambda': 1},\n",
       " mean: 0.80437, std: 0.03085, params: {'reg_alpha': 0.001, 'reg_lambda': 0.01},\n",
       " mean: 0.80914, std: 0.02477, params: {'reg_alpha': 0.001, 'reg_lambda': 0.05},\n",
       " mean: 0.81050, std: 0.02703, params: {'reg_alpha': 0.001, 'reg_lambda': 0.1},\n",
       " mean: 0.78156, std: 0.02791, params: {'reg_alpha': 0.001, 'reg_lambda': 0.5},\n",
       " mean: 0.75622, std: 0.06267, params: {'reg_alpha': 0.001, 'reg_lambda': 1},\n",
       " mean: 0.81751, std: 0.02964, params: {'reg_alpha': 0.005, 'reg_lambda': 0.01},\n",
       " mean: 0.80775, std: 0.04241, params: {'reg_alpha': 0.005, 'reg_lambda': 0.05},\n",
       " mean: 0.81958, std: 0.02192, params: {'reg_alpha': 0.005, 'reg_lambda': 0.1},\n",
       " mean: 0.78858, std: 0.02365, params: {'reg_alpha': 0.005, 'reg_lambda': 0.5},\n",
       " mean: 0.75523, std: 0.05774, params: {'reg_alpha': 0.005, 'reg_lambda': 1},\n",
       " mean: 0.81462, std: 0.02487, params: {'reg_alpha': 0.01, 'reg_lambda': 0.01},\n",
       " mean: 0.80961, std: 0.03386, params: {'reg_alpha': 0.01, 'reg_lambda': 0.05},\n",
       " mean: 0.80525, std: 0.02334, params: {'reg_alpha': 0.01, 'reg_lambda': 0.1},\n",
       " mean: 0.80177, std: 0.02626, params: {'reg_alpha': 0.01, 'reg_lambda': 0.5},\n",
       " mean: 0.75939, std: 0.05651, params: {'reg_alpha': 0.01, 'reg_lambda': 1},\n",
       " mean: 0.81751, std: 0.02964, params: {'reg_alpha': 0.05, 'reg_lambda': 0.01},\n",
       " mean: 0.79747, std: 0.02866, params: {'reg_alpha': 0.05, 'reg_lambda': 0.05},\n",
       " mean: 0.80771, std: 0.02795, params: {'reg_alpha': 0.05, 'reg_lambda': 0.1},\n",
       " mean: 0.76852, std: 0.06242, params: {'reg_alpha': 0.05, 'reg_lambda': 0.5},\n",
       " mean: 0.75979, std: 0.05892, params: {'reg_alpha': 0.05, 'reg_lambda': 1}]"
      ]
     },
     "execution_count": 64,
     "metadata": {},
     "output_type": "execute_result"
    }
   ],
   "source": [
    "lgb_params_13 = {\n",
    "    \n",
    "    'reg_lambda' : [0.01, 0.05, 0.1, 0.5, 1],\n",
    "    'reg_alpha':[0, 0.001, 0.005, 0.01, 0.05]\n",
    "                               \n",
    "                               }\n",
    "\n",
    "lgb_grid13 = GridSearchCV(\n",
    "    lgb.LGBMClassifier(\n",
    "    objective='binary', class_weight={0:1, 1:99.7979888}, num_leaves=21, max_depth=7, \n",
    "    min_child_samples=13, min_child_weight=0.3, min_split_gain=0.16, subsample=0.485, \n",
    "    colsample_bytree=0.81, subsample_freq=4, subsample_for_bin=60000\n",
    "), lgb_params_13, scoring='f1', n_jobs=-1, refit=True, verbose=0, cv=cv\n",
    ")\n",
    "\n",
    "lgb_grid13.fit(X_train, y_train)\n",
    "\n",
    "lgb_grid13.grid_scores_"
   ]
  },
  {
   "cell_type": "code",
   "execution_count": 65,
   "metadata": {},
   "outputs": [
    {
     "data": {
      "text/plain": [
       "({'reg_alpha': 0.005, 'reg_lambda': 0.1}, 0.8195844540790683)"
      ]
     },
     "execution_count": 65,
     "metadata": {},
     "output_type": "execute_result"
    }
   ],
   "source": [
    "lgb_grid13.best_params_, lgb_grid13.best_score_"
   ]
  },
  {
   "cell_type": "code",
   "execution_count": 66,
   "metadata": {},
   "outputs": [
    {
     "name": "stderr",
     "output_type": "stream",
     "text": [
      "C:\\Users\\Immanuel\\Anaconda3\\lib\\site-packages\\sklearn\\model_selection\\_search.py:762: DeprecationWarning: The grid_scores_ attribute was deprecated in version 0.18 in favor of the more elaborate cv_results_ attribute. The grid_scores_ attribute will not be available from 0.20\n",
      "  DeprecationWarning)\n"
     ]
    },
    {
     "data": {
      "text/plain": [
       "[mean: 0.80161, std: 0.03658, params: {'reg_alpha': 0.002, 'reg_lambda': 0.05},\n",
       " mean: 0.80681, std: 0.03282, params: {'reg_alpha': 0.002, 'reg_lambda': 0.060000000000000005},\n",
       " mean: 0.79797, std: 0.04166, params: {'reg_alpha': 0.002, 'reg_lambda': 0.07},\n",
       " mean: 0.79772, std: 0.03479, params: {'reg_alpha': 0.002, 'reg_lambda': 0.08000000000000002},\n",
       " mean: 0.80247, std: 0.02379, params: {'reg_alpha': 0.002, 'reg_lambda': 0.09000000000000001},\n",
       " mean: 0.82249, std: 0.02368, params: {'reg_alpha': 0.002, 'reg_lambda': 0.1},\n",
       " mean: 0.80907, std: 0.02705, params: {'reg_alpha': 0.002, 'reg_lambda': 0.11000000000000001},\n",
       " mean: 0.81269, std: 0.02367, params: {'reg_alpha': 0.002, 'reg_lambda': 0.12000000000000001},\n",
       " mean: 0.80213, std: 0.02358, params: {'reg_alpha': 0.002, 'reg_lambda': 0.13},\n",
       " mean: 0.80272, std: 0.03300, params: {'reg_alpha': 0.002, 'reg_lambda': 0.14},\n",
       " mean: 0.80507, std: 0.03140, params: {'reg_alpha': 0.002, 'reg_lambda': 0.15000000000000002},\n",
       " mean: 0.80771, std: 0.02795, params: {'reg_alpha': 0.002, 'reg_lambda': 0.16000000000000003},\n",
       " mean: 0.80790, std: 0.02419, params: {'reg_alpha': 0.002, 'reg_lambda': 0.17000000000000004},\n",
       " mean: 0.80005, std: 0.03042, params: {'reg_alpha': 0.002, 'reg_lambda': 0.18000000000000005},\n",
       " mean: 0.79746, std: 0.02694, params: {'reg_alpha': 0.002, 'reg_lambda': 0.19},\n",
       " mean: 0.80272, std: 0.03300, params: {'reg_alpha': 0.002, 'reg_lambda': 0.2},\n",
       " mean: 0.80771, std: 0.02795, params: {'reg_alpha': 0.002, 'reg_lambda': 0.21000000000000002},\n",
       " mean: 0.80505, std: 0.02538, params: {'reg_alpha': 0.002, 'reg_lambda': 0.22000000000000003},\n",
       " mean: 0.80988, std: 0.02257, params: {'reg_alpha': 0.002, 'reg_lambda': 0.23000000000000004},\n",
       " mean: 0.79205, std: 0.01868, params: {'reg_alpha': 0.002, 'reg_lambda': 0.24000000000000005},\n",
       " mean: 0.80927, std: 0.02968, params: {'reg_alpha': 0.002, 'reg_lambda': 0.25000000000000006},\n",
       " mean: 0.79914, std: 0.02528, params: {'reg_alpha': 0.002, 'reg_lambda': 0.26000000000000006},\n",
       " mean: 0.80647, std: 0.02406, params: {'reg_alpha': 0.002, 'reg_lambda': 0.27},\n",
       " mean: 0.80550, std: 0.03266, params: {'reg_alpha': 0.002, 'reg_lambda': 0.28},\n",
       " mean: 0.79327, std: 0.02700, params: {'reg_alpha': 0.002, 'reg_lambda': 0.29000000000000004},\n",
       " mean: 0.80410, std: 0.03271, params: {'reg_alpha': 0.002, 'reg_lambda': 0.30000000000000004},\n",
       " mean: 0.79515, std: 0.03298, params: {'reg_alpha': 0.002, 'reg_lambda': 0.31000000000000005},\n",
       " mean: 0.80143, std: 0.03023, params: {'reg_alpha': 0.002, 'reg_lambda': 0.32000000000000006},\n",
       " mean: 0.78821, std: 0.01650, params: {'reg_alpha': 0.002, 'reg_lambda': 0.33},\n",
       " mean: 0.79122, std: 0.02656, params: {'reg_alpha': 0.002, 'reg_lambda': 0.34},\n",
       " mean: 0.78211, std: 0.02034, params: {'reg_alpha': 0.002, 'reg_lambda': 0.35000000000000003},\n",
       " mean: 0.78735, std: 0.02902, params: {'reg_alpha': 0.002, 'reg_lambda': 0.36000000000000004},\n",
       " mean: 0.78959, std: 0.02813, params: {'reg_alpha': 0.002, 'reg_lambda': 0.37000000000000005},\n",
       " mean: 0.78697, std: 0.02295, params: {'reg_alpha': 0.002, 'reg_lambda': 0.38000000000000006},\n",
       " mean: 0.78921, std: 0.02185, params: {'reg_alpha': 0.002, 'reg_lambda': 0.39000000000000007},\n",
       " mean: 0.78413, std: 0.01459, params: {'reg_alpha': 0.002, 'reg_lambda': 0.4000000000000001},\n",
       " mean: 0.79308, std: 0.01805, params: {'reg_alpha': 0.002, 'reg_lambda': 0.4100000000000001},\n",
       " mean: 0.77961, std: 0.01694, params: {'reg_alpha': 0.002, 'reg_lambda': 0.42000000000000004},\n",
       " mean: 0.77718, std: 0.01454, params: {'reg_alpha': 0.002, 'reg_lambda': 0.43000000000000005},\n",
       " mean: 0.77993, std: 0.02189, params: {'reg_alpha': 0.002, 'reg_lambda': 0.44000000000000006},\n",
       " mean: 0.78692, std: 0.02362, params: {'reg_alpha': 0.002, 'reg_lambda': 0.45000000000000007},\n",
       " mean: 0.78692, std: 0.02362, params: {'reg_alpha': 0.002, 'reg_lambda': 0.4600000000000001},\n",
       " mean: 0.77483, std: 0.01354, params: {'reg_alpha': 0.002, 'reg_lambda': 0.4700000000000001},\n",
       " mean: 0.78821, std: 0.01650, params: {'reg_alpha': 0.002, 'reg_lambda': 0.4800000000000001},\n",
       " mean: 0.78581, std: 0.01813, params: {'reg_alpha': 0.002, 'reg_lambda': 0.49000000000000005},\n",
       " mean: 0.80318, std: 0.03722, params: {'reg_alpha': 0.004, 'reg_lambda': 0.05},\n",
       " mean: 0.81461, std: 0.02774, params: {'reg_alpha': 0.004, 'reg_lambda': 0.060000000000000005},\n",
       " mean: 0.80280, std: 0.03797, params: {'reg_alpha': 0.004, 'reg_lambda': 0.07},\n",
       " mean: 0.80525, std: 0.02334, params: {'reg_alpha': 0.004, 'reg_lambda': 0.08000000000000002},\n",
       " mean: 0.80785, std: 0.03083, params: {'reg_alpha': 0.004, 'reg_lambda': 0.09000000000000001},\n",
       " mean: 0.81199, std: 0.02316, params: {'reg_alpha': 0.004, 'reg_lambda': 0.1},\n",
       " mean: 0.81142, std: 0.02448, params: {'reg_alpha': 0.004, 'reg_lambda': 0.11000000000000001},\n",
       " mean: 0.80753, std: 0.02825, params: {'reg_alpha': 0.004, 'reg_lambda': 0.12000000000000001},\n",
       " mean: 0.80738, std: 0.02783, params: {'reg_alpha': 0.004, 'reg_lambda': 0.13},\n",
       " mean: 0.81547, std: 0.02196, params: {'reg_alpha': 0.004, 'reg_lambda': 0.14},\n",
       " mean: 0.80785, std: 0.03083, params: {'reg_alpha': 0.004, 'reg_lambda': 0.15000000000000002},\n",
       " mean: 0.81312, std: 0.02519, params: {'reg_alpha': 0.004, 'reg_lambda': 0.16000000000000003},\n",
       " mean: 0.80290, std: 0.02991, params: {'reg_alpha': 0.004, 'reg_lambda': 0.17000000000000004},\n",
       " mean: 0.80284, std: 0.03030, params: {'reg_alpha': 0.004, 'reg_lambda': 0.18000000000000005},\n",
       " mean: 0.80012, std: 0.03005, params: {'reg_alpha': 0.004, 'reg_lambda': 0.19},\n",
       " mean: 0.80290, std: 0.02991, params: {'reg_alpha': 0.004, 'reg_lambda': 0.2},\n",
       " mean: 0.79992, std: 0.02398, params: {'reg_alpha': 0.004, 'reg_lambda': 0.21000000000000002},\n",
       " mean: 0.80005, std: 0.03042, params: {'reg_alpha': 0.004, 'reg_lambda': 0.22000000000000003},\n",
       " mean: 0.80907, std: 0.02705, params: {'reg_alpha': 0.004, 'reg_lambda': 0.23000000000000004},\n",
       " mean: 0.79928, std: 0.03146, params: {'reg_alpha': 0.004, 'reg_lambda': 0.24000000000000005},\n",
       " mean: 0.80157, std: 0.02920, params: {'reg_alpha': 0.004, 'reg_lambda': 0.25000000000000006},\n",
       " mean: 0.79657, std: 0.03069, params: {'reg_alpha': 0.004, 'reg_lambda': 0.26000000000000006},\n",
       " mean: 0.80272, std: 0.03300, params: {'reg_alpha': 0.004, 'reg_lambda': 0.27},\n",
       " mean: 0.80961, std: 0.03386, params: {'reg_alpha': 0.004, 'reg_lambda': 0.28},\n",
       " mean: 0.80312, std: 0.03601, params: {'reg_alpha': 0.004, 'reg_lambda': 0.29000000000000004},\n",
       " mean: 0.79574, std: 0.02294, params: {'reg_alpha': 0.004, 'reg_lambda': 0.30000000000000004},\n",
       " mean: 0.79655, std: 0.02908, params: {'reg_alpha': 0.004, 'reg_lambda': 0.31000000000000005},\n",
       " mean: 0.78921, std: 0.02185, params: {'reg_alpha': 0.004, 'reg_lambda': 0.32000000000000006},\n",
       " mean: 0.78839, std: 0.02221, params: {'reg_alpha': 0.004, 'reg_lambda': 0.33},\n",
       " mean: 0.78469, std: 0.02444, params: {'reg_alpha': 0.004, 'reg_lambda': 0.34},\n",
       " mean: 0.78231, std: 0.02699, params: {'reg_alpha': 0.004, 'reg_lambda': 0.35000000000000003},\n",
       " mean: 0.78959, std: 0.02813, params: {'reg_alpha': 0.004, 'reg_lambda': 0.36000000000000004},\n",
       " mean: 0.78692, std: 0.02362, params: {'reg_alpha': 0.004, 'reg_lambda': 0.37000000000000005},\n",
       " mean: 0.79187, std: 0.02643, params: {'reg_alpha': 0.004, 'reg_lambda': 0.38000000000000006},\n",
       " mean: 0.78514, std: 0.02135, params: {'reg_alpha': 0.004, 'reg_lambda': 0.39000000000000007},\n",
       " mean: 0.78413, std: 0.01459, params: {'reg_alpha': 0.004, 'reg_lambda': 0.4000000000000001},\n",
       " mean: 0.79308, std: 0.01805, params: {'reg_alpha': 0.004, 'reg_lambda': 0.4100000000000001},\n",
       " mean: 0.78735, std: 0.02902, params: {'reg_alpha': 0.004, 'reg_lambda': 0.42000000000000004},\n",
       " mean: 0.77804, std: 0.01829, params: {'reg_alpha': 0.004, 'reg_lambda': 0.43000000000000005},\n",
       " mean: 0.77993, std: 0.02189, params: {'reg_alpha': 0.004, 'reg_lambda': 0.44000000000000006},\n",
       " mean: 0.78839, std: 0.02221, params: {'reg_alpha': 0.004, 'reg_lambda': 0.45000000000000007},\n",
       " mean: 0.78692, std: 0.02362, params: {'reg_alpha': 0.004, 'reg_lambda': 0.4600000000000001},\n",
       " mean: 0.78231, std: 0.02699, params: {'reg_alpha': 0.004, 'reg_lambda': 0.4700000000000001},\n",
       " mean: 0.78357, std: 0.01906, params: {'reg_alpha': 0.004, 'reg_lambda': 0.4800000000000001},\n",
       " mean: 0.78882, std: 0.02786, params: {'reg_alpha': 0.004, 'reg_lambda': 0.49000000000000005},\n",
       " mean: 0.80775, std: 0.04241, params: {'reg_alpha': 0.005, 'reg_lambda': 0.05},\n",
       " mean: 0.81751, std: 0.02964, params: {'reg_alpha': 0.005, 'reg_lambda': 0.060000000000000005},\n",
       " mean: 0.80035, std: 0.03437, params: {'reg_alpha': 0.005, 'reg_lambda': 0.07},\n",
       " mean: 0.80272, std: 0.02576, params: {'reg_alpha': 0.005, 'reg_lambda': 0.08000000000000002},\n",
       " mean: 0.80761, std: 0.02073, params: {'reg_alpha': 0.005, 'reg_lambda': 0.09000000000000001},\n",
       " mean: 0.81958, std: 0.02192, params: {'reg_alpha': 0.005, 'reg_lambda': 0.1},\n",
       " mean: 0.80753, std: 0.02825, params: {'reg_alpha': 0.005, 'reg_lambda': 0.11000000000000001},\n",
       " mean: 0.81285, std: 0.02431, params: {'reg_alpha': 0.005, 'reg_lambda': 0.12000000000000001},\n",
       " mean: 0.81285, std: 0.02431, params: {'reg_alpha': 0.005, 'reg_lambda': 0.13},\n",
       " mean: 0.81600, std: 0.02515, params: {'reg_alpha': 0.005, 'reg_lambda': 0.14},\n",
       " mean: 0.81050, std: 0.02703, params: {'reg_alpha': 0.005, 'reg_lambda': 0.15000000000000002},\n",
       " mean: 0.81312, std: 0.02519, params: {'reg_alpha': 0.005, 'reg_lambda': 0.16000000000000003},\n",
       " mean: 0.80290, std: 0.02991, params: {'reg_alpha': 0.005, 'reg_lambda': 0.17000000000000004},\n",
       " mean: 0.80572, std: 0.03123, params: {'reg_alpha': 0.005, 'reg_lambda': 0.18000000000000005},\n",
       " mean: 0.80550, std: 0.03266, params: {'reg_alpha': 0.005, 'reg_lambda': 0.19},\n",
       " mean: 0.80272, std: 0.03300, params: {'reg_alpha': 0.005, 'reg_lambda': 0.2},\n",
       " mean: 0.80251, std: 0.02761, params: {'reg_alpha': 0.005, 'reg_lambda': 0.21000000000000002},\n",
       " mean: 0.80005, std: 0.03042, params: {'reg_alpha': 0.005, 'reg_lambda': 0.22000000000000003},\n",
       " mean: 0.80907, std: 0.02705, params: {'reg_alpha': 0.005, 'reg_lambda': 0.23000000000000004},\n",
       " mean: 0.80209, std: 0.03319, params: {'reg_alpha': 0.005, 'reg_lambda': 0.24000000000000005},\n",
       " mean: 0.79897, std: 0.02570, params: {'reg_alpha': 0.005, 'reg_lambda': 0.25000000000000006},\n",
       " mean: 0.80437, std: 0.03085, params: {'reg_alpha': 0.005, 'reg_lambda': 0.26000000000000006},\n",
       " mean: 0.79784, std: 0.03214, params: {'reg_alpha': 0.005, 'reg_lambda': 0.27},\n",
       " mean: 0.80290, std: 0.02991, params: {'reg_alpha': 0.005, 'reg_lambda': 0.28},\n",
       " mean: 0.80312, std: 0.03601, params: {'reg_alpha': 0.005, 'reg_lambda': 0.29000000000000004},\n",
       " mean: 0.78949, std: 0.02939, params: {'reg_alpha': 0.005, 'reg_lambda': 0.30000000000000004},\n",
       " mean: 0.79404, std: 0.02644, params: {'reg_alpha': 0.005, 'reg_lambda': 0.31000000000000005},\n",
       " mean: 0.78514, std: 0.02135, params: {'reg_alpha': 0.005, 'reg_lambda': 0.32000000000000006},\n",
       " mean: 0.78223, std: 0.02967, params: {'reg_alpha': 0.005, 'reg_lambda': 0.33},\n",
       " mean: 0.78692, std: 0.02362, params: {'reg_alpha': 0.005, 'reg_lambda': 0.34},\n",
       " mean: 0.78231, std: 0.02699, params: {'reg_alpha': 0.005, 'reg_lambda': 0.35000000000000003},\n",
       " mean: 0.79574, std: 0.02294, params: {'reg_alpha': 0.005, 'reg_lambda': 0.36000000000000004},\n",
       " mean: 0.78692, std: 0.02362, params: {'reg_alpha': 0.005, 'reg_lambda': 0.37000000000000005},\n",
       " mean: 0.79187, std: 0.02643, params: {'reg_alpha': 0.005, 'reg_lambda': 0.38000000000000006},\n",
       " mean: 0.78006, std: 0.01224, params: {'reg_alpha': 0.005, 'reg_lambda': 0.39000000000000007},\n",
       " mean: 0.78184, std: 0.01644, params: {'reg_alpha': 0.005, 'reg_lambda': 0.4000000000000001},\n",
       " mean: 0.79050, std: 0.01363, params: {'reg_alpha': 0.005, 'reg_lambda': 0.4100000000000001},\n",
       " mean: 0.78735, std: 0.02902, params: {'reg_alpha': 0.005, 'reg_lambda': 0.42000000000000004},\n",
       " mean: 0.78211, std: 0.02034, params: {'reg_alpha': 0.005, 'reg_lambda': 0.43000000000000005},\n",
       " mean: 0.78130, std: 0.01676, params: {'reg_alpha': 0.005, 'reg_lambda': 0.44000000000000006},\n",
       " mean: 0.78398, std: 0.02494, params: {'reg_alpha': 0.005, 'reg_lambda': 0.45000000000000007},\n",
       " mean: 0.78692, std: 0.02362, params: {'reg_alpha': 0.005, 'reg_lambda': 0.4600000000000001},\n",
       " mean: 0.78856, std: 0.02193, params: {'reg_alpha': 0.005, 'reg_lambda': 0.4700000000000001},\n",
       " mean: 0.78357, std: 0.01906, params: {'reg_alpha': 0.005, 'reg_lambda': 0.4800000000000001},\n",
       " mean: 0.78156, std: 0.02791, params: {'reg_alpha': 0.005, 'reg_lambda': 0.49000000000000005},\n",
       " mean: 0.79273, std: 0.03767, params: {'reg_alpha': 0.006, 'reg_lambda': 0.05},\n",
       " mean: 0.81050, std: 0.02703, params: {'reg_alpha': 0.006, 'reg_lambda': 0.060000000000000005},\n",
       " mean: 0.79772, std: 0.03479, params: {'reg_alpha': 0.006, 'reg_lambda': 0.07},\n",
       " mean: 0.80745, std: 0.01994, params: {'reg_alpha': 0.006, 'reg_lambda': 0.08000000000000002},\n",
       " mean: 0.80261, std: 0.02714, params: {'reg_alpha': 0.006, 'reg_lambda': 0.09000000000000001},\n",
       " mean: 0.81723, std: 0.02553, params: {'reg_alpha': 0.006, 'reg_lambda': 0.1},\n",
       " mean: 0.81034, std: 0.02644, params: {'reg_alpha': 0.006, 'reg_lambda': 0.11000000000000001},\n",
       " mean: 0.80005, std: 0.03042, params: {'reg_alpha': 0.006, 'reg_lambda': 0.12000000000000001},\n",
       " mean: 0.81031, std: 0.02736, params: {'reg_alpha': 0.006, 'reg_lambda': 0.13},\n",
       " mean: 0.81600, std: 0.02515, params: {'reg_alpha': 0.006, 'reg_lambda': 0.14},\n",
       " mean: 0.80272, std: 0.03300, params: {'reg_alpha': 0.006, 'reg_lambda': 0.15000000000000002},\n",
       " mean: 0.81034, std: 0.02644, params: {'reg_alpha': 0.006, 'reg_lambda': 0.16000000000000003},\n",
       " mean: 0.80272, std: 0.03300, params: {'reg_alpha': 0.006, 'reg_lambda': 0.17000000000000004},\n",
       " mean: 0.80572, std: 0.03123, params: {'reg_alpha': 0.006, 'reg_lambda': 0.18000000000000005},\n",
       " mean: 0.80272, std: 0.03300, params: {'reg_alpha': 0.006, 'reg_lambda': 0.19},\n",
       " mean: 0.80289, std: 0.03265, params: {'reg_alpha': 0.006, 'reg_lambda': 0.2},\n",
       " mean: 0.80005, std: 0.03042, params: {'reg_alpha': 0.006, 'reg_lambda': 0.21000000000000002},\n",
       " mean: 0.80505, std: 0.02538, params: {'reg_alpha': 0.006, 'reg_lambda': 0.22000000000000003},\n",
       " mean: 0.79549, std: 0.02231, params: {'reg_alpha': 0.006, 'reg_lambda': 0.23000000000000004},\n",
       " mean: 0.80209, std: 0.03319, params: {'reg_alpha': 0.006, 'reg_lambda': 0.24000000000000005},\n",
       " mean: 0.80681, std: 0.03282, params: {'reg_alpha': 0.006, 'reg_lambda': 0.25000000000000006},\n",
       " mean: 0.80437, std: 0.03085, params: {'reg_alpha': 0.006, 'reg_lambda': 0.26000000000000006},\n",
       " mean: 0.79409, std: 0.03004, params: {'reg_alpha': 0.006, 'reg_lambda': 0.27},\n",
       " mean: 0.80100, std: 0.03757, params: {'reg_alpha': 0.006, 'reg_lambda': 0.28},\n",
       " mean: 0.80172, std: 0.03597, params: {'reg_alpha': 0.006, 'reg_lambda': 0.29000000000000004},\n",
       " mean: 0.78949, std: 0.02939, params: {'reg_alpha': 0.006, 'reg_lambda': 0.30000000000000004},\n",
       " mean: 0.79146, std: 0.02374, params: {'reg_alpha': 0.006, 'reg_lambda': 0.31000000000000005},\n",
       " mean: 0.78286, std: 0.02275, params: {'reg_alpha': 0.006, 'reg_lambda': 0.32000000000000006},\n",
       " mean: 0.79079, std: 0.02060, params: {'reg_alpha': 0.006, 'reg_lambda': 0.33},\n",
       " mean: 0.78469, std: 0.02444, params: {'reg_alpha': 0.006, 'reg_lambda': 0.34},\n",
       " mean: 0.78938, std: 0.02143, params: {'reg_alpha': 0.006, 'reg_lambda': 0.35000000000000003},\n",
       " mean: 0.78737, std: 0.03035, params: {'reg_alpha': 0.006, 'reg_lambda': 0.36000000000000004},\n",
       " mean: 0.78692, std: 0.02362, params: {'reg_alpha': 0.006, 'reg_lambda': 0.37000000000000005},\n",
       " mean: 0.78413, std: 0.01459, params: {'reg_alpha': 0.006, 'reg_lambda': 0.38000000000000006},\n",
       " mean: 0.78413, std: 0.01459, params: {'reg_alpha': 0.006, 'reg_lambda': 0.39000000000000007},\n",
       " mean: 0.78189, std: 0.01548, params: {'reg_alpha': 0.006, 'reg_lambda': 0.4000000000000001},\n",
       " mean: 0.78826, std: 0.01553, params: {'reg_alpha': 0.006, 'reg_lambda': 0.4100000000000001},\n",
       " mean: 0.78469, std: 0.02444, params: {'reg_alpha': 0.006, 'reg_lambda': 0.42000000000000004},\n",
       " mean: 0.78735, std: 0.02902, params: {'reg_alpha': 0.006, 'reg_lambda': 0.43000000000000005},\n",
       " mean: 0.78571, std: 0.01326, params: {'reg_alpha': 0.006, 'reg_lambda': 0.44000000000000006},\n",
       " mean: 0.78469, std: 0.02444, params: {'reg_alpha': 0.006, 'reg_lambda': 0.45000000000000007},\n",
       " mean: 0.77961, std: 0.01694, params: {'reg_alpha': 0.006, 'reg_lambda': 0.4600000000000001},\n",
       " mean: 0.78856, std: 0.02193, params: {'reg_alpha': 0.006, 'reg_lambda': 0.4700000000000001},\n",
       " mean: 0.78581, std: 0.01813, params: {'reg_alpha': 0.006, 'reg_lambda': 0.4800000000000001},\n",
       " mean: 0.78156, std: 0.02791, params: {'reg_alpha': 0.006, 'reg_lambda': 0.49000000000000005},\n",
       " mean: 0.81461, std: 0.02774, params: {'reg_alpha': 0.008, 'reg_lambda': 0.05},\n",
       " mean: 0.80785, std: 0.03083, params: {'reg_alpha': 0.008, 'reg_lambda': 0.060000000000000005},\n",
       " mean: 0.80018, std: 0.03852, params: {'reg_alpha': 0.008, 'reg_lambda': 0.07},\n",
       " mean: 0.80509, std: 0.02262, params: {'reg_alpha': 0.008, 'reg_lambda': 0.08000000000000002},\n",
       " mean: 0.81723, std: 0.02553, params: {'reg_alpha': 0.008, 'reg_lambda': 0.09000000000000001},\n",
       " mean: 0.80961, std: 0.03386, params: {'reg_alpha': 0.008, 'reg_lambda': 0.1},\n",
       " mean: 0.81034, std: 0.02644, params: {'reg_alpha': 0.008, 'reg_lambda': 0.11000000000000001},\n",
       " mean: 0.79728, std: 0.02463, params: {'reg_alpha': 0.008, 'reg_lambda': 0.12000000000000001},\n",
       " mean: 0.81050, std: 0.02703, params: {'reg_alpha': 0.008, 'reg_lambda': 0.13},\n",
       " mean: 0.80785, std: 0.03083, params: {'reg_alpha': 0.008, 'reg_lambda': 0.14},\n",
       " mean: 0.80272, std: 0.03300, params: {'reg_alpha': 0.008, 'reg_lambda': 0.15000000000000002},\n",
       " mean: 0.80546, std: 0.02679, params: {'reg_alpha': 0.008, 'reg_lambda': 0.16000000000000003},\n",
       " mean: 0.80550, std: 0.03266, params: {'reg_alpha': 0.008, 'reg_lambda': 0.17000000000000004},\n",
       " mean: 0.80814, std: 0.02888, params: {'reg_alpha': 0.008, 'reg_lambda': 0.18000000000000005},\n",
       " mean: 0.80550, std: 0.03266, params: {'reg_alpha': 0.008, 'reg_lambda': 0.19},\n",
       " mean: 0.80043, std: 0.03509, params: {'reg_alpha': 0.008, 'reg_lambda': 0.2},\n",
       " mean: 0.80005, std: 0.03042, params: {'reg_alpha': 0.008, 'reg_lambda': 0.21000000000000002},\n",
       " mean: 0.80132, std: 0.02264, params: {'reg_alpha': 0.008, 'reg_lambda': 0.22000000000000003},\n",
       " mean: 0.78525, std: 0.01697, params: {'reg_alpha': 0.008, 'reg_lambda': 0.23000000000000004},\n",
       " mean: 0.80702, std: 0.03156, params: {'reg_alpha': 0.008, 'reg_lambda': 0.24000000000000005},\n",
       " mean: 0.80733, std: 0.03634, params: {'reg_alpha': 0.008, 'reg_lambda': 0.25000000000000006},\n",
       " mean: 0.80702, std: 0.03156, params: {'reg_alpha': 0.008, 'reg_lambda': 0.26000000000000006},\n",
       " mean: 0.80824, std: 0.02757, params: {'reg_alpha': 0.008, 'reg_lambda': 0.27},\n",
       " mean: 0.79834, std: 0.03520, params: {'reg_alpha': 0.008, 'reg_lambda': 0.28},\n",
       " mean: 0.78963, std: 0.02756, params: {'reg_alpha': 0.008, 'reg_lambda': 0.29000000000000004},\n",
       " mean: 0.78682, std: 0.02510, params: {'reg_alpha': 0.008, 'reg_lambda': 0.30000000000000004},\n",
       " mean: 0.79632, std: 0.02421, params: {'reg_alpha': 0.008, 'reg_lambda': 0.31000000000000005},\n",
       " mean: 0.78449, std: 0.02130, params: {'reg_alpha': 0.008, 'reg_lambda': 0.32000000000000006},\n",
       " mean: 0.79079, std: 0.02060, params: {'reg_alpha': 0.008, 'reg_lambda': 0.33},\n",
       " mean: 0.78469, std: 0.02444, params: {'reg_alpha': 0.008, 'reg_lambda': 0.34},\n",
       " mean: 0.78247, std: 0.02656, params: {'reg_alpha': 0.008, 'reg_lambda': 0.35000000000000003},\n",
       " mean: 0.78692, std: 0.02362, params: {'reg_alpha': 0.008, 'reg_lambda': 0.36000000000000004},\n",
       " mean: 0.78921, std: 0.02185, params: {'reg_alpha': 0.008, 'reg_lambda': 0.37000000000000005},\n",
       " mean: 0.78413, std: 0.01459, params: {'reg_alpha': 0.008, 'reg_lambda': 0.38000000000000006},\n",
       " mean: 0.78413, std: 0.01459, params: {'reg_alpha': 0.008, 'reg_lambda': 0.39000000000000007},\n",
       " mean: 0.78697, std: 0.02295, params: {'reg_alpha': 0.008, 'reg_lambda': 0.4000000000000001},\n",
       " mean: 0.78211, std: 0.02034, params: {'reg_alpha': 0.008, 'reg_lambda': 0.4100000000000001},\n",
       " mean: 0.78469, std: 0.02444, params: {'reg_alpha': 0.008, 'reg_lambda': 0.42000000000000004},\n",
       " mean: 0.77993, std: 0.02189, params: {'reg_alpha': 0.008, 'reg_lambda': 0.43000000000000005},\n",
       " mean: 0.79079, std: 0.02060, params: {'reg_alpha': 0.008, 'reg_lambda': 0.44000000000000006},\n",
       " mean: 0.78348, std: 0.01448, params: {'reg_alpha': 0.008, 'reg_lambda': 0.45000000000000007},\n",
       " mean: 0.77961, std: 0.01694, params: {'reg_alpha': 0.008, 'reg_lambda': 0.4600000000000001},\n",
       " mean: 0.78856, std: 0.02193, params: {'reg_alpha': 0.008, 'reg_lambda': 0.4700000000000001},\n",
       " mean: 0.78852, std: 0.02086, params: {'reg_alpha': 0.008, 'reg_lambda': 0.4800000000000001},\n",
       " mean: 0.79212, std: 0.02015, params: {'reg_alpha': 0.008, 'reg_lambda': 0.49000000000000005},\n",
       " mean: 0.80961, std: 0.03386, params: {'reg_alpha': 0.01, 'reg_lambda': 0.05},\n",
       " mean: 0.80585, std: 0.03914, params: {'reg_alpha': 0.01, 'reg_lambda': 0.060000000000000005},\n",
       " mean: 0.80553, std: 0.03123, params: {'reg_alpha': 0.01, 'reg_lambda': 0.07},\n",
       " mean: 0.80550, std: 0.03266, params: {'reg_alpha': 0.01, 'reg_lambda': 0.08000000000000002},\n",
       " mean: 0.80683, std: 0.02769, params: {'reg_alpha': 0.01, 'reg_lambda': 0.09000000000000001},\n",
       " mean: 0.80525, std: 0.02334, params: {'reg_alpha': 0.01, 'reg_lambda': 0.1},\n",
       " mean: 0.79747, std: 0.02866, params: {'reg_alpha': 0.01, 'reg_lambda': 0.11000000000000001},\n",
       " mean: 0.81285, std: 0.02431, params: {'reg_alpha': 0.01, 'reg_lambda': 0.12000000000000001},\n",
       " mean: 0.81547, std: 0.02196, params: {'reg_alpha': 0.01, 'reg_lambda': 0.13},\n",
       " mean: 0.80034, std: 0.03614, params: {'reg_alpha': 0.01, 'reg_lambda': 0.14},\n",
       " mean: 0.80550, std: 0.03266, params: {'reg_alpha': 0.01, 'reg_lambda': 0.15000000000000002},\n",
       " mean: 0.80747, std: 0.02251, params: {'reg_alpha': 0.01, 'reg_lambda': 0.16000000000000003},\n",
       " mean: 0.80290, std: 0.02991, params: {'reg_alpha': 0.01, 'reg_lambda': 0.17000000000000004},\n",
       " mean: 0.80322, std: 0.03495, params: {'reg_alpha': 0.01, 'reg_lambda': 0.18000000000000005},\n",
       " mean: 0.80012, std: 0.03005, params: {'reg_alpha': 0.01, 'reg_lambda': 0.19},\n",
       " mean: 0.80251, std: 0.02761, params: {'reg_alpha': 0.01, 'reg_lambda': 0.2},\n",
       " mean: 0.81072, std: 0.02524, params: {'reg_alpha': 0.01, 'reg_lambda': 0.21000000000000002},\n",
       " mean: 0.80132, std: 0.02264, params: {'reg_alpha': 0.01, 'reg_lambda': 0.22000000000000003},\n",
       " mean: 0.79747, std: 0.02866, params: {'reg_alpha': 0.01, 'reg_lambda': 0.23000000000000004},\n",
       " mean: 0.80702, std: 0.03156, params: {'reg_alpha': 0.01, 'reg_lambda': 0.24000000000000005},\n",
       " mean: 0.79635, std: 0.02782, params: {'reg_alpha': 0.01, 'reg_lambda': 0.25000000000000006},\n",
       " mean: 0.79928, std: 0.02730, params: {'reg_alpha': 0.01, 'reg_lambda': 0.26000000000000006},\n",
       " mean: 0.80290, std: 0.02991, params: {'reg_alpha': 0.01, 'reg_lambda': 0.27},\n",
       " mean: 0.78855, std: 0.02352, params: {'reg_alpha': 0.01, 'reg_lambda': 0.28},\n",
       " mean: 0.80537, std: 0.02539, params: {'reg_alpha': 0.01, 'reg_lambda': 0.29000000000000004},\n",
       " mean: 0.79219, std: 0.02543, params: {'reg_alpha': 0.01, 'reg_lambda': 0.30000000000000004},\n",
       " mean: 0.79225, std: 0.02494, params: {'reg_alpha': 0.01, 'reg_lambda': 0.31000000000000005},\n",
       " mean: 0.78497, std: 0.03140, params: {'reg_alpha': 0.01, 'reg_lambda': 0.32000000000000006},\n",
       " mean: 0.78469, std: 0.02444, params: {'reg_alpha': 0.01, 'reg_lambda': 0.33},\n",
       " mean: 0.78009, std: 0.02874, params: {'reg_alpha': 0.01, 'reg_lambda': 0.34},\n",
       " mean: 0.79079, std: 0.02060, params: {'reg_alpha': 0.01, 'reg_lambda': 0.35000000000000003},\n",
       " mean: 0.79110, std: 0.02420, params: {'reg_alpha': 0.01, 'reg_lambda': 0.36000000000000004},\n",
       " mean: 0.78692, std: 0.02362, params: {'reg_alpha': 0.01, 'reg_lambda': 0.37000000000000005},\n",
       " mean: 0.79187, std: 0.02643, params: {'reg_alpha': 0.01, 'reg_lambda': 0.38000000000000006},\n",
       " mean: 0.78413, std: 0.01459, params: {'reg_alpha': 0.01, 'reg_lambda': 0.39000000000000007},\n",
       " mean: 0.78697, std: 0.02295, params: {'reg_alpha': 0.01, 'reg_lambda': 0.4000000000000001},\n",
       " mean: 0.78211, std: 0.02034, params: {'reg_alpha': 0.01, 'reg_lambda': 0.4100000000000001},\n",
       " mean: 0.77961, std: 0.01694, params: {'reg_alpha': 0.01, 'reg_lambda': 0.42000000000000004},\n",
       " mean: 0.79122, std: 0.02656, params: {'reg_alpha': 0.01, 'reg_lambda': 0.43000000000000005},\n",
       " mean: 0.78821, std: 0.01650, params: {'reg_alpha': 0.01, 'reg_lambda': 0.44000000000000006},\n",
       " mean: 0.78184, std: 0.01644, params: {'reg_alpha': 0.01, 'reg_lambda': 0.45000000000000007},\n",
       " mean: 0.79345, std: 0.02523, params: {'reg_alpha': 0.01, 'reg_lambda': 0.4600000000000001},\n",
       " mean: 0.78469, std: 0.02444, params: {'reg_alpha': 0.01, 'reg_lambda': 0.4700000000000001},\n",
       " mean: 0.78839, std: 0.02221, params: {'reg_alpha': 0.01, 'reg_lambda': 0.4800000000000001},\n",
       " mean: 0.78839, std: 0.02221, params: {'reg_alpha': 0.01, 'reg_lambda': 0.49000000000000005}]"
      ]
     },
     "execution_count": 66,
     "metadata": {},
     "output_type": "execute_result"
    }
   ],
   "source": [
    "lgb_params_14 = {\n",
    "    \n",
    "    'reg_lambda' : np.arange(0.05, 0.5, 0.01),\n",
    "    'reg_alpha':[0.002, 0.004, 0.005, 0.006, 0.008, 0.01]\n",
    "                               \n",
    "                               }\n",
    "\n",
    "lgb_grid14 = GridSearchCV(\n",
    "    lgb.LGBMClassifier(\n",
    "    objective='binary', class_weight={0:1, 1:99.7979888}, num_leaves=21, max_depth=7, \n",
    "    min_child_samples=13, min_child_weight=0.3, min_split_gain=0.16, subsample=0.485, \n",
    "    colsample_bytree=0.81, subsample_freq=4, subsample_for_bin=60000\n",
    "), lgb_params_14, scoring='f1', n_jobs=-1, refit=True, verbose=0, cv=cv\n",
    ")\n",
    "\n",
    "lgb_grid14.fit(X_train, y_train)\n",
    "\n",
    "lgb_grid14.grid_scores_"
   ]
  },
  {
   "cell_type": "code",
   "execution_count": 67,
   "metadata": {},
   "outputs": [
    {
     "data": {
      "text/plain": [
       "({'reg_alpha': 0.002, 'reg_lambda': 0.1}, 0.8224881352380949)"
      ]
     },
     "execution_count": 67,
     "metadata": {},
     "output_type": "execute_result"
    }
   ],
   "source": [
    "lgb_grid14.best_params_, lgb_grid14.best_score_"
   ]
  },
  {
   "cell_type": "code",
   "execution_count": 70,
   "metadata": {},
   "outputs": [
    {
     "name": "stderr",
     "output_type": "stream",
     "text": [
      "C:\\Users\\Immanuel\\Anaconda3\\lib\\site-packages\\sklearn\\model_selection\\_search.py:762: DeprecationWarning: The grid_scores_ attribute was deprecated in version 0.18 in favor of the more elaborate cv_results_ attribute. The grid_scores_ attribute will not be available from 0.20\n",
      "  DeprecationWarning)\n"
     ]
    },
    {
     "data": {
      "text/plain": [
       "[mean: 0.81547, std: 0.02196, params: {'reg_alpha': 0.0018, 'reg_lambda': 0.099},\n",
       " mean: 0.82249, std: 0.02368, params: {'reg_alpha': 0.0018, 'reg_lambda': 0.1},\n",
       " mean: 0.81281, std: 0.01967, params: {'reg_alpha': 0.0018, 'reg_lambda': 0.101},\n",
       " mean: 0.80785, std: 0.03083, params: {'reg_alpha': 0.0018, 'reg_lambda': 0.102},\n",
       " mean: 0.81547, std: 0.02196, params: {'reg_alpha': 0.002, 'reg_lambda': 0.099},\n",
       " mean: 0.82249, std: 0.02368, params: {'reg_alpha': 0.002, 'reg_lambda': 0.1},\n",
       " mean: 0.80773, std: 0.01903, params: {'reg_alpha': 0.002, 'reg_lambda': 0.101},\n",
       " mean: 0.81547, std: 0.02196, params: {'reg_alpha': 0.002, 'reg_lambda': 0.102},\n",
       " mean: 0.81547, std: 0.02196, params: {'reg_alpha': 0.0024, 'reg_lambda': 0.099},\n",
       " mean: 0.81958, std: 0.02192, params: {'reg_alpha': 0.0024, 'reg_lambda': 0.1},\n",
       " mean: 0.81835, std: 0.02161, params: {'reg_alpha': 0.0024, 'reg_lambda': 0.101},\n",
       " mean: 0.81547, std: 0.02196, params: {'reg_alpha': 0.0024, 'reg_lambda': 0.102},\n",
       " mean: 0.81958, std: 0.02192, params: {'reg_alpha': 0.0028, 'reg_lambda': 0.099},\n",
       " mean: 0.81569, std: 0.01967, params: {'reg_alpha': 0.0028, 'reg_lambda': 0.1},\n",
       " mean: 0.81311, std: 0.01906, params: {'reg_alpha': 0.0028, 'reg_lambda': 0.101},\n",
       " mean: 0.81835, std: 0.02161, params: {'reg_alpha': 0.0028, 'reg_lambda': 0.102}]"
      ]
     },
     "execution_count": 70,
     "metadata": {},
     "output_type": "execute_result"
    }
   ],
   "source": [
    "lgb_params_15 = {\n",
    "    \n",
    "    'reg_lambda' : [0.099, 0.1, 0.101, 0.102],\n",
    "    'reg_alpha':[0.0018, 0.002, 0.0024, 0.0028]\n",
    "                               \n",
    "                               }\n",
    "\n",
    "lgb_grid15 = GridSearchCV(\n",
    "    lgb.LGBMClassifier(\n",
    "    objective='binary', class_weight={0:1, 1:99.7979888}, num_leaves=21, max_depth=7, \n",
    "    min_child_samples=13, min_child_weight=0.3, min_split_gain=0.16, subsample=0.485, \n",
    "    colsample_bytree=0.81, subsample_freq=4, subsample_for_bin=60000\n",
    "), lgb_params_15, scoring='f1', n_jobs=-1, refit=True, verbose=0, cv=cv\n",
    ")\n",
    "\n",
    "lgb_grid15.fit(X_train, y_train)\n",
    "\n",
    "lgb_grid15.grid_scores_"
   ]
  },
  {
   "cell_type": "code",
   "execution_count": 69,
   "metadata": {},
   "outputs": [
    {
     "data": {
      "text/plain": [
       "({'reg_alpha': 0.002, 'reg_lambda': 0.1}, 0.8224881352380949)"
      ]
     },
     "execution_count": 69,
     "metadata": {},
     "output_type": "execute_result"
    }
   ],
   "source": [
    "lgb_grid15.best_params_, lgb_grid15.best_score_"
   ]
  },
  {
   "cell_type": "code",
   "execution_count": 41,
   "metadata": {},
   "outputs": [],
   "source": [
    "lgbm = lgb.LGBMClassifier(n_estimators=40000, learning_rate=0.0015,\n",
    "    objective='binary', class_weight={0:1, 1:99.7979888}, num_leaves=21, max_depth=7, \n",
    "    min_child_samples=13, min_child_weight=0.3, min_split_gain=0.16, subsample=0.485, \n",
    "    colsample_bytree=0.81, subsample_freq=4, subsample_for_bin=60000, reg_alpha=0.002,\n",
    "    reg_lambda=0.1\n",
    ")"
   ]
  },
  {
   "cell_type": "code",
   "execution_count": 76,
   "metadata": {},
   "outputs": [
    {
     "name": "stderr",
     "output_type": "stream",
     "text": [
      "C:\\Users\\Immanuel\\Anaconda3\\lib\\site-packages\\sklearn\\preprocessing\\label.py:151: DeprecationWarning: The truth value of an empty array is ambiguous. Returning False, but in future this will result in an error. Use `array.size > 0` to check that an array is not empty.\n",
      "  if diff:\n"
     ]
    },
    {
     "name": "stdout",
     "output_type": "stream",
     "text": [
      "Train Score: 0.930556\n",
      "Test Score: 0.796875\n"
     ]
    },
    {
     "name": "stderr",
     "output_type": "stream",
     "text": [
      "C:\\Users\\Immanuel\\Anaconda3\\lib\\site-packages\\sklearn\\preprocessing\\label.py:151: DeprecationWarning: The truth value of an empty array is ambiguous. Returning False, but in future this will result in an error. Use `array.size > 0` to check that an array is not empty.\n",
      "  if diff:\n"
     ]
    }
   ],
   "source": [
    "\n",
    "\n",
    "\n",
    "\n",
    "lgbm.fit(X_train, y_train)\n",
    "\n",
    "\n",
    "train_predictions = lgbm.predict(X_train)\n",
    "test_predictions = lgbm.predict(X_test)\n",
    "\n",
    "print('Train Score: {:4f}'.format(f1_score(y_train, train_predictions)))\n",
    "print('Test Score: {:4f}'.format(f1_score(y_test, test_predictions)))"
   ]
  },
  {
   "cell_type": "code",
   "execution_count": 77,
   "metadata": {},
   "outputs": [
    {
     "data": {
      "text/plain": [
       "0.8243138298984662"
      ]
     },
     "execution_count": 77,
     "metadata": {},
     "output_type": "execute_result"
    }
   ],
   "source": [
    "cross_val_score(lgbm, X_train, y_train, scoring='f1', cv=cv, n_jobs=-1, verbose=0).mean()"
   ]
  },
  {
   "cell_type": "code",
   "execution_count": null,
   "metadata": {},
   "outputs": [],
   "source": []
  },
  {
   "cell_type": "code",
   "execution_count": null,
   "metadata": {},
   "outputs": [],
   "source": []
  },
  {
   "cell_type": "markdown",
   "metadata": {},
   "source": [
    "RANDOM FOREST"
   ]
  },
  {
   "cell_type": "code",
   "execution_count": 43,
   "metadata": {},
   "outputs": [],
   "source": [
    "from sklearn.ensemble import RandomForestClassifier"
   ]
  },
  {
   "cell_type": "code",
   "execution_count": 100,
   "metadata": {},
   "outputs": [
    {
     "name": "stdout",
     "output_type": "stream",
     "text": [
      "0.7152317880794703\n",
      "0.7521865889212829\n"
     ]
    }
   ],
   "source": [
    "model = RandomForestClassifier(n_estimators=10, max_depth=5, class_weight={0:1, 1:100})\n",
    "model.fit(X_train, y_train)\n",
    "\n",
    "pred1 = model.predict(X_train)\n",
    "pred2 = model.predict(X_test)\n",
    "print(f1_score(y_test, pred2))\n",
    "print(f1_score(y_train, pred1))"
   ]
  },
  {
   "cell_type": "code",
   "execution_count": 150,
   "metadata": {},
   "outputs": [
    {
     "name": "stderr",
     "output_type": "stream",
     "text": [
      "C:\\Users\\Immanuel\\Anaconda3\\lib\\site-packages\\sklearn\\model_selection\\_search.py:762: DeprecationWarning: The grid_scores_ attribute was deprecated in version 0.18 in favor of the more elaborate cv_results_ attribute. The grid_scores_ attribute will not be available from 0.20\n",
      "  DeprecationWarning)\n"
     ]
    },
    {
     "data": {
      "text/plain": [
       "[mean: 0.76959, std: 0.05886, params: {'class_weight': {0: 1, 1: 12.6}},\n",
       " mean: 0.76978, std: 0.05692, params: {'class_weight': {0: 1, 1: 12.8}},\n",
       " mean: 0.77442, std: 0.05763, params: {'class_weight': {0: 1, 1: 13}},\n",
       " mean: 0.77135, std: 0.05492, params: {'class_weight': {0: 1, 1: 13.2}},\n",
       " mean: 0.77135, std: 0.05492, params: {'class_weight': {0: 1, 1: 13.5}},\n",
       " mean: 0.77135, std: 0.05492, params: {'class_weight': {0: 1, 1: 13.8}},\n",
       " mean: 0.76109, std: 0.07473, params: {'class_weight': {0: 1, 1: 14}},\n",
       " mean: 0.76109, std: 0.07473, params: {'class_weight': {0: 1, 1: 14.2}},\n",
       " mean: 0.76109, std: 0.07473, params: {'class_weight': {0: 1, 1: 14.5}},\n",
       " mean: 0.75819, std: 0.07463, params: {'class_weight': {0: 1, 1: 14.8}}]"
      ]
     },
     "execution_count": 150,
     "metadata": {},
     "output_type": "execute_result"
    }
   ],
   "source": [
    "params = {\n",
    "    'class_weight' : [{0:1, 1:w} for w in [12.6, 12.8, 13, 13.2, 13.5, 13.8,  14, 14.2, 14.5, 14.8]]\n",
    "}\n",
    "\n",
    "\n",
    "grid = GridSearchCV(RandomForestClassifier(\n",
    "    n_estimators=10, max_depth=5, n_jobs=-1, random_state=42, verbose=0\n",
    "), params, scoring='f1', n_jobs=-1, cv=cv)\n",
    "\n",
    "grid.fit(X_train, y_train)\n",
    "\n",
    "grid.grid_scores_"
   ]
  },
  {
   "cell_type": "code",
   "execution_count": 151,
   "metadata": {},
   "outputs": [
    {
     "data": {
      "text/plain": [
       "({'class_weight': {0: 1, 1: 13}}, 0.7744204297817826)"
      ]
     },
     "execution_count": 151,
     "metadata": {},
     "output_type": "execute_result"
    }
   ],
   "source": [
    "grid.best_params_, grid.best_score_"
   ]
  },
  {
   "cell_type": "code",
   "execution_count": 51,
   "metadata": {},
   "outputs": [
    {
     "name": "stderr",
     "output_type": "stream",
     "text": [
      "C:\\Users\\Immanuel\\Anaconda3\\lib\\site-packages\\sklearn\\model_selection\\_search.py:762: DeprecationWarning: The grid_scores_ attribute was deprecated in version 0.18 in favor of the more elaborate cv_results_ attribute. The grid_scores_ attribute will not be available from 0.20\n",
      "  DeprecationWarning)\n"
     ]
    },
    {
     "data": {
      "text/plain": [
       "[mean: 0.80475, std: 0.01587, params: {'max_depth': 3, 'min_samples_split': 0.01},\n",
       " mean: 0.80475, std: 0.01587, params: {'max_depth': 3, 'min_samples_split': 0.020000000000000004},\n",
       " mean: 0.80475, std: 0.01587, params: {'max_depth': 3, 'min_samples_split': 0.030000000000000006},\n",
       " mean: 0.80475, std: 0.01587, params: {'max_depth': 3, 'min_samples_split': 0.04000000000000001},\n",
       " mean: 0.80475, std: 0.01587, params: {'max_depth': 3, 'min_samples_split': 0.05000000000000001},\n",
       " mean: 0.80475, std: 0.01587, params: {'max_depth': 3, 'min_samples_split': 0.06000000000000001},\n",
       " mean: 0.80475, std: 0.01587, params: {'max_depth': 3, 'min_samples_split': 0.07},\n",
       " mean: 0.80475, std: 0.01587, params: {'max_depth': 3, 'min_samples_split': 0.08},\n",
       " mean: 0.80475, std: 0.01587, params: {'max_depth': 3, 'min_samples_split': 0.09000000000000001},\n",
       " mean: 0.80475, std: 0.01587, params: {'max_depth': 3, 'min_samples_split': 0.1},\n",
       " mean: 0.71160, std: 0.18960, params: {'max_depth': 4, 'min_samples_split': 0.01},\n",
       " mean: 0.80919, std: 0.00954, params: {'max_depth': 4, 'min_samples_split': 0.020000000000000004},\n",
       " mean: 0.80919, std: 0.00954, params: {'max_depth': 4, 'min_samples_split': 0.030000000000000006},\n",
       " mean: 0.80919, std: 0.00954, params: {'max_depth': 4, 'min_samples_split': 0.04000000000000001},\n",
       " mean: 0.80475, std: 0.01587, params: {'max_depth': 4, 'min_samples_split': 0.05000000000000001},\n",
       " mean: 0.80475, std: 0.01587, params: {'max_depth': 4, 'min_samples_split': 0.06000000000000001},\n",
       " mean: 0.80475, std: 0.01587, params: {'max_depth': 4, 'min_samples_split': 0.07},\n",
       " mean: 0.80475, std: 0.01587, params: {'max_depth': 4, 'min_samples_split': 0.08},\n",
       " mean: 0.80049, std: 0.01747, params: {'max_depth': 4, 'min_samples_split': 0.09000000000000001},\n",
       " mean: 0.80049, std: 0.01747, params: {'max_depth': 4, 'min_samples_split': 0.1},\n",
       " mean: 0.80114, std: 0.00920, params: {'max_depth': 5, 'min_samples_split': 0.01},\n",
       " mean: 0.80475, std: 0.01587, params: {'max_depth': 5, 'min_samples_split': 0.020000000000000004},\n",
       " mean: 0.80493, std: 0.01350, params: {'max_depth': 5, 'min_samples_split': 0.030000000000000006},\n",
       " mean: 0.80493, std: 0.01350, params: {'max_depth': 5, 'min_samples_split': 0.04000000000000001},\n",
       " mean: 0.80493, std: 0.01350, params: {'max_depth': 5, 'min_samples_split': 0.05000000000000001},\n",
       " mean: 0.80493, std: 0.01350, params: {'max_depth': 5, 'min_samples_split': 0.06000000000000001},\n",
       " mean: 0.80049, std: 0.01747, params: {'max_depth': 5, 'min_samples_split': 0.07},\n",
       " mean: 0.80049, std: 0.01747, params: {'max_depth': 5, 'min_samples_split': 0.08},\n",
       " mean: 0.80049, std: 0.01747, params: {'max_depth': 5, 'min_samples_split': 0.09000000000000001},\n",
       " mean: 0.80049, std: 0.01747, params: {'max_depth': 5, 'min_samples_split': 0.1},\n",
       " mean: 0.80493, std: 0.01350, params: {'max_depth': 6, 'min_samples_split': 0.01},\n",
       " mean: 0.80919, std: 0.00954, params: {'max_depth': 6, 'min_samples_split': 0.020000000000000004},\n",
       " mean: 0.80475, std: 0.01587, params: {'max_depth': 6, 'min_samples_split': 0.030000000000000006},\n",
       " mean: 0.80919, std: 0.00954, params: {'max_depth': 6, 'min_samples_split': 0.04000000000000001},\n",
       " mean: 0.80493, std: 0.01350, params: {'max_depth': 6, 'min_samples_split': 0.05000000000000001},\n",
       " mean: 0.80493, std: 0.01350, params: {'max_depth': 6, 'min_samples_split': 0.06000000000000001},\n",
       " mean: 0.79773, std: 0.02042, params: {'max_depth': 6, 'min_samples_split': 0.07},\n",
       " mean: 0.80049, std: 0.01747, params: {'max_depth': 6, 'min_samples_split': 0.08},\n",
       " mean: 0.80049, std: 0.01747, params: {'max_depth': 6, 'min_samples_split': 0.09000000000000001},\n",
       " mean: 0.80049, std: 0.01747, params: {'max_depth': 6, 'min_samples_split': 0.1},\n",
       " mean: 0.80016, std: 0.02662, params: {'max_depth': 7, 'min_samples_split': 0.01},\n",
       " mean: 0.80202, std: 0.02258, params: {'max_depth': 7, 'min_samples_split': 0.020000000000000004},\n",
       " mean: 0.80919, std: 0.00954, params: {'max_depth': 7, 'min_samples_split': 0.030000000000000006},\n",
       " mean: 0.80919, std: 0.00954, params: {'max_depth': 7, 'min_samples_split': 0.04000000000000001},\n",
       " mean: 0.81348, std: 0.00926, params: {'max_depth': 7, 'min_samples_split': 0.05000000000000001},\n",
       " mean: 0.81348, std: 0.00926, params: {'max_depth': 7, 'min_samples_split': 0.06000000000000001},\n",
       " mean: 0.80475, std: 0.01587, params: {'max_depth': 7, 'min_samples_split': 0.07},\n",
       " mean: 0.80049, std: 0.01747, params: {'max_depth': 7, 'min_samples_split': 0.08},\n",
       " mean: 0.80049, std: 0.01747, params: {'max_depth': 7, 'min_samples_split': 0.09000000000000001},\n",
       " mean: 0.80049, std: 0.01747, params: {'max_depth': 7, 'min_samples_split': 0.1},\n",
       " mean: 0.81351, std: 0.01442, params: {'max_depth': 8, 'min_samples_split': 0.01},\n",
       " mean: 0.80646, std: 0.01932, params: {'max_depth': 8, 'min_samples_split': 0.020000000000000004},\n",
       " mean: 0.81070, std: 0.01236, params: {'max_depth': 8, 'min_samples_split': 0.030000000000000006},\n",
       " mean: 0.80919, std: 0.00954, params: {'max_depth': 8, 'min_samples_split': 0.04000000000000001},\n",
       " mean: 0.80493, std: 0.01350, params: {'max_depth': 8, 'min_samples_split': 0.05000000000000001},\n",
       " mean: 0.80922, std: 0.01461, params: {'max_depth': 8, 'min_samples_split': 0.06000000000000001},\n",
       " mean: 0.80493, std: 0.01350, params: {'max_depth': 8, 'min_samples_split': 0.07},\n",
       " mean: 0.80049, std: 0.01747, params: {'max_depth': 8, 'min_samples_split': 0.08},\n",
       " mean: 0.80049, std: 0.01747, params: {'max_depth': 8, 'min_samples_split': 0.09000000000000001},\n",
       " mean: 0.80049, std: 0.01747, params: {'max_depth': 8, 'min_samples_split': 0.1}]"
      ]
     },
     "execution_count": 51,
     "metadata": {},
     "output_type": "execute_result"
    }
   ],
   "source": [
    "params2 = {\n",
    "    'max_depth' : [3, 4, 5, 6, 7, 8],\n",
    "    'min_samples_split' : np.linspace(0.01, 0.1, 10, endpoint=True)\n",
    "}\n",
    "\n",
    "\n",
    "grid2 = GridSearchCV(RandomForestClassifier(\n",
    "    n_estimators=10, max_depth=5, n_jobs=-1, random_state=42, verbose=0, \n",
    "    class_weight={0:1, 1:13}\n",
    "), params2, scoring='f1', n_jobs=-1, cv=cv)\n",
    "\n",
    "grid2.fit(X_train, y_train)\n",
    "\n",
    "grid2.grid_scores_"
   ]
  },
  {
   "cell_type": "code",
   "execution_count": 52,
   "metadata": {},
   "outputs": [
    {
     "data": {
      "text/plain": [
       "({'max_depth': 8, 'min_samples_split': 0.01}, 0.8135052193002106)"
      ]
     },
     "execution_count": 52,
     "metadata": {},
     "output_type": "execute_result"
    }
   ],
   "source": [
    "grid2.best_params_, grid2.best_score_"
   ]
  },
  {
   "cell_type": "code",
   "execution_count": 59,
   "metadata": {},
   "outputs": [
    {
     "name": "stderr",
     "output_type": "stream",
     "text": [
      "C:\\Users\\Immanuel\\Anaconda3\\lib\\site-packages\\sklearn\\model_selection\\_search.py:762: DeprecationWarning: The grid_scores_ attribute was deprecated in version 0.18 in favor of the more elaborate cv_results_ attribute. The grid_scores_ attribute will not be available from 0.20\n",
      "  DeprecationWarning)\n"
     ]
    },
    {
     "data": {
      "text/plain": [
       "[mean: 0.82136, std: 0.01579, params: {'max_depth': 7, 'min_samples_split': 0.0005},\n",
       " mean: 0.81617, std: 0.01434, params: {'max_depth': 7, 'min_samples_split': 0.0005263157894736842},\n",
       " mean: 0.81643, std: 0.01771, params: {'max_depth': 7, 'min_samples_split': 0.0005526315789473684},\n",
       " mean: 0.81617, std: 0.01434, params: {'max_depth': 7, 'min_samples_split': 0.0005789473684210527},\n",
       " mean: 0.81295, std: 0.01824, params: {'max_depth': 7, 'min_samples_split': 0.0006052631578947369},\n",
       " mean: 0.81707, std: 0.01875, params: {'max_depth': 7, 'min_samples_split': 0.0006315789473684211},\n",
       " mean: 0.81896, std: 0.02006, params: {'max_depth': 7, 'min_samples_split': 0.0006578947368421052},\n",
       " mean: 0.81781, std: 0.01883, params: {'max_depth': 7, 'min_samples_split': 0.0006842105263157895},\n",
       " mean: 0.81896, std: 0.02006, params: {'max_depth': 7, 'min_samples_split': 0.0007105263157894737},\n",
       " mean: 0.81896, std: 0.02006, params: {'max_depth': 7, 'min_samples_split': 0.0007368421052631579},\n",
       " mean: 0.82425, std: 0.01575, params: {'max_depth': 7, 'min_samples_split': 0.0007631578947368421},\n",
       " mean: 0.82058, std: 0.01260, params: {'max_depth': 7, 'min_samples_split': 0.0007894736842105263},\n",
       " mean: 0.82348, std: 0.01527, params: {'max_depth': 7, 'min_samples_split': 0.0008157894736842105},\n",
       " mean: 0.81911, std: 0.01849, params: {'max_depth': 7, 'min_samples_split': 0.0008421052631578948},\n",
       " mean: 0.81911, std: 0.01849, params: {'max_depth': 7, 'min_samples_split': 0.000868421052631579},\n",
       " mean: 0.82211, std: 0.02272, params: {'max_depth': 7, 'min_samples_split': 0.0008947368421052633},\n",
       " mean: 0.82201, std: 0.02061, params: {'max_depth': 7, 'min_samples_split': 0.0009210526315789475},\n",
       " mean: 0.82201, std: 0.02061, params: {'max_depth': 7, 'min_samples_split': 0.0009473684210526316},\n",
       " mean: 0.82568, std: 0.02244, params: {'max_depth': 7, 'min_samples_split': 0.0009736842105263158},\n",
       " mean: 0.82568, std: 0.02244, params: {'max_depth': 7, 'min_samples_split': 0.001},\n",
       " mean: 0.81600, std: 0.01822, params: {'max_depth': 8, 'min_samples_split': 0.0005},\n",
       " mean: 0.80260, std: 0.01290, params: {'max_depth': 8, 'min_samples_split': 0.0005263157894736842},\n",
       " mean: 0.81157, std: 0.00739, params: {'max_depth': 8, 'min_samples_split': 0.0005526315789473684},\n",
       " mean: 0.81295, std: 0.00991, params: {'max_depth': 8, 'min_samples_split': 0.0005789473684210527},\n",
       " mean: 0.81047, std: 0.01478, params: {'max_depth': 8, 'min_samples_split': 0.0006052631578947369},\n",
       " mean: 0.80653, std: 0.01442, params: {'max_depth': 8, 'min_samples_split': 0.0006315789473684211},\n",
       " mean: 0.80901, std: 0.01035, params: {'max_depth': 8, 'min_samples_split': 0.0006578947368421052},\n",
       " mean: 0.80901, std: 0.01035, params: {'max_depth': 8, 'min_samples_split': 0.0006842105263157895},\n",
       " mean: 0.80901, std: 0.01035, params: {'max_depth': 8, 'min_samples_split': 0.0007105263157894737},\n",
       " mean: 0.80901, std: 0.01035, params: {'max_depth': 8, 'min_samples_split': 0.0007368421052631579},\n",
       " mean: 0.80901, std: 0.01035, params: {'max_depth': 8, 'min_samples_split': 0.0007631578947368421},\n",
       " mean: 0.80901, std: 0.01035, params: {'max_depth': 8, 'min_samples_split': 0.0007894736842105263},\n",
       " mean: 0.80901, std: 0.01035, params: {'max_depth': 8, 'min_samples_split': 0.0008157894736842105},\n",
       " mean: 0.82028, std: 0.02163, params: {'max_depth': 8, 'min_samples_split': 0.0008421052631578948},\n",
       " mean: 0.80690, std: 0.02250, params: {'max_depth': 8, 'min_samples_split': 0.000868421052631579},\n",
       " mean: 0.80788, std: 0.01281, params: {'max_depth': 8, 'min_samples_split': 0.0008947368421052633},\n",
       " mean: 0.80399, std: 0.01832, params: {'max_depth': 8, 'min_samples_split': 0.0009210526315789475},\n",
       " mean: 0.80399, std: 0.01832, params: {'max_depth': 8, 'min_samples_split': 0.0009473684210526316},\n",
       " mean: 0.80153, std: 0.02250, params: {'max_depth': 8, 'min_samples_split': 0.0009736842105263158},\n",
       " mean: 0.80153, std: 0.02250, params: {'max_depth': 8, 'min_samples_split': 0.001},\n",
       " mean: 0.80693, std: 0.02628, params: {'max_depth': 9, 'min_samples_split': 0.0005},\n",
       " mean: 0.81700, std: 0.01730, params: {'max_depth': 9, 'min_samples_split': 0.0005263157894736842},\n",
       " mean: 0.81700, std: 0.01730, params: {'max_depth': 9, 'min_samples_split': 0.0005526315789473684},\n",
       " mean: 0.81571, std: 0.01825, params: {'max_depth': 9, 'min_samples_split': 0.0005789473684210527},\n",
       " mean: 0.81196, std: 0.02252, params: {'max_depth': 9, 'min_samples_split': 0.0006052631578947369},\n",
       " mean: 0.81196, std: 0.02252, params: {'max_depth': 9, 'min_samples_split': 0.0006315789473684211},\n",
       " mean: 0.80948, std: 0.02495, params: {'max_depth': 9, 'min_samples_split': 0.0006578947368421052},\n",
       " mean: 0.80150, std: 0.02807, params: {'max_depth': 9, 'min_samples_split': 0.0006842105263157895},\n",
       " mean: 0.79998, std: 0.03334, params: {'max_depth': 9, 'min_samples_split': 0.0007105263157894737},\n",
       " mean: 0.79998, std: 0.03334, params: {'max_depth': 9, 'min_samples_split': 0.0007368421052631579},\n",
       " mean: 0.80897, std: 0.01978, params: {'max_depth': 9, 'min_samples_split': 0.0007631578947368421},\n",
       " mean: 0.80368, std: 0.02395, params: {'max_depth': 9, 'min_samples_split': 0.0007894736842105263},\n",
       " mean: 0.80368, std: 0.02395, params: {'max_depth': 9, 'min_samples_split': 0.0008157894736842105},\n",
       " mean: 0.80368, std: 0.02395, params: {'max_depth': 9, 'min_samples_split': 0.0008421052631578948},\n",
       " mean: 0.80503, std: 0.02314, params: {'max_depth': 9, 'min_samples_split': 0.000868421052631579},\n",
       " mean: 0.80892, std: 0.01887, params: {'max_depth': 9, 'min_samples_split': 0.0008947368421052633},\n",
       " mean: 0.81041, std: 0.01999, params: {'max_depth': 9, 'min_samples_split': 0.0009210526315789475},\n",
       " mean: 0.81041, std: 0.01999, params: {'max_depth': 9, 'min_samples_split': 0.0009473684210526316},\n",
       " mean: 0.80063, std: 0.02931, params: {'max_depth': 9, 'min_samples_split': 0.0009736842105263158},\n",
       " mean: 0.79911, std: 0.03161, params: {'max_depth': 9, 'min_samples_split': 0.001},\n",
       " mean: 0.81700, std: 0.01730, params: {'max_depth': 10, 'min_samples_split': 0.0005},\n",
       " mean: 0.81456, std: 0.02549, params: {'max_depth': 10, 'min_samples_split': 0.0005263157894736842},\n",
       " mean: 0.81704, std: 0.02257, params: {'max_depth': 10, 'min_samples_split': 0.0005526315789473684},\n",
       " mean: 0.81429, std: 0.01863, params: {'max_depth': 10, 'min_samples_split': 0.0005789473684210527},\n",
       " mean: 0.82360, std: 0.01691, params: {'max_depth': 10, 'min_samples_split': 0.0006052631578947369},\n",
       " mean: 0.82360, std: 0.01691, params: {'max_depth': 10, 'min_samples_split': 0.0006315789473684211},\n",
       " mean: 0.81706, std: 0.02465, params: {'max_depth': 10, 'min_samples_split': 0.0006578947368421052},\n",
       " mean: 0.80798, std: 0.01554, params: {'max_depth': 10, 'min_samples_split': 0.0006842105263157895},\n",
       " mean: 0.81719, std: 0.02349, params: {'max_depth': 10, 'min_samples_split': 0.0007105263157894737},\n",
       " mean: 0.81719, std: 0.02349, params: {'max_depth': 10, 'min_samples_split': 0.0007368421052631579},\n",
       " mean: 0.82230, std: 0.02582, params: {'max_depth': 10, 'min_samples_split': 0.0007631578947368421},\n",
       " mean: 0.81452, std: 0.02097, params: {'max_depth': 10, 'min_samples_split': 0.0007894736842105263},\n",
       " mean: 0.81452, std: 0.02097, params: {'max_depth': 10, 'min_samples_split': 0.0008157894736842105},\n",
       " mean: 0.81716, std: 0.02061, params: {'max_depth': 10, 'min_samples_split': 0.0008421052631578948},\n",
       " mean: 0.81064, std: 0.01877, params: {'max_depth': 10, 'min_samples_split': 0.000868421052631579},\n",
       " mean: 0.81685, std: 0.02117, params: {'max_depth': 10, 'min_samples_split': 0.0008947368421052633},\n",
       " mean: 0.81425, std: 0.02585, params: {'max_depth': 10, 'min_samples_split': 0.0009210526315789475},\n",
       " mean: 0.81829, std: 0.01868, params: {'max_depth': 10, 'min_samples_split': 0.0009473684210526316},\n",
       " mean: 0.81436, std: 0.02000, params: {'max_depth': 10, 'min_samples_split': 0.0009736842105263158},\n",
       " mean: 0.81436, std: 0.02000, params: {'max_depth': 10, 'min_samples_split': 0.001},\n",
       " mean: 0.82071, std: 0.01515, params: {'max_depth': 11, 'min_samples_split': 0.0005},\n",
       " mean: 0.81831, std: 0.02131, params: {'max_depth': 11, 'min_samples_split': 0.0005263157894736842},\n",
       " mean: 0.81216, std: 0.02886, params: {'max_depth': 11, 'min_samples_split': 0.0005526315789473684},\n",
       " mean: 0.81216, std: 0.02886, params: {'max_depth': 11, 'min_samples_split': 0.0005789473684210527},\n",
       " mean: 0.81061, std: 0.02375, params: {'max_depth': 11, 'min_samples_split': 0.0006052631578947369},\n",
       " mean: 0.81456, std: 0.02549, params: {'max_depth': 11, 'min_samples_split': 0.0006315789473684211},\n",
       " mean: 0.81216, std: 0.02886, params: {'max_depth': 11, 'min_samples_split': 0.0006578947368421052},\n",
       " mean: 0.81216, std: 0.02886, params: {'max_depth': 11, 'min_samples_split': 0.0006842105263157895},\n",
       " mean: 0.80873, std: 0.02536, params: {'max_depth': 11, 'min_samples_split': 0.0007105263157894737},\n",
       " mean: 0.80719, std: 0.02749, params: {'max_depth': 11, 'min_samples_split': 0.0007368421052631579},\n",
       " mean: 0.80719, std: 0.02749, params: {'max_depth': 11, 'min_samples_split': 0.0007631578947368421},\n",
       " mean: 0.80719, std: 0.02749, params: {'max_depth': 11, 'min_samples_split': 0.0007894736842105263},\n",
       " mean: 0.81811, std: 0.01435, params: {'max_depth': 11, 'min_samples_split': 0.0008157894736842105},\n",
       " mean: 0.81827, std: 0.01570, params: {'max_depth': 11, 'min_samples_split': 0.0008421052631578948},\n",
       " mean: 0.81284, std: 0.01828, params: {'max_depth': 11, 'min_samples_split': 0.000868421052631579},\n",
       " mean: 0.81140, std: 0.02043, params: {'max_depth': 11, 'min_samples_split': 0.0008947368421052633},\n",
       " mean: 0.82091, std: 0.01455, params: {'max_depth': 11, 'min_samples_split': 0.0009210526315789475},\n",
       " mean: 0.81827, std: 0.01570, params: {'max_depth': 11, 'min_samples_split': 0.0009473684210526316},\n",
       " mean: 0.81546, std: 0.01502, params: {'max_depth': 11, 'min_samples_split': 0.0009736842105263158},\n",
       " mean: 0.81284, std: 0.01828, params: {'max_depth': 11, 'min_samples_split': 0.001},\n",
       " mean: 0.81419, std: 0.01647, params: {'max_depth': 12, 'min_samples_split': 0.0005},\n",
       " mean: 0.81476, std: 0.02491, params: {'max_depth': 12, 'min_samples_split': 0.0005263157894736842},\n",
       " mean: 0.81211, std: 0.02495, params: {'max_depth': 12, 'min_samples_split': 0.0005526315789473684},\n",
       " mean: 0.80722, std: 0.02979, params: {'max_depth': 12, 'min_samples_split': 0.0005789473684210527},\n",
       " mean: 0.80707, std: 0.02795, params: {'max_depth': 12, 'min_samples_split': 0.0006052631578947369},\n",
       " mean: 0.80707, std: 0.02795, params: {'max_depth': 12, 'min_samples_split': 0.0006315789473684211},\n",
       " mean: 0.80234, std: 0.03340, params: {'max_depth': 12, 'min_samples_split': 0.0006578947368421052},\n",
       " mean: 0.80467, std: 0.03047, params: {'max_depth': 12, 'min_samples_split': 0.0006842105263157895},\n",
       " mean: 0.80117, std: 0.02856, params: {'max_depth': 12, 'min_samples_split': 0.0007105263157894737},\n",
       " mean: 0.80696, std: 0.02296, params: {'max_depth': 12, 'min_samples_split': 0.0007368421052631579},\n",
       " mean: 0.80955, std: 0.02604, params: {'max_depth': 12, 'min_samples_split': 0.0007631578947368421},\n",
       " mean: 0.80955, std: 0.02604, params: {'max_depth': 12, 'min_samples_split': 0.0007894736842105263},\n",
       " mean: 0.81243, std: 0.02923, params: {'max_depth': 12, 'min_samples_split': 0.0008157894736842105},\n",
       " mean: 0.81964, std: 0.01647, params: {'max_depth': 12, 'min_samples_split': 0.0008421052631578948},\n",
       " mean: 0.81452, std: 0.02097, params: {'max_depth': 12, 'min_samples_split': 0.000868421052631579},\n",
       " mean: 0.81956, std: 0.01435, params: {'max_depth': 12, 'min_samples_split': 0.0008947368421052633},\n",
       " mean: 0.81956, std: 0.01435, params: {'max_depth': 12, 'min_samples_split': 0.0009210526315789475},\n",
       " mean: 0.82220, std: 0.01283, params: {'max_depth': 12, 'min_samples_split': 0.0009473684210526316},\n",
       " mean: 0.82220, std: 0.01283, params: {'max_depth': 12, 'min_samples_split': 0.0009736842105263158},\n",
       " mean: 0.82220, std: 0.01283, params: {'max_depth': 12, 'min_samples_split': 0.001}]"
      ]
     },
     "execution_count": 59,
     "metadata": {},
     "output_type": "execute_result"
    }
   ],
   "source": [
    "params3 = {\n",
    "    'max_depth' : [7, 8, 9, 10, 11, 12],\n",
    "    'min_samples_split' : np.linspace(0.0005, 0.001, 20, endpoint=True)\n",
    "}\n",
    "\n",
    "\n",
    "grid3 = GridSearchCV(RandomForestClassifier(\n",
    "    n_estimators=10, max_depth=5, n_jobs=-1, random_state=42, verbose=0, \n",
    "    class_weight={0:1, 1:13}\n",
    "), params3, scoring='f1', n_jobs=-1, cv=cv)\n",
    "\n",
    "grid3.fit(X_train, y_train)\n",
    "\n",
    "grid3.grid_scores_"
   ]
  },
  {
   "cell_type": "code",
   "execution_count": 61,
   "metadata": {},
   "outputs": [
    {
     "data": {
      "text/plain": [
       "({'max_depth': 7, 'min_samples_split': 0.0009736842105263158},\n",
       " 0.8256805037415418)"
      ]
     },
     "execution_count": 61,
     "metadata": {},
     "output_type": "execute_result"
    }
   ],
   "source": [
    "grid3.best_params_, grid3.best_score_"
   ]
  },
  {
   "cell_type": "code",
   "execution_count": 71,
   "metadata": {},
   "outputs": [
    {
     "name": "stderr",
     "output_type": "stream",
     "text": [
      "C:\\Users\\Immanuel\\Anaconda3\\lib\\site-packages\\sklearn\\model_selection\\_search.py:762: DeprecationWarning: The grid_scores_ attribute was deprecated in version 0.18 in favor of the more elaborate cv_results_ attribute. The grid_scores_ attribute will not be available from 0.20\n",
      "  DeprecationWarning)\n"
     ]
    },
    {
     "data": {
      "text/plain": [
       "[mean: 0.82417, std: 0.01679, params: {'min_samples_leaf': 0.0001},\n",
       " mean: 0.82003, std: 0.01421, params: {'min_samples_leaf': 0.00019999999999999998},\n",
       " mean: 0.81374, std: 0.01397, params: {'min_samples_leaf': 0.0003},\n",
       " mean: 0.81304, std: 0.01746, params: {'min_samples_leaf': 0.00039999999999999996},\n",
       " mean: 0.79904, std: 0.03886, params: {'min_samples_leaf': 0.0005},\n",
       " mean: 0.78473, std: 0.04189, params: {'min_samples_leaf': 0.0006000000000000001},\n",
       " mean: 0.81530, std: 0.02259, params: {'min_samples_leaf': 0.0007},\n",
       " mean: 0.81287, std: 0.01625, params: {'min_samples_leaf': 0.0007999999999999999},\n",
       " mean: 0.80919, std: 0.00954, params: {'min_samples_leaf': 0.0009},\n",
       " mean: 0.80493, std: 0.01350, params: {'min_samples_leaf': 0.001}]"
      ]
     },
     "execution_count": 71,
     "metadata": {},
     "output_type": "execute_result"
    }
   ],
   "source": [
    "params4 = {\n",
    "    'min_samples_leaf' : np.linspace(0.0001, 0.001, 10, endpoint=True)\n",
    "}\n",
    "\n",
    "\n",
    "grid4 = GridSearchCV(RandomForestClassifier(\n",
    "    n_estimators=10, max_depth=7, n_jobs=-1, random_state=42, verbose=0, \n",
    "    class_weight={0:1, 1:13}, min_samples_split=0.00097368421\n",
    "), params4, scoring='f1', n_jobs=-1, cv=cv)\n",
    "\n",
    "grid4.fit(X_train, y_train)\n",
    "\n",
    "grid4.grid_scores_"
   ]
  },
  {
   "cell_type": "code",
   "execution_count": 72,
   "metadata": {},
   "outputs": [
    {
     "data": {
      "text/plain": [
       "({'min_samples_leaf': 0.0001}, 0.8241683798223663)"
      ]
     },
     "execution_count": 72,
     "metadata": {},
     "output_type": "execute_result"
    }
   ],
   "source": [
    "grid4.best_params_, grid4.best_score_"
   ]
  },
  {
   "cell_type": "code",
   "execution_count": 73,
   "metadata": {},
   "outputs": [
    {
     "name": "stderr",
     "output_type": "stream",
     "text": [
      "C:\\Users\\Immanuel\\Anaconda3\\lib\\site-packages\\sklearn\\model_selection\\_search.py:762: DeprecationWarning: The grid_scores_ attribute was deprecated in version 0.18 in favor of the more elaborate cv_results_ attribute. The grid_scores_ attribute will not be available from 0.20\n",
      "  DeprecationWarning)\n"
     ]
    },
    {
     "data": {
      "text/plain": [
       "[mean: 0.82568, std: 0.02244, params: {'min_samples_leaf': 1e-06},\n",
       " mean: 0.82568, std: 0.02244, params: {'min_samples_leaf': 2e-06},\n",
       " mean: 0.82568, std: 0.02244, params: {'min_samples_leaf': 3e-06},\n",
       " mean: 0.82568, std: 0.02244, params: {'min_samples_leaf': 4e-06},\n",
       " mean: 0.82568, std: 0.02244, params: {'min_samples_leaf': 4.9999999999999996e-06},\n",
       " mean: 0.82568, std: 0.02244, params: {'min_samples_leaf': 5.999999999999999e-06},\n",
       " mean: 0.82568, std: 0.02244, params: {'min_samples_leaf': 7e-06},\n",
       " mean: 0.82568, std: 0.02244, params: {'min_samples_leaf': 8e-06},\n",
       " mean: 0.82568, std: 0.02244, params: {'min_samples_leaf': 9e-06},\n",
       " mean: 0.82568, std: 0.02244, params: {'min_samples_leaf': 1e-05}]"
      ]
     },
     "execution_count": 73,
     "metadata": {},
     "output_type": "execute_result"
    }
   ],
   "source": [
    "params5 = {\n",
    "    'min_samples_leaf' : np.linspace(0.000001, 0.00001, 10, endpoint=True)\n",
    "}\n",
    "\n",
    "\n",
    "grid5 = GridSearchCV(RandomForestClassifier(\n",
    "    n_estimators=10, max_depth=7, n_jobs=-1, random_state=42, verbose=0, \n",
    "    class_weight={0:1, 1:13}, min_samples_split=0.00097368421\n",
    "), params5, scoring='f1', n_jobs=-1, cv=cv)\n",
    "\n",
    "grid5.fit(X_train, y_train)\n",
    "\n",
    "grid5.grid_scores_"
   ]
  },
  {
   "cell_type": "code",
   "execution_count": 74,
   "metadata": {},
   "outputs": [
    {
     "data": {
      "text/plain": [
       "({'min_samples_leaf': 1e-06}, 0.8256805037415418)"
      ]
     },
     "execution_count": 74,
     "metadata": {},
     "output_type": "execute_result"
    }
   ],
   "source": [
    "grid5.best_params_, grid5.best_score_"
   ]
  },
  {
   "cell_type": "code",
   "execution_count": 77,
   "metadata": {},
   "outputs": [
    {
     "name": "stderr",
     "output_type": "stream",
     "text": [
      "C:\\Users\\Immanuel\\Anaconda3\\lib\\site-packages\\sklearn\\model_selection\\_search.py:762: DeprecationWarning: The grid_scores_ attribute was deprecated in version 0.18 in favor of the more elaborate cv_results_ attribute. The grid_scores_ attribute will not be available from 0.20\n",
      "  DeprecationWarning)\n"
     ]
    },
    {
     "data": {
      "text/plain": [
       "[mean: 0.82568, std: 0.02244, params: {'min_samples_leaf': 1e-08},\n",
       " mean: 0.82568, std: 0.02244, params: {'min_samples_leaf': 1.1090909090909092e-07},\n",
       " mean: 0.82568, std: 0.02244, params: {'min_samples_leaf': 2.1181818181818186e-07},\n",
       " mean: 0.82568, std: 0.02244, params: {'min_samples_leaf': 3.127272727272728e-07},\n",
       " mean: 0.82568, std: 0.02244, params: {'min_samples_leaf': 4.136363636363637e-07},\n",
       " mean: 0.82568, std: 0.02244, params: {'min_samples_leaf': 5.145454545454546e-07},\n",
       " mean: 0.82568, std: 0.02244, params: {'min_samples_leaf': 6.154545454545456e-07},\n",
       " mean: 0.82568, std: 0.02244, params: {'min_samples_leaf': 7.163636363636365e-07},\n",
       " mean: 0.82568, std: 0.02244, params: {'min_samples_leaf': 8.172727272727274e-07},\n",
       " mean: 0.82568, std: 0.02244, params: {'min_samples_leaf': 9.181818181818183e-07},\n",
       " mean: 0.82568, std: 0.02244, params: {'min_samples_leaf': 1.0190909090909092e-06},\n",
       " mean: 0.82568, std: 0.02244, params: {'min_samples_leaf': 1.12e-06},\n",
       " mean: 0.82568, std: 0.02244, params: {'min_samples_leaf': 1.220909090909091e-06},\n",
       " mean: 0.82568, std: 0.02244, params: {'min_samples_leaf': 1.321818181818182e-06},\n",
       " mean: 0.82568, std: 0.02244, params: {'min_samples_leaf': 1.4227272727272729e-06},\n",
       " mean: 0.82568, std: 0.02244, params: {'min_samples_leaf': 1.5236363636363638e-06},\n",
       " mean: 0.82568, std: 0.02244, params: {'min_samples_leaf': 1.6245454545454547e-06},\n",
       " mean: 0.82568, std: 0.02244, params: {'min_samples_leaf': 1.7254545454545456e-06},\n",
       " mean: 0.82568, std: 0.02244, params: {'min_samples_leaf': 1.8263636363636365e-06},\n",
       " mean: 0.82568, std: 0.02244, params: {'min_samples_leaf': 1.9272727272727277e-06},\n",
       " mean: 0.82568, std: 0.02244, params: {'min_samples_leaf': 2.0281818181818184e-06},\n",
       " mean: 0.82568, std: 0.02244, params: {'min_samples_leaf': 2.129090909090909e-06},\n",
       " mean: 0.82568, std: 0.02244, params: {'min_samples_leaf': 2.2300000000000002e-06},\n",
       " mean: 0.82568, std: 0.02244, params: {'min_samples_leaf': 2.3309090909090914e-06},\n",
       " mean: 0.82568, std: 0.02244, params: {'min_samples_leaf': 2.431818181818182e-06},\n",
       " mean: 0.82568, std: 0.02244, params: {'min_samples_leaf': 2.532727272727273e-06},\n",
       " mean: 0.82568, std: 0.02244, params: {'min_samples_leaf': 2.633636363636364e-06},\n",
       " mean: 0.82568, std: 0.02244, params: {'min_samples_leaf': 2.734545454545455e-06},\n",
       " mean: 0.82568, std: 0.02244, params: {'min_samples_leaf': 2.835454545454546e-06},\n",
       " mean: 0.82568, std: 0.02244, params: {'min_samples_leaf': 2.9363636363636365e-06},\n",
       " mean: 0.82568, std: 0.02244, params: {'min_samples_leaf': 3.0372727272727276e-06},\n",
       " mean: 0.82568, std: 0.02244, params: {'min_samples_leaf': 3.1381818181818188e-06},\n",
       " mean: 0.82568, std: 0.02244, params: {'min_samples_leaf': 3.2390909090909095e-06},\n",
       " mean: 0.82568, std: 0.02244, params: {'min_samples_leaf': 3.34e-06},\n",
       " mean: 0.82568, std: 0.02244, params: {'min_samples_leaf': 3.4409090909090913e-06},\n",
       " mean: 0.82568, std: 0.02244, params: {'min_samples_leaf': 3.5418181818181825e-06},\n",
       " mean: 0.82568, std: 0.02244, params: {'min_samples_leaf': 3.642727272727273e-06},\n",
       " mean: 0.82568, std: 0.02244, params: {'min_samples_leaf': 3.743636363636364e-06},\n",
       " mean: 0.82568, std: 0.02244, params: {'min_samples_leaf': 3.8445454545454555e-06},\n",
       " mean: 0.82568, std: 0.02244, params: {'min_samples_leaf': 3.945454545454546e-06},\n",
       " mean: 0.82568, std: 0.02244, params: {'min_samples_leaf': 4.046363636363637e-06},\n",
       " mean: 0.82568, std: 0.02244, params: {'min_samples_leaf': 4.147272727272728e-06},\n",
       " mean: 0.82568, std: 0.02244, params: {'min_samples_leaf': 4.248181818181818e-06},\n",
       " mean: 0.82568, std: 0.02244, params: {'min_samples_leaf': 4.34909090909091e-06},\n",
       " mean: 0.82568, std: 0.02244, params: {'min_samples_leaf': 4.450000000000001e-06},\n",
       " mean: 0.82568, std: 0.02244, params: {'min_samples_leaf': 4.550909090909091e-06},\n",
       " mean: 0.82568, std: 0.02244, params: {'min_samples_leaf': 4.651818181818183e-06},\n",
       " mean: 0.82568, std: 0.02244, params: {'min_samples_leaf': 4.752727272727274e-06},\n",
       " mean: 0.82568, std: 0.02244, params: {'min_samples_leaf': 4.853636363636364e-06},\n",
       " mean: 0.82568, std: 0.02244, params: {'min_samples_leaf': 4.954545454545455e-06},\n",
       " mean: 0.82568, std: 0.02244, params: {'min_samples_leaf': 5.055454545454546e-06},\n",
       " mean: 0.82568, std: 0.02244, params: {'min_samples_leaf': 5.156363636363637e-06},\n",
       " mean: 0.82568, std: 0.02244, params: {'min_samples_leaf': 5.257272727272728e-06},\n",
       " mean: 0.82568, std: 0.02244, params: {'min_samples_leaf': 5.358181818181819e-06},\n",
       " mean: 0.82568, std: 0.02244, params: {'min_samples_leaf': 5.45909090909091e-06},\n",
       " mean: 0.82568, std: 0.02244, params: {'min_samples_leaf': 5.560000000000001e-06},\n",
       " mean: 0.82568, std: 0.02244, params: {'min_samples_leaf': 5.660909090909092e-06},\n",
       " mean: 0.82568, std: 0.02244, params: {'min_samples_leaf': 5.761818181818182e-06},\n",
       " mean: 0.82568, std: 0.02244, params: {'min_samples_leaf': 5.862727272727273e-06},\n",
       " mean: 0.82568, std: 0.02244, params: {'min_samples_leaf': 5.963636363636365e-06},\n",
       " mean: 0.82568, std: 0.02244, params: {'min_samples_leaf': 6.064545454545455e-06},\n",
       " mean: 0.82568, std: 0.02244, params: {'min_samples_leaf': 6.165454545454546e-06},\n",
       " mean: 0.82568, std: 0.02244, params: {'min_samples_leaf': 6.266363636363638e-06},\n",
       " mean: 0.82568, std: 0.02244, params: {'min_samples_leaf': 6.367272727272728e-06},\n",
       " mean: 0.82568, std: 0.02244, params: {'min_samples_leaf': 6.468181818181819e-06},\n",
       " mean: 0.82568, std: 0.02244, params: {'min_samples_leaf': 6.56909090909091e-06},\n",
       " mean: 0.82568, std: 0.02244, params: {'min_samples_leaf': 6.6700000000000005e-06},\n",
       " mean: 0.82568, std: 0.02244, params: {'min_samples_leaf': 6.770909090909092e-06},\n",
       " mean: 0.82568, std: 0.02244, params: {'min_samples_leaf': 6.871818181818183e-06},\n",
       " mean: 0.82568, std: 0.02244, params: {'min_samples_leaf': 6.9727272727272735e-06},\n",
       " mean: 0.82568, std: 0.02244, params: {'min_samples_leaf': 7.073636363636365e-06},\n",
       " mean: 0.82568, std: 0.02244, params: {'min_samples_leaf': 7.174545454545456e-06},\n",
       " mean: 0.82568, std: 0.02244, params: {'min_samples_leaf': 7.2754545454545465e-06},\n",
       " mean: 0.82568, std: 0.02244, params: {'min_samples_leaf': 7.376363636363637e-06},\n",
       " mean: 0.82568, std: 0.02244, params: {'min_samples_leaf': 7.477272727272728e-06},\n",
       " mean: 0.82568, std: 0.02244, params: {'min_samples_leaf': 7.5781818181818195e-06},\n",
       " mean: 0.82568, std: 0.02244, params: {'min_samples_leaf': 7.679090909090911e-06},\n",
       " mean: 0.82568, std: 0.02244, params: {'min_samples_leaf': 7.780000000000002e-06},\n",
       " mean: 0.82568, std: 0.02244, params: {'min_samples_leaf': 7.880909090909092e-06},\n",
       " mean: 0.82568, std: 0.02244, params: {'min_samples_leaf': 7.981818181818183e-06},\n",
       " mean: 0.82568, std: 0.02244, params: {'min_samples_leaf': 8.082727272727274e-06},\n",
       " mean: 0.82568, std: 0.02244, params: {'min_samples_leaf': 8.183636363636365e-06},\n",
       " mean: 0.82568, std: 0.02244, params: {'min_samples_leaf': 8.284545454545455e-06},\n",
       " mean: 0.82568, std: 0.02244, params: {'min_samples_leaf': 8.385454545454546e-06},\n",
       " mean: 0.82568, std: 0.02244, params: {'min_samples_leaf': 8.486363636363637e-06},\n",
       " mean: 0.82568, std: 0.02244, params: {'min_samples_leaf': 8.587272727272729e-06},\n",
       " mean: 0.82568, std: 0.02244, params: {'min_samples_leaf': 8.68818181818182e-06},\n",
       " mean: 0.82568, std: 0.02244, params: {'min_samples_leaf': 8.78909090909091e-06},\n",
       " mean: 0.82568, std: 0.02244, params: {'min_samples_leaf': 8.890000000000001e-06},\n",
       " mean: 0.82568, std: 0.02244, params: {'min_samples_leaf': 8.990909090909092e-06},\n",
       " mean: 0.82568, std: 0.02244, params: {'min_samples_leaf': 9.091818181818183e-06},\n",
       " mean: 0.82568, std: 0.02244, params: {'min_samples_leaf': 9.192727272727273e-06},\n",
       " mean: 0.82568, std: 0.02244, params: {'min_samples_leaf': 9.293636363636366e-06},\n",
       " mean: 0.82568, std: 0.02244, params: {'min_samples_leaf': 9.394545454545457e-06},\n",
       " mean: 0.82568, std: 0.02244, params: {'min_samples_leaf': 9.495454545454547e-06},\n",
       " mean: 0.82568, std: 0.02244, params: {'min_samples_leaf': 9.596363636363638e-06},\n",
       " mean: 0.82568, std: 0.02244, params: {'min_samples_leaf': 9.697272727272729e-06},\n",
       " mean: 0.82568, std: 0.02244, params: {'min_samples_leaf': 9.79818181818182e-06},\n",
       " mean: 0.82568, std: 0.02244, params: {'min_samples_leaf': 9.89909090909091e-06},\n",
       " mean: 0.82568, std: 0.02244, params: {'min_samples_leaf': 1e-05}]"
      ]
     },
     "execution_count": 77,
     "metadata": {},
     "output_type": "execute_result"
    }
   ],
   "source": [
    "params6 = {\n",
    "    'min_samples_leaf' : np.linspace(0.00000001, 0.00001, 100, endpoint=True)\n",
    "}\n",
    "\n",
    "\n",
    "grid6 = GridSearchCV(RandomForestClassifier(\n",
    "    n_estimators=10, max_depth=7, n_jobs=-1, random_state=42, verbose=0, \n",
    "    class_weight={0:1, 1:13}, min_samples_split=0.00097368421\n",
    "), params6, scoring='f1', n_jobs=-1, cv=cv)\n",
    "\n",
    "grid6.fit(X_train, y_train)\n",
    "\n",
    "grid6.grid_scores_"
   ]
  },
  {
   "cell_type": "code",
   "execution_count": 78,
   "metadata": {},
   "outputs": [
    {
     "data": {
      "text/plain": [
       "({'min_samples_leaf': 1e-08}, 0.8256805037415418)"
      ]
     },
     "execution_count": 78,
     "metadata": {},
     "output_type": "execute_result"
    }
   ],
   "source": [
    "grid6.best_params_, grid6.best_score_"
   ]
  },
  {
   "cell_type": "code",
   "execution_count": 79,
   "metadata": {},
   "outputs": [
    {
     "name": "stderr",
     "output_type": "stream",
     "text": [
      "C:\\Users\\Immanuel\\Anaconda3\\lib\\site-packages\\sklearn\\model_selection\\_search.py:762: DeprecationWarning: The grid_scores_ attribute was deprecated in version 0.18 in favor of the more elaborate cv_results_ attribute. The grid_scores_ attribute will not be available from 0.20\n",
      "  DeprecationWarning)\n"
     ]
    },
    {
     "data": {
      "text/plain": [
       "[mean: 0.80344, std: 0.01800, params: {'max_features': 0.1},\n",
       " mean: 0.82388, std: 0.02490, params: {'max_features': 0.2},\n",
       " mean: 0.81148, std: 0.02900, params: {'max_features': 0.30000000000000004},\n",
       " mean: 0.81310, std: 0.02122, params: {'max_features': 0.4},\n",
       " mean: 0.78222, std: 0.01704, params: {'max_features': 0.5},\n",
       " mean: 0.78589, std: 0.02780, params: {'max_features': 0.6},\n",
       " mean: 0.76010, std: 0.03275, params: {'max_features': 0.7000000000000001},\n",
       " mean: 0.78684, std: 0.02476, params: {'max_features': 0.8},\n",
       " mean: 0.78322, std: 0.03234, params: {'max_features': 0.9},\n",
       " mean: 0.77231, std: 0.04826, params: {'max_features': 1.0}]"
      ]
     },
     "execution_count": 79,
     "metadata": {},
     "output_type": "execute_result"
    }
   ],
   "source": [
    "params7 = {\n",
    "    'max_features' : np.linspace(0.1, 1.0, 10, endpoint=True)\n",
    "}\n",
    "\n",
    "\n",
    "grid7 = GridSearchCV(RandomForestClassifier(\n",
    "    n_estimators=10, max_depth=7, n_jobs=-1, random_state=42, verbose=0, \n",
    "    class_weight={0:1, 1:13}, min_samples_split=0.00097368421, min_samples_leaf=0.00000001\n",
    "), params7, scoring='f1', n_jobs=-1, cv=cv)\n",
    "\n",
    "grid7.fit(X_train, y_train)\n",
    "\n",
    "grid7.grid_scores_"
   ]
  },
  {
   "cell_type": "code",
   "execution_count": 80,
   "metadata": {},
   "outputs": [
    {
     "data": {
      "text/plain": [
       "({'max_features': 0.2}, 0.8238757172643462)"
      ]
     },
     "execution_count": 80,
     "metadata": {},
     "output_type": "execute_result"
    }
   ],
   "source": [
    "grid7.best_params_, grid7.best_score_"
   ]
  },
  {
   "cell_type": "code",
   "execution_count": 81,
   "metadata": {},
   "outputs": [
    {
     "name": "stderr",
     "output_type": "stream",
     "text": [
      "C:\\Users\\Immanuel\\Anaconda3\\lib\\site-packages\\sklearn\\model_selection\\_search.py:762: DeprecationWarning: The grid_scores_ attribute was deprecated in version 0.18 in favor of the more elaborate cv_results_ attribute. The grid_scores_ attribute will not be available from 0.20\n",
      "  DeprecationWarning)\n"
     ]
    },
    {
     "data": {
      "text/plain": [
       "[mean: 0.79163, std: 0.01544, params: {'max_features': 0.11},\n",
       " mean: 0.79163, std: 0.01544, params: {'max_features': 0.11947368421052632},\n",
       " mean: 0.79163, std: 0.01544, params: {'max_features': 0.12894736842105264},\n",
       " mean: 0.79063, std: 0.02530, params: {'max_features': 0.13842105263157894},\n",
       " mean: 0.79063, std: 0.02530, params: {'max_features': 0.14789473684210525},\n",
       " mean: 0.79063, std: 0.02530, params: {'max_features': 0.15736842105263157},\n",
       " mean: 0.82568, std: 0.02244, params: {'max_features': 0.1668421052631579},\n",
       " mean: 0.82568, std: 0.02244, params: {'max_features': 0.1763157894736842},\n",
       " mean: 0.82388, std: 0.02490, params: {'max_features': 0.1857894736842105},\n",
       " mean: 0.82388, std: 0.02490, params: {'max_features': 0.19526315789473683},\n",
       " mean: 0.82388, std: 0.02490, params: {'max_features': 0.20473684210526316},\n",
       " mean: 0.80642, std: 0.01502, params: {'max_features': 0.21421052631578946},\n",
       " mean: 0.80642, std: 0.01502, params: {'max_features': 0.22368421052631576},\n",
       " mean: 0.80642, std: 0.01502, params: {'max_features': 0.2331578947368421},\n",
       " mean: 0.81217, std: 0.01945, params: {'max_features': 0.24263157894736842},\n",
       " mean: 0.81217, std: 0.01945, params: {'max_features': 0.2521052631578947},\n",
       " mean: 0.81217, std: 0.01945, params: {'max_features': 0.261578947368421},\n",
       " mean: 0.81608, std: 0.01763, params: {'max_features': 0.2710526315789473},\n",
       " mean: 0.81608, std: 0.01763, params: {'max_features': 0.2805263157894737},\n",
       " mean: 0.81148, std: 0.02900, params: {'max_features': 0.29}]"
      ]
     },
     "execution_count": 81,
     "metadata": {},
     "output_type": "execute_result"
    }
   ],
   "source": [
    "params8 = {\n",
    "    'max_features' : np.linspace(0.11, 0.29, 20, endpoint=True)\n",
    "}\n",
    "\n",
    "\n",
    "grid8 = GridSearchCV(RandomForestClassifier(\n",
    "    n_estimators=10, max_depth=7, n_jobs=-1, random_state=42, verbose=0, \n",
    "    class_weight={0:1, 1:13}, min_samples_split=0.00097368421, min_samples_leaf=0.00000001\n",
    "), params8, scoring='f1', n_jobs=-1, cv=cv)\n",
    "\n",
    "grid8.fit(X_train, y_train)\n",
    "\n",
    "grid8.grid_scores_"
   ]
  },
  {
   "cell_type": "code",
   "execution_count": 82,
   "metadata": {},
   "outputs": [
    {
     "data": {
      "text/plain": [
       "({'max_features': 0.1668421052631579}, 0.8256805037415418)"
      ]
     },
     "execution_count": 82,
     "metadata": {},
     "output_type": "execute_result"
    }
   ],
   "source": [
    "grid8.best_params_, grid8.best_score_"
   ]
  },
  {
   "cell_type": "code",
   "execution_count": 83,
   "metadata": {},
   "outputs": [
    {
     "name": "stderr",
     "output_type": "stream",
     "text": [
      "C:\\Users\\Immanuel\\Anaconda3\\lib\\site-packages\\sklearn\\model_selection\\_search.py:762: DeprecationWarning: The grid_scores_ attribute was deprecated in version 0.18 in favor of the more elaborate cv_results_ attribute. The grid_scores_ attribute will not be available from 0.20\n",
      "  DeprecationWarning)\n"
     ]
    },
    {
     "data": {
      "text/plain": [
       "[mean: 0.82417, std: 0.01679, params: {'n_estimators': 750},\n",
       " mean: 0.82417, std: 0.01679, params: {'n_estimators': 1000},\n",
       " mean: 0.81988, std: 0.01946, params: {'n_estimators': 2500},\n",
       " mean: 0.81988, std: 0.01946, params: {'n_estimators': 3500}]"
      ]
     },
     "execution_count": 83,
     "metadata": {},
     "output_type": "execute_result"
    }
   ],
   "source": [
    "params9 = {\n",
    "    'n_estimators' : [750, 1000, 2500, 3500]\n",
    "}\n",
    "\n",
    "\n",
    "grid9 = GridSearchCV(RandomForestClassifier(\n",
    "    n_estimators=10, max_depth=7, n_jobs=-1, random_state=42, verbose=0, \n",
    "    class_weight={0:1, 1:13}, min_samples_split=0.00097368421, min_samples_leaf=0.00000001,\n",
    "    max_features=0.166842105263\n",
    "), params9, scoring='f1', n_jobs=-1, cv=cv)\n",
    "\n",
    "grid9.fit(X_train, y_train)\n",
    "\n",
    "grid9.grid_scores_"
   ]
  },
  {
   "cell_type": "code",
   "execution_count": 84,
   "metadata": {},
   "outputs": [
    {
     "data": {
      "text/plain": [
       "({'n_estimators': 750}, 0.8241683798223663)"
      ]
     },
     "execution_count": 84,
     "metadata": {},
     "output_type": "execute_result"
    }
   ],
   "source": [
    "grid9.best_params_, grid9.best_score_"
   ]
  },
  {
   "cell_type": "code",
   "execution_count": 44,
   "metadata": {},
   "outputs": [],
   "source": [
    "rfc = RandomForestClassifier(\n",
    "    n_estimators=750, max_depth=7, n_jobs=-1, random_state=42, verbose=0, \n",
    "    class_weight={0:1, 1:13}, min_samples_split=0.00097368421, min_samples_leaf=0.00000001,\n",
    "    max_features=0.166842105263\n",
    ")"
   ]
  },
  {
   "cell_type": "code",
   "execution_count": 177,
   "metadata": {},
   "outputs": [
    {
     "name": "stdout",
     "output_type": "stream",
     "text": [
      "Train Score: 0.823129\n",
      "Test Score: 0.784615\n"
     ]
    }
   ],
   "source": [
    "\n",
    "\n",
    "rfc.fit(X_train, y_train)\n",
    "\n",
    "train_predictions = rfc.predict(X_train)\n",
    "test_predictions = rfc.predict(X_test)\n",
    "\n",
    "print('Train Score: {:4f}'.format(f1_score(y_train, train_predictions)))\n",
    "print('Test Score: {:4f}'.format(f1_score(y_test, test_predictions)))"
   ]
  },
  {
   "cell_type": "code",
   "execution_count": 178,
   "metadata": {},
   "outputs": [
    {
     "data": {
      "text/plain": [
       "0.8230734883184974"
      ]
     },
     "execution_count": 178,
     "metadata": {},
     "output_type": "execute_result"
    }
   ],
   "source": [
    "cross_val_score(rfc, X_train, y_train, scoring='f1', cv=cv, n_jobs=-1, verbose=0).mean()"
   ]
  },
  {
   "cell_type": "code",
   "execution_count": null,
   "metadata": {},
   "outputs": [],
   "source": []
  },
  {
   "cell_type": "code",
   "execution_count": null,
   "metadata": {},
   "outputs": [],
   "source": []
  },
  {
   "cell_type": "code",
   "execution_count": 45,
   "metadata": {},
   "outputs": [],
   "source": [
    "def get_models():\n",
    "    \"\"\"Generate a library of base learners.\"\"\"\n",
    "\n",
    "    models = {'lgb': lgbm,\n",
    "              'xgb': xgbc,\n",
    "              }\n",
    "\n",
    "    return models"
   ]
  },
  {
   "cell_type": "code",
   "execution_count": 46,
   "metadata": {},
   "outputs": [],
   "source": [
    "base_learners = get_models()\n",
    "meta_learner = rfc"
   ]
  },
  {
   "cell_type": "code",
   "execution_count": 47,
   "metadata": {},
   "outputs": [
    {
     "name": "stderr",
     "output_type": "stream",
     "text": [
      "[MLENS] backend: threading\n"
     ]
    }
   ],
   "source": [
    "from sklearn.metrics import f1_score\n",
    "from mlens.ensemble import SuperLearner"
   ]
  },
  {
   "cell_type": "code",
   "execution_count": 48,
   "metadata": {},
   "outputs": [
    {
     "data": {
      "text/plain": [
       "SuperLearner(array_check=None, backend=None, folds=5,\n",
       "       layers=[Layer(backend='threading', dtype=<class 'numpy.float32'>, n_jobs=-1,\n",
       "   name='layer-1', propagate_features=None, raise_on_exception=True,\n",
       "   random_state=7270, shuffle=False,\n",
       "   stack=[Group(backend='threading', dtype=<class 'numpy.float32'>,\n",
       "   indexer=FoldIndex(X=None, folds=5, raise_on_ex...rer=None)],\n",
       "   n_jobs=-1, name='group-1', raise_on_exception=True, transformers=[])],\n",
       "   verbose=0)],\n",
       "       model_selection=False, n_jobs=None, raise_on_exception=True,\n",
       "       random_state=42, sample_size=20, scorer=None, shuffle=False,\n",
       "       verbose=0)"
      ]
     },
     "execution_count": 48,
     "metadata": {},
     "output_type": "execute_result"
    }
   ],
   "source": [
    "from mlens.ensemble import SuperLearner\n",
    "\n",
    "# Instantiate the ensemble with 10 folds\n",
    "sl = SuperLearner(\n",
    "    folds=5,\n",
    "    random_state=42,\n",
    "    verbose=0,\n",
    "    backend=\"multiprocessing\"\n",
    ")\n",
    "\n",
    "# Add the base learners and the meta learner\n",
    "sl.add(list(base_learners.values()), proba=True)\n",
    "sl.add_meta(meta_learner, proba=True)\n",
    "\n",
    "# Train the ensemble\n",
    "sl.fit(X_train, y_train)"
   ]
  },
  {
   "cell_type": "code",
   "execution_count": 49,
   "metadata": {},
   "outputs": [
    {
     "name": "stdout",
     "output_type": "stream",
     "text": [
      "Super Learner f1 score: %.3f\n"
     ]
    }
   ],
   "source": [
    "\n",
    "p_sl = sl.predict_proba(X_test)\n",
    "pred = [1 if y>=0.5 else 0 for y in p_sl[:, 1]]\n",
    "\n",
    "print(\"Super Learner f1 score: %.3f\".format(f1_score(y_test, pred)))"
   ]
  },
  {
   "cell_type": "code",
   "execution_count": 50,
   "metadata": {},
   "outputs": [
    {
     "data": {
      "text/plain": [
       "array([[9.9958849e-01, 4.1151125e-04],\n",
       "       [9.9958849e-01, 4.1151125e-04],\n",
       "       [9.9958849e-01, 4.1151125e-04],\n",
       "       ...,\n",
       "       [1.0000000e+00, 0.0000000e+00],\n",
       "       [9.9958849e-01, 4.1151125e-04],\n",
       "       [9.9958849e-01, 4.1151125e-04]], dtype=float32)"
      ]
     },
     "execution_count": 50,
     "metadata": {},
     "output_type": "execute_result"
    }
   ],
   "source": [
    "p_sl"
   ]
  },
  {
   "cell_type": "code",
   "execution_count": 51,
   "metadata": {},
   "outputs": [
    {
     "name": "stdout",
     "output_type": "stream",
     "text": [
      "Super Learner f1 score: 0.759124087591241\n"
     ]
    }
   ],
   "source": [
    "print(\"Super Learner f1 score: {}\".format(f1_score(y_test, pred)))"
   ]
  },
  {
   "cell_type": "markdown",
   "metadata": {},
   "source": [
    "cross_val_score(sl, X_train, y_train, scoring='f1', cv=3, n_jobs=-1)"
   ]
  },
  {
   "cell_type": "code",
   "execution_count": null,
   "metadata": {},
   "outputs": [],
   "source": []
  },
  {
   "cell_type": "code",
   "execution_count": 54,
   "metadata": {},
   "outputs": [],
   "source": [
    "precision, recall, thresholds = precision_recall_curve(y_test, p_sl[:,1])"
   ]
  },
  {
   "cell_type": "code",
   "execution_count": 55,
   "metadata": {},
   "outputs": [
    {
     "data": {
      "image/png": "[encoded data removed]",
      "text/plain": [
       "<Figure size 432x288 with 1 Axes>"
      ]
     },
     "metadata": {
      "needs_background": "light"
     },
     "output_type": "display_data"
    }
   ],
   "source": [
    "thresholds = np.append(thresholds, 1)\n",
    "f1_scores = 2*(precision*recall)/(precision+recall)\n",
    "plt.step(recall, precision, color='b', alpha=0.4, where='post')\n",
    "plt.xlabel('Recall')\n",
    "plt.ylabel('Precision')\n",
    "plt.ylim([0.0, 1.05])\n",
    "plt.xlim([0.0, 1.0])\n",
    "plt.title('2-class Precision-Recall curve')\n",
    "plt.show()"
   ]
  },
  {
   "cell_type": "code",
   "execution_count": 56,
   "metadata": {},
   "outputs": [
    {
     "name": "stdout",
     "output_type": "stream",
     "text": [
      "Threshold cutoff:  0.8635978698730469\n",
      "Max F1-score at cut-off :  0.8793103448275863\n"
     ]
    },
    {
     "data": {
      "text/plain": [
       "<matplotlib.axes._subplots.AxesSubplot at 0x99d4d40518>"
      ]
     },
     "execution_count": 56,
     "metadata": {},
     "output_type": "execute_result"
    },
    {
     "data": {
      "image/png": "[encoded data removed]",
      "text/plain": [
       "<Figure size 432x288 with 1 Axes>"
      ]
     },
     "metadata": {
      "needs_background": "light"
     },
     "output_type": "display_data"
    }
   ],
   "source": [
    "scrs = pd.DataFrame({'precision' : precision, 'recal' : recall, 'thresholds' : thresholds, 'f1_score':f1_scores})\n",
    "print(\"Threshold cutoff: \",scrs.loc[scrs['f1_score'] == scrs.f1_score.max(),'thresholds'].iloc[0])\n",
    "print(\"Max F1-score at cut-off : \",scrs.f1_score.max())\n",
    "\n",
    "thresh = scrs.loc[scrs['f1_score'] == scrs.f1_score.max(),'thresholds'].iloc[0]\n",
    "\n",
    "scrs.plot(x='thresholds', y='f1_score')"
   ]
  },
  {
   "cell_type": "code",
   "execution_count": 58,
   "metadata": {},
   "outputs": [
    {
     "data": {
      "text/html": [
       "<div>\n",
       "<style scoped>\n",
       "    .dataframe tbody tr th:only-of-type {\n",
       "        vertical-align: middle;\n",
       "    }\n",
       "\n",
       "    .dataframe tbody tr th {\n",
       "        vertical-align: top;\n",
       "    }\n",
       "\n",
       "    .dataframe thead th {\n",
       "        text-align: right;\n",
       "    }\n",
       "</style>\n",
       "<table border=\"1\" class=\"dataframe\">\n",
       "  <thead>\n",
       "    <tr style=\"text-align: right;\">\n",
       "      <th></th>\n",
       "      <th>precision</th>\n",
       "      <th>recal</th>\n",
       "      <th>thresholds</th>\n",
       "      <th>f1_score</th>\n",
       "    </tr>\n",
       "  </thead>\n",
       "  <tbody>\n",
       "    <tr>\n",
       "      <th>112</th>\n",
       "      <td>0.87931</td>\n",
       "      <td>0.87931</td>\n",
       "      <td>0.863598</td>\n",
       "      <td>0.87931</td>\n",
       "    </tr>\n",
       "  </tbody>\n",
       "</table>\n",
       "</div>"
      ],
      "text/plain": [
       "     precision    recal  thresholds  f1_score\n",
       "112    0.87931  0.87931    0.863598   0.87931"
      ]
     },
     "execution_count": 58,
     "metadata": {},
     "output_type": "execute_result"
    }
   ],
   "source": [
    "scrs.loc[scrs['f1_score'] == scrs.f1_score.max()]"
   ]
  },
  {
   "cell_type": "code",
   "execution_count": 60,
   "metadata": {},
   "outputs": [],
   "source": [
    "frame = scrs.loc[scrs['precision'] == scrs['recal']]"
   ]
  },
  {
   "cell_type": "code",
   "execution_count": 66,
   "metadata": {},
   "outputs": [
    {
     "data": {
      "text/html": [
       "<div>\n",
       "<style scoped>\n",
       "    .dataframe tbody tr th:only-of-type {\n",
       "        vertical-align: middle;\n",
       "    }\n",
       "\n",
       "    .dataframe tbody tr th {\n",
       "        vertical-align: top;\n",
       "    }\n",
       "\n",
       "    .dataframe thead th {\n",
       "        text-align: right;\n",
       "    }\n",
       "</style>\n",
       "<table border=\"1\" class=\"dataframe\">\n",
       "  <thead>\n",
       "    <tr style=\"text-align: right;\">\n",
       "      <th></th>\n",
       "      <th>precision</th>\n",
       "      <th>recal</th>\n",
       "      <th>thresholds</th>\n",
       "      <th>f1_score</th>\n",
       "    </tr>\n",
       "  </thead>\n",
       "  <tbody>\n",
       "    <tr>\n",
       "      <th>93</th>\n",
       "      <td>0.658228</td>\n",
       "      <td>0.896552</td>\n",
       "      <td>0.508834</td>\n",
       "      <td>0.759124</td>\n",
       "    </tr>\n",
       "  </tbody>\n",
       "</table>\n",
       "</div>"
      ],
      "text/plain": [
       "    precision     recal  thresholds  f1_score\n",
       "93   0.658228  0.896552    0.508834  0.759124"
      ]
     },
     "execution_count": 66,
     "metadata": {},
     "output_type": "execute_result"
    }
   ],
   "source": [
    "scrs.loc[scrs['f1_score'] == 0.759124087591241]"
   ]
  },
  {
   "cell_type": "code",
   "execution_count": 63,
   "metadata": {},
   "outputs": [],
   "source": [
    "thresh = frame['thresholds'].values[0]"
   ]
  },
  {
   "cell_type": "code",
   "execution_count": 64,
   "metadata": {},
   "outputs": [
    {
     "data": {
      "text/plain": [
       "0.8635978698730469"
      ]
     },
     "execution_count": 64,
     "metadata": {},
     "output_type": "execute_result"
    }
   ],
   "source": [
    "thresh"
   ]
  },
  {
   "cell_type": "code",
   "execution_count": 65,
   "metadata": {},
   "outputs": [
    {
     "data": {
      "text/plain": [
       "0.8793103448275863"
      ]
     },
     "execution_count": 65,
     "metadata": {},
     "output_type": "execute_result"
    }
   ],
   "source": [
    "pred = [1 if y>=thresh else 0 for y in p_sl[:, 1]]\n",
    "\n",
    "f1_score(y_test, pred)"
   ]
  },
  {
   "cell_type": "code",
   "execution_count": null,
   "metadata": {},
   "outputs": [],
   "source": []
  },
  {
   "cell_type": "code",
   "execution_count": null,
   "metadata": {},
   "outputs": [],
   "source": []
  },
  {
   "cell_type": "code",
   "execution_count": null,
   "metadata": {},
   "outputs": [],
   "source": []
  },
  {
   "cell_type": "code",
   "execution_count": null,
   "metadata": {},
   "outputs": [],
   "source": []
  },
  {
   "cell_type": "code",
   "execution_count": null,
   "metadata": {},
   "outputs": [],
   "source": []
  },
  {
   "cell_type": "code",
   "execution_count": null,
   "metadata": {},
   "outputs": [],
   "source": []
  },
  {
   "cell_type": "code",
   "execution_count": null,
   "metadata": {},
   "outputs": [],
   "source": []
  },
  {
   "cell_type": "code",
   "execution_count": 67,
   "metadata": {},
   "outputs": [],
   "source": [
    "test_data_probs = sl.predict_proba(test_data)\n",
    "test_data_pred = [1 if y>=thresh else 0 for y in test_data_probs[:, 1]]\n",
    "\n",
    "submission = pd.DataFrame({'TransactionId' : testTransId, 'FraudResult' : test_data_pred})\n",
    "submission.to_csv('submission.csv', index=False)"
   ]
  },
  {
   "cell_type": "code",
   "execution_count": null,
   "metadata": {},
   "outputs": [],
   "source": []
  },
  {
   "cell_type": "code",
   "execution_count": null,
   "metadata": {},
   "outputs": [],
   "source": []
  },
  {
   "cell_type": "code",
   "execution_count": null,
   "metadata": {},
   "outputs": [],
   "source": []
  },
  {
   "cell_type": "code",
   "execution_count": null,
   "metadata": {},
   "outputs": [],
   "source": []
  },
  {
   "cell_type": "code",
   "execution_count": null,
   "metadata": {},
   "outputs": [],
   "source": []
  },
  {
   "cell_type": "code",
   "execution_count": 185,
   "metadata": {},
   "outputs": [
    {
     "name": "stderr",
     "output_type": "stream",
     "text": [
      "C:\\Users\\Immanuel\\Anaconda3\\lib\\site-packages\\sklearn\\preprocessing\\label.py:151: DeprecationWarning: The truth value of an empty array is ambiguous. Returning False, but in future this will result in an error. Use `array.size > 0` to check that an array is not empty.\n",
      "  if diff:\n"
     ]
    }
   ],
   "source": [
    "test_data_predictions = voting.predict(test_data)\n",
    "\n",
    "submission = pd.DataFrame({'TransactionId' : testTransId, 'FraudResult' : test_data_predictions})\n",
    "submission.to_csv('sub.csv', index=False)"
   ]
  },
  {
   "cell_type": "code",
   "execution_count": null,
   "metadata": {},
   "outputs": [],
   "source": []
  }
 ],
 "metadata": {
  "kernelspec": {
   "display_name": "Python 3",
   "language": "python",
   "name": "python3"
  },
  "language_info": {
   "codemirror_mode": {
    "name": "ipython",
    "version": 3
   },
   "file_extension": ".py",
   "mimetype": "text/x-python",
   "name": "python",
   "nbconvert_exporter": "python",
   "pygments_lexer": "ipython3",
   "version": "3.7.3"
  }
 },
 "nbformat": 4,
 "nbformat_minor": 2
}
