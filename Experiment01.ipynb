{
 "cells": [
  {
   "cell_type": "code",
   "execution_count": 1,
   "metadata": {},
   "outputs": [],
   "source": [
    "import numpy as np\n",
    "import math\n",
    "import pandas as pd\n",
    "import seaborn as sns\n",
    "import matplotlib.pyplot as plt\n",
    "%matplotlib inline\n",
    "\n",
    "import time\n",
    "from collections import Counter\n",
    "from sklearn.preprocessing import LabelEncoder\n",
    "from sklearn.model_selection import train_test_split, RandomizedSearchCV, GridSearchCV, StratifiedKFold, StratifiedShuffleSplit, cross_val_score\n",
    "from sklearn.pipeline import make_pipeline\n",
    "from sklearn.metrics import confusion_matrix, classification_report, precision_score, recall_score, f1_score, precision_recall_curve"
   ]
  },
  {
   "cell_type": "code",
   "execution_count": 2,
   "metadata": {},
   "outputs": [],
   "source": [
    "train_data = pd.read_csv('FeatureEngineeredTrain.csv')\n",
    "test_data = pd.read_csv('FeatureEngineeredTest.csv')"
   ]
  },
  {
   "cell_type": "code",
   "execution_count": 3,
   "metadata": {},
   "outputs": [
    {
     "data": {
      "text/html": [
       "<div>\n",
       "<style scoped>\n",
       "    .dataframe tbody tr th:only-of-type {\n",
       "        vertical-align: middle;\n",
       "    }\n",
       "\n",
       "    .dataframe tbody tr th {\n",
       "        vertical-align: top;\n",
       "    }\n",
       "\n",
       "    .dataframe thead th {\n",
       "        text-align: right;\n",
       "    }\n",
       "</style>\n",
       "<table border=\"1\" class=\"dataframe\">\n",
       "  <thead>\n",
       "    <tr style=\"text-align: right;\">\n",
       "      <th></th>\n",
       "      <th>TransactionId</th>\n",
       "      <th>BatchId</th>\n",
       "      <th>AccountId</th>\n",
       "      <th>SubscriptionId</th>\n",
       "      <th>CustomerId</th>\n",
       "      <th>ProviderId</th>\n",
       "      <th>ProductId</th>\n",
       "      <th>ProductCategory</th>\n",
       "      <th>ChannelId</th>\n",
       "      <th>Amount</th>\n",
       "      <th>...</th>\n",
       "      <th>max_amt_per_CustomerId_in_last_72hhrs</th>\n",
       "      <th>no_of_trans_per_CustomerId_in_last_72hhrs</th>\n",
       "      <th>Avg_amt_per_CustomerId_in_last_168hhrs</th>\n",
       "      <th>sum_of_amt_per_CustomerId_in_last_168hhrs</th>\n",
       "      <th>max_amt_per_CustomerId_in_last_168hhrs</th>\n",
       "      <th>no_of_trans_per_CustomerId_in_last_168hhrs</th>\n",
       "      <th>No_of_unique_subscription_per_customer</th>\n",
       "      <th>No_of_unique_subscription_per_acc</th>\n",
       "      <th>Multiple_Sub_by_Customer</th>\n",
       "      <th>Multiple_Sub_by_Acc</th>\n",
       "    </tr>\n",
       "  </thead>\n",
       "  <tbody>\n",
       "    <tr>\n",
       "      <th>0</th>\n",
       "      <td>TransactionId_76871</td>\n",
       "      <td>BatchId_36123</td>\n",
       "      <td>AccountId_3957</td>\n",
       "      <td>SubscriptionId_887</td>\n",
       "      <td>CustomerId_4406</td>\n",
       "      <td>ProviderId_6</td>\n",
       "      <td>ProductId_10</td>\n",
       "      <td>airtime</td>\n",
       "      <td>ChannelId_3</td>\n",
       "      <td>1000.0</td>\n",
       "      <td>...</td>\n",
       "      <td>1000.0</td>\n",
       "      <td>1.0</td>\n",
       "      <td>1000.0</td>\n",
       "      <td>1000.0</td>\n",
       "      <td>1000.0</td>\n",
       "      <td>1.0</td>\n",
       "      <td>3</td>\n",
       "      <td>1</td>\n",
       "      <td>Yes</td>\n",
       "      <td>No</td>\n",
       "    </tr>\n",
       "    <tr>\n",
       "      <th>1</th>\n",
       "      <td>TransactionId_73770</td>\n",
       "      <td>BatchId_15642</td>\n",
       "      <td>AccountId_4841</td>\n",
       "      <td>SubscriptionId_3829</td>\n",
       "      <td>CustomerId_4406</td>\n",
       "      <td>ProviderId_4</td>\n",
       "      <td>ProductId_6</td>\n",
       "      <td>financial_services</td>\n",
       "      <td>ChannelId_2</td>\n",
       "      <td>-20.0</td>\n",
       "      <td>...</td>\n",
       "      <td>1000.0</td>\n",
       "      <td>2.0</td>\n",
       "      <td>490.0</td>\n",
       "      <td>980.0</td>\n",
       "      <td>1000.0</td>\n",
       "      <td>2.0</td>\n",
       "      <td>3</td>\n",
       "      <td>2</td>\n",
       "      <td>Yes</td>\n",
       "      <td>Yes</td>\n",
       "    </tr>\n",
       "    <tr>\n",
       "      <th>2</th>\n",
       "      <td>TransactionId_26203</td>\n",
       "      <td>BatchId_53941</td>\n",
       "      <td>AccountId_4229</td>\n",
       "      <td>SubscriptionId_222</td>\n",
       "      <td>CustomerId_4683</td>\n",
       "      <td>ProviderId_6</td>\n",
       "      <td>ProductId_1</td>\n",
       "      <td>airtime</td>\n",
       "      <td>ChannelId_3</td>\n",
       "      <td>500.0</td>\n",
       "      <td>...</td>\n",
       "      <td>500.0</td>\n",
       "      <td>1.0</td>\n",
       "      <td>500.0</td>\n",
       "      <td>500.0</td>\n",
       "      <td>500.0</td>\n",
       "      <td>1.0</td>\n",
       "      <td>1</td>\n",
       "      <td>1</td>\n",
       "      <td>No</td>\n",
       "      <td>No</td>\n",
       "    </tr>\n",
       "    <tr>\n",
       "      <th>3</th>\n",
       "      <td>TransactionId_380</td>\n",
       "      <td>BatchId_102363</td>\n",
       "      <td>AccountId_648</td>\n",
       "      <td>SubscriptionId_2185</td>\n",
       "      <td>CustomerId_988</td>\n",
       "      <td>ProviderId_1</td>\n",
       "      <td>ProductId_21</td>\n",
       "      <td>utility_bill</td>\n",
       "      <td>ChannelId_3</td>\n",
       "      <td>20000.0</td>\n",
       "      <td>...</td>\n",
       "      <td>20000.0</td>\n",
       "      <td>1.0</td>\n",
       "      <td>20000.0</td>\n",
       "      <td>20000.0</td>\n",
       "      <td>20000.0</td>\n",
       "      <td>1.0</td>\n",
       "      <td>3</td>\n",
       "      <td>1</td>\n",
       "      <td>Yes</td>\n",
       "      <td>No</td>\n",
       "    </tr>\n",
       "    <tr>\n",
       "      <th>4</th>\n",
       "      <td>TransactionId_28195</td>\n",
       "      <td>BatchId_38780</td>\n",
       "      <td>AccountId_4841</td>\n",
       "      <td>SubscriptionId_3829</td>\n",
       "      <td>CustomerId_988</td>\n",
       "      <td>ProviderId_4</td>\n",
       "      <td>ProductId_6</td>\n",
       "      <td>financial_services</td>\n",
       "      <td>ChannelId_2</td>\n",
       "      <td>-644.0</td>\n",
       "      <td>...</td>\n",
       "      <td>20000.0</td>\n",
       "      <td>2.0</td>\n",
       "      <td>9678.0</td>\n",
       "      <td>19356.0</td>\n",
       "      <td>20000.0</td>\n",
       "      <td>2.0</td>\n",
       "      <td>3</td>\n",
       "      <td>2</td>\n",
       "      <td>Yes</td>\n",
       "      <td>Yes</td>\n",
       "    </tr>\n",
       "  </tbody>\n",
       "</table>\n",
       "<p>5 rows × 129 columns</p>\n",
       "</div>"
      ],
      "text/plain": [
       "         TransactionId         BatchId       AccountId       SubscriptionId  \\\n",
       "0  TransactionId_76871   BatchId_36123  AccountId_3957   SubscriptionId_887   \n",
       "1  TransactionId_73770   BatchId_15642  AccountId_4841  SubscriptionId_3829   \n",
       "2  TransactionId_26203   BatchId_53941  AccountId_4229   SubscriptionId_222   \n",
       "3    TransactionId_380  BatchId_102363   AccountId_648  SubscriptionId_2185   \n",
       "4  TransactionId_28195   BatchId_38780  AccountId_4841  SubscriptionId_3829   \n",
       "\n",
       "        CustomerId    ProviderId     ProductId     ProductCategory  \\\n",
       "0  CustomerId_4406  ProviderId_6  ProductId_10             airtime   \n",
       "1  CustomerId_4406  ProviderId_4   ProductId_6  financial_services   \n",
       "2  CustomerId_4683  ProviderId_6   ProductId_1             airtime   \n",
       "3   CustomerId_988  ProviderId_1  ProductId_21        utility_bill   \n",
       "4   CustomerId_988  ProviderId_4   ProductId_6  financial_services   \n",
       "\n",
       "     ChannelId   Amount  ... max_amt_per_CustomerId_in_last_72hhrs  \\\n",
       "0  ChannelId_3   1000.0  ...                                1000.0   \n",
       "1  ChannelId_2    -20.0  ...                                1000.0   \n",
       "2  ChannelId_3    500.0  ...                                 500.0   \n",
       "3  ChannelId_3  20000.0  ...                               20000.0   \n",
       "4  ChannelId_2   -644.0  ...                               20000.0   \n",
       "\n",
       "   no_of_trans_per_CustomerId_in_last_72hhrs  \\\n",
       "0                                        1.0   \n",
       "1                                        2.0   \n",
       "2                                        1.0   \n",
       "3                                        1.0   \n",
       "4                                        2.0   \n",
       "\n",
       "   Avg_amt_per_CustomerId_in_last_168hhrs  \\\n",
       "0                                  1000.0   \n",
       "1                                   490.0   \n",
       "2                                   500.0   \n",
       "3                                 20000.0   \n",
       "4                                  9678.0   \n",
       "\n",
       "   sum_of_amt_per_CustomerId_in_last_168hhrs  \\\n",
       "0                                     1000.0   \n",
       "1                                      980.0   \n",
       "2                                      500.0   \n",
       "3                                    20000.0   \n",
       "4                                    19356.0   \n",
       "\n",
       "   max_amt_per_CustomerId_in_last_168hhrs  \\\n",
       "0                                  1000.0   \n",
       "1                                  1000.0   \n",
       "2                                   500.0   \n",
       "3                                 20000.0   \n",
       "4                                 20000.0   \n",
       "\n",
       "   no_of_trans_per_CustomerId_in_last_168hhrs  \\\n",
       "0                                         1.0   \n",
       "1                                         2.0   \n",
       "2                                         1.0   \n",
       "3                                         1.0   \n",
       "4                                         2.0   \n",
       "\n",
       "  No_of_unique_subscription_per_customer No_of_unique_subscription_per_acc  \\\n",
       "0                                      3                                 1   \n",
       "1                                      3                                 2   \n",
       "2                                      1                                 1   \n",
       "3                                      3                                 1   \n",
       "4                                      3                                 2   \n",
       "\n",
       "   Multiple_Sub_by_Customer Multiple_Sub_by_Acc  \n",
       "0                       Yes                  No  \n",
       "1                       Yes                 Yes  \n",
       "2                        No                  No  \n",
       "3                       Yes                  No  \n",
       "4                       Yes                 Yes  \n",
       "\n",
       "[5 rows x 129 columns]"
      ]
     },
     "execution_count": 3,
     "metadata": {},
     "output_type": "execute_result"
    }
   ],
   "source": [
    "train_data.head()"
   ]
  },
  {
   "cell_type": "code",
   "execution_count": 4,
   "metadata": {},
   "outputs": [
    {
     "data": {
      "text/html": [
       "<div>\n",
       "<style scoped>\n",
       "    .dataframe tbody tr th:only-of-type {\n",
       "        vertical-align: middle;\n",
       "    }\n",
       "\n",
       "    .dataframe tbody tr th {\n",
       "        vertical-align: top;\n",
       "    }\n",
       "\n",
       "    .dataframe thead th {\n",
       "        text-align: right;\n",
       "    }\n",
       "</style>\n",
       "<table border=\"1\" class=\"dataframe\">\n",
       "  <thead>\n",
       "    <tr style=\"text-align: right;\">\n",
       "      <th></th>\n",
       "      <th>TransactionId</th>\n",
       "      <th>BatchId</th>\n",
       "      <th>AccountId</th>\n",
       "      <th>SubscriptionId</th>\n",
       "      <th>CustomerId</th>\n",
       "      <th>ProviderId</th>\n",
       "      <th>ProductId</th>\n",
       "      <th>ProductCategory</th>\n",
       "      <th>ChannelId</th>\n",
       "      <th>Amount</th>\n",
       "      <th>...</th>\n",
       "      <th>max_amt_per_CustomerId_in_last_72hhrs</th>\n",
       "      <th>no_of_trans_per_CustomerId_in_last_72hhrs</th>\n",
       "      <th>Avg_amt_per_CustomerId_in_last_168hhrs</th>\n",
       "      <th>sum_of_amt_per_CustomerId_in_last_168hhrs</th>\n",
       "      <th>max_amt_per_CustomerId_in_last_168hhrs</th>\n",
       "      <th>no_of_trans_per_CustomerId_in_last_168hhrs</th>\n",
       "      <th>No_of_unique_subscription_per_customer</th>\n",
       "      <th>No_of_unique_subscription_per_acc</th>\n",
       "      <th>Multiple_Sub_by_Customer</th>\n",
       "      <th>Multiple_Sub_by_Acc</th>\n",
       "    </tr>\n",
       "  </thead>\n",
       "  <tbody>\n",
       "    <tr>\n",
       "      <th>0</th>\n",
       "      <td>TransactionId_50600</td>\n",
       "      <td>BatchId_35028</td>\n",
       "      <td>AccountId_2441</td>\n",
       "      <td>SubscriptionId_4426</td>\n",
       "      <td>CustomerId_2857</td>\n",
       "      <td>ProviderId_5</td>\n",
       "      <td>ProductId_3</td>\n",
       "      <td>airtime</td>\n",
       "      <td>ChannelId_3</td>\n",
       "      <td>1000.0</td>\n",
       "      <td>...</td>\n",
       "      <td>1000.0</td>\n",
       "      <td>1.0</td>\n",
       "      <td>1000.0</td>\n",
       "      <td>1000.0</td>\n",
       "      <td>1000.0</td>\n",
       "      <td>1.0</td>\n",
       "      <td>2</td>\n",
       "      <td>1</td>\n",
       "      <td>Yes</td>\n",
       "      <td>No</td>\n",
       "    </tr>\n",
       "    <tr>\n",
       "      <th>1</th>\n",
       "      <td>TransactionId_95109</td>\n",
       "      <td>BatchId_45139</td>\n",
       "      <td>AccountId_3439</td>\n",
       "      <td>SubscriptionId_2643</td>\n",
       "      <td>CustomerId_3874</td>\n",
       "      <td>ProviderId_5</td>\n",
       "      <td>ProductId_15</td>\n",
       "      <td>financial_services</td>\n",
       "      <td>ChannelId_3</td>\n",
       "      <td>2000.0</td>\n",
       "      <td>...</td>\n",
       "      <td>2000.0</td>\n",
       "      <td>1.0</td>\n",
       "      <td>2000.0</td>\n",
       "      <td>2000.0</td>\n",
       "      <td>2000.0</td>\n",
       "      <td>1.0</td>\n",
       "      <td>2</td>\n",
       "      <td>1</td>\n",
       "      <td>Yes</td>\n",
       "      <td>No</td>\n",
       "    </tr>\n",
       "    <tr>\n",
       "      <th>2</th>\n",
       "      <td>TransactionId_47357</td>\n",
       "      <td>BatchId_74887</td>\n",
       "      <td>AccountId_4841</td>\n",
       "      <td>SubscriptionId_3829</td>\n",
       "      <td>CustomerId_2857</td>\n",
       "      <td>ProviderId_4</td>\n",
       "      <td>ProductId_6</td>\n",
       "      <td>financial_services</td>\n",
       "      <td>ChannelId_2</td>\n",
       "      <td>-50.0</td>\n",
       "      <td>...</td>\n",
       "      <td>1000.0</td>\n",
       "      <td>2.0</td>\n",
       "      <td>475.0</td>\n",
       "      <td>950.0</td>\n",
       "      <td>1000.0</td>\n",
       "      <td>2.0</td>\n",
       "      <td>2</td>\n",
       "      <td>1</td>\n",
       "      <td>Yes</td>\n",
       "      <td>No</td>\n",
       "    </tr>\n",
       "    <tr>\n",
       "      <th>3</th>\n",
       "      <td>TransactionId_28185</td>\n",
       "      <td>BatchId_11025</td>\n",
       "      <td>AccountId_2685</td>\n",
       "      <td>SubscriptionId_4626</td>\n",
       "      <td>CustomerId_3105</td>\n",
       "      <td>ProviderId_5</td>\n",
       "      <td>ProductId_10</td>\n",
       "      <td>airtime</td>\n",
       "      <td>ChannelId_3</td>\n",
       "      <td>3000.0</td>\n",
       "      <td>...</td>\n",
       "      <td>3000.0</td>\n",
       "      <td>1.0</td>\n",
       "      <td>3000.0</td>\n",
       "      <td>3000.0</td>\n",
       "      <td>3000.0</td>\n",
       "      <td>1.0</td>\n",
       "      <td>2</td>\n",
       "      <td>1</td>\n",
       "      <td>Yes</td>\n",
       "      <td>No</td>\n",
       "    </tr>\n",
       "    <tr>\n",
       "      <th>4</th>\n",
       "      <td>TransactionId_22140</td>\n",
       "      <td>BatchId_29804</td>\n",
       "      <td>AccountId_4841</td>\n",
       "      <td>SubscriptionId_3829</td>\n",
       "      <td>CustomerId_3105</td>\n",
       "      <td>ProviderId_4</td>\n",
       "      <td>ProductId_6</td>\n",
       "      <td>financial_services</td>\n",
       "      <td>ChannelId_2</td>\n",
       "      <td>-60.0</td>\n",
       "      <td>...</td>\n",
       "      <td>3000.0</td>\n",
       "      <td>2.0</td>\n",
       "      <td>1470.0</td>\n",
       "      <td>2940.0</td>\n",
       "      <td>3000.0</td>\n",
       "      <td>2.0</td>\n",
       "      <td>2</td>\n",
       "      <td>1</td>\n",
       "      <td>Yes</td>\n",
       "      <td>No</td>\n",
       "    </tr>\n",
       "  </tbody>\n",
       "</table>\n",
       "<p>5 rows × 128 columns</p>\n",
       "</div>"
      ],
      "text/plain": [
       "         TransactionId        BatchId       AccountId       SubscriptionId  \\\n",
       "0  TransactionId_50600  BatchId_35028  AccountId_2441  SubscriptionId_4426   \n",
       "1  TransactionId_95109  BatchId_45139  AccountId_3439  SubscriptionId_2643   \n",
       "2  TransactionId_47357  BatchId_74887  AccountId_4841  SubscriptionId_3829   \n",
       "3  TransactionId_28185  BatchId_11025  AccountId_2685  SubscriptionId_4626   \n",
       "4  TransactionId_22140  BatchId_29804  AccountId_4841  SubscriptionId_3829   \n",
       "\n",
       "        CustomerId    ProviderId     ProductId     ProductCategory  \\\n",
       "0  CustomerId_2857  ProviderId_5   ProductId_3             airtime   \n",
       "1  CustomerId_3874  ProviderId_5  ProductId_15  financial_services   \n",
       "2  CustomerId_2857  ProviderId_4   ProductId_6  financial_services   \n",
       "3  CustomerId_3105  ProviderId_5  ProductId_10             airtime   \n",
       "4  CustomerId_3105  ProviderId_4   ProductId_6  financial_services   \n",
       "\n",
       "     ChannelId  Amount  ... max_amt_per_CustomerId_in_last_72hhrs  \\\n",
       "0  ChannelId_3  1000.0  ...                                1000.0   \n",
       "1  ChannelId_3  2000.0  ...                                2000.0   \n",
       "2  ChannelId_2   -50.0  ...                                1000.0   \n",
       "3  ChannelId_3  3000.0  ...                                3000.0   \n",
       "4  ChannelId_2   -60.0  ...                                3000.0   \n",
       "\n",
       "   no_of_trans_per_CustomerId_in_last_72hhrs  \\\n",
       "0                                        1.0   \n",
       "1                                        1.0   \n",
       "2                                        2.0   \n",
       "3                                        1.0   \n",
       "4                                        2.0   \n",
       "\n",
       "   Avg_amt_per_CustomerId_in_last_168hhrs  \\\n",
       "0                                  1000.0   \n",
       "1                                  2000.0   \n",
       "2                                   475.0   \n",
       "3                                  3000.0   \n",
       "4                                  1470.0   \n",
       "\n",
       "   sum_of_amt_per_CustomerId_in_last_168hhrs  \\\n",
       "0                                     1000.0   \n",
       "1                                     2000.0   \n",
       "2                                      950.0   \n",
       "3                                     3000.0   \n",
       "4                                     2940.0   \n",
       "\n",
       "   max_amt_per_CustomerId_in_last_168hhrs  \\\n",
       "0                                  1000.0   \n",
       "1                                  2000.0   \n",
       "2                                  1000.0   \n",
       "3                                  3000.0   \n",
       "4                                  3000.0   \n",
       "\n",
       "  no_of_trans_per_CustomerId_in_last_168hhrs  \\\n",
       "0                                        1.0   \n",
       "1                                        1.0   \n",
       "2                                        2.0   \n",
       "3                                        1.0   \n",
       "4                                        2.0   \n",
       "\n",
       "  No_of_unique_subscription_per_customer  No_of_unique_subscription_per_acc  \\\n",
       "0                                      2                                  1   \n",
       "1                                      2                                  1   \n",
       "2                                      2                                  1   \n",
       "3                                      2                                  1   \n",
       "4                                      2                                  1   \n",
       "\n",
       "  Multiple_Sub_by_Customer Multiple_Sub_by_Acc  \n",
       "0                      Yes                  No  \n",
       "1                      Yes                  No  \n",
       "2                      Yes                  No  \n",
       "3                      Yes                  No  \n",
       "4                      Yes                  No  \n",
       "\n",
       "[5 rows x 128 columns]"
      ]
     },
     "execution_count": 4,
     "metadata": {},
     "output_type": "execute_result"
    }
   ],
   "source": [
    "test_data.head()"
   ]
  },
  {
   "cell_type": "code",
   "execution_count": 5,
   "metadata": {},
   "outputs": [
    {
     "data": {
      "text/plain": [
       "(45019, 128)"
      ]
     },
     "execution_count": 5,
     "metadata": {},
     "output_type": "execute_result"
    }
   ],
   "source": [
    "test_data.shape"
   ]
  },
  {
   "cell_type": "code",
   "execution_count": 6,
   "metadata": {},
   "outputs": [
    {
     "data": {
      "text/plain": [
       "2565"
      ]
     },
     "execution_count": 6,
     "metadata": {},
     "output_type": "execute_result"
    }
   ],
   "source": [
    "train_data.shape[0] - train_data[train_data['ExtraCharges']==0].shape[0]"
   ]
  },
  {
   "cell_type": "code",
   "execution_count": 7,
   "metadata": {},
   "outputs": [
    {
     "data": {
      "text/plain": [
       "2    79848\n",
       "4    13562\n",
       "1     1867\n",
       "0      385\n",
       "Name: PricingStrategy, dtype: int64"
      ]
     },
     "execution_count": 7,
     "metadata": {},
     "output_type": "execute_result"
    }
   ],
   "source": [
    "train_data['PricingStrategy'].value_counts()"
   ]
  },
  {
   "cell_type": "code",
   "execution_count": 8,
   "metadata": {},
   "outputs": [],
   "source": [
    "train_data['PricingStrategy'] = train_data['PricingStrategy'].replace({0:1, 1:2, 2:3})\n",
    "test_data['PricingStrategy'] = test_data['PricingStrategy'].replace({0:1, 1:2, 2:3})"
   ]
  },
  {
   "cell_type": "code",
   "execution_count": 9,
   "metadata": {},
   "outputs": [],
   "source": [
    "train_data['Charges_per_Pricing'] = train_data['ExtraCharges']/train_data['PricingStrategy']\n",
    "test_data['Charges_per_Pricing'] = test_data['ExtraCharges']/test_data['PricingStrategy']"
   ]
  },
  {
   "cell_type": "code",
   "execution_count": 10,
   "metadata": {},
   "outputs": [
    {
     "data": {
      "text/plain": [
       "95662"
      ]
     },
     "execution_count": 10,
     "metadata": {},
     "output_type": "execute_result"
    }
   ],
   "source": [
    "train_data['Charges_per_Pricing'].value_counts().values.sum()"
   ]
  },
  {
   "cell_type": "code",
   "execution_count": 11,
   "metadata": {},
   "outputs": [
    {
     "data": {
      "text/plain": [
       "dtype('O')"
      ]
     },
     "execution_count": 11,
     "metadata": {},
     "output_type": "execute_result"
    }
   ],
   "source": [
    "train_data['Time'].dtype"
   ]
  },
  {
   "cell_type": "code",
   "execution_count": 12,
   "metadata": {},
   "outputs": [],
   "source": [
    "def time_in_seconds(time_series):\n",
    "    time = time_series.split(' ')[1].split(':')\n",
    "    hr, mn, sec = int(time[0]), int(time[1]), int(time[2])\n",
    "    return hr*3600 + mn*60 + sec\n",
    "\n",
    "train_data['Time_in_Secs'] = train_data['Time'].map(time_in_seconds)\n",
    "test_data['Time_in_Secs'] = test_data['Time'].map(time_in_seconds)"
   ]
  },
  {
   "cell_type": "code",
   "execution_count": 13,
   "metadata": {},
   "outputs": [],
   "source": [
    "train_data['Time'] = pd.to_datetime(train_data['Time'])\n",
    "test_data['Time'] = pd.to_datetime(test_data['Time'])"
   ]
  },
  {
   "cell_type": "code",
   "execution_count": 14,
   "metadata": {},
   "outputs": [
    {
     "name": "stderr",
     "output_type": "stream",
     "text": [
      "C:\\Users\\USER\\AppData\\Local\\Continuum\\anaconda3\\lib\\site-packages\\pandas\\plotting\\_converter.py:129: FutureWarning: Using an implicitly registered datetime converter for a matplotlib plotting method. The converter was registered by pandas on import. Future versions of pandas will require you to explicitly register matplotlib converters.\n",
      "\n",
      "To register the converters:\n",
      "\t>>> from pandas.plotting import register_matplotlib_converters\n",
      "\t>>> register_matplotlib_converters()\n",
      "  warnings.warn(msg, FutureWarning)\n"
     ]
    },
    {
     "data": {
      "image/png": "[encoded data removed]",
      "text/plain": [
       "<Figure size 1296x576 with 1 Axes>"
      ]
     },
     "metadata": {
      "needs_background": "light"
     },
     "output_type": "display_data"
    }
   ],
   "source": [
    "fig = plt.figure(figsize=(18, 8))\n",
    "plt.hist(train_data['Time'], label='train');\n",
    "plt.hist(test_data['Time'], label='test');\n",
    "plt.legend();\n",
    "plt.title('Distribution of transactiond dates');"
   ]
  },
  {
   "cell_type": "code",
   "execution_count": 15,
   "metadata": {},
   "outputs": [],
   "source": [
    "#train_data.corrwith(train_data['FraudResult']).sort_values(ascending=False)"
   ]
  },
  {
   "cell_type": "code",
   "execution_count": 15,
   "metadata": {},
   "outputs": [
    {
     "data": {
      "text/plain": [
       "Index(['TransactionId', 'BatchId', 'AccountId', 'SubscriptionId', 'CustomerId',\n",
       "       'ProviderId', 'ProductId', 'ProductCategory', 'ChannelId', 'Amount',\n",
       "       'TransactionStartTime', 'PricingStrategy', 'FraudResult',\n",
       "       'No. Customers per Acc', 'ExtraCharges', 'Year'],\n",
       "      dtype='object')"
      ]
     },
     "execution_count": 15,
     "metadata": {},
     "output_type": "execute_result"
    }
   ],
   "source": [
    "train_data.columns[:16]"
   ]
  },
  {
   "cell_type": "code",
   "execution_count": 16,
   "metadata": {},
   "outputs": [],
   "source": [
    "train_data['Amount_to_mean_CustomerId'] = train_data['Amount']/train_data.groupby('CustomerId')['Amount'].transform('mean')\n",
    "train_data['Amount_to_std_CustomerId'] = train_data['Amount']/train_data.groupby('CustomerId')['Amount'].transform('std')\n",
    "\n",
    "train_data['Amount_to_mean_ProviderId'] = train_data['Amount']/train_data.groupby('ProviderId')['Amount'].transform('mean')\n",
    "train_data['Amount_to_std_ProviderId'] = train_data['Amount']/train_data.groupby('ProviderId')['Amount'].transform('std')\n",
    "\n",
    "train_data['Amount_to_mean_PricingStrategy'] = train_data['Amount']/train_data.groupby('PricingStrategy')['Amount'].transform('mean')\n",
    "train_data['Amount_to_std_PricingStrategy'] = train_data['Amount']/train_data.groupby('PricingStrategy')['Amount'].transform('std')\n",
    "\n",
    "train_data['Amount_to_mean_ProductCategory'] = train_data['Amount']/train_data.groupby('ProductCategory')['Amount'].transform('mean')\n",
    "train_data['Amount_to_std_PoductCategory'] = train_data['Amount']/train_data.groupby('ProductCategory')['Amount'].transform('std')\n",
    "\n",
    "train_data['Amount_to_mean_ChannelId'] = train_data['Amount']/train_data.groupby('ChannelId')['Amount'].transform('mean')\n",
    "train_data['Amount_to_std_ChannelId'] = train_data['Amount']/train_data.groupby('ChannelId')['Amount'].transform('std')\n",
    "\n",
    "train_data['Amount_to_mean_ProductId'] = train_data['Amount']/train_data.groupby('ProductId')['Amount'].transform('mean')\n",
    "train_data['Amount_to_std_ProductId'] = train_data['Amount']/train_data.groupby('ProductId')['Amount'].transform('std')"
   ]
  },
  {
   "cell_type": "code",
   "execution_count": 17,
   "metadata": {},
   "outputs": [],
   "source": [
    "test_data['Amount_to_mean_CustomerId'] = test_data['Amount']/test_data.groupby('CustomerId')['Amount'].transform('mean')\n",
    "test_data['Amount_to_std_CustomerId'] = test_data['Amount']/test_data.groupby('CustomerId')['Amount'].transform('std')\n",
    "\n",
    "test_data['Amount_to_mean_ProviderId'] = test_data['Amount']/test_data.groupby('ProviderId')['Amount'].transform('mean')\n",
    "test_data['Amount_to_std_ProviderId'] = test_data['Amount']/test_data.groupby('ProviderId')['Amount'].transform('std')\n",
    "\n",
    "test_data['Amount_to_mean_PricingStrategy'] = test_data['Amount']/test_data.groupby('PricingStrategy')['Amount'].transform('mean')\n",
    "test_data['Amount_to_std_PricingStrategy'] = test_data['Amount']/test_data.groupby('PricingStrategy')['Amount'].transform('std')\n",
    "\n",
    "test_data['Amount_to_mean_ProductCategory'] = test_data['Amount']/test_data.groupby('ProductCategory')['Amount'].transform('mean')\n",
    "test_data['Amount_to_std_PoductCategory'] = test_data['Amount']/test_data.groupby('ProductCategory')['Amount'].transform('std')\n",
    "\n",
    "test_data['Amount_to_mean_ChannelId'] = test_data['Amount']/test_data.groupby('ChannelId')['Amount'].transform('mean')\n",
    "test_data['Amount_to_std_ChannelId'] = test_data['Amount']/test_data.groupby('ChannelId')['Amount'].transform('std')\n",
    "\n",
    "test_data['Amount_to_mean_ProductId'] = test_data['Amount']/test_data.groupby('ProductId')['Amount'].transform('mean')\n",
    "test_data['Amount_to_std_ProductId'] = test_data['Amount']/test_data.groupby('ProductId')['Amount'].transform('std')"
   ]
  },
  {
   "cell_type": "code",
   "execution_count": 18,
   "metadata": {},
   "outputs": [
    {
     "data": {
      "text/plain": [
       "(45019, 142)"
      ]
     },
     "execution_count": 18,
     "metadata": {},
     "output_type": "execute_result"
    }
   ],
   "source": [
    "test_data.shape"
   ]
  },
  {
   "cell_type": "code",
   "execution_count": null,
   "metadata": {},
   "outputs": [],
   "source": []
  },
  {
   "cell_type": "code",
   "execution_count": 19,
   "metadata": {},
   "outputs": [
    {
     "data": {
      "text/plain": [
       "Index(['TransactionId', 'BatchId', 'AccountId', 'SubscriptionId', 'CustomerId',\n",
       "       'ProviderId', 'ProductId', 'ProductCategory', 'ChannelId',\n",
       "       'TransactionStartTime', 'Month', 'Weekday', 'Weekday/Weekend',\n",
       "       'Holiday', 'Past_one_Week', 'Form', 'Date', 'Suspicious',\n",
       "       'Multiple_Sub_by_Customer', 'Multiple_Sub_by_Acc'],\n",
       "      dtype='object')"
      ]
     },
     "execution_count": 19,
     "metadata": {},
     "output_type": "execute_result"
    }
   ],
   "source": [
    "train_data.select_dtypes(include='object').columns"
   ]
  },
  {
   "cell_type": "code",
   "execution_count": 20,
   "metadata": {},
   "outputs": [],
   "source": [
    "train_data.drop(['TransactionId', 'BatchId', 'AccountId', 'SubscriptionId', 'CustomerId', \n",
    "                 'TransactionStartTime', 'Past_one_Week', 'Date'], \n",
    "                axis=1, inplace=True\n",
    "               )\n",
    "\n",
    "testTransId = test_data['TransactionId']\n",
    "test_data.drop(['TransactionId', 'BatchId', 'AccountId', 'SubscriptionId', 'CustomerId', \n",
    "                 'TransactionStartTime', 'Past_one_Week', 'Date'], \n",
    "                axis=1, inplace=True\n",
    "               )"
   ]
  },
  {
   "cell_type": "code",
   "execution_count": 21,
   "metadata": {},
   "outputs": [
    {
     "data": {
      "text/plain": [
       "Index(['FraudResult', 'No. Customers per Acc', 'ExtraCharges', 'Year', 'Hour',\n",
       "       'Days_to_Nearest_Holiday', 'Time', 'Prev_Amt', 'Time_since_last_trans',\n",
       "       'Avg_amt_per_ProviderId_in_last_12hhrs',\n",
       "       ...\n",
       "       'Amount_to_mean_ProviderId', 'Amount_to_std_ProviderId',\n",
       "       'Amount_to_mean_PricingStrategy', 'Amount_to_std_PricingStrategy',\n",
       "       'Amount_to_mean_ProductCategory', 'Amount_to_std_PoductCategory',\n",
       "       'Amount_to_mean_ChannelId', 'Amount_to_std_ChannelId',\n",
       "       'Amount_to_mean_ProductId', 'Amount_to_std_ProductId'],\n",
       "      dtype='object', length=121)"
      ]
     },
     "execution_count": 21,
     "metadata": {},
     "output_type": "execute_result"
    }
   ],
   "source": [
    "train_data.select_dtypes(exclude='object').columns[2:]"
   ]
  },
  {
   "cell_type": "code",
   "execution_count": 22,
   "metadata": {},
   "outputs": [],
   "source": [
    "train_data.drop('Time', axis=1, inplace=True)\n",
    "test_data.drop('Time', axis=1, inplace=True)"
   ]
  },
  {
   "cell_type": "code",
   "execution_count": 23,
   "metadata": {},
   "outputs": [],
   "source": [
    "cat_columns = ['Year', 'Hour']\n",
    "\n",
    "for col in cat_columns:\n",
    "    train_data[col] = train_data[col].astype(str)\n",
    "    test_data[col] = test_data[col].astype(str)"
   ]
  },
  {
   "cell_type": "code",
   "execution_count": 24,
   "metadata": {},
   "outputs": [],
   "source": [
    "#train_data['Year'].dtype\n",
    "#train_data['Hour'].dtype"
   ]
  },
  {
   "cell_type": "code",
   "execution_count": null,
   "metadata": {},
   "outputs": [],
   "source": []
  },
  {
   "cell_type": "code",
   "execution_count": 25,
   "metadata": {},
   "outputs": [
    {
     "name": "stderr",
     "output_type": "stream",
     "text": [
      "C:\\Users\\USER\\AppData\\Local\\Continuum\\anaconda3\\lib\\site-packages\\ipykernel_launcher.py:9: SettingWithCopyWarning: \n",
      "A value is trying to be set on a copy of a slice from a DataFrame.\n",
      "Try using .loc[row_indexer,col_indexer] = value instead\n",
      "\n",
      "See the caveats in the documentation: http://pandas.pydata.org/pandas-docs/stable/indexing.html#indexing-view-versus-copy\n",
      "  if __name__ == '__main__':\n",
      "C:\\Users\\USER\\AppData\\Local\\Continuum\\anaconda3\\lib\\site-packages\\ipykernel_launcher.py:10: SettingWithCopyWarning: \n",
      "A value is trying to be set on a copy of a slice from a DataFrame.\n",
      "Try using .loc[row_indexer,col_indexer] = value instead\n",
      "\n",
      "See the caveats in the documentation: http://pandas.pydata.org/pandas-docs/stable/indexing.html#indexing-view-versus-copy\n",
      "  # Remove the CWD from sys.path while we load stuff.\n"
     ]
    }
   ],
   "source": [
    "fraudResult = train_data['FraudResult']\n",
    "\n",
    "train_num = train_data.drop('FraudResult', axis=1).select_dtypes(exclude='object')\n",
    "test_num = test_data.select_dtypes(exclude='object')\n",
    "\n",
    "train_cat = train_data.select_dtypes(include='object')\n",
    "test_cat = test_data.select_dtypes(include='object')\n",
    "\n",
    "train_cat['label'] = 1\n",
    "test_cat['label'] = 0"
   ]
  },
  {
   "cell_type": "code",
   "execution_count": 26,
   "metadata": {},
   "outputs": [],
   "source": [
    "combined = pd.concat([train_cat, test_cat], axis=0)#.reset_index(drop=True)"
   ]
  },
  {
   "cell_type": "code",
   "execution_count": 27,
   "metadata": {},
   "outputs": [
    {
     "data": {
      "text/plain": [
       "Index(['ProviderId', 'ProductId', 'ProductCategory', 'ChannelId', 'Year',\n",
       "       'Month', 'Weekday', 'Hour', 'Weekday/Weekend', 'Holiday', 'Form',\n",
       "       'Suspicious', 'Multiple_Sub_by_Customer', 'Multiple_Sub_by_Acc',\n",
       "       'label'],\n",
       "      dtype='object')"
      ]
     },
     "execution_count": 27,
     "metadata": {},
     "output_type": "execute_result"
    }
   ],
   "source": [
    "combined.columns#[:-1]"
   ]
  },
  {
   "cell_type": "code",
   "execution_count": 28,
   "metadata": {},
   "outputs": [],
   "source": [
    "combined = pd.get_dummies(combined, columns=combined.columns[:-1], drop_first=True)\n",
    "\n",
    "train_cat = combined[combined['label']==1]\n",
    "test_cat = combined[combined['label']==0]"
   ]
  },
  {
   "cell_type": "code",
   "execution_count": 29,
   "metadata": {},
   "outputs": [
    {
     "name": "stderr",
     "output_type": "stream",
     "text": [
      "C:\\Users\\USER\\AppData\\Local\\Continuum\\anaconda3\\lib\\site-packages\\pandas\\core\\frame.py:3940: SettingWithCopyWarning: \n",
      "A value is trying to be set on a copy of a slice from a DataFrame\n",
      "\n",
      "See the caveats in the documentation: http://pandas.pydata.org/pandas-docs/stable/indexing.html#indexing-view-versus-copy\n",
      "  errors=errors)\n"
     ]
    }
   ],
   "source": [
    "train_cat.drop('label', axis=1, inplace=True)\n",
    "test_cat.drop('label', axis=1, inplace=True)"
   ]
  },
  {
   "cell_type": "code",
   "execution_count": 30,
   "metadata": {},
   "outputs": [],
   "source": [
    "train_data = pd.concat([train_num, train_cat, fraudResult], axis=1)\n",
    "test_data = pd.concat([test_num, test_cat], axis=1)"
   ]
  },
  {
   "cell_type": "code",
   "execution_count": 31,
   "metadata": {},
   "outputs": [
    {
     "data": {
      "text/plain": [
       "(95662, 205)"
      ]
     },
     "execution_count": 31,
     "metadata": {},
     "output_type": "execute_result"
    }
   ],
   "source": [
    "train_data.shape"
   ]
  },
  {
   "cell_type": "code",
   "execution_count": 32,
   "metadata": {},
   "outputs": [
    {
     "data": {
      "text/plain": [
       "(45019, 204)"
      ]
     },
     "execution_count": 32,
     "metadata": {},
     "output_type": "execute_result"
    }
   ],
   "source": [
    "test_data.shape"
   ]
  },
  {
   "cell_type": "code",
   "execution_count": null,
   "metadata": {},
   "outputs": [],
   "source": []
  },
  {
   "cell_type": "code",
   "execution_count": 33,
   "metadata": {},
   "outputs": [
    {
     "data": {
      "text/html": [
       "<div>\n",
       "<style scoped>\n",
       "    .dataframe tbody tr th:only-of-type {\n",
       "        vertical-align: middle;\n",
       "    }\n",
       "\n",
       "    .dataframe tbody tr th {\n",
       "        vertical-align: top;\n",
       "    }\n",
       "\n",
       "    .dataframe thead th {\n",
       "        text-align: right;\n",
       "    }\n",
       "</style>\n",
       "<table border=\"1\" class=\"dataframe\">\n",
       "  <thead>\n",
       "    <tr style=\"text-align: right;\">\n",
       "      <th></th>\n",
       "      <th>Amount</th>\n",
       "      <th>PricingStrategy</th>\n",
       "      <th>No. Customers per Acc</th>\n",
       "      <th>ExtraCharges</th>\n",
       "      <th>Days_to_Nearest_Holiday</th>\n",
       "      <th>Prev_Amt</th>\n",
       "      <th>Time_since_last_trans</th>\n",
       "      <th>Avg_amt_per_ProviderId_in_last_12hhrs</th>\n",
       "      <th>sum_of_amt_per_ProviderId_in_last_12hhrs</th>\n",
       "      <th>max_amt_per_ProviderId_in_last_12hhrs</th>\n",
       "      <th>...</th>\n",
       "      <th>Hour_8</th>\n",
       "      <th>Hour_9</th>\n",
       "      <th>Weekday/Weekend_Weekend</th>\n",
       "      <th>Holiday_Yes</th>\n",
       "      <th>Form_Debit</th>\n",
       "      <th>Suspicious_Suspicious</th>\n",
       "      <th>Suspicious_Very Suspicious</th>\n",
       "      <th>Multiple_Sub_by_Customer_Yes</th>\n",
       "      <th>Multiple_Sub_by_Acc_Yes</th>\n",
       "      <th>FraudResult</th>\n",
       "    </tr>\n",
       "  </thead>\n",
       "  <tbody>\n",
       "    <tr>\n",
       "      <th>Amount</th>\n",
       "      <td>1.000000</td>\n",
       "      <td>0.079827</td>\n",
       "      <td>0.047126</td>\n",
       "      <td>0.058267</td>\n",
       "      <td>0.008470</td>\n",
       "      <td>0.604833</td>\n",
       "      <td>0.005617</td>\n",
       "      <td>0.865534</td>\n",
       "      <td>0.094858</td>\n",
       "      <td>0.782587</td>\n",
       "      <td>...</td>\n",
       "      <td>0.003051</td>\n",
       "      <td>0.000527</td>\n",
       "      <td>0.007120</td>\n",
       "      <td>0.003995</td>\n",
       "      <td>0.070403</td>\n",
       "      <td>NaN</td>\n",
       "      <td>0.808368</td>\n",
       "      <td>0.008629</td>\n",
       "      <td>0.042657</td>\n",
       "      <td>0.557370</td>\n",
       "    </tr>\n",
       "    <tr>\n",
       "      <th>PricingStrategy</th>\n",
       "      <td>0.079827</td>\n",
       "      <td>1.000000</td>\n",
       "      <td>0.172140</td>\n",
       "      <td>0.061111</td>\n",
       "      <td>0.057595</td>\n",
       "      <td>0.081672</td>\n",
       "      <td>0.077194</td>\n",
       "      <td>0.093298</td>\n",
       "      <td>0.404228</td>\n",
       "      <td>0.079076</td>\n",
       "      <td>...</td>\n",
       "      <td>0.026495</td>\n",
       "      <td>0.020550</td>\n",
       "      <td>0.042521</td>\n",
       "      <td>0.019963</td>\n",
       "      <td>0.049213</td>\n",
       "      <td>NaN</td>\n",
       "      <td>0.033242</td>\n",
       "      <td>0.406823</td>\n",
       "      <td>0.200626</td>\n",
       "      <td>0.051744</td>\n",
       "    </tr>\n",
       "    <tr>\n",
       "      <th>No. Customers per Acc</th>\n",
       "      <td>0.047126</td>\n",
       "      <td>0.172140</td>\n",
       "      <td>1.000000</td>\n",
       "      <td>0.061586</td>\n",
       "      <td>0.010920</td>\n",
       "      <td>0.014213</td>\n",
       "      <td>0.159118</td>\n",
       "      <td>0.054099</td>\n",
       "      <td>0.071113</td>\n",
       "      <td>0.056532</td>\n",
       "      <td>...</td>\n",
       "      <td>0.004438</td>\n",
       "      <td>0.007766</td>\n",
       "      <td>0.008466</td>\n",
       "      <td>0.011889</td>\n",
       "      <td>0.875779</td>\n",
       "      <td>NaN</td>\n",
       "      <td>0.014857</td>\n",
       "      <td>0.132607</td>\n",
       "      <td>0.997853</td>\n",
       "      <td>0.031484</td>\n",
       "    </tr>\n",
       "    <tr>\n",
       "      <th>ExtraCharges</th>\n",
       "      <td>0.058267</td>\n",
       "      <td>0.061111</td>\n",
       "      <td>0.061586</td>\n",
       "      <td>1.000000</td>\n",
       "      <td>0.004555</td>\n",
       "      <td>0.030751</td>\n",
       "      <td>0.022585</td>\n",
       "      <td>0.063181</td>\n",
       "      <td>0.017898</td>\n",
       "      <td>0.037489</td>\n",
       "      <td>...</td>\n",
       "      <td>0.000654</td>\n",
       "      <td>0.000591</td>\n",
       "      <td>0.001178</td>\n",
       "      <td>0.003855</td>\n",
       "      <td>0.078653</td>\n",
       "      <td>NaN</td>\n",
       "      <td>0.001761</td>\n",
       "      <td>0.017629</td>\n",
       "      <td>0.058749</td>\n",
       "      <td>0.158483</td>\n",
       "    </tr>\n",
       "    <tr>\n",
       "      <th>Days_to_Nearest_Holiday</th>\n",
       "      <td>0.008470</td>\n",
       "      <td>0.057595</td>\n",
       "      <td>0.010920</td>\n",
       "      <td>0.004555</td>\n",
       "      <td>1.000000</td>\n",
       "      <td>0.009223</td>\n",
       "      <td>0.038816</td>\n",
       "      <td>0.009599</td>\n",
       "      <td>0.114577</td>\n",
       "      <td>0.001390</td>\n",
       "      <td>...</td>\n",
       "      <td>0.004454</td>\n",
       "      <td>0.013679</td>\n",
       "      <td>0.019099</td>\n",
       "      <td>0.246195</td>\n",
       "      <td>0.027843</td>\n",
       "      <td>NaN</td>\n",
       "      <td>0.000318</td>\n",
       "      <td>0.131061</td>\n",
       "      <td>0.017847</td>\n",
       "      <td>0.004631</td>\n",
       "    </tr>\n",
       "  </tbody>\n",
       "</table>\n",
       "<p>5 rows × 205 columns</p>\n",
       "</div>"
      ],
      "text/plain": [
       "                           Amount  PricingStrategy  No. Customers per Acc  \\\n",
       "Amount                   1.000000         0.079827               0.047126   \n",
       "PricingStrategy          0.079827         1.000000               0.172140   \n",
       "No. Customers per Acc    0.047126         0.172140               1.000000   \n",
       "ExtraCharges             0.058267         0.061111               0.061586   \n",
       "Days_to_Nearest_Holiday  0.008470         0.057595               0.010920   \n",
       "\n",
       "                         ExtraCharges  Days_to_Nearest_Holiday  Prev_Amt  \\\n",
       "Amount                       0.058267                 0.008470  0.604833   \n",
       "PricingStrategy              0.061111                 0.057595  0.081672   \n",
       "No. Customers per Acc        0.061586                 0.010920  0.014213   \n",
       "ExtraCharges                 1.000000                 0.004555  0.030751   \n",
       "Days_to_Nearest_Holiday      0.004555                 1.000000  0.009223   \n",
       "\n",
       "                         Time_since_last_trans  \\\n",
       "Amount                                0.005617   \n",
       "PricingStrategy                       0.077194   \n",
       "No. Customers per Acc                 0.159118   \n",
       "ExtraCharges                          0.022585   \n",
       "Days_to_Nearest_Holiday               0.038816   \n",
       "\n",
       "                         Avg_amt_per_ProviderId_in_last_12hhrs  \\\n",
       "Amount                                                0.865534   \n",
       "PricingStrategy                                       0.093298   \n",
       "No. Customers per Acc                                 0.054099   \n",
       "ExtraCharges                                          0.063181   \n",
       "Days_to_Nearest_Holiday                               0.009599   \n",
       "\n",
       "                         sum_of_amt_per_ProviderId_in_last_12hhrs  \\\n",
       "Amount                                                   0.094858   \n",
       "PricingStrategy                                          0.404228   \n",
       "No. Customers per Acc                                    0.071113   \n",
       "ExtraCharges                                             0.017898   \n",
       "Days_to_Nearest_Holiday                                  0.114577   \n",
       "\n",
       "                         max_amt_per_ProviderId_in_last_12hhrs  ...    Hour_8  \\\n",
       "Amount                                                0.782587  ...  0.003051   \n",
       "PricingStrategy                                       0.079076  ...  0.026495   \n",
       "No. Customers per Acc                                 0.056532  ...  0.004438   \n",
       "ExtraCharges                                          0.037489  ...  0.000654   \n",
       "Days_to_Nearest_Holiday                               0.001390  ...  0.004454   \n",
       "\n",
       "                           Hour_9  Weekday/Weekend_Weekend  Holiday_Yes  \\\n",
       "Amount                   0.000527                 0.007120     0.003995   \n",
       "PricingStrategy          0.020550                 0.042521     0.019963   \n",
       "No. Customers per Acc    0.007766                 0.008466     0.011889   \n",
       "ExtraCharges             0.000591                 0.001178     0.003855   \n",
       "Days_to_Nearest_Holiday  0.013679                 0.019099     0.246195   \n",
       "\n",
       "                         Form_Debit  Suspicious_Suspicious  \\\n",
       "Amount                     0.070403                    NaN   \n",
       "PricingStrategy            0.049213                    NaN   \n",
       "No. Customers per Acc      0.875779                    NaN   \n",
       "ExtraCharges               0.078653                    NaN   \n",
       "Days_to_Nearest_Holiday    0.027843                    NaN   \n",
       "\n",
       "                         Suspicious_Very Suspicious  \\\n",
       "Amount                                     0.808368   \n",
       "PricingStrategy                            0.033242   \n",
       "No. Customers per Acc                      0.014857   \n",
       "ExtraCharges                               0.001761   \n",
       "Days_to_Nearest_Holiday                    0.000318   \n",
       "\n",
       "                         Multiple_Sub_by_Customer_Yes  \\\n",
       "Amount                                       0.008629   \n",
       "PricingStrategy                              0.406823   \n",
       "No. Customers per Acc                        0.132607   \n",
       "ExtraCharges                                 0.017629   \n",
       "Days_to_Nearest_Holiday                      0.131061   \n",
       "\n",
       "                         Multiple_Sub_by_Acc_Yes  FraudResult  \n",
       "Amount                                  0.042657     0.557370  \n",
       "PricingStrategy                         0.200626     0.051744  \n",
       "No. Customers per Acc                   0.997853     0.031484  \n",
       "ExtraCharges                            0.058749     0.158483  \n",
       "Days_to_Nearest_Holiday                 0.017847     0.004631  \n",
       "\n",
       "[5 rows x 205 columns]"
      ]
     },
     "execution_count": 33,
     "metadata": {},
     "output_type": "execute_result"
    }
   ],
   "source": [
    "threshold = 0.9\n",
    "\n",
    "# Absolute value correlation matrix\n",
    "corr_matrix = train_data.corr().abs()\n",
    "corr_matrix.head()"
   ]
  },
  {
   "cell_type": "code",
   "execution_count": 34,
   "metadata": {},
   "outputs": [
    {
     "data": {
      "text/html": [
       "<div>\n",
       "<style scoped>\n",
       "    .dataframe tbody tr th:only-of-type {\n",
       "        vertical-align: middle;\n",
       "    }\n",
       "\n",
       "    .dataframe tbody tr th {\n",
       "        vertical-align: top;\n",
       "    }\n",
       "\n",
       "    .dataframe thead th {\n",
       "        text-align: right;\n",
       "    }\n",
       "</style>\n",
       "<table border=\"1\" class=\"dataframe\">\n",
       "  <thead>\n",
       "    <tr style=\"text-align: right;\">\n",
       "      <th></th>\n",
       "      <th>Amount</th>\n",
       "      <th>PricingStrategy</th>\n",
       "      <th>No. Customers per Acc</th>\n",
       "      <th>ExtraCharges</th>\n",
       "      <th>Days_to_Nearest_Holiday</th>\n",
       "      <th>Prev_Amt</th>\n",
       "      <th>Time_since_last_trans</th>\n",
       "      <th>Avg_amt_per_ProviderId_in_last_12hhrs</th>\n",
       "      <th>sum_of_amt_per_ProviderId_in_last_12hhrs</th>\n",
       "      <th>max_amt_per_ProviderId_in_last_12hhrs</th>\n",
       "      <th>...</th>\n",
       "      <th>Hour_8</th>\n",
       "      <th>Hour_9</th>\n",
       "      <th>Weekday/Weekend_Weekend</th>\n",
       "      <th>Holiday_Yes</th>\n",
       "      <th>Form_Debit</th>\n",
       "      <th>Suspicious_Suspicious</th>\n",
       "      <th>Suspicious_Very Suspicious</th>\n",
       "      <th>Multiple_Sub_by_Customer_Yes</th>\n",
       "      <th>Multiple_Sub_by_Acc_Yes</th>\n",
       "      <th>FraudResult</th>\n",
       "    </tr>\n",
       "  </thead>\n",
       "  <tbody>\n",
       "    <tr>\n",
       "      <th>Amount</th>\n",
       "      <td>NaN</td>\n",
       "      <td>0.079827</td>\n",
       "      <td>0.047126</td>\n",
       "      <td>0.058267</td>\n",
       "      <td>0.008470</td>\n",
       "      <td>0.604833</td>\n",
       "      <td>0.005617</td>\n",
       "      <td>0.865534</td>\n",
       "      <td>0.094858</td>\n",
       "      <td>0.782587</td>\n",
       "      <td>...</td>\n",
       "      <td>0.003051</td>\n",
       "      <td>0.000527</td>\n",
       "      <td>0.007120</td>\n",
       "      <td>0.003995</td>\n",
       "      <td>0.070403</td>\n",
       "      <td>NaN</td>\n",
       "      <td>0.808368</td>\n",
       "      <td>0.008629</td>\n",
       "      <td>0.042657</td>\n",
       "      <td>0.557370</td>\n",
       "    </tr>\n",
       "    <tr>\n",
       "      <th>PricingStrategy</th>\n",
       "      <td>NaN</td>\n",
       "      <td>NaN</td>\n",
       "      <td>0.172140</td>\n",
       "      <td>0.061111</td>\n",
       "      <td>0.057595</td>\n",
       "      <td>0.081672</td>\n",
       "      <td>0.077194</td>\n",
       "      <td>0.093298</td>\n",
       "      <td>0.404228</td>\n",
       "      <td>0.079076</td>\n",
       "      <td>...</td>\n",
       "      <td>0.026495</td>\n",
       "      <td>0.020550</td>\n",
       "      <td>0.042521</td>\n",
       "      <td>0.019963</td>\n",
       "      <td>0.049213</td>\n",
       "      <td>NaN</td>\n",
       "      <td>0.033242</td>\n",
       "      <td>0.406823</td>\n",
       "      <td>0.200626</td>\n",
       "      <td>0.051744</td>\n",
       "    </tr>\n",
       "    <tr>\n",
       "      <th>No. Customers per Acc</th>\n",
       "      <td>NaN</td>\n",
       "      <td>NaN</td>\n",
       "      <td>NaN</td>\n",
       "      <td>0.061586</td>\n",
       "      <td>0.010920</td>\n",
       "      <td>0.014213</td>\n",
       "      <td>0.159118</td>\n",
       "      <td>0.054099</td>\n",
       "      <td>0.071113</td>\n",
       "      <td>0.056532</td>\n",
       "      <td>...</td>\n",
       "      <td>0.004438</td>\n",
       "      <td>0.007766</td>\n",
       "      <td>0.008466</td>\n",
       "      <td>0.011889</td>\n",
       "      <td>0.875779</td>\n",
       "      <td>NaN</td>\n",
       "      <td>0.014857</td>\n",
       "      <td>0.132607</td>\n",
       "      <td>0.997853</td>\n",
       "      <td>0.031484</td>\n",
       "    </tr>\n",
       "    <tr>\n",
       "      <th>ExtraCharges</th>\n",
       "      <td>NaN</td>\n",
       "      <td>NaN</td>\n",
       "      <td>NaN</td>\n",
       "      <td>NaN</td>\n",
       "      <td>0.004555</td>\n",
       "      <td>0.030751</td>\n",
       "      <td>0.022585</td>\n",
       "      <td>0.063181</td>\n",
       "      <td>0.017898</td>\n",
       "      <td>0.037489</td>\n",
       "      <td>...</td>\n",
       "      <td>0.000654</td>\n",
       "      <td>0.000591</td>\n",
       "      <td>0.001178</td>\n",
       "      <td>0.003855</td>\n",
       "      <td>0.078653</td>\n",
       "      <td>NaN</td>\n",
       "      <td>0.001761</td>\n",
       "      <td>0.017629</td>\n",
       "      <td>0.058749</td>\n",
       "      <td>0.158483</td>\n",
       "    </tr>\n",
       "    <tr>\n",
       "      <th>Days_to_Nearest_Holiday</th>\n",
       "      <td>NaN</td>\n",
       "      <td>NaN</td>\n",
       "      <td>NaN</td>\n",
       "      <td>NaN</td>\n",
       "      <td>NaN</td>\n",
       "      <td>0.009223</td>\n",
       "      <td>0.038816</td>\n",
       "      <td>0.009599</td>\n",
       "      <td>0.114577</td>\n",
       "      <td>0.001390</td>\n",
       "      <td>...</td>\n",
       "      <td>0.004454</td>\n",
       "      <td>0.013679</td>\n",
       "      <td>0.019099</td>\n",
       "      <td>0.246195</td>\n",
       "      <td>0.027843</td>\n",
       "      <td>NaN</td>\n",
       "      <td>0.000318</td>\n",
       "      <td>0.131061</td>\n",
       "      <td>0.017847</td>\n",
       "      <td>0.004631</td>\n",
       "    </tr>\n",
       "  </tbody>\n",
       "</table>\n",
       "<p>5 rows × 205 columns</p>\n",
       "</div>"
      ],
      "text/plain": [
       "                         Amount  PricingStrategy  No. Customers per Acc  \\\n",
       "Amount                      NaN         0.079827               0.047126   \n",
       "PricingStrategy             NaN              NaN               0.172140   \n",
       "No. Customers per Acc       NaN              NaN                    NaN   \n",
       "ExtraCharges                NaN              NaN                    NaN   \n",
       "Days_to_Nearest_Holiday     NaN              NaN                    NaN   \n",
       "\n",
       "                         ExtraCharges  Days_to_Nearest_Holiday  Prev_Amt  \\\n",
       "Amount                       0.058267                 0.008470  0.604833   \n",
       "PricingStrategy              0.061111                 0.057595  0.081672   \n",
       "No. Customers per Acc        0.061586                 0.010920  0.014213   \n",
       "ExtraCharges                      NaN                 0.004555  0.030751   \n",
       "Days_to_Nearest_Holiday           NaN                      NaN  0.009223   \n",
       "\n",
       "                         Time_since_last_trans  \\\n",
       "Amount                                0.005617   \n",
       "PricingStrategy                       0.077194   \n",
       "No. Customers per Acc                 0.159118   \n",
       "ExtraCharges                          0.022585   \n",
       "Days_to_Nearest_Holiday               0.038816   \n",
       "\n",
       "                         Avg_amt_per_ProviderId_in_last_12hhrs  \\\n",
       "Amount                                                0.865534   \n",
       "PricingStrategy                                       0.093298   \n",
       "No. Customers per Acc                                 0.054099   \n",
       "ExtraCharges                                          0.063181   \n",
       "Days_to_Nearest_Holiday                               0.009599   \n",
       "\n",
       "                         sum_of_amt_per_ProviderId_in_last_12hhrs  \\\n",
       "Amount                                                   0.094858   \n",
       "PricingStrategy                                          0.404228   \n",
       "No. Customers per Acc                                    0.071113   \n",
       "ExtraCharges                                             0.017898   \n",
       "Days_to_Nearest_Holiday                                  0.114577   \n",
       "\n",
       "                         max_amt_per_ProviderId_in_last_12hhrs  ...    Hour_8  \\\n",
       "Amount                                                0.782587  ...  0.003051   \n",
       "PricingStrategy                                       0.079076  ...  0.026495   \n",
       "No. Customers per Acc                                 0.056532  ...  0.004438   \n",
       "ExtraCharges                                          0.037489  ...  0.000654   \n",
       "Days_to_Nearest_Holiday                               0.001390  ...  0.004454   \n",
       "\n",
       "                           Hour_9  Weekday/Weekend_Weekend  Holiday_Yes  \\\n",
       "Amount                   0.000527                 0.007120     0.003995   \n",
       "PricingStrategy          0.020550                 0.042521     0.019963   \n",
       "No. Customers per Acc    0.007766                 0.008466     0.011889   \n",
       "ExtraCharges             0.000591                 0.001178     0.003855   \n",
       "Days_to_Nearest_Holiday  0.013679                 0.019099     0.246195   \n",
       "\n",
       "                         Form_Debit  Suspicious_Suspicious  \\\n",
       "Amount                     0.070403                    NaN   \n",
       "PricingStrategy            0.049213                    NaN   \n",
       "No. Customers per Acc      0.875779                    NaN   \n",
       "ExtraCharges               0.078653                    NaN   \n",
       "Days_to_Nearest_Holiday    0.027843                    NaN   \n",
       "\n",
       "                         Suspicious_Very Suspicious  \\\n",
       "Amount                                     0.808368   \n",
       "PricingStrategy                            0.033242   \n",
       "No. Customers per Acc                      0.014857   \n",
       "ExtraCharges                               0.001761   \n",
       "Days_to_Nearest_Holiday                    0.000318   \n",
       "\n",
       "                         Multiple_Sub_by_Customer_Yes  \\\n",
       "Amount                                       0.008629   \n",
       "PricingStrategy                              0.406823   \n",
       "No. Customers per Acc                        0.132607   \n",
       "ExtraCharges                                 0.017629   \n",
       "Days_to_Nearest_Holiday                      0.131061   \n",
       "\n",
       "                         Multiple_Sub_by_Acc_Yes  FraudResult  \n",
       "Amount                                  0.042657     0.557370  \n",
       "PricingStrategy                         0.200626     0.051744  \n",
       "No. Customers per Acc                   0.997853     0.031484  \n",
       "ExtraCharges                            0.058749     0.158483  \n",
       "Days_to_Nearest_Holiday                 0.017847     0.004631  \n",
       "\n",
       "[5 rows x 205 columns]"
      ]
     },
     "execution_count": 34,
     "metadata": {},
     "output_type": "execute_result"
    }
   ],
   "source": [
    "upper = corr_matrix.where(np.triu(np.ones(corr_matrix.shape), k=1).astype(np.bool))\n",
    "upper.head()"
   ]
  },
  {
   "cell_type": "code",
   "execution_count": 35,
   "metadata": {},
   "outputs": [
    {
     "name": "stdout",
     "output_type": "stream",
     "text": [
      "There are 107 columns to remove.\n"
     ]
    }
   ],
   "source": [
    "to_drop = [column for column in upper.columns if any(upper[column] > threshold)]\n",
    "\n",
    "print('There are %d columns to remove.' % (len(to_drop)))"
   ]
  },
  {
   "cell_type": "code",
   "execution_count": 36,
   "metadata": {},
   "outputs": [
    {
     "name": "stdout",
     "output_type": "stream",
     "text": [
      "Training shape:  (95662, 98)\n",
      "Testing shape:  (45019, 97)\n"
     ]
    }
   ],
   "source": [
    "train_data = train_data.drop(columns = to_drop)\n",
    "test_data = test_data.drop(columns = to_drop)\n",
    "\n",
    "print('Training shape: ', train_data.shape)\n",
    "print('Testing shape: ', test_data.shape)"
   ]
  },
  {
   "cell_type": "code",
   "execution_count": null,
   "metadata": {},
   "outputs": [],
   "source": []
  },
  {
   "cell_type": "code",
   "execution_count": null,
   "metadata": {},
   "outputs": [],
   "source": []
  },
  {
   "cell_type": "code",
   "execution_count": null,
   "metadata": {},
   "outputs": [],
   "source": []
  },
  {
   "cell_type": "code",
   "execution_count": null,
   "metadata": {},
   "outputs": [],
   "source": []
  },
  {
   "cell_type": "code",
   "execution_count": null,
   "metadata": {},
   "outputs": [],
   "source": []
  },
  {
   "cell_type": "code",
   "execution_count": null,
   "metadata": {},
   "outputs": [],
   "source": []
  },
  {
   "cell_type": "code",
   "execution_count": null,
   "metadata": {},
   "outputs": [],
   "source": []
  },
  {
   "cell_type": "code",
   "execution_count": null,
   "metadata": {},
   "outputs": [],
   "source": []
  },
  {
   "cell_type": "code",
   "execution_count": null,
   "metadata": {},
   "outputs": [],
   "source": []
  },
  {
   "cell_type": "code",
   "execution_count": null,
   "metadata": {},
   "outputs": [],
   "source": []
  },
  {
   "cell_type": "code",
   "execution_count": null,
   "metadata": {},
   "outputs": [],
   "source": []
  },
  {
   "cell_type": "code",
   "execution_count": null,
   "metadata": {},
   "outputs": [],
   "source": []
  },
  {
   "cell_type": "code",
   "execution_count": null,
   "metadata": {},
   "outputs": [],
   "source": []
  },
  {
   "cell_type": "code",
   "execution_count": 37,
   "metadata": {},
   "outputs": [],
   "source": [
    "X, y = train_data.drop('FraudResult', axis=1), train_data['FraudResult']\n",
    "\n",
    "X_train, X_test, y_train, y_test = train_test_split(\n",
    "    X, y, stratify=y, test_size=0.3, random_state=42\n",
    ")"
   ]
  },
  {
   "cell_type": "code",
   "execution_count": 38,
   "metadata": {},
   "outputs": [
    {
     "data": {
      "text/plain": [
       "(95662, 97)"
      ]
     },
     "execution_count": 38,
     "metadata": {},
     "output_type": "execute_result"
    }
   ],
   "source": [
    "X.shape"
   ]
  },
  {
   "cell_type": "code",
   "execution_count": 39,
   "metadata": {},
   "outputs": [],
   "source": [
    "cv = StratifiedKFold(n_splits=5, random_state=42)"
   ]
  },
  {
   "cell_type": "code",
   "execution_count": 41,
   "metadata": {},
   "outputs": [],
   "source": [
    "from sklearn.model_selection import TimeSeriesSplit"
   ]
  },
  {
   "cell_type": "code",
   "execution_count": 42,
   "metadata": {},
   "outputs": [],
   "source": [
    "tss = TimeSeriesSplit(n_splits=5)"
   ]
  },
  {
   "cell_type": "code",
   "execution_count": 40,
   "metadata": {},
   "outputs": [],
   "source": [
    "import xgboost as xgb\n",
    "from xgboost import plot_importance"
   ]
  },
  {
   "cell_type": "code",
   "execution_count": 41,
   "metadata": {},
   "outputs": [
    {
     "data": {
      "text/plain": [
       "XGBClassifier(base_score=0.5, booster='gbtree', colsample_bylevel=1,\n",
       "       colsample_bynode=1, colsample_bytree=1, gamma=0, learning_rate=0.1,\n",
       "       max_delta_step=0, max_depth=3, min_child_weight=1, missing=None,\n",
       "       n_estimators=250, n_jobs=1, nthread=None,\n",
       "       objective='binary:logistic', random_state=42, reg_alpha=0,\n",
       "       reg_lambda=1, scale_pos_weight=496, seed=None, silent=None,\n",
       "       subsample=1, verbosity=1)"
      ]
     },
     "execution_count": 41,
     "metadata": {},
     "output_type": "execute_result"
    }
   ],
   "source": [
    "model = xgb.XGBClassifier(n_estimators=250, scale_pos_weight=496, random_state=42)\n",
    "model.fit(X_train, y_train)"
   ]
  },
  {
   "cell_type": "code",
   "execution_count": null,
   "metadata": {},
   "outputs": [],
   "source": [
    "cross_val_score(model, X_train, y_train, cv=cv, scoring='f1', verbose=0).mean()"
   ]
  },
  {
   "cell_type": "code",
   "execution_count": 46,
   "metadata": {},
   "outputs": [
    {
     "data": {
      "text/plain": [
       "0.8622161172161172"
      ]
     },
     "execution_count": 46,
     "metadata": {},
     "output_type": "execute_result"
    }
   ],
   "source": [
    "cross_val_score(model, X_train, y_train, cv=tss, scoring='f1', verbose=0).mean()"
   ]
  },
  {
   "cell_type": "code",
   "execution_count": null,
   "metadata": {},
   "outputs": [],
   "source": [
    "f1_score(y_train, model.predict(X_train))"
   ]
  },
  {
   "cell_type": "code",
   "execution_count": null,
   "metadata": {},
   "outputs": [],
   "source": [
    "f1_score(y_test, model.predict(X_test))"
   ]
  },
  {
   "cell_type": "code",
   "execution_count": 42,
   "metadata": {},
   "outputs": [
    {
     "data": {
      "text/plain": [
       "<matplotlib.axes._subplots.AxesSubplot at 0x702a9079b0>"
      ]
     },
     "execution_count": 42,
     "metadata": {},
     "output_type": "execute_result"
    },
    {
     "data": {
      "image/png": "[encoded data removed]",
      "text/plain": [
       "<Figure size 432x288 with 1 Axes>"
      ]
     },
     "metadata": {
      "needs_background": "light"
     },
     "output_type": "display_data"
    }
   ],
   "source": [
    "plot_importance(model, max_num_features=18)"
   ]
  },
  {
   "cell_type": "code",
   "execution_count": null,
   "metadata": {},
   "outputs": [],
   "source": [
    "predictions = model.predict(test_data)\n",
    "\n",
    "\n",
    "submission = pd.DataFrame({'TransactionId' : testTransId, 'FraudResult' : predictions})\n",
    "submission.to_csv('submission.csv', index=False)"
   ]
  },
  {
   "cell_type": "code",
   "execution_count": null,
   "metadata": {},
   "outputs": [],
   "source": [
    "#score of 0.615384615384615\n"
   ]
  },
  {
   "cell_type": "code",
   "execution_count": null,
   "metadata": {},
   "outputs": [],
   "source": [
    "train_data.to_csv('RemovedCollinearityTrain.csv', index=False)\n",
    "test_data.to_csv('RemovedCollinearityTest.csv', index=False)"
   ]
  },
  {
   "cell_type": "code",
   "execution_count": null,
   "metadata": {},
   "outputs": [],
   "source": [
    "testTransId.to_csv('testTransId.csv', index=False)"
   ]
  },
  {
   "cell_type": "code",
   "execution_count": null,
   "metadata": {},
   "outputs": [],
   "source": []
  }
 ],
 "metadata": {
  "kernelspec": {
   "display_name": "Python 3",
   "language": "python",
   "name": "python3"
  },
  "language_info": {
   "codemirror_mode": {
    "name": "ipython",
    "version": 3
   },
   "file_extension": ".py",
   "mimetype": "text/x-python",
   "name": "python",
   "nbconvert_exporter": "python",
   "pygments_lexer": "ipython3",
   "version": "3.7.4"
  }
 },
 "nbformat": 4,
 "nbformat_minor": 2
}
