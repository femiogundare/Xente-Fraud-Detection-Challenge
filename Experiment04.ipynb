{
 "cells": [
  {
   "cell_type": "code",
   "execution_count": 1,
   "metadata": {},
   "outputs": [],
   "source": [
    "\n",
    "import numpy as np\n",
    "import math\n",
    "import pandas as pd\n",
    "import seaborn as sns\n",
    "import matplotlib.pyplot as plt\n",
    "%matplotlib inline\n",
    "\n",
    "import time\n",
    "from collections import Counter\n",
    "from sklearn.preprocessing import LabelEncoder\n",
    "from sklearn.model_selection import train_test_split, RandomizedSearchCV, GridSearchCV, StratifiedKFold, StratifiedShuffleSplit, cross_val_score\n",
    "from sklearn.pipeline import make_pipeline\n",
    "from sklearn.metrics import confusion_matrix, classification_report, precision_score, recall_score, f1_score, precision_recall_curve"
   ]
  },
  {
   "cell_type": "code",
   "execution_count": 2,
   "metadata": {},
   "outputs": [],
   "source": [
    "\n",
    "train_data = pd.read_csv('FinalTrain31Aug.csv')\n",
    "test_data = pd.read_csv('FinalTest31Aug.csv')"
   ]
  },
  {
   "cell_type": "code",
   "execution_count": 3,
   "metadata": {},
   "outputs": [],
   "source": [
    "testId = pd.read_csv('testTransId.csv', header=None)"
   ]
  },
  {
   "cell_type": "code",
   "execution_count": 4,
   "metadata": {},
   "outputs": [],
   "source": [
    "X, y = train_data.drop('FraudResult', axis=1), train_data['FraudResult']"
   ]
  },
  {
   "cell_type": "code",
   "execution_count": 5,
   "metadata": {},
   "outputs": [
    {
     "data": {
      "text/html": [
       "<div>\n",
       "<style scoped>\n",
       "    .dataframe tbody tr th:only-of-type {\n",
       "        vertical-align: middle;\n",
       "    }\n",
       "\n",
       "    .dataframe tbody tr th {\n",
       "        vertical-align: top;\n",
       "    }\n",
       "\n",
       "    .dataframe thead th {\n",
       "        text-align: right;\n",
       "    }\n",
       "</style>\n",
       "<table border=\"1\" class=\"dataframe\">\n",
       "  <thead>\n",
       "    <tr style=\"text-align: right;\">\n",
       "      <th></th>\n",
       "      <th>Amount</th>\n",
       "      <th>PricingStrategy</th>\n",
       "      <th>No. Customers per Acc</th>\n",
       "      <th>ExtraCharges</th>\n",
       "      <th>Days_to_Nearest_Holiday</th>\n",
       "      <th>Prev_Amt</th>\n",
       "      <th>Time_since_last_trans</th>\n",
       "      <th>Avg_amt_per_ProviderId_in_last_12hhrs</th>\n",
       "      <th>sum_of_amt_per_ProviderId_in_last_12hhrs</th>\n",
       "      <th>max_amt_per_ProviderId_in_last_12hhrs</th>\n",
       "      <th>...</th>\n",
       "      <th>Multiple_Sub_by_Customer_Yes</th>\n",
       "      <th>Multiple_Sub_by_Acc_Yes</th>\n",
       "      <th>Week_first_week</th>\n",
       "      <th>Week_fourth_week</th>\n",
       "      <th>Week_second_week</th>\n",
       "      <th>Week_third_week</th>\n",
       "      <th>Within_CI95_7days_Yes</th>\n",
       "      <th>Within_CI95_14days_Yes</th>\n",
       "      <th>Within_CI95_21days_Yes</th>\n",
       "      <th>Within_CI95_28days_Yes</th>\n",
       "    </tr>\n",
       "  </thead>\n",
       "  <tbody>\n",
       "    <tr>\n",
       "      <th>0</th>\n",
       "      <td>1000.0</td>\n",
       "      <td>3</td>\n",
       "      <td>66</td>\n",
       "      <td>0.0</td>\n",
       "      <td>40</td>\n",
       "      <td>1000.0</td>\n",
       "      <td>2.200000</td>\n",
       "      <td>1000.0</td>\n",
       "      <td>1000.0</td>\n",
       "      <td>1000.0</td>\n",
       "      <td>...</td>\n",
       "      <td>1</td>\n",
       "      <td>0</td>\n",
       "      <td>0</td>\n",
       "      <td>0</td>\n",
       "      <td>0</td>\n",
       "      <td>1</td>\n",
       "      <td>1</td>\n",
       "      <td>1</td>\n",
       "      <td>1</td>\n",
       "      <td>1</td>\n",
       "    </tr>\n",
       "    <tr>\n",
       "      <th>1</th>\n",
       "      <td>-20.0</td>\n",
       "      <td>3</td>\n",
       "      <td>30893</td>\n",
       "      <td>0.0</td>\n",
       "      <td>40</td>\n",
       "      <td>1000.0</td>\n",
       "      <td>0.316667</td>\n",
       "      <td>-20.0</td>\n",
       "      <td>-20.0</td>\n",
       "      <td>-20.0</td>\n",
       "      <td>...</td>\n",
       "      <td>1</td>\n",
       "      <td>1</td>\n",
       "      <td>0</td>\n",
       "      <td>0</td>\n",
       "      <td>0</td>\n",
       "      <td>1</td>\n",
       "      <td>1</td>\n",
       "      <td>1</td>\n",
       "      <td>1</td>\n",
       "      <td>1</td>\n",
       "    </tr>\n",
       "    <tr>\n",
       "      <th>2</th>\n",
       "      <td>500.0</td>\n",
       "      <td>3</td>\n",
       "      <td>2</td>\n",
       "      <td>0.0</td>\n",
       "      <td>40</td>\n",
       "      <td>1000.0</td>\n",
       "      <td>2.200000</td>\n",
       "      <td>500.0</td>\n",
       "      <td>500.0</td>\n",
       "      <td>500.0</td>\n",
       "      <td>...</td>\n",
       "      <td>0</td>\n",
       "      <td>0</td>\n",
       "      <td>0</td>\n",
       "      <td>0</td>\n",
       "      <td>0</td>\n",
       "      <td>1</td>\n",
       "      <td>1</td>\n",
       "      <td>1</td>\n",
       "      <td>1</td>\n",
       "      <td>1</td>\n",
       "    </tr>\n",
       "    <tr>\n",
       "      <th>3</th>\n",
       "      <td>20000.0</td>\n",
       "      <td>3</td>\n",
       "      <td>26</td>\n",
       "      <td>1800.0</td>\n",
       "      <td>40</td>\n",
       "      <td>1000.0</td>\n",
       "      <td>2.200000</td>\n",
       "      <td>20000.0</td>\n",
       "      <td>20000.0</td>\n",
       "      <td>20000.0</td>\n",
       "      <td>...</td>\n",
       "      <td>1</td>\n",
       "      <td>0</td>\n",
       "      <td>0</td>\n",
       "      <td>0</td>\n",
       "      <td>0</td>\n",
       "      <td>1</td>\n",
       "      <td>1</td>\n",
       "      <td>1</td>\n",
       "      <td>1</td>\n",
       "      <td>1</td>\n",
       "    </tr>\n",
       "    <tr>\n",
       "      <th>4</th>\n",
       "      <td>-644.0</td>\n",
       "      <td>3</td>\n",
       "      <td>30893</td>\n",
       "      <td>0.0</td>\n",
       "      <td>40</td>\n",
       "      <td>20000.0</td>\n",
       "      <td>1.433333</td>\n",
       "      <td>-644.0</td>\n",
       "      <td>-644.0</td>\n",
       "      <td>-644.0</td>\n",
       "      <td>...</td>\n",
       "      <td>1</td>\n",
       "      <td>1</td>\n",
       "      <td>0</td>\n",
       "      <td>0</td>\n",
       "      <td>0</td>\n",
       "      <td>1</td>\n",
       "      <td>1</td>\n",
       "      <td>1</td>\n",
       "      <td>1</td>\n",
       "      <td>1</td>\n",
       "    </tr>\n",
       "  </tbody>\n",
       "</table>\n",
       "<p>5 rows × 191 columns</p>\n",
       "</div>"
      ],
      "text/plain": [
       "    Amount  PricingStrategy  No. Customers per Acc  ExtraCharges  \\\n",
       "0   1000.0                3                     66           0.0   \n",
       "1    -20.0                3                  30893           0.0   \n",
       "2    500.0                3                      2           0.0   \n",
       "3  20000.0                3                     26        1800.0   \n",
       "4   -644.0                3                  30893           0.0   \n",
       "\n",
       "   Days_to_Nearest_Holiday  Prev_Amt  Time_since_last_trans  \\\n",
       "0                       40    1000.0               2.200000   \n",
       "1                       40    1000.0               0.316667   \n",
       "2                       40    1000.0               2.200000   \n",
       "3                       40    1000.0               2.200000   \n",
       "4                       40   20000.0               1.433333   \n",
       "\n",
       "   Avg_amt_per_ProviderId_in_last_12hhrs  \\\n",
       "0                                 1000.0   \n",
       "1                                  -20.0   \n",
       "2                                  500.0   \n",
       "3                                20000.0   \n",
       "4                                 -644.0   \n",
       "\n",
       "   sum_of_amt_per_ProviderId_in_last_12hhrs  \\\n",
       "0                                    1000.0   \n",
       "1                                     -20.0   \n",
       "2                                     500.0   \n",
       "3                                   20000.0   \n",
       "4                                    -644.0   \n",
       "\n",
       "   max_amt_per_ProviderId_in_last_12hhrs  ...  Multiple_Sub_by_Customer_Yes  \\\n",
       "0                                 1000.0  ...                             1   \n",
       "1                                  -20.0  ...                             1   \n",
       "2                                  500.0  ...                             0   \n",
       "3                                20000.0  ...                             1   \n",
       "4                                 -644.0  ...                             1   \n",
       "\n",
       "   Multiple_Sub_by_Acc_Yes  Week_first_week  Week_fourth_week  \\\n",
       "0                        0                0                 0   \n",
       "1                        1                0                 0   \n",
       "2                        0                0                 0   \n",
       "3                        0                0                 0   \n",
       "4                        1                0                 0   \n",
       "\n",
       "   Week_second_week  Week_third_week  Within_CI95_7days_Yes  \\\n",
       "0                 0                1                      1   \n",
       "1                 0                1                      1   \n",
       "2                 0                1                      1   \n",
       "3                 0                1                      1   \n",
       "4                 0                1                      1   \n",
       "\n",
       "   Within_CI95_14days_Yes  Within_CI95_21days_Yes  Within_CI95_28days_Yes  \n",
       "0                       1                       1                       1  \n",
       "1                       1                       1                       1  \n",
       "2                       1                       1                       1  \n",
       "3                       1                       1                       1  \n",
       "4                       1                       1                       1  \n",
       "\n",
       "[5 rows x 191 columns]"
      ]
     },
     "execution_count": 5,
     "metadata": {},
     "output_type": "execute_result"
    }
   ],
   "source": [
    "X.head()"
   ]
  },
  {
   "cell_type": "code",
   "execution_count": 6,
   "metadata": {},
   "outputs": [
    {
     "data": {
      "text/plain": [
       "count    9.566200e+04\n",
       "mean     6.717846e+03\n",
       "std      1.233068e+05\n",
       "min     -1.000000e+06\n",
       "25%     -5.000000e+01\n",
       "50%      1.000000e+03\n",
       "75%      2.800000e+03\n",
       "max      9.880000e+06\n",
       "Name: Amount, dtype: float64"
      ]
     },
     "execution_count": 6,
     "metadata": {},
     "output_type": "execute_result"
    }
   ],
   "source": [
    "X['Amount'].describe()"
   ]
  },
  {
   "cell_type": "code",
   "execution_count": 7,
   "metadata": {},
   "outputs": [],
   "source": [
    "train_times = pd.read_csv('train_trans_time.csv', parse_dates=['Time'])\n",
    "test_times = pd.read_csv('test_trans_time.csv', parse_dates=['Time'])"
   ]
  },
  {
   "cell_type": "code",
   "execution_count": 8,
   "metadata": {},
   "outputs": [
    {
     "data": {
      "text/html": [
       "<div>\n",
       "<style scoped>\n",
       "    .dataframe tbody tr th:only-of-type {\n",
       "        vertical-align: middle;\n",
       "    }\n",
       "\n",
       "    .dataframe tbody tr th {\n",
       "        vertical-align: top;\n",
       "    }\n",
       "\n",
       "    .dataframe thead th {\n",
       "        text-align: right;\n",
       "    }\n",
       "</style>\n",
       "<table border=\"1\" class=\"dataframe\">\n",
       "  <thead>\n",
       "    <tr style=\"text-align: right;\">\n",
       "      <th></th>\n",
       "      <th>Time</th>\n",
       "    </tr>\n",
       "  </thead>\n",
       "  <tbody>\n",
       "    <tr>\n",
       "      <th>0</th>\n",
       "      <td>2018-11-15 02:18:49+00:00</td>\n",
       "    </tr>\n",
       "    <tr>\n",
       "      <th>1</th>\n",
       "      <td>2018-11-15 02:19:08+00:00</td>\n",
       "    </tr>\n",
       "    <tr>\n",
       "      <th>2</th>\n",
       "      <td>2018-11-15 02:44:21+00:00</td>\n",
       "    </tr>\n",
       "    <tr>\n",
       "      <th>3</th>\n",
       "      <td>2018-11-15 03:32:55+00:00</td>\n",
       "    </tr>\n",
       "  </tbody>\n",
       "</table>\n",
       "</div>"
      ],
      "text/plain": [
       "                       Time\n",
       "0 2018-11-15 02:18:49+00:00\n",
       "1 2018-11-15 02:19:08+00:00\n",
       "2 2018-11-15 02:44:21+00:00\n",
       "3 2018-11-15 03:32:55+00:00"
      ]
     },
     "execution_count": 8,
     "metadata": {},
     "output_type": "execute_result"
    }
   ],
   "source": [
    "train_times.head(4)"
   ]
  },
  {
   "cell_type": "code",
   "execution_count": 9,
   "metadata": {},
   "outputs": [],
   "source": [
    "train_data = pd.concat([train_times, train_data], axis=1)\n",
    "test_data = pd.concat([test_times, test_data], axis=1)"
   ]
  },
  {
   "cell_type": "code",
   "execution_count": 10,
   "metadata": {},
   "outputs": [
    {
     "data": {
      "text/html": [
       "<div>\n",
       "<style scoped>\n",
       "    .dataframe tbody tr th:only-of-type {\n",
       "        vertical-align: middle;\n",
       "    }\n",
       "\n",
       "    .dataframe tbody tr th {\n",
       "        vertical-align: top;\n",
       "    }\n",
       "\n",
       "    .dataframe thead th {\n",
       "        text-align: right;\n",
       "    }\n",
       "</style>\n",
       "<table border=\"1\" class=\"dataframe\">\n",
       "  <thead>\n",
       "    <tr style=\"text-align: right;\">\n",
       "      <th></th>\n",
       "      <th>Time</th>\n",
       "      <th>Amount</th>\n",
       "      <th>PricingStrategy</th>\n",
       "      <th>No. Customers per Acc</th>\n",
       "      <th>ExtraCharges</th>\n",
       "      <th>Days_to_Nearest_Holiday</th>\n",
       "      <th>Prev_Amt</th>\n",
       "      <th>Time_since_last_trans</th>\n",
       "      <th>Avg_amt_per_ProviderId_in_last_12hhrs</th>\n",
       "      <th>sum_of_amt_per_ProviderId_in_last_12hhrs</th>\n",
       "      <th>...</th>\n",
       "      <th>Multiple_Sub_by_Acc_Yes</th>\n",
       "      <th>Week_first_week</th>\n",
       "      <th>Week_fourth_week</th>\n",
       "      <th>Week_second_week</th>\n",
       "      <th>Week_third_week</th>\n",
       "      <th>Within_CI95_7days_Yes</th>\n",
       "      <th>Within_CI95_14days_Yes</th>\n",
       "      <th>Within_CI95_21days_Yes</th>\n",
       "      <th>Within_CI95_28days_Yes</th>\n",
       "      <th>FraudResult</th>\n",
       "    </tr>\n",
       "  </thead>\n",
       "  <tbody>\n",
       "    <tr>\n",
       "      <th>0</th>\n",
       "      <td>2018-11-15 02:18:49+00:00</td>\n",
       "      <td>1000.0</td>\n",
       "      <td>3</td>\n",
       "      <td>66</td>\n",
       "      <td>0.0</td>\n",
       "      <td>40</td>\n",
       "      <td>1000.0</td>\n",
       "      <td>2.200000</td>\n",
       "      <td>1000.0</td>\n",
       "      <td>1000.0</td>\n",
       "      <td>...</td>\n",
       "      <td>0</td>\n",
       "      <td>0</td>\n",
       "      <td>0</td>\n",
       "      <td>0</td>\n",
       "      <td>1</td>\n",
       "      <td>1</td>\n",
       "      <td>1</td>\n",
       "      <td>1</td>\n",
       "      <td>1</td>\n",
       "      <td>0</td>\n",
       "    </tr>\n",
       "    <tr>\n",
       "      <th>1</th>\n",
       "      <td>2018-11-15 02:19:08+00:00</td>\n",
       "      <td>-20.0</td>\n",
       "      <td>3</td>\n",
       "      <td>30893</td>\n",
       "      <td>0.0</td>\n",
       "      <td>40</td>\n",
       "      <td>1000.0</td>\n",
       "      <td>0.316667</td>\n",
       "      <td>-20.0</td>\n",
       "      <td>-20.0</td>\n",
       "      <td>...</td>\n",
       "      <td>1</td>\n",
       "      <td>0</td>\n",
       "      <td>0</td>\n",
       "      <td>0</td>\n",
       "      <td>1</td>\n",
       "      <td>1</td>\n",
       "      <td>1</td>\n",
       "      <td>1</td>\n",
       "      <td>1</td>\n",
       "      <td>0</td>\n",
       "    </tr>\n",
       "    <tr>\n",
       "      <th>2</th>\n",
       "      <td>2018-11-15 02:44:21+00:00</td>\n",
       "      <td>500.0</td>\n",
       "      <td>3</td>\n",
       "      <td>2</td>\n",
       "      <td>0.0</td>\n",
       "      <td>40</td>\n",
       "      <td>1000.0</td>\n",
       "      <td>2.200000</td>\n",
       "      <td>500.0</td>\n",
       "      <td>500.0</td>\n",
       "      <td>...</td>\n",
       "      <td>0</td>\n",
       "      <td>0</td>\n",
       "      <td>0</td>\n",
       "      <td>0</td>\n",
       "      <td>1</td>\n",
       "      <td>1</td>\n",
       "      <td>1</td>\n",
       "      <td>1</td>\n",
       "      <td>1</td>\n",
       "      <td>0</td>\n",
       "    </tr>\n",
       "    <tr>\n",
       "      <th>3</th>\n",
       "      <td>2018-11-15 03:32:55+00:00</td>\n",
       "      <td>20000.0</td>\n",
       "      <td>3</td>\n",
       "      <td>26</td>\n",
       "      <td>1800.0</td>\n",
       "      <td>40</td>\n",
       "      <td>1000.0</td>\n",
       "      <td>2.200000</td>\n",
       "      <td>20000.0</td>\n",
       "      <td>20000.0</td>\n",
       "      <td>...</td>\n",
       "      <td>0</td>\n",
       "      <td>0</td>\n",
       "      <td>0</td>\n",
       "      <td>0</td>\n",
       "      <td>1</td>\n",
       "      <td>1</td>\n",
       "      <td>1</td>\n",
       "      <td>1</td>\n",
       "      <td>1</td>\n",
       "      <td>0</td>\n",
       "    </tr>\n",
       "    <tr>\n",
       "      <th>4</th>\n",
       "      <td>2018-11-15 03:34:21+00:00</td>\n",
       "      <td>-644.0</td>\n",
       "      <td>3</td>\n",
       "      <td>30893</td>\n",
       "      <td>0.0</td>\n",
       "      <td>40</td>\n",
       "      <td>20000.0</td>\n",
       "      <td>1.433333</td>\n",
       "      <td>-644.0</td>\n",
       "      <td>-644.0</td>\n",
       "      <td>...</td>\n",
       "      <td>1</td>\n",
       "      <td>0</td>\n",
       "      <td>0</td>\n",
       "      <td>0</td>\n",
       "      <td>1</td>\n",
       "      <td>1</td>\n",
       "      <td>1</td>\n",
       "      <td>1</td>\n",
       "      <td>1</td>\n",
       "      <td>0</td>\n",
       "    </tr>\n",
       "  </tbody>\n",
       "</table>\n",
       "<p>5 rows × 193 columns</p>\n",
       "</div>"
      ],
      "text/plain": [
       "                       Time   Amount  PricingStrategy  No. Customers per Acc  \\\n",
       "0 2018-11-15 02:18:49+00:00   1000.0                3                     66   \n",
       "1 2018-11-15 02:19:08+00:00    -20.0                3                  30893   \n",
       "2 2018-11-15 02:44:21+00:00    500.0                3                      2   \n",
       "3 2018-11-15 03:32:55+00:00  20000.0                3                     26   \n",
       "4 2018-11-15 03:34:21+00:00   -644.0                3                  30893   \n",
       "\n",
       "   ExtraCharges  Days_to_Nearest_Holiday  Prev_Amt  Time_since_last_trans  \\\n",
       "0           0.0                       40    1000.0               2.200000   \n",
       "1           0.0                       40    1000.0               0.316667   \n",
       "2           0.0                       40    1000.0               2.200000   \n",
       "3        1800.0                       40    1000.0               2.200000   \n",
       "4           0.0                       40   20000.0               1.433333   \n",
       "\n",
       "   Avg_amt_per_ProviderId_in_last_12hhrs  \\\n",
       "0                                 1000.0   \n",
       "1                                  -20.0   \n",
       "2                                  500.0   \n",
       "3                                20000.0   \n",
       "4                                 -644.0   \n",
       "\n",
       "   sum_of_amt_per_ProviderId_in_last_12hhrs  ...  Multiple_Sub_by_Acc_Yes  \\\n",
       "0                                    1000.0  ...                        0   \n",
       "1                                     -20.0  ...                        1   \n",
       "2                                     500.0  ...                        0   \n",
       "3                                   20000.0  ...                        0   \n",
       "4                                    -644.0  ...                        1   \n",
       "\n",
       "   Week_first_week  Week_fourth_week  Week_second_week  Week_third_week  \\\n",
       "0                0                 0                 0                1   \n",
       "1                0                 0                 0                1   \n",
       "2                0                 0                 0                1   \n",
       "3                0                 0                 0                1   \n",
       "4                0                 0                 0                1   \n",
       "\n",
       "   Within_CI95_7days_Yes  Within_CI95_14days_Yes  Within_CI95_21days_Yes  \\\n",
       "0                      1                       1                       1   \n",
       "1                      1                       1                       1   \n",
       "2                      1                       1                       1   \n",
       "3                      1                       1                       1   \n",
       "4                      1                       1                       1   \n",
       "\n",
       "   Within_CI95_28days_Yes  FraudResult  \n",
       "0                       1            0  \n",
       "1                       1            0  \n",
       "2                       1            0  \n",
       "3                       1            0  \n",
       "4                       1            0  \n",
       "\n",
       "[5 rows x 193 columns]"
      ]
     },
     "execution_count": 10,
     "metadata": {},
     "output_type": "execute_result"
    }
   ],
   "source": [
    "train_data.head()"
   ]
  },
  {
   "cell_type": "code",
   "execution_count": 11,
   "metadata": {},
   "outputs": [
    {
     "data": {
      "text/plain": [
       "<matplotlib.axes._subplots.AxesSubplot at 0x43d6699ba8>"
      ]
     },
     "execution_count": 11,
     "metadata": {},
     "output_type": "execute_result"
    },
    {
     "data": {
      "image/png": "[encoded data removed]",
      "text/plain": [
       "<Figure size 864x504 with 1 Axes>"
      ]
     },
     "metadata": {
      "needs_background": "light"
     },
     "output_type": "display_data"
    }
   ],
   "source": [
    "\n",
    "train_data.plot(x='Time', y='Amount', figsize=(12, 7))"
   ]
  },
  {
   "cell_type": "code",
   "execution_count": 12,
   "metadata": {},
   "outputs": [
    {
     "data": {
      "text/plain": [
       "Timestamp('2018-11-15 02:18:49+0000', tz='UTC')"
      ]
     },
     "execution_count": 12,
     "metadata": {},
     "output_type": "execute_result"
    }
   ],
   "source": [
    "train_data['Time'].min()"
   ]
  },
  {
   "cell_type": "code",
   "execution_count": 13,
   "metadata": {},
   "outputs": [
    {
     "data": {
      "text/plain": [
       "Timestamp('2019-02-13 10:01:28+0000', tz='UTC')"
      ]
     },
     "execution_count": 13,
     "metadata": {},
     "output_type": "execute_result"
    }
   ],
   "source": [
    "train_data['Time'].max()"
   ]
  },
  {
   "cell_type": "code",
   "execution_count": 14,
   "metadata": {},
   "outputs": [
    {
     "data": {
      "text/plain": [
       "Index(['Time', 'Amount', 'PricingStrategy', 'No. Customers per Acc',\n",
       "       'ExtraCharges', 'Days_to_Nearest_Holiday', 'Prev_Amt',\n",
       "       'Time_since_last_trans', 'Avg_amt_per_ProviderId_in_last_12hhrs',\n",
       "       'sum_of_amt_per_ProviderId_in_last_12hhrs',\n",
       "       ...\n",
       "       'Multiple_Sub_by_Acc_Yes', 'Week_first_week', 'Week_fourth_week',\n",
       "       'Week_second_week', 'Week_third_week', 'Within_CI95_7days_Yes',\n",
       "       'Within_CI95_14days_Yes', 'Within_CI95_21days_Yes',\n",
       "       'Within_CI95_28days_Yes', 'FraudResult'],\n",
       "      dtype='object', length=193)"
      ]
     },
     "execution_count": 14,
     "metadata": {},
     "output_type": "execute_result"
    }
   ],
   "source": [
    "train_data.columns"
   ]
  },
  {
   "cell_type": "code",
   "execution_count": 15,
   "metadata": {},
   "outputs": [
    {
     "data": {
      "text/plain": [
       "0        1.873817\n",
       "1             NaN\n",
       "2        1.759385\n",
       "3        2.460383\n",
       "4             NaN\n",
       "5        1.995693\n",
       "6        2.310130\n",
       "7             NaN\n",
       "8        1.759385\n",
       "9        1.788789\n",
       "10       1.854071\n",
       "11            NaN\n",
       "12       1.788789\n",
       "13       2.125495\n",
       "14       2.125495\n",
       "15       2.125495\n",
       "16       1.759385\n",
       "17       1.873817\n",
       "18            NaN\n",
       "19       1.759385\n",
       "20            NaN\n",
       "21       1.759385\n",
       "22            NaN\n",
       "23       1.873817\n",
       "24       1.759385\n",
       "25            NaN\n",
       "26       1.873817\n",
       "27       2.099849\n",
       "28            NaN\n",
       "29       1.995693\n",
       "           ...   \n",
       "95632    1.873817\n",
       "95633    2.396871\n",
       "95634    1.873817\n",
       "95635    1.873817\n",
       "95636         NaN\n",
       "95637         NaN\n",
       "95638    2.396871\n",
       "95639    1.873817\n",
       "95640    2.396871\n",
       "95641    1.873817\n",
       "95642         NaN\n",
       "95643    2.396871\n",
       "95644    1.905134\n",
       "95645    2.169052\n",
       "95646         NaN\n",
       "95647         NaN\n",
       "95648    1.995693\n",
       "95649    2.070627\n",
       "95650    2.057681\n",
       "95651    2.070627\n",
       "95652    1.966424\n",
       "95653         NaN\n",
       "95654    1.873817\n",
       "95655         NaN\n",
       "95656    2.674109\n",
       "95657         NaN\n",
       "95658    1.873817\n",
       "95659         NaN\n",
       "95660    2.070627\n",
       "95661         NaN\n",
       "Name: Amount, Length: 95662, dtype: float64"
      ]
     },
     "execution_count": 15,
     "metadata": {},
     "output_type": "execute_result"
    }
   ],
   "source": [
    "(train_data['Amount']**(1/11))"
   ]
  },
  {
   "cell_type": "code",
   "execution_count": 16,
   "metadata": {},
   "outputs": [],
   "source": [
    "data = train_data[['Time', 'Amount', 'No. Customers per Acc', 'Prev_Amt', 'Time_since_last_trans']]\n",
    "test = test_data[['Time', 'Amount', 'No. Customers per Acc', 'Prev_Amt', 'Time_since_last_trans']]"
   ]
  },
  {
   "cell_type": "code",
   "execution_count": 17,
   "metadata": {
    "scrolled": true
   },
   "outputs": [
    {
     "name": "stderr",
     "output_type": "stream",
     "text": [
      "C:\\Users\\USER\\AppData\\Local\\Continuum\\anaconda3\\lib\\site-packages\\ipykernel_launcher.py:1: SettingWithCopyWarning: \n",
      "A value is trying to be set on a copy of a slice from a DataFrame.\n",
      "Try using .loc[row_indexer,col_indexer] = value instead\n",
      "\n",
      "See the caveats in the documentation: http://pandas.pydata.org/pandas-docs/stable/indexing.html#indexing-view-versus-copy\n",
      "  \"\"\"Entry point for launching an IPython kernel.\n",
      "C:\\Users\\USER\\AppData\\Local\\Continuum\\anaconda3\\lib\\site-packages\\ipykernel_launcher.py:2: SettingWithCopyWarning: \n",
      "A value is trying to be set on a copy of a slice from a DataFrame.\n",
      "Try using .loc[row_indexer,col_indexer] = value instead\n",
      "\n",
      "See the caveats in the documentation: http://pandas.pydata.org/pandas-docs/stable/indexing.html#indexing-view-versus-copy\n",
      "  \n"
     ]
    },
    {
     "data": {
      "text/html": [
       "<div>\n",
       "<style scoped>\n",
       "    .dataframe tbody tr th:only-of-type {\n",
       "        vertical-align: middle;\n",
       "    }\n",
       "\n",
       "    .dataframe tbody tr th {\n",
       "        vertical-align: top;\n",
       "    }\n",
       "\n",
       "    .dataframe thead th {\n",
       "        text-align: right;\n",
       "    }\n",
       "</style>\n",
       "<table border=\"1\" class=\"dataframe\">\n",
       "  <thead>\n",
       "    <tr style=\"text-align: right;\">\n",
       "      <th></th>\n",
       "      <th>Time</th>\n",
       "      <th>Amount</th>\n",
       "      <th>No. Customers per Acc</th>\n",
       "      <th>Prev_Amt</th>\n",
       "      <th>Time_since_last_trans</th>\n",
       "    </tr>\n",
       "  </thead>\n",
       "  <tbody>\n",
       "    <tr>\n",
       "      <th>0</th>\n",
       "      <td>2018-11-15 02:18:49+00:00</td>\n",
       "      <td>1000.0</td>\n",
       "      <td>66</td>\n",
       "      <td>1000.0</td>\n",
       "      <td>2.200000</td>\n",
       "    </tr>\n",
       "    <tr>\n",
       "      <th>1</th>\n",
       "      <td>2018-11-15 02:19:08+00:00</td>\n",
       "      <td>-20.0</td>\n",
       "      <td>30893</td>\n",
       "      <td>1000.0</td>\n",
       "      <td>0.316667</td>\n",
       "    </tr>\n",
       "    <tr>\n",
       "      <th>2</th>\n",
       "      <td>2018-11-15 02:44:21+00:00</td>\n",
       "      <td>500.0</td>\n",
       "      <td>2</td>\n",
       "      <td>1000.0</td>\n",
       "      <td>2.200000</td>\n",
       "    </tr>\n",
       "    <tr>\n",
       "      <th>3</th>\n",
       "      <td>2018-11-15 03:32:55+00:00</td>\n",
       "      <td>20000.0</td>\n",
       "      <td>26</td>\n",
       "      <td>1000.0</td>\n",
       "      <td>2.200000</td>\n",
       "    </tr>\n",
       "    <tr>\n",
       "      <th>4</th>\n",
       "      <td>2018-11-15 03:34:21+00:00</td>\n",
       "      <td>-644.0</td>\n",
       "      <td>30893</td>\n",
       "      <td>20000.0</td>\n",
       "      <td>1.433333</td>\n",
       "    </tr>\n",
       "  </tbody>\n",
       "</table>\n",
       "</div>"
      ],
      "text/plain": [
       "                       Time   Amount  No. Customers per Acc  Prev_Amt  \\\n",
       "0 2018-11-15 02:18:49+00:00   1000.0                     66    1000.0   \n",
       "1 2018-11-15 02:19:08+00:00    -20.0                  30893    1000.0   \n",
       "2 2018-11-15 02:44:21+00:00    500.0                      2    1000.0   \n",
       "3 2018-11-15 03:32:55+00:00  20000.0                     26    1000.0   \n",
       "4 2018-11-15 03:34:21+00:00   -644.0                  30893   20000.0   \n",
       "\n",
       "   Time_since_last_trans  \n",
       "0               2.200000  \n",
       "1               0.316667  \n",
       "2               2.200000  \n",
       "3               2.200000  \n",
       "4               1.433333  "
      ]
     },
     "execution_count": 17,
     "metadata": {},
     "output_type": "execute_result"
    }
   ],
   "source": [
    "data['Time'] = pd.to_datetime(data['Time'])\n",
    "test['Time'] = pd.to_datetime(test['Time'])\n",
    "\n",
    "data.head()"
   ]
  },
  {
   "cell_type": "code",
   "execution_count": 18,
   "metadata": {},
   "outputs": [],
   "source": [
    "from sklearn.preprocessing import StandardScaler\n",
    "scaler = StandardScaler()"
   ]
  },
  {
   "cell_type": "code",
   "execution_count": 19,
   "metadata": {},
   "outputs": [
    {
     "name": "stderr",
     "output_type": "stream",
     "text": [
      "C:\\Users\\USER\\AppData\\Local\\Continuum\\anaconda3\\lib\\site-packages\\sklearn\\preprocessing\\data.py:645: DataConversionWarning: Data with input dtype int64, float64 were all converted to float64 by StandardScaler.\n",
      "  return self.partial_fit(X, y)\n",
      "C:\\Users\\USER\\AppData\\Local\\Continuum\\anaconda3\\lib\\site-packages\\sklearn\\base.py:464: DataConversionWarning: Data with input dtype int64, float64 were all converted to float64 by StandardScaler.\n",
      "  return self.fit(X, **fit_params).transform(X)\n",
      "C:\\Users\\USER\\AppData\\Local\\Continuum\\anaconda3\\lib\\site-packages\\pandas\\core\\indexing.py:543: SettingWithCopyWarning: \n",
      "A value is trying to be set on a copy of a slice from a DataFrame.\n",
      "Try using .loc[row_indexer,col_indexer] = value instead\n",
      "\n",
      "See the caveats in the documentation: http://pandas.pydata.org/pandas-docs/stable/indexing.html#indexing-view-versus-copy\n",
      "  self.obj[item] = s\n",
      "C:\\Users\\USER\\AppData\\Local\\Continuum\\anaconda3\\lib\\site-packages\\ipykernel_launcher.py:2: DataConversionWarning: Data with input dtype int64, float64 were all converted to float64 by StandardScaler.\n",
      "  \n",
      "C:\\Users\\USER\\AppData\\Local\\Continuum\\anaconda3\\lib\\site-packages\\pandas\\core\\indexing.py:543: SettingWithCopyWarning: \n",
      "A value is trying to be set on a copy of a slice from a DataFrame.\n",
      "Try using .loc[row_indexer,col_indexer] = value instead\n",
      "\n",
      "See the caveats in the documentation: http://pandas.pydata.org/pandas-docs/stable/indexing.html#indexing-view-versus-copy\n",
      "  self.obj[item] = s\n"
     ]
    },
    {
     "data": {
      "text/html": [
       "<div>\n",
       "<style scoped>\n",
       "    .dataframe tbody tr th:only-of-type {\n",
       "        vertical-align: middle;\n",
       "    }\n",
       "\n",
       "    .dataframe tbody tr th {\n",
       "        vertical-align: top;\n",
       "    }\n",
       "\n",
       "    .dataframe thead th {\n",
       "        text-align: right;\n",
       "    }\n",
       "</style>\n",
       "<table border=\"1\" class=\"dataframe\">\n",
       "  <thead>\n",
       "    <tr style=\"text-align: right;\">\n",
       "      <th></th>\n",
       "      <th>Time</th>\n",
       "      <th>Amount</th>\n",
       "      <th>No. Customers per Acc</th>\n",
       "      <th>Prev_Amt</th>\n",
       "      <th>Time_since_last_trans</th>\n",
       "    </tr>\n",
       "  </thead>\n",
       "  <tbody>\n",
       "    <tr>\n",
       "      <th>0</th>\n",
       "      <td>2018-11-15 02:18:49+00:00</td>\n",
       "      <td>-0.046371</td>\n",
       "      <td>-0.718149</td>\n",
       "      <td>-0.044306</td>\n",
       "      <td>-0.231504</td>\n",
       "    </tr>\n",
       "    <tr>\n",
       "      <th>1</th>\n",
       "      <td>2018-11-15 02:19:08+00:00</td>\n",
       "      <td>-0.054643</td>\n",
       "      <td>1.444841</td>\n",
       "      <td>-0.044306</td>\n",
       "      <td>-0.231907</td>\n",
       "    </tr>\n",
       "    <tr>\n",
       "      <th>2</th>\n",
       "      <td>2018-11-15 02:44:21+00:00</td>\n",
       "      <td>-0.050426</td>\n",
       "      <td>-0.722639</td>\n",
       "      <td>-0.044306</td>\n",
       "      <td>-0.231504</td>\n",
       "    </tr>\n",
       "    <tr>\n",
       "      <th>3</th>\n",
       "      <td>2018-11-15 03:32:55+00:00</td>\n",
       "      <td>0.107717</td>\n",
       "      <td>-0.720955</td>\n",
       "      <td>-0.044306</td>\n",
       "      <td>-0.231504</td>\n",
       "    </tr>\n",
       "    <tr>\n",
       "      <th>4</th>\n",
       "      <td>2018-11-15 03:34:21+00:00</td>\n",
       "      <td>-0.059704</td>\n",
       "      <td>1.444841</td>\n",
       "      <td>0.119309</td>\n",
       "      <td>-0.231668</td>\n",
       "    </tr>\n",
       "  </tbody>\n",
       "</table>\n",
       "</div>"
      ],
      "text/plain": [
       "                       Time    Amount  No. Customers per Acc  Prev_Amt  \\\n",
       "0 2018-11-15 02:18:49+00:00 -0.046371              -0.718149 -0.044306   \n",
       "1 2018-11-15 02:19:08+00:00 -0.054643               1.444841 -0.044306   \n",
       "2 2018-11-15 02:44:21+00:00 -0.050426              -0.722639 -0.044306   \n",
       "3 2018-11-15 03:32:55+00:00  0.107717              -0.720955 -0.044306   \n",
       "4 2018-11-15 03:34:21+00:00 -0.059704               1.444841  0.119309   \n",
       "\n",
       "   Time_since_last_trans  \n",
       "0              -0.231504  \n",
       "1              -0.231907  \n",
       "2              -0.231504  \n",
       "3              -0.231504  \n",
       "4              -0.231668  "
      ]
     },
     "execution_count": 19,
     "metadata": {},
     "output_type": "execute_result"
    }
   ],
   "source": [
    "data.loc[:, data.columns[1:]] = scaler.fit_transform(data.loc[:, data.columns[1:]])\n",
    "test.loc[:, data.columns[1:]] = scaler.transform(test.loc[:, data.columns[1:]])\n",
    "\n",
    "data.head()"
   ]
  },
  {
   "cell_type": "code",
   "execution_count": 20,
   "metadata": {},
   "outputs": [],
   "source": [
    "from sklearn.decomposition import PCA\n"
   ]
  },
  {
   "cell_type": "code",
   "execution_count": 21,
   "metadata": {},
   "outputs": [
    {
     "data": {
      "image/png": "[encoded data removed]",
      "text/plain": [
       "<Figure size 720x360 with 1 Axes>"
      ]
     },
     "metadata": {
      "needs_background": "light"
     },
     "output_type": "display_data"
    }
   ],
   "source": [
    "\n",
    "X_std = data[['Amount', 'No. Customers per Acc', 'Prev_Amt', 'Time_since_last_trans']]\n",
    "#Calculating Eigenvecors and eigenvalues of Covariance matrix\n",
    "mean_vec = np.mean(X_std, axis=0)\n",
    "cov_mat = np.cov(X_std.T)\n",
    "eig_vals, eig_vecs = np.linalg.eig(cov_mat)\n",
    "# Create a list of (eigenvalue, eigenvector) tuples\n",
    "eig_pairs = [ (np.abs(eig_vals[i]),eig_vecs[:,i]) for i in range(len(eig_vals))]\n",
    "\n",
    "eig_pairs.sort(key = lambda x: x[0], reverse= True)\n",
    "\n",
    "# Calculation of Explained Variance from the eigenvalues\n",
    "tot = sum(eig_vals)\n",
    "var_exp = [(i/tot)*100 for i in sorted(eig_vals, reverse=True)] # Individual explained variance\n",
    "cum_var_exp = np.cumsum(var_exp) # Cumulative explained variance\n",
    "\n",
    "plt.figure(figsize=(10, 5))\n",
    "plt.bar(range(len(var_exp)), var_exp, alpha=0.3, align='center', label='individual explained variance', color = 'g')\n",
    "plt.step(range(len(cum_var_exp)), cum_var_exp, where='mid',label='cumulative explained variance')\n",
    "plt.ylabel('Explained variance ratio')\n",
    "plt.xlabel('Principal components')\n",
    "plt.legend(loc='best')\n",
    "plt.show();"
   ]
  },
  {
   "cell_type": "code",
   "execution_count": 22,
   "metadata": {},
   "outputs": [],
   "source": [
    "\n",
    "# reduce to 2 important features\n",
    "pca = PCA(n_components=2)\n",
    "df = pca.fit_transform(data[['Amount', 'No. Customers per Acc', 'Prev_Amt', 'Time_since_last_trans']])\n",
    "# standardize these 2 new features\n",
    "scaler = StandardScaler()\n",
    "np_scaled = scaler.fit_transform(df)\n",
    "df = pd.DataFrame(np_scaled)"
   ]
  },
  {
   "cell_type": "code",
   "execution_count": 23,
   "metadata": {},
   "outputs": [],
   "source": [
    "from sklearn.cluster import KMeans"
   ]
  },
  {
   "cell_type": "code",
   "execution_count": 24,
   "metadata": {},
   "outputs": [
    {
     "data": {
      "image/png": "[encoded data removed]",
      "text/plain": [
       "<Figure size 720x432 with 1 Axes>"
      ]
     },
     "metadata": {
      "needs_background": "light"
     },
     "output_type": "display_data"
    }
   ],
   "source": [
    "#calculate with different number of centroids to see the loss plot (elbow method)\n",
    "n_cluster = range(1, 20)\n",
    "kmeans = [KMeans(n_clusters=i).fit(df) for i in n_cluster]\n",
    "scores = [kmeans[i].score(df) for i in range(len(kmeans))]\n",
    "\n",
    "fig, ax = plt.subplots(figsize=(10,6))\n",
    "ax.plot(n_cluster, scores)\n",
    "plt.xlabel('Number of Clusters')\n",
    "plt.ylabel('Score')\n",
    "plt.show();"
   ]
  },
  {
   "cell_type": "code",
   "execution_count": 27,
   "metadata": {},
   "outputs": [
    {
     "data": {
      "text/plain": [
       "KMeans(algorithm='auto', copy_x=True, init='k-means++', max_iter=300,\n",
       "    n_clusters=10, n_init=10, n_jobs=None, precompute_distances='auto',\n",
       "    random_state=None, tol=0.0001, verbose=0)"
      ]
     },
     "execution_count": 27,
     "metadata": {},
     "output_type": "execute_result"
    }
   ],
   "source": [
    "kmeans[9]"
   ]
  },
  {
   "cell_type": "code",
   "execution_count": 28,
   "metadata": {},
   "outputs": [
    {
     "name": "stderr",
     "output_type": "stream",
     "text": [
      "C:\\Users\\USER\\AppData\\Local\\Continuum\\anaconda3\\lib\\site-packages\\ipykernel_launcher.py:1: SettingWithCopyWarning: \n",
      "A value is trying to be set on a copy of a slice from a DataFrame.\n",
      "Try using .loc[row_indexer,col_indexer] = value instead\n",
      "\n",
      "See the caveats in the documentation: http://pandas.pydata.org/pandas-docs/stable/indexing.html#indexing-view-versus-copy\n",
      "  \"\"\"Entry point for launching an IPython kernel.\n",
      "C:\\Users\\USER\\AppData\\Local\\Continuum\\anaconda3\\lib\\site-packages\\ipykernel_launcher.py:3: SettingWithCopyWarning: \n",
      "A value is trying to be set on a copy of a slice from a DataFrame.\n",
      "Try using .loc[row_indexer,col_indexer] = value instead\n",
      "\n",
      "See the caveats in the documentation: http://pandas.pydata.org/pandas-docs/stable/indexing.html#indexing-view-versus-copy\n",
      "  This is separate from the ipykernel package so we can avoid doing imports until\n",
      "C:\\Users\\USER\\AppData\\Local\\Continuum\\anaconda3\\lib\\site-packages\\ipykernel_launcher.py:4: SettingWithCopyWarning: \n",
      "A value is trying to be set on a copy of a slice from a DataFrame.\n",
      "Try using .loc[row_indexer,col_indexer] = value instead\n",
      "\n",
      "See the caveats in the documentation: http://pandas.pydata.org/pandas-docs/stable/indexing.html#indexing-view-versus-copy\n",
      "  after removing the cwd from sys.path.\n"
     ]
    },
    {
     "data": {
      "text/plain": [
       "0    58409\n",
       "2    30802\n",
       "9     4623\n",
       "5     1006\n",
       "8      424\n",
       "3      257\n",
       "6       89\n",
       "1       33\n",
       "7       15\n",
       "4        4\n",
       "Name: cluster, dtype: int64"
      ]
     },
     "execution_count": 28,
     "metadata": {},
     "output_type": "execute_result"
    }
   ],
   "source": [
    "data['cluster'] = kmeans[9].predict(df)\n",
    "data.index = df.index\n",
    "data['principal_feature1'] = df[0]\n",
    "data['principal_feature2'] = df[1]\n",
    "data['cluster'].value_counts()"
   ]
  },
  {
   "cell_type": "code",
   "execution_count": 29,
   "metadata": {},
   "outputs": [
    {
     "data": {
      "text/html": [
       "<div>\n",
       "<style scoped>\n",
       "    .dataframe tbody tr th:only-of-type {\n",
       "        vertical-align: middle;\n",
       "    }\n",
       "\n",
       "    .dataframe tbody tr th {\n",
       "        vertical-align: top;\n",
       "    }\n",
       "\n",
       "    .dataframe thead th {\n",
       "        text-align: right;\n",
       "    }\n",
       "</style>\n",
       "<table border=\"1\" class=\"dataframe\">\n",
       "  <thead>\n",
       "    <tr style=\"text-align: right;\">\n",
       "      <th></th>\n",
       "      <th>Time</th>\n",
       "      <th>Amount</th>\n",
       "      <th>No. Customers per Acc</th>\n",
       "      <th>Prev_Amt</th>\n",
       "      <th>Time_since_last_trans</th>\n",
       "      <th>cluster</th>\n",
       "      <th>principal_feature1</th>\n",
       "      <th>principal_feature2</th>\n",
       "    </tr>\n",
       "  </thead>\n",
       "  <tbody>\n",
       "    <tr>\n",
       "      <th>0</th>\n",
       "      <td>2018-11-15 02:18:49+00:00</td>\n",
       "      <td>-0.046371</td>\n",
       "      <td>-0.718149</td>\n",
       "      <td>-0.044306</td>\n",
       "      <td>-0.231504</td>\n",
       "      <td>0</td>\n",
       "      <td>-0.010882</td>\n",
       "      <td>0.319609</td>\n",
       "    </tr>\n",
       "    <tr>\n",
       "      <th>1</th>\n",
       "      <td>2018-11-15 02:19:08+00:00</td>\n",
       "      <td>-0.054643</td>\n",
       "      <td>1.444841</td>\n",
       "      <td>-0.044306</td>\n",
       "      <td>-0.231907</td>\n",
       "      <td>2</td>\n",
       "      <td>-0.146845</td>\n",
       "      <td>-1.090084</td>\n",
       "    </tr>\n",
       "    <tr>\n",
       "      <th>2</th>\n",
       "      <td>2018-11-15 02:44:21+00:00</td>\n",
       "      <td>-0.050426</td>\n",
       "      <td>-0.722639</td>\n",
       "      <td>-0.044306</td>\n",
       "      <td>-0.231504</td>\n",
       "      <td>0</td>\n",
       "      <td>-0.012866</td>\n",
       "      <td>0.322649</td>\n",
       "    </tr>\n",
       "  </tbody>\n",
       "</table>\n",
       "</div>"
      ],
      "text/plain": [
       "                       Time    Amount  No. Customers per Acc  Prev_Amt  \\\n",
       "0 2018-11-15 02:18:49+00:00 -0.046371              -0.718149 -0.044306   \n",
       "1 2018-11-15 02:19:08+00:00 -0.054643               1.444841 -0.044306   \n",
       "2 2018-11-15 02:44:21+00:00 -0.050426              -0.722639 -0.044306   \n",
       "\n",
       "   Time_since_last_trans  cluster  principal_feature1  principal_feature2  \n",
       "0              -0.231504        0           -0.010882            0.319609  \n",
       "1              -0.231907        2           -0.146845           -1.090084  \n",
       "2              -0.231504        0           -0.012866            0.322649  "
      ]
     },
     "execution_count": 29,
     "metadata": {},
     "output_type": "execute_result"
    }
   ],
   "source": [
    "data.head(3)"
   ]
  },
  {
   "cell_type": "code",
   "execution_count": null,
   "metadata": {},
   "outputs": [
    {
     "name": "stderr",
     "output_type": "stream",
     "text": [
      "C:\\Users\\USER\\AppData\\Local\\Continuum\\anaconda3\\lib\\site-packages\\ipykernel_launcher.py:7: FutureWarning: set_value is deprecated and will be removed in a future release. Please use .at[] or .iat[] accessors instead\n",
      "  import sys\n"
     ]
    }
   ],
   "source": [
    "# return Series of distance between each point and its distance with the closest centroid\n",
    "def getDistanceByPoint(data, model):\n",
    "    distance = pd.Series()\n",
    "    for i in range(0,len(data)):\n",
    "        Xa = np.array(data.loc[i])\n",
    "        Xb = model.cluster_centers_[model.labels_[i]-1]\n",
    "        distance.set_value(i, np.linalg.norm(Xa-Xb))\n",
    "    return distance\n",
    "\n",
    "outliers_fraction = 0.01\n",
    "# get the distance between each point and its nearest centroid. The biggest distances are considered as anomaly\n",
    "distance = getDistanceByPoint(df, kmeans[9])\n",
    "number_of_outliers = int(outliers_fraction*len(distance))\n",
    "threshold = distance.nlargest(number_of_outliers).min()\n",
    "# anomaly1 contain the anomaly result of the above method Cluster (0:normal, 1:anomaly) \n",
    "data['anomaly1'] = (distance >= threshold).astype(int)"
   ]
  },
  {
   "cell_type": "code",
   "execution_count": null,
   "metadata": {},
   "outputs": [],
   "source": [
    "fig, ax = plt.subplots(figsize=(10,6))\n",
    "colors = {0:'blue', 1:'red'}\n",
    "ax.scatter(data['principal_feature1'], data['principal_feature2'], c=data[\"anomaly1\"].apply(lambda x: colors[x]))\n",
    "plt.xlabel('principal feature1')\n",
    "plt.ylabel('principal feature2')\n",
    "plt.show();"
   ]
  },
  {
   "cell_type": "code",
   "execution_count": null,
   "metadata": {},
   "outputs": [],
   "source": [
    "data.anomaly1.value_counts()"
   ]
  },
  {
   "cell_type": "code",
   "execution_count": null,
   "metadata": {},
   "outputs": [],
   "source": []
  }
 ],
 "metadata": {
  "kernelspec": {
   "display_name": "Python 3",
   "language": "python",
   "name": "python3"
  },
  "language_info": {
   "codemirror_mode": {
    "name": "ipython",
    "version": 3
   },
   "file_extension": ".py",
   "mimetype": "text/x-python",
   "name": "python",
   "nbconvert_exporter": "python",
   "pygments_lexer": "ipython3",
   "version": "3.7.4"
  }
 },
 "nbformat": 4,
 "nbformat_minor": 2
}
