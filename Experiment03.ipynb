{
 "cells": [
  {
   "cell_type": "code",
   "execution_count": 1,
   "metadata": {},
   "outputs": [],
   "source": [
    "import numpy as np\n",
    "import math\n",
    "import pandas as pd\n",
    "import seaborn as sns\n",
    "import matplotlib.pyplot as plt\n",
    "%matplotlib inline\n",
    "\n",
    "import time\n",
    "from collections import Counter\n",
    "from sklearn.preprocessing import LabelEncoder\n",
    "from sklearn.model_selection import train_test_split, RandomizedSearchCV, GridSearchCV, StratifiedKFold, StratifiedShuffleSplit, cross_val_score\n",
    "from sklearn.pipeline import make_pipeline\n",
    "from sklearn.metrics import confusion_matrix, classification_report, precision_score, recall_score, f1_score, precision_recall_curve"
   ]
  },
  {
   "cell_type": "code",
   "execution_count": 2,
   "metadata": {},
   "outputs": [],
   "source": [
    "\n",
    "train_data = pd.read_csv('FinalTrain.csv')\n",
    "test_data = pd.read_csv('FinalTest.csv')"
   ]
  },
  {
   "cell_type": "code",
   "execution_count": 3,
   "metadata": {},
   "outputs": [
    {
     "data": {
      "text/html": [
       "<div>\n",
       "<style scoped>\n",
       "    .dataframe tbody tr th:only-of-type {\n",
       "        vertical-align: middle;\n",
       "    }\n",
       "\n",
       "    .dataframe tbody tr th {\n",
       "        vertical-align: top;\n",
       "    }\n",
       "\n",
       "    .dataframe thead th {\n",
       "        text-align: right;\n",
       "    }\n",
       "</style>\n",
       "<table border=\"1\" class=\"dataframe\">\n",
       "  <thead>\n",
       "    <tr style=\"text-align: right;\">\n",
       "      <th></th>\n",
       "      <th>Amount</th>\n",
       "      <th>PricingStrategy</th>\n",
       "      <th>No. Customers per Acc</th>\n",
       "      <th>ExtraCharges</th>\n",
       "      <th>Days_to_Nearest_Holiday</th>\n",
       "      <th>Prev_Amt</th>\n",
       "      <th>Time_since_last_trans</th>\n",
       "      <th>Avg_amt_per_ProviderId_in_last_12hhrs</th>\n",
       "      <th>sum_of_amt_per_ProviderId_in_last_12hhrs</th>\n",
       "      <th>max_amt_per_ProviderId_in_last_12hhrs</th>\n",
       "      <th>...</th>\n",
       "      <th>Form_Debit</th>\n",
       "      <th>Suspicious_Suspicious</th>\n",
       "      <th>Suspicious_Very Suspicious</th>\n",
       "      <th>Multiple_Sub_by_Customer_Yes</th>\n",
       "      <th>Multiple_Sub_by_Acc_Yes</th>\n",
       "      <th>Week_first_week</th>\n",
       "      <th>Week_fourth_week</th>\n",
       "      <th>Week_second_week</th>\n",
       "      <th>Week_third_week</th>\n",
       "      <th>FraudResult</th>\n",
       "    </tr>\n",
       "  </thead>\n",
       "  <tbody>\n",
       "    <tr>\n",
       "      <th>0</th>\n",
       "      <td>1000.0</td>\n",
       "      <td>3</td>\n",
       "      <td>66</td>\n",
       "      <td>0.0</td>\n",
       "      <td>40</td>\n",
       "      <td>1000.0</td>\n",
       "      <td>2.200000</td>\n",
       "      <td>1000.0</td>\n",
       "      <td>1000.0</td>\n",
       "      <td>1000.0</td>\n",
       "      <td>...</td>\n",
       "      <td>1</td>\n",
       "      <td>0</td>\n",
       "      <td>0</td>\n",
       "      <td>1</td>\n",
       "      <td>0</td>\n",
       "      <td>0</td>\n",
       "      <td>0</td>\n",
       "      <td>0</td>\n",
       "      <td>1</td>\n",
       "      <td>0</td>\n",
       "    </tr>\n",
       "    <tr>\n",
       "      <th>1</th>\n",
       "      <td>-20.0</td>\n",
       "      <td>3</td>\n",
       "      <td>30893</td>\n",
       "      <td>0.0</td>\n",
       "      <td>40</td>\n",
       "      <td>1000.0</td>\n",
       "      <td>0.316667</td>\n",
       "      <td>-20.0</td>\n",
       "      <td>-20.0</td>\n",
       "      <td>-20.0</td>\n",
       "      <td>...</td>\n",
       "      <td>0</td>\n",
       "      <td>0</td>\n",
       "      <td>0</td>\n",
       "      <td>1</td>\n",
       "      <td>1</td>\n",
       "      <td>0</td>\n",
       "      <td>0</td>\n",
       "      <td>0</td>\n",
       "      <td>1</td>\n",
       "      <td>0</td>\n",
       "    </tr>\n",
       "    <tr>\n",
       "      <th>2</th>\n",
       "      <td>500.0</td>\n",
       "      <td>3</td>\n",
       "      <td>2</td>\n",
       "      <td>0.0</td>\n",
       "      <td>40</td>\n",
       "      <td>1000.0</td>\n",
       "      <td>2.200000</td>\n",
       "      <td>500.0</td>\n",
       "      <td>500.0</td>\n",
       "      <td>500.0</td>\n",
       "      <td>...</td>\n",
       "      <td>1</td>\n",
       "      <td>0</td>\n",
       "      <td>0</td>\n",
       "      <td>0</td>\n",
       "      <td>0</td>\n",
       "      <td>0</td>\n",
       "      <td>0</td>\n",
       "      <td>0</td>\n",
       "      <td>1</td>\n",
       "      <td>0</td>\n",
       "    </tr>\n",
       "    <tr>\n",
       "      <th>3</th>\n",
       "      <td>20000.0</td>\n",
       "      <td>3</td>\n",
       "      <td>26</td>\n",
       "      <td>1800.0</td>\n",
       "      <td>40</td>\n",
       "      <td>1000.0</td>\n",
       "      <td>2.200000</td>\n",
       "      <td>20000.0</td>\n",
       "      <td>20000.0</td>\n",
       "      <td>20000.0</td>\n",
       "      <td>...</td>\n",
       "      <td>1</td>\n",
       "      <td>0</td>\n",
       "      <td>0</td>\n",
       "      <td>1</td>\n",
       "      <td>0</td>\n",
       "      <td>0</td>\n",
       "      <td>0</td>\n",
       "      <td>0</td>\n",
       "      <td>1</td>\n",
       "      <td>0</td>\n",
       "    </tr>\n",
       "    <tr>\n",
       "      <th>4</th>\n",
       "      <td>-644.0</td>\n",
       "      <td>3</td>\n",
       "      <td>30893</td>\n",
       "      <td>0.0</td>\n",
       "      <td>40</td>\n",
       "      <td>20000.0</td>\n",
       "      <td>1.433333</td>\n",
       "      <td>-644.0</td>\n",
       "      <td>-644.0</td>\n",
       "      <td>-644.0</td>\n",
       "      <td>...</td>\n",
       "      <td>0</td>\n",
       "      <td>0</td>\n",
       "      <td>0</td>\n",
       "      <td>1</td>\n",
       "      <td>1</td>\n",
       "      <td>0</td>\n",
       "      <td>0</td>\n",
       "      <td>0</td>\n",
       "      <td>1</td>\n",
       "      <td>0</td>\n",
       "    </tr>\n",
       "  </tbody>\n",
       "</table>\n",
       "<p>5 rows × 187 columns</p>\n",
       "</div>"
      ],
      "text/plain": [
       "    Amount  PricingStrategy  No. Customers per Acc  ExtraCharges  \\\n",
       "0   1000.0                3                     66           0.0   \n",
       "1    -20.0                3                  30893           0.0   \n",
       "2    500.0                3                      2           0.0   \n",
       "3  20000.0                3                     26        1800.0   \n",
       "4   -644.0                3                  30893           0.0   \n",
       "\n",
       "   Days_to_Nearest_Holiday  Prev_Amt  Time_since_last_trans  \\\n",
       "0                       40    1000.0               2.200000   \n",
       "1                       40    1000.0               0.316667   \n",
       "2                       40    1000.0               2.200000   \n",
       "3                       40    1000.0               2.200000   \n",
       "4                       40   20000.0               1.433333   \n",
       "\n",
       "   Avg_amt_per_ProviderId_in_last_12hhrs  \\\n",
       "0                                 1000.0   \n",
       "1                                  -20.0   \n",
       "2                                  500.0   \n",
       "3                                20000.0   \n",
       "4                                 -644.0   \n",
       "\n",
       "   sum_of_amt_per_ProviderId_in_last_12hhrs  \\\n",
       "0                                    1000.0   \n",
       "1                                     -20.0   \n",
       "2                                     500.0   \n",
       "3                                   20000.0   \n",
       "4                                    -644.0   \n",
       "\n",
       "   max_amt_per_ProviderId_in_last_12hhrs  ...  Form_Debit  \\\n",
       "0                                 1000.0  ...           1   \n",
       "1                                  -20.0  ...           0   \n",
       "2                                  500.0  ...           1   \n",
       "3                                20000.0  ...           1   \n",
       "4                                 -644.0  ...           0   \n",
       "\n",
       "   Suspicious_Suspicious  Suspicious_Very Suspicious  \\\n",
       "0                      0                           0   \n",
       "1                      0                           0   \n",
       "2                      0                           0   \n",
       "3                      0                           0   \n",
       "4                      0                           0   \n",
       "\n",
       "   Multiple_Sub_by_Customer_Yes  Multiple_Sub_by_Acc_Yes  Week_first_week  \\\n",
       "0                             1                        0                0   \n",
       "1                             1                        1                0   \n",
       "2                             0                        0                0   \n",
       "3                             1                        0                0   \n",
       "4                             1                        1                0   \n",
       "\n",
       "   Week_fourth_week  Week_second_week  Week_third_week  FraudResult  \n",
       "0                 0                 0                1            0  \n",
       "1                 0                 0                1            0  \n",
       "2                 0                 0                1            0  \n",
       "3                 0                 0                1            0  \n",
       "4                 0                 0                1            0  \n",
       "\n",
       "[5 rows x 187 columns]"
      ]
     },
     "execution_count": 3,
     "metadata": {},
     "output_type": "execute_result"
    }
   ],
   "source": [
    "train_data.head()"
   ]
  },
  {
   "cell_type": "code",
   "execution_count": 4,
   "metadata": {},
   "outputs": [],
   "source": [
    "X, y = train_data.drop('FraudResult', axis=1), train_data['FraudResult']\n",
    "\n",
    "X_train, X_test, y_train, y_test = train_test_split(\n",
    "    X, y, stratify=y, test_size=0.2, random_state=42\n",
    ")"
   ]
  },
  {
   "cell_type": "code",
   "execution_count": 5,
   "metadata": {},
   "outputs": [
    {
     "data": {
      "text/html": [
       "<div>\n",
       "<style scoped>\n",
       "    .dataframe tbody tr th:only-of-type {\n",
       "        vertical-align: middle;\n",
       "    }\n",
       "\n",
       "    .dataframe tbody tr th {\n",
       "        vertical-align: top;\n",
       "    }\n",
       "\n",
       "    .dataframe thead th {\n",
       "        text-align: right;\n",
       "    }\n",
       "</style>\n",
       "<table border=\"1\" class=\"dataframe\">\n",
       "  <thead>\n",
       "    <tr style=\"text-align: right;\">\n",
       "      <th></th>\n",
       "      <th>Amount</th>\n",
       "      <th>PricingStrategy</th>\n",
       "      <th>No. Customers per Acc</th>\n",
       "      <th>ExtraCharges</th>\n",
       "      <th>Days_to_Nearest_Holiday</th>\n",
       "      <th>Prev_Amt</th>\n",
       "      <th>Time_since_last_trans</th>\n",
       "      <th>Avg_amt_per_ProviderId_in_last_12hhrs</th>\n",
       "      <th>sum_of_amt_per_ProviderId_in_last_12hhrs</th>\n",
       "      <th>max_amt_per_ProviderId_in_last_12hhrs</th>\n",
       "      <th>...</th>\n",
       "      <th>Holiday_Yes</th>\n",
       "      <th>Form_Debit</th>\n",
       "      <th>Suspicious_Suspicious</th>\n",
       "      <th>Suspicious_Very Suspicious</th>\n",
       "      <th>Multiple_Sub_by_Customer_Yes</th>\n",
       "      <th>Multiple_Sub_by_Acc_Yes</th>\n",
       "      <th>Week_first_week</th>\n",
       "      <th>Week_fourth_week</th>\n",
       "      <th>Week_second_week</th>\n",
       "      <th>Week_third_week</th>\n",
       "    </tr>\n",
       "  </thead>\n",
       "  <tbody>\n",
       "    <tr>\n",
       "      <th>13447</th>\n",
       "      <td>-70.0</td>\n",
       "      <td>3</td>\n",
       "      <td>30893</td>\n",
       "      <td>0.0</td>\n",
       "      <td>23</td>\n",
       "      <td>3500.0</td>\n",
       "      <td>0.333333</td>\n",
       "      <td>-232.500000</td>\n",
       "      <td>-930.0</td>\n",
       "      <td>-18.0</td>\n",
       "      <td>...</td>\n",
       "      <td>0</td>\n",
       "      <td>0</td>\n",
       "      <td>0</td>\n",
       "      <td>0</td>\n",
       "      <td>1</td>\n",
       "      <td>1</td>\n",
       "      <td>1</td>\n",
       "      <td>0</td>\n",
       "      <td>0</td>\n",
       "      <td>0</td>\n",
       "    </tr>\n",
       "    <tr>\n",
       "      <th>26074</th>\n",
       "      <td>-75.0</td>\n",
       "      <td>3</td>\n",
       "      <td>30893</td>\n",
       "      <td>0.0</td>\n",
       "      <td>11</td>\n",
       "      <td>1500.0</td>\n",
       "      <td>0.416667</td>\n",
       "      <td>-76.071429</td>\n",
       "      <td>-1065.0</td>\n",
       "      <td>-20.0</td>\n",
       "      <td>...</td>\n",
       "      <td>0</td>\n",
       "      <td>0</td>\n",
       "      <td>0</td>\n",
       "      <td>0</td>\n",
       "      <td>1</td>\n",
       "      <td>1</td>\n",
       "      <td>0</td>\n",
       "      <td>0</td>\n",
       "      <td>1</td>\n",
       "      <td>0</td>\n",
       "    </tr>\n",
       "    <tr>\n",
       "      <th>65964</th>\n",
       "      <td>2000.0</td>\n",
       "      <td>3</td>\n",
       "      <td>359</td>\n",
       "      <td>0.0</td>\n",
       "      <td>6</td>\n",
       "      <td>1500.0</td>\n",
       "      <td>12.966667</td>\n",
       "      <td>2014.285714</td>\n",
       "      <td>14100.0</td>\n",
       "      <td>5000.0</td>\n",
       "      <td>...</td>\n",
       "      <td>0</td>\n",
       "      <td>1</td>\n",
       "      <td>0</td>\n",
       "      <td>0</td>\n",
       "      <td>1</td>\n",
       "      <td>0</td>\n",
       "      <td>0</td>\n",
       "      <td>0</td>\n",
       "      <td>0</td>\n",
       "      <td>1</td>\n",
       "    </tr>\n",
       "    <tr>\n",
       "      <th>89786</th>\n",
       "      <td>10000.0</td>\n",
       "      <td>3</td>\n",
       "      <td>3</td>\n",
       "      <td>0.0</td>\n",
       "      <td>8</td>\n",
       "      <td>1000.0</td>\n",
       "      <td>2.200000</td>\n",
       "      <td>10000.000000</td>\n",
       "      <td>10000.0</td>\n",
       "      <td>10000.0</td>\n",
       "      <td>...</td>\n",
       "      <td>0</td>\n",
       "      <td>1</td>\n",
       "      <td>0</td>\n",
       "      <td>0</td>\n",
       "      <td>1</td>\n",
       "      <td>0</td>\n",
       "      <td>0</td>\n",
       "      <td>0</td>\n",
       "      <td>1</td>\n",
       "      <td>0</td>\n",
       "    </tr>\n",
       "    <tr>\n",
       "      <th>16997</th>\n",
       "      <td>20000.0</td>\n",
       "      <td>3</td>\n",
       "      <td>66</td>\n",
       "      <td>1800.0</td>\n",
       "      <td>21</td>\n",
       "      <td>-100.0</td>\n",
       "      <td>173.900000</td>\n",
       "      <td>12500.000000</td>\n",
       "      <td>25000.0</td>\n",
       "      <td>20000.0</td>\n",
       "      <td>...</td>\n",
       "      <td>0</td>\n",
       "      <td>1</td>\n",
       "      <td>0</td>\n",
       "      <td>0</td>\n",
       "      <td>1</td>\n",
       "      <td>0</td>\n",
       "      <td>1</td>\n",
       "      <td>0</td>\n",
       "      <td>0</td>\n",
       "      <td>0</td>\n",
       "    </tr>\n",
       "  </tbody>\n",
       "</table>\n",
       "<p>5 rows × 186 columns</p>\n",
       "</div>"
      ],
      "text/plain": [
       "        Amount  PricingStrategy  No. Customers per Acc  ExtraCharges  \\\n",
       "13447    -70.0                3                  30893           0.0   \n",
       "26074    -75.0                3                  30893           0.0   \n",
       "65964   2000.0                3                    359           0.0   \n",
       "89786  10000.0                3                      3           0.0   \n",
       "16997  20000.0                3                     66        1800.0   \n",
       "\n",
       "       Days_to_Nearest_Holiday  Prev_Amt  Time_since_last_trans  \\\n",
       "13447                       23    3500.0               0.333333   \n",
       "26074                       11    1500.0               0.416667   \n",
       "65964                        6    1500.0              12.966667   \n",
       "89786                        8    1000.0               2.200000   \n",
       "16997                       21    -100.0             173.900000   \n",
       "\n",
       "       Avg_amt_per_ProviderId_in_last_12hhrs  \\\n",
       "13447                            -232.500000   \n",
       "26074                             -76.071429   \n",
       "65964                            2014.285714   \n",
       "89786                           10000.000000   \n",
       "16997                           12500.000000   \n",
       "\n",
       "       sum_of_amt_per_ProviderId_in_last_12hhrs  \\\n",
       "13447                                    -930.0   \n",
       "26074                                   -1065.0   \n",
       "65964                                   14100.0   \n",
       "89786                                   10000.0   \n",
       "16997                                   25000.0   \n",
       "\n",
       "       max_amt_per_ProviderId_in_last_12hhrs  ...  Holiday_Yes  Form_Debit  \\\n",
       "13447                                  -18.0  ...            0           0   \n",
       "26074                                  -20.0  ...            0           0   \n",
       "65964                                 5000.0  ...            0           1   \n",
       "89786                                10000.0  ...            0           1   \n",
       "16997                                20000.0  ...            0           1   \n",
       "\n",
       "       Suspicious_Suspicious  Suspicious_Very Suspicious  \\\n",
       "13447                      0                           0   \n",
       "26074                      0                           0   \n",
       "65964                      0                           0   \n",
       "89786                      0                           0   \n",
       "16997                      0                           0   \n",
       "\n",
       "       Multiple_Sub_by_Customer_Yes  Multiple_Sub_by_Acc_Yes  Week_first_week  \\\n",
       "13447                             1                        1                1   \n",
       "26074                             1                        1                0   \n",
       "65964                             1                        0                0   \n",
       "89786                             1                        0                0   \n",
       "16997                             1                        0                1   \n",
       "\n",
       "       Week_fourth_week  Week_second_week  Week_third_week  \n",
       "13447                 0                 0                0  \n",
       "26074                 0                 1                0  \n",
       "65964                 0                 0                1  \n",
       "89786                 0                 1                0  \n",
       "16997                 0                 0                0  \n",
       "\n",
       "[5 rows x 186 columns]"
      ]
     },
     "execution_count": 5,
     "metadata": {},
     "output_type": "execute_result"
    }
   ],
   "source": [
    "X_test.head()"
   ]
  },
  {
   "cell_type": "code",
   "execution_count": 6,
   "metadata": {},
   "outputs": [],
   "source": [
    "from sklearn.utils import resample"
   ]
  },
  {
   "cell_type": "code",
   "execution_count": 7,
   "metadata": {},
   "outputs": [],
   "source": [
    "from sklearn.model_selection import TimeSeriesSplit\n",
    "\n",
    "cv = StratifiedKFold(n_splits=5, random_state=42)\n",
    "tss = TimeSeriesSplit(n_splits=5)"
   ]
  },
  {
   "cell_type": "code",
   "execution_count": 8,
   "metadata": {},
   "outputs": [],
   "source": [
    "from sklearn.ensemble import RandomForestClassifier\n",
    "from sklearn.tree import DecisionTreeClassifier\n",
    "import xgboost as xgb\n",
    "import lightgbm as lgb\n",
    "import catboost as cat\n",
    "from sklearn.svm import SVC\n",
    "from sklearn.linear_model import LogisticRegression\n",
    "from sklearn.ensemble import ExtraTreesClassifier\n",
    "from sklearn.ensemble import BaggingClassifier\n",
    "from sklearn.ensemble import GradientBoostingClassifier\n",
    "from sklearn.ensemble import AdaBoostClassifier"
   ]
  },
  {
   "cell_type": "code",
   "execution_count": 9,
   "metadata": {},
   "outputs": [],
   "source": [
    "from sklearn.feature_selection import SelectKBest\n",
    "from sklearn.feature_selection import chi2, f_classif\n",
    "from sklearn.feature_selection import RFE"
   ]
  },
  {
   "cell_type": "code",
   "execution_count": 10,
   "metadata": {},
   "outputs": [],
   "source": [
    "from sklearn.feature_selection import SelectFromModel"
   ]
  },
  {
   "cell_type": "markdown",
   "metadata": {},
   "source": [
    "<h2>XGBOOST</h2>"
   ]
  },
  {
   "cell_type": "code",
   "execution_count": 13,
   "metadata": {},
   "outputs": [
    {
     "data": {
      "text/plain": [
       "XGBClassifier(base_score=0.5, booster='gbtree', colsample_bylevel=1,\n",
       "       colsample_bynode=1, colsample_bytree=1, gamma=0, learning_rate=0.1,\n",
       "       max_delta_step=0, max_depth=3, min_child_weight=1, missing=None,\n",
       "       n_estimators=100, n_jobs=-1, nthread=None,\n",
       "       objective='binary:logistic', random_state=42, reg_alpha=0,\n",
       "       reg_lambda=1, scale_pos_weight=496, seed=None, silent=None,\n",
       "       subsample=0.8, verbosity=1)"
      ]
     },
     "execution_count": 13,
     "metadata": {},
     "output_type": "execute_result"
    }
   ],
   "source": [
    "xgbm = xgb.XGBClassifier(n_jobs=-1, scale_pos_weight=496, random_state=42, learning_rate=0.1, subsample=0.8)\n",
    "xgbm.fit(X_train, y_train)"
   ]
  },
  {
   "cell_type": "code",
   "execution_count": 14,
   "metadata": {},
   "outputs": [
    {
     "data": {
      "text/plain": [
       "0.7807616266632715"
      ]
     },
     "execution_count": 14,
     "metadata": {},
     "output_type": "execute_result"
    }
   ],
   "source": [
    "cross_val_score(xgbm, X_train, y_train, cv=cv, scoring='f1', n_jobs=-1).mean()"
   ]
  },
  {
   "cell_type": "code",
   "execution_count": 14,
   "metadata": {},
   "outputs": [
    {
     "data": {
      "text/html": [
       "<div>\n",
       "<style scoped>\n",
       "    .dataframe tbody tr th:only-of-type {\n",
       "        vertical-align: middle;\n",
       "    }\n",
       "\n",
       "    .dataframe tbody tr th {\n",
       "        vertical-align: top;\n",
       "    }\n",
       "\n",
       "    .dataframe thead th {\n",
       "        text-align: right;\n",
       "    }\n",
       "</style>\n",
       "<table border=\"1\" class=\"dataframe\">\n",
       "  <thead>\n",
       "    <tr style=\"text-align: right;\">\n",
       "      <th></th>\n",
       "      <th>Feats.</th>\n",
       "      <th>Importances</th>\n",
       "    </tr>\n",
       "  </thead>\n",
       "  <tbody>\n",
       "    <tr>\n",
       "      <th>8</th>\n",
       "      <td>sum_of_amt_per_ProviderId_in_last_12hhrs</td>\n",
       "      <td>0.361039</td>\n",
       "    </tr>\n",
       "    <tr>\n",
       "      <th>116</th>\n",
       "      <td>Amount_to_mean_ChannelId</td>\n",
       "      <td>0.123299</td>\n",
       "    </tr>\n",
       "    <tr>\n",
       "      <th>79</th>\n",
       "      <td>Avg_amt_per_PricingStrategy_in_last_72hhrs</td>\n",
       "      <td>0.103940</td>\n",
       "    </tr>\n",
       "    <tr>\n",
       "      <th>9</th>\n",
       "      <td>max_amt_per_ProviderId_in_last_12hhrs</td>\n",
       "      <td>0.067506</td>\n",
       "    </tr>\n",
       "    <tr>\n",
       "      <th>31</th>\n",
       "      <td>Avg_amt_per_ProductCategory_in_last_72hhrs</td>\n",
       "      <td>0.051372</td>\n",
       "    </tr>\n",
       "  </tbody>\n",
       "</table>\n",
       "</div>"
      ],
      "text/plain": [
       "                                         Feats.  Importances\n",
       "8      sum_of_amt_per_ProviderId_in_last_12hhrs     0.361039\n",
       "116                    Amount_to_mean_ChannelId     0.123299\n",
       "79   Avg_amt_per_PricingStrategy_in_last_72hhrs     0.103940\n",
       "9         max_amt_per_ProviderId_in_last_12hhrs     0.067506\n",
       "31   Avg_amt_per_ProductCategory_in_last_72hhrs     0.051372"
      ]
     },
     "execution_count": 14,
     "metadata": {},
     "output_type": "execute_result"
    }
   ],
   "source": [
    "fts = pd.DataFrame({'Feats.' : X_train.columns, 'Importances' : xgbm.feature_importances_}).sort_values(by='Importances', ascending=False)\n",
    "fts.head()"
   ]
  },
  {
   "cell_type": "code",
   "execution_count": 16,
   "metadata": {},
   "outputs": [
    {
     "data": {
      "text/plain": [
       "(91, 2)"
      ]
     },
     "execution_count": 16,
     "metadata": {},
     "output_type": "execute_result"
    }
   ],
   "source": [
    "fts = fts[fts['Importances']>0]\n",
    "fts.shape"
   ]
  },
  {
   "cell_type": "code",
   "execution_count": 11,
   "metadata": {},
   "outputs": [],
   "source": [
    "from numpy import sort"
   ]
  },
  {
   "cell_type": "code",
   "execution_count": 19,
   "metadata": {},
   "outputs": [
    {
     "data": {
      "text/plain": [
       "[5, 2]"
      ]
     },
     "execution_count": 19,
     "metadata": {},
     "output_type": "execute_result"
    }
   ],
   "source": [
    "sorted([2, 1,5], reverse=True)[:2]"
   ]
  },
  {
   "cell_type": "code",
   "execution_count": 20,
   "metadata": {},
   "outputs": [
    {
     "name": "stdout",
     "output_type": "stream",
     "text": [
      "Thresh=0.00000763, n=91, F1: 0.79550792%\n",
      "Thresh=0.00001429, n=90, F1: 0.80442433%\n",
      "Thresh=0.00002143, n=89, F1: 0.79539618%\n",
      "Thresh=0.00002579, n=88, F1: 0.79539618%\n",
      "Thresh=0.00003384, n=87, F1: 0.79764595%\n",
      "Thresh=0.00003682, n=86, F1: 0.79986721%\n",
      "Thresh=0.00008334, n=85, F1: 0.80219566%\n",
      "Thresh=0.00008513, n=84, F1: 0.80444543%\n",
      "Thresh=0.00009011, n=83, F1: 0.80222417%\n",
      "Thresh=0.00009661, n=82, F1: 0.80222417%\n",
      "Thresh=0.00012052, n=81, F1: 0.80457300%\n",
      "Thresh=0.00013186, n=80, F1: 0.80457300%\n",
      "Thresh=0.00014688, n=79, F1: 0.80457300%\n",
      "Thresh=0.00016920, n=78, F1: 0.80457300%\n",
      "Thresh=0.00017663, n=77, F1: 0.80457300%\n",
      "Thresh=0.00017924, n=76, F1: 0.79991550%\n",
      "Thresh=0.00021638, n=75, F1: 0.80213675%\n",
      "Thresh=0.00022360, n=74, F1: 0.80457300%\n",
      "Thresh=0.00022542, n=73, F1: 0.80444543%\n",
      "Thresh=0.00025012, n=72, F1: 0.79991550%\n",
      "Thresh=0.00026402, n=71, F1: 0.79539618%\n",
      "Thresh=0.00029990, n=70, F1: 0.80002849%\n",
      "Thresh=0.00030203, n=69, F1: 0.79108310%\n",
      "Thresh=0.00031528, n=68, F1: 0.79993353%\n",
      "Thresh=0.00031570, n=67, F1: 0.79349005%\n",
      "Thresh=0.00033050, n=66, F1: 0.79349005%\n",
      "Thresh=0.00034205, n=65, F1: 0.80007596%\n",
      "Thresh=0.00035106, n=64, F1: 0.80004025%\n",
      "Thresh=0.00035317, n=63, F1: 0.78885184%\n",
      "Thresh=0.00035872, n=62, F1: 0.78876797%\n",
      "Thresh=0.00036646, n=61, F1: 0.78883333%\n",
      "Thresh=0.00036672, n=60, F1: 0.78672130%\n",
      "Thresh=0.00038055, n=59, F1: 0.78897107%\n",
      "Thresh=0.00038324, n=58, F1: 0.78448118%\n",
      "Thresh=0.00039640, n=57, F1: 0.80347387%\n",
      "Thresh=0.00039819, n=56, F1: 0.79884392%\n",
      "Thresh=0.00040982, n=55, F1: 0.79223094%\n",
      "Thresh=0.00043768, n=54, F1: 0.80115259%\n",
      "Thresh=0.00048569, n=53, F1: 0.80115259%\n",
      "Thresh=0.00049924, n=52, F1: 0.79675803%\n",
      "Thresh=0.00051579, n=51, F1: 0.79675803%\n",
      "Thresh=0.00054547, n=50, F1: 0.80344828%\n",
      "Thresh=0.00059799, n=49, F1: 0.80578254%\n",
      "Thresh=0.00062079, n=48, F1: 0.79677871%\n",
      "Thresh=0.00064506, n=47, F1: 0.79663866%\n",
      "Thresh=0.00073053, n=46, F1: 0.80014510%\n",
      "Thresh=0.00075464, n=45, F1: 0.80014510%\n",
      "Thresh=0.00095104, n=44, F1: 0.80574665%\n",
      "Thresh=0.00095458, n=43, F1: 0.80810846%\n",
      "Thresh=0.00096420, n=42, F1: 0.80118142%\n",
      "Thresh=0.00096503, n=41, F1: 0.80558344%\n",
      "Thresh=0.00100066, n=40, F1: 0.80775117%\n",
      "Thresh=0.00107750, n=39, F1: 0.80130007%\n",
      "Thresh=0.00116181, n=38, F1: 0.80312392%\n",
      "Thresh=0.00135700, n=37, F1: 0.80385571%\n",
      "Thresh=0.00159402, n=36, F1: 0.81082425%\n",
      "Thresh=0.00177968, n=35, F1: 0.81518813%\n",
      "Thresh=0.00217246, n=34, F1: 0.80860457%\n",
      "Thresh=0.00221002, n=33, F1: 0.80373413%\n",
      "Thresh=0.00222920, n=32, F1: 0.80507306%\n",
      "Thresh=0.00243957, n=31, F1: 0.80811966%\n",
      "Thresh=0.00244120, n=30, F1: 0.79852036%\n",
      "Thresh=0.00298079, n=29, F1: 0.80593245%\n",
      "Thresh=0.00325314, n=28, F1: 0.80845153%\n",
      "Thresh=0.00338275, n=27, F1: 0.80565052%\n",
      "Thresh=0.00347264, n=26, F1: 0.79688577%\n",
      "Thresh=0.00357297, n=25, F1: 0.79265123%\n",
      "Thresh=0.00394823, n=24, F1: 0.79265123%\n",
      "Thresh=0.00462800, n=23, F1: 0.77944825%\n",
      "Thresh=0.00473340, n=22, F1: 0.78407820%\n",
      "Thresh=0.00479408, n=21, F1: 0.76666667%\n",
      "Thresh=0.00483623, n=20, F1: 0.77150538%\n",
      "Thresh=0.00652452, n=19, F1: 0.75194607%\n",
      "Thresh=0.00717803, n=18, F1: 0.74496107%\n",
      "Thresh=0.00732729, n=17, F1: 0.74105833%\n",
      "Thresh=0.00744259, n=16, F1: 0.74466633%\n",
      "Thresh=0.00778945, n=15, F1: 0.73771904%\n",
      "Thresh=0.00818542, n=14, F1: 0.75214676%\n",
      "Thresh=0.00921712, n=13, F1: 0.75593549%\n",
      "Thresh=0.01365467, n=12, F1: 0.75006682%\n",
      "Thresh=0.01421775, n=11, F1: 0.73072414%\n",
      "Thresh=0.01842123, n=10, F1: 0.72683111%\n",
      "Thresh=0.02000678, n=9, F1: 0.72300981%\n",
      "Thresh=0.02348470, n=8, F1: 0.72465420%\n",
      "Thresh=0.03023861, n=7, F1: 0.71764869%\n",
      "Thresh=0.04215363, n=6, F1: 0.70645234%\n",
      "Thresh=0.05137242, n=5, F1: 0.72230502%\n",
      "Thresh=0.06750616, n=4, F1: 0.70041436%\n",
      "Thresh=0.10394000, n=3, F1: 0.68411977%\n",
      "Thresh=0.12329856, n=2, F1: 0.63057149%\n",
      "Thresh=0.36103943, n=1, F1: 0.37929454%\n"
     ]
    }
   ],
   "source": [
    "thresholds = sort(np.array(fts['Importances']))\n",
    "for thresh in thresholds:\n",
    "    \n",
    "    f1 = []\n",
    "    \n",
    "    for train, test in StratifiedKFold(n_splits=3, random_state=42).split(X_train, y_train):\n",
    "        # select features using threshold\n",
    "        selection = SelectFromModel(xgbm, threshold=thresh, prefit=True)\n",
    "        select_X_train = selection.transform(X_train.iloc[train])\n",
    "        # train model\n",
    "        selection_model = xgb.XGBClassifier(n_jobs=-1, scale_pos_weight=496, random_state=42, subsample=0.8)\n",
    "        selection_model.fit(select_X_train, y_train.iloc[train])\n",
    "        # eval model\n",
    "        select_X_test = selection.transform(X_train.iloc[test])\n",
    "        y_pred = selection_model.predict(select_X_test)\n",
    "        \n",
    "        f1.append(f1_score(y_train.iloc[test], y_pred))\n",
    "    \n",
    "    print(\"Thresh=%.8f, n=%d, F1: %.8f%%\" % (thresh, select_X_train.shape[1], np.mean(f1)))\n",
    "        \n",
    "    "
   ]
  },
  {
   "cell_type": "code",
   "execution_count": 40,
   "metadata": {},
   "outputs": [
    {
     "data": {
      "text/plain": [
       "(35, 2)"
      ]
     },
     "execution_count": 40,
     "metadata": {},
     "output_type": "execute_result"
    }
   ],
   "source": [
    "fts[fts['Importances']>=0.0017796].shape"
   ]
  },
  {
   "cell_type": "code",
   "execution_count": 43,
   "metadata": {},
   "outputs": [
    {
     "data": {
      "text/plain": [
       "array(['sum_of_amt_per_ProviderId_in_last_12hhrs',\n",
       "       'Amount_to_mean_ChannelId',\n",
       "       'Avg_amt_per_PricingStrategy_in_last_72hhrs',\n",
       "       'max_amt_per_ProviderId_in_last_12hhrs',\n",
       "       'Avg_amt_per_ProductCategory_in_last_72hhrs',\n",
       "       'max_amt_per_ProductCategory_in_last_72hhrs',\n",
       "       'Avg_amt_per_CustomerId_in_last_72hhrs',\n",
       "       'max_amt_per_PricingStrategy_in_last_72hhrs',\n",
       "       'max_amt_per_ProductId_in_last_12hhrs',\n",
       "       'Avg_amt_per_PricingStrategy_in_last_168hhrs',\n",
       "       'sum_of_amt_per_ProductCategory_in_last_72hhrs',\n",
       "       'Week_fourth_week', 'Time_since_last_trans',\n",
       "       'Amount_to_std_CustomerId',\n",
       "       'sum_of_amt_per_PricingStrategy_in_last_72hhrs',\n",
       "       'sum_of_amt_per_ChannelId_in_last_72hhrs', 'Prev_Amt',\n",
       "       'no_of_trans_per_PricingStrategy_in_last_24hhrs', 'Month_January',\n",
       "       'Amount_to_mean_PricingStrategy',\n",
       "       'max_amt_per_ChannelId_in_last_72hhrs', 'Days_to_Nearest_Holiday',\n",
       "       'Weekday_Wednesday', 'Avg_amt_per_ProviderId_in_last_24hhrs',\n",
       "       'max_amt_per_ChannelId_in_last_168hhrs',\n",
       "       'Avg_amt_per_ChannelId_in_last_72hhrs', 'Week_first_week',\n",
       "       'No. Customers per Acc', 'max_amt_per_CustomerId_in_last_24hhrs',\n",
       "       'Avg_amt_per_ProviderId_in_last_12hhrs', 'ProductId_ProductId_7',\n",
       "       'Avg_amt_per_CustomerId_in_last_12hhrs',\n",
       "       'Amount_to_std_PricingStrategy', 'ProductId_ProductId_20',\n",
       "       'ProviderId_ProviderId_6'], dtype=object)"
      ]
     },
     "execution_count": 43,
     "metadata": {},
     "output_type": "execute_result"
    }
   ],
   "source": [
    "features = fts[fts['Importances']>=0.0017796]['Feats.']\n",
    "features.values"
   ]
  },
  {
   "cell_type": "code",
   "execution_count": 11,
   "metadata": {},
   "outputs": [],
   "source": [
    "xgbm_fts = ['sum_of_amt_per_ProviderId_in_last_12hhrs',\n",
    "       'Amount_to_mean_ChannelId',\n",
    "       'Avg_amt_per_PricingStrategy_in_last_72hhrs',\n",
    "       'max_amt_per_ProviderId_in_last_12hhrs',\n",
    "       'Avg_amt_per_ProductCategory_in_last_72hhrs',\n",
    "       'max_amt_per_ProductCategory_in_last_72hhrs',\n",
    "       'Avg_amt_per_CustomerId_in_last_72hhrs',\n",
    "       'max_amt_per_PricingStrategy_in_last_72hhrs',\n",
    "       'max_amt_per_ProductId_in_last_12hhrs',\n",
    "       'Avg_amt_per_PricingStrategy_in_last_168hhrs',\n",
    "       'sum_of_amt_per_ProductCategory_in_last_72hhrs',\n",
    "       'Week_fourth_week', 'Time_since_last_trans',\n",
    "       'Amount_to_std_CustomerId',\n",
    "       'sum_of_amt_per_PricingStrategy_in_last_72hhrs',\n",
    "       'sum_of_amt_per_ChannelId_in_last_72hhrs', 'Prev_Amt',\n",
    "       'no_of_trans_per_PricingStrategy_in_last_24hhrs', 'Month_January',\n",
    "       'Amount_to_mean_PricingStrategy',\n",
    "       'max_amt_per_ChannelId_in_last_72hhrs', 'Days_to_Nearest_Holiday',\n",
    "       'Weekday_Wednesday', 'Avg_amt_per_ProviderId_in_last_24hhrs',\n",
    "       'max_amt_per_ChannelId_in_last_168hhrs',\n",
    "       'Avg_amt_per_ChannelId_in_last_72hhrs', 'Week_first_week',\n",
    "       'No. Customers per Acc', 'max_amt_per_CustomerId_in_last_24hhrs',\n",
    "       'Avg_amt_per_ProviderId_in_last_12hhrs', 'ProductId_ProductId_7',\n",
    "       'Avg_amt_per_CustomerId_in_last_12hhrs',\n",
    "       'Amount_to_std_PricingStrategy', 'ProductId_ProductId_20',\n",
    "       'ProviderId_ProviderId_6']"
   ]
  },
  {
   "cell_type": "code",
   "execution_count": 12,
   "metadata": {},
   "outputs": [],
   "source": [
    "X_train_xgbm = X_train.loc[:, xgbm_fts]\n",
    "X_test_xgbm = X_test.loc[:, xgbm_fts]"
   ]
  },
  {
   "cell_type": "code",
   "execution_count": 13,
   "metadata": {},
   "outputs": [
    {
     "name": "stdout",
     "output_type": "stream",
     "text": [
      "Train Score: 0.821333\n",
      "Test Score: 0.730769\n"
     ]
    }
   ],
   "source": [
    "model = xgb.XGBClassifier(\n",
    "    max_depth=3, min_child_weight=1, gamma = 0, subsample=0.8, colsample_bytree=1,\n",
    "    scale_pos_weight = 496, nthread=-1\n",
    ")\n",
    "model.fit(X_train_xgbm, y_train)\n",
    "\n",
    "train_predictions = model.predict(X_train_xgbm)\n",
    "test_predictions = model.predict(X_test_xgbm)\n",
    "\n",
    "print('Train Score: {:4f}'.format(f1_score(y_train, train_predictions)))\n",
    "print('Test Score: {:4f}'.format(f1_score(y_test, test_predictions)))"
   ]
  },
  {
   "cell_type": "code",
   "execution_count": 47,
   "metadata": {},
   "outputs": [
    {
     "data": {
      "text/plain": [
       "0.7959487677134737"
      ]
     },
     "execution_count": 47,
     "metadata": {},
     "output_type": "execute_result"
    }
   ],
   "source": [
    "cross_val_score(model, X_train_xgbm, y_train, scoring='f1', cv=cv, n_jobs=-1).mean()"
   ]
  },
  {
   "cell_type": "code",
   "execution_count": 18,
   "metadata": {},
   "outputs": [
    {
     "data": {
      "text/plain": [
       "GridSearchCV(cv=StratifiedKFold(n_splits=5, random_state=42, shuffle=False),\n",
       "       error_score='raise-deprecating',\n",
       "       estimator=XGBClassifier(base_score=0.5, booster='gbtree', colsample_bylevel=1,\n",
       "       colsample_bynode=1, colsample_bytree=1, gamma=0, learning_rate=0.1,\n",
       "       max_delta_step=0, max_depth=3, min_child_weight=1, missing=None,\n",
       "       n_estimators=100, n_jobs=1, nthread=-1, objective='binary:logistic',\n",
       "       random_state=0, reg_alpha=0, reg_lambda=1, scale_pos_weight=496,\n",
       "       seed=None, silent=None, subsample=0.8, verbosity=1),\n",
       "       fit_params=None, iid='warn', n_jobs=-1,\n",
       "       param_grid={'max_depth': [6, 7, 8], 'min_child_weight': [2, 3, 4]},\n",
       "       pre_dispatch='2*n_jobs', refit=True, return_train_score='warn',\n",
       "       scoring='f1', verbose=0)"
      ]
     },
     "execution_count": 18,
     "metadata": {},
     "output_type": "execute_result"
    }
   ],
   "source": [
    "params_1 = {\n",
    "    'max_depth' : [6, 7, 8],\n",
    "    'min_child_weight' : [2, 3, 4]\n",
    "}\n",
    "\n",
    "grid = GridSearchCV(\n",
    "    xgb.XGBClassifier(\n",
    "    max_depth=3, min_child_weight=1, gamma = 0, subsample=0.8, colsample_bytree=1,\n",
    "    scale_pos_weight = 496, nthread=-1\n",
    "), params_1, scoring='f1', n_jobs=-1, refit=True, verbose=0, cv=cv\n",
    ")\n",
    "\n",
    "grid.fit(X_train_xgbm, y_train)\n",
    "\n",
    "#grid.grid_scores_"
   ]
  },
  {
   "cell_type": "code",
   "execution_count": 19,
   "metadata": {},
   "outputs": [
    {
     "name": "stdout",
     "output_type": "stream",
     "text": [
      "{'max_depth': 6, 'min_child_weight': 2} 0.8571558300954042\n"
     ]
    }
   ],
   "source": [
    "print(grid.best_params_, grid.best_score_)"
   ]
  },
  {
   "cell_type": "code",
   "execution_count": 20,
   "metadata": {},
   "outputs": [
    {
     "data": {
      "text/plain": [
       "GridSearchCV(cv=StratifiedKFold(n_splits=5, random_state=42, shuffle=False),\n",
       "       error_score='raise-deprecating',\n",
       "       estimator=XGBClassifier(base_score=0.5, booster='gbtree', colsample_bylevel=1,\n",
       "       colsample_bynode=1, colsample_bytree=1, gamma=0, learning_rate=0.1,\n",
       "       max_delta_step=0, max_depth=6, min_child_weight=2, missing=None,\n",
       "       n_estimators=100, n_jobs=1, nthread=-1, objective='binary:logistic',\n",
       "       random_state=0, reg_alpha=0, reg_lambda=1, scale_pos_weight=496,\n",
       "       seed=None, silent=None, subsample=0.8, verbosity=1),\n",
       "       fit_params=None, iid='warn', n_jobs=-1,\n",
       "       param_grid={'gamma': [0.0, 0.1, 0.2, 0.3, 0.4]},\n",
       "       pre_dispatch='2*n_jobs', refit=True, return_train_score='warn',\n",
       "       scoring='f1', verbose=0)"
      ]
     },
     "execution_count": 20,
     "metadata": {},
     "output_type": "execute_result"
    }
   ],
   "source": [
    "params_2 = {\n",
    "    'gamma' : [i/10.0 for i in range(0, 5)]\n",
    "}\n",
    "\n",
    "grid2 = GridSearchCV(\n",
    "    xgb.XGBClassifier(\n",
    "    max_depth=6, min_child_weight=2, gamma = 0, subsample=0.8, colsample_bytree=1,\n",
    "    scale_pos_weight = 496, nthread=-1\n",
    "), params_2, scoring='f1', n_jobs=-1, refit=True, verbose=0, cv=cv\n",
    ")\n",
    "\n",
    "grid2.fit(X_train_xgbm, y_train)\n",
    "\n",
    "#grid.grid_scores_"
   ]
  },
  {
   "cell_type": "code",
   "execution_count": 21,
   "metadata": {},
   "outputs": [
    {
     "name": "stdout",
     "output_type": "stream",
     "text": [
      "{'gamma': 0.0} 0.8571558300954042\n"
     ]
    }
   ],
   "source": [
    "print(grid2.best_params_, grid2.best_score_)"
   ]
  },
  {
   "cell_type": "code",
   "execution_count": 22,
   "metadata": {},
   "outputs": [
    {
     "data": {
      "text/plain": [
       "GridSearchCV(cv=StratifiedKFold(n_splits=5, random_state=42, shuffle=False),\n",
       "       error_score='raise-deprecating',\n",
       "       estimator=XGBClassifier(base_score=0.5, booster='gbtree', colsample_bylevel=1,\n",
       "       colsample_bynode=1, colsample_bytree=1, gamma=0, learning_rate=0.1,\n",
       "       max_delta_step=0, max_depth=6, min_child_weight=2, missing=None,\n",
       "       n_estimators=100, n_jobs=1, nthread=-1, objective='binary:logistic',\n",
       "       random_state=0, reg_alpha=0, reg_lambda=1, scale_pos_weight=496,\n",
       "       seed=None, silent=None, subsample=0.8, verbosity=1),\n",
       "       fit_params=None, iid='warn', n_jobs=-1,\n",
       "       param_grid={'subsample': [0.6, 0.7, 0.8, 0.9], 'colsample_bytree': [0.6, 0.7, 0.8, 0.9]},\n",
       "       pre_dispatch='2*n_jobs', refit=True, return_train_score='warn',\n",
       "       scoring='f1', verbose=0)"
      ]
     },
     "execution_count": 22,
     "metadata": {},
     "output_type": "execute_result"
    }
   ],
   "source": [
    "params_3 = {\n",
    "    'subsample' : [i/10.0 for i in range(6, 10)],\n",
    "    'colsample_bytree' : [i/10.0 for i in range(6, 10)]\n",
    "}\n",
    "\n",
    "grid3 = GridSearchCV(\n",
    "    xgb.XGBClassifier(\n",
    "    max_depth=6, min_child_weight=2, gamma = 0, subsample=0.8, colsample_bytree=1,\n",
    "    scale_pos_weight = 496, nthread=-1\n",
    "), params_3, scoring='f1', n_jobs=-1, refit=True, verbose=0, cv=cv\n",
    ")\n",
    "\n",
    "grid3.fit(X_train_xgbm, y_train)\n",
    "\n",
    "#grid.grid_scores_"
   ]
  },
  {
   "cell_type": "code",
   "execution_count": 23,
   "metadata": {},
   "outputs": [
    {
     "name": "stdout",
     "output_type": "stream",
     "text": [
      "{'colsample_bytree': 0.6, 'subsample': 0.9} 0.8761863201741673\n"
     ]
    }
   ],
   "source": [
    "print(grid3.best_params_, grid3.best_score_)"
   ]
  },
  {
   "cell_type": "code",
   "execution_count": 24,
   "metadata": {},
   "outputs": [
    {
     "data": {
      "text/plain": [
       "GridSearchCV(cv=StratifiedKFold(n_splits=5, random_state=42, shuffle=False),\n",
       "       error_score='raise-deprecating',\n",
       "       estimator=XGBClassifier(base_score=0.5, booster='gbtree', colsample_bylevel=1,\n",
       "       colsample_bynode=1, colsample_bytree=1, gamma=0, learning_rate=0.1,\n",
       "       max_delta_step=0, max_depth=6, min_child_weight=2, missing=None,\n",
       "       n_estimators=100, n_jobs=1, nthread=-1, objective='binary:logistic',\n",
       "       random_state=0, reg_alpha=0, reg_lambda=1, scale_pos_weight=496,\n",
       "       seed=None, silent=None, subsample=0.8, verbosity=1),\n",
       "       fit_params=None, iid='warn', n_jobs=-1,\n",
       "       param_grid={'subsample': [0.8, 0.85, 0.9, 0.95], 'colsample_bytree': [0.5, 0.55, 0.6, 0.65, 0.7]},\n",
       "       pre_dispatch='2*n_jobs', refit=True, return_train_score='warn',\n",
       "       scoring='f1', verbose=0)"
      ]
     },
     "execution_count": 24,
     "metadata": {},
     "output_type": "execute_result"
    }
   ],
   "source": [
    "params_4 = {\n",
    "    'subsample' : [0.8, 0.85, 0.9, 0.95],\n",
    "    'colsample_bytree' : [0.5, 0.55, 0.6, 0.65, 0.7]\n",
    "}\n",
    "\n",
    "grid4 = GridSearchCV(\n",
    "    xgb.XGBClassifier(\n",
    "    max_depth=6, min_child_weight=2, gamma = 0, subsample=0.8, colsample_bytree=1,\n",
    "    scale_pos_weight = 496, nthread=-1\n",
    "), params_4, scoring='f1', n_jobs=-1, refit=True, verbose=0, cv=cv\n",
    ")\n",
    "\n",
    "grid4.fit(X_train_xgbm, y_train)\n",
    "\n",
    "#grid.grid_scores_"
   ]
  },
  {
   "cell_type": "code",
   "execution_count": 26,
   "metadata": {},
   "outputs": [
    {
     "name": "stdout",
     "output_type": "stream",
     "text": [
      "{'colsample_bytree': 0.7, 'subsample': 0.95} 0.881389600345198\n"
     ]
    }
   ],
   "source": [
    "print(grid4.best_params_, grid4.best_score_)"
   ]
  },
  {
   "cell_type": "code",
   "execution_count": 32,
   "metadata": {},
   "outputs": [
    {
     "data": {
      "text/plain": [
       "GridSearchCV(cv=StratifiedKFold(n_splits=5, random_state=42, shuffle=False),\n",
       "       error_score='raise-deprecating',\n",
       "       estimator=XGBClassifier(base_score=0.5, booster='gbtree', colsample_bylevel=1,\n",
       "       colsample_bynode=1, colsample_bytree=1, gamma=0, learning_rate=0.1,\n",
       "       max_delta_step=0, max_depth=6, min_child_weight=2, missing=None,\n",
       "       n_estimators=100, n_jobs=1, nthread=-1, objective='binary:logistic',\n",
       "       random_state=0, reg_alpha=0, reg_lambda=1, scale_pos_weight=496,\n",
       "       seed=None, silent=None, subsample=0.8, verbosity=1),\n",
       "       fit_params=None, iid='warn', n_jobs=-1,\n",
       "       param_grid={'subsample': [0.88, 0.9, 0.95, 0.97], 'colsample_bytree': [0.66, 0.68, 0.7, 0.72, 0.75, 0.78, 0.8]},\n",
       "       pre_dispatch='2*n_jobs', refit=True, return_train_score='warn',\n",
       "       scoring='f1', verbose=0)"
      ]
     },
     "execution_count": 32,
     "metadata": {},
     "output_type": "execute_result"
    }
   ],
   "source": [
    "params_5 = {\n",
    "    'subsample' : [0.88, 0.9, 0.95, 0.97],\n",
    "    'colsample_bytree' : [0.66, 0.68, 0.7, 0.72, 0.75, 0.78, 0.8]\n",
    "}\n",
    "\n",
    "grid5 = GridSearchCV(\n",
    "    xgb.XGBClassifier(\n",
    "    max_depth=6, min_child_weight=2, gamma = 0, subsample=0.8, colsample_bytree=1,\n",
    "    scale_pos_weight = 496, nthread=-1\n",
    "), params_5, scoring='f1', n_jobs=-1, refit=True, verbose=0, cv=cv\n",
    ")\n",
    "\n",
    "grid5.fit(X_train_xgbm, y_train)\n",
    "\n",
    "#grid.grid_scores_"
   ]
  },
  {
   "cell_type": "code",
   "execution_count": 33,
   "metadata": {},
   "outputs": [
    {
     "name": "stdout",
     "output_type": "stream",
     "text": [
      "{'colsample_bytree': 0.72, 'subsample': 0.97} 0.8852582668357044\n"
     ]
    }
   ],
   "source": [
    "print(grid5.best_params_, grid5.best_score_)"
   ]
  },
  {
   "cell_type": "code",
   "execution_count": 37,
   "metadata": {},
   "outputs": [
    {
     "data": {
      "text/plain": [
       "0.9565217391304348"
      ]
     },
     "execution_count": 37,
     "metadata": {},
     "output_type": "execute_result"
    }
   ],
   "source": [
    "f1_score(y_train, grid5.predict(X_train_xgbm))"
   ]
  },
  {
   "cell_type": "code",
   "execution_count": 38,
   "metadata": {},
   "outputs": [
    {
     "data": {
      "text/plain": [
       "0.8470588235294118"
      ]
     },
     "execution_count": 38,
     "metadata": {},
     "output_type": "execute_result"
    }
   ],
   "source": [
    "f1_score(y_test, grid5.predict(X_test_xgbm))"
   ]
  },
  {
   "cell_type": "code",
   "execution_count": 34,
   "metadata": {},
   "outputs": [
    {
     "data": {
      "text/plain": [
       "GridSearchCV(cv=StratifiedKFold(n_splits=5, random_state=42, shuffle=False),\n",
       "       error_score='raise-deprecating',\n",
       "       estimator=XGBClassifier(base_score=0.5, booster='gbtree', colsample_bylevel=1,\n",
       "       colsample_bynode=1, colsample_bytree=0.72, gamma=0,\n",
       "       learning_rate=0.1, max_delta_step=0, max_depth=6,\n",
       "       min_child_weight=2, missing=None, n_estimators=100, n_jobs=1,\n",
       "       nthread=-1, objective='binary:logistic', random_state=0,\n",
       "       reg_alpha=0, reg_lambda=1, scale_pos_weight=496, seed=None,\n",
       "       silent=None, subsample=0.97, verbosity=1),\n",
       "       fit_params=None, iid='warn', n_jobs=-1,\n",
       "       param_grid={'reg_lambda': [0.01, 0.05, 0.1, 0.5, 1], 'reg_alpha': [0, 0.001, 0.005, 0.01, 0.05]},\n",
       "       pre_dispatch='2*n_jobs', refit=True, return_train_score='warn',\n",
       "       scoring='f1', verbose=0)"
      ]
     },
     "execution_count": 34,
     "metadata": {},
     "output_type": "execute_result"
    }
   ],
   "source": [
    "params_6 = {\n",
    "    'reg_lambda' : [0.01, 0.05, 0.1, 0.5, 1],\n",
    "    'reg_alpha':[0, 0.001, 0.005, 0.01, 0.05]\n",
    "}\n",
    "\n",
    "grid6 = GridSearchCV(\n",
    "    xgb.XGBClassifier(\n",
    "    max_depth=6, min_child_weight=2, gamma = 0, subsample=0.97, colsample_bytree=0.72,\n",
    "    scale_pos_weight = 496, nthread=-1\n",
    "), params_6, scoring='f1', n_jobs=-1, refit=True, verbose=0, cv=cv\n",
    ")\n",
    "\n",
    "grid6.fit(X_train_xgbm, y_train)\n",
    "\n",
    "#grid.grid_scores_"
   ]
  },
  {
   "cell_type": "code",
   "execution_count": 39,
   "metadata": {},
   "outputs": [
    {
     "name": "stdout",
     "output_type": "stream",
     "text": [
      "{'reg_alpha': 0, 'reg_lambda': 1} 0.8852582668357044\n"
     ]
    }
   ],
   "source": [
    "print(grid6.best_params_, grid6.best_score_)"
   ]
  },
  {
   "cell_type": "code",
   "execution_count": 41,
   "metadata": {},
   "outputs": [
    {
     "data": {
      "text/plain": [
       "0.9565217391304348"
      ]
     },
     "execution_count": 41,
     "metadata": {},
     "output_type": "execute_result"
    }
   ],
   "source": [
    "f1_score(y_train, grid6.predict(X_train_xgbm))"
   ]
  },
  {
   "cell_type": "code",
   "execution_count": 42,
   "metadata": {},
   "outputs": [
    {
     "data": {
      "text/plain": [
       "0.8470588235294118"
      ]
     },
     "execution_count": 42,
     "metadata": {},
     "output_type": "execute_result"
    }
   ],
   "source": [
    "f1_score(y_test, grid6.predict(X_test_xgbm))"
   ]
  },
  {
   "cell_type": "code",
   "execution_count": 43,
   "metadata": {},
   "outputs": [
    {
     "data": {
      "text/plain": [
       "GridSearchCV(cv=StratifiedKFold(n_splits=5, random_state=42, shuffle=False),\n",
       "       error_score='raise-deprecating',\n",
       "       estimator=XGBClassifier(base_score=0.5, booster='gbtree', colsample_bylevel=1,\n",
       "       colsample_bynode=1, colsample_bytree=0.72, gamma=0,\n",
       "       learning_rate=0.1, max_delta_step=0, max_depth=6,\n",
       "       min_child_weight=2, missing=None, n_estimators=100, n_jobs=1,\n",
       "       nthread=-1, objective='binary:logistic', random_state=0,\n",
       "       reg_alpha=0, reg_lambda=1, scale_pos_weight=496, seed=None,\n",
       "       silent=None, subsample=0.97, verbosity=1),\n",
       "       fit_params=None, iid='warn', n_jobs=-1,\n",
       "       param_grid={'reg_lambda': [1, 1.3, 1.7, 2.0, 2.5], 'reg_alpha': [0.0001, 0.0002, 0.00035, 0.00045]},\n",
       "       pre_dispatch='2*n_jobs', refit=True, return_train_score='warn',\n",
       "       scoring='f1', verbose=0)"
      ]
     },
     "execution_count": 43,
     "metadata": {},
     "output_type": "execute_result"
    }
   ],
   "source": [
    "params_7 = {\n",
    "    'reg_lambda' : [1, 1.3, 1.7, 2.0, 2.5],\n",
    "    'reg_alpha':[0.0001, 0.0002, 0.00035, 0.00045]\n",
    "}\n",
    "\n",
    "grid7 = GridSearchCV(\n",
    "    xgb.XGBClassifier(\n",
    "    max_depth=6, min_child_weight=2, gamma = 0, subsample=0.97, colsample_bytree=0.72,\n",
    "    scale_pos_weight = 496, nthread=-1\n",
    "), params_7, scoring='f1', n_jobs=-1, refit=True, verbose=0, cv=cv\n",
    ")\n",
    "\n",
    "grid7.fit(X_train_xgbm, y_train)\n",
    "\n",
    "#grid.grid_scores_"
   ]
  },
  {
   "cell_type": "code",
   "execution_count": 44,
   "metadata": {},
   "outputs": [
    {
     "name": "stdout",
     "output_type": "stream",
     "text": [
      "{'reg_alpha': 0.0001, 'reg_lambda': 1} 0.8852582668357044\n"
     ]
    }
   ],
   "source": [
    "print(grid7.best_params_, grid7.best_score_)"
   ]
  },
  {
   "cell_type": "code",
   "execution_count": 46,
   "metadata": {},
   "outputs": [
    {
     "data": {
      "text/plain": [
       "GridSearchCV(cv=StratifiedKFold(n_splits=5, random_state=42, shuffle=False),\n",
       "       error_score='raise-deprecating',\n",
       "       estimator=XGBClassifier(base_score=0.5, booster='gbtree', colsample_bylevel=1,\n",
       "       colsample_bynode=1, colsample_bytree=0.72, gamma=0,\n",
       "       learning_rate=0.1, max_delta_step=0, max_depth=6,\n",
       "       min_child_weight=2, missing=None, n_estimators=100, n_jobs=1,\n",
       "       nthread=-1, objective='binary:logistic', random_state=0,\n",
       "       reg_alpha=0, reg_lambda=1, scale_pos_weight=496, seed=None,\n",
       "       silent=None, subsample=0.97, verbosity=1),\n",
       "       fit_params=None, iid='warn', n_jobs=-1,\n",
       "       param_grid={'n_estimators': [2500, 4000, 7000, 12000]},\n",
       "       pre_dispatch='2*n_jobs', refit=True, return_train_score='warn',\n",
       "       scoring='f1', verbose=0)"
      ]
     },
     "execution_count": 46,
     "metadata": {},
     "output_type": "execute_result"
    }
   ],
   "source": [
    "params_8 = {\n",
    "    'n_estimators' : [2500, 4000, 7000, 12000]\n",
    "}\n",
    "\n",
    "grid8 = GridSearchCV(\n",
    "    xgb.XGBClassifier(\n",
    "    max_depth=6, min_child_weight=2, gamma = 0, subsample=0.97, colsample_bytree=0.72,\n",
    "    scale_pos_weight = 496, nthread=-1\n",
    "), params_8, scoring='f1', n_jobs=-1, refit=True, verbose=0, cv=cv\n",
    ")\n",
    "\n",
    "grid8.fit(X_train_xgbm, y_train)\n",
    "\n",
    "#grid.grid_scores_"
   ]
  },
  {
   "cell_type": "code",
   "execution_count": 47,
   "metadata": {},
   "outputs": [
    {
     "name": "stdout",
     "output_type": "stream",
     "text": [
      "{'n_estimators': 7000} 0.8791245373804117\n"
     ]
    }
   ],
   "source": [
    "print(grid8.best_params_, grid8.best_score_)"
   ]
  },
  {
   "cell_type": "code",
   "execution_count": 13,
   "metadata": {},
   "outputs": [],
   "source": [
    "xgbc = xgb.XGBClassifier(\n",
    "    n_estimators=10000, learning_rate=0.008, max_depth=6, min_child_weight=2, \n",
    "    gamma = 0, subsample=0.97, colsample_bytree=0.72,\n",
    "    scale_pos_weight = 496, nthread=-1, random_state=42\n",
    ")"
   ]
  },
  {
   "cell_type": "code",
   "execution_count": 51,
   "metadata": {},
   "outputs": [
    {
     "data": {
      "text/plain": [
       "XGBClassifier(base_score=0.5, booster='gbtree', colsample_bylevel=1,\n",
       "       colsample_bynode=1, colsample_bytree=0.72, gamma=0,\n",
       "       learning_rate=0.008, max_delta_step=0, max_depth=6,\n",
       "       min_child_weight=2, missing=None, n_estimators=10000, n_jobs=1,\n",
       "       nthread=-1, objective='binary:logistic', random_state=42,\n",
       "       reg_alpha=0, reg_lambda=1, scale_pos_weight=496, seed=None,\n",
       "       silent=None, subsample=0.97, verbosity=1)"
      ]
     },
     "execution_count": 51,
     "metadata": {},
     "output_type": "execute_result"
    }
   ],
   "source": [
    "xgbc.fit(X_train_xgbm, y_train)"
   ]
  },
  {
   "cell_type": "code",
   "execution_count": 52,
   "metadata": {},
   "outputs": [
    {
     "name": "stdout",
     "output_type": "stream",
     "text": [
      "Train Score: 1.000000\n",
      "Test Score: 0.900000\n"
     ]
    }
   ],
   "source": [
    "\n",
    "train_predictions = xgbc.predict(X_train_xgbm)\n",
    "test_predictions = xgbc.predict(X_test_xgbm)\n",
    "\n",
    "print('Train Score: {:4f}'.format(f1_score(y_train, train_predictions)))\n",
    "print('Test Score: {:4f}'.format(f1_score(y_test, test_predictions)))"
   ]
  },
  {
   "cell_type": "code",
   "execution_count": 53,
   "metadata": {},
   "outputs": [
    {
     "data": {
      "text/plain": [
       "0.8677991217524879"
      ]
     },
     "execution_count": 53,
     "metadata": {},
     "output_type": "execute_result"
    }
   ],
   "source": [
    "cross_val_score(xgbc, X_train_xgbm, y_train, scoring='f1', cv=cv, n_jobs=-1, verbose=0).mean()"
   ]
  },
  {
   "cell_type": "code",
   "execution_count": 55,
   "metadata": {},
   "outputs": [
    {
     "data": {
      "text/plain": [
       "Counter({0: 19092, 1: 41})"
      ]
     },
     "execution_count": 55,
     "metadata": {},
     "output_type": "execute_result"
    }
   ],
   "source": [
    "Counter(test_predictions)"
   ]
  },
  {
   "cell_type": "code",
   "execution_count": 81,
   "metadata": {},
   "outputs": [
    {
     "name": "stdout",
     "output_type": "stream",
     "text": [
      "f1 score: 0.900\n"
     ]
    }
   ],
   "source": [
    "\n",
    "p_sl = xgbc.predict_proba(X_test_xgbm)\n",
    "pred = [1 if y>=0.5 else 0 for y in p_sl[:, 1]]\n",
    "\n",
    "print(\"f1 score: {:.3f}\".format(f1_score(y_test, pred)))"
   ]
  },
  {
   "cell_type": "code",
   "execution_count": 82,
   "metadata": {},
   "outputs": [
    {
     "data": {
      "text/plain": [
       "0.8780487804878049"
      ]
     },
     "execution_count": 82,
     "metadata": {},
     "output_type": "execute_result"
    }
   ],
   "source": [
    "precision_score(y_test, pred)"
   ]
  },
  {
   "cell_type": "code",
   "execution_count": 83,
   "metadata": {},
   "outputs": [
    {
     "data": {
      "text/plain": [
       "0.9230769230769231"
      ]
     },
     "execution_count": 83,
     "metadata": {},
     "output_type": "execute_result"
    }
   ],
   "source": [
    "recall_score(y_test, pred)"
   ]
  },
  {
   "cell_type": "code",
   "execution_count": 66,
   "metadata": {},
   "outputs": [
    {
     "data": {
      "text/plain": [
       "Counter({0: 19092, 1: 41})"
      ]
     },
     "execution_count": 66,
     "metadata": {},
     "output_type": "execute_result"
    }
   ],
   "source": [
    "Counter(pred)"
   ]
  },
  {
   "cell_type": "code",
   "execution_count": 67,
   "metadata": {},
   "outputs": [
    {
     "data": {
      "image/png": "[encoded data removed]",
      "text/plain": [
       "<Figure size 432x288 with 1 Axes>"
      ]
     },
     "metadata": {
      "needs_background": "light"
     },
     "output_type": "display_data"
    }
   ],
   "source": [
    "precision, recall, thresholds = precision_recall_curve(y_test, p_sl[:,1])\n",
    "\n",
    "thresholds = np.append(thresholds, 1)\n",
    "f1_scores = 2*(precision*recall)/(precision+recall)\n",
    "plt.step(recall, precision, color='b', alpha=0.4, where='post')\n",
    "plt.xlabel('Recall')\n",
    "plt.ylabel('Precision')\n",
    "plt.ylim([0.0, 1.05])\n",
    "plt.xlim([0.0, 1.0])\n",
    "plt.title('2-class Precision-Recall curve')\n",
    "plt.show()"
   ]
  },
  {
   "cell_type": "code",
   "execution_count": 68,
   "metadata": {},
   "outputs": [
    {
     "name": "stdout",
     "output_type": "stream",
     "text": [
      "Threshold cutoff:  0.4914172291755676\n",
      "Max F1-score at cut-off :  0.9135802469135802\n"
     ]
    },
    {
     "data": {
      "text/plain": [
       "<matplotlib.axes._subplots.AxesSubplot at 0x1583eb2668>"
      ]
     },
     "execution_count": 68,
     "metadata": {},
     "output_type": "execute_result"
    },
    {
     "data": {
      "image/png": "[encoded data removed]",
      "text/plain": [
       "<Figure size 432x288 with 1 Axes>"
      ]
     },
     "metadata": {
      "needs_background": "light"
     },
     "output_type": "display_data"
    }
   ],
   "source": [
    "scrs = pd.DataFrame({'precision' : precision, 'recal' : recall, 'thresholds' : thresholds, 'f1_score':f1_scores})\n",
    "print(\"Threshold cutoff: \",scrs.loc[scrs['f1_score'] == scrs.f1_score.max(),'thresholds'].iloc[0])\n",
    "print(\"Max F1-score at cut-off : \",scrs.f1_score.max())\n",
    "\n",
    "thresh = scrs.loc[scrs['f1_score'] == scrs.f1_score.max(),'thresholds'].iloc[0]\n",
    "\n",
    "scrs.plot(x='thresholds', y='f1_score')"
   ]
  },
  {
   "cell_type": "code",
   "execution_count": 69,
   "metadata": {},
   "outputs": [
    {
     "data": {
      "text/html": [
       "<div>\n",
       "<style scoped>\n",
       "    .dataframe tbody tr th:only-of-type {\n",
       "        vertical-align: middle;\n",
       "    }\n",
       "\n",
       "    .dataframe tbody tr th {\n",
       "        vertical-align: top;\n",
       "    }\n",
       "\n",
       "    .dataframe thead th {\n",
       "        text-align: right;\n",
       "    }\n",
       "</style>\n",
       "<table border=\"1\" class=\"dataframe\">\n",
       "  <thead>\n",
       "    <tr style=\"text-align: right;\">\n",
       "      <th></th>\n",
       "      <th>precision</th>\n",
       "      <th>recal</th>\n",
       "      <th>thresholds</th>\n",
       "      <th>f1_score</th>\n",
       "    </tr>\n",
       "  </thead>\n",
       "  <tbody>\n",
       "    <tr>\n",
       "      <th>27</th>\n",
       "      <td>0.880952</td>\n",
       "      <td>0.948718</td>\n",
       "      <td>0.491417</td>\n",
       "      <td>0.91358</td>\n",
       "    </tr>\n",
       "  </tbody>\n",
       "</table>\n",
       "</div>"
      ],
      "text/plain": [
       "    precision     recal  thresholds  f1_score\n",
       "27   0.880952  0.948718    0.491417   0.91358"
      ]
     },
     "execution_count": 69,
     "metadata": {},
     "output_type": "execute_result"
    }
   ],
   "source": [
    "scrs.loc[scrs['f1_score'] == scrs.f1_score.max()]"
   ]
  },
  {
   "cell_type": "code",
   "execution_count": 70,
   "metadata": {},
   "outputs": [],
   "source": [
    "frame = scrs.loc[scrs['precision'] == scrs['recal']]"
   ]
  },
  {
   "cell_type": "code",
   "execution_count": 71,
   "metadata": {},
   "outputs": [
    {
     "data": {
      "text/html": [
       "<div>\n",
       "<style scoped>\n",
       "    .dataframe tbody tr th:only-of-type {\n",
       "        vertical-align: middle;\n",
       "    }\n",
       "\n",
       "    .dataframe tbody tr th {\n",
       "        vertical-align: top;\n",
       "    }\n",
       "\n",
       "    .dataframe thead th {\n",
       "        text-align: right;\n",
       "    }\n",
       "</style>\n",
       "<table border=\"1\" class=\"dataframe\">\n",
       "  <thead>\n",
       "    <tr style=\"text-align: right;\">\n",
       "      <th></th>\n",
       "      <th>precision</th>\n",
       "      <th>recal</th>\n",
       "      <th>thresholds</th>\n",
       "      <th>f1_score</th>\n",
       "    </tr>\n",
       "  </thead>\n",
       "  <tbody>\n",
       "    <tr>\n",
       "      <th>30</th>\n",
       "      <td>0.897436</td>\n",
       "      <td>0.897436</td>\n",
       "      <td>0.878227</td>\n",
       "      <td>0.897436</td>\n",
       "    </tr>\n",
       "  </tbody>\n",
       "</table>\n",
       "</div>"
      ],
      "text/plain": [
       "    precision     recal  thresholds  f1_score\n",
       "30   0.897436  0.897436    0.878227  0.897436"
      ]
     },
     "execution_count": 71,
     "metadata": {},
     "output_type": "execute_result"
    }
   ],
   "source": [
    "frame"
   ]
  },
  {
   "cell_type": "code",
   "execution_count": 89,
   "metadata": {},
   "outputs": [],
   "source": [
    "thresh = 0.491417"
   ]
  },
  {
   "cell_type": "code",
   "execution_count": 90,
   "metadata": {},
   "outputs": [
    {
     "data": {
      "text/plain": [
       "0.9135802469135802"
      ]
     },
     "execution_count": 90,
     "metadata": {},
     "output_type": "execute_result"
    }
   ],
   "source": [
    "pred = [1 if y>=thresh else 0 for y in p_sl[:, 1]]\n",
    "\n",
    "f1_score(y_test, pred)"
   ]
  },
  {
   "cell_type": "code",
   "execution_count": 91,
   "metadata": {},
   "outputs": [
    {
     "data": {
      "text/plain": [
       "0.8809523809523809"
      ]
     },
     "execution_count": 91,
     "metadata": {},
     "output_type": "execute_result"
    }
   ],
   "source": [
    "precision_score(y_test, pred)"
   ]
  },
  {
   "cell_type": "code",
   "execution_count": 92,
   "metadata": {},
   "outputs": [
    {
     "data": {
      "text/plain": [
       "0.9487179487179487"
      ]
     },
     "execution_count": 92,
     "metadata": {},
     "output_type": "execute_result"
    }
   ],
   "source": [
    "recall_score(y_test, pred)"
   ]
  },
  {
   "cell_type": "code",
   "execution_count": 93,
   "metadata": {},
   "outputs": [
    {
     "data": {
      "text/plain": [
       "Counter({0: 19091, 1: 42})"
      ]
     },
     "execution_count": 93,
     "metadata": {},
     "output_type": "execute_result"
    }
   ],
   "source": [
    "Counter(pred)"
   ]
  },
  {
   "cell_type": "code",
   "execution_count": null,
   "metadata": {},
   "outputs": [],
   "source": []
  },
  {
   "cell_type": "code",
   "execution_count": 12,
   "metadata": {},
   "outputs": [],
   "source": [
    "from sklearn.utils import class_weight"
   ]
  },
  {
   "cell_type": "code",
   "execution_count": 13,
   "metadata": {},
   "outputs": [],
   "source": [
    "import mlxtend\n",
    "from mlxtend.feature_selection import SequentialFeatureSelector as SFS\n",
    "from sklearn.pipeline import Pipeline"
   ]
  },
  {
   "cell_type": "markdown",
   "metadata": {},
   "source": [
    "<h3>LIGHTGBM</h3>"
   ]
  },
  {
   "cell_type": "code",
   "execution_count": 16,
   "metadata": {},
   "outputs": [],
   "source": [
    "lgbm = lgb.LGBMClassifier(\n",
    "    n_estimators=100, learning_rate=0.085, max_depth=5, num_leaves=25, class_weight='balanced',\n",
    "    subsample=0.8, colsample_bytree=0.8, subsample_for_bin=200000, random_state=42, n_jobs=-1\n",
    ")\n",
    "\n",
    "sfs1 = SFS(estimator=lgbm, \n",
    "           k_features='best',\n",
    "           forward=True, \n",
    "           floating=False, \n",
    "           scoring='f1',\n",
    "           n_jobs=-1,\n",
    "           cv=5)\n",
    "\n",
    "pipe = Pipeline([('sfs', sfs1), \n",
    "                 ('lgbm', lgbm)])\n",
    "\n",
    "param_grid = [\n",
    "  {'lgbm__max_depth': [3, 4, 5, 6, 7],\n",
    "   'lgbm__num_leaves': [10, 15, 20, 25, 30],\n",
    "   'lgbm__subsample' : [0.7, 0.8, 0.9]\n",
    "  }\n",
    "  ]\n",
    "\n",
    "fit_params = {\n",
    "    'early_stopping_rounds' : 42,\n",
    "    'eval_metric' : 'f1',\n",
    "    'eval_set' : [(X_test, y_test)]\n",
    "}\n",
    "\n",
    "\n",
    "gs = RandomizedSearchCV(estimator=pipe, \n",
    "                  param_distributions=param_grid,\n",
    "                  scoring='f1',\n",
    "                  n_iter=50,\n",
    "                  n_jobs=-1, \n",
    "                  cv=tss,\n",
    "                  iid=True,\n",
    "                  refit=True)\n",
    "\n"
   ]
  },
  {
   "cell_type": "code",
   "execution_count": 17,
   "metadata": {},
   "outputs": [
    {
     "ename": "AttributeError",
     "evalue": "'list' object has no attribute 'values'",
     "output_type": "error",
     "traceback": [
      "\u001b[1;31m---------------------------------------------------------------------------\u001b[0m",
      "\u001b[1;31mAttributeError\u001b[0m                            Traceback (most recent call last)",
      "\u001b[1;32m<ipython-input-17-7bed9b1ebe56>\u001b[0m in \u001b[0;36m<module>\u001b[1;34m\u001b[0m\n\u001b[0;32m      1\u001b[0m \u001b[1;31m# run gridearch\u001b[0m\u001b[1;33m\u001b[0m\u001b[1;33m\u001b[0m\u001b[1;33m\u001b[0m\u001b[0m\n\u001b[1;32m----> 2\u001b[1;33m \u001b[0mgs\u001b[0m \u001b[1;33m=\u001b[0m \u001b[0mgs\u001b[0m\u001b[1;33m.\u001b[0m\u001b[0mfit\u001b[0m\u001b[1;33m(\u001b[0m\u001b[0mX_train\u001b[0m\u001b[1;33m,\u001b[0m \u001b[0my_train\u001b[0m\u001b[1;33m,\u001b[0m \u001b[1;33m**\u001b[0m\u001b[0mfit_params\u001b[0m\u001b[1;33m)\u001b[0m\u001b[1;33m\u001b[0m\u001b[1;33m\u001b[0m\u001b[0m\n\u001b[0m",
      "\u001b[1;32m~\\AppData\\Local\\Continuum\\anaconda3\\lib\\site-packages\\sklearn\\model_selection\\_search.py\u001b[0m in \u001b[0;36mfit\u001b[1;34m(self, X, y, groups, **fit_params)\u001b[0m\n\u001b[0;32m    720\u001b[0m                 \u001b[1;32mreturn\u001b[0m \u001b[0mresults_container\u001b[0m\u001b[1;33m[\u001b[0m\u001b[1;36m0\u001b[0m\u001b[1;33m]\u001b[0m\u001b[1;33m\u001b[0m\u001b[1;33m\u001b[0m\u001b[0m\n\u001b[0;32m    721\u001b[0m \u001b[1;33m\u001b[0m\u001b[0m\n\u001b[1;32m--> 722\u001b[1;33m             \u001b[0mself\u001b[0m\u001b[1;33m.\u001b[0m\u001b[0m_run_search\u001b[0m\u001b[1;33m(\u001b[0m\u001b[0mevaluate_candidates\u001b[0m\u001b[1;33m)\u001b[0m\u001b[1;33m\u001b[0m\u001b[1;33m\u001b[0m\u001b[0m\n\u001b[0m\u001b[0;32m    723\u001b[0m \u001b[1;33m\u001b[0m\u001b[0m\n\u001b[0;32m    724\u001b[0m         \u001b[0mresults\u001b[0m \u001b[1;33m=\u001b[0m \u001b[0mresults_container\u001b[0m\u001b[1;33m[\u001b[0m\u001b[1;36m0\u001b[0m\u001b[1;33m]\u001b[0m\u001b[1;33m\u001b[0m\u001b[1;33m\u001b[0m\u001b[0m\n",
      "\u001b[1;32m~\\AppData\\Local\\Continuum\\anaconda3\\lib\\site-packages\\sklearn\\model_selection\\_search.py\u001b[0m in \u001b[0;36m_run_search\u001b[1;34m(self, evaluate_candidates)\u001b[0m\n\u001b[0;32m   1513\u001b[0m         evaluate_candidates(ParameterSampler(\n\u001b[0;32m   1514\u001b[0m             \u001b[0mself\u001b[0m\u001b[1;33m.\u001b[0m\u001b[0mparam_distributions\u001b[0m\u001b[1;33m,\u001b[0m \u001b[0mself\u001b[0m\u001b[1;33m.\u001b[0m\u001b[0mn_iter\u001b[0m\u001b[1;33m,\u001b[0m\u001b[1;33m\u001b[0m\u001b[1;33m\u001b[0m\u001b[0m\n\u001b[1;32m-> 1515\u001b[1;33m             random_state=self.random_state))\n\u001b[0m",
      "\u001b[1;32m~\\AppData\\Local\\Continuum\\anaconda3\\lib\\site-packages\\sklearn\\model_selection\\_search.py\u001b[0m in \u001b[0;36mevaluate_candidates\u001b[1;34m(candidate_params)\u001b[0m\n\u001b[0;32m    694\u001b[0m \u001b[1;33m\u001b[0m\u001b[0m\n\u001b[0;32m    695\u001b[0m             \u001b[1;32mdef\u001b[0m \u001b[0mevaluate_candidates\u001b[0m\u001b[1;33m(\u001b[0m\u001b[0mcandidate_params\u001b[0m\u001b[1;33m)\u001b[0m\u001b[1;33m:\u001b[0m\u001b[1;33m\u001b[0m\u001b[1;33m\u001b[0m\u001b[0m\n\u001b[1;32m--> 696\u001b[1;33m                 \u001b[0mcandidate_params\u001b[0m \u001b[1;33m=\u001b[0m \u001b[0mlist\u001b[0m\u001b[1;33m(\u001b[0m\u001b[0mcandidate_params\u001b[0m\u001b[1;33m)\u001b[0m\u001b[1;33m\u001b[0m\u001b[1;33m\u001b[0m\u001b[0m\n\u001b[0m\u001b[0;32m    697\u001b[0m                 \u001b[0mn_candidates\u001b[0m \u001b[1;33m=\u001b[0m \u001b[0mlen\u001b[0m\u001b[1;33m(\u001b[0m\u001b[0mcandidate_params\u001b[0m\u001b[1;33m)\u001b[0m\u001b[1;33m\u001b[0m\u001b[1;33m\u001b[0m\u001b[0m\n\u001b[0;32m    698\u001b[0m \u001b[1;33m\u001b[0m\u001b[0m\n",
      "\u001b[1;32m~\\AppData\\Local\\Continuum\\anaconda3\\lib\\site-packages\\sklearn\\model_selection\\_search.py\u001b[0m in \u001b[0;36m__iter__\u001b[1;34m(self)\u001b[0m\n\u001b[0;32m    255\u001b[0m         \u001b[1;31m# in this case we want to sample without replacement\u001b[0m\u001b[1;33m\u001b[0m\u001b[1;33m\u001b[0m\u001b[1;33m\u001b[0m\u001b[0m\n\u001b[0;32m    256\u001b[0m         all_lists = np.all([not hasattr(v, \"rvs\")\n\u001b[1;32m--> 257\u001b[1;33m                             for v in self.param_distributions.values()])\n\u001b[0m\u001b[0;32m    258\u001b[0m         \u001b[0mrnd\u001b[0m \u001b[1;33m=\u001b[0m \u001b[0mcheck_random_state\u001b[0m\u001b[1;33m(\u001b[0m\u001b[0mself\u001b[0m\u001b[1;33m.\u001b[0m\u001b[0mrandom_state\u001b[0m\u001b[1;33m)\u001b[0m\u001b[1;33m\u001b[0m\u001b[1;33m\u001b[0m\u001b[0m\n\u001b[0;32m    259\u001b[0m \u001b[1;33m\u001b[0m\u001b[0m\n",
      "\u001b[1;31mAttributeError\u001b[0m: 'list' object has no attribute 'values'"
     ]
    }
   ],
   "source": [
    "# run gridearch\n",
    "gs = gs.fit(X_train, y_train, **fit_params)"
   ]
  },
  {
   "cell_type": "code",
   "execution_count": null,
   "metadata": {},
   "outputs": [],
   "source": []
  }
 ],
 "metadata": {
  "kernelspec": {
   "display_name": "Python 3",
   "language": "python",
   "name": "python3"
  },
  "language_info": {
   "codemirror_mode": {
    "name": "ipython",
    "version": 3
   },
   "file_extension": ".py",
   "mimetype": "text/x-python",
   "name": "python",
   "nbconvert_exporter": "python",
   "pygments_lexer": "ipython3",
   "version": "3.7.3"
  }
 },
 "nbformat": 4,
 "nbformat_minor": 2
}
