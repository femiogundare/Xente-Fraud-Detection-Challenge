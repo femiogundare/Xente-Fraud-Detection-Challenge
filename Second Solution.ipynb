{
 "cells": [
  {
   "cell_type": "code",
   "execution_count": 1,
   "metadata": {},
   "outputs": [],
   "source": [
    "\n",
    "import numpy as np\n",
    "import math\n",
    "import pandas as pd\n",
    "import seaborn as sns\n",
    "import matplotlib.pyplot as plt\n",
    "%matplotlib inline\n",
    "\n",
    "import time\n",
    "from collections import Counter\n",
    "from sklearn.preprocessing import LabelEncoder\n",
    "from sklearn.model_selection import train_test_split, RandomizedSearchCV, GridSearchCV, StratifiedKFold, StratifiedShuffleSplit, cross_val_score\n",
    "from sklearn.pipeline import make_pipeline\n",
    "from sklearn.metrics import confusion_matrix, classification_report, precision_score, recall_score, f1_score, precision_recall_curve"
   ]
  },
  {
   "cell_type": "code",
   "execution_count": 2,
   "metadata": {},
   "outputs": [],
   "source": [
    "\n",
    "train_data = pd.read_csv('FinalTrain31Aug.csv')\n",
    "test_data = pd.read_csv('FinalTest31Aug.csv')"
   ]
  },
  {
   "cell_type": "code",
   "execution_count": 3,
   "metadata": {},
   "outputs": [],
   "source": [
    "testId = pd.read_csv('testTransId.csv', header=None)"
   ]
  },
  {
   "cell_type": "code",
   "execution_count": 4,
   "metadata": {},
   "outputs": [
    {
     "data": {
      "text/plain": [
       "0    TransactionId_50600\n",
       "1    TransactionId_95109\n",
       "2    TransactionId_47357\n",
       "3    TransactionId_28185\n",
       "4    TransactionId_22140\n",
       "Name: 0, dtype: object"
      ]
     },
     "execution_count": 4,
     "metadata": {},
     "output_type": "execute_result"
    }
   ],
   "source": [
    "testId.head()[0]"
   ]
  },
  {
   "cell_type": "code",
   "execution_count": 5,
   "metadata": {},
   "outputs": [],
   "source": [
    "X, y = train_data.drop('FraudResult', axis=1), train_data['FraudResult']\n",
    "\n",
    "X_train, X_test, y_train, y_test = train_test_split(\n",
    "    X, y, stratify=y, test_size=0.2, random_state=42\n",
    ")"
   ]
  },
  {
   "cell_type": "code",
   "execution_count": 6,
   "metadata": {
    "scrolled": true
   },
   "outputs": [
    {
     "data": {
      "text/plain": [
       "(76529, 191)"
      ]
     },
     "execution_count": 6,
     "metadata": {},
     "output_type": "execute_result"
    }
   ],
   "source": [
    "X_train.shape"
   ]
  },
  {
   "cell_type": "code",
   "execution_count": 7,
   "metadata": {},
   "outputs": [
    {
     "data": {
      "text/plain": [
       "(19133, 191)"
      ]
     },
     "execution_count": 7,
     "metadata": {},
     "output_type": "execute_result"
    }
   ],
   "source": [
    "X_test.shape"
   ]
  },
  {
   "cell_type": "code",
   "execution_count": null,
   "metadata": {},
   "outputs": [],
   "source": []
  },
  {
   "cell_type": "code",
   "execution_count": 8,
   "metadata": {},
   "outputs": [],
   "source": [
    "from sklearn.utils import resample"
   ]
  },
  {
   "cell_type": "code",
   "execution_count": 9,
   "metadata": {},
   "outputs": [],
   "source": [
    "from sklearn.model_selection import TimeSeriesSplit\n",
    "\n",
    "cv = StratifiedKFold(n_splits=5, random_state=42)\n",
    "tss = TimeSeriesSplit(n_splits=5)"
   ]
  },
  {
   "cell_type": "code",
   "execution_count": 10,
   "metadata": {},
   "outputs": [],
   "source": [
    "from sklearn.ensemble import RandomForestClassifier\n",
    "from sklearn.tree import DecisionTreeClassifier\n",
    "import xgboost as xgb\n",
    "import lightgbm as lgb\n",
    "import catboost as cat\n",
    "from sklearn.svm import SVC\n",
    "from sklearn.linear_model import LogisticRegression\n",
    "from sklearn.ensemble import ExtraTreesClassifier\n",
    "from sklearn.ensemble import BaggingClassifier\n",
    "from sklearn.ensemble import GradientBoostingClassifier\n",
    "from sklearn.ensemble import AdaBoostClassifier"
   ]
  },
  {
   "cell_type": "code",
   "execution_count": 11,
   "metadata": {},
   "outputs": [],
   "source": [
    "from sklearn.feature_selection import SelectKBest\n",
    "from sklearn.feature_selection import chi2, f_classif\n",
    "from sklearn.feature_selection import RFE"
   ]
  },
  {
   "cell_type": "code",
   "execution_count": 12,
   "metadata": {},
   "outputs": [],
   "source": [
    "from sklearn.feature_selection import SelectFromModel"
   ]
  },
  {
   "cell_type": "code",
   "execution_count": 13,
   "metadata": {},
   "outputs": [],
   "source": [
    "import mlxtend\n",
    "from mlxtend.feature_selection import SequentialFeatureSelector as SFS\n",
    "from sklearn.pipeline import Pipeline"
   ]
  },
  {
   "cell_type": "code",
   "execution_count": null,
   "metadata": {},
   "outputs": [],
   "source": []
  },
  {
   "cell_type": "code",
   "execution_count": null,
   "metadata": {},
   "outputs": [],
   "source": [
    "xgbm = xgb.XGBClassifier(n_estimators=100, max_depth=3, scale_pos_weight=496, n_jobs=-1, random_state=42)\n"
   ]
  },
  {
   "cell_type": "code",
   "execution_count": null,
   "metadata": {},
   "outputs": [],
   "source": [
    "cross_val_score(xgbm, X_train, y_train, cv=TimeSeriesSplit(n_splits=20), scoring='f1', n_jobs=-1).mean()"
   ]
  },
  {
   "cell_type": "code",
   "execution_count": null,
   "metadata": {},
   "outputs": [],
   "source": [
    "cross_val_score(xgbm, X, y, cv=TimeSeriesSplit(n_splits=20), scoring='f1', n_jobs=-1).mean()"
   ]
  },
  {
   "cell_type": "code",
   "execution_count": null,
   "metadata": {},
   "outputs": [],
   "source": []
  },
  {
   "cell_type": "code",
   "execution_count": null,
   "metadata": {},
   "outputs": [],
   "source": [
    "cross_val_score(xgbm, X_train, y_train, cv=cv, scoring='f1', n_jobs=-1).mean()"
   ]
  },
  {
   "cell_type": "code",
   "execution_count": null,
   "metadata": {},
   "outputs": [],
   "source": [
    "cross_val_score(xgbm, X, y, cv=cv, scoring='f1', n_jobs=-1).mean()"
   ]
  },
  {
   "cell_type": "code",
   "execution_count": null,
   "metadata": {},
   "outputs": [],
   "source": [
    "cross_val_score(xgbm, X_train, y_train, cv=cv, scoring='f1', n_jobs=-1).mean()"
   ]
  },
  {
   "cell_type": "code",
   "execution_count": null,
   "metadata": {},
   "outputs": [],
   "source": [
    "Counter(y_test)"
   ]
  },
  {
   "cell_type": "code",
   "execution_count": null,
   "metadata": {},
   "outputs": [],
   "source": []
  },
  {
   "cell_type": "code",
   "execution_count": null,
   "metadata": {},
   "outputs": [],
   "source": []
  },
  {
   "cell_type": "code",
   "execution_count": null,
   "metadata": {},
   "outputs": [],
   "source": []
  },
  {
   "cell_type": "markdown",
   "metadata": {},
   "source": [
    "<h2>XGBoost</h2>"
   ]
  },
  {
   "cell_type": "code",
   "execution_count": null,
   "metadata": {},
   "outputs": [],
   "source": [
    "print(grid.best_params_, grid.best_score_)"
   ]
  },
  {
   "cell_type": "code",
   "execution_count": null,
   "metadata": {},
   "outputs": [],
   "source": []
  },
  {
   "cell_type": "code",
   "execution_count": null,
   "metadata": {},
   "outputs": [],
   "source": []
  },
  {
   "cell_type": "code",
   "execution_count": 14,
   "metadata": {},
   "outputs": [],
   "source": [
    "##Classifier\n",
    "xgbm=xgb.XGBClassifier(max_depth=6,\n",
    "                 learning_rate=0.1,\n",
    "                 n_estimators=100,\n",
    "                 objective=\"binary:logistic\",\n",
    "                 booster=\"gbtree\",\n",
    "                 gamma=0.4,\n",
    "                 min_child_weight=3,\n",
    "                 subsample=0.9,\n",
    "                 colsample_bylevel=1,\n",
    "                 colsample_bytree=0.6,\n",
    "                 reg_alpha=0.001,\n",
    "                 reg_lambda=1,\n",
    "                 scale_pos_weight=496,\n",
    "                 random_state=42,\n",
    "                 n_jobs=-1)\n",
    "\n",
    "#cross_val_score(xgbm, X_train, y_train, cv=TimeSeriesSplit(n_splits=5), scoring='f1', n_jobs=-1).mean()"
   ]
  },
  {
   "cell_type": "code",
   "execution_count": 15,
   "metadata": {},
   "outputs": [
    {
     "data": {
      "text/plain": [
       "GridSearchCV(cv=TimeSeriesSplit(max_train_size=None, n_splits=5),\n",
       "       error_score='raise-deprecating',\n",
       "       estimator=XGBClassifier(base_score=0.5, booster='gbtree', colsample_bylevel=1,\n",
       "       colsample_bynode=1, colsample_bytree=0.6, gamma=0.4,\n",
       "       learning_rate=0.1, max_delta_step=0, max_depth=6,\n",
       "       min_child_weight=3, missing=None, n_estimators=100, n_jobs=-1,\n",
       "       nthread=None, objective='binary:logistic', random_state=42,\n",
       "       reg_alpha=0.001, reg_lambda=1, scale_pos_weight=496, seed=None,\n",
       "       silent=None, subsample=0.9, verbosity=1),\n",
       "       fit_params=None, iid='warn', n_jobs=-1,\n",
       "       param_grid={'reg_lambda': [0.5, 1], 'reg_alpha': [0, 0.001]},\n",
       "       pre_dispatch='2*n_jobs', refit=True, return_train_score='warn',\n",
       "       scoring='f1', verbose=0)"
      ]
     },
     "execution_count": 15,
     "metadata": {},
     "output_type": "execute_result"
    }
   ],
   "source": [
    "params_1 = {\n",
    "    'reg_lambda' : [0.5, 1],\n",
    "    'reg_alpha':[0, 0.001]\n",
    "}\n",
    "\n",
    "grid1 = GridSearchCV(\n",
    "    xgbm, params_1, scoring='f1', n_jobs=-1, refit=True, verbose=0, cv=TimeSeriesSplit(n_splits=5)\n",
    ")\n",
    "\n",
    "grid1.fit(X_train, y_train)"
   ]
  },
  {
   "cell_type": "code",
   "execution_count": 16,
   "metadata": {},
   "outputs": [
    {
     "data": {
      "text/plain": [
       "({'reg_alpha': 0, 'reg_lambda': 1}, 0.8175856497980517)"
      ]
     },
     "execution_count": 16,
     "metadata": {},
     "output_type": "execute_result"
    }
   ],
   "source": [
    "grid1.best_params_, grid1.best_score_"
   ]
  },
  {
   "cell_type": "code",
   "execution_count": 17,
   "metadata": {},
   "outputs": [
    {
     "data": {
      "text/plain": [
       "XGBClassifier(base_score=0.5, booster='gbtree', colsample_bylevel=1,\n",
       "       colsample_bynode=1, colsample_bytree=0.6, gamma=0.4,\n",
       "       learning_rate=0.1, max_delta_step=0, max_depth=6,\n",
       "       min_child_weight=3, missing=None, n_estimators=100, n_jobs=-1,\n",
       "       nthread=None, objective='binary:logistic', random_state=42,\n",
       "       reg_alpha=0, reg_lambda=1, scale_pos_weight=496, seed=None,\n",
       "       silent=None, subsample=0.9, verbosity=1)"
      ]
     },
     "execution_count": 17,
     "metadata": {},
     "output_type": "execute_result"
    }
   ],
   "source": [
    "grid1.best_estimator_"
   ]
  },
  {
   "cell_type": "code",
   "execution_count": 18,
   "metadata": {},
   "outputs": [
    {
     "data": {
      "text/html": [
       "<div>\n",
       "<style scoped>\n",
       "    .dataframe tbody tr th:only-of-type {\n",
       "        vertical-align: middle;\n",
       "    }\n",
       "\n",
       "    .dataframe tbody tr th {\n",
       "        vertical-align: top;\n",
       "    }\n",
       "\n",
       "    .dataframe thead th {\n",
       "        text-align: right;\n",
       "    }\n",
       "</style>\n",
       "<table border=\"1\" class=\"dataframe\">\n",
       "  <thead>\n",
       "    <tr style=\"text-align: right;\">\n",
       "      <th></th>\n",
       "      <th>Features</th>\n",
       "      <th>Importances</th>\n",
       "    </tr>\n",
       "  </thead>\n",
       "  <tbody>\n",
       "    <tr>\n",
       "      <th>60</th>\n",
       "      <td>sum_of_amt_per_ProductId_in_last_24hhrs</td>\n",
       "      <td>0.289322</td>\n",
       "    </tr>\n",
       "    <tr>\n",
       "      <th>7</th>\n",
       "      <td>Avg_amt_per_ProviderId_in_last_12hhrs</td>\n",
       "      <td>0.184162</td>\n",
       "    </tr>\n",
       "    <tr>\n",
       "      <th>8</th>\n",
       "      <td>sum_of_amt_per_ProviderId_in_last_12hhrs</td>\n",
       "      <td>0.182772</td>\n",
       "    </tr>\n",
       "    <tr>\n",
       "      <th>56</th>\n",
       "      <td>sum_of_amt_per_ProductId_in_last_12hhrs</td>\n",
       "      <td>0.054327</td>\n",
       "    </tr>\n",
       "    <tr>\n",
       "      <th>117</th>\n",
       "      <td>Amount_to_mean_ChannelId</td>\n",
       "      <td>0.052674</td>\n",
       "    </tr>\n",
       "  </tbody>\n",
       "</table>\n",
       "</div>"
      ],
      "text/plain": [
       "                                     Features  Importances\n",
       "60    sum_of_amt_per_ProductId_in_last_24hhrs     0.289322\n",
       "7       Avg_amt_per_ProviderId_in_last_12hhrs     0.184162\n",
       "8    sum_of_amt_per_ProviderId_in_last_12hhrs     0.182772\n",
       "56    sum_of_amt_per_ProductId_in_last_12hhrs     0.054327\n",
       "117                  Amount_to_mean_ChannelId     0.052674"
      ]
     },
     "execution_count": 18,
     "metadata": {},
     "output_type": "execute_result"
    }
   ],
   "source": [
    "xgb_ft_importances = grid1.best_estimator_.feature_importances_\n",
    "fts = X_train.columns\n",
    "\n",
    "xgb_importances = pd.DataFrame({'Features' : fts, 'Importances' : xgb_ft_importances}).sort_values(by='Importances', ascending=False)\n",
    "xgb_importances.head()"
   ]
  },
  {
   "cell_type": "code",
   "execution_count": 19,
   "metadata": {},
   "outputs": [
    {
     "data": {
      "text/plain": [
       "[0.2893218398094177,\n",
       " 0.1841624230146408,\n",
       " 0.1827717423439026,\n",
       " 0.05432732030749321,\n",
       " 0.052674125880002975,\n",
       " 0.04821249097585678,\n",
       " 0.020868195220828056,\n",
       " 0.01963481865823269,\n",
       " 0.01351742260158062,\n",
       " 0.013077921234071255,\n",
       " 0.012020773254334927,\n",
       " 0.008020779117941856,\n",
       " 0.0070663318037986755,\n",
       " 0.006876960396766663,\n",
       " 0.00585645018145442,\n",
       " 0.0054880063980817795,\n",
       " 0.0049582296051084995,\n",
       " 0.004576418548822403,\n",
       " 0.003903270000591874,\n",
       " 0.003853564616292715,\n",
       " 0.003806590335443616,\n",
       " 0.002897702855989337,\n",
       " 0.002529678400605917,\n",
       " 0.0025111555587500334,\n",
       " 0.002490087179467082,\n",
       " 0.0024619053583592176,\n",
       " 0.0023622747976332903,\n",
       " 0.0019146207487210631,\n",
       " 0.0016386231873184443,\n",
       " 0.0015961930621415377,\n",
       " 0.001581875723786652,\n",
       " 0.001504231127910316,\n",
       " 0.0014999302802607417,\n",
       " 0.001409644610248506,\n",
       " 0.001276718219742179,\n",
       " 0.0012129672104492784,\n",
       " 0.0012052025413140655,\n",
       " 0.0011563051957637072,\n",
       " 0.0011450937017798424,\n",
       " 0.0010847090743482113,\n",
       " 0.001041193027049303,\n",
       " 0.0008645575144328177,\n",
       " 0.0008620956214144826,\n",
       " 0.0007733256788924336,\n",
       " 0.0007515554316341877,\n",
       " 0.0007506822003051639,\n",
       " 0.000703509955201298,\n",
       " 0.000702404766343534,\n",
       " 0.00069306546356529,\n",
       " 0.0006406101165339351,\n",
       " 0.0006063679466024041,\n",
       " 0.0005994325038045645,\n",
       " 0.0005701625486835837,\n",
       " 0.0005555779789574444,\n",
       " 0.0005273082060739398,\n",
       " 0.0005083733121864498,\n",
       " 0.0004904689267277718,\n",
       " 0.0004844802024308592,\n",
       " 0.0004592662153299898,\n",
       " 0.00045889642206020653,\n",
       " 0.0004396482545416802,\n",
       " 0.0004254115920048207,\n",
       " 0.0004047130641993135,\n",
       " 0.0003602025390136987,\n",
       " 0.0003456643898971379,\n",
       " 0.0003348671889398247,\n",
       " 0.0003235913463868201,\n",
       " 0.0002650769893079996,\n",
       " 0.00026172830257564783,\n",
       " 0.0002534618542995304,\n",
       " 0.00024700950598344207,\n",
       " 0.0002062719431705773,\n",
       " 0.00020013347966596484,\n",
       " 0.0001959088258445263,\n",
       " 0.0001933872845256701,\n",
       " 0.00019139904179610312,\n",
       " 0.0001753235555952415,\n",
       " 0.00017506098083686084,\n",
       " 0.00017358263721689582,\n",
       " 0.00017101646517403424,\n",
       " 0.0001663271978031844,\n",
       " 0.00015440129209309816,\n",
       " 0.0001499993377365172,\n",
       " 0.0001486724941059947,\n",
       " 0.00014748561079613864,\n",
       " 0.00014575195382349193,\n",
       " 0.00013464404037222266,\n",
       " 0.00011716697190422565,\n",
       " 0.00011279476893832907,\n",
       " 0.0001117049905587919,\n",
       " 0.00010427577944938093,\n",
       " 9.885454346658662e-05,\n",
       " 9.016410331241786e-05,\n",
       " 8.751163113629445e-05,\n",
       " 8.621667802799493e-05,\n",
       " 8.028431329876184e-05,\n",
       " 7.887533138273284e-05,\n",
       " 7.3288130806759e-05,\n",
       " 7.309342618100345e-05,\n",
       " 7.107872079359367e-05,\n",
       " 6.047197166481055e-05,\n",
       " 5.803931344416924e-05,\n",
       " 5.7950539485318586e-05,\n",
       " 5.77115461055655e-05,\n",
       " 5.6672019127290696e-05,\n",
       " 5.520180275198072e-05,\n",
       " 5.243132181931287e-05,\n",
       " 5.172673991182819e-05,\n",
       " 4.589850504999049e-05,\n",
       " 4.427928797667846e-05,\n",
       " 4.22992161475122e-05,\n",
       " 3.506820212351158e-05,\n",
       " 3.1895251595415175e-05,\n",
       " 3.135166480205953e-05,\n",
       " 3.060173548874445e-05,\n",
       " 2.6982605049852282e-05,\n",
       " 2.540984860388562e-05,\n",
       " 2.5146156986011192e-05,\n",
       " 2.423543992335908e-05,\n",
       " 2.2946453100303188e-05,\n",
       " 2.1978699805913493e-05,\n",
       " 1.9991475710412487e-05,\n",
       " 1.3905161722505e-05,\n",
       " 1.3836571270076092e-05,\n",
       " 0.0,\n",
       " 0.0,\n",
       " 0.0,\n",
       " 0.0,\n",
       " 0.0,\n",
       " 0.0,\n",
       " 0.0,\n",
       " 0.0,\n",
       " 0.0,\n",
       " 0.0,\n",
       " 0.0,\n",
       " 0.0,\n",
       " 0.0,\n",
       " 0.0,\n",
       " 0.0,\n",
       " 0.0,\n",
       " 0.0,\n",
       " 0.0,\n",
       " 0.0,\n",
       " 0.0,\n",
       " 0.0,\n",
       " 0.0,\n",
       " 0.0,\n",
       " 0.0,\n",
       " 0.0,\n",
       " 0.0,\n",
       " 0.0,\n",
       " 0.0,\n",
       " 0.0,\n",
       " 0.0,\n",
       " 0.0,\n",
       " 0.0,\n",
       " 0.0,\n",
       " 0.0,\n",
       " 0.0,\n",
       " 0.0,\n",
       " 0.0,\n",
       " 0.0,\n",
       " 0.0,\n",
       " 0.0,\n",
       " 0.0,\n",
       " 0.0,\n",
       " 0.0,\n",
       " 0.0,\n",
       " 0.0,\n",
       " 0.0,\n",
       " 0.0,\n",
       " 0.0,\n",
       " 0.0,\n",
       " 0.0,\n",
       " 0.0,\n",
       " 0.0,\n",
       " 0.0,\n",
       " 0.0,\n",
       " 0.0,\n",
       " 0.0,\n",
       " 0.0,\n",
       " 0.0,\n",
       " 0.0,\n",
       " 0.0,\n",
       " 0.0,\n",
       " 0.0,\n",
       " 0.0,\n",
       " 0.0,\n",
       " 0.0,\n",
       " 0.0,\n",
       " 0.0]"
      ]
     },
     "execution_count": 19,
     "metadata": {},
     "output_type": "execute_result"
    }
   ],
   "source": [
    "xgbm_ft_importances_stored = xgb_importances['Importances'].tolist()\n",
    "xgbm_ft_importances_stored"
   ]
  },
  {
   "cell_type": "code",
   "execution_count": 20,
   "metadata": {},
   "outputs": [
    {
     "data": {
      "text/plain": [
       "(67, 2)"
      ]
     },
     "execution_count": 20,
     "metadata": {},
     "output_type": "execute_result"
    }
   ],
   "source": [
    "xgb_importances[xgb_importances['Importances']==0].shape"
   ]
  },
  {
   "cell_type": "code",
   "execution_count": 21,
   "metadata": {},
   "outputs": [
    {
     "data": {
      "text/plain": [
       "(124, 2)"
      ]
     },
     "execution_count": 21,
     "metadata": {},
     "output_type": "execute_result"
    }
   ],
   "source": [
    "xgb_importances = xgb_importances[xgb_importances['Importances']>0]\n",
    "xgb_importances.shape"
   ]
  },
  {
   "cell_type": "code",
   "execution_count": 22,
   "metadata": {},
   "outputs": [
    {
     "data": {
      "text/plain": [
       "XGBClassifier(base_score=0.5, booster='gbtree', colsample_bylevel=1,\n",
       "       colsample_bynode=1, colsample_bytree=0.6, gamma=0.4,\n",
       "       learning_rate=0.1, max_delta_step=0, max_depth=6,\n",
       "       min_child_weight=3, missing=None, n_estimators=100, n_jobs=-1,\n",
       "       nthread=None, objective='binary:logistic', random_state=42,\n",
       "       reg_alpha=0, reg_lambda=1, scale_pos_weight=496, seed=None,\n",
       "       silent=None, subsample=0.9, verbosity=1)"
      ]
     },
     "execution_count": 22,
     "metadata": {},
     "output_type": "execute_result"
    }
   ],
   "source": [
    "xgb.XGBClassifier(**grid1.best_estimator_.get_params())"
   ]
  },
  {
   "cell_type": "code",
   "execution_count": 23,
   "metadata": {},
   "outputs": [
    {
     "data": {
      "text/plain": [
       "(76529, 191)"
      ]
     },
     "execution_count": 23,
     "metadata": {},
     "output_type": "execute_result"
    }
   ],
   "source": [
    "X_train.shape"
   ]
  },
  {
   "cell_type": "code",
   "execution_count": 24,
   "metadata": {},
   "outputs": [
    {
     "data": {
      "text/plain": [
       "(19133, 191)"
      ]
     },
     "execution_count": 24,
     "metadata": {},
     "output_type": "execute_result"
    }
   ],
   "source": [
    "X_test.shape"
   ]
  },
  {
   "cell_type": "code",
   "execution_count": 25,
   "metadata": {},
   "outputs": [],
   "source": [
    "grid1 = grid1.best_estimator_"
   ]
  },
  {
   "cell_type": "code",
   "execution_count": null,
   "metadata": {},
   "outputs": [],
   "source": [
    "thresholds = np.sort(np.array(xgb_importances['Importances']))\n",
    "for thresh in thresholds:\n",
    "    \n",
    "    f1 = []\n",
    "    \n",
    "    for train, test in TimeSeriesSplit(n_splits=5).split(X_train, y_train):\n",
    "        # select features using threshold\n",
    "        selection = SelectFromModel(grid1, threshold=thresh, prefit=True)\n",
    "        select_X_train = selection.transform(X_train.iloc[train])\n",
    "        # train model\n",
    "        selection_model = xgb.XGBClassifier(**grid1.get_params())\n",
    "        selection_model.fit(select_X_train, y_train.iloc[train])\n",
    "        # eval model\n",
    "        select_X_test = selection.transform(X_train.iloc[test])\n",
    "        y_pred = selection_model.predict(select_X_test)\n",
    "        predictions = [round(value) for value in y_pred]\n",
    "        f1.append(f1_score(y_train.iloc[test], predictions))\n",
    "        \n",
    "    print(\"Thresh=%.8f, n=%d, F1: %.8f\" % (thresh, select_X_train.shape[1], np.mean(f1)))"
   ]
  },
  {
   "cell_type": "code",
   "execution_count": 26,
   "metadata": {},
   "outputs": [
    {
     "data": {
      "text/plain": [
       "(77,)"
      ]
     },
     "execution_count": 26,
     "metadata": {},
     "output_type": "execute_result"
    }
   ],
   "source": [
    "\n",
    "\n",
    "xgb_importances[xgb_importances['Importances']>=0.00017532]['Features'].shape"
   ]
  },
  {
   "cell_type": "code",
   "execution_count": 27,
   "metadata": {},
   "outputs": [],
   "source": [
    "xgb_selected_features = xgb_importances[xgb_importances['Importances']>=0.00017532]['Features']\n",
    "\n",
    "X_train_xgb = X_train.loc[:, xgb_selected_features]\n",
    "X_test_xgb = X_test.loc[:, xgb_selected_features]\n",
    "\n",
    "test_data_xgb = test_data.loc[:, xgb_selected_features]"
   ]
  },
  {
   "cell_type": "code",
   "execution_count": 28,
   "metadata": {},
   "outputs": [
    {
     "data": {
      "text/html": [
       "<div>\n",
       "<style scoped>\n",
       "    .dataframe tbody tr th:only-of-type {\n",
       "        vertical-align: middle;\n",
       "    }\n",
       "\n",
       "    .dataframe tbody tr th {\n",
       "        vertical-align: top;\n",
       "    }\n",
       "\n",
       "    .dataframe thead th {\n",
       "        text-align: right;\n",
       "    }\n",
       "</style>\n",
       "<table border=\"1\" class=\"dataframe\">\n",
       "  <thead>\n",
       "    <tr style=\"text-align: right;\">\n",
       "      <th></th>\n",
       "      <th>sum_of_amt_per_ProductId_in_last_24hhrs</th>\n",
       "      <th>Avg_amt_per_ProviderId_in_last_12hhrs</th>\n",
       "      <th>sum_of_amt_per_ProviderId_in_last_12hhrs</th>\n",
       "      <th>sum_of_amt_per_ProductId_in_last_12hhrs</th>\n",
       "      <th>Amount_to_mean_ChannelId</th>\n",
       "      <th>max_amt_per_ProductId_in_last_12hhrs</th>\n",
       "      <th>max_amt_per_ProductId_in_last_24hhrs</th>\n",
       "      <th>Avg_amt_per_PricingStrategy_in_last_72hhrs</th>\n",
       "      <th>max_amt_per_ProductCategory_in_last_72hhrs</th>\n",
       "      <th>sum_of_amt_per_ProviderId_in_last_168hhrs</th>\n",
       "      <th>...</th>\n",
       "      <th>no_of_trans_per_ProductId_in_last_12hhrs</th>\n",
       "      <th>max_amt_per_ProductId_in_last_168hhrs</th>\n",
       "      <th>sum_of_amt_per_ChannelId_in_last_168hhrs</th>\n",
       "      <th>no_of_trans_per_ChannelId_in_last_168hhrs</th>\n",
       "      <th>Amount</th>\n",
       "      <th>Weekday_Wednesday</th>\n",
       "      <th>Amount_to_mean_ProductId</th>\n",
       "      <th>Avg_amt_per_CustomerId_in_last_12hhrs</th>\n",
       "      <th>no_of_trans_per_ProductId_in_last_72hhrs</th>\n",
       "      <th>Avg_amt_per_ProviderId_in_last_168hhrs</th>\n",
       "    </tr>\n",
       "  </thead>\n",
       "  <tbody>\n",
       "    <tr>\n",
       "      <th>46767</th>\n",
       "      <td>40500.0</td>\n",
       "      <td>10125.000000</td>\n",
       "      <td>40500.0</td>\n",
       "      <td>40500.0</td>\n",
       "      <td>0.660896</td>\n",
       "      <td>19500.0</td>\n",
       "      <td>19500.0</td>\n",
       "      <td>2111.058140</td>\n",
       "      <td>46000.0</td>\n",
       "      <td>153000.0</td>\n",
       "      <td>...</td>\n",
       "      <td>4.0</td>\n",
       "      <td>46000.0</td>\n",
       "      <td>502600.0</td>\n",
       "      <td>189.0</td>\n",
       "      <td>9000.0</td>\n",
       "      <td>0</td>\n",
       "      <td>0.198767</td>\n",
       "      <td>2750.294118</td>\n",
       "      <td>6.0</td>\n",
       "      <td>19125.0</td>\n",
       "    </tr>\n",
       "    <tr>\n",
       "      <th>6158</th>\n",
       "      <td>28000.0</td>\n",
       "      <td>14000.000000</td>\n",
       "      <td>28000.0</td>\n",
       "      <td>28000.0</td>\n",
       "      <td>1.101493</td>\n",
       "      <td>15000.0</td>\n",
       "      <td>15000.0</td>\n",
       "      <td>9634.333333</td>\n",
       "      <td>15000.0</td>\n",
       "      <td>54000.0</td>\n",
       "      <td>...</td>\n",
       "      <td>2.0</td>\n",
       "      <td>15000.0</td>\n",
       "      <td>153500.0</td>\n",
       "      <td>13.0</td>\n",
       "      <td>15000.0</td>\n",
       "      <td>0</td>\n",
       "      <td>1.226831</td>\n",
       "      <td>14214.000000</td>\n",
       "      <td>2.0</td>\n",
       "      <td>9000.0</td>\n",
       "    </tr>\n",
       "    <tr>\n",
       "      <th>80336</th>\n",
       "      <td>-5000.0</td>\n",
       "      <td>-5000.000000</td>\n",
       "      <td>-5000.0</td>\n",
       "      <td>-5000.0</td>\n",
       "      <td>1.282048</td>\n",
       "      <td>-5000.0</td>\n",
       "      <td>-5000.0</td>\n",
       "      <td>-5000.000000</td>\n",
       "      <td>-5000.0</td>\n",
       "      <td>-5000.0</td>\n",
       "      <td>...</td>\n",
       "      <td>1.0</td>\n",
       "      <td>-5000.0</td>\n",
       "      <td>-5000.0</td>\n",
       "      <td>1.0</td>\n",
       "      <td>-5000.0</td>\n",
       "      <td>0</td>\n",
       "      <td>5.533930</td>\n",
       "      <td>2500.000000</td>\n",
       "      <td>1.0</td>\n",
       "      <td>-5000.0</td>\n",
       "    </tr>\n",
       "    <tr>\n",
       "      <th>22537</th>\n",
       "      <td>4200.0</td>\n",
       "      <td>200.000000</td>\n",
       "      <td>200.0</td>\n",
       "      <td>200.0</td>\n",
       "      <td>0.014687</td>\n",
       "      <td>200.0</td>\n",
       "      <td>4000.0</td>\n",
       "      <td>2050.000000</td>\n",
       "      <td>4000.0</td>\n",
       "      <td>9200.0</td>\n",
       "      <td>...</td>\n",
       "      <td>1.0</td>\n",
       "      <td>4000.0</td>\n",
       "      <td>9640.0</td>\n",
       "      <td>6.0</td>\n",
       "      <td>200.0</td>\n",
       "      <td>0</td>\n",
       "      <td>0.055415</td>\n",
       "      <td>200.000000</td>\n",
       "      <td>4.0</td>\n",
       "      <td>1840.0</td>\n",
       "    </tr>\n",
       "    <tr>\n",
       "      <th>86131</th>\n",
       "      <td>8000.0</td>\n",
       "      <td>1532.923077</td>\n",
       "      <td>19928.0</td>\n",
       "      <td>8000.0</td>\n",
       "      <td>0.146866</td>\n",
       "      <td>2000.0</td>\n",
       "      <td>2000.0</td>\n",
       "      <td>7003.186441</td>\n",
       "      <td>5000.0</td>\n",
       "      <td>67428.0</td>\n",
       "      <td>...</td>\n",
       "      <td>6.0</td>\n",
       "      <td>5000.0</td>\n",
       "      <td>685728.0</td>\n",
       "      <td>48.0</td>\n",
       "      <td>2000.0</td>\n",
       "      <td>0</td>\n",
       "      <td>-7.253432</td>\n",
       "      <td>3289.428571</td>\n",
       "      <td>23.0</td>\n",
       "      <td>1873.0</td>\n",
       "    </tr>\n",
       "  </tbody>\n",
       "</table>\n",
       "<p>5 rows × 77 columns</p>\n",
       "</div>"
      ],
      "text/plain": [
       "       sum_of_amt_per_ProductId_in_last_24hhrs  \\\n",
       "46767                                  40500.0   \n",
       "6158                                   28000.0   \n",
       "80336                                  -5000.0   \n",
       "22537                                   4200.0   \n",
       "86131                                   8000.0   \n",
       "\n",
       "       Avg_amt_per_ProviderId_in_last_12hhrs  \\\n",
       "46767                           10125.000000   \n",
       "6158                            14000.000000   \n",
       "80336                           -5000.000000   \n",
       "22537                             200.000000   \n",
       "86131                            1532.923077   \n",
       "\n",
       "       sum_of_amt_per_ProviderId_in_last_12hhrs  \\\n",
       "46767                                   40500.0   \n",
       "6158                                    28000.0   \n",
       "80336                                   -5000.0   \n",
       "22537                                     200.0   \n",
       "86131                                   19928.0   \n",
       "\n",
       "       sum_of_amt_per_ProductId_in_last_12hhrs  Amount_to_mean_ChannelId  \\\n",
       "46767                                  40500.0                  0.660896   \n",
       "6158                                   28000.0                  1.101493   \n",
       "80336                                  -5000.0                  1.282048   \n",
       "22537                                    200.0                  0.014687   \n",
       "86131                                   8000.0                  0.146866   \n",
       "\n",
       "       max_amt_per_ProductId_in_last_12hhrs  \\\n",
       "46767                               19500.0   \n",
       "6158                                15000.0   \n",
       "80336                               -5000.0   \n",
       "22537                                 200.0   \n",
       "86131                                2000.0   \n",
       "\n",
       "       max_amt_per_ProductId_in_last_24hhrs  \\\n",
       "46767                               19500.0   \n",
       "6158                                15000.0   \n",
       "80336                               -5000.0   \n",
       "22537                                4000.0   \n",
       "86131                                2000.0   \n",
       "\n",
       "       Avg_amt_per_PricingStrategy_in_last_72hhrs  \\\n",
       "46767                                 2111.058140   \n",
       "6158                                  9634.333333   \n",
       "80336                                -5000.000000   \n",
       "22537                                 2050.000000   \n",
       "86131                                 7003.186441   \n",
       "\n",
       "       max_amt_per_ProductCategory_in_last_72hhrs  \\\n",
       "46767                                     46000.0   \n",
       "6158                                      15000.0   \n",
       "80336                                     -5000.0   \n",
       "22537                                      4000.0   \n",
       "86131                                      5000.0   \n",
       "\n",
       "       sum_of_amt_per_ProviderId_in_last_168hhrs  ...  \\\n",
       "46767                                   153000.0  ...   \n",
       "6158                                     54000.0  ...   \n",
       "80336                                    -5000.0  ...   \n",
       "22537                                     9200.0  ...   \n",
       "86131                                    67428.0  ...   \n",
       "\n",
       "       no_of_trans_per_ProductId_in_last_12hhrs  \\\n",
       "46767                                       4.0   \n",
       "6158                                        2.0   \n",
       "80336                                       1.0   \n",
       "22537                                       1.0   \n",
       "86131                                       6.0   \n",
       "\n",
       "       max_amt_per_ProductId_in_last_168hhrs  \\\n",
       "46767                                46000.0   \n",
       "6158                                 15000.0   \n",
       "80336                                -5000.0   \n",
       "22537                                 4000.0   \n",
       "86131                                 5000.0   \n",
       "\n",
       "       sum_of_amt_per_ChannelId_in_last_168hhrs  \\\n",
       "46767                                  502600.0   \n",
       "6158                                   153500.0   \n",
       "80336                                   -5000.0   \n",
       "22537                                    9640.0   \n",
       "86131                                  685728.0   \n",
       "\n",
       "       no_of_trans_per_ChannelId_in_last_168hhrs   Amount  Weekday_Wednesday  \\\n",
       "46767                                      189.0   9000.0                  0   \n",
       "6158                                        13.0  15000.0                  0   \n",
       "80336                                        1.0  -5000.0                  0   \n",
       "22537                                        6.0    200.0                  0   \n",
       "86131                                       48.0   2000.0                  0   \n",
       "\n",
       "       Amount_to_mean_ProductId  Avg_amt_per_CustomerId_in_last_12hhrs  \\\n",
       "46767                  0.198767                            2750.294118   \n",
       "6158                   1.226831                           14214.000000   \n",
       "80336                  5.533930                            2500.000000   \n",
       "22537                  0.055415                             200.000000   \n",
       "86131                 -7.253432                            3289.428571   \n",
       "\n",
       "       no_of_trans_per_ProductId_in_last_72hhrs  \\\n",
       "46767                                       6.0   \n",
       "6158                                        2.0   \n",
       "80336                                       1.0   \n",
       "22537                                       4.0   \n",
       "86131                                      23.0   \n",
       "\n",
       "       Avg_amt_per_ProviderId_in_last_168hhrs  \n",
       "46767                                 19125.0  \n",
       "6158                                   9000.0  \n",
       "80336                                 -5000.0  \n",
       "22537                                  1840.0  \n",
       "86131                                  1873.0  \n",
       "\n",
       "[5 rows x 77 columns]"
      ]
     },
     "execution_count": 28,
     "metadata": {},
     "output_type": "execute_result"
    }
   ],
   "source": [
    "X_train_xgb.head()"
   ]
  },
  {
   "cell_type": "code",
   "execution_count": 29,
   "metadata": {},
   "outputs": [
    {
     "data": {
      "text/plain": [
       "{'base_score': 0.5,\n",
       " 'booster': 'gbtree',\n",
       " 'colsample_bylevel': 1,\n",
       " 'colsample_bynode': 1,\n",
       " 'colsample_bytree': 0.6,\n",
       " 'gamma': 0.4,\n",
       " 'learning_rate': 0.1,\n",
       " 'max_delta_step': 0,\n",
       " 'max_depth': 6,\n",
       " 'min_child_weight': 3,\n",
       " 'missing': None,\n",
       " 'n_estimators': 100,\n",
       " 'n_jobs': -1,\n",
       " 'nthread': None,\n",
       " 'objective': 'binary:logistic',\n",
       " 'random_state': 42,\n",
       " 'reg_alpha': 0,\n",
       " 'reg_lambda': 1,\n",
       " 'scale_pos_weight': 496,\n",
       " 'seed': None,\n",
       " 'silent': None,\n",
       " 'subsample': 0.9,\n",
       " 'verbosity': 1}"
      ]
     },
     "execution_count": 29,
     "metadata": {},
     "output_type": "execute_result"
    }
   ],
   "source": [
    "grid1.get_params()"
   ]
  },
  {
   "cell_type": "code",
   "execution_count": 30,
   "metadata": {},
   "outputs": [
    {
     "data": {
      "text/plain": [
       "60             sum_of_amt_per_ProductId_in_last_24hhrs\n",
       "7                Avg_amt_per_ProviderId_in_last_12hhrs\n",
       "8             sum_of_amt_per_ProviderId_in_last_12hhrs\n",
       "56             sum_of_amt_per_ProductId_in_last_12hhrs\n",
       "117                           Amount_to_mean_ChannelId\n",
       "57                max_amt_per_ProductId_in_last_12hhrs\n",
       "61                max_amt_per_ProductId_in_last_24hhrs\n",
       "79          Avg_amt_per_PricingStrategy_in_last_72hhrs\n",
       "33          max_amt_per_ProductCategory_in_last_72hhrs\n",
       "20           sum_of_amt_per_ProviderId_in_last_168hhrs\n",
       "65                max_amt_per_ProductId_in_last_72hhrs\n",
       "28       sum_of_amt_per_ProductCategory_in_last_24hhrs\n",
       "32       sum_of_amt_per_ProductCategory_in_last_72hhrs\n",
       "12            sum_of_amt_per_ProviderId_in_last_24hhrs\n",
       "48             sum_of_amt_per_ChannelId_in_last_72hhrs\n",
       "80       sum_of_amt_per_PricingStrategy_in_last_72hhrs\n",
       "81          max_amt_per_PricingStrategy_in_last_72hhrs\n",
       "95               Avg_amt_per_CustomerId_in_last_72hhrs\n",
       "184                                   Week_fourth_week\n",
       "83         Avg_amt_per_PricingStrategy_in_last_168hhrs\n",
       "100          sum_of_amt_per_CustomerId_in_last_168hhrs\n",
       "27          Avg_amt_per_ProductCategory_in_last_24hhrs\n",
       "46            no_of_trans_per_ChannelId_in_last_24hhrs\n",
       "47                Avg_amt_per_ChannelId_in_last_72hhrs\n",
       "9                max_amt_per_ProviderId_in_last_12hhrs\n",
       "49                max_amt_per_ChannelId_in_last_72hhrs\n",
       "84      sum_of_amt_per_PricingStrategy_in_last_168hhrs\n",
       "4                              Days_to_Nearest_Holiday\n",
       "31          Avg_amt_per_ProductCategory_in_last_72hhrs\n",
       "6                                Time_since_last_trans\n",
       "                            ...                       \n",
       "71          Avg_amt_per_PricingStrategy_in_last_12hhrs\n",
       "77          max_amt_per_PricingStrategy_in_last_24hhrs\n",
       "149                              ProductId_ProductId_7\n",
       "122                            ProviderId_ProviderId_3\n",
       "86     no_of_trans_per_PricingStrategy_in_last_168hhrs\n",
       "73          max_amt_per_PricingStrategy_in_last_12hhrs\n",
       "10           no_of_trans_per_ProviderId_in_last_12hhrs\n",
       "35         Avg_amt_per_ProductCategory_in_last_168hhrs\n",
       "111                          Amount_to_mean_ProviderId\n",
       "165                                          Year_2019\n",
       "109                          Amount_to_mean_CustomerId\n",
       "67               Avg_amt_per_ProductId_in_last_168hhrs\n",
       "85         max_amt_per_PricingStrategy_in_last_168hhrs\n",
       "190                             Within_CI95_28days_Yes\n",
       "41                max_amt_per_ChannelId_in_last_12hhrs\n",
       "186                                    Week_third_week\n",
       "30      no_of_trans_per_ProductCategory_in_last_24hhrs\n",
       "25          max_amt_per_ProductCategory_in_last_12hhrs\n",
       "72       sum_of_amt_per_PricingStrategy_in_last_12hhrs\n",
       "18           no_of_trans_per_ProviderId_in_last_72hhrs\n",
       "58            no_of_trans_per_ProductId_in_last_12hhrs\n",
       "69               max_amt_per_ProductId_in_last_168hhrs\n",
       "52            sum_of_amt_per_ChannelId_in_last_168hhrs\n",
       "54           no_of_trans_per_ChannelId_in_last_168hhrs\n",
       "0                                               Amount\n",
       "175                                  Weekday_Wednesday\n",
       "119                           Amount_to_mean_ProductId\n",
       "87               Avg_amt_per_CustomerId_in_last_12hhrs\n",
       "66            no_of_trans_per_ProductId_in_last_72hhrs\n",
       "19              Avg_amt_per_ProviderId_in_last_168hhrs\n",
       "Name: Features, Length: 77, dtype: object"
      ]
     },
     "execution_count": 30,
     "metadata": {},
     "output_type": "execute_result"
    }
   ],
   "source": [
    "xgb_selected_features"
   ]
  },
  {
   "cell_type": "code",
   "execution_count": null,
   "metadata": {},
   "outputs": [],
   "source": [
    "def my_metric(y_true, pred):\n",
    "    return f1_score(np.array(y_true), np.array(pred))"
   ]
  },
  {
   "cell_type": "code",
   "execution_count": 31,
   "metadata": {},
   "outputs": [
    {
     "name": "stdout",
     "output_type": "stream",
     "text": [
      "[0]\tvalidation_0-error:0.00324\n",
      "Will train until validation_0-error hasn't improved in 60 rounds.\n",
      "[1]\tvalidation_0-error:0.003293\n",
      "[2]\tvalidation_0-error:0.004234\n",
      "[3]\tvalidation_0-error:0.004077\n",
      "[4]\tvalidation_0-error:0.003868\n",
      "[5]\tvalidation_0-error:0.003659\n",
      "[6]\tvalidation_0-error:0.003763\n",
      "[7]\tvalidation_0-error:0.003502\n",
      "[8]\tvalidation_0-error:0.003763\n",
      "[9]\tvalidation_0-error:0.003763\n",
      "[10]\tvalidation_0-error:0.003554\n",
      "[11]\tvalidation_0-error:0.003554\n",
      "[12]\tvalidation_0-error:0.003659\n",
      "[13]\tvalidation_0-error:0.003659\n",
      "[14]\tvalidation_0-error:0.003606\n",
      "[15]\tvalidation_0-error:0.00324\n",
      "[16]\tvalidation_0-error:0.003293\n",
      "[17]\tvalidation_0-error:0.003293\n",
      "[18]\tvalidation_0-error:0.003293\n",
      "[19]\tvalidation_0-error:0.003188\n",
      "[20]\tvalidation_0-error:0.003188\n",
      "[21]\tvalidation_0-error:0.003188\n",
      "[22]\tvalidation_0-error:0.003188\n",
      "[23]\tvalidation_0-error:0.003188\n",
      "[24]\tvalidation_0-error:0.002979\n",
      "[25]\tvalidation_0-error:0.003136\n",
      "[26]\tvalidation_0-error:0.002927\n",
      "[27]\tvalidation_0-error:0.003136\n",
      "[28]\tvalidation_0-error:0.002927\n",
      "[29]\tvalidation_0-error:0.002927\n",
      "[30]\tvalidation_0-error:0.002927\n",
      "[31]\tvalidation_0-error:0.002927\n",
      "[32]\tvalidation_0-error:0.002927\n",
      "[33]\tvalidation_0-error:0.002927\n",
      "[34]\tvalidation_0-error:0.002875\n",
      "[35]\tvalidation_0-error:0.002875\n",
      "[36]\tvalidation_0-error:0.002875\n",
      "[37]\tvalidation_0-error:0.00277\n",
      "[38]\tvalidation_0-error:0.00277\n",
      "[39]\tvalidation_0-error:0.00277\n",
      "[40]\tvalidation_0-error:0.00277\n",
      "[41]\tvalidation_0-error:0.002718\n",
      "[42]\tvalidation_0-error:0.002718\n",
      "[43]\tvalidation_0-error:0.002718\n",
      "[44]\tvalidation_0-error:0.002718\n",
      "[45]\tvalidation_0-error:0.002718\n",
      "[46]\tvalidation_0-error:0.002718\n",
      "[47]\tvalidation_0-error:0.002666\n",
      "[48]\tvalidation_0-error:0.002561\n",
      "[49]\tvalidation_0-error:0.002509\n",
      "[50]\tvalidation_0-error:0.002456\n",
      "[51]\tvalidation_0-error:0.002509\n",
      "[52]\tvalidation_0-error:0.002404\n",
      "[53]\tvalidation_0-error:0.002404\n",
      "[54]\tvalidation_0-error:0.002352\n",
      "[55]\tvalidation_0-error:0.002404\n",
      "[56]\tvalidation_0-error:0.002352\n",
      "[57]\tvalidation_0-error:0.002143\n",
      "[58]\tvalidation_0-error:0.002143\n",
      "[59]\tvalidation_0-error:0.001986\n",
      "[60]\tvalidation_0-error:0.001882\n",
      "[61]\tvalidation_0-error:0.001986\n",
      "[62]\tvalidation_0-error:0.001986\n",
      "[63]\tvalidation_0-error:0.001934\n",
      "[64]\tvalidation_0-error:0.001725\n",
      "[65]\tvalidation_0-error:0.001725\n",
      "[66]\tvalidation_0-error:0.001673\n",
      "[67]\tvalidation_0-error:0.001673\n",
      "[68]\tvalidation_0-error:0.00162\n",
      "[69]\tvalidation_0-error:0.001777\n",
      "[70]\tvalidation_0-error:0.001725\n",
      "[71]\tvalidation_0-error:0.001777\n",
      "[72]\tvalidation_0-error:0.001673\n",
      "[73]\tvalidation_0-error:0.001725\n",
      "[74]\tvalidation_0-error:0.001673\n",
      "[75]\tvalidation_0-error:0.001568\n",
      "[76]\tvalidation_0-error:0.001673\n",
      "[77]\tvalidation_0-error:0.001673\n",
      "[78]\tvalidation_0-error:0.001568\n",
      "[79]\tvalidation_0-error:0.001568\n",
      "[80]\tvalidation_0-error:0.001568\n",
      "[81]\tvalidation_0-error:0.001568\n",
      "[82]\tvalidation_0-error:0.001673\n",
      "[83]\tvalidation_0-error:0.001568\n",
      "[84]\tvalidation_0-error:0.001568\n",
      "[85]\tvalidation_0-error:0.001568\n",
      "[86]\tvalidation_0-error:0.001568\n",
      "[87]\tvalidation_0-error:0.001568\n",
      "[88]\tvalidation_0-error:0.001568\n",
      "[89]\tvalidation_0-error:0.001568\n",
      "[90]\tvalidation_0-error:0.001568\n",
      "[91]\tvalidation_0-error:0.001568\n",
      "[92]\tvalidation_0-error:0.001568\n",
      "[93]\tvalidation_0-error:0.001568\n",
      "[94]\tvalidation_0-error:0.001568\n",
      "[95]\tvalidation_0-error:0.001516\n",
      "[96]\tvalidation_0-error:0.001516\n",
      "[97]\tvalidation_0-error:0.001516\n",
      "[98]\tvalidation_0-error:0.001411\n",
      "[99]\tvalidation_0-error:0.001411\n",
      "[100]\tvalidation_0-error:0.001411\n",
      "[101]\tvalidation_0-error:0.001411\n",
      "[102]\tvalidation_0-error:0.001411\n",
      "[103]\tvalidation_0-error:0.001411\n",
      "[104]\tvalidation_0-error:0.001411\n",
      "[105]\tvalidation_0-error:0.001411\n",
      "[106]\tvalidation_0-error:0.001359\n",
      "[107]\tvalidation_0-error:0.001307\n",
      "[108]\tvalidation_0-error:0.001307\n",
      "[109]\tvalidation_0-error:0.001307\n",
      "[110]\tvalidation_0-error:0.001307\n",
      "[111]\tvalidation_0-error:0.001254\n",
      "[112]\tvalidation_0-error:0.001307\n",
      "[113]\tvalidation_0-error:0.001307\n",
      "[114]\tvalidation_0-error:0.001254\n",
      "[115]\tvalidation_0-error:0.001254\n",
      "[116]\tvalidation_0-error:0.001202\n",
      "[117]\tvalidation_0-error:0.001202\n",
      "[118]\tvalidation_0-error:0.001202\n",
      "[119]\tvalidation_0-error:0.001202\n",
      "[120]\tvalidation_0-error:0.001202\n",
      "[121]\tvalidation_0-error:0.001202\n",
      "[122]\tvalidation_0-error:0.001202\n",
      "[123]\tvalidation_0-error:0.001202\n",
      "[124]\tvalidation_0-error:0.001202\n",
      "[125]\tvalidation_0-error:0.001202\n",
      "[126]\tvalidation_0-error:0.001202\n",
      "[127]\tvalidation_0-error:0.001202\n",
      "[128]\tvalidation_0-error:0.001202\n",
      "[129]\tvalidation_0-error:0.00115\n",
      "[130]\tvalidation_0-error:0.00115\n",
      "[131]\tvalidation_0-error:0.00115\n",
      "[132]\tvalidation_0-error:0.00115\n",
      "[133]\tvalidation_0-error:0.00115\n",
      "[134]\tvalidation_0-error:0.00115\n",
      "[135]\tvalidation_0-error:0.00115\n",
      "[136]\tvalidation_0-error:0.00115\n",
      "[137]\tvalidation_0-error:0.001098\n",
      "[138]\tvalidation_0-error:0.001098\n",
      "[139]\tvalidation_0-error:0.001098\n",
      "[140]\tvalidation_0-error:0.001098\n",
      "[141]\tvalidation_0-error:0.001098\n",
      "[142]\tvalidation_0-error:0.001098\n",
      "[143]\tvalidation_0-error:0.001098\n",
      "[144]\tvalidation_0-error:0.001098\n",
      "[145]\tvalidation_0-error:0.001098\n",
      "[146]\tvalidation_0-error:0.001098\n",
      "[147]\tvalidation_0-error:0.001045\n",
      "[148]\tvalidation_0-error:0.001045\n",
      "[149]\tvalidation_0-error:0.001045\n",
      "[150]\tvalidation_0-error:0.001045\n",
      "[151]\tvalidation_0-error:0.001045\n",
      "[152]\tvalidation_0-error:0.001098\n",
      "[153]\tvalidation_0-error:0.001098\n",
      "[154]\tvalidation_0-error:0.001045\n",
      "[155]\tvalidation_0-error:0.001098\n",
      "[156]\tvalidation_0-error:0.001045\n",
      "[157]\tvalidation_0-error:0.001098\n",
      "[158]\tvalidation_0-error:0.001045\n",
      "[159]\tvalidation_0-error:0.000993\n",
      "[160]\tvalidation_0-error:0.000993\n",
      "[161]\tvalidation_0-error:0.000993\n",
      "[162]\tvalidation_0-error:0.000993\n",
      "[163]\tvalidation_0-error:0.000993\n",
      "[164]\tvalidation_0-error:0.000993\n",
      "[165]\tvalidation_0-error:0.000993\n",
      "[166]\tvalidation_0-error:0.000993\n",
      "[167]\tvalidation_0-error:0.000993\n",
      "[168]\tvalidation_0-error:0.000993\n",
      "[169]\tvalidation_0-error:0.000993\n",
      "[170]\tvalidation_0-error:0.000993\n",
      "[171]\tvalidation_0-error:0.000993\n",
      "[172]\tvalidation_0-error:0.000993\n",
      "[173]\tvalidation_0-error:0.000993\n",
      "[174]\tvalidation_0-error:0.000993\n",
      "[175]\tvalidation_0-error:0.000993\n",
      "[176]\tvalidation_0-error:0.000993\n",
      "[177]\tvalidation_0-error:0.000993\n",
      "[178]\tvalidation_0-error:0.000993\n",
      "[179]\tvalidation_0-error:0.000993\n",
      "[180]\tvalidation_0-error:0.000993\n",
      "[181]\tvalidation_0-error:0.000993\n",
      "[182]\tvalidation_0-error:0.000993\n",
      "[183]\tvalidation_0-error:0.000993\n",
      "[184]\tvalidation_0-error:0.000993\n",
      "[185]\tvalidation_0-error:0.000993\n",
      "[186]\tvalidation_0-error:0.000993\n",
      "[187]\tvalidation_0-error:0.000993\n",
      "[188]\tvalidation_0-error:0.000993\n",
      "[189]\tvalidation_0-error:0.000993\n",
      "[190]\tvalidation_0-error:0.000993\n",
      "[191]\tvalidation_0-error:0.000993\n",
      "[192]\tvalidation_0-error:0.000993\n",
      "[193]\tvalidation_0-error:0.000993\n",
      "[194]\tvalidation_0-error:0.000993\n",
      "[195]\tvalidation_0-error:0.000993\n",
      "[196]\tvalidation_0-error:0.000993\n",
      "[197]\tvalidation_0-error:0.000993\n",
      "[198]\tvalidation_0-error:0.000993\n",
      "[199]\tvalidation_0-error:0.000993\n",
      "[200]\tvalidation_0-error:0.000993\n",
      "[201]\tvalidation_0-error:0.000993\n",
      "[202]\tvalidation_0-error:0.000993\n",
      "[203]\tvalidation_0-error:0.000993\n",
      "[204]\tvalidation_0-error:0.000993\n",
      "[205]\tvalidation_0-error:0.000993\n",
      "[206]\tvalidation_0-error:0.000993\n",
      "[207]\tvalidation_0-error:0.000993\n",
      "[208]\tvalidation_0-error:0.000993\n",
      "[209]\tvalidation_0-error:0.000993\n",
      "[210]\tvalidation_0-error:0.000993\n",
      "[211]\tvalidation_0-error:0.000993\n",
      "[212]\tvalidation_0-error:0.000993\n",
      "[213]\tvalidation_0-error:0.000993\n",
      "[214]\tvalidation_0-error:0.000993\n",
      "[215]\tvalidation_0-error:0.000993\n",
      "[216]\tvalidation_0-error:0.000993\n",
      "[217]\tvalidation_0-error:0.000993\n",
      "[218]\tvalidation_0-error:0.000993\n",
      "[219]\tvalidation_0-error:0.000993\n",
      "Stopping. Best iteration:\n",
      "[159]\tvalidation_0-error:0.000993\n",
      "\n"
     ]
    },
    {
     "data": {
      "text/plain": [
       "XGBClassifier(base_score=0.5, booster='gbtree', colsample_bylevel=1,\n",
       "       colsample_bynode=1, colsample_bytree=0.6, gamma=0.4,\n",
       "       learning_rate=0.024, max_delta_step=0, max_depth=6,\n",
       "       min_child_weight=3, missing=None, n_estimators=7000, n_jobs=-1,\n",
       "       nthread=None, objective='binary:logistic', random_state=42,\n",
       "       reg_alpha=0, reg_lambda=1, scale_pos_weight=496, seed=None,\n",
       "       silent=None, subsample=0.9, verbosity=1)"
      ]
     },
     "execution_count": 31,
     "metadata": {},
     "output_type": "execute_result"
    }
   ],
   "source": [
    "xgbm = xgb.XGBClassifier(\n",
    "    n_estimators=7000, learning_rate=0.024, max_depth=6, min_child_weight=3,\n",
    "    gamma = 0.4, subsample=0.9, colsample_bytree=0.6, n_jobs=-1, scale_pos_weight=496,\n",
    "    random_state=42, reg_alpha=0, reg_lambda=1\n",
    ")\n",
    "\n",
    "xgbm.fit(X_train_xgb, y_train, eval_set=[(X_test_xgb, y_test)], early_stopping_rounds=60)"
   ]
  },
  {
   "cell_type": "code",
   "execution_count": null,
   "metadata": {},
   "outputs": [],
   "source": [
    "train_predictions = xgbm.predict(X_train_xgb)\n",
    "test_predictions = xgbm.predict(X_test_xgb)\n",
    "\n",
    "print('Train Score: {:4f}'.format(f1_score(y_train, train_predictions)))\n",
    "print('Test Score: {:4f}'.format(f1_score(y_test, test_predictions)))"
   ]
  },
  {
   "cell_type": "code",
   "execution_count": null,
   "metadata": {},
   "outputs": [],
   "source": [
    "Counter(xgbm.predict(X_test_xgb))"
   ]
  },
  {
   "cell_type": "code",
   "execution_count": null,
   "metadata": {},
   "outputs": [],
   "source": [
    "Counter(xgbm.predict(test_data_xgb))"
   ]
  },
  {
   "cell_type": "code",
   "execution_count": null,
   "metadata": {},
   "outputs": [],
   "source": [
    "confusion_matrix(y_test, xgbm.predict(X_test_xgb))"
   ]
  },
  {
   "cell_type": "code",
   "execution_count": null,
   "metadata": {},
   "outputs": [],
   "source": [
    "#xgbm"
   ]
  },
  {
   "cell_type": "code",
   "execution_count": null,
   "metadata": {},
   "outputs": [],
   "source": [
    "#----------------------------------final solution for xgboost--------------------------------\n",
    "\n",
    "final_xgboost_predictions = xgbm.predict(test_data_xgb)\n",
    "\n",
    "\n",
    "xgb_final_submission = pd.DataFrame(\n",
    "    {'TransactionId' : testId[0], 'FraudResult' : final_xgboost_predictions}\n",
    ")\n",
    "\n",
    "xgb_final_submission.to_csv('xgb_final_submission.csv', index=False)"
   ]
  },
  {
   "cell_type": "code",
   "execution_count": null,
   "metadata": {},
   "outputs": [],
   "source": []
  },
  {
   "cell_type": "code",
   "execution_count": null,
   "metadata": {},
   "outputs": [],
   "source": [
    "#thresholding\n",
    "\n",
    "p_sl = xgbm.predict_proba(X_test_xgb)\n",
    "precision, recall, thresholds = precision_recall_curve(y_test, p_sl[:,1])\n",
    "thresholds = np.append(thresholds, 1)\n",
    "f1_scores = 2*(precision*recall)/(precision+recall)\n",
    "plt.step(recall, precision, color='b', alpha=0.4, where='post')\n",
    "plt.xlabel('Recall')\n",
    "plt.ylabel('Precision')\n",
    "plt.ylim([0.0, 1.05])\n",
    "plt.xlim([0.0, 1.0])\n",
    "plt.title('2-class Precision-Recall curve')\n",
    "plt.show()"
   ]
  },
  {
   "cell_type": "code",
   "execution_count": null,
   "metadata": {},
   "outputs": [],
   "source": [
    "scrs = pd.DataFrame({'precision' : precision, 'recal' : recall, 'thresholds' : thresholds, 'f1_score':f1_scores})\n",
    "print(\"Threshold cutoff: \",scrs.loc[scrs['f1_score'] == scrs.f1_score.max(),'thresholds'].iloc[0])\n",
    "print(\"Max F1-score at cut-off : \",scrs.f1_score.max())\n",
    "\n",
    "thresh = scrs.loc[scrs['f1_score'] == scrs.f1_score.max(),'thresholds'].iloc[0]\n",
    "\n",
    "scrs.plot(x='thresholds', y='f1_score')"
   ]
  },
  {
   "cell_type": "code",
   "execution_count": null,
   "metadata": {},
   "outputs": [],
   "source": [
    "frame =  scrs.loc[scrs['f1_score'] == scrs.f1_score.max()]\n",
    "frame"
   ]
  },
  {
   "cell_type": "code",
   "execution_count": null,
   "metadata": {},
   "outputs": [],
   "source": [
    "xgboost_thresh = frame['thresholds'].values[0]\n",
    "xgboost_thresh"
   ]
  },
  {
   "cell_type": "code",
   "execution_count": null,
   "metadata": {},
   "outputs": [],
   "source": [
    "xgboost_thresh_pred_Xtest = [1 if y>=xgboost_thresh else 0 for y in p_sl[:, 1]]\n",
    "\n",
    "f1_score(y_test, xgboost_thresh_pred_Xtest)"
   ]
  },
  {
   "cell_type": "code",
   "execution_count": null,
   "metadata": {},
   "outputs": [],
   "source": [
    "Counter(xgboost_thresh_pred_Xtest)"
   ]
  },
  {
   "cell_type": "code",
   "execution_count": null,
   "metadata": {},
   "outputs": [],
   "source": [
    "Counter([1 if y>=xgboost_thresh else 0 for y in xgbm.predict_proba(test_data_xgb)[:, 1]])"
   ]
  },
  {
   "cell_type": "code",
   "execution_count": null,
   "metadata": {},
   "outputs": [],
   "source": [
    "#--------------------------final thresholding solution for xgboost--------------------------------\n",
    "\n",
    "final_thresh_xgboost_predictions = [1 if y>=xgboost_thresh else 0 for y in xgbm.predict_proba(test_data_xgb)[:, 1]]\n",
    "\n",
    "\n",
    "xgb_final_thresh_submission = pd.DataFrame(\n",
    "    {'TransactionId' : testId[0], 'FraudResult' : final_thresh_xgboost_predictions}\n",
    ")\n",
    "\n",
    "xgb_final_thresh_submission.to_csv('xgb_final_thresh_submission.csv', index=False)"
   ]
  },
  {
   "cell_type": "code",
   "execution_count": null,
   "metadata": {},
   "outputs": [],
   "source": []
  },
  {
   "cell_type": "markdown",
   "metadata": {},
   "source": [
    "<h3>Drifting</h3>"
   ]
  },
  {
   "cell_type": "code",
   "execution_count": 26,
   "metadata": {},
   "outputs": [
    {
     "name": "stdout",
     "output_type": "stream",
     "text": [
      "No. Customers per Acc 0.8951825955555555\n",
      "Amount_to_mean_ProviderId 0.9671518755555556\n",
      "Amount_to_std_ProviderId 0.9644883244444444\n",
      "Amount_to_mean_PricingStrategy 0.96520282\n",
      "Amount_to_std_PricingStrategy 0.9635849244444445\n",
      "Amount_to_mean_ProductCategory 0.9590371733333334\n",
      "Amount_to_std_ProductCategory 0.9583965688888889\n",
      "Amount_to_mean_ChannelId 0.9807042866666666\n",
      "Amount_to_std_ChannelId 0.9761273266666667\n",
      "Amount_to_mean_ProductId 0.9644807577777779\n",
      "Amount_to_std_ProductId 0.945837528888889\n"
     ]
    }
   ],
   "source": [
    "training = train_data.copy()\n",
    "testing = test_data.copy()\n",
    "\n",
    "training['origin'] = 1\n",
    "testing['origin'] = 0\n",
    "\n",
    "training.drop('FraudResult', axis=1, inplace=True)\n",
    "\n",
    "training = training.sample(30000, random_state=42)\n",
    "testing = testing.sample(15000, random_state=112)\n",
    "\n",
    "combined = pd.concat([training, testing], axis=0)\n",
    "y = combined['origin']\n",
    "X = combined.drop('origin', axis=1)\n",
    "\n",
    "drift_list = []\n",
    "\n",
    "model = xgb.XGBClassifier(\n",
    "    max_depth=4, scale_pos_weight=496, subsample=0.78, colsample_bytree=0.78,\n",
    "    n_jobs=-1, random_state=42\n",
    ")\n",
    "\n",
    "for i in X.columns:\n",
    "    score = cross_val_score(model, pd.DataFrame(X[i]), y, cv=2, scoring='roc_auc').mean()\n",
    "    \n",
    "    if score>0.8:\n",
    "        drift_list.append(i)\n",
    "        print(i, score)"
   ]
  },
  {
   "cell_type": "code",
   "execution_count": 27,
   "metadata": {},
   "outputs": [
    {
     "data": {
      "text/plain": [
       "['No. Customers per Acc',\n",
       " 'Amount_to_mean_ProviderId',\n",
       " 'Amount_to_std_ProviderId',\n",
       " 'Amount_to_mean_PricingStrategy',\n",
       " 'Amount_to_std_PricingStrategy',\n",
       " 'Amount_to_mean_ProductCategory',\n",
       " 'Amount_to_std_ProductCategory',\n",
       " 'Amount_to_mean_ChannelId',\n",
       " 'Amount_to_std_ChannelId',\n",
       " 'Amount_to_mean_ProductId',\n",
       " 'Amount_to_std_ProductId']"
      ]
     },
     "execution_count": 27,
     "metadata": {},
     "output_type": "execute_result"
    }
   ],
   "source": [
    "xgb_drift_list = drift_list\n",
    "xgb_drift_list"
   ]
  },
  {
   "cell_type": "code",
   "execution_count": 28,
   "metadata": {},
   "outputs": [],
   "source": [
    "xgb_drift_train = X_train.drop(xgb_drift_list, axis=1)\n",
    "xgb_drift_test = X_test.drop(xgb_drift_list, axis=1)"
   ]
  },
  {
   "cell_type": "code",
   "execution_count": 29,
   "metadata": {},
   "outputs": [],
   "source": [
    "test_xgb_drift = test_data.drop(xgb_drift_list, axis=1)"
   ]
  },
  {
   "cell_type": "code",
   "execution_count": 30,
   "metadata": {},
   "outputs": [
    {
     "data": {
      "text/html": [
       "<div>\n",
       "<style scoped>\n",
       "    .dataframe tbody tr th:only-of-type {\n",
       "        vertical-align: middle;\n",
       "    }\n",
       "\n",
       "    .dataframe tbody tr th {\n",
       "        vertical-align: top;\n",
       "    }\n",
       "\n",
       "    .dataframe thead th {\n",
       "        text-align: right;\n",
       "    }\n",
       "</style>\n",
       "<table border=\"1\" class=\"dataframe\">\n",
       "  <thead>\n",
       "    <tr style=\"text-align: right;\">\n",
       "      <th></th>\n",
       "      <th>Amount</th>\n",
       "      <th>PricingStrategy</th>\n",
       "      <th>ExtraCharges</th>\n",
       "      <th>Days_to_Nearest_Holiday</th>\n",
       "      <th>Prev_Amt</th>\n",
       "      <th>Time_since_last_trans</th>\n",
       "      <th>Avg_amt_per_ProviderId_in_last_12hhrs</th>\n",
       "      <th>sum_of_amt_per_ProviderId_in_last_12hhrs</th>\n",
       "      <th>max_amt_per_ProviderId_in_last_12hhrs</th>\n",
       "      <th>no_of_trans_per_ProviderId_in_last_12hhrs</th>\n",
       "      <th>...</th>\n",
       "      <th>Multiple_Sub_by_Customer_Yes</th>\n",
       "      <th>Multiple_Sub_by_Acc_Yes</th>\n",
       "      <th>Week_first_week</th>\n",
       "      <th>Week_fourth_week</th>\n",
       "      <th>Week_second_week</th>\n",
       "      <th>Week_third_week</th>\n",
       "      <th>Within_CI95_7days_Yes</th>\n",
       "      <th>Within_CI95_14days_Yes</th>\n",
       "      <th>Within_CI95_21days_Yes</th>\n",
       "      <th>Within_CI95_28days_Yes</th>\n",
       "    </tr>\n",
       "  </thead>\n",
       "  <tbody>\n",
       "    <tr>\n",
       "      <th>46767</th>\n",
       "      <td>9000.0</td>\n",
       "      <td>3</td>\n",
       "      <td>0.0</td>\n",
       "      <td>2</td>\n",
       "      <td>9000.0</td>\n",
       "      <td>1.200000</td>\n",
       "      <td>10125.000000</td>\n",
       "      <td>40500.0</td>\n",
       "      <td>19500.0</td>\n",
       "      <td>4.0</td>\n",
       "      <td>...</td>\n",
       "      <td>1</td>\n",
       "      <td>0</td>\n",
       "      <td>0</td>\n",
       "      <td>0</td>\n",
       "      <td>0</td>\n",
       "      <td>0</td>\n",
       "      <td>0</td>\n",
       "      <td>0</td>\n",
       "      <td>0</td>\n",
       "      <td>0</td>\n",
       "    </tr>\n",
       "    <tr>\n",
       "      <th>6158</th>\n",
       "      <td>15000.0</td>\n",
       "      <td>3</td>\n",
       "      <td>1650.0</td>\n",
       "      <td>32</td>\n",
       "      <td>-644.0</td>\n",
       "      <td>3.650000</td>\n",
       "      <td>14000.000000</td>\n",
       "      <td>28000.0</td>\n",
       "      <td>15000.0</td>\n",
       "      <td>2.0</td>\n",
       "      <td>...</td>\n",
       "      <td>1</td>\n",
       "      <td>0</td>\n",
       "      <td>0</td>\n",
       "      <td>1</td>\n",
       "      <td>0</td>\n",
       "      <td>0</td>\n",
       "      <td>0</td>\n",
       "      <td>0</td>\n",
       "      <td>0</td>\n",
       "      <td>0</td>\n",
       "    </tr>\n",
       "    <tr>\n",
       "      <th>80336</th>\n",
       "      <td>-5000.0</td>\n",
       "      <td>3</td>\n",
       "      <td>0.0</td>\n",
       "      <td>15</td>\n",
       "      <td>10000.0</td>\n",
       "      <td>2.450000</td>\n",
       "      <td>-5000.000000</td>\n",
       "      <td>-5000.0</td>\n",
       "      <td>-5000.0</td>\n",
       "      <td>1.0</td>\n",
       "      <td>...</td>\n",
       "      <td>1</td>\n",
       "      <td>1</td>\n",
       "      <td>1</td>\n",
       "      <td>0</td>\n",
       "      <td>0</td>\n",
       "      <td>0</td>\n",
       "      <td>1</td>\n",
       "      <td>0</td>\n",
       "      <td>0</td>\n",
       "      <td>1</td>\n",
       "    </tr>\n",
       "    <tr>\n",
       "      <th>22537</th>\n",
       "      <td>200.0</td>\n",
       "      <td>4</td>\n",
       "      <td>0.0</td>\n",
       "      <td>15</td>\n",
       "      <td>-200.0</td>\n",
       "      <td>1320.716667</td>\n",
       "      <td>200.000000</td>\n",
       "      <td>200.0</td>\n",
       "      <td>200.0</td>\n",
       "      <td>1.0</td>\n",
       "      <td>...</td>\n",
       "      <td>1</td>\n",
       "      <td>0</td>\n",
       "      <td>0</td>\n",
       "      <td>0</td>\n",
       "      <td>1</td>\n",
       "      <td>0</td>\n",
       "      <td>0</td>\n",
       "      <td>0</td>\n",
       "      <td>0</td>\n",
       "      <td>0</td>\n",
       "    </tr>\n",
       "    <tr>\n",
       "      <th>86131</th>\n",
       "      <td>2000.0</td>\n",
       "      <td>3</td>\n",
       "      <td>0.0</td>\n",
       "      <td>11</td>\n",
       "      <td>-50.0</td>\n",
       "      <td>55.900000</td>\n",
       "      <td>1532.923077</td>\n",
       "      <td>19928.0</td>\n",
       "      <td>2688.0</td>\n",
       "      <td>13.0</td>\n",
       "      <td>...</td>\n",
       "      <td>1</td>\n",
       "      <td>0</td>\n",
       "      <td>1</td>\n",
       "      <td>0</td>\n",
       "      <td>0</td>\n",
       "      <td>0</td>\n",
       "      <td>0</td>\n",
       "      <td>0</td>\n",
       "      <td>0</td>\n",
       "      <td>0</td>\n",
       "    </tr>\n",
       "  </tbody>\n",
       "</table>\n",
       "<p>5 rows × 180 columns</p>\n",
       "</div>"
      ],
      "text/plain": [
       "        Amount  PricingStrategy  ExtraCharges  Days_to_Nearest_Holiday  \\\n",
       "46767   9000.0                3           0.0                        2   \n",
       "6158   15000.0                3        1650.0                       32   \n",
       "80336  -5000.0                3           0.0                       15   \n",
       "22537    200.0                4           0.0                       15   \n",
       "86131   2000.0                3           0.0                       11   \n",
       "\n",
       "       Prev_Amt  Time_since_last_trans  Avg_amt_per_ProviderId_in_last_12hhrs  \\\n",
       "46767    9000.0               1.200000                           10125.000000   \n",
       "6158     -644.0               3.650000                           14000.000000   \n",
       "80336   10000.0               2.450000                           -5000.000000   \n",
       "22537    -200.0            1320.716667                             200.000000   \n",
       "86131     -50.0              55.900000                            1532.923077   \n",
       "\n",
       "       sum_of_amt_per_ProviderId_in_last_12hhrs  \\\n",
       "46767                                   40500.0   \n",
       "6158                                    28000.0   \n",
       "80336                                   -5000.0   \n",
       "22537                                     200.0   \n",
       "86131                                   19928.0   \n",
       "\n",
       "       max_amt_per_ProviderId_in_last_12hhrs  \\\n",
       "46767                                19500.0   \n",
       "6158                                 15000.0   \n",
       "80336                                -5000.0   \n",
       "22537                                  200.0   \n",
       "86131                                 2688.0   \n",
       "\n",
       "       no_of_trans_per_ProviderId_in_last_12hhrs  ...  \\\n",
       "46767                                        4.0  ...   \n",
       "6158                                         2.0  ...   \n",
       "80336                                        1.0  ...   \n",
       "22537                                        1.0  ...   \n",
       "86131                                       13.0  ...   \n",
       "\n",
       "       Multiple_Sub_by_Customer_Yes  Multiple_Sub_by_Acc_Yes  Week_first_week  \\\n",
       "46767                             1                        0                0   \n",
       "6158                              1                        0                0   \n",
       "80336                             1                        1                1   \n",
       "22537                             1                        0                0   \n",
       "86131                             1                        0                1   \n",
       "\n",
       "       Week_fourth_week  Week_second_week  Week_third_week  \\\n",
       "46767                 0                 0                0   \n",
       "6158                  1                 0                0   \n",
       "80336                 0                 0                0   \n",
       "22537                 0                 1                0   \n",
       "86131                 0                 0                0   \n",
       "\n",
       "       Within_CI95_7days_Yes  Within_CI95_14days_Yes  Within_CI95_21days_Yes  \\\n",
       "46767                      0                       0                       0   \n",
       "6158                       0                       0                       0   \n",
       "80336                      1                       0                       0   \n",
       "22537                      0                       0                       0   \n",
       "86131                      0                       0                       0   \n",
       "\n",
       "       Within_CI95_28days_Yes  \n",
       "46767                       0  \n",
       "6158                        0  \n",
       "80336                       1  \n",
       "22537                       0  \n",
       "86131                       0  \n",
       "\n",
       "[5 rows x 180 columns]"
      ]
     },
     "execution_count": 30,
     "metadata": {},
     "output_type": "execute_result"
    }
   ],
   "source": [
    "xgb_drift_train.head()"
   ]
  },
  {
   "cell_type": "code",
   "execution_count": 31,
   "metadata": {},
   "outputs": [
    {
     "data": {
      "text/plain": [
       "(124, 1)"
      ]
     },
     "execution_count": 31,
     "metadata": {},
     "output_type": "execute_result"
    }
   ],
   "source": [
    "xgb_importances.set_index('Features').shape"
   ]
  },
  {
   "cell_type": "code",
   "execution_count": 32,
   "metadata": {},
   "outputs": [
    {
     "data": {
      "text/plain": [
       "XGBClassifier(base_score=0.5, booster='gbtree', colsample_bylevel=1,\n",
       "       colsample_bynode=1, colsample_bytree=0.6, gamma=0.4,\n",
       "       learning_rate=0.1, max_delta_step=0, max_depth=6,\n",
       "       min_child_weight=3, missing=None, n_estimators=100, n_jobs=-1,\n",
       "       nthread=None, objective='binary:logistic', random_state=42,\n",
       "       reg_alpha=0, reg_lambda=1, scale_pos_weight=496, seed=None,\n",
       "       silent=None, subsample=0.9, verbosity=1)"
      ]
     },
     "execution_count": 32,
     "metadata": {},
     "output_type": "execute_result"
    }
   ],
   "source": [
    "grid1"
   ]
  },
  {
   "cell_type": "code",
   "execution_count": 33,
   "metadata": {},
   "outputs": [
    {
     "data": {
      "text/plain": [
       "XGBClassifier(base_score=0.5, booster='gbtree', colsample_bylevel=1,\n",
       "       colsample_bynode=1, colsample_bytree=0.6, gamma=0.4,\n",
       "       learning_rate=0.1, max_delta_step=0, max_depth=6,\n",
       "       min_child_weight=3, missing=None, n_estimators=100, n_jobs=-1,\n",
       "       nthread=None, objective='binary:logistic', random_state=42,\n",
       "       reg_alpha=0, reg_lambda=1, scale_pos_weight=496, seed=None,\n",
       "       silent=None, subsample=0.9, verbosity=1)"
      ]
     },
     "execution_count": 33,
     "metadata": {},
     "output_type": "execute_result"
    }
   ],
   "source": [
    "grid1.fit(xgb_drift_train, y_train)"
   ]
  },
  {
   "cell_type": "code",
   "execution_count": null,
   "metadata": {},
   "outputs": [
    {
     "name": "stdout",
     "output_type": "stream",
     "text": [
      "Thresh=0.00001384, n=118, F1: 0.79466689\n",
      "Thresh=0.00001391, n=118, F1: 0.79466689\n",
      "Thresh=0.00001999, n=116, F1: 0.79329481\n",
      "Thresh=0.00002198, n=115, F1: 0.78289000\n",
      "Thresh=0.00002295, n=115, F1: 0.78289000\n",
      "Thresh=0.00002424, n=115, F1: 0.78289000\n",
      "Thresh=0.00002515, n=115, F1: 0.78289000\n"
     ]
    }
   ],
   "source": [
    "thresholds = np.sort(np.array(xgb_importances.set_index('Features').drop(labels=xgb_drift_list, axis=0)['Importances']))\n",
    "for thresh in thresholds:\n",
    "    \n",
    "    f1 = []\n",
    "    \n",
    "    for train, test in TimeSeriesSplit(n_splits=5).split(xgb_drift_train, y_train):\n",
    "        # select features using threshold\n",
    "        selection = SelectFromModel(grid1, threshold=thresh, prefit=True)\n",
    "        select_X_train = selection.transform(xgb_drift_train.iloc[train])\n",
    "        # train model\n",
    "        selection_model = xgb.XGBClassifier(**grid1.get_params())\n",
    "        selection_model.fit(select_X_train, y_train.iloc[train])\n",
    "        # eval model\n",
    "        select_X_test = selection.transform(xgb_drift_train.iloc[test])\n",
    "        y_pred = selection_model.predict(select_X_test)\n",
    "        predictions = [round(value) for value in y_pred]\n",
    "        f1.append(f1_score(y_train.iloc[test], predictions))\n",
    "        \n",
    "    print(\"Thresh=%.8f, n=%d, F1: %.8f\" % (thresh, select_X_train.shape[1], np.mean(f1)))"
   ]
  },
  {
   "cell_type": "code",
   "execution_count": 34,
   "metadata": {},
   "outputs": [],
   "source": [
    "kkk = xgb_importances.set_index('Features').drop(labels=xgb_drift_list, axis=0)\n",
    "\n",
    "xgb_drift_selected_features = kkk[kkk['Importances']>=0.00045927].index\n",
    "\n",
    "X_train_xgb_drift = xgb_drift_train.loc[:, xgb_drift_selected_features]\n",
    "X_test_xgb_drift = xgb_drift_test.loc[:, xgb_drift_selected_features]\n",
    "\n",
    "test_data_xgb_drift = test_xgb_drift.loc[:, xgb_drift_selected_features]"
   ]
  },
  {
   "cell_type": "code",
   "execution_count": 39,
   "metadata": {},
   "outputs": [
    {
     "name": "stdout",
     "output_type": "stream",
     "text": [
      "[0]\tvalidation_0-error:0.002822\n",
      "Will train until validation_0-error hasn't improved in 100 rounds.\n",
      "[1]\tvalidation_0-error:0.002822\n",
      "[2]\tvalidation_0-error:0.003606\n",
      "[3]\tvalidation_0-error:0.003763\n",
      "[4]\tvalidation_0-error:0.003763\n",
      "[5]\tvalidation_0-error:0.003659\n",
      "[6]\tvalidation_0-error:0.003659\n",
      "[7]\tvalidation_0-error:0.003606\n",
      "[8]\tvalidation_0-error:0.003606\n",
      "[9]\tvalidation_0-error:0.003606\n",
      "[10]\tvalidation_0-error:0.003606\n",
      "[11]\tvalidation_0-error:0.003606\n",
      "[12]\tvalidation_0-error:0.003606\n",
      "[13]\tvalidation_0-error:0.003554\n",
      "[14]\tvalidation_0-error:0.003606\n",
      "[15]\tvalidation_0-error:0.003606\n",
      "[16]\tvalidation_0-error:0.003606\n",
      "[17]\tvalidation_0-error:0.003554\n",
      "[18]\tvalidation_0-error:0.003606\n",
      "[19]\tvalidation_0-error:0.003606\n",
      "[20]\tvalidation_0-error:0.003606\n",
      "[21]\tvalidation_0-error:0.003659\n",
      "[22]\tvalidation_0-error:0.003711\n",
      "[23]\tvalidation_0-error:0.003711\n",
      "[24]\tvalidation_0-error:0.003763\n",
      "[25]\tvalidation_0-error:0.003659\n",
      "[26]\tvalidation_0-error:0.003659\n",
      "[27]\tvalidation_0-error:0.003659\n",
      "[28]\tvalidation_0-error:0.003659\n",
      "[29]\tvalidation_0-error:0.003659\n",
      "[30]\tvalidation_0-error:0.003659\n",
      "[31]\tvalidation_0-error:0.003659\n",
      "[32]\tvalidation_0-error:0.003606\n",
      "[33]\tvalidation_0-error:0.003659\n",
      "[34]\tvalidation_0-error:0.003659\n",
      "[35]\tvalidation_0-error:0.003659\n",
      "[36]\tvalidation_0-error:0.003606\n",
      "[37]\tvalidation_0-error:0.003606\n",
      "[38]\tvalidation_0-error:0.003606\n",
      "[39]\tvalidation_0-error:0.003606\n",
      "[40]\tvalidation_0-error:0.003554\n",
      "[41]\tvalidation_0-error:0.003554\n",
      "[42]\tvalidation_0-error:0.003554\n",
      "[43]\tvalidation_0-error:0.003554\n",
      "[44]\tvalidation_0-error:0.003554\n",
      "[45]\tvalidation_0-error:0.003554\n",
      "[46]\tvalidation_0-error:0.003554\n",
      "[47]\tvalidation_0-error:0.003554\n",
      "[48]\tvalidation_0-error:0.003554\n",
      "[49]\tvalidation_0-error:0.003554\n",
      "[50]\tvalidation_0-error:0.003554\n",
      "[51]\tvalidation_0-error:0.003554\n",
      "[52]\tvalidation_0-error:0.003554\n",
      "[53]\tvalidation_0-error:0.00345\n",
      "[54]\tvalidation_0-error:0.00345\n",
      "[55]\tvalidation_0-error:0.00345\n",
      "[56]\tvalidation_0-error:0.003397\n",
      "[57]\tvalidation_0-error:0.003345\n",
      "[58]\tvalidation_0-error:0.00324\n",
      "[59]\tvalidation_0-error:0.003345\n",
      "[60]\tvalidation_0-error:0.003345\n",
      "[61]\tvalidation_0-error:0.003345\n",
      "[62]\tvalidation_0-error:0.003345\n",
      "[63]\tvalidation_0-error:0.00324\n",
      "[64]\tvalidation_0-error:0.00324\n",
      "[65]\tvalidation_0-error:0.003345\n",
      "[66]\tvalidation_0-error:0.003345\n",
      "[67]\tvalidation_0-error:0.00324\n",
      "[68]\tvalidation_0-error:0.00324\n",
      "[69]\tvalidation_0-error:0.003188\n",
      "[70]\tvalidation_0-error:0.003188\n",
      "[71]\tvalidation_0-error:0.003188\n",
      "[72]\tvalidation_0-error:0.003188\n",
      "[73]\tvalidation_0-error:0.003188\n",
      "[74]\tvalidation_0-error:0.003136\n",
      "[75]\tvalidation_0-error:0.002927\n",
      "[76]\tvalidation_0-error:0.002927\n",
      "[77]\tvalidation_0-error:0.002927\n",
      "[78]\tvalidation_0-error:0.002613\n",
      "[79]\tvalidation_0-error:0.002509\n",
      "[80]\tvalidation_0-error:0.002509\n",
      "[81]\tvalidation_0-error:0.002509\n",
      "[82]\tvalidation_0-error:0.002509\n",
      "[83]\tvalidation_0-error:0.002509\n",
      "[84]\tvalidation_0-error:0.002456\n",
      "[85]\tvalidation_0-error:0.002404\n",
      "[86]\tvalidation_0-error:0.002352\n",
      "[87]\tvalidation_0-error:0.0023\n",
      "[88]\tvalidation_0-error:0.0023\n",
      "[89]\tvalidation_0-error:0.002195\n",
      "[90]\tvalidation_0-error:0.002195\n",
      "[91]\tvalidation_0-error:0.002143\n",
      "[92]\tvalidation_0-error:0.002143\n",
      "[93]\tvalidation_0-error:0.001986\n",
      "[94]\tvalidation_0-error:0.001986\n",
      "[95]\tvalidation_0-error:0.001934\n",
      "[96]\tvalidation_0-error:0.001934\n",
      "[97]\tvalidation_0-error:0.001934\n",
      "[98]\tvalidation_0-error:0.001934\n",
      "[99]\tvalidation_0-error:0.001882\n",
      "[100]\tvalidation_0-error:0.001882\n",
      "[101]\tvalidation_0-error:0.001934\n",
      "[102]\tvalidation_0-error:0.001882\n",
      "[103]\tvalidation_0-error:0.001882\n",
      "[104]\tvalidation_0-error:0.001882\n",
      "[105]\tvalidation_0-error:0.001829\n",
      "[106]\tvalidation_0-error:0.001725\n",
      "[107]\tvalidation_0-error:0.001829\n",
      "[108]\tvalidation_0-error:0.001882\n",
      "[109]\tvalidation_0-error:0.001725\n",
      "[110]\tvalidation_0-error:0.001725\n",
      "[111]\tvalidation_0-error:0.001725\n",
      "[112]\tvalidation_0-error:0.001725\n",
      "[113]\tvalidation_0-error:0.001725\n",
      "[114]\tvalidation_0-error:0.001725\n",
      "[115]\tvalidation_0-error:0.001725\n",
      "[116]\tvalidation_0-error:0.00162\n",
      "[117]\tvalidation_0-error:0.001673\n",
      "[118]\tvalidation_0-error:0.001568\n",
      "[119]\tvalidation_0-error:0.00162\n",
      "[120]\tvalidation_0-error:0.00162\n",
      "[121]\tvalidation_0-error:0.00162\n",
      "[122]\tvalidation_0-error:0.00162\n",
      "[123]\tvalidation_0-error:0.001568\n",
      "[124]\tvalidation_0-error:0.001568\n",
      "[125]\tvalidation_0-error:0.001568\n",
      "[126]\tvalidation_0-error:0.001568\n",
      "[127]\tvalidation_0-error:0.001568\n",
      "[128]\tvalidation_0-error:0.001568\n",
      "[129]\tvalidation_0-error:0.001568\n",
      "[130]\tvalidation_0-error:0.001568\n",
      "[131]\tvalidation_0-error:0.001568\n",
      "[132]\tvalidation_0-error:0.001516\n",
      "[133]\tvalidation_0-error:0.001516\n",
      "[134]\tvalidation_0-error:0.001516\n",
      "[135]\tvalidation_0-error:0.001516\n",
      "[136]\tvalidation_0-error:0.001516\n",
      "[137]\tvalidation_0-error:0.001516\n",
      "[138]\tvalidation_0-error:0.001516\n",
      "[139]\tvalidation_0-error:0.001516\n",
      "[140]\tvalidation_0-error:0.001516\n",
      "[141]\tvalidation_0-error:0.001516\n",
      "[142]\tvalidation_0-error:0.001463\n",
      "[143]\tvalidation_0-error:0.001463\n",
      "[144]\tvalidation_0-error:0.001516\n",
      "[145]\tvalidation_0-error:0.001516\n",
      "[146]\tvalidation_0-error:0.001516\n",
      "[147]\tvalidation_0-error:0.001516\n",
      "[148]\tvalidation_0-error:0.001516\n",
      "[149]\tvalidation_0-error:0.001516\n",
      "[150]\tvalidation_0-error:0.001516\n",
      "[151]\tvalidation_0-error:0.001516\n",
      "[152]\tvalidation_0-error:0.001516\n",
      "[153]\tvalidation_0-error:0.001516\n",
      "[154]\tvalidation_0-error:0.001463\n",
      "[155]\tvalidation_0-error:0.001463\n",
      "[156]\tvalidation_0-error:0.001463\n",
      "[157]\tvalidation_0-error:0.001463\n",
      "[158]\tvalidation_0-error:0.001463\n",
      "[159]\tvalidation_0-error:0.001463\n",
      "[160]\tvalidation_0-error:0.001463\n",
      "[161]\tvalidation_0-error:0.001463\n",
      "[162]\tvalidation_0-error:0.001463\n",
      "[163]\tvalidation_0-error:0.001463\n",
      "[164]\tvalidation_0-error:0.001463\n",
      "[165]\tvalidation_0-error:0.001411\n",
      "[166]\tvalidation_0-error:0.001411\n",
      "[167]\tvalidation_0-error:0.001411\n",
      "[168]\tvalidation_0-error:0.001411\n",
      "[169]\tvalidation_0-error:0.001411\n",
      "[170]\tvalidation_0-error:0.001411\n",
      "[171]\tvalidation_0-error:0.001411\n",
      "[172]\tvalidation_0-error:0.001411\n",
      "[173]\tvalidation_0-error:0.001359\n",
      "[174]\tvalidation_0-error:0.001359\n",
      "[175]\tvalidation_0-error:0.001359\n",
      "[176]\tvalidation_0-error:0.001359\n",
      "[177]\tvalidation_0-error:0.001359\n",
      "[178]\tvalidation_0-error:0.001359\n",
      "[179]\tvalidation_0-error:0.001359\n",
      "[180]\tvalidation_0-error:0.001359\n",
      "[181]\tvalidation_0-error:0.001359\n",
      "[182]\tvalidation_0-error:0.001359\n",
      "[183]\tvalidation_0-error:0.001359\n",
      "[184]\tvalidation_0-error:0.001307\n",
      "[185]\tvalidation_0-error:0.001307\n",
      "[186]\tvalidation_0-error:0.001307\n",
      "[187]\tvalidation_0-error:0.001307\n",
      "[188]\tvalidation_0-error:0.001307\n",
      "[189]\tvalidation_0-error:0.001307\n",
      "[190]\tvalidation_0-error:0.001307\n",
      "[191]\tvalidation_0-error:0.001307\n",
      "[192]\tvalidation_0-error:0.001307\n",
      "[193]\tvalidation_0-error:0.001307\n",
      "[194]\tvalidation_0-error:0.001307\n",
      "[195]\tvalidation_0-error:0.001307\n",
      "[196]\tvalidation_0-error:0.001307\n",
      "[197]\tvalidation_0-error:0.001307\n",
      "[198]\tvalidation_0-error:0.001307\n",
      "[199]\tvalidation_0-error:0.001307\n",
      "[200]\tvalidation_0-error:0.001307\n",
      "[201]\tvalidation_0-error:0.001307\n",
      "[202]\tvalidation_0-error:0.001307\n",
      "[203]\tvalidation_0-error:0.001307\n",
      "[204]\tvalidation_0-error:0.001307\n",
      "[205]\tvalidation_0-error:0.001307\n",
      "[206]\tvalidation_0-error:0.001307\n",
      "[207]\tvalidation_0-error:0.001307\n",
      "[208]\tvalidation_0-error:0.001307\n",
      "[209]\tvalidation_0-error:0.001307\n",
      "[210]\tvalidation_0-error:0.001307\n",
      "[211]\tvalidation_0-error:0.001307\n",
      "[212]\tvalidation_0-error:0.001307\n",
      "[213]\tvalidation_0-error:0.001307\n",
      "[214]\tvalidation_0-error:0.001307\n",
      "[215]\tvalidation_0-error:0.001307\n",
      "[216]\tvalidation_0-error:0.001307\n",
      "[217]\tvalidation_0-error:0.001307\n",
      "[218]\tvalidation_0-error:0.001307\n",
      "[219]\tvalidation_0-error:0.001307\n",
      "[220]\tvalidation_0-error:0.001307\n",
      "[221]\tvalidation_0-error:0.001307\n",
      "[222]\tvalidation_0-error:0.001307\n",
      "[223]\tvalidation_0-error:0.001307\n",
      "[224]\tvalidation_0-error:0.001307\n",
      "[225]\tvalidation_0-error:0.001307\n",
      "[226]\tvalidation_0-error:0.001307\n",
      "[227]\tvalidation_0-error:0.001307\n",
      "[228]\tvalidation_0-error:0.001307\n",
      "[229]\tvalidation_0-error:0.001307\n",
      "[230]\tvalidation_0-error:0.001359\n",
      "[231]\tvalidation_0-error:0.001307\n",
      "[232]\tvalidation_0-error:0.001254\n",
      "[233]\tvalidation_0-error:0.001254\n",
      "[234]\tvalidation_0-error:0.001254\n",
      "[235]\tvalidation_0-error:0.001254\n",
      "[236]\tvalidation_0-error:0.001307\n",
      "[237]\tvalidation_0-error:0.001307\n",
      "[238]\tvalidation_0-error:0.001254\n",
      "[239]\tvalidation_0-error:0.001254\n",
      "[240]\tvalidation_0-error:0.001254\n",
      "[241]\tvalidation_0-error:0.001254\n",
      "[242]\tvalidation_0-error:0.001254\n"
     ]
    },
    {
     "name": "stdout",
     "output_type": "stream",
     "text": [
      "[243]\tvalidation_0-error:0.001254\n",
      "[244]\tvalidation_0-error:0.001254\n",
      "[245]\tvalidation_0-error:0.001254\n",
      "[246]\tvalidation_0-error:0.001254\n",
      "[247]\tvalidation_0-error:0.001254\n",
      "[248]\tvalidation_0-error:0.001307\n",
      "[249]\tvalidation_0-error:0.001307\n",
      "[250]\tvalidation_0-error:0.001307\n",
      "[251]\tvalidation_0-error:0.001307\n",
      "[252]\tvalidation_0-error:0.001307\n",
      "[253]\tvalidation_0-error:0.001307\n",
      "[254]\tvalidation_0-error:0.001307\n",
      "[255]\tvalidation_0-error:0.001307\n",
      "[256]\tvalidation_0-error:0.001307\n",
      "[257]\tvalidation_0-error:0.001307\n",
      "[258]\tvalidation_0-error:0.001307\n",
      "[259]\tvalidation_0-error:0.001307\n",
      "[260]\tvalidation_0-error:0.001307\n",
      "[261]\tvalidation_0-error:0.001307\n",
      "[262]\tvalidation_0-error:0.001307\n",
      "[263]\tvalidation_0-error:0.001307\n",
      "[264]\tvalidation_0-error:0.001307\n",
      "[265]\tvalidation_0-error:0.001307\n",
      "[266]\tvalidation_0-error:0.001307\n",
      "[267]\tvalidation_0-error:0.001307\n",
      "[268]\tvalidation_0-error:0.001307\n",
      "[269]\tvalidation_0-error:0.001307\n",
      "[270]\tvalidation_0-error:0.001307\n",
      "[271]\tvalidation_0-error:0.001307\n",
      "[272]\tvalidation_0-error:0.001307\n",
      "[273]\tvalidation_0-error:0.001307\n",
      "[274]\tvalidation_0-error:0.001307\n",
      "[275]\tvalidation_0-error:0.001307\n",
      "[276]\tvalidation_0-error:0.001307\n",
      "[277]\tvalidation_0-error:0.001307\n",
      "[278]\tvalidation_0-error:0.001307\n",
      "[279]\tvalidation_0-error:0.001307\n",
      "[280]\tvalidation_0-error:0.001307\n",
      "[281]\tvalidation_0-error:0.001307\n",
      "[282]\tvalidation_0-error:0.001254\n",
      "[283]\tvalidation_0-error:0.001202\n",
      "[284]\tvalidation_0-error:0.001202\n",
      "[285]\tvalidation_0-error:0.001202\n",
      "[286]\tvalidation_0-error:0.001202\n",
      "[287]\tvalidation_0-error:0.001202\n",
      "[288]\tvalidation_0-error:0.001202\n",
      "[289]\tvalidation_0-error:0.001202\n",
      "[290]\tvalidation_0-error:0.001202\n",
      "[291]\tvalidation_0-error:0.001202\n",
      "[292]\tvalidation_0-error:0.001202\n",
      "[293]\tvalidation_0-error:0.001202\n",
      "[294]\tvalidation_0-error:0.001202\n",
      "[295]\tvalidation_0-error:0.001202\n",
      "[296]\tvalidation_0-error:0.001202\n",
      "[297]\tvalidation_0-error:0.001202\n",
      "[298]\tvalidation_0-error:0.001202\n",
      "[299]\tvalidation_0-error:0.001202\n",
      "[300]\tvalidation_0-error:0.001202\n",
      "[301]\tvalidation_0-error:0.001202\n",
      "[302]\tvalidation_0-error:0.001202\n",
      "[303]\tvalidation_0-error:0.00115\n",
      "[304]\tvalidation_0-error:0.00115\n",
      "[305]\tvalidation_0-error:0.00115\n",
      "[306]\tvalidation_0-error:0.001202\n",
      "[307]\tvalidation_0-error:0.001202\n",
      "[308]\tvalidation_0-error:0.001202\n",
      "[309]\tvalidation_0-error:0.001202\n",
      "[310]\tvalidation_0-error:0.001202\n",
      "[311]\tvalidation_0-error:0.001202\n",
      "[312]\tvalidation_0-error:0.001202\n",
      "[313]\tvalidation_0-error:0.001202\n",
      "[314]\tvalidation_0-error:0.001202\n",
      "[315]\tvalidation_0-error:0.001202\n",
      "[316]\tvalidation_0-error:0.001202\n",
      "[317]\tvalidation_0-error:0.001202\n",
      "[318]\tvalidation_0-error:0.001202\n",
      "[319]\tvalidation_0-error:0.001202\n",
      "[320]\tvalidation_0-error:0.001202\n",
      "[321]\tvalidation_0-error:0.001202\n",
      "[322]\tvalidation_0-error:0.001202\n",
      "[323]\tvalidation_0-error:0.001202\n",
      "[324]\tvalidation_0-error:0.001202\n",
      "[325]\tvalidation_0-error:0.001202\n",
      "[326]\tvalidation_0-error:0.001202\n",
      "[327]\tvalidation_0-error:0.001202\n",
      "[328]\tvalidation_0-error:0.001202\n",
      "[329]\tvalidation_0-error:0.001202\n",
      "[330]\tvalidation_0-error:0.001202\n",
      "[331]\tvalidation_0-error:0.001202\n",
      "[332]\tvalidation_0-error:0.001202\n",
      "[333]\tvalidation_0-error:0.001202\n",
      "[334]\tvalidation_0-error:0.001202\n",
      "[335]\tvalidation_0-error:0.001202\n",
      "[336]\tvalidation_0-error:0.001202\n",
      "[337]\tvalidation_0-error:0.001202\n",
      "[338]\tvalidation_0-error:0.001202\n",
      "[339]\tvalidation_0-error:0.001202\n",
      "[340]\tvalidation_0-error:0.001202\n",
      "[341]\tvalidation_0-error:0.001202\n",
      "[342]\tvalidation_0-error:0.001202\n",
      "[343]\tvalidation_0-error:0.001202\n",
      "[344]\tvalidation_0-error:0.001202\n",
      "[345]\tvalidation_0-error:0.001202\n",
      "[346]\tvalidation_0-error:0.001202\n",
      "[347]\tvalidation_0-error:0.001202\n",
      "[348]\tvalidation_0-error:0.001202\n",
      "[349]\tvalidation_0-error:0.001202\n",
      "[350]\tvalidation_0-error:0.001202\n",
      "[351]\tvalidation_0-error:0.001202\n",
      "[352]\tvalidation_0-error:0.001202\n",
      "[353]\tvalidation_0-error:0.001202\n",
      "[354]\tvalidation_0-error:0.001202\n",
      "[355]\tvalidation_0-error:0.001202\n",
      "[356]\tvalidation_0-error:0.001202\n",
      "[357]\tvalidation_0-error:0.001202\n",
      "[358]\tvalidation_0-error:0.001202\n",
      "[359]\tvalidation_0-error:0.001202\n",
      "[360]\tvalidation_0-error:0.001202\n",
      "[361]\tvalidation_0-error:0.001202\n",
      "[362]\tvalidation_0-error:0.001202\n",
      "[363]\tvalidation_0-error:0.001202\n",
      "[364]\tvalidation_0-error:0.001202\n",
      "[365]\tvalidation_0-error:0.001202\n",
      "[366]\tvalidation_0-error:0.001254\n",
      "[367]\tvalidation_0-error:0.001254\n",
      "[368]\tvalidation_0-error:0.001254\n",
      "[369]\tvalidation_0-error:0.001254\n",
      "[370]\tvalidation_0-error:0.001254\n",
      "[371]\tvalidation_0-error:0.001254\n",
      "[372]\tvalidation_0-error:0.001254\n",
      "[373]\tvalidation_0-error:0.001254\n",
      "[374]\tvalidation_0-error:0.001254\n",
      "[375]\tvalidation_0-error:0.001254\n",
      "[376]\tvalidation_0-error:0.001254\n",
      "[377]\tvalidation_0-error:0.001254\n",
      "[378]\tvalidation_0-error:0.001254\n",
      "[379]\tvalidation_0-error:0.001254\n",
      "[380]\tvalidation_0-error:0.001254\n",
      "[381]\tvalidation_0-error:0.001254\n",
      "[382]\tvalidation_0-error:0.001254\n",
      "[383]\tvalidation_0-error:0.001254\n",
      "[384]\tvalidation_0-error:0.001254\n",
      "[385]\tvalidation_0-error:0.001254\n",
      "[386]\tvalidation_0-error:0.001254\n",
      "[387]\tvalidation_0-error:0.001254\n",
      "[388]\tvalidation_0-error:0.001254\n",
      "[389]\tvalidation_0-error:0.001254\n",
      "[390]\tvalidation_0-error:0.001254\n",
      "[391]\tvalidation_0-error:0.001254\n",
      "[392]\tvalidation_0-error:0.001254\n",
      "[393]\tvalidation_0-error:0.001254\n",
      "[394]\tvalidation_0-error:0.001254\n",
      "[395]\tvalidation_0-error:0.001254\n",
      "[396]\tvalidation_0-error:0.001254\n",
      "[397]\tvalidation_0-error:0.001254\n",
      "[398]\tvalidation_0-error:0.001254\n",
      "[399]\tvalidation_0-error:0.001254\n",
      "[400]\tvalidation_0-error:0.001202\n",
      "[401]\tvalidation_0-error:0.001254\n",
      "[402]\tvalidation_0-error:0.001254\n",
      "[403]\tvalidation_0-error:0.001202\n",
      "Stopping. Best iteration:\n",
      "[303]\tvalidation_0-error:0.00115\n",
      "\n"
     ]
    },
    {
     "data": {
      "text/plain": [
       "XGBClassifier(base_score=0.5, booster='gbtree', colsample_bylevel=1,\n",
       "       colsample_bynode=1, colsample_bytree=0.6, gamma=0.4,\n",
       "       learning_rate=0.024, max_delta_step=0, max_depth=6,\n",
       "       min_child_weight=3, missing=None, n_estimators=7000, n_jobs=-1,\n",
       "       nthread=None, objective='binary:logistic', random_state=42,\n",
       "       reg_alpha=0, reg_lambda=1, scale_pos_weight=496, seed=None,\n",
       "       silent=None, subsample=0.9, verbosity=1)"
      ]
     },
     "execution_count": 39,
     "metadata": {},
     "output_type": "execute_result"
    }
   ],
   "source": [
    "xgbm_drift = xgb.XGBClassifier(\n",
    "    n_estimators=7000, learning_rate=0.024, max_depth=6, min_child_weight=3,\n",
    "    gamma = 0.4, subsample=0.9, colsample_bytree=0.6, n_jobs=-1, scale_pos_weight=496,\n",
    "    random_state=42, reg_alpha=0, reg_lambda=1\n",
    ")\n",
    "\n",
    "xgbm_drift.fit(X_train_xgb_drift, y_train, eval_set=[(X_test_xgb_drift, y_test)], early_stopping_rounds=100)"
   ]
  },
  {
   "cell_type": "code",
   "execution_count": 41,
   "metadata": {},
   "outputs": [
    {
     "name": "stdout",
     "output_type": "stream",
     "text": [
      "Train Score: 0.839237\n",
      "Test Score: 0.770833\n"
     ]
    }
   ],
   "source": [
    "train_predictions = xgbm_drift.predict(X_train_xgb_drift)\n",
    "test_predictions = xgbm_drift.predict(X_test_xgb_drift)\n",
    "\n",
    "print('Train Score: {:4f}'.format(f1_score(y_train, train_predictions)))\n",
    "print('Test Score: {:4f}'.format(f1_score(y_test, test_predictions)))"
   ]
  },
  {
   "cell_type": "code",
   "execution_count": 42,
   "metadata": {},
   "outputs": [
    {
     "data": {
      "text/plain": [
       "0.7735327468230693"
      ]
     },
     "execution_count": 42,
     "metadata": {},
     "output_type": "execute_result"
    }
   ],
   "source": [
    "cross_val_score(xgbm_drift, X_train_xgb_drift, y_train, cv=TimeSeriesSplit(n_splits=5), scoring='f1', n_jobs=-1).mean()"
   ]
  },
  {
   "cell_type": "code",
   "execution_count": null,
   "metadata": {},
   "outputs": [],
   "source": []
  },
  {
   "cell_type": "code",
   "execution_count": null,
   "metadata": {},
   "outputs": [],
   "source": []
  },
  {
   "cell_type": "code",
   "execution_count": null,
   "metadata": {},
   "outputs": [],
   "source": []
  },
  {
   "cell_type": "code",
   "execution_count": null,
   "metadata": {},
   "outputs": [],
   "source": []
  },
  {
   "cell_type": "markdown",
   "metadata": {},
   "source": [
    "<h2>LightGBM</h2>"
   ]
  },
  {
   "cell_type": "code",
   "execution_count": null,
   "metadata": {},
   "outputs": [],
   "source": [
    "lgbm = lgb.LGBMClassifier(\n",
    "    num_leaves=31, max_depth=4, n_estimators=100, class_weight='balanced', \n",
    "    random_state=42, n_jobs=-1, subsample_for_bin=150000\n",
    ")\n",
    "\n",
    "cross_val_score(lgbm, X_train, y_train, scoring='f1', cv=tss, n_jobs=-1).mean()"
   ]
  },
  {
   "cell_type": "code",
   "execution_count": 32,
   "metadata": {},
   "outputs": [],
   "source": [
    "lgbm = lgb.LGBMClassifier(\n",
    "    n_estimators=100, \n",
    "    learning_rate=0.1, \n",
    "    max_depth=7, \n",
    "    num_leaves=10,\n",
    "    subsample_for_bin=100000,\n",
    "    class_weight='balanced',\n",
    "    min_child_samples=15,\n",
    "    min_split_gain=0.0,\n",
    "    min_child_weight=0.03,\n",
    "    subsample=0.9,\n",
    "    colsample_bytree=0.9,\n",
    "    subsample_freq=1,\n",
    "    reg_alpha=0,\n",
    "    reg_lambda=0,\n",
    "    random_state=42,\n",
    "    n_jobs=-1\n",
    ")"
   ]
  },
  {
   "cell_type": "code",
   "execution_count": 33,
   "metadata": {},
   "outputs": [
    {
     "data": {
      "text/plain": [
       "GridSearchCV(cv=TimeSeriesSplit(max_train_size=None, n_splits=5),\n",
       "       error_score='raise-deprecating',\n",
       "       estimator=LGBMClassifier(boosting_type='gbdt', class_weight='balanced',\n",
       "        colsample_bytree=0.9, importance_type='split', learning_rate=0.1,\n",
       "        max_depth=7, min_child_samples=15, min_child_weight=0.03,\n",
       "        min_split_gain=0.0, n_estimators=100, n_jobs=-1, num_leaves=10,\n",
       "        objective=None, random_state=42, reg_alpha=0, reg_lambda=0,\n",
       "        silent=True, subsample=0.9, subsample_for_bin=100000,\n",
       "        subsample_freq=1),\n",
       "       fit_params=None, iid='warn', n_jobs=-1,\n",
       "       param_grid={'reg_alpha': [0.07, 0.1, 0.11]},\n",
       "       pre_dispatch='2*n_jobs', refit=True, return_train_score='warn',\n",
       "       scoring='f1', verbose=0)"
      ]
     },
     "execution_count": 33,
     "metadata": {},
     "output_type": "execute_result"
    }
   ],
   "source": [
    "params_2 = {\n",
    "    \n",
    "    'reg_alpha':[0.07, 0.1, 0.11]\n",
    "}\n",
    "\n",
    "grid2 = GridSearchCV(\n",
    "    lgbm, params_2, scoring='f1', n_jobs=-1, refit=True, verbose=0, cv=TimeSeriesSplit(n_splits=5)\n",
    ")\n",
    "\n",
    "grid2.fit(X_train, y_train)"
   ]
  },
  {
   "cell_type": "code",
   "execution_count": 34,
   "metadata": {},
   "outputs": [
    {
     "data": {
      "text/plain": [
       "({'reg_alpha': 0.1}, 0.854556697015434)"
      ]
     },
     "execution_count": 34,
     "metadata": {},
     "output_type": "execute_result"
    }
   ],
   "source": [
    "grid2.best_params_, grid2.best_score_"
   ]
  },
  {
   "cell_type": "code",
   "execution_count": 35,
   "metadata": {},
   "outputs": [
    {
     "data": {
      "text/plain": [
       "LGBMClassifier(boosting_type='gbdt', class_weight='balanced',\n",
       "        colsample_bytree=0.9, importance_type='split', learning_rate=0.1,\n",
       "        max_depth=7, min_child_samples=15, min_child_weight=0.03,\n",
       "        min_split_gain=0.0, n_estimators=100, n_jobs=-1, num_leaves=10,\n",
       "        objective=None, random_state=42, reg_alpha=0.1, reg_lambda=0,\n",
       "        silent=True, subsample=0.9, subsample_for_bin=100000,\n",
       "        subsample_freq=1)"
      ]
     },
     "execution_count": 35,
     "metadata": {},
     "output_type": "execute_result"
    }
   ],
   "source": [
    "grid2.best_estimator_"
   ]
  },
  {
   "cell_type": "code",
   "execution_count": 36,
   "metadata": {},
   "outputs": [
    {
     "data": {
      "text/html": [
       "<div>\n",
       "<style scoped>\n",
       "    .dataframe tbody tr th:only-of-type {\n",
       "        vertical-align: middle;\n",
       "    }\n",
       "\n",
       "    .dataframe tbody tr th {\n",
       "        vertical-align: top;\n",
       "    }\n",
       "\n",
       "    .dataframe thead th {\n",
       "        text-align: right;\n",
       "    }\n",
       "</style>\n",
       "<table border=\"1\" class=\"dataframe\">\n",
       "  <thead>\n",
       "    <tr style=\"text-align: right;\">\n",
       "      <th></th>\n",
       "      <th>Features</th>\n",
       "      <th>Importances</th>\n",
       "    </tr>\n",
       "  </thead>\n",
       "  <tbody>\n",
       "    <tr>\n",
       "      <th>117</th>\n",
       "      <td>Amount_to_mean_ChannelId</td>\n",
       "      <td>58</td>\n",
       "    </tr>\n",
       "    <tr>\n",
       "      <th>4</th>\n",
       "      <td>Days_to_Nearest_Holiday</td>\n",
       "      <td>48</td>\n",
       "    </tr>\n",
       "    <tr>\n",
       "      <th>118</th>\n",
       "      <td>Amount_to_std_ChannelId</td>\n",
       "      <td>41</td>\n",
       "    </tr>\n",
       "    <tr>\n",
       "      <th>110</th>\n",
       "      <td>Amount_to_std_CustomerId</td>\n",
       "      <td>35</td>\n",
       "    </tr>\n",
       "    <tr>\n",
       "      <th>6</th>\n",
       "      <td>Time_since_last_trans</td>\n",
       "      <td>34</td>\n",
       "    </tr>\n",
       "  </tbody>\n",
       "</table>\n",
       "</div>"
      ],
      "text/plain": [
       "                     Features  Importances\n",
       "117  Amount_to_mean_ChannelId           58\n",
       "4     Days_to_Nearest_Holiday           48\n",
       "118   Amount_to_std_ChannelId           41\n",
       "110  Amount_to_std_CustomerId           35\n",
       "6       Time_since_last_trans           34"
      ]
     },
     "execution_count": 36,
     "metadata": {},
     "output_type": "execute_result"
    }
   ],
   "source": [
    "lgbm_ft_importances = grid2.best_estimator_.feature_importances_\n",
    "fts = X_train.columns\n",
    "\n",
    "lgbm_importances = pd.DataFrame({'Features' : fts, 'Importances' : lgbm_ft_importances}).sort_values(by='Importances', ascending=False)\n",
    "lgbm_importances.head()"
   ]
  },
  {
   "cell_type": "code",
   "execution_count": 37,
   "metadata": {},
   "outputs": [],
   "source": [
    "lgbm_ft_importances_stored = lgbm_importances['Importances'].tolist()\n",
    "#lgbm_ft_importances_stored"
   ]
  },
  {
   "cell_type": "code",
   "execution_count": 38,
   "metadata": {},
   "outputs": [
    {
     "data": {
      "text/plain": [
       "(77, 2)"
      ]
     },
     "execution_count": 38,
     "metadata": {},
     "output_type": "execute_result"
    }
   ],
   "source": [
    "lgbm_importances[lgbm_importances['Importances']==0].shape"
   ]
  },
  {
   "cell_type": "code",
   "execution_count": 39,
   "metadata": {},
   "outputs": [
    {
     "data": {
      "text/plain": [
       "(114, 2)"
      ]
     },
     "execution_count": 39,
     "metadata": {},
     "output_type": "execute_result"
    }
   ],
   "source": [
    "lgbm_importances = lgbm_importances[lgbm_importances['Importances']>0]\n",
    "lgbm_importances.shape"
   ]
  },
  {
   "cell_type": "code",
   "execution_count": 40,
   "metadata": {},
   "outputs": [],
   "source": [
    "grid2 = grid2.best_estimator_"
   ]
  },
  {
   "cell_type": "code",
   "execution_count": 41,
   "metadata": {},
   "outputs": [],
   "source": [
    "#grid2.get_params()"
   ]
  },
  {
   "cell_type": "code",
   "execution_count": null,
   "metadata": {},
   "outputs": [],
   "source": [
    "thresholds = np.sort(np.array(lgbm_importances['Importances']))\n",
    "for thresh in thresholds:\n",
    "    \n",
    "    f1 = []\n",
    "    \n",
    "    for train, test in TimeSeriesSplit(n_splits=5).split(X_train, y_train):\n",
    "        # select features using threshold\n",
    "        selection = SelectFromModel(grid2, threshold=thresh, prefit=True)\n",
    "        select_X_train = selection.transform(X_train.iloc[train])\n",
    "        # train model\n",
    "        selection_model = lgb.LGBMClassifier(**grid2.get_params())\n",
    "        selection_model.fit(select_X_train, y_train.iloc[train])\n",
    "        # eval model\n",
    "        select_X_test = selection.transform(X_train.iloc[test])\n",
    "        y_pred = selection_model.predict(select_X_test)\n",
    "        predictions = [round(value) for value in y_pred]\n",
    "        f1.append(f1_score(y_train.iloc[test], predictions))\n",
    "        \n",
    "    print(\"Thresh=%.8f, n=%d, F1: %.8f\" % (thresh, select_X_train.shape[1], np.mean(f1)))"
   ]
  },
  {
   "cell_type": "code",
   "execution_count": 42,
   "metadata": {},
   "outputs": [
    {
     "data": {
      "text/plain": [
       "(22, 2)"
      ]
     },
     "execution_count": 42,
     "metadata": {},
     "output_type": "execute_result"
    }
   ],
   "source": [
    "lgbm_selected_features = lgbm_importances[lgbm_importances['Importances']>=11]\n",
    "lgbm_selected_features.shape"
   ]
  },
  {
   "cell_type": "code",
   "execution_count": 43,
   "metadata": {},
   "outputs": [],
   "source": [
    "X_train_lgbm = X_train.loc[:, lgbm_selected_features['Features']]\n",
    "X_test_lgbm = X_test.loc[:, lgbm_selected_features['Features']]\n",
    "\n",
    "\n",
    "test_data_lgbm = test_data.loc[:, lgbm_selected_features['Features']]"
   ]
  },
  {
   "cell_type": "code",
   "execution_count": 44,
   "metadata": {},
   "outputs": [
    {
     "data": {
      "text/plain": [
       "(76529, 22)"
      ]
     },
     "execution_count": 44,
     "metadata": {},
     "output_type": "execute_result"
    }
   ],
   "source": [
    "X_train_lgbm.shape"
   ]
  },
  {
   "cell_type": "code",
   "execution_count": 45,
   "metadata": {},
   "outputs": [
    {
     "data": {
      "text/plain": [
       "{'boosting_type': 'gbdt',\n",
       " 'class_weight': 'balanced',\n",
       " 'colsample_bytree': 0.9,\n",
       " 'importance_type': 'split',\n",
       " 'learning_rate': 0.1,\n",
       " 'max_depth': 7,\n",
       " 'min_child_samples': 15,\n",
       " 'min_child_weight': 0.03,\n",
       " 'min_split_gain': 0.0,\n",
       " 'n_estimators': 100,\n",
       " 'n_jobs': -1,\n",
       " 'num_leaves': 10,\n",
       " 'objective': None,\n",
       " 'random_state': 42,\n",
       " 'reg_alpha': 0.1,\n",
       " 'reg_lambda': 0,\n",
       " 'silent': True,\n",
       " 'subsample': 0.9,\n",
       " 'subsample_for_bin': 100000,\n",
       " 'subsample_freq': 1}"
      ]
     },
     "execution_count": 45,
     "metadata": {},
     "output_type": "execute_result"
    }
   ],
   "source": [
    "grid2.get_params()"
   ]
  },
  {
   "cell_type": "code",
   "execution_count": 46,
   "metadata": {},
   "outputs": [
    {
     "data": {
      "text/html": [
       "<div>\n",
       "<style scoped>\n",
       "    .dataframe tbody tr th:only-of-type {\n",
       "        vertical-align: middle;\n",
       "    }\n",
       "\n",
       "    .dataframe tbody tr th {\n",
       "        vertical-align: top;\n",
       "    }\n",
       "\n",
       "    .dataframe thead th {\n",
       "        text-align: right;\n",
       "    }\n",
       "</style>\n",
       "<table border=\"1\" class=\"dataframe\">\n",
       "  <thead>\n",
       "    <tr style=\"text-align: right;\">\n",
       "      <th></th>\n",
       "      <th>Features</th>\n",
       "      <th>Importances</th>\n",
       "    </tr>\n",
       "  </thead>\n",
       "  <tbody>\n",
       "    <tr>\n",
       "      <th>117</th>\n",
       "      <td>Amount_to_mean_ChannelId</td>\n",
       "      <td>58</td>\n",
       "    </tr>\n",
       "    <tr>\n",
       "      <th>4</th>\n",
       "      <td>Days_to_Nearest_Holiday</td>\n",
       "      <td>48</td>\n",
       "    </tr>\n",
       "    <tr>\n",
       "      <th>118</th>\n",
       "      <td>Amount_to_std_ChannelId</td>\n",
       "      <td>41</td>\n",
       "    </tr>\n",
       "    <tr>\n",
       "      <th>110</th>\n",
       "      <td>Amount_to_std_CustomerId</td>\n",
       "      <td>35</td>\n",
       "    </tr>\n",
       "    <tr>\n",
       "      <th>6</th>\n",
       "      <td>Time_since_last_trans</td>\n",
       "      <td>34</td>\n",
       "    </tr>\n",
       "    <tr>\n",
       "      <th>0</th>\n",
       "      <td>Amount</td>\n",
       "      <td>32</td>\n",
       "    </tr>\n",
       "    <tr>\n",
       "      <th>111</th>\n",
       "      <td>Amount_to_mean_ProviderId</td>\n",
       "      <td>30</td>\n",
       "    </tr>\n",
       "    <tr>\n",
       "      <th>81</th>\n",
       "      <td>max_amt_per_PricingStrategy_in_last_72hhrs</td>\n",
       "      <td>29</td>\n",
       "    </tr>\n",
       "  </tbody>\n",
       "</table>\n",
       "</div>"
      ],
      "text/plain": [
       "                                       Features  Importances\n",
       "117                    Amount_to_mean_ChannelId           58\n",
       "4                       Days_to_Nearest_Holiday           48\n",
       "118                     Amount_to_std_ChannelId           41\n",
       "110                    Amount_to_std_CustomerId           35\n",
       "6                         Time_since_last_trans           34\n",
       "0                                        Amount           32\n",
       "111                   Amount_to_mean_ProviderId           30\n",
       "81   max_amt_per_PricingStrategy_in_last_72hhrs           29"
      ]
     },
     "execution_count": 46,
     "metadata": {},
     "output_type": "execute_result"
    }
   ],
   "source": [
    "lgbm_selected_features.head(8)"
   ]
  },
  {
   "cell_type": "code",
   "execution_count": 47,
   "metadata": {},
   "outputs": [
    {
     "name": "stdout",
     "output_type": "stream",
     "text": [
      "[1]\tvalid_0's binary_logloss: 0.658935\n",
      "Training until validation scores don't improve for 60 rounds.\n",
      "[2]\tvalid_0's binary_logloss: 0.627333\n",
      "[3]\tvalid_0's binary_logloss: 0.597822\n",
      "[4]\tvalid_0's binary_logloss: 0.569999\n",
      "[5]\tvalid_0's binary_logloss: 0.543834\n",
      "[6]\tvalid_0's binary_logloss: 0.51951\n",
      "[7]\tvalid_0's binary_logloss: 0.496345\n",
      "[8]\tvalid_0's binary_logloss: 0.474389\n",
      "[9]\tvalid_0's binary_logloss: 0.45376\n",
      "[10]\tvalid_0's binary_logloss: 0.434465\n",
      "[11]\tvalid_0's binary_logloss: 0.416053\n",
      "[12]\tvalid_0's binary_logloss: 0.398812\n",
      "[13]\tvalid_0's binary_logloss: 0.382098\n",
      "[14]\tvalid_0's binary_logloss: 0.36637\n",
      "[15]\tvalid_0's binary_logloss: 0.351607\n",
      "[16]\tvalid_0's binary_logloss: 0.337352\n",
      "[17]\tvalid_0's binary_logloss: 0.323794\n",
      "[18]\tvalid_0's binary_logloss: 0.31091\n",
      "[19]\tvalid_0's binary_logloss: 0.298558\n",
      "[20]\tvalid_0's binary_logloss: 0.286848\n",
      "[21]\tvalid_0's binary_logloss: 0.275596\n",
      "[22]\tvalid_0's binary_logloss: 0.264996\n",
      "[23]\tvalid_0's binary_logloss: 0.254829\n",
      "[24]\tvalid_0's binary_logloss: 0.245016\n",
      "[25]\tvalid_0's binary_logloss: 0.235599\n",
      "[26]\tvalid_0's binary_logloss: 0.226629\n",
      "[27]\tvalid_0's binary_logloss: 0.218135\n",
      "[28]\tvalid_0's binary_logloss: 0.210025\n",
      "[29]\tvalid_0's binary_logloss: 0.202274\n",
      "[30]\tvalid_0's binary_logloss: 0.194732\n",
      "[31]\tvalid_0's binary_logloss: 0.187616\n",
      "[32]\tvalid_0's binary_logloss: 0.180688\n",
      "[33]\tvalid_0's binary_logloss: 0.174078\n",
      "[34]\tvalid_0's binary_logloss: 0.167732\n",
      "[35]\tvalid_0's binary_logloss: 0.161702\n",
      "[36]\tvalid_0's binary_logloss: 0.155868\n",
      "[37]\tvalid_0's binary_logloss: 0.15023\n",
      "[38]\tvalid_0's binary_logloss: 0.144848\n",
      "[39]\tvalid_0's binary_logloss: 0.139654\n",
      "[40]\tvalid_0's binary_logloss: 0.1347\n",
      "[41]\tvalid_0's binary_logloss: 0.129879\n",
      "[42]\tvalid_0's binary_logloss: 0.1253\n",
      "[43]\tvalid_0's binary_logloss: 0.120874\n",
      "[44]\tvalid_0's binary_logloss: 0.116653\n",
      "[45]\tvalid_0's binary_logloss: 0.112589\n",
      "[46]\tvalid_0's binary_logloss: 0.108704\n",
      "[47]\tvalid_0's binary_logloss: 0.104873\n",
      "[48]\tvalid_0's binary_logloss: 0.101314\n",
      "[49]\tvalid_0's binary_logloss: 0.0978151\n",
      "[50]\tvalid_0's binary_logloss: 0.0944957\n",
      "[51]\tvalid_0's binary_logloss: 0.0912756\n",
      "[52]\tvalid_0's binary_logloss: 0.0881777\n",
      "[53]\tvalid_0's binary_logloss: 0.0851516\n",
      "[54]\tvalid_0's binary_logloss: 0.0823393\n",
      "[55]\tvalid_0's binary_logloss: 0.0795488\n",
      "[56]\tvalid_0's binary_logloss: 0.0768638\n",
      "[57]\tvalid_0's binary_logloss: 0.0742886\n",
      "[58]\tvalid_0's binary_logloss: 0.0718003\n",
      "[59]\tvalid_0's binary_logloss: 0.0694312\n",
      "[60]\tvalid_0's binary_logloss: 0.0671001\n",
      "[61]\tvalid_0's binary_logloss: 0.064878\n",
      "[62]\tvalid_0's binary_logloss: 0.0627311\n",
      "[63]\tvalid_0's binary_logloss: 0.0606585\n",
      "[64]\tvalid_0's binary_logloss: 0.0586907\n",
      "[65]\tvalid_0's binary_logloss: 0.0567939\n",
      "[66]\tvalid_0's binary_logloss: 0.0549288\n",
      "[67]\tvalid_0's binary_logloss: 0.0531497\n",
      "[68]\tvalid_0's binary_logloss: 0.0514074\n",
      "[69]\tvalid_0's binary_logloss: 0.0497489\n",
      "[70]\tvalid_0's binary_logloss: 0.0481445\n",
      "[71]\tvalid_0's binary_logloss: 0.0466018\n",
      "[72]\tvalid_0's binary_logloss: 0.0451318\n",
      "[73]\tvalid_0's binary_logloss: 0.0437112\n",
      "[74]\tvalid_0's binary_logloss: 0.0423272\n",
      "[75]\tvalid_0's binary_logloss: 0.04099\n",
      "[76]\tvalid_0's binary_logloss: 0.0396958\n",
      "[77]\tvalid_0's binary_logloss: 0.0384849\n",
      "[78]\tvalid_0's binary_logloss: 0.0372931\n",
      "[79]\tvalid_0's binary_logloss: 0.0361526\n",
      "[80]\tvalid_0's binary_logloss: 0.0350766\n",
      "[81]\tvalid_0's binary_logloss: 0.0340153\n",
      "[82]\tvalid_0's binary_logloss: 0.0330104\n",
      "[83]\tvalid_0's binary_logloss: 0.0320606\n",
      "[84]\tvalid_0's binary_logloss: 0.0310992\n",
      "[85]\tvalid_0's binary_logloss: 0.0301856\n",
      "[86]\tvalid_0's binary_logloss: 0.0293079\n",
      "[87]\tvalid_0's binary_logloss: 0.0284488\n",
      "[88]\tvalid_0's binary_logloss: 0.0276277\n",
      "[89]\tvalid_0's binary_logloss: 0.0268207\n",
      "[90]\tvalid_0's binary_logloss: 0.0260554\n",
      "[91]\tvalid_0's binary_logloss: 0.02532\n",
      "[92]\tvalid_0's binary_logloss: 0.0246052\n",
      "[93]\tvalid_0's binary_logloss: 0.0239256\n",
      "[94]\tvalid_0's binary_logloss: 0.0232518\n",
      "[95]\tvalid_0's binary_logloss: 0.0226459\n",
      "[96]\tvalid_0's binary_logloss: 0.0220263\n",
      "[97]\tvalid_0's binary_logloss: 0.0214385\n",
      "[98]\tvalid_0's binary_logloss: 0.0208699\n",
      "[99]\tvalid_0's binary_logloss: 0.0203183\n",
      "[100]\tvalid_0's binary_logloss: 0.019787\n",
      "[101]\tvalid_0's binary_logloss: 0.0192855\n",
      "[102]\tvalid_0's binary_logloss: 0.0187834\n",
      "[103]\tvalid_0's binary_logloss: 0.0183124\n",
      "[104]\tvalid_0's binary_logloss: 0.0178675\n",
      "[105]\tvalid_0's binary_logloss: 0.0174367\n",
      "[106]\tvalid_0's binary_logloss: 0.0169992\n",
      "[107]\tvalid_0's binary_logloss: 0.0165899\n",
      "[108]\tvalid_0's binary_logloss: 0.0161984\n",
      "[109]\tvalid_0's binary_logloss: 0.0158113\n",
      "[110]\tvalid_0's binary_logloss: 0.0154461\n",
      "[111]\tvalid_0's binary_logloss: 0.0150907\n",
      "[112]\tvalid_0's binary_logloss: 0.0147536\n",
      "[113]\tvalid_0's binary_logloss: 0.0144164\n",
      "[114]\tvalid_0's binary_logloss: 0.0140973\n",
      "[115]\tvalid_0's binary_logloss: 0.0137933\n",
      "[116]\tvalid_0's binary_logloss: 0.0134894\n",
      "[117]\tvalid_0's binary_logloss: 0.0132059\n",
      "[118]\tvalid_0's binary_logloss: 0.0129299\n",
      "[119]\tvalid_0's binary_logloss: 0.0126568\n",
      "[120]\tvalid_0's binary_logloss: 0.0123943\n",
      "[121]\tvalid_0's binary_logloss: 0.012131\n",
      "[122]\tvalid_0's binary_logloss: 0.0118929\n",
      "[123]\tvalid_0's binary_logloss: 0.0116478\n",
      "[124]\tvalid_0's binary_logloss: 0.0114307\n",
      "[125]\tvalid_0's binary_logloss: 0.0112178\n",
      "[126]\tvalid_0's binary_logloss: 0.011021\n",
      "[127]\tvalid_0's binary_logloss: 0.0108137\n",
      "[128]\tvalid_0's binary_logloss: 0.00978209\n",
      "[129]\tvalid_0's binary_logloss: 0.00959647\n",
      "[130]\tvalid_0's binary_logloss: 0.00941342\n",
      "[131]\tvalid_0's binary_logloss: 0.00924838\n",
      "[132]\tvalid_0's binary_logloss: 0.00909392\n",
      "[133]\tvalid_0's binary_logloss: 0.00893899\n",
      "[134]\tvalid_0's binary_logloss: 0.00880332\n",
      "[135]\tvalid_0's binary_logloss: 0.00866591\n",
      "[136]\tvalid_0's binary_logloss: 0.00853569\n",
      "[137]\tvalid_0's binary_logloss: 0.00840227\n",
      "[138]\tvalid_0's binary_logloss: 0.00824441\n",
      "[139]\tvalid_0's binary_logloss: 0.00811668\n",
      "[140]\tvalid_0's binary_logloss: 0.00800409\n",
      "[141]\tvalid_0's binary_logloss: 0.00789642\n",
      "[142]\tvalid_0's binary_logloss: 0.00776524\n",
      "[143]\tvalid_0's binary_logloss: 0.00763932\n",
      "[144]\tvalid_0's binary_logloss: 0.00753184\n",
      "[145]\tvalid_0's binary_logloss: 0.00739305\n",
      "[146]\tvalid_0's binary_logloss: 0.00728418\n",
      "[147]\tvalid_0's binary_logloss: 0.0071889\n",
      "[148]\tvalid_0's binary_logloss: 0.00709827\n",
      "[149]\tvalid_0's binary_logloss: 0.00700635\n",
      "[150]\tvalid_0's binary_logloss: 0.00691731\n",
      "[151]\tvalid_0's binary_logloss: 0.00682005\n",
      "[152]\tvalid_0's binary_logloss: 0.00673295\n",
      "[153]\tvalid_0's binary_logloss: 0.00664006\n",
      "[154]\tvalid_0's binary_logloss: 0.00655801\n",
      "[155]\tvalid_0's binary_logloss: 0.00644688\n",
      "[156]\tvalid_0's binary_logloss: 0.00636001\n",
      "[157]\tvalid_0's binary_logloss: 0.00629399\n",
      "[158]\tvalid_0's binary_logloss: 0.00621409\n",
      "[159]\tvalid_0's binary_logloss: 0.00613916\n",
      "[160]\tvalid_0's binary_logloss: 0.00607487\n",
      "[161]\tvalid_0's binary_logloss: 0.0059478\n",
      "[162]\tvalid_0's binary_logloss: 0.00589407\n",
      "[163]\tvalid_0's binary_logloss: 0.00572922\n",
      "[164]\tvalid_0's binary_logloss: 0.00566298\n",
      "[165]\tvalid_0's binary_logloss: 0.00560518\n",
      "[166]\tvalid_0's binary_logloss: 0.00553688\n",
      "[167]\tvalid_0's binary_logloss: 0.00547859\n",
      "[168]\tvalid_0's binary_logloss: 0.00542074\n",
      "[169]\tvalid_0's binary_logloss: 0.00529027\n",
      "[170]\tvalid_0's binary_logloss: 0.00524627\n",
      "[171]\tvalid_0's binary_logloss: 0.00519543\n",
      "[172]\tvalid_0's binary_logloss: 0.00514035\n",
      "[173]\tvalid_0's binary_logloss: 0.00508262\n",
      "[174]\tvalid_0's binary_logloss: 0.00503625\n",
      "[175]\tvalid_0's binary_logloss: 0.00495163\n",
      "[176]\tvalid_0's binary_logloss: 0.00490653\n",
      "[177]\tvalid_0's binary_logloss: 0.00486028\n",
      "[178]\tvalid_0's binary_logloss: 0.0048141\n",
      "[179]\tvalid_0's binary_logloss: 0.00476293\n",
      "[180]\tvalid_0's binary_logloss: 0.00473509\n",
      "[181]\tvalid_0's binary_logloss: 0.00470659\n",
      "[182]\tvalid_0's binary_logloss: 0.00464905\n",
      "[183]\tvalid_0's binary_logloss: 0.00462127\n",
      "[184]\tvalid_0's binary_logloss: 0.00457694\n",
      "[185]\tvalid_0's binary_logloss: 0.00452033\n",
      "[186]\tvalid_0's binary_logloss: 0.00448186\n",
      "[187]\tvalid_0's binary_logloss: 0.00444362\n",
      "[188]\tvalid_0's binary_logloss: 0.00441206\n",
      "[189]\tvalid_0's binary_logloss: 0.00437319\n",
      "[190]\tvalid_0's binary_logloss: 0.00433965\n",
      "[191]\tvalid_0's binary_logloss: 0.00430952\n",
      "[192]\tvalid_0's binary_logloss: 0.00426628\n",
      "[193]\tvalid_0's binary_logloss: 0.00424548\n",
      "[194]\tvalid_0's binary_logloss: 0.00415939\n",
      "[195]\tvalid_0's binary_logloss: 0.00411161\n",
      "[196]\tvalid_0's binary_logloss: 0.00404067\n",
      "[197]\tvalid_0's binary_logloss: 0.0040113\n",
      "[198]\tvalid_0's binary_logloss: 0.00397282\n",
      "[199]\tvalid_0's binary_logloss: 0.00392096\n",
      "[200]\tvalid_0's binary_logloss: 0.00389801\n",
      "[201]\tvalid_0's binary_logloss: 0.00385807\n",
      "[202]\tvalid_0's binary_logloss: 0.00378227\n",
      "[203]\tvalid_0's binary_logloss: 0.00376469\n"
     ]
    },
    {
     "name": "stdout",
     "output_type": "stream",
     "text": [
      "[204]\tvalid_0's binary_logloss: 0.00374019\n",
      "[205]\tvalid_0's binary_logloss: 0.00364983\n",
      "[206]\tvalid_0's binary_logloss: 0.00363192\n",
      "[207]\tvalid_0's binary_logloss: 0.00355187\n",
      "[208]\tvalid_0's binary_logloss: 0.00337191\n",
      "[209]\tvalid_0's binary_logloss: 0.00335072\n",
      "[210]\tvalid_0's binary_logloss: 0.00332666\n",
      "[211]\tvalid_0's binary_logloss: 0.00314966\n",
      "[212]\tvalid_0's binary_logloss: 0.00308142\n",
      "[213]\tvalid_0's binary_logloss: 0.00302539\n",
      "[214]\tvalid_0's binary_logloss: 0.00298809\n",
      "[215]\tvalid_0's binary_logloss: 0.00293497\n",
      "[216]\tvalid_0's binary_logloss: 0.00291181\n",
      "[217]\tvalid_0's binary_logloss: 0.00289388\n",
      "[218]\tvalid_0's binary_logloss: 0.00288313\n",
      "[219]\tvalid_0's binary_logloss: 0.00287507\n",
      "[220]\tvalid_0's binary_logloss: 0.00281137\n",
      "[221]\tvalid_0's binary_logloss: 0.00277961\n",
      "[222]\tvalid_0's binary_logloss: 0.00274015\n",
      "[223]\tvalid_0's binary_logloss: 0.0027219\n",
      "[224]\tvalid_0's binary_logloss: 0.00269695\n",
      "[225]\tvalid_0's binary_logloss: 0.00268079\n",
      "[226]\tvalid_0's binary_logloss: 0.00265444\n",
      "[227]\tvalid_0's binary_logloss: 0.00261789\n",
      "[228]\tvalid_0's binary_logloss: 0.00261201\n",
      "[229]\tvalid_0's binary_logloss: 0.00258983\n",
      "[230]\tvalid_0's binary_logloss: 0.00258196\n",
      "[231]\tvalid_0's binary_logloss: 0.00257725\n",
      "[232]\tvalid_0's binary_logloss: 0.0025603\n",
      "[233]\tvalid_0's binary_logloss: 0.00254557\n",
      "[234]\tvalid_0's binary_logloss: 0.00253713\n",
      "[235]\tvalid_0's binary_logloss: 0.0025145\n",
      "[236]\tvalid_0's binary_logloss: 0.00249772\n",
      "[237]\tvalid_0's binary_logloss: 0.00248173\n",
      "[238]\tvalid_0's binary_logloss: 0.0024878\n",
      "[239]\tvalid_0's binary_logloss: 0.00247484\n",
      "[240]\tvalid_0's binary_logloss: 0.00244909\n",
      "[241]\tvalid_0's binary_logloss: 0.00243889\n",
      "[242]\tvalid_0's binary_logloss: 0.00242933\n",
      "[243]\tvalid_0's binary_logloss: 0.00242448\n",
      "[244]\tvalid_0's binary_logloss: 0.00241138\n",
      "[245]\tvalid_0's binary_logloss: 0.00239327\n",
      "[246]\tvalid_0's binary_logloss: 0.0023841\n",
      "[247]\tvalid_0's binary_logloss: 0.00237306\n",
      "[248]\tvalid_0's binary_logloss: 0.00235781\n",
      "[249]\tvalid_0's binary_logloss: 0.00232677\n",
      "[250]\tvalid_0's binary_logloss: 0.00231833\n",
      "[251]\tvalid_0's binary_logloss: 0.00231573\n",
      "[252]\tvalid_0's binary_logloss: 0.00230311\n",
      "[253]\tvalid_0's binary_logloss: 0.00228378\n",
      "[254]\tvalid_0's binary_logloss: 0.00226658\n",
      "[255]\tvalid_0's binary_logloss: 0.00224568\n",
      "[256]\tvalid_0's binary_logloss: 0.00221922\n",
      "[257]\tvalid_0's binary_logloss: 0.00221474\n",
      "[258]\tvalid_0's binary_logloss: 0.00220411\n",
      "[259]\tvalid_0's binary_logloss: 0.00220107\n",
      "[260]\tvalid_0's binary_logloss: 0.00219517\n",
      "[261]\tvalid_0's binary_logloss: 0.00218256\n",
      "[262]\tvalid_0's binary_logloss: 0.00217421\n",
      "[263]\tvalid_0's binary_logloss: 0.00217051\n",
      "[264]\tvalid_0's binary_logloss: 0.00214873\n",
      "[265]\tvalid_0's binary_logloss: 0.00213724\n",
      "[266]\tvalid_0's binary_logloss: 0.00212868\n",
      "[267]\tvalid_0's binary_logloss: 0.00211341\n",
      "[268]\tvalid_0's binary_logloss: 0.00210565\n",
      "[269]\tvalid_0's binary_logloss: 0.00210077\n",
      "[270]\tvalid_0's binary_logloss: 0.00209143\n",
      "[271]\tvalid_0's binary_logloss: 0.00208202\n",
      "[272]\tvalid_0's binary_logloss: 0.00207584\n",
      "[273]\tvalid_0's binary_logloss: 0.00206774\n",
      "[274]\tvalid_0's binary_logloss: 0.00205956\n",
      "[275]\tvalid_0's binary_logloss: 0.00205927\n",
      "[276]\tvalid_0's binary_logloss: 0.00205587\n",
      "[277]\tvalid_0's binary_logloss: 0.00204495\n",
      "[278]\tvalid_0's binary_logloss: 0.0020366\n",
      "[279]\tvalid_0's binary_logloss: 0.00203024\n",
      "[280]\tvalid_0's binary_logloss: 0.00202437\n",
      "[281]\tvalid_0's binary_logloss: 0.00202047\n",
      "[282]\tvalid_0's binary_logloss: 0.00201078\n",
      "[283]\tvalid_0's binary_logloss: 0.00200819\n",
      "[284]\tvalid_0's binary_logloss: 0.00199511\n",
      "[285]\tvalid_0's binary_logloss: 0.00198452\n",
      "[286]\tvalid_0's binary_logloss: 0.00197637\n",
      "[287]\tvalid_0's binary_logloss: 0.0019713\n",
      "[288]\tvalid_0's binary_logloss: 0.00196896\n",
      "[289]\tvalid_0's binary_logloss: 0.00196082\n",
      "[290]\tvalid_0's binary_logloss: 0.00195611\n",
      "[291]\tvalid_0's binary_logloss: 0.00194859\n",
      "[292]\tvalid_0's binary_logloss: 0.00194607\n",
      "[293]\tvalid_0's binary_logloss: 0.00194254\n",
      "[294]\tvalid_0's binary_logloss: 0.00192471\n",
      "[295]\tvalid_0's binary_logloss: 0.00192406\n",
      "[296]\tvalid_0's binary_logloss: 0.00191598\n",
      "[297]\tvalid_0's binary_logloss: 0.00190671\n",
      "[298]\tvalid_0's binary_logloss: 0.00190797\n",
      "[299]\tvalid_0's binary_logloss: 0.00191043\n",
      "[300]\tvalid_0's binary_logloss: 0.00188976\n",
      "[301]\tvalid_0's binary_logloss: 0.0018855\n",
      "[302]\tvalid_0's binary_logloss: 0.00186813\n",
      "[303]\tvalid_0's binary_logloss: 0.00186493\n",
      "[304]\tvalid_0's binary_logloss: 0.00186344\n",
      "[305]\tvalid_0's binary_logloss: 0.00186901\n",
      "[306]\tvalid_0's binary_logloss: 0.00186839\n",
      "[307]\tvalid_0's binary_logloss: 0.00186068\n",
      "[308]\tvalid_0's binary_logloss: 0.00185493\n",
      "[309]\tvalid_0's binary_logloss: 0.00185494\n",
      "[310]\tvalid_0's binary_logloss: 0.00185472\n",
      "[311]\tvalid_0's binary_logloss: 0.00185854\n",
      "[312]\tvalid_0's binary_logloss: 0.001858\n",
      "[313]\tvalid_0's binary_logloss: 0.00183705\n",
      "[314]\tvalid_0's binary_logloss: 0.00184085\n",
      "[315]\tvalid_0's binary_logloss: 0.00184228\n",
      "[316]\tvalid_0's binary_logloss: 0.00183993\n",
      "[317]\tvalid_0's binary_logloss: 0.00183645\n",
      "[318]\tvalid_0's binary_logloss: 0.00183254\n",
      "[319]\tvalid_0's binary_logloss: 0.00182744\n",
      "[320]\tvalid_0's binary_logloss: 0.00181811\n",
      "[321]\tvalid_0's binary_logloss: 0.00181504\n",
      "[322]\tvalid_0's binary_logloss: 0.00181626\n",
      "[323]\tvalid_0's binary_logloss: 0.00181664\n",
      "[324]\tvalid_0's binary_logloss: 0.00181427\n",
      "[325]\tvalid_0's binary_logloss: 0.00181394\n",
      "[326]\tvalid_0's binary_logloss: 0.00181606\n",
      "[327]\tvalid_0's binary_logloss: 0.00181573\n",
      "[328]\tvalid_0's binary_logloss: 0.00181638\n",
      "[329]\tvalid_0's binary_logloss: 0.00182052\n",
      "[330]\tvalid_0's binary_logloss: 0.00180808\n",
      "[331]\tvalid_0's binary_logloss: 0.00180403\n",
      "[332]\tvalid_0's binary_logloss: 0.00180627\n",
      "[333]\tvalid_0's binary_logloss: 0.00181009\n",
      "[334]\tvalid_0's binary_logloss: 0.00180775\n",
      "[335]\tvalid_0's binary_logloss: 0.00180609\n",
      "[336]\tvalid_0's binary_logloss: 0.00180157\n",
      "[337]\tvalid_0's binary_logloss: 0.00180153\n",
      "[338]\tvalid_0's binary_logloss: 0.00180399\n",
      "[339]\tvalid_0's binary_logloss: 0.00180985\n",
      "[340]\tvalid_0's binary_logloss: 0.00181088\n",
      "[341]\tvalid_0's binary_logloss: 0.00181031\n",
      "[342]\tvalid_0's binary_logloss: 0.00181259\n",
      "[343]\tvalid_0's binary_logloss: 0.00181615\n",
      "[344]\tvalid_0's binary_logloss: 0.0018096\n",
      "[345]\tvalid_0's binary_logloss: 0.00180874\n",
      "[346]\tvalid_0's binary_logloss: 0.00180973\n",
      "[347]\tvalid_0's binary_logloss: 0.00181505\n",
      "[348]\tvalid_0's binary_logloss: 0.00181753\n",
      "[349]\tvalid_0's binary_logloss: 0.00181287\n",
      "[350]\tvalid_0's binary_logloss: 0.00181426\n",
      "[351]\tvalid_0's binary_logloss: 0.00180819\n",
      "[352]\tvalid_0's binary_logloss: 0.00180816\n",
      "[353]\tvalid_0's binary_logloss: 0.00180654\n",
      "[354]\tvalid_0's binary_logloss: 0.00180279\n",
      "[355]\tvalid_0's binary_logloss: 0.00179806\n",
      "[356]\tvalid_0's binary_logloss: 0.00179463\n",
      "[357]\tvalid_0's binary_logloss: 0.00178639\n",
      "[358]\tvalid_0's binary_logloss: 0.00178726\n",
      "[359]\tvalid_0's binary_logloss: 0.00178702\n",
      "[360]\tvalid_0's binary_logloss: 0.00178437\n",
      "[361]\tvalid_0's binary_logloss: 0.00177954\n",
      "[362]\tvalid_0's binary_logloss: 0.0017764\n",
      "[363]\tvalid_0's binary_logloss: 0.0017815\n",
      "[364]\tvalid_0's binary_logloss: 0.00178076\n",
      "[365]\tvalid_0's binary_logloss: 0.00176989\n",
      "[366]\tvalid_0's binary_logloss: 0.00176555\n",
      "[367]\tvalid_0's binary_logloss: 0.00176007\n",
      "[368]\tvalid_0's binary_logloss: 0.00176402\n",
      "[369]\tvalid_0's binary_logloss: 0.00175931\n",
      "[370]\tvalid_0's binary_logloss: 0.00176068\n",
      "[371]\tvalid_0's binary_logloss: 0.00176416\n",
      "[372]\tvalid_0's binary_logloss: 0.00176325\n",
      "[373]\tvalid_0's binary_logloss: 0.00175745\n",
      "[374]\tvalid_0's binary_logloss: 0.00175567\n",
      "[375]\tvalid_0's binary_logloss: 0.00175324\n",
      "[376]\tvalid_0's binary_logloss: 0.00175084\n",
      "[377]\tvalid_0's binary_logloss: 0.00174879\n",
      "[378]\tvalid_0's binary_logloss: 0.001745\n",
      "[379]\tvalid_0's binary_logloss: 0.00174095\n",
      "[380]\tvalid_0's binary_logloss: 0.00173942\n",
      "[381]\tvalid_0's binary_logloss: 0.00173809\n",
      "[382]\tvalid_0's binary_logloss: 0.00173754\n",
      "[383]\tvalid_0's binary_logloss: 0.00173584\n",
      "[384]\tvalid_0's binary_logloss: 0.00173393\n",
      "[385]\tvalid_0's binary_logloss: 0.00173238\n",
      "[386]\tvalid_0's binary_logloss: 0.0017327\n",
      "[387]\tvalid_0's binary_logloss: 0.0017314\n",
      "[388]\tvalid_0's binary_logloss: 0.00173041\n",
      "[389]\tvalid_0's binary_logloss: 0.00172906\n",
      "[390]\tvalid_0's binary_logloss: 0.00173074\n",
      "[391]\tvalid_0's binary_logloss: 0.00173073\n",
      "[392]\tvalid_0's binary_logloss: 0.00173169\n",
      "[393]\tvalid_0's binary_logloss: 0.00172927\n",
      "[394]\tvalid_0's binary_logloss: 0.0017282\n"
     ]
    },
    {
     "name": "stdout",
     "output_type": "stream",
     "text": [
      "[395]\tvalid_0's binary_logloss: 0.00172897\n",
      "[396]\tvalid_0's binary_logloss: 0.00172556\n",
      "[397]\tvalid_0's binary_logloss: 0.00171985\n",
      "[398]\tvalid_0's binary_logloss: 0.00171441\n",
      "[399]\tvalid_0's binary_logloss: 0.00171323\n",
      "[400]\tvalid_0's binary_logloss: 0.0017144\n",
      "[401]\tvalid_0's binary_logloss: 0.00171257\n",
      "[402]\tvalid_0's binary_logloss: 0.00171267\n",
      "[403]\tvalid_0's binary_logloss: 0.00171502\n",
      "[404]\tvalid_0's binary_logloss: 0.00171396\n",
      "[405]\tvalid_0's binary_logloss: 0.00171392\n",
      "[406]\tvalid_0's binary_logloss: 0.00171312\n",
      "[407]\tvalid_0's binary_logloss: 0.00171317\n",
      "[408]\tvalid_0's binary_logloss: 0.00171022\n",
      "[409]\tvalid_0's binary_logloss: 0.00171151\n",
      "[410]\tvalid_0's binary_logloss: 0.00171048\n",
      "[411]\tvalid_0's binary_logloss: 0.00171193\n",
      "[412]\tvalid_0's binary_logloss: 0.00171097\n",
      "[413]\tvalid_0's binary_logloss: 0.00170681\n",
      "[414]\tvalid_0's binary_logloss: 0.00170345\n",
      "[415]\tvalid_0's binary_logloss: 0.0016996\n",
      "[416]\tvalid_0's binary_logloss: 0.00170141\n",
      "[417]\tvalid_0's binary_logloss: 0.00169484\n",
      "[418]\tvalid_0's binary_logloss: 0.0016887\n",
      "[419]\tvalid_0's binary_logloss: 0.00169017\n",
      "[420]\tvalid_0's binary_logloss: 0.00168822\n",
      "[421]\tvalid_0's binary_logloss: 0.00168956\n",
      "[422]\tvalid_0's binary_logloss: 0.00168916\n",
      "[423]\tvalid_0's binary_logloss: 0.00169015\n",
      "[424]\tvalid_0's binary_logloss: 0.00168581\n",
      "[425]\tvalid_0's binary_logloss: 0.00168237\n",
      "[426]\tvalid_0's binary_logloss: 0.00168522\n",
      "[427]\tvalid_0's binary_logloss: 0.00168789\n",
      "[428]\tvalid_0's binary_logloss: 0.00168805\n",
      "[429]\tvalid_0's binary_logloss: 0.00168312\n",
      "[430]\tvalid_0's binary_logloss: 0.00167855\n",
      "[431]\tvalid_0's binary_logloss: 0.0016776\n",
      "[432]\tvalid_0's binary_logloss: 0.00167639\n",
      "[433]\tvalid_0's binary_logloss: 0.00167916\n",
      "[434]\tvalid_0's binary_logloss: 0.00167893\n",
      "[435]\tvalid_0's binary_logloss: 0.00167815\n",
      "[436]\tvalid_0's binary_logloss: 0.00167889\n",
      "[437]\tvalid_0's binary_logloss: 0.00168015\n",
      "[438]\tvalid_0's binary_logloss: 0.00167666\n",
      "[439]\tvalid_0's binary_logloss: 0.00167232\n",
      "[440]\tvalid_0's binary_logloss: 0.00167384\n",
      "[441]\tvalid_0's binary_logloss: 0.00167099\n",
      "[442]\tvalid_0's binary_logloss: 0.0016672\n",
      "[443]\tvalid_0's binary_logloss: 0.00166622\n",
      "[444]\tvalid_0's binary_logloss: 0.00166659\n",
      "[445]\tvalid_0's binary_logloss: 0.00166901\n",
      "[446]\tvalid_0's binary_logloss: 0.00166589\n",
      "[447]\tvalid_0's binary_logloss: 0.00166436\n",
      "[448]\tvalid_0's binary_logloss: 0.00166228\n",
      "[449]\tvalid_0's binary_logloss: 0.00166588\n",
      "[450]\tvalid_0's binary_logloss: 0.00166287\n",
      "[451]\tvalid_0's binary_logloss: 0.00166619\n",
      "[452]\tvalid_0's binary_logloss: 0.00166447\n",
      "[453]\tvalid_0's binary_logloss: 0.0016669\n",
      "[454]\tvalid_0's binary_logloss: 0.00166095\n",
      "[455]\tvalid_0's binary_logloss: 0.00166061\n",
      "[456]\tvalid_0's binary_logloss: 0.00166202\n",
      "[457]\tvalid_0's binary_logloss: 0.00166248\n",
      "[458]\tvalid_0's binary_logloss: 0.00166216\n",
      "[459]\tvalid_0's binary_logloss: 0.00165951\n",
      "[460]\tvalid_0's binary_logloss: 0.00165556\n",
      "[461]\tvalid_0's binary_logloss: 0.0016548\n",
      "[462]\tvalid_0's binary_logloss: 0.00165203\n",
      "[463]\tvalid_0's binary_logloss: 0.00165094\n",
      "[464]\tvalid_0's binary_logloss: 0.00165061\n",
      "[465]\tvalid_0's binary_logloss: 0.00164604\n",
      "[466]\tvalid_0's binary_logloss: 0.00164185\n",
      "[467]\tvalid_0's binary_logloss: 0.00163905\n",
      "[468]\tvalid_0's binary_logloss: 0.00163868\n",
      "[469]\tvalid_0's binary_logloss: 0.00163917\n",
      "[470]\tvalid_0's binary_logloss: 0.00164155\n",
      "[471]\tvalid_0's binary_logloss: 0.00163892\n",
      "[472]\tvalid_0's binary_logloss: 0.00163878\n",
      "[473]\tvalid_0's binary_logloss: 0.00163898\n",
      "[474]\tvalid_0's binary_logloss: 0.00163621\n",
      "[475]\tvalid_0's binary_logloss: 0.00163683\n",
      "[476]\tvalid_0's binary_logloss: 0.00163668\n",
      "[477]\tvalid_0's binary_logloss: 0.0016386\n",
      "[478]\tvalid_0's binary_logloss: 0.00163775\n",
      "[479]\tvalid_0's binary_logloss: 0.00164114\n",
      "[480]\tvalid_0's binary_logloss: 0.00164183\n",
      "[481]\tvalid_0's binary_logloss: 0.00164023\n",
      "[482]\tvalid_0's binary_logloss: 0.00164089\n",
      "[483]\tvalid_0's binary_logloss: 0.00164227\n",
      "[484]\tvalid_0's binary_logloss: 0.00164493\n",
      "[485]\tvalid_0's binary_logloss: 0.00164282\n",
      "[486]\tvalid_0's binary_logloss: 0.00164239\n",
      "[487]\tvalid_0's binary_logloss: 0.00164293\n",
      "[488]\tvalid_0's binary_logloss: 0.00164133\n",
      "[489]\tvalid_0's binary_logloss: 0.00163803\n",
      "[490]\tvalid_0's binary_logloss: 0.00163884\n",
      "[491]\tvalid_0's binary_logloss: 0.00163769\n",
      "[492]\tvalid_0's binary_logloss: 0.00163775\n",
      "[493]\tvalid_0's binary_logloss: 0.00163896\n",
      "[494]\tvalid_0's binary_logloss: 0.00163827\n",
      "[495]\tvalid_0's binary_logloss: 0.00163725\n",
      "[496]\tvalid_0's binary_logloss: 0.00163846\n",
      "[497]\tvalid_0's binary_logloss: 0.00163662\n",
      "[498]\tvalid_0's binary_logloss: 0.00163438\n",
      "[499]\tvalid_0's binary_logloss: 0.00163379\n",
      "[500]\tvalid_0's binary_logloss: 0.00163309\n",
      "[501]\tvalid_0's binary_logloss: 0.00163574\n",
      "[502]\tvalid_0's binary_logloss: 0.00163405\n",
      "[503]\tvalid_0's binary_logloss: 0.0016325\n",
      "[504]\tvalid_0's binary_logloss: 0.00162912\n",
      "[505]\tvalid_0's binary_logloss: 0.00162762\n",
      "[506]\tvalid_0's binary_logloss: 0.00162571\n",
      "[507]\tvalid_0's binary_logloss: 0.00162591\n",
      "[508]\tvalid_0's binary_logloss: 0.001622\n",
      "[509]\tvalid_0's binary_logloss: 0.00162378\n",
      "[510]\tvalid_0's binary_logloss: 0.00162078\n",
      "[511]\tvalid_0's binary_logloss: 0.00161919\n",
      "[512]\tvalid_0's binary_logloss: 0.00162003\n",
      "[513]\tvalid_0's binary_logloss: 0.00161938\n",
      "[514]\tvalid_0's binary_logloss: 0.00161922\n",
      "[515]\tvalid_0's binary_logloss: 0.0016197\n",
      "[516]\tvalid_0's binary_logloss: 0.00161594\n",
      "[517]\tvalid_0's binary_logloss: 0.00161457\n",
      "[518]\tvalid_0's binary_logloss: 0.00161262\n",
      "[519]\tvalid_0's binary_logloss: 0.00160861\n",
      "[520]\tvalid_0's binary_logloss: 0.0016104\n",
      "[521]\tvalid_0's binary_logloss: 0.00161057\n",
      "[522]\tvalid_0's binary_logloss: 0.00161049\n",
      "[523]\tvalid_0's binary_logloss: 0.00160759\n",
      "[524]\tvalid_0's binary_logloss: 0.00160465\n",
      "[525]\tvalid_0's binary_logloss: 0.00160523\n",
      "[526]\tvalid_0's binary_logloss: 0.00160436\n",
      "[527]\tvalid_0's binary_logloss: 0.0016047\n",
      "[528]\tvalid_0's binary_logloss: 0.00160534\n",
      "[529]\tvalid_0's binary_logloss: 0.00160243\n",
      "[530]\tvalid_0's binary_logloss: 0.00160333\n",
      "[531]\tvalid_0's binary_logloss: 0.00160076\n",
      "[532]\tvalid_0's binary_logloss: 0.00159849\n",
      "[533]\tvalid_0's binary_logloss: 0.00159639\n",
      "[534]\tvalid_0's binary_logloss: 0.00159568\n",
      "[535]\tvalid_0's binary_logloss: 0.00159337\n",
      "[536]\tvalid_0's binary_logloss: 0.00159442\n",
      "[537]\tvalid_0's binary_logloss: 0.0015938\n",
      "[538]\tvalid_0's binary_logloss: 0.00159057\n",
      "[539]\tvalid_0's binary_logloss: 0.00158933\n",
      "[540]\tvalid_0's binary_logloss: 0.00159215\n",
      "[541]\tvalid_0's binary_logloss: 0.00158938\n",
      "[542]\tvalid_0's binary_logloss: 0.00158929\n",
      "[543]\tvalid_0's binary_logloss: 0.00158759\n",
      "[544]\tvalid_0's binary_logloss: 0.00158867\n",
      "[545]\tvalid_0's binary_logloss: 0.00158898\n",
      "[546]\tvalid_0's binary_logloss: 0.00158611\n",
      "[547]\tvalid_0's binary_logloss: 0.00158802\n",
      "[548]\tvalid_0's binary_logloss: 0.00158656\n",
      "[549]\tvalid_0's binary_logloss: 0.00158747\n",
      "[550]\tvalid_0's binary_logloss: 0.00158711\n",
      "[551]\tvalid_0's binary_logloss: 0.00158879\n",
      "[552]\tvalid_0's binary_logloss: 0.0015847\n",
      "[553]\tvalid_0's binary_logloss: 0.00158635\n",
      "[554]\tvalid_0's binary_logloss: 0.00158615\n",
      "[555]\tvalid_0's binary_logloss: 0.00158487\n",
      "[556]\tvalid_0's binary_logloss: 0.00158461\n",
      "[557]\tvalid_0's binary_logloss: 0.00158503\n",
      "[558]\tvalid_0's binary_logloss: 0.0015823\n",
      "[559]\tvalid_0's binary_logloss: 0.001582\n",
      "[560]\tvalid_0's binary_logloss: 0.00158377\n",
      "[561]\tvalid_0's binary_logloss: 0.00158451\n",
      "[562]\tvalid_0's binary_logloss: 0.00158693\n",
      "[563]\tvalid_0's binary_logloss: 0.00158456\n",
      "[564]\tvalid_0's binary_logloss: 0.00158414\n",
      "[565]\tvalid_0's binary_logloss: 0.00158825\n",
      "[566]\tvalid_0's binary_logloss: 0.00158952\n",
      "[567]\tvalid_0's binary_logloss: 0.00159077\n",
      "[568]\tvalid_0's binary_logloss: 0.00159047\n",
      "[569]\tvalid_0's binary_logloss: 0.00158891\n",
      "[570]\tvalid_0's binary_logloss: 0.00158612\n",
      "[571]\tvalid_0's binary_logloss: 0.00158553\n",
      "[572]\tvalid_0's binary_logloss: 0.00158479\n",
      "[573]\tvalid_0's binary_logloss: 0.00158558\n",
      "[574]\tvalid_0's binary_logloss: 0.00158419\n",
      "[575]\tvalid_0's binary_logloss: 0.00158375\n",
      "[576]\tvalid_0's binary_logloss: 0.00158359\n",
      "[577]\tvalid_0's binary_logloss: 0.00158256\n",
      "[578]\tvalid_0's binary_logloss: 0.00158141\n",
      "[579]\tvalid_0's binary_logloss: 0.00157871\n",
      "[580]\tvalid_0's binary_logloss: 0.00158067\n",
      "[581]\tvalid_0's binary_logloss: 0.00157623\n",
      "[582]\tvalid_0's binary_logloss: 0.00157843\n",
      "[583]\tvalid_0's binary_logloss: 0.00157557\n",
      "[584]\tvalid_0's binary_logloss: 0.00157654\n",
      "[585]\tvalid_0's binary_logloss: 0.00157527\n",
      "[586]\tvalid_0's binary_logloss: 0.00157518\n",
      "[587]\tvalid_0's binary_logloss: 0.00157584\n",
      "[588]\tvalid_0's binary_logloss: 0.00157585\n"
     ]
    },
    {
     "name": "stdout",
     "output_type": "stream",
     "text": [
      "[589]\tvalid_0's binary_logloss: 0.00157711\n",
      "[590]\tvalid_0's binary_logloss: 0.00157812\n",
      "[591]\tvalid_0's binary_logloss: 0.00157987\n",
      "[592]\tvalid_0's binary_logloss: 0.00157846\n",
      "[593]\tvalid_0's binary_logloss: 0.00157861\n",
      "[594]\tvalid_0's binary_logloss: 0.00157887\n",
      "[595]\tvalid_0's binary_logloss: 0.00157744\n",
      "[596]\tvalid_0's binary_logloss: 0.00157789\n",
      "[597]\tvalid_0's binary_logloss: 0.00157817\n",
      "[598]\tvalid_0's binary_logloss: 0.00157901\n",
      "[599]\tvalid_0's binary_logloss: 0.00157946\n",
      "[600]\tvalid_0's binary_logloss: 0.0015809\n",
      "[601]\tvalid_0's binary_logloss: 0.00158001\n",
      "[602]\tvalid_0's binary_logloss: 0.00157923\n",
      "[603]\tvalid_0's binary_logloss: 0.00158046\n",
      "[604]\tvalid_0's binary_logloss: 0.00158067\n",
      "[605]\tvalid_0's binary_logloss: 0.00158028\n",
      "[606]\tvalid_0's binary_logloss: 0.00158052\n",
      "[607]\tvalid_0's binary_logloss: 0.00158318\n",
      "[608]\tvalid_0's binary_logloss: 0.00158442\n",
      "[609]\tvalid_0's binary_logloss: 0.0015837\n",
      "[610]\tvalid_0's binary_logloss: 0.00158361\n",
      "[611]\tvalid_0's binary_logloss: 0.0015802\n",
      "[612]\tvalid_0's binary_logloss: 0.00158228\n",
      "[613]\tvalid_0's binary_logloss: 0.00158101\n",
      "[614]\tvalid_0's binary_logloss: 0.00158212\n",
      "[615]\tvalid_0's binary_logloss: 0.00158088\n",
      "[616]\tvalid_0's binary_logloss: 0.00158177\n",
      "[617]\tvalid_0's binary_logloss: 0.00158393\n",
      "[618]\tvalid_0's binary_logloss: 0.00158356\n",
      "[619]\tvalid_0's binary_logloss: 0.00158246\n",
      "[620]\tvalid_0's binary_logloss: 0.00158213\n",
      "[621]\tvalid_0's binary_logloss: 0.00158259\n",
      "[622]\tvalid_0's binary_logloss: 0.00157852\n",
      "[623]\tvalid_0's binary_logloss: 0.00158224\n",
      "[624]\tvalid_0's binary_logloss: 0.0015796\n",
      "[625]\tvalid_0's binary_logloss: 0.00158031\n",
      "[626]\tvalid_0's binary_logloss: 0.00158349\n",
      "[627]\tvalid_0's binary_logloss: 0.00158121\n",
      "[628]\tvalid_0's binary_logloss: 0.00158191\n",
      "[629]\tvalid_0's binary_logloss: 0.0015843\n",
      "[630]\tvalid_0's binary_logloss: 0.00158564\n",
      "[631]\tvalid_0's binary_logloss: 0.00158661\n",
      "[632]\tvalid_0's binary_logloss: 0.00158591\n",
      "[633]\tvalid_0's binary_logloss: 0.00158939\n",
      "[634]\tvalid_0's binary_logloss: 0.0015882\n",
      "[635]\tvalid_0's binary_logloss: 0.00158658\n",
      "[636]\tvalid_0's binary_logloss: 0.00158628\n",
      "[637]\tvalid_0's binary_logloss: 0.00158595\n",
      "[638]\tvalid_0's binary_logloss: 0.00158615\n",
      "[639]\tvalid_0's binary_logloss: 0.00158502\n",
      "[640]\tvalid_0's binary_logloss: 0.00158377\n",
      "[641]\tvalid_0's binary_logloss: 0.00158307\n",
      "[642]\tvalid_0's binary_logloss: 0.00158007\n",
      "[643]\tvalid_0's binary_logloss: 0.00158291\n",
      "[644]\tvalid_0's binary_logloss: 0.00158211\n",
      "[645]\tvalid_0's binary_logloss: 0.00158232\n",
      "[646]\tvalid_0's binary_logloss: 0.00158405\n",
      "Early stopping, best iteration is:\n",
      "[586]\tvalid_0's binary_logloss: 0.00157518\n"
     ]
    },
    {
     "data": {
      "text/plain": [
       "LGBMClassifier(boosting_type='gbdt', class_weight='balanced',\n",
       "        colsample_bytree=0.9, importance_type='split', learning_rate=0.035,\n",
       "        max_depth=7, min_child_samples=15, min_child_weight=0.03,\n",
       "        min_split_gain=0.0, n_estimators=4000, n_jobs=-1, num_leaves=10,\n",
       "        objective=None, random_state=42, reg_alpha=0.1, reg_lambda=0.0,\n",
       "        silent=True, subsample=0.9, subsample_for_bin=100000,\n",
       "        subsample_freq=1)"
      ]
     },
     "execution_count": 47,
     "metadata": {},
     "output_type": "execute_result"
    }
   ],
   "source": [
    "lgbm = lgb.LGBMClassifier(\n",
    "    n_estimators=4000, learning_rate=0.035, max_depth=7, num_leaves=10, class_weight='balanced',\n",
    "    colsample_bytree=0.9, subsample=0.9, min_child_samples=15, min_child_weight=0.03,\n",
    "    n_jobs=-1, random_state=42, reg_alpha=0.1, subsample_for_bin=100000, subsample_freq=1\n",
    ")\n",
    "\n",
    "\n",
    "lgbm.fit(X_train_lgbm, y_train, eval_set=[(X_test_lgbm, y_test)], early_stopping_rounds=60)"
   ]
  },
  {
   "cell_type": "code",
   "execution_count": null,
   "metadata": {},
   "outputs": [],
   "source": [
    "train_predictions = lgbm.predict(X_train_lgbm)\n",
    "test_predictions = lgbm.predict(X_test_lgbm)\n",
    "\n",
    "print('Train Score: {:4f}'.format(f1_score(y_train, train_predictions)))\n",
    "print('Test Score: {:4f}'.format(f1_score(y_test, test_predictions)))"
   ]
  },
  {
   "cell_type": "code",
   "execution_count": null,
   "metadata": {},
   "outputs": [],
   "source": [
    "cross_val_score(lgbm, X_train, y_train, scoring='f1', cv=tss, n_jobs=-1).mean()"
   ]
  },
  {
   "cell_type": "code",
   "execution_count": null,
   "metadata": {},
   "outputs": [],
   "source": [
    "Counter(lgbm.predict(X_test_lgbm))"
   ]
  },
  {
   "cell_type": "code",
   "execution_count": null,
   "metadata": {},
   "outputs": [],
   "source": [
    "Counter(lgbm.predict(test_data_lgbm))"
   ]
  },
  {
   "cell_type": "code",
   "execution_count": null,
   "metadata": {},
   "outputs": [],
   "source": [
    "confusion_matrix(y_test, lgbm.predict(X_test_lgbm))"
   ]
  },
  {
   "cell_type": "code",
   "execution_count": null,
   "metadata": {},
   "outputs": [],
   "source": [
    "#----------------------------------final solution for lightgbm--------------------------------\n",
    "\n",
    "final_lgbm_predictions = lgbm.predict(test_data_lgbm)\n",
    "\n",
    "\n",
    "lgb_final_submission = pd.DataFrame(\n",
    "    {'TransactionId' : testId[0], 'FraudResult' : final_lgbm_predictions}\n",
    ")\n",
    "\n",
    "lgb_final_submission.to_csv('lgb_final_submission.csv', index=False)"
   ]
  },
  {
   "cell_type": "code",
   "execution_count": null,
   "metadata": {},
   "outputs": [],
   "source": [
    "#thresholding\n",
    "\n",
    "p_sl = lgbm.predict_proba(X_test_lgbm)\n",
    "precision, recall, thresholds = precision_recall_curve(y_test, p_sl[:,1])\n",
    "thresholds = np.append(thresholds, 1)\n",
    "f1_scores = 2*(precision*recall)/(precision+recall)\n",
    "plt.step(recall, precision, color='b', alpha=0.4, where='post')\n",
    "plt.xlabel('Recall')\n",
    "plt.ylabel('Precision')\n",
    "plt.ylim([0.0, 1.05])\n",
    "plt.xlim([0.0, 1.0])\n",
    "plt.title('2-class Precision-Recall curve')\n",
    "plt.show()"
   ]
  },
  {
   "cell_type": "code",
   "execution_count": null,
   "metadata": {},
   "outputs": [],
   "source": [
    "scrs = pd.DataFrame({'precision' : precision, 'recal' : recall, 'thresholds' : thresholds, 'f1_score':f1_scores})\n",
    "print(\"Threshold cutoff: \",scrs.loc[scrs['f1_score'] == scrs.f1_score.max(),'thresholds'].iloc[0])\n",
    "print(\"Max F1-score at cut-off : \",scrs.f1_score.max())\n",
    "\n",
    "thresh = scrs.loc[scrs['f1_score'] == scrs.f1_score.max(),'thresholds'].iloc[0]\n",
    "\n",
    "scrs.plot(x='thresholds', y='f1_score')"
   ]
  },
  {
   "cell_type": "code",
   "execution_count": null,
   "metadata": {},
   "outputs": [],
   "source": [
    "frame =  scrs.loc[scrs['f1_score'] == scrs.f1_score.max()]\n",
    "frame"
   ]
  },
  {
   "cell_type": "code",
   "execution_count": null,
   "metadata": {},
   "outputs": [],
   "source": [
    "lgbm_thresh = frame['thresholds'].values[0]\n",
    "lgbm_thresh"
   ]
  },
  {
   "cell_type": "code",
   "execution_count": null,
   "metadata": {},
   "outputs": [],
   "source": [
    "lgbm_thresh_pred_Xtest = [1 if y>=lgbm_thresh else 0 for y in p_sl[:, 1]]\n",
    "\n",
    "f1_score(y_test, lgbm_thresh_pred_Xtest)"
   ]
  },
  {
   "cell_type": "code",
   "execution_count": null,
   "metadata": {},
   "outputs": [],
   "source": [
    "Counter(lgbm_thresh_pred_Xtest)"
   ]
  },
  {
   "cell_type": "code",
   "execution_count": null,
   "metadata": {},
   "outputs": [],
   "source": [
    "Counter([1 if y>=lgbm_thresh else 0 for y in lgbm.predict_proba(test_data_lgbm)[:, 1]])"
   ]
  },
  {
   "cell_type": "code",
   "execution_count": null,
   "metadata": {},
   "outputs": [],
   "source": [
    "precision_score(y_test, lgbm_thresh_pred_Xtest)"
   ]
  },
  {
   "cell_type": "code",
   "execution_count": null,
   "metadata": {},
   "outputs": [],
   "source": [
    "recall_score(y_test, lgbm_thresh_pred_Xtest)"
   ]
  },
  {
   "cell_type": "code",
   "execution_count": null,
   "metadata": {},
   "outputs": [],
   "source": [
    "#--------------------------final thresholding solution for lgbm--------------------------------\n",
    "\n",
    "final_thresh_lgbm_predictions = [1 if y>=lgbm_thresh else 0 for y in lgbm.predict_proba(test_data_lgbm)[:, 1]]\n",
    "\n",
    "\n",
    "lgb_final_thresh_submission = pd.DataFrame(\n",
    "    {'TransactionId' : testId[0], 'FraudResult' : final_thresh_lgbm_predictions}\n",
    ")\n",
    "\n",
    "lgb_final_thresh_submission.to_csv('lgb_final_thresh_submission.csv', index=False)"
   ]
  },
  {
   "cell_type": "code",
   "execution_count": null,
   "metadata": {},
   "outputs": [],
   "source": []
  },
  {
   "cell_type": "markdown",
   "metadata": {},
   "source": [
    "<h3>Drifting</h3>"
   ]
  },
  {
   "cell_type": "code",
   "execution_count": 24,
   "metadata": {},
   "outputs": [
    {
     "name": "stdout",
     "output_type": "stream",
     "text": [
      "No. Customers per Acc 0.9125814644444445\n",
      "Amount_to_mean_ProviderId 0.9764874222222222\n",
      "Amount_to_std_ProviderId 0.9732726177777777\n",
      "Amount_to_mean_PricingStrategy 0.9768314466666667\n",
      "Amount_to_std_PricingStrategy 0.9813260222222222\n",
      "Amount_to_mean_ProductCategory 0.9739401977777777\n",
      "Amount_to_std_ProductCategory 0.9788575488888889\n",
      "Amount_to_mean_ChannelId 0.9870355666666666\n",
      "Amount_to_std_ChannelId 0.9857593044444444\n",
      "Amount_to_mean_ProductId 0.9691459777777779\n",
      "Amount_to_std_ProductId 0.9608337888888888\n"
     ]
    }
   ],
   "source": [
    "training = train_data.copy()\n",
    "testing = test_data.copy()\n",
    "\n",
    "training['origin'] = 1\n",
    "testing['origin'] = 0\n",
    "\n",
    "training.drop('FraudResult', axis=1, inplace=True)\n",
    "\n",
    "training = training.sample(30000, random_state=42)\n",
    "testing = testing.sample(15000, random_state=112)\n",
    "\n",
    "combined = pd.concat([training, testing], axis=0)\n",
    "y = combined['origin']\n",
    "X = combined.drop('origin', axis=1)\n",
    "\n",
    "lgb_drift_list = []\n",
    "\n",
    "model = lgb.LGBMClassifier(\n",
    "    max_depth=4, class_weight='balanced', subsample=0.78, colsample_bytree=0.78,\n",
    "    n_jobs=-1, random_state=42\n",
    ")\n",
    "\n",
    "for i in X.columns:\n",
    "    score = cross_val_score(model, pd.DataFrame(X[i]), y, cv=2, scoring='roc_auc').mean()\n",
    "    \n",
    "    if score>0.8:\n",
    "        lgb_drift_list.append(i)\n",
    "        print(i, score)"
   ]
  },
  {
   "cell_type": "code",
   "execution_count": 26,
   "metadata": {},
   "outputs": [
    {
     "data": {
      "text/html": [
       "<div>\n",
       "<style scoped>\n",
       "    .dataframe tbody tr th:only-of-type {\n",
       "        vertical-align: middle;\n",
       "    }\n",
       "\n",
       "    .dataframe tbody tr th {\n",
       "        vertical-align: top;\n",
       "    }\n",
       "\n",
       "    .dataframe thead th {\n",
       "        text-align: right;\n",
       "    }\n",
       "</style>\n",
       "<table border=\"1\" class=\"dataframe\">\n",
       "  <thead>\n",
       "    <tr style=\"text-align: right;\">\n",
       "      <th></th>\n",
       "      <th>Features</th>\n",
       "      <th>Importances</th>\n",
       "    </tr>\n",
       "  </thead>\n",
       "  <tbody>\n",
       "    <tr>\n",
       "      <th>117</th>\n",
       "      <td>Amount_to_mean_ChannelId</td>\n",
       "      <td>58</td>\n",
       "    </tr>\n",
       "    <tr>\n",
       "      <th>4</th>\n",
       "      <td>Days_to_Nearest_Holiday</td>\n",
       "      <td>48</td>\n",
       "    </tr>\n",
       "    <tr>\n",
       "      <th>118</th>\n",
       "      <td>Amount_to_std_ChannelId</td>\n",
       "      <td>41</td>\n",
       "    </tr>\n",
       "    <tr>\n",
       "      <th>110</th>\n",
       "      <td>Amount_to_std_CustomerId</td>\n",
       "      <td>35</td>\n",
       "    </tr>\n",
       "    <tr>\n",
       "      <th>6</th>\n",
       "      <td>Time_since_last_trans</td>\n",
       "      <td>34</td>\n",
       "    </tr>\n",
       "    <tr>\n",
       "      <th>0</th>\n",
       "      <td>Amount</td>\n",
       "      <td>32</td>\n",
       "    </tr>\n",
       "    <tr>\n",
       "      <th>111</th>\n",
       "      <td>Amount_to_mean_ProviderId</td>\n",
       "      <td>30</td>\n",
       "    </tr>\n",
       "    <tr>\n",
       "      <th>81</th>\n",
       "      <td>max_amt_per_PricingStrategy_in_last_72hhrs</td>\n",
       "      <td>29</td>\n",
       "    </tr>\n",
       "    <tr>\n",
       "      <th>109</th>\n",
       "      <td>Amount_to_mean_CustomerId</td>\n",
       "      <td>28</td>\n",
       "    </tr>\n",
       "    <tr>\n",
       "      <th>2</th>\n",
       "      <td>No. Customers per Acc</td>\n",
       "      <td>26</td>\n",
       "    </tr>\n",
       "    <tr>\n",
       "      <th>108</th>\n",
       "      <td>Cyclic_Time_y</td>\n",
       "      <td>25</td>\n",
       "    </tr>\n",
       "    <tr>\n",
       "      <th>114</th>\n",
       "      <td>Amount_to_std_PricingStrategy</td>\n",
       "      <td>25</td>\n",
       "    </tr>\n",
       "    <tr>\n",
       "      <th>8</th>\n",
       "      <td>sum_of_amt_per_ProviderId_in_last_12hhrs</td>\n",
       "      <td>23</td>\n",
       "    </tr>\n",
       "    <tr>\n",
       "      <th>167</th>\n",
       "      <td>Month_January</td>\n",
       "      <td>19</td>\n",
       "    </tr>\n",
       "    <tr>\n",
       "      <th>56</th>\n",
       "      <td>sum_of_amt_per_ProductId_in_last_12hhrs</td>\n",
       "      <td>18</td>\n",
       "    </tr>\n",
       "    <tr>\n",
       "      <th>21</th>\n",
       "      <td>max_amt_per_ProviderId_in_last_168hhrs</td>\n",
       "      <td>17</td>\n",
       "    </tr>\n",
       "    <tr>\n",
       "      <th>106</th>\n",
       "      <td>Time_in_Secs</td>\n",
       "      <td>13</td>\n",
       "    </tr>\n",
       "    <tr>\n",
       "      <th>183</th>\n",
       "      <td>Week_first_week</td>\n",
       "      <td>13</td>\n",
       "    </tr>\n",
       "    <tr>\n",
       "      <th>25</th>\n",
       "      <td>max_amt_per_ProductCategory_in_last_12hhrs</td>\n",
       "      <td>12</td>\n",
       "    </tr>\n",
       "    <tr>\n",
       "      <th>119</th>\n",
       "      <td>Amount_to_mean_ProductId</td>\n",
       "      <td>11</td>\n",
       "    </tr>\n",
       "    <tr>\n",
       "      <th>112</th>\n",
       "      <td>Amount_to_std_ProviderId</td>\n",
       "      <td>11</td>\n",
       "    </tr>\n",
       "    <tr>\n",
       "      <th>80</th>\n",
       "      <td>sum_of_amt_per_PricingStrategy_in_last_72hhrs</td>\n",
       "      <td>11</td>\n",
       "    </tr>\n",
       "  </tbody>\n",
       "</table>\n",
       "</div>"
      ],
      "text/plain": [
       "                                          Features  Importances\n",
       "117                       Amount_to_mean_ChannelId           58\n",
       "4                          Days_to_Nearest_Holiday           48\n",
       "118                        Amount_to_std_ChannelId           41\n",
       "110                       Amount_to_std_CustomerId           35\n",
       "6                            Time_since_last_trans           34\n",
       "0                                           Amount           32\n",
       "111                      Amount_to_mean_ProviderId           30\n",
       "81      max_amt_per_PricingStrategy_in_last_72hhrs           29\n",
       "109                      Amount_to_mean_CustomerId           28\n",
       "2                            No. Customers per Acc           26\n",
       "108                                  Cyclic_Time_y           25\n",
       "114                  Amount_to_std_PricingStrategy           25\n",
       "8         sum_of_amt_per_ProviderId_in_last_12hhrs           23\n",
       "167                                  Month_January           19\n",
       "56         sum_of_amt_per_ProductId_in_last_12hhrs           18\n",
       "21          max_amt_per_ProviderId_in_last_168hhrs           17\n",
       "106                                   Time_in_Secs           13\n",
       "183                                Week_first_week           13\n",
       "25      max_amt_per_ProductCategory_in_last_12hhrs           12\n",
       "119                       Amount_to_mean_ProductId           11\n",
       "112                       Amount_to_std_ProviderId           11\n",
       "80   sum_of_amt_per_PricingStrategy_in_last_72hhrs           11"
      ]
     },
     "execution_count": 26,
     "metadata": {},
     "output_type": "execute_result"
    }
   ],
   "source": [
    "lgbm_selected_features"
   ]
  },
  {
   "cell_type": "code",
   "execution_count": null,
   "metadata": {},
   "outputs": [],
   "source": []
  },
  {
   "cell_type": "code",
   "execution_count": null,
   "metadata": {},
   "outputs": [],
   "source": []
  },
  {
   "cell_type": "code",
   "execution_count": null,
   "metadata": {},
   "outputs": [],
   "source": []
  },
  {
   "cell_type": "code",
   "execution_count": null,
   "metadata": {},
   "outputs": [],
   "source": []
  },
  {
   "cell_type": "code",
   "execution_count": null,
   "metadata": {},
   "outputs": [],
   "source": []
  },
  {
   "cell_type": "code",
   "execution_count": null,
   "metadata": {},
   "outputs": [],
   "source": []
  },
  {
   "cell_type": "code",
   "execution_count": null,
   "metadata": {},
   "outputs": [],
   "source": []
  },
  {
   "cell_type": "markdown",
   "metadata": {},
   "source": [
    "<h2>Random Forest</h2>"
   ]
  },
  {
   "cell_type": "code",
   "execution_count": null,
   "metadata": {},
   "outputs": [],
   "source": [
    "rfc = RandomForestClassifier(\n",
    "    n_estimators=10, max_depth=5, class_weight={0:1, 1:100}, \n",
    "    max_features=0.7, random_state=42, n_jobs=-1\n",
    ")\n",
    "rfc.fit(X_train, y_train)\n",
    "\n",
    "pred1 = rfc.predict(X_train)\n",
    "pred2 = rfc.predict(X_test)\n",
    "print(f1_score(y_test, pred2))\n",
    "print(f1_score(y_train, pred1))"
   ]
  },
  {
   "cell_type": "code",
   "execution_count": null,
   "metadata": {},
   "outputs": [],
   "source": [
    "params = {\n",
    "    'class_weight' : [{0:1, 1:w} for w in [14.1, 14.2, 14.3, 14.4, 14.5]]\n",
    "}\n",
    "\n",
    "\n",
    "grid = GridSearchCV(RandomForestClassifier(\n",
    "    n_estimators=10, max_depth=4, class_weight={0:1, 1:100}, \n",
    "    max_features=0.7, random_state=42, n_jobs=-1\n",
    "), params, scoring='f1', n_jobs=-1, cv=TimeSeriesSplit(n_splits=5))\n",
    "\n",
    "grid.fit(X_train, y_train)\n"
   ]
  },
  {
   "cell_type": "code",
   "execution_count": null,
   "metadata": {},
   "outputs": [],
   "source": [
    "grid.best_params_, grid.best_score_"
   ]
  },
  {
   "cell_type": "code",
   "execution_count": null,
   "metadata": {},
   "outputs": [],
   "source": [
    "params = {\n",
    "    'min_samples_split' : np.linspace(0.00001, 0.0005, 20, endpoint=True)\n",
    "}\n",
    "\n",
    "\n",
    "grid = GridSearchCV(RandomForestClassifier(\n",
    "    n_estimators=10, max_depth=5, class_weight={0:1, 1:14.4}, \n",
    "    max_features=0.7, random_state=42, n_jobs=-1\n",
    "), params, scoring='f1', n_jobs=-1, cv=TimeSeriesSplit(n_splits=5))\n",
    "\n",
    "grid.fit(X_train, y_train)\n"
   ]
  },
  {
   "cell_type": "code",
   "execution_count": null,
   "metadata": {},
   "outputs": [],
   "source": [
    "grid.best_params_, grid.best_score_"
   ]
  },
  {
   "cell_type": "code",
   "execution_count": 48,
   "metadata": {},
   "outputs": [
    {
     "data": {
      "text/plain": [
       "GridSearchCV(cv=TimeSeriesSplit(max_train_size=None, n_splits=5),\n",
       "       error_score='raise-deprecating',\n",
       "       estimator=RandomForestClassifier(bootstrap=True, class_weight={0: 1, 1: 14.4},\n",
       "            criterion='gini', max_depth=5, max_features=0.3368421052631579,\n",
       "            max_leaf_nodes=None, min_impurity_decrease=0.0,\n",
       "            min_impurity_split=None, min_samples_leaf=1,\n",
       "            min_samples_split=0.00024210526315789473,\n",
       "            min_weight_fraction_leaf=0.0, n_estimators=10, n_jobs=-1,\n",
       "            oob_score=False, random_state=42, verbose=0, warm_start=False),\n",
       "       fit_params=None, iid='warn', n_jobs=-1,\n",
       "       param_grid={'min_samples_leaf': [1e-08, 3e-05]},\n",
       "       pre_dispatch='2*n_jobs', refit=True, return_train_score='warn',\n",
       "       scoring='f1', verbose=0)"
      ]
     },
     "execution_count": 48,
     "metadata": {},
     "output_type": "execute_result"
    }
   ],
   "source": [
    "params = {\n",
    "    'min_samples_leaf' : [0.00000001, 0.00003]\n",
    "}\n",
    "\n",
    "\n",
    "grid = GridSearchCV(RandomForestClassifier(\n",
    "    n_estimators=10, max_depth=5, class_weight={0:1, 1:14.4}, \n",
    "    max_features=0.3368421052631579, random_state=42, n_jobs=-1, \n",
    "    min_samples_split=0.00024210526315789473,\n",
    "), params, scoring='f1', n_jobs=-1, cv=TimeSeriesSplit(n_splits=5))\n",
    "\n",
    "grid.fit(X_train, y_train)\n"
   ]
  },
  {
   "cell_type": "code",
   "execution_count": 49,
   "metadata": {},
   "outputs": [
    {
     "data": {
      "text/plain": [
       "({'min_samples_leaf': 1e-08}, 0.8385322165756948)"
      ]
     },
     "execution_count": 49,
     "metadata": {},
     "output_type": "execute_result"
    }
   ],
   "source": [
    "grid.best_params_, grid.best_score_"
   ]
  },
  {
   "cell_type": "code",
   "execution_count": 50,
   "metadata": {},
   "outputs": [
    {
     "data": {
      "text/plain": [
       "RandomForestClassifier(bootstrap=True, class_weight={0: 1, 1: 14.4},\n",
       "            criterion='gini', max_depth=5, max_features=0.3368421052631579,\n",
       "            max_leaf_nodes=None, min_impurity_decrease=0.0,\n",
       "            min_impurity_split=None, min_samples_leaf=1e-08,\n",
       "            min_samples_split=0.00024210526315789473,\n",
       "            min_weight_fraction_leaf=0.0, n_estimators=10, n_jobs=-1,\n",
       "            oob_score=False, random_state=42, verbose=0, warm_start=False)"
      ]
     },
     "execution_count": 50,
     "metadata": {},
     "output_type": "execute_result"
    }
   ],
   "source": [
    "grid.best_estimator_"
   ]
  },
  {
   "cell_type": "code",
   "execution_count": 51,
   "metadata": {},
   "outputs": [
    {
     "data": {
      "text/html": [
       "<div>\n",
       "<style scoped>\n",
       "    .dataframe tbody tr th:only-of-type {\n",
       "        vertical-align: middle;\n",
       "    }\n",
       "\n",
       "    .dataframe tbody tr th {\n",
       "        vertical-align: top;\n",
       "    }\n",
       "\n",
       "    .dataframe thead th {\n",
       "        text-align: right;\n",
       "    }\n",
       "</style>\n",
       "<table border=\"1\" class=\"dataframe\">\n",
       "  <thead>\n",
       "    <tr style=\"text-align: right;\">\n",
       "      <th></th>\n",
       "      <th>Features</th>\n",
       "      <th>Importances</th>\n",
       "    </tr>\n",
       "  </thead>\n",
       "  <tbody>\n",
       "    <tr>\n",
       "      <th>0</th>\n",
       "      <td>Amount</td>\n",
       "      <td>0.361416</td>\n",
       "    </tr>\n",
       "    <tr>\n",
       "      <th>117</th>\n",
       "      <td>Amount_to_mean_ChannelId</td>\n",
       "      <td>0.268412</td>\n",
       "    </tr>\n",
       "    <tr>\n",
       "      <th>118</th>\n",
       "      <td>Amount_to_std_ChannelId</td>\n",
       "      <td>0.088207</td>\n",
       "    </tr>\n",
       "    <tr>\n",
       "      <th>9</th>\n",
       "      <td>max_amt_per_ProviderId_in_last_12hhrs</td>\n",
       "      <td>0.088015</td>\n",
       "    </tr>\n",
       "    <tr>\n",
       "      <th>57</th>\n",
       "      <td>max_amt_per_ProductId_in_last_12hhrs</td>\n",
       "      <td>0.087849</td>\n",
       "    </tr>\n",
       "  </tbody>\n",
       "</table>\n",
       "</div>"
      ],
      "text/plain": [
       "                                  Features  Importances\n",
       "0                                   Amount     0.361416\n",
       "117               Amount_to_mean_ChannelId     0.268412\n",
       "118                Amount_to_std_ChannelId     0.088207\n",
       "9    max_amt_per_ProviderId_in_last_12hhrs     0.088015\n",
       "57    max_amt_per_ProductId_in_last_12hhrs     0.087849"
      ]
     },
     "execution_count": 51,
     "metadata": {},
     "output_type": "execute_result"
    }
   ],
   "source": [
    "rfc_ft_importances = grid.best_estimator_.feature_importances_\n",
    "fts = X_train.columns\n",
    "\n",
    "rfc_importances = pd.DataFrame({'Features' : fts, 'Importances' : rfc_ft_importances}).sort_values(by='Importances', ascending=False)\n",
    "rfc_importances.head()"
   ]
  },
  {
   "cell_type": "code",
   "execution_count": 52,
   "metadata": {},
   "outputs": [
    {
     "data": {
      "text/plain": [
       "(135, 2)"
      ]
     },
     "execution_count": 52,
     "metadata": {},
     "output_type": "execute_result"
    }
   ],
   "source": [
    "rfc_importances[rfc_importances['Importances']==0].shape"
   ]
  },
  {
   "cell_type": "code",
   "execution_count": 53,
   "metadata": {},
   "outputs": [],
   "source": [
    "rfc_stored_importances = rfc_importances['Importances'].tolist()"
   ]
  },
  {
   "cell_type": "code",
   "execution_count": 54,
   "metadata": {},
   "outputs": [
    {
     "data": {
      "text/plain": [
       "(56, 2)"
      ]
     },
     "execution_count": 54,
     "metadata": {},
     "output_type": "execute_result"
    }
   ],
   "source": [
    "rfc_importances = rfc_importances[rfc_importances['Importances']>0]\n",
    "rfc_importances.shape"
   ]
  },
  {
   "cell_type": "code",
   "execution_count": 55,
   "metadata": {},
   "outputs": [],
   "source": [
    "grid = grid.best_estimator_"
   ]
  },
  {
   "cell_type": "code",
   "execution_count": null,
   "metadata": {},
   "outputs": [],
   "source": [
    "thresholds = np.sort(np.array(rfc_importances['Importances']))\n",
    "for thresh in thresholds:\n",
    "    \n",
    "    f1 = []\n",
    "    \n",
    "    for train, test in TimeSeriesSplit(n_splits=10).split(X_train, y_train):\n",
    "        # select features using threshold\n",
    "        selection = SelectFromModel(grid, threshold=thresh, prefit=True)\n",
    "        select_X_train = selection.transform(X_train.iloc[train])\n",
    "        # train model\n",
    "        selection_model = RandomForestClassifier(**grid.get_params())\n",
    "        selection_model.fit(select_X_train, y_train.iloc[train])\n",
    "        # eval model\n",
    "        select_X_test = selection.transform(X_train.iloc[test])\n",
    "        y_pred = selection_model.predict(select_X_test)\n",
    "        predictions = [round(value) for value in y_pred]\n",
    "        f1.append(f1_score(y_train.iloc[test], predictions))\n",
    "        \n",
    "    print(\"Thresh=%.8f, n=%d, F1: %.8f\" % (thresh, select_X_train.shape[1], np.mean(f1)))"
   ]
  },
  {
   "cell_type": "code",
   "execution_count": 56,
   "metadata": {},
   "outputs": [],
   "source": [
    "rfc_selected_features = rfc_importances[rfc_importances['Importances']>=0.00190112]"
   ]
  },
  {
   "cell_type": "code",
   "execution_count": 57,
   "metadata": {},
   "outputs": [
    {
     "data": {
      "text/html": [
       "<div>\n",
       "<style scoped>\n",
       "    .dataframe tbody tr th:only-of-type {\n",
       "        vertical-align: middle;\n",
       "    }\n",
       "\n",
       "    .dataframe tbody tr th {\n",
       "        vertical-align: top;\n",
       "    }\n",
       "\n",
       "    .dataframe thead th {\n",
       "        text-align: right;\n",
       "    }\n",
       "</style>\n",
       "<table border=\"1\" class=\"dataframe\">\n",
       "  <thead>\n",
       "    <tr style=\"text-align: right;\">\n",
       "      <th></th>\n",
       "      <th>Features</th>\n",
       "      <th>Importances</th>\n",
       "    </tr>\n",
       "  </thead>\n",
       "  <tbody>\n",
       "    <tr>\n",
       "      <th>0</th>\n",
       "      <td>Amount</td>\n",
       "      <td>0.361416</td>\n",
       "    </tr>\n",
       "    <tr>\n",
       "      <th>117</th>\n",
       "      <td>Amount_to_mean_ChannelId</td>\n",
       "      <td>0.268412</td>\n",
       "    </tr>\n",
       "    <tr>\n",
       "      <th>118</th>\n",
       "      <td>Amount_to_std_ChannelId</td>\n",
       "      <td>0.088207</td>\n",
       "    </tr>\n",
       "    <tr>\n",
       "      <th>9</th>\n",
       "      <td>max_amt_per_ProviderId_in_last_12hhrs</td>\n",
       "      <td>0.088015</td>\n",
       "    </tr>\n",
       "    <tr>\n",
       "      <th>57</th>\n",
       "      <td>max_amt_per_ProductId_in_last_12hhrs</td>\n",
       "      <td>0.087849</td>\n",
       "    </tr>\n",
       "  </tbody>\n",
       "</table>\n",
       "</div>"
      ],
      "text/plain": [
       "                                  Features  Importances\n",
       "0                                   Amount     0.361416\n",
       "117               Amount_to_mean_ChannelId     0.268412\n",
       "118                Amount_to_std_ChannelId     0.088207\n",
       "9    max_amt_per_ProviderId_in_last_12hhrs     0.088015\n",
       "57    max_amt_per_ProductId_in_last_12hhrs     0.087849"
      ]
     },
     "execution_count": 57,
     "metadata": {},
     "output_type": "execute_result"
    }
   ],
   "source": [
    "rfc_selected_features.head()"
   ]
  },
  {
   "cell_type": "code",
   "execution_count": 58,
   "metadata": {},
   "outputs": [],
   "source": [
    "X_train_rfc = X_train.loc[:, rfc_selected_features['Features']]\n",
    "X_test_rfc = X_test.loc[:, rfc_selected_features['Features']]\n",
    "\n",
    "test_data_rfc = test_data.loc[:, rfc_selected_features['Features']]"
   ]
  },
  {
   "cell_type": "code",
   "execution_count": 60,
   "metadata": {},
   "outputs": [],
   "source": [
    "#grid.get_params()"
   ]
  },
  {
   "cell_type": "code",
   "execution_count": 59,
   "metadata": {},
   "outputs": [],
   "source": [
    "rfc = RandomForestClassifier(\n",
    "    n_estimators=5000, class_weight={0:1, 1:14.4}, max_depth=5, max_features=0.3368421052631579,\n",
    "    min_samples_leaf=1e-08, min_samples_split=0.00024210526315789473, n_jobs=-1,\n",
    "    random_state=42, verbose=0\n",
    ")"
   ]
  },
  {
   "cell_type": "code",
   "execution_count": 60,
   "metadata": {},
   "outputs": [
    {
     "data": {
      "text/plain": [
       "RandomForestClassifier(bootstrap=True, class_weight={0: 1, 1: 14.4},\n",
       "            criterion='gini', max_depth=5, max_features=0.3368421052631579,\n",
       "            max_leaf_nodes=None, min_impurity_decrease=0.0,\n",
       "            min_impurity_split=None, min_samples_leaf=1e-08,\n",
       "            min_samples_split=0.00024210526315789473,\n",
       "            min_weight_fraction_leaf=0.0, n_estimators=5000, n_jobs=-1,\n",
       "            oob_score=False, random_state=42, verbose=0, warm_start=False)"
      ]
     },
     "execution_count": 60,
     "metadata": {},
     "output_type": "execute_result"
    }
   ],
   "source": [
    "rfc.fit(X_train_rfc, y_train)"
   ]
  },
  {
   "cell_type": "code",
   "execution_count": 80,
   "metadata": {},
   "outputs": [
    {
     "name": "stdout",
     "output_type": "stream",
     "text": [
      "Train Score: 0.909639\n",
      "Test Score: 0.833333\n"
     ]
    }
   ],
   "source": [
    "train_predictions = rfc.predict(X_train_rfc)\n",
    "test_predictions = rfc.predict(X_test_rfc)\n",
    "\n",
    "print('Train Score: {:4f}'.format(f1_score(y_train, train_predictions)))\n",
    "print('Test Score: {:4f}'.format(f1_score(y_test, test_predictions)))"
   ]
  },
  {
   "cell_type": "code",
   "execution_count": null,
   "metadata": {},
   "outputs": [],
   "source": [
    "cross_val_score(rfc, X_train_rfc, y_train, scoring='f1', cv=tss, n_jobs=-1).mean()"
   ]
  },
  {
   "cell_type": "code",
   "execution_count": 81,
   "metadata": {},
   "outputs": [
    {
     "data": {
      "text/plain": [
       "Counter({0: 19088, 1: 45})"
      ]
     },
     "execution_count": 81,
     "metadata": {},
     "output_type": "execute_result"
    }
   ],
   "source": [
    "Counter(rfc.predict(X_test_rfc))"
   ]
  },
  {
   "cell_type": "code",
   "execution_count": 82,
   "metadata": {},
   "outputs": [
    {
     "data": {
      "text/plain": [
       "Counter({0: 44924, 1: 95})"
      ]
     },
     "execution_count": 82,
     "metadata": {},
     "output_type": "execute_result"
    }
   ],
   "source": [
    "Counter(rfc.predict(test_data_rfc))"
   ]
  },
  {
   "cell_type": "code",
   "execution_count": 83,
   "metadata": {},
   "outputs": [
    {
     "data": {
      "text/plain": [
       "array([[19084,    10],\n",
       "       [    4,    35]], dtype=int64)"
      ]
     },
     "execution_count": 83,
     "metadata": {},
     "output_type": "execute_result"
    }
   ],
   "source": [
    "confusion_matrix(y_test, rfc.predict(X_test_rfc))"
   ]
  },
  {
   "cell_type": "code",
   "execution_count": null,
   "metadata": {},
   "outputs": [],
   "source": []
  },
  {
   "cell_type": "code",
   "execution_count": null,
   "metadata": {},
   "outputs": [],
   "source": [
    "#----------------------------------final solution for rfc--------------------------------\n",
    "\n",
    "final_rfc_predictions = rfc.predict(test_data_rfc)\n",
    "\n",
    "\n",
    "rfc_final_submission = pd.DataFrame(\n",
    "    {'TransactionId' : testId[0], 'FraudResult' : final_rfc_predictions}\n",
    ")\n",
    "\n",
    "rfc_final_submission.to_csv('rfc_final_submission.csv', index=False)"
   ]
  },
  {
   "cell_type": "code",
   "execution_count": 84,
   "metadata": {},
   "outputs": [
    {
     "data": {
      "image/png": "[encoded data removed]",
      "text/plain": [
       "<Figure size 432x288 with 1 Axes>"
      ]
     },
     "metadata": {
      "needs_background": "light"
     },
     "output_type": "display_data"
    }
   ],
   "source": [
    "#thresholding\n",
    "\n",
    "p_sl = rfc.predict_proba(X_test_rfc)\n",
    "precision, recall, thresholds = precision_recall_curve(y_test, p_sl[:,1])\n",
    "thresholds = np.append(thresholds, 1)\n",
    "f1_scores = 2*(precision*recall)/(precision+recall)\n",
    "plt.step(recall, precision, color='b', alpha=0.4, where='post')\n",
    "plt.xlabel('Recall')\n",
    "plt.ylabel('Precision')\n",
    "plt.ylim([0.0, 1.05])\n",
    "plt.xlim([0.0, 1.0])\n",
    "plt.title('2-class Precision-Recall curve')\n",
    "plt.show()"
   ]
  },
  {
   "cell_type": "code",
   "execution_count": 85,
   "metadata": {},
   "outputs": [
    {
     "name": "stdout",
     "output_type": "stream",
     "text": [
      "Threshold cutoff:  0.7490571570402496\n",
      "Max F1-score at cut-off :  0.8536585365853658\n"
     ]
    },
    {
     "data": {
      "text/plain": [
       "<matplotlib.axes._subplots.AxesSubplot at 0xf4cb62ada0>"
      ]
     },
     "execution_count": 85,
     "metadata": {},
     "output_type": "execute_result"
    },
    {
     "data": {
      "image/png": "[encoded data removed]",
      "text/plain": [
       "<Figure size 432x288 with 1 Axes>"
      ]
     },
     "metadata": {
      "needs_background": "light"
     },
     "output_type": "display_data"
    }
   ],
   "source": [
    "scrs = pd.DataFrame({'precision' : precision, 'recal' : recall, 'thresholds' : thresholds, 'f1_score':f1_scores})\n",
    "print(\"Threshold cutoff: \",scrs.loc[scrs['f1_score'] == scrs.f1_score.max(),'thresholds'].iloc[0])\n",
    "print(\"Max F1-score at cut-off : \",scrs.f1_score.max())\n",
    "\n",
    "thresh = scrs.loc[scrs['f1_score'] == scrs.f1_score.max(),'thresholds'].iloc[0]\n",
    "\n",
    "scrs.plot(x='thresholds', y='f1_score')"
   ]
  },
  {
   "cell_type": "code",
   "execution_count": 86,
   "metadata": {},
   "outputs": [
    {
     "data": {
      "text/html": [
       "<div>\n",
       "<style scoped>\n",
       "    .dataframe tbody tr th:only-of-type {\n",
       "        vertical-align: middle;\n",
       "    }\n",
       "\n",
       "    .dataframe tbody tr th {\n",
       "        vertical-align: top;\n",
       "    }\n",
       "\n",
       "    .dataframe thead th {\n",
       "        text-align: right;\n",
       "    }\n",
       "</style>\n",
       "<table border=\"1\" class=\"dataframe\">\n",
       "  <thead>\n",
       "    <tr style=\"text-align: right;\">\n",
       "      <th></th>\n",
       "      <th>precision</th>\n",
       "      <th>recal</th>\n",
       "      <th>thresholds</th>\n",
       "      <th>f1_score</th>\n",
       "    </tr>\n",
       "  </thead>\n",
       "  <tbody>\n",
       "    <tr>\n",
       "      <th>20</th>\n",
       "      <td>0.813953</td>\n",
       "      <td>0.897436</td>\n",
       "      <td>0.749057</td>\n",
       "      <td>0.853659</td>\n",
       "    </tr>\n",
       "  </tbody>\n",
       "</table>\n",
       "</div>"
      ],
      "text/plain": [
       "    precision     recal  thresholds  f1_score\n",
       "20   0.813953  0.897436    0.749057  0.853659"
      ]
     },
     "execution_count": 86,
     "metadata": {},
     "output_type": "execute_result"
    }
   ],
   "source": [
    "frame =  scrs.loc[scrs['f1_score'] == scrs.f1_score.max()]\n",
    "frame"
   ]
  },
  {
   "cell_type": "code",
   "execution_count": 87,
   "metadata": {},
   "outputs": [
    {
     "data": {
      "text/plain": [
       "0.7490571570402496"
      ]
     },
     "execution_count": 87,
     "metadata": {},
     "output_type": "execute_result"
    }
   ],
   "source": [
    "rfc_thresh = frame['thresholds'].values[0]\n",
    "rfc_thresh"
   ]
  },
  {
   "cell_type": "code",
   "execution_count": 88,
   "metadata": {},
   "outputs": [
    {
     "data": {
      "text/plain": [
       "0.8536585365853658"
      ]
     },
     "execution_count": 88,
     "metadata": {},
     "output_type": "execute_result"
    }
   ],
   "source": [
    "rfc_thresh_pred_Xtest = [1 if y>=rfc_thresh else 0 for y in p_sl[:, 1]]\n",
    "\n",
    "f1_score(y_test, rfc_thresh_pred_Xtest)"
   ]
  },
  {
   "cell_type": "code",
   "execution_count": 89,
   "metadata": {},
   "outputs": [
    {
     "data": {
      "text/plain": [
       "Counter({0: 19090, 1: 43})"
      ]
     },
     "execution_count": 89,
     "metadata": {},
     "output_type": "execute_result"
    }
   ],
   "source": [
    "Counter(rfc_thresh_pred_Xtest)"
   ]
  },
  {
   "cell_type": "code",
   "execution_count": 90,
   "metadata": {},
   "outputs": [
    {
     "data": {
      "text/plain": [
       "Counter({0: 44955, 1: 64})"
      ]
     },
     "execution_count": 90,
     "metadata": {},
     "output_type": "execute_result"
    }
   ],
   "source": [
    "Counter([1 if y>=rfc_thresh else 0 for y in rfc.predict_proba(test_data_rfc)[:, 1]])"
   ]
  },
  {
   "cell_type": "code",
   "execution_count": 91,
   "metadata": {},
   "outputs": [],
   "source": [
    "#--------------------------final thresholding solution for RFC--------------------------------\n",
    "\n",
    "final_thresh_rfc_predictions = [1 if y>=rfc_thresh else 0 for y in rfc.predict_proba(test_data_rfc)[:, 1]]\n",
    "\n",
    "\n",
    "rfc_final_thresh_submission = pd.DataFrame(\n",
    "    {'TransactionId' : testId[0], 'FraudResult' : final_thresh_rfc_predictions}\n",
    ")\n",
    "\n",
    "rfc_final_thresh_submission.to_csv('rfc_final_thresh_submission.csv', index=False)"
   ]
  },
  {
   "cell_type": "code",
   "execution_count": null,
   "metadata": {},
   "outputs": [],
   "source": []
  },
  {
   "cell_type": "markdown",
   "metadata": {},
   "source": [
    "<h3>Drifting</h3>"
   ]
  },
  {
   "cell_type": "code",
   "execution_count": 28,
   "metadata": {},
   "outputs": [
    {
     "name": "stderr",
     "output_type": "stream",
     "text": [
      "C:\\Users\\USER\\AppData\\Local\\Continuum\\anaconda3\\lib\\site-packages\\sklearn\\ensemble\\forest.py:246: FutureWarning: The default value of n_estimators will change from 10 in version 0.20 to 100 in 0.22.\n",
      "  \"10 in version 0.20 to 100 in 0.22.\", FutureWarning)\n",
      "C:\\Users\\USER\\AppData\\Local\\Continuum\\anaconda3\\lib\\site-packages\\sklearn\\ensemble\\forest.py:246: FutureWarning: The default value of n_estimators will change from 10 in version 0.20 to 100 in 0.22.\n",
      "  \"10 in version 0.20 to 100 in 0.22.\", FutureWarning)\n",
      "C:\\Users\\USER\\AppData\\Local\\Continuum\\anaconda3\\lib\\site-packages\\sklearn\\ensemble\\forest.py:246: FutureWarning: The default value of n_estimators will change from 10 in version 0.20 to 100 in 0.22.\n",
      "  \"10 in version 0.20 to 100 in 0.22.\", FutureWarning)\n",
      "C:\\Users\\USER\\AppData\\Local\\Continuum\\anaconda3\\lib\\site-packages\\sklearn\\ensemble\\forest.py:246: FutureWarning: The default value of n_estimators will change from 10 in version 0.20 to 100 in 0.22.\n",
      "  \"10 in version 0.20 to 100 in 0.22.\", FutureWarning)\n",
      "C:\\Users\\USER\\AppData\\Local\\Continuum\\anaconda3\\lib\\site-packages\\sklearn\\ensemble\\forest.py:246: FutureWarning: The default value of n_estimators will change from 10 in version 0.20 to 100 in 0.22.\n",
      "  \"10 in version 0.20 to 100 in 0.22.\", FutureWarning)\n",
      "C:\\Users\\USER\\AppData\\Local\\Continuum\\anaconda3\\lib\\site-packages\\sklearn\\ensemble\\forest.py:246: FutureWarning: The default value of n_estimators will change from 10 in version 0.20 to 100 in 0.22.\n",
      "  \"10 in version 0.20 to 100 in 0.22.\", FutureWarning)\n"
     ]
    },
    {
     "name": "stdout",
     "output_type": "stream",
     "text": [
      "No. Customers per Acc 0.8461761777777778\n"
     ]
    },
    {
     "name": "stderr",
     "output_type": "stream",
     "text": [
      "C:\\Users\\USER\\AppData\\Local\\Continuum\\anaconda3\\lib\\site-packages\\sklearn\\ensemble\\forest.py:246: FutureWarning: The default value of n_estimators will change from 10 in version 0.20 to 100 in 0.22.\n",
      "  \"10 in version 0.20 to 100 in 0.22.\", FutureWarning)\n",
      "C:\\Users\\USER\\AppData\\Local\\Continuum\\anaconda3\\lib\\site-packages\\sklearn\\ensemble\\forest.py:246: FutureWarning: The default value of n_estimators will change from 10 in version 0.20 to 100 in 0.22.\n",
      "  \"10 in version 0.20 to 100 in 0.22.\", FutureWarning)\n",
      "C:\\Users\\USER\\AppData\\Local\\Continuum\\anaconda3\\lib\\site-packages\\sklearn\\ensemble\\forest.py:246: FutureWarning: The default value of n_estimators will change from 10 in version 0.20 to 100 in 0.22.\n",
      "  \"10 in version 0.20 to 100 in 0.22.\", FutureWarning)\n",
      "C:\\Users\\USER\\AppData\\Local\\Continuum\\anaconda3\\lib\\site-packages\\sklearn\\ensemble\\forest.py:246: FutureWarning: The default value of n_estimators will change from 10 in version 0.20 to 100 in 0.22.\n",
      "  \"10 in version 0.20 to 100 in 0.22.\", FutureWarning)\n",
      "C:\\Users\\USER\\AppData\\Local\\Continuum\\anaconda3\\lib\\site-packages\\sklearn\\ensemble\\forest.py:246: FutureWarning: The default value of n_estimators will change from 10 in version 0.20 to 100 in 0.22.\n",
      "  \"10 in version 0.20 to 100 in 0.22.\", FutureWarning)\n",
      "C:\\Users\\USER\\AppData\\Local\\Continuum\\anaconda3\\lib\\site-packages\\sklearn\\ensemble\\forest.py:246: FutureWarning: The default value of n_estimators will change from 10 in version 0.20 to 100 in 0.22.\n",
      "  \"10 in version 0.20 to 100 in 0.22.\", FutureWarning)\n",
      "C:\\Users\\USER\\AppData\\Local\\Continuum\\anaconda3\\lib\\site-packages\\sklearn\\ensemble\\forest.py:246: FutureWarning: The default value of n_estimators will change from 10 in version 0.20 to 100 in 0.22.\n",
      "  \"10 in version 0.20 to 100 in 0.22.\", FutureWarning)\n",
      "C:\\Users\\USER\\AppData\\Local\\Continuum\\anaconda3\\lib\\site-packages\\sklearn\\ensemble\\forest.py:246: FutureWarning: The default value of n_estimators will change from 10 in version 0.20 to 100 in 0.22.\n",
      "  \"10 in version 0.20 to 100 in 0.22.\", FutureWarning)\n",
      "C:\\Users\\USER\\AppData\\Local\\Continuum\\anaconda3\\lib\\site-packages\\sklearn\\ensemble\\forest.py:246: FutureWarning: The default value of n_estimators will change from 10 in version 0.20 to 100 in 0.22.\n",
      "  \"10 in version 0.20 to 100 in 0.22.\", FutureWarning)\n",
      "C:\\Users\\USER\\AppData\\Local\\Continuum\\anaconda3\\lib\\site-packages\\sklearn\\ensemble\\forest.py:246: FutureWarning: The default value of n_estimators will change from 10 in version 0.20 to 100 in 0.22.\n",
      "  \"10 in version 0.20 to 100 in 0.22.\", FutureWarning)\n",
      "C:\\Users\\USER\\AppData\\Local\\Continuum\\anaconda3\\lib\\site-packages\\sklearn\\ensemble\\forest.py:246: FutureWarning: The default value of n_estimators will change from 10 in version 0.20 to 100 in 0.22.\n",
      "  \"10 in version 0.20 to 100 in 0.22.\", FutureWarning)\n",
      "C:\\Users\\USER\\AppData\\Local\\Continuum\\anaconda3\\lib\\site-packages\\sklearn\\ensemble\\forest.py:246: FutureWarning: The default value of n_estimators will change from 10 in version 0.20 to 100 in 0.22.\n",
      "  \"10 in version 0.20 to 100 in 0.22.\", FutureWarning)\n",
      "C:\\Users\\USER\\AppData\\Local\\Continuum\\anaconda3\\lib\\site-packages\\sklearn\\ensemble\\forest.py:246: FutureWarning: The default value of n_estimators will change from 10 in version 0.20 to 100 in 0.22.\n",
      "  \"10 in version 0.20 to 100 in 0.22.\", FutureWarning)\n",
      "C:\\Users\\USER\\AppData\\Local\\Continuum\\anaconda3\\lib\\site-packages\\sklearn\\ensemble\\forest.py:246: FutureWarning: The default value of n_estimators will change from 10 in version 0.20 to 100 in 0.22.\n",
      "  \"10 in version 0.20 to 100 in 0.22.\", FutureWarning)\n",
      "C:\\Users\\USER\\AppData\\Local\\Continuum\\anaconda3\\lib\\site-packages\\sklearn\\ensemble\\forest.py:246: FutureWarning: The default value of n_estimators will change from 10 in version 0.20 to 100 in 0.22.\n",
      "  \"10 in version 0.20 to 100 in 0.22.\", FutureWarning)\n",
      "C:\\Users\\USER\\AppData\\Local\\Continuum\\anaconda3\\lib\\site-packages\\sklearn\\ensemble\\forest.py:246: FutureWarning: The default value of n_estimators will change from 10 in version 0.20 to 100 in 0.22.\n",
      "  \"10 in version 0.20 to 100 in 0.22.\", FutureWarning)\n",
      "C:\\Users\\USER\\AppData\\Local\\Continuum\\anaconda3\\lib\\site-packages\\sklearn\\ensemble\\forest.py:246: FutureWarning: The default value of n_estimators will change from 10 in version 0.20 to 100 in 0.22.\n",
      "  \"10 in version 0.20 to 100 in 0.22.\", FutureWarning)\n",
      "C:\\Users\\USER\\AppData\\Local\\Continuum\\anaconda3\\lib\\site-packages\\sklearn\\ensemble\\forest.py:246: FutureWarning: The default value of n_estimators will change from 10 in version 0.20 to 100 in 0.22.\n",
      "  \"10 in version 0.20 to 100 in 0.22.\", FutureWarning)\n",
      "C:\\Users\\USER\\AppData\\Local\\Continuum\\anaconda3\\lib\\site-packages\\sklearn\\ensemble\\forest.py:246: FutureWarning: The default value of n_estimators will change from 10 in version 0.20 to 100 in 0.22.\n",
      "  \"10 in version 0.20 to 100 in 0.22.\", FutureWarning)\n",
      "C:\\Users\\USER\\AppData\\Local\\Continuum\\anaconda3\\lib\\site-packages\\sklearn\\ensemble\\forest.py:246: FutureWarning: The default value of n_estimators will change from 10 in version 0.20 to 100 in 0.22.\n",
      "  \"10 in version 0.20 to 100 in 0.22.\", FutureWarning)\n",
      "C:\\Users\\USER\\AppData\\Local\\Continuum\\anaconda3\\lib\\site-packages\\sklearn\\ensemble\\forest.py:246: FutureWarning: The default value of n_estimators will change from 10 in version 0.20 to 100 in 0.22.\n",
      "  \"10 in version 0.20 to 100 in 0.22.\", FutureWarning)\n",
      "C:\\Users\\USER\\AppData\\Local\\Continuum\\anaconda3\\lib\\site-packages\\sklearn\\ensemble\\forest.py:246: FutureWarning: The default value of n_estimators will change from 10 in version 0.20 to 100 in 0.22.\n",
      "  \"10 in version 0.20 to 100 in 0.22.\", FutureWarning)\n",
      "C:\\Users\\USER\\AppData\\Local\\Continuum\\anaconda3\\lib\\site-packages\\sklearn\\ensemble\\forest.py:246: FutureWarning: The default value of n_estimators will change from 10 in version 0.20 to 100 in 0.22.\n",
      "  \"10 in version 0.20 to 100 in 0.22.\", FutureWarning)\n",
      "C:\\Users\\USER\\AppData\\Local\\Continuum\\anaconda3\\lib\\site-packages\\sklearn\\ensemble\\forest.py:246: FutureWarning: The default value of n_estimators will change from 10 in version 0.20 to 100 in 0.22.\n",
      "  \"10 in version 0.20 to 100 in 0.22.\", FutureWarning)\n",
      "C:\\Users\\USER\\AppData\\Local\\Continuum\\anaconda3\\lib\\site-packages\\sklearn\\ensemble\\forest.py:246: FutureWarning: The default value of n_estimators will change from 10 in version 0.20 to 100 in 0.22.\n",
      "  \"10 in version 0.20 to 100 in 0.22.\", FutureWarning)\n",
      "C:\\Users\\USER\\AppData\\Local\\Continuum\\anaconda3\\lib\\site-packages\\sklearn\\ensemble\\forest.py:246: FutureWarning: The default value of n_estimators will change from 10 in version 0.20 to 100 in 0.22.\n",
      "  \"10 in version 0.20 to 100 in 0.22.\", FutureWarning)\n",
      "C:\\Users\\USER\\AppData\\Local\\Continuum\\anaconda3\\lib\\site-packages\\sklearn\\ensemble\\forest.py:246: FutureWarning: The default value of n_estimators will change from 10 in version 0.20 to 100 in 0.22.\n",
      "  \"10 in version 0.20 to 100 in 0.22.\", FutureWarning)\n",
      "C:\\Users\\USER\\AppData\\Local\\Continuum\\anaconda3\\lib\\site-packages\\sklearn\\ensemble\\forest.py:246: FutureWarning: The default value of n_estimators will change from 10 in version 0.20 to 100 in 0.22.\n",
      "  \"10 in version 0.20 to 100 in 0.22.\", FutureWarning)\n",
      "C:\\Users\\USER\\AppData\\Local\\Continuum\\anaconda3\\lib\\site-packages\\sklearn\\ensemble\\forest.py:246: FutureWarning: The default value of n_estimators will change from 10 in version 0.20 to 100 in 0.22.\n",
      "  \"10 in version 0.20 to 100 in 0.22.\", FutureWarning)\n",
      "C:\\Users\\USER\\AppData\\Local\\Continuum\\anaconda3\\lib\\site-packages\\sklearn\\ensemble\\forest.py:246: FutureWarning: The default value of n_estimators will change from 10 in version 0.20 to 100 in 0.22.\n",
      "  \"10 in version 0.20 to 100 in 0.22.\", FutureWarning)\n",
      "C:\\Users\\USER\\AppData\\Local\\Continuum\\anaconda3\\lib\\site-packages\\sklearn\\ensemble\\forest.py:246: FutureWarning: The default value of n_estimators will change from 10 in version 0.20 to 100 in 0.22.\n",
      "  \"10 in version 0.20 to 100 in 0.22.\", FutureWarning)\n",
      "C:\\Users\\USER\\AppData\\Local\\Continuum\\anaconda3\\lib\\site-packages\\sklearn\\ensemble\\forest.py:246: FutureWarning: The default value of n_estimators will change from 10 in version 0.20 to 100 in 0.22.\n",
      "  \"10 in version 0.20 to 100 in 0.22.\", FutureWarning)\n",
      "C:\\Users\\USER\\AppData\\Local\\Continuum\\anaconda3\\lib\\site-packages\\sklearn\\ensemble\\forest.py:246: FutureWarning: The default value of n_estimators will change from 10 in version 0.20 to 100 in 0.22.\n",
      "  \"10 in version 0.20 to 100 in 0.22.\", FutureWarning)\n"
     ]
    },
    {
     "name": "stderr",
     "output_type": "stream",
     "text": [
      "C:\\Users\\USER\\AppData\\Local\\Continuum\\anaconda3\\lib\\site-packages\\sklearn\\ensemble\\forest.py:246: FutureWarning: The default value of n_estimators will change from 10 in version 0.20 to 100 in 0.22.\n",
      "  \"10 in version 0.20 to 100 in 0.22.\", FutureWarning)\n",
      "C:\\Users\\USER\\AppData\\Local\\Continuum\\anaconda3\\lib\\site-packages\\sklearn\\ensemble\\forest.py:246: FutureWarning: The default value of n_estimators will change from 10 in version 0.20 to 100 in 0.22.\n",
      "  \"10 in version 0.20 to 100 in 0.22.\", FutureWarning)\n",
      "C:\\Users\\USER\\AppData\\Local\\Continuum\\anaconda3\\lib\\site-packages\\sklearn\\ensemble\\forest.py:246: FutureWarning: The default value of n_estimators will change from 10 in version 0.20 to 100 in 0.22.\n",
      "  \"10 in version 0.20 to 100 in 0.22.\", FutureWarning)\n",
      "C:\\Users\\USER\\AppData\\Local\\Continuum\\anaconda3\\lib\\site-packages\\sklearn\\ensemble\\forest.py:246: FutureWarning: The default value of n_estimators will change from 10 in version 0.20 to 100 in 0.22.\n",
      "  \"10 in version 0.20 to 100 in 0.22.\", FutureWarning)\n",
      "C:\\Users\\USER\\AppData\\Local\\Continuum\\anaconda3\\lib\\site-packages\\sklearn\\ensemble\\forest.py:246: FutureWarning: The default value of n_estimators will change from 10 in version 0.20 to 100 in 0.22.\n",
      "  \"10 in version 0.20 to 100 in 0.22.\", FutureWarning)\n",
      "C:\\Users\\USER\\AppData\\Local\\Continuum\\anaconda3\\lib\\site-packages\\sklearn\\ensemble\\forest.py:246: FutureWarning: The default value of n_estimators will change from 10 in version 0.20 to 100 in 0.22.\n",
      "  \"10 in version 0.20 to 100 in 0.22.\", FutureWarning)\n",
      "C:\\Users\\USER\\AppData\\Local\\Continuum\\anaconda3\\lib\\site-packages\\sklearn\\ensemble\\forest.py:246: FutureWarning: The default value of n_estimators will change from 10 in version 0.20 to 100 in 0.22.\n",
      "  \"10 in version 0.20 to 100 in 0.22.\", FutureWarning)\n",
      "C:\\Users\\USER\\AppData\\Local\\Continuum\\anaconda3\\lib\\site-packages\\sklearn\\ensemble\\forest.py:246: FutureWarning: The default value of n_estimators will change from 10 in version 0.20 to 100 in 0.22.\n",
      "  \"10 in version 0.20 to 100 in 0.22.\", FutureWarning)\n",
      "C:\\Users\\USER\\AppData\\Local\\Continuum\\anaconda3\\lib\\site-packages\\sklearn\\ensemble\\forest.py:246: FutureWarning: The default value of n_estimators will change from 10 in version 0.20 to 100 in 0.22.\n",
      "  \"10 in version 0.20 to 100 in 0.22.\", FutureWarning)\n",
      "C:\\Users\\USER\\AppData\\Local\\Continuum\\anaconda3\\lib\\site-packages\\sklearn\\ensemble\\forest.py:246: FutureWarning: The default value of n_estimators will change from 10 in version 0.20 to 100 in 0.22.\n",
      "  \"10 in version 0.20 to 100 in 0.22.\", FutureWarning)\n",
      "C:\\Users\\USER\\AppData\\Local\\Continuum\\anaconda3\\lib\\site-packages\\sklearn\\ensemble\\forest.py:246: FutureWarning: The default value of n_estimators will change from 10 in version 0.20 to 100 in 0.22.\n",
      "  \"10 in version 0.20 to 100 in 0.22.\", FutureWarning)\n",
      "C:\\Users\\USER\\AppData\\Local\\Continuum\\anaconda3\\lib\\site-packages\\sklearn\\ensemble\\forest.py:246: FutureWarning: The default value of n_estimators will change from 10 in version 0.20 to 100 in 0.22.\n",
      "  \"10 in version 0.20 to 100 in 0.22.\", FutureWarning)\n",
      "C:\\Users\\USER\\AppData\\Local\\Continuum\\anaconda3\\lib\\site-packages\\sklearn\\ensemble\\forest.py:246: FutureWarning: The default value of n_estimators will change from 10 in version 0.20 to 100 in 0.22.\n",
      "  \"10 in version 0.20 to 100 in 0.22.\", FutureWarning)\n",
      "C:\\Users\\USER\\AppData\\Local\\Continuum\\anaconda3\\lib\\site-packages\\sklearn\\ensemble\\forest.py:246: FutureWarning: The default value of n_estimators will change from 10 in version 0.20 to 100 in 0.22.\n",
      "  \"10 in version 0.20 to 100 in 0.22.\", FutureWarning)\n",
      "C:\\Users\\USER\\AppData\\Local\\Continuum\\anaconda3\\lib\\site-packages\\sklearn\\ensemble\\forest.py:246: FutureWarning: The default value of n_estimators will change from 10 in version 0.20 to 100 in 0.22.\n",
      "  \"10 in version 0.20 to 100 in 0.22.\", FutureWarning)\n",
      "C:\\Users\\USER\\AppData\\Local\\Continuum\\anaconda3\\lib\\site-packages\\sklearn\\ensemble\\forest.py:246: FutureWarning: The default value of n_estimators will change from 10 in version 0.20 to 100 in 0.22.\n",
      "  \"10 in version 0.20 to 100 in 0.22.\", FutureWarning)\n",
      "C:\\Users\\USER\\AppData\\Local\\Continuum\\anaconda3\\lib\\site-packages\\sklearn\\ensemble\\forest.py:246: FutureWarning: The default value of n_estimators will change from 10 in version 0.20 to 100 in 0.22.\n",
      "  \"10 in version 0.20 to 100 in 0.22.\", FutureWarning)\n",
      "C:\\Users\\USER\\AppData\\Local\\Continuum\\anaconda3\\lib\\site-packages\\sklearn\\ensemble\\forest.py:246: FutureWarning: The default value of n_estimators will change from 10 in version 0.20 to 100 in 0.22.\n",
      "  \"10 in version 0.20 to 100 in 0.22.\", FutureWarning)\n",
      "C:\\Users\\USER\\AppData\\Local\\Continuum\\anaconda3\\lib\\site-packages\\sklearn\\ensemble\\forest.py:246: FutureWarning: The default value of n_estimators will change from 10 in version 0.20 to 100 in 0.22.\n",
      "  \"10 in version 0.20 to 100 in 0.22.\", FutureWarning)\n",
      "C:\\Users\\USER\\AppData\\Local\\Continuum\\anaconda3\\lib\\site-packages\\sklearn\\ensemble\\forest.py:246: FutureWarning: The default value of n_estimators will change from 10 in version 0.20 to 100 in 0.22.\n",
      "  \"10 in version 0.20 to 100 in 0.22.\", FutureWarning)\n",
      "C:\\Users\\USER\\AppData\\Local\\Continuum\\anaconda3\\lib\\site-packages\\sklearn\\ensemble\\forest.py:246: FutureWarning: The default value of n_estimators will change from 10 in version 0.20 to 100 in 0.22.\n",
      "  \"10 in version 0.20 to 100 in 0.22.\", FutureWarning)\n",
      "C:\\Users\\USER\\AppData\\Local\\Continuum\\anaconda3\\lib\\site-packages\\sklearn\\ensemble\\forest.py:246: FutureWarning: The default value of n_estimators will change from 10 in version 0.20 to 100 in 0.22.\n",
      "  \"10 in version 0.20 to 100 in 0.22.\", FutureWarning)\n",
      "C:\\Users\\USER\\AppData\\Local\\Continuum\\anaconda3\\lib\\site-packages\\sklearn\\ensemble\\forest.py:246: FutureWarning: The default value of n_estimators will change from 10 in version 0.20 to 100 in 0.22.\n",
      "  \"10 in version 0.20 to 100 in 0.22.\", FutureWarning)\n",
      "C:\\Users\\USER\\AppData\\Local\\Continuum\\anaconda3\\lib\\site-packages\\sklearn\\ensemble\\forest.py:246: FutureWarning: The default value of n_estimators will change from 10 in version 0.20 to 100 in 0.22.\n",
      "  \"10 in version 0.20 to 100 in 0.22.\", FutureWarning)\n",
      "C:\\Users\\USER\\AppData\\Local\\Continuum\\anaconda3\\lib\\site-packages\\sklearn\\ensemble\\forest.py:246: FutureWarning: The default value of n_estimators will change from 10 in version 0.20 to 100 in 0.22.\n",
      "  \"10 in version 0.20 to 100 in 0.22.\", FutureWarning)\n",
      "C:\\Users\\USER\\AppData\\Local\\Continuum\\anaconda3\\lib\\site-packages\\sklearn\\ensemble\\forest.py:246: FutureWarning: The default value of n_estimators will change from 10 in version 0.20 to 100 in 0.22.\n",
      "  \"10 in version 0.20 to 100 in 0.22.\", FutureWarning)\n",
      "C:\\Users\\USER\\AppData\\Local\\Continuum\\anaconda3\\lib\\site-packages\\sklearn\\ensemble\\forest.py:246: FutureWarning: The default value of n_estimators will change from 10 in version 0.20 to 100 in 0.22.\n",
      "  \"10 in version 0.20 to 100 in 0.22.\", FutureWarning)\n",
      "C:\\Users\\USER\\AppData\\Local\\Continuum\\anaconda3\\lib\\site-packages\\sklearn\\ensemble\\forest.py:246: FutureWarning: The default value of n_estimators will change from 10 in version 0.20 to 100 in 0.22.\n",
      "  \"10 in version 0.20 to 100 in 0.22.\", FutureWarning)\n",
      "C:\\Users\\USER\\AppData\\Local\\Continuum\\anaconda3\\lib\\site-packages\\sklearn\\ensemble\\forest.py:246: FutureWarning: The default value of n_estimators will change from 10 in version 0.20 to 100 in 0.22.\n",
      "  \"10 in version 0.20 to 100 in 0.22.\", FutureWarning)\n",
      "C:\\Users\\USER\\AppData\\Local\\Continuum\\anaconda3\\lib\\site-packages\\sklearn\\ensemble\\forest.py:246: FutureWarning: The default value of n_estimators will change from 10 in version 0.20 to 100 in 0.22.\n",
      "  \"10 in version 0.20 to 100 in 0.22.\", FutureWarning)\n",
      "C:\\Users\\USER\\AppData\\Local\\Continuum\\anaconda3\\lib\\site-packages\\sklearn\\ensemble\\forest.py:246: FutureWarning: The default value of n_estimators will change from 10 in version 0.20 to 100 in 0.22.\n",
      "  \"10 in version 0.20 to 100 in 0.22.\", FutureWarning)\n",
      "C:\\Users\\USER\\AppData\\Local\\Continuum\\anaconda3\\lib\\site-packages\\sklearn\\ensemble\\forest.py:246: FutureWarning: The default value of n_estimators will change from 10 in version 0.20 to 100 in 0.22.\n",
      "  \"10 in version 0.20 to 100 in 0.22.\", FutureWarning)\n",
      "C:\\Users\\USER\\AppData\\Local\\Continuum\\anaconda3\\lib\\site-packages\\sklearn\\ensemble\\forest.py:246: FutureWarning: The default value of n_estimators will change from 10 in version 0.20 to 100 in 0.22.\n",
      "  \"10 in version 0.20 to 100 in 0.22.\", FutureWarning)\n"
     ]
    },
    {
     "name": "stderr",
     "output_type": "stream",
     "text": [
      "C:\\Users\\USER\\AppData\\Local\\Continuum\\anaconda3\\lib\\site-packages\\sklearn\\ensemble\\forest.py:246: FutureWarning: The default value of n_estimators will change from 10 in version 0.20 to 100 in 0.22.\n",
      "  \"10 in version 0.20 to 100 in 0.22.\", FutureWarning)\n",
      "C:\\Users\\USER\\AppData\\Local\\Continuum\\anaconda3\\lib\\site-packages\\sklearn\\ensemble\\forest.py:246: FutureWarning: The default value of n_estimators will change from 10 in version 0.20 to 100 in 0.22.\n",
      "  \"10 in version 0.20 to 100 in 0.22.\", FutureWarning)\n",
      "C:\\Users\\USER\\AppData\\Local\\Continuum\\anaconda3\\lib\\site-packages\\sklearn\\ensemble\\forest.py:246: FutureWarning: The default value of n_estimators will change from 10 in version 0.20 to 100 in 0.22.\n",
      "  \"10 in version 0.20 to 100 in 0.22.\", FutureWarning)\n",
      "C:\\Users\\USER\\AppData\\Local\\Continuum\\anaconda3\\lib\\site-packages\\sklearn\\ensemble\\forest.py:246: FutureWarning: The default value of n_estimators will change from 10 in version 0.20 to 100 in 0.22.\n",
      "  \"10 in version 0.20 to 100 in 0.22.\", FutureWarning)\n",
      "C:\\Users\\USER\\AppData\\Local\\Continuum\\anaconda3\\lib\\site-packages\\sklearn\\ensemble\\forest.py:246: FutureWarning: The default value of n_estimators will change from 10 in version 0.20 to 100 in 0.22.\n",
      "  \"10 in version 0.20 to 100 in 0.22.\", FutureWarning)\n",
      "C:\\Users\\USER\\AppData\\Local\\Continuum\\anaconda3\\lib\\site-packages\\sklearn\\ensemble\\forest.py:246: FutureWarning: The default value of n_estimators will change from 10 in version 0.20 to 100 in 0.22.\n",
      "  \"10 in version 0.20 to 100 in 0.22.\", FutureWarning)\n",
      "C:\\Users\\USER\\AppData\\Local\\Continuum\\anaconda3\\lib\\site-packages\\sklearn\\ensemble\\forest.py:246: FutureWarning: The default value of n_estimators will change from 10 in version 0.20 to 100 in 0.22.\n",
      "  \"10 in version 0.20 to 100 in 0.22.\", FutureWarning)\n",
      "C:\\Users\\USER\\AppData\\Local\\Continuum\\anaconda3\\lib\\site-packages\\sklearn\\ensemble\\forest.py:246: FutureWarning: The default value of n_estimators will change from 10 in version 0.20 to 100 in 0.22.\n",
      "  \"10 in version 0.20 to 100 in 0.22.\", FutureWarning)\n",
      "C:\\Users\\USER\\AppData\\Local\\Continuum\\anaconda3\\lib\\site-packages\\sklearn\\ensemble\\forest.py:246: FutureWarning: The default value of n_estimators will change from 10 in version 0.20 to 100 in 0.22.\n",
      "  \"10 in version 0.20 to 100 in 0.22.\", FutureWarning)\n",
      "C:\\Users\\USER\\AppData\\Local\\Continuum\\anaconda3\\lib\\site-packages\\sklearn\\ensemble\\forest.py:246: FutureWarning: The default value of n_estimators will change from 10 in version 0.20 to 100 in 0.22.\n",
      "  \"10 in version 0.20 to 100 in 0.22.\", FutureWarning)\n",
      "C:\\Users\\USER\\AppData\\Local\\Continuum\\anaconda3\\lib\\site-packages\\sklearn\\ensemble\\forest.py:246: FutureWarning: The default value of n_estimators will change from 10 in version 0.20 to 100 in 0.22.\n",
      "  \"10 in version 0.20 to 100 in 0.22.\", FutureWarning)\n",
      "C:\\Users\\USER\\AppData\\Local\\Continuum\\anaconda3\\lib\\site-packages\\sklearn\\ensemble\\forest.py:246: FutureWarning: The default value of n_estimators will change from 10 in version 0.20 to 100 in 0.22.\n",
      "  \"10 in version 0.20 to 100 in 0.22.\", FutureWarning)\n",
      "C:\\Users\\USER\\AppData\\Local\\Continuum\\anaconda3\\lib\\site-packages\\sklearn\\ensemble\\forest.py:246: FutureWarning: The default value of n_estimators will change from 10 in version 0.20 to 100 in 0.22.\n",
      "  \"10 in version 0.20 to 100 in 0.22.\", FutureWarning)\n",
      "C:\\Users\\USER\\AppData\\Local\\Continuum\\anaconda3\\lib\\site-packages\\sklearn\\ensemble\\forest.py:246: FutureWarning: The default value of n_estimators will change from 10 in version 0.20 to 100 in 0.22.\n",
      "  \"10 in version 0.20 to 100 in 0.22.\", FutureWarning)\n",
      "C:\\Users\\USER\\AppData\\Local\\Continuum\\anaconda3\\lib\\site-packages\\sklearn\\ensemble\\forest.py:246: FutureWarning: The default value of n_estimators will change from 10 in version 0.20 to 100 in 0.22.\n",
      "  \"10 in version 0.20 to 100 in 0.22.\", FutureWarning)\n",
      "C:\\Users\\USER\\AppData\\Local\\Continuum\\anaconda3\\lib\\site-packages\\sklearn\\ensemble\\forest.py:246: FutureWarning: The default value of n_estimators will change from 10 in version 0.20 to 100 in 0.22.\n",
      "  \"10 in version 0.20 to 100 in 0.22.\", FutureWarning)\n",
      "C:\\Users\\USER\\AppData\\Local\\Continuum\\anaconda3\\lib\\site-packages\\sklearn\\ensemble\\forest.py:246: FutureWarning: The default value of n_estimators will change from 10 in version 0.20 to 100 in 0.22.\n",
      "  \"10 in version 0.20 to 100 in 0.22.\", FutureWarning)\n",
      "C:\\Users\\USER\\AppData\\Local\\Continuum\\anaconda3\\lib\\site-packages\\sklearn\\ensemble\\forest.py:246: FutureWarning: The default value of n_estimators will change from 10 in version 0.20 to 100 in 0.22.\n",
      "  \"10 in version 0.20 to 100 in 0.22.\", FutureWarning)\n",
      "C:\\Users\\USER\\AppData\\Local\\Continuum\\anaconda3\\lib\\site-packages\\sklearn\\ensemble\\forest.py:246: FutureWarning: The default value of n_estimators will change from 10 in version 0.20 to 100 in 0.22.\n",
      "  \"10 in version 0.20 to 100 in 0.22.\", FutureWarning)\n",
      "C:\\Users\\USER\\AppData\\Local\\Continuum\\anaconda3\\lib\\site-packages\\sklearn\\ensemble\\forest.py:246: FutureWarning: The default value of n_estimators will change from 10 in version 0.20 to 100 in 0.22.\n",
      "  \"10 in version 0.20 to 100 in 0.22.\", FutureWarning)\n",
      "C:\\Users\\USER\\AppData\\Local\\Continuum\\anaconda3\\lib\\site-packages\\sklearn\\ensemble\\forest.py:246: FutureWarning: The default value of n_estimators will change from 10 in version 0.20 to 100 in 0.22.\n",
      "  \"10 in version 0.20 to 100 in 0.22.\", FutureWarning)\n",
      "C:\\Users\\USER\\AppData\\Local\\Continuum\\anaconda3\\lib\\site-packages\\sklearn\\ensemble\\forest.py:246: FutureWarning: The default value of n_estimators will change from 10 in version 0.20 to 100 in 0.22.\n",
      "  \"10 in version 0.20 to 100 in 0.22.\", FutureWarning)\n",
      "C:\\Users\\USER\\AppData\\Local\\Continuum\\anaconda3\\lib\\site-packages\\sklearn\\ensemble\\forest.py:246: FutureWarning: The default value of n_estimators will change from 10 in version 0.20 to 100 in 0.22.\n",
      "  \"10 in version 0.20 to 100 in 0.22.\", FutureWarning)\n",
      "C:\\Users\\USER\\AppData\\Local\\Continuum\\anaconda3\\lib\\site-packages\\sklearn\\ensemble\\forest.py:246: FutureWarning: The default value of n_estimators will change from 10 in version 0.20 to 100 in 0.22.\n",
      "  \"10 in version 0.20 to 100 in 0.22.\", FutureWarning)\n",
      "C:\\Users\\USER\\AppData\\Local\\Continuum\\anaconda3\\lib\\site-packages\\sklearn\\ensemble\\forest.py:246: FutureWarning: The default value of n_estimators will change from 10 in version 0.20 to 100 in 0.22.\n",
      "  \"10 in version 0.20 to 100 in 0.22.\", FutureWarning)\n",
      "C:\\Users\\USER\\AppData\\Local\\Continuum\\anaconda3\\lib\\site-packages\\sklearn\\ensemble\\forest.py:246: FutureWarning: The default value of n_estimators will change from 10 in version 0.20 to 100 in 0.22.\n",
      "  \"10 in version 0.20 to 100 in 0.22.\", FutureWarning)\n",
      "C:\\Users\\USER\\AppData\\Local\\Continuum\\anaconda3\\lib\\site-packages\\sklearn\\ensemble\\forest.py:246: FutureWarning: The default value of n_estimators will change from 10 in version 0.20 to 100 in 0.22.\n",
      "  \"10 in version 0.20 to 100 in 0.22.\", FutureWarning)\n",
      "C:\\Users\\USER\\AppData\\Local\\Continuum\\anaconda3\\lib\\site-packages\\sklearn\\ensemble\\forest.py:246: FutureWarning: The default value of n_estimators will change from 10 in version 0.20 to 100 in 0.22.\n",
      "  \"10 in version 0.20 to 100 in 0.22.\", FutureWarning)\n",
      "C:\\Users\\USER\\AppData\\Local\\Continuum\\anaconda3\\lib\\site-packages\\sklearn\\ensemble\\forest.py:246: FutureWarning: The default value of n_estimators will change from 10 in version 0.20 to 100 in 0.22.\n",
      "  \"10 in version 0.20 to 100 in 0.22.\", FutureWarning)\n",
      "C:\\Users\\USER\\AppData\\Local\\Continuum\\anaconda3\\lib\\site-packages\\sklearn\\ensemble\\forest.py:246: FutureWarning: The default value of n_estimators will change from 10 in version 0.20 to 100 in 0.22.\n",
      "  \"10 in version 0.20 to 100 in 0.22.\", FutureWarning)\n",
      "C:\\Users\\USER\\AppData\\Local\\Continuum\\anaconda3\\lib\\site-packages\\sklearn\\ensemble\\forest.py:246: FutureWarning: The default value of n_estimators will change from 10 in version 0.20 to 100 in 0.22.\n",
      "  \"10 in version 0.20 to 100 in 0.22.\", FutureWarning)\n",
      "C:\\Users\\USER\\AppData\\Local\\Continuum\\anaconda3\\lib\\site-packages\\sklearn\\ensemble\\forest.py:246: FutureWarning: The default value of n_estimators will change from 10 in version 0.20 to 100 in 0.22.\n",
      "  \"10 in version 0.20 to 100 in 0.22.\", FutureWarning)\n",
      "C:\\Users\\USER\\AppData\\Local\\Continuum\\anaconda3\\lib\\site-packages\\sklearn\\ensemble\\forest.py:246: FutureWarning: The default value of n_estimators will change from 10 in version 0.20 to 100 in 0.22.\n",
      "  \"10 in version 0.20 to 100 in 0.22.\", FutureWarning)\n"
     ]
    },
    {
     "name": "stderr",
     "output_type": "stream",
     "text": [
      "C:\\Users\\USER\\AppData\\Local\\Continuum\\anaconda3\\lib\\site-packages\\sklearn\\ensemble\\forest.py:246: FutureWarning: The default value of n_estimators will change from 10 in version 0.20 to 100 in 0.22.\n",
      "  \"10 in version 0.20 to 100 in 0.22.\", FutureWarning)\n",
      "C:\\Users\\USER\\AppData\\Local\\Continuum\\anaconda3\\lib\\site-packages\\sklearn\\ensemble\\forest.py:246: FutureWarning: The default value of n_estimators will change from 10 in version 0.20 to 100 in 0.22.\n",
      "  \"10 in version 0.20 to 100 in 0.22.\", FutureWarning)\n",
      "C:\\Users\\USER\\AppData\\Local\\Continuum\\anaconda3\\lib\\site-packages\\sklearn\\ensemble\\forest.py:246: FutureWarning: The default value of n_estimators will change from 10 in version 0.20 to 100 in 0.22.\n",
      "  \"10 in version 0.20 to 100 in 0.22.\", FutureWarning)\n",
      "C:\\Users\\USER\\AppData\\Local\\Continuum\\anaconda3\\lib\\site-packages\\sklearn\\ensemble\\forest.py:246: FutureWarning: The default value of n_estimators will change from 10 in version 0.20 to 100 in 0.22.\n",
      "  \"10 in version 0.20 to 100 in 0.22.\", FutureWarning)\n",
      "C:\\Users\\USER\\AppData\\Local\\Continuum\\anaconda3\\lib\\site-packages\\sklearn\\ensemble\\forest.py:246: FutureWarning: The default value of n_estimators will change from 10 in version 0.20 to 100 in 0.22.\n",
      "  \"10 in version 0.20 to 100 in 0.22.\", FutureWarning)\n",
      "C:\\Users\\USER\\AppData\\Local\\Continuum\\anaconda3\\lib\\site-packages\\sklearn\\ensemble\\forest.py:246: FutureWarning: The default value of n_estimators will change from 10 in version 0.20 to 100 in 0.22.\n",
      "  \"10 in version 0.20 to 100 in 0.22.\", FutureWarning)\n",
      "C:\\Users\\USER\\AppData\\Local\\Continuum\\anaconda3\\lib\\site-packages\\sklearn\\ensemble\\forest.py:246: FutureWarning: The default value of n_estimators will change from 10 in version 0.20 to 100 in 0.22.\n",
      "  \"10 in version 0.20 to 100 in 0.22.\", FutureWarning)\n",
      "C:\\Users\\USER\\AppData\\Local\\Continuum\\anaconda3\\lib\\site-packages\\sklearn\\ensemble\\forest.py:246: FutureWarning: The default value of n_estimators will change from 10 in version 0.20 to 100 in 0.22.\n",
      "  \"10 in version 0.20 to 100 in 0.22.\", FutureWarning)\n",
      "C:\\Users\\USER\\AppData\\Local\\Continuum\\anaconda3\\lib\\site-packages\\sklearn\\ensemble\\forest.py:246: FutureWarning: The default value of n_estimators will change from 10 in version 0.20 to 100 in 0.22.\n",
      "  \"10 in version 0.20 to 100 in 0.22.\", FutureWarning)\n",
      "C:\\Users\\USER\\AppData\\Local\\Continuum\\anaconda3\\lib\\site-packages\\sklearn\\ensemble\\forest.py:246: FutureWarning: The default value of n_estimators will change from 10 in version 0.20 to 100 in 0.22.\n",
      "  \"10 in version 0.20 to 100 in 0.22.\", FutureWarning)\n",
      "C:\\Users\\USER\\AppData\\Local\\Continuum\\anaconda3\\lib\\site-packages\\sklearn\\ensemble\\forest.py:246: FutureWarning: The default value of n_estimators will change from 10 in version 0.20 to 100 in 0.22.\n",
      "  \"10 in version 0.20 to 100 in 0.22.\", FutureWarning)\n",
      "C:\\Users\\USER\\AppData\\Local\\Continuum\\anaconda3\\lib\\site-packages\\sklearn\\ensemble\\forest.py:246: FutureWarning: The default value of n_estimators will change from 10 in version 0.20 to 100 in 0.22.\n",
      "  \"10 in version 0.20 to 100 in 0.22.\", FutureWarning)\n",
      "C:\\Users\\USER\\AppData\\Local\\Continuum\\anaconda3\\lib\\site-packages\\sklearn\\ensemble\\forest.py:246: FutureWarning: The default value of n_estimators will change from 10 in version 0.20 to 100 in 0.22.\n",
      "  \"10 in version 0.20 to 100 in 0.22.\", FutureWarning)\n",
      "C:\\Users\\USER\\AppData\\Local\\Continuum\\anaconda3\\lib\\site-packages\\sklearn\\ensemble\\forest.py:246: FutureWarning: The default value of n_estimators will change from 10 in version 0.20 to 100 in 0.22.\n",
      "  \"10 in version 0.20 to 100 in 0.22.\", FutureWarning)\n",
      "C:\\Users\\USER\\AppData\\Local\\Continuum\\anaconda3\\lib\\site-packages\\sklearn\\ensemble\\forest.py:246: FutureWarning: The default value of n_estimators will change from 10 in version 0.20 to 100 in 0.22.\n",
      "  \"10 in version 0.20 to 100 in 0.22.\", FutureWarning)\n",
      "C:\\Users\\USER\\AppData\\Local\\Continuum\\anaconda3\\lib\\site-packages\\sklearn\\ensemble\\forest.py:246: FutureWarning: The default value of n_estimators will change from 10 in version 0.20 to 100 in 0.22.\n",
      "  \"10 in version 0.20 to 100 in 0.22.\", FutureWarning)\n",
      "C:\\Users\\USER\\AppData\\Local\\Continuum\\anaconda3\\lib\\site-packages\\sklearn\\ensemble\\forest.py:246: FutureWarning: The default value of n_estimators will change from 10 in version 0.20 to 100 in 0.22.\n",
      "  \"10 in version 0.20 to 100 in 0.22.\", FutureWarning)\n",
      "C:\\Users\\USER\\AppData\\Local\\Continuum\\anaconda3\\lib\\site-packages\\sklearn\\ensemble\\forest.py:246: FutureWarning: The default value of n_estimators will change from 10 in version 0.20 to 100 in 0.22.\n",
      "  \"10 in version 0.20 to 100 in 0.22.\", FutureWarning)\n",
      "C:\\Users\\USER\\AppData\\Local\\Continuum\\anaconda3\\lib\\site-packages\\sklearn\\ensemble\\forest.py:246: FutureWarning: The default value of n_estimators will change from 10 in version 0.20 to 100 in 0.22.\n",
      "  \"10 in version 0.20 to 100 in 0.22.\", FutureWarning)\n",
      "C:\\Users\\USER\\AppData\\Local\\Continuum\\anaconda3\\lib\\site-packages\\sklearn\\ensemble\\forest.py:246: FutureWarning: The default value of n_estimators will change from 10 in version 0.20 to 100 in 0.22.\n",
      "  \"10 in version 0.20 to 100 in 0.22.\", FutureWarning)\n",
      "C:\\Users\\USER\\AppData\\Local\\Continuum\\anaconda3\\lib\\site-packages\\sklearn\\ensemble\\forest.py:246: FutureWarning: The default value of n_estimators will change from 10 in version 0.20 to 100 in 0.22.\n",
      "  \"10 in version 0.20 to 100 in 0.22.\", FutureWarning)\n",
      "C:\\Users\\USER\\AppData\\Local\\Continuum\\anaconda3\\lib\\site-packages\\sklearn\\ensemble\\forest.py:246: FutureWarning: The default value of n_estimators will change from 10 in version 0.20 to 100 in 0.22.\n",
      "  \"10 in version 0.20 to 100 in 0.22.\", FutureWarning)\n",
      "C:\\Users\\USER\\AppData\\Local\\Continuum\\anaconda3\\lib\\site-packages\\sklearn\\ensemble\\forest.py:246: FutureWarning: The default value of n_estimators will change from 10 in version 0.20 to 100 in 0.22.\n",
      "  \"10 in version 0.20 to 100 in 0.22.\", FutureWarning)\n",
      "C:\\Users\\USER\\AppData\\Local\\Continuum\\anaconda3\\lib\\site-packages\\sklearn\\ensemble\\forest.py:246: FutureWarning: The default value of n_estimators will change from 10 in version 0.20 to 100 in 0.22.\n",
      "  \"10 in version 0.20 to 100 in 0.22.\", FutureWarning)\n",
      "C:\\Users\\USER\\AppData\\Local\\Continuum\\anaconda3\\lib\\site-packages\\sklearn\\ensemble\\forest.py:246: FutureWarning: The default value of n_estimators will change from 10 in version 0.20 to 100 in 0.22.\n",
      "  \"10 in version 0.20 to 100 in 0.22.\", FutureWarning)\n",
      "C:\\Users\\USER\\AppData\\Local\\Continuum\\anaconda3\\lib\\site-packages\\sklearn\\ensemble\\forest.py:246: FutureWarning: The default value of n_estimators will change from 10 in version 0.20 to 100 in 0.22.\n",
      "  \"10 in version 0.20 to 100 in 0.22.\", FutureWarning)\n",
      "C:\\Users\\USER\\AppData\\Local\\Continuum\\anaconda3\\lib\\site-packages\\sklearn\\ensemble\\forest.py:246: FutureWarning: The default value of n_estimators will change from 10 in version 0.20 to 100 in 0.22.\n",
      "  \"10 in version 0.20 to 100 in 0.22.\", FutureWarning)\n",
      "C:\\Users\\USER\\AppData\\Local\\Continuum\\anaconda3\\lib\\site-packages\\sklearn\\ensemble\\forest.py:246: FutureWarning: The default value of n_estimators will change from 10 in version 0.20 to 100 in 0.22.\n",
      "  \"10 in version 0.20 to 100 in 0.22.\", FutureWarning)\n",
      "C:\\Users\\USER\\AppData\\Local\\Continuum\\anaconda3\\lib\\site-packages\\sklearn\\ensemble\\forest.py:246: FutureWarning: The default value of n_estimators will change from 10 in version 0.20 to 100 in 0.22.\n",
      "  \"10 in version 0.20 to 100 in 0.22.\", FutureWarning)\n",
      "C:\\Users\\USER\\AppData\\Local\\Continuum\\anaconda3\\lib\\site-packages\\sklearn\\ensemble\\forest.py:246: FutureWarning: The default value of n_estimators will change from 10 in version 0.20 to 100 in 0.22.\n",
      "  \"10 in version 0.20 to 100 in 0.22.\", FutureWarning)\n",
      "C:\\Users\\USER\\AppData\\Local\\Continuum\\anaconda3\\lib\\site-packages\\sklearn\\ensemble\\forest.py:246: FutureWarning: The default value of n_estimators will change from 10 in version 0.20 to 100 in 0.22.\n",
      "  \"10 in version 0.20 to 100 in 0.22.\", FutureWarning)\n",
      "C:\\Users\\USER\\AppData\\Local\\Continuum\\anaconda3\\lib\\site-packages\\sklearn\\ensemble\\forest.py:246: FutureWarning: The default value of n_estimators will change from 10 in version 0.20 to 100 in 0.22.\n",
      "  \"10 in version 0.20 to 100 in 0.22.\", FutureWarning)\n",
      "C:\\Users\\USER\\AppData\\Local\\Continuum\\anaconda3\\lib\\site-packages\\sklearn\\ensemble\\forest.py:246: FutureWarning: The default value of n_estimators will change from 10 in version 0.20 to 100 in 0.22.\n",
      "  \"10 in version 0.20 to 100 in 0.22.\", FutureWarning)\n"
     ]
    },
    {
     "name": "stderr",
     "output_type": "stream",
     "text": [
      "C:\\Users\\USER\\AppData\\Local\\Continuum\\anaconda3\\lib\\site-packages\\sklearn\\ensemble\\forest.py:246: FutureWarning: The default value of n_estimators will change from 10 in version 0.20 to 100 in 0.22.\n",
      "  \"10 in version 0.20 to 100 in 0.22.\", FutureWarning)\n",
      "C:\\Users\\USER\\AppData\\Local\\Continuum\\anaconda3\\lib\\site-packages\\sklearn\\ensemble\\forest.py:246: FutureWarning: The default value of n_estimators will change from 10 in version 0.20 to 100 in 0.22.\n",
      "  \"10 in version 0.20 to 100 in 0.22.\", FutureWarning)\n",
      "C:\\Users\\USER\\AppData\\Local\\Continuum\\anaconda3\\lib\\site-packages\\sklearn\\ensemble\\forest.py:246: FutureWarning: The default value of n_estimators will change from 10 in version 0.20 to 100 in 0.22.\n",
      "  \"10 in version 0.20 to 100 in 0.22.\", FutureWarning)\n",
      "C:\\Users\\USER\\AppData\\Local\\Continuum\\anaconda3\\lib\\site-packages\\sklearn\\ensemble\\forest.py:246: FutureWarning: The default value of n_estimators will change from 10 in version 0.20 to 100 in 0.22.\n",
      "  \"10 in version 0.20 to 100 in 0.22.\", FutureWarning)\n",
      "C:\\Users\\USER\\AppData\\Local\\Continuum\\anaconda3\\lib\\site-packages\\sklearn\\ensemble\\forest.py:246: FutureWarning: The default value of n_estimators will change from 10 in version 0.20 to 100 in 0.22.\n",
      "  \"10 in version 0.20 to 100 in 0.22.\", FutureWarning)\n",
      "C:\\Users\\USER\\AppData\\Local\\Continuum\\anaconda3\\lib\\site-packages\\sklearn\\ensemble\\forest.py:246: FutureWarning: The default value of n_estimators will change from 10 in version 0.20 to 100 in 0.22.\n",
      "  \"10 in version 0.20 to 100 in 0.22.\", FutureWarning)\n",
      "C:\\Users\\USER\\AppData\\Local\\Continuum\\anaconda3\\lib\\site-packages\\sklearn\\ensemble\\forest.py:246: FutureWarning: The default value of n_estimators will change from 10 in version 0.20 to 100 in 0.22.\n",
      "  \"10 in version 0.20 to 100 in 0.22.\", FutureWarning)\n",
      "C:\\Users\\USER\\AppData\\Local\\Continuum\\anaconda3\\lib\\site-packages\\sklearn\\ensemble\\forest.py:246: FutureWarning: The default value of n_estimators will change from 10 in version 0.20 to 100 in 0.22.\n",
      "  \"10 in version 0.20 to 100 in 0.22.\", FutureWarning)\n",
      "C:\\Users\\USER\\AppData\\Local\\Continuum\\anaconda3\\lib\\site-packages\\sklearn\\ensemble\\forest.py:246: FutureWarning: The default value of n_estimators will change from 10 in version 0.20 to 100 in 0.22.\n",
      "  \"10 in version 0.20 to 100 in 0.22.\", FutureWarning)\n",
      "C:\\Users\\USER\\AppData\\Local\\Continuum\\anaconda3\\lib\\site-packages\\sklearn\\ensemble\\forest.py:246: FutureWarning: The default value of n_estimators will change from 10 in version 0.20 to 100 in 0.22.\n",
      "  \"10 in version 0.20 to 100 in 0.22.\", FutureWarning)\n",
      "C:\\Users\\USER\\AppData\\Local\\Continuum\\anaconda3\\lib\\site-packages\\sklearn\\ensemble\\forest.py:246: FutureWarning: The default value of n_estimators will change from 10 in version 0.20 to 100 in 0.22.\n",
      "  \"10 in version 0.20 to 100 in 0.22.\", FutureWarning)\n",
      "C:\\Users\\USER\\AppData\\Local\\Continuum\\anaconda3\\lib\\site-packages\\sklearn\\ensemble\\forest.py:246: FutureWarning: The default value of n_estimators will change from 10 in version 0.20 to 100 in 0.22.\n",
      "  \"10 in version 0.20 to 100 in 0.22.\", FutureWarning)\n",
      "C:\\Users\\USER\\AppData\\Local\\Continuum\\anaconda3\\lib\\site-packages\\sklearn\\ensemble\\forest.py:246: FutureWarning: The default value of n_estimators will change from 10 in version 0.20 to 100 in 0.22.\n",
      "  \"10 in version 0.20 to 100 in 0.22.\", FutureWarning)\n",
      "C:\\Users\\USER\\AppData\\Local\\Continuum\\anaconda3\\lib\\site-packages\\sklearn\\ensemble\\forest.py:246: FutureWarning: The default value of n_estimators will change from 10 in version 0.20 to 100 in 0.22.\n",
      "  \"10 in version 0.20 to 100 in 0.22.\", FutureWarning)\n",
      "C:\\Users\\USER\\AppData\\Local\\Continuum\\anaconda3\\lib\\site-packages\\sklearn\\ensemble\\forest.py:246: FutureWarning: The default value of n_estimators will change from 10 in version 0.20 to 100 in 0.22.\n",
      "  \"10 in version 0.20 to 100 in 0.22.\", FutureWarning)\n",
      "C:\\Users\\USER\\AppData\\Local\\Continuum\\anaconda3\\lib\\site-packages\\sklearn\\ensemble\\forest.py:246: FutureWarning: The default value of n_estimators will change from 10 in version 0.20 to 100 in 0.22.\n",
      "  \"10 in version 0.20 to 100 in 0.22.\", FutureWarning)\n",
      "C:\\Users\\USER\\AppData\\Local\\Continuum\\anaconda3\\lib\\site-packages\\sklearn\\ensemble\\forest.py:246: FutureWarning: The default value of n_estimators will change from 10 in version 0.20 to 100 in 0.22.\n",
      "  \"10 in version 0.20 to 100 in 0.22.\", FutureWarning)\n",
      "C:\\Users\\USER\\AppData\\Local\\Continuum\\anaconda3\\lib\\site-packages\\sklearn\\ensemble\\forest.py:246: FutureWarning: The default value of n_estimators will change from 10 in version 0.20 to 100 in 0.22.\n",
      "  \"10 in version 0.20 to 100 in 0.22.\", FutureWarning)\n",
      "C:\\Users\\USER\\AppData\\Local\\Continuum\\anaconda3\\lib\\site-packages\\sklearn\\ensemble\\forest.py:246: FutureWarning: The default value of n_estimators will change from 10 in version 0.20 to 100 in 0.22.\n",
      "  \"10 in version 0.20 to 100 in 0.22.\", FutureWarning)\n",
      "C:\\Users\\USER\\AppData\\Local\\Continuum\\anaconda3\\lib\\site-packages\\sklearn\\ensemble\\forest.py:246: FutureWarning: The default value of n_estimators will change from 10 in version 0.20 to 100 in 0.22.\n",
      "  \"10 in version 0.20 to 100 in 0.22.\", FutureWarning)\n",
      "C:\\Users\\USER\\AppData\\Local\\Continuum\\anaconda3\\lib\\site-packages\\sklearn\\ensemble\\forest.py:246: FutureWarning: The default value of n_estimators will change from 10 in version 0.20 to 100 in 0.22.\n",
      "  \"10 in version 0.20 to 100 in 0.22.\", FutureWarning)\n",
      "C:\\Users\\USER\\AppData\\Local\\Continuum\\anaconda3\\lib\\site-packages\\sklearn\\ensemble\\forest.py:246: FutureWarning: The default value of n_estimators will change from 10 in version 0.20 to 100 in 0.22.\n",
      "  \"10 in version 0.20 to 100 in 0.22.\", FutureWarning)\n",
      "C:\\Users\\USER\\AppData\\Local\\Continuum\\anaconda3\\lib\\site-packages\\sklearn\\ensemble\\forest.py:246: FutureWarning: The default value of n_estimators will change from 10 in version 0.20 to 100 in 0.22.\n",
      "  \"10 in version 0.20 to 100 in 0.22.\", FutureWarning)\n",
      "C:\\Users\\USER\\AppData\\Local\\Continuum\\anaconda3\\lib\\site-packages\\sklearn\\ensemble\\forest.py:246: FutureWarning: The default value of n_estimators will change from 10 in version 0.20 to 100 in 0.22.\n",
      "  \"10 in version 0.20 to 100 in 0.22.\", FutureWarning)\n",
      "C:\\Users\\USER\\AppData\\Local\\Continuum\\anaconda3\\lib\\site-packages\\sklearn\\ensemble\\forest.py:246: FutureWarning: The default value of n_estimators will change from 10 in version 0.20 to 100 in 0.22.\n",
      "  \"10 in version 0.20 to 100 in 0.22.\", FutureWarning)\n",
      "C:\\Users\\USER\\AppData\\Local\\Continuum\\anaconda3\\lib\\site-packages\\sklearn\\ensemble\\forest.py:246: FutureWarning: The default value of n_estimators will change from 10 in version 0.20 to 100 in 0.22.\n",
      "  \"10 in version 0.20 to 100 in 0.22.\", FutureWarning)\n",
      "C:\\Users\\USER\\AppData\\Local\\Continuum\\anaconda3\\lib\\site-packages\\sklearn\\ensemble\\forest.py:246: FutureWarning: The default value of n_estimators will change from 10 in version 0.20 to 100 in 0.22.\n",
      "  \"10 in version 0.20 to 100 in 0.22.\", FutureWarning)\n",
      "C:\\Users\\USER\\AppData\\Local\\Continuum\\anaconda3\\lib\\site-packages\\sklearn\\ensemble\\forest.py:246: FutureWarning: The default value of n_estimators will change from 10 in version 0.20 to 100 in 0.22.\n",
      "  \"10 in version 0.20 to 100 in 0.22.\", FutureWarning)\n",
      "C:\\Users\\USER\\AppData\\Local\\Continuum\\anaconda3\\lib\\site-packages\\sklearn\\ensemble\\forest.py:246: FutureWarning: The default value of n_estimators will change from 10 in version 0.20 to 100 in 0.22.\n",
      "  \"10 in version 0.20 to 100 in 0.22.\", FutureWarning)\n",
      "C:\\Users\\USER\\AppData\\Local\\Continuum\\anaconda3\\lib\\site-packages\\sklearn\\ensemble\\forest.py:246: FutureWarning: The default value of n_estimators will change from 10 in version 0.20 to 100 in 0.22.\n",
      "  \"10 in version 0.20 to 100 in 0.22.\", FutureWarning)\n",
      "C:\\Users\\USER\\AppData\\Local\\Continuum\\anaconda3\\lib\\site-packages\\sklearn\\ensemble\\forest.py:246: FutureWarning: The default value of n_estimators will change from 10 in version 0.20 to 100 in 0.22.\n",
      "  \"10 in version 0.20 to 100 in 0.22.\", FutureWarning)\n",
      "C:\\Users\\USER\\AppData\\Local\\Continuum\\anaconda3\\lib\\site-packages\\sklearn\\ensemble\\forest.py:246: FutureWarning: The default value of n_estimators will change from 10 in version 0.20 to 100 in 0.22.\n",
      "  \"10 in version 0.20 to 100 in 0.22.\", FutureWarning)\n",
      "C:\\Users\\USER\\AppData\\Local\\Continuum\\anaconda3\\lib\\site-packages\\sklearn\\ensemble\\forest.py:246: FutureWarning: The default value of n_estimators will change from 10 in version 0.20 to 100 in 0.22.\n",
      "  \"10 in version 0.20 to 100 in 0.22.\", FutureWarning)\n"
     ]
    },
    {
     "name": "stderr",
     "output_type": "stream",
     "text": [
      "C:\\Users\\USER\\AppData\\Local\\Continuum\\anaconda3\\lib\\site-packages\\sklearn\\ensemble\\forest.py:246: FutureWarning: The default value of n_estimators will change from 10 in version 0.20 to 100 in 0.22.\n",
      "  \"10 in version 0.20 to 100 in 0.22.\", FutureWarning)\n",
      "C:\\Users\\USER\\AppData\\Local\\Continuum\\anaconda3\\lib\\site-packages\\sklearn\\ensemble\\forest.py:246: FutureWarning: The default value of n_estimators will change from 10 in version 0.20 to 100 in 0.22.\n",
      "  \"10 in version 0.20 to 100 in 0.22.\", FutureWarning)\n",
      "C:\\Users\\USER\\AppData\\Local\\Continuum\\anaconda3\\lib\\site-packages\\sklearn\\ensemble\\forest.py:246: FutureWarning: The default value of n_estimators will change from 10 in version 0.20 to 100 in 0.22.\n",
      "  \"10 in version 0.20 to 100 in 0.22.\", FutureWarning)\n",
      "C:\\Users\\USER\\AppData\\Local\\Continuum\\anaconda3\\lib\\site-packages\\sklearn\\ensemble\\forest.py:246: FutureWarning: The default value of n_estimators will change from 10 in version 0.20 to 100 in 0.22.\n",
      "  \"10 in version 0.20 to 100 in 0.22.\", FutureWarning)\n",
      "C:\\Users\\USER\\AppData\\Local\\Continuum\\anaconda3\\lib\\site-packages\\sklearn\\ensemble\\forest.py:246: FutureWarning: The default value of n_estimators will change from 10 in version 0.20 to 100 in 0.22.\n",
      "  \"10 in version 0.20 to 100 in 0.22.\", FutureWarning)\n",
      "C:\\Users\\USER\\AppData\\Local\\Continuum\\anaconda3\\lib\\site-packages\\sklearn\\ensemble\\forest.py:246: FutureWarning: The default value of n_estimators will change from 10 in version 0.20 to 100 in 0.22.\n",
      "  \"10 in version 0.20 to 100 in 0.22.\", FutureWarning)\n",
      "C:\\Users\\USER\\AppData\\Local\\Continuum\\anaconda3\\lib\\site-packages\\sklearn\\ensemble\\forest.py:246: FutureWarning: The default value of n_estimators will change from 10 in version 0.20 to 100 in 0.22.\n",
      "  \"10 in version 0.20 to 100 in 0.22.\", FutureWarning)\n",
      "C:\\Users\\USER\\AppData\\Local\\Continuum\\anaconda3\\lib\\site-packages\\sklearn\\ensemble\\forest.py:246: FutureWarning: The default value of n_estimators will change from 10 in version 0.20 to 100 in 0.22.\n",
      "  \"10 in version 0.20 to 100 in 0.22.\", FutureWarning)\n",
      "C:\\Users\\USER\\AppData\\Local\\Continuum\\anaconda3\\lib\\site-packages\\sklearn\\ensemble\\forest.py:246: FutureWarning: The default value of n_estimators will change from 10 in version 0.20 to 100 in 0.22.\n",
      "  \"10 in version 0.20 to 100 in 0.22.\", FutureWarning)\n",
      "C:\\Users\\USER\\AppData\\Local\\Continuum\\anaconda3\\lib\\site-packages\\sklearn\\ensemble\\forest.py:246: FutureWarning: The default value of n_estimators will change from 10 in version 0.20 to 100 in 0.22.\n",
      "  \"10 in version 0.20 to 100 in 0.22.\", FutureWarning)\n",
      "C:\\Users\\USER\\AppData\\Local\\Continuum\\anaconda3\\lib\\site-packages\\sklearn\\ensemble\\forest.py:246: FutureWarning: The default value of n_estimators will change from 10 in version 0.20 to 100 in 0.22.\n",
      "  \"10 in version 0.20 to 100 in 0.22.\", FutureWarning)\n",
      "C:\\Users\\USER\\AppData\\Local\\Continuum\\anaconda3\\lib\\site-packages\\sklearn\\ensemble\\forest.py:246: FutureWarning: The default value of n_estimators will change from 10 in version 0.20 to 100 in 0.22.\n",
      "  \"10 in version 0.20 to 100 in 0.22.\", FutureWarning)\n",
      "C:\\Users\\USER\\AppData\\Local\\Continuum\\anaconda3\\lib\\site-packages\\sklearn\\ensemble\\forest.py:246: FutureWarning: The default value of n_estimators will change from 10 in version 0.20 to 100 in 0.22.\n",
      "  \"10 in version 0.20 to 100 in 0.22.\", FutureWarning)\n",
      "C:\\Users\\USER\\AppData\\Local\\Continuum\\anaconda3\\lib\\site-packages\\sklearn\\ensemble\\forest.py:246: FutureWarning: The default value of n_estimators will change from 10 in version 0.20 to 100 in 0.22.\n",
      "  \"10 in version 0.20 to 100 in 0.22.\", FutureWarning)\n",
      "C:\\Users\\USER\\AppData\\Local\\Continuum\\anaconda3\\lib\\site-packages\\sklearn\\ensemble\\forest.py:246: FutureWarning: The default value of n_estimators will change from 10 in version 0.20 to 100 in 0.22.\n",
      "  \"10 in version 0.20 to 100 in 0.22.\", FutureWarning)\n",
      "C:\\Users\\USER\\AppData\\Local\\Continuum\\anaconda3\\lib\\site-packages\\sklearn\\ensemble\\forest.py:246: FutureWarning: The default value of n_estimators will change from 10 in version 0.20 to 100 in 0.22.\n",
      "  \"10 in version 0.20 to 100 in 0.22.\", FutureWarning)\n",
      "C:\\Users\\USER\\AppData\\Local\\Continuum\\anaconda3\\lib\\site-packages\\sklearn\\ensemble\\forest.py:246: FutureWarning: The default value of n_estimators will change from 10 in version 0.20 to 100 in 0.22.\n",
      "  \"10 in version 0.20 to 100 in 0.22.\", FutureWarning)\n",
      "C:\\Users\\USER\\AppData\\Local\\Continuum\\anaconda3\\lib\\site-packages\\sklearn\\ensemble\\forest.py:246: FutureWarning: The default value of n_estimators will change from 10 in version 0.20 to 100 in 0.22.\n",
      "  \"10 in version 0.20 to 100 in 0.22.\", FutureWarning)\n",
      "C:\\Users\\USER\\AppData\\Local\\Continuum\\anaconda3\\lib\\site-packages\\sklearn\\ensemble\\forest.py:246: FutureWarning: The default value of n_estimators will change from 10 in version 0.20 to 100 in 0.22.\n",
      "  \"10 in version 0.20 to 100 in 0.22.\", FutureWarning)\n",
      "C:\\Users\\USER\\AppData\\Local\\Continuum\\anaconda3\\lib\\site-packages\\sklearn\\ensemble\\forest.py:246: FutureWarning: The default value of n_estimators will change from 10 in version 0.20 to 100 in 0.22.\n",
      "  \"10 in version 0.20 to 100 in 0.22.\", FutureWarning)\n",
      "C:\\Users\\USER\\AppData\\Local\\Continuum\\anaconda3\\lib\\site-packages\\sklearn\\ensemble\\forest.py:246: FutureWarning: The default value of n_estimators will change from 10 in version 0.20 to 100 in 0.22.\n",
      "  \"10 in version 0.20 to 100 in 0.22.\", FutureWarning)\n",
      "C:\\Users\\USER\\AppData\\Local\\Continuum\\anaconda3\\lib\\site-packages\\sklearn\\ensemble\\forest.py:246: FutureWarning: The default value of n_estimators will change from 10 in version 0.20 to 100 in 0.22.\n",
      "  \"10 in version 0.20 to 100 in 0.22.\", FutureWarning)\n",
      "C:\\Users\\USER\\AppData\\Local\\Continuum\\anaconda3\\lib\\site-packages\\sklearn\\ensemble\\forest.py:246: FutureWarning: The default value of n_estimators will change from 10 in version 0.20 to 100 in 0.22.\n",
      "  \"10 in version 0.20 to 100 in 0.22.\", FutureWarning)\n",
      "C:\\Users\\USER\\AppData\\Local\\Continuum\\anaconda3\\lib\\site-packages\\sklearn\\ensemble\\forest.py:246: FutureWarning: The default value of n_estimators will change from 10 in version 0.20 to 100 in 0.22.\n",
      "  \"10 in version 0.20 to 100 in 0.22.\", FutureWarning)\n",
      "C:\\Users\\USER\\AppData\\Local\\Continuum\\anaconda3\\lib\\site-packages\\sklearn\\ensemble\\forest.py:246: FutureWarning: The default value of n_estimators will change from 10 in version 0.20 to 100 in 0.22.\n",
      "  \"10 in version 0.20 to 100 in 0.22.\", FutureWarning)\n",
      "C:\\Users\\USER\\AppData\\Local\\Continuum\\anaconda3\\lib\\site-packages\\sklearn\\ensemble\\forest.py:246: FutureWarning: The default value of n_estimators will change from 10 in version 0.20 to 100 in 0.22.\n",
      "  \"10 in version 0.20 to 100 in 0.22.\", FutureWarning)\n",
      "C:\\Users\\USER\\AppData\\Local\\Continuum\\anaconda3\\lib\\site-packages\\sklearn\\ensemble\\forest.py:246: FutureWarning: The default value of n_estimators will change from 10 in version 0.20 to 100 in 0.22.\n",
      "  \"10 in version 0.20 to 100 in 0.22.\", FutureWarning)\n",
      "C:\\Users\\USER\\AppData\\Local\\Continuum\\anaconda3\\lib\\site-packages\\sklearn\\ensemble\\forest.py:246: FutureWarning: The default value of n_estimators will change from 10 in version 0.20 to 100 in 0.22.\n",
      "  \"10 in version 0.20 to 100 in 0.22.\", FutureWarning)\n",
      "C:\\Users\\USER\\AppData\\Local\\Continuum\\anaconda3\\lib\\site-packages\\sklearn\\ensemble\\forest.py:246: FutureWarning: The default value of n_estimators will change from 10 in version 0.20 to 100 in 0.22.\n",
      "  \"10 in version 0.20 to 100 in 0.22.\", FutureWarning)\n",
      "C:\\Users\\USER\\AppData\\Local\\Continuum\\anaconda3\\lib\\site-packages\\sklearn\\ensemble\\forest.py:246: FutureWarning: The default value of n_estimators will change from 10 in version 0.20 to 100 in 0.22.\n",
      "  \"10 in version 0.20 to 100 in 0.22.\", FutureWarning)\n",
      "C:\\Users\\USER\\AppData\\Local\\Continuum\\anaconda3\\lib\\site-packages\\sklearn\\ensemble\\forest.py:246: FutureWarning: The default value of n_estimators will change from 10 in version 0.20 to 100 in 0.22.\n",
      "  \"10 in version 0.20 to 100 in 0.22.\", FutureWarning)\n",
      "C:\\Users\\USER\\AppData\\Local\\Continuum\\anaconda3\\lib\\site-packages\\sklearn\\ensemble\\forest.py:246: FutureWarning: The default value of n_estimators will change from 10 in version 0.20 to 100 in 0.22.\n",
      "  \"10 in version 0.20 to 100 in 0.22.\", FutureWarning)\n",
      "C:\\Users\\USER\\AppData\\Local\\Continuum\\anaconda3\\lib\\site-packages\\sklearn\\ensemble\\forest.py:246: FutureWarning: The default value of n_estimators will change from 10 in version 0.20 to 100 in 0.22.\n",
      "  \"10 in version 0.20 to 100 in 0.22.\", FutureWarning)\n"
     ]
    },
    {
     "name": "stderr",
     "output_type": "stream",
     "text": [
      "C:\\Users\\USER\\AppData\\Local\\Continuum\\anaconda3\\lib\\site-packages\\sklearn\\ensemble\\forest.py:246: FutureWarning: The default value of n_estimators will change from 10 in version 0.20 to 100 in 0.22.\n",
      "  \"10 in version 0.20 to 100 in 0.22.\", FutureWarning)\n",
      "C:\\Users\\USER\\AppData\\Local\\Continuum\\anaconda3\\lib\\site-packages\\sklearn\\ensemble\\forest.py:246: FutureWarning: The default value of n_estimators will change from 10 in version 0.20 to 100 in 0.22.\n",
      "  \"10 in version 0.20 to 100 in 0.22.\", FutureWarning)\n",
      "C:\\Users\\USER\\AppData\\Local\\Continuum\\anaconda3\\lib\\site-packages\\sklearn\\ensemble\\forest.py:246: FutureWarning: The default value of n_estimators will change from 10 in version 0.20 to 100 in 0.22.\n",
      "  \"10 in version 0.20 to 100 in 0.22.\", FutureWarning)\n",
      "C:\\Users\\USER\\AppData\\Local\\Continuum\\anaconda3\\lib\\site-packages\\sklearn\\ensemble\\forest.py:246: FutureWarning: The default value of n_estimators will change from 10 in version 0.20 to 100 in 0.22.\n",
      "  \"10 in version 0.20 to 100 in 0.22.\", FutureWarning)\n",
      "C:\\Users\\USER\\AppData\\Local\\Continuum\\anaconda3\\lib\\site-packages\\sklearn\\ensemble\\forest.py:246: FutureWarning: The default value of n_estimators will change from 10 in version 0.20 to 100 in 0.22.\n",
      "  \"10 in version 0.20 to 100 in 0.22.\", FutureWarning)\n",
      "C:\\Users\\USER\\AppData\\Local\\Continuum\\anaconda3\\lib\\site-packages\\sklearn\\ensemble\\forest.py:246: FutureWarning: The default value of n_estimators will change from 10 in version 0.20 to 100 in 0.22.\n",
      "  \"10 in version 0.20 to 100 in 0.22.\", FutureWarning)\n",
      "C:\\Users\\USER\\AppData\\Local\\Continuum\\anaconda3\\lib\\site-packages\\sklearn\\ensemble\\forest.py:246: FutureWarning: The default value of n_estimators will change from 10 in version 0.20 to 100 in 0.22.\n",
      "  \"10 in version 0.20 to 100 in 0.22.\", FutureWarning)\n",
      "C:\\Users\\USER\\AppData\\Local\\Continuum\\anaconda3\\lib\\site-packages\\sklearn\\ensemble\\forest.py:246: FutureWarning: The default value of n_estimators will change from 10 in version 0.20 to 100 in 0.22.\n",
      "  \"10 in version 0.20 to 100 in 0.22.\", FutureWarning)\n",
      "C:\\Users\\USER\\AppData\\Local\\Continuum\\anaconda3\\lib\\site-packages\\sklearn\\ensemble\\forest.py:246: FutureWarning: The default value of n_estimators will change from 10 in version 0.20 to 100 in 0.22.\n",
      "  \"10 in version 0.20 to 100 in 0.22.\", FutureWarning)\n",
      "C:\\Users\\USER\\AppData\\Local\\Continuum\\anaconda3\\lib\\site-packages\\sklearn\\ensemble\\forest.py:246: FutureWarning: The default value of n_estimators will change from 10 in version 0.20 to 100 in 0.22.\n",
      "  \"10 in version 0.20 to 100 in 0.22.\", FutureWarning)\n",
      "C:\\Users\\USER\\AppData\\Local\\Continuum\\anaconda3\\lib\\site-packages\\sklearn\\ensemble\\forest.py:246: FutureWarning: The default value of n_estimators will change from 10 in version 0.20 to 100 in 0.22.\n",
      "  \"10 in version 0.20 to 100 in 0.22.\", FutureWarning)\n",
      "C:\\Users\\USER\\AppData\\Local\\Continuum\\anaconda3\\lib\\site-packages\\sklearn\\ensemble\\forest.py:246: FutureWarning: The default value of n_estimators will change from 10 in version 0.20 to 100 in 0.22.\n",
      "  \"10 in version 0.20 to 100 in 0.22.\", FutureWarning)\n",
      "C:\\Users\\USER\\AppData\\Local\\Continuum\\anaconda3\\lib\\site-packages\\sklearn\\ensemble\\forest.py:246: FutureWarning: The default value of n_estimators will change from 10 in version 0.20 to 100 in 0.22.\n",
      "  \"10 in version 0.20 to 100 in 0.22.\", FutureWarning)\n",
      "C:\\Users\\USER\\AppData\\Local\\Continuum\\anaconda3\\lib\\site-packages\\sklearn\\ensemble\\forest.py:246: FutureWarning: The default value of n_estimators will change from 10 in version 0.20 to 100 in 0.22.\n",
      "  \"10 in version 0.20 to 100 in 0.22.\", FutureWarning)\n",
      "C:\\Users\\USER\\AppData\\Local\\Continuum\\anaconda3\\lib\\site-packages\\sklearn\\ensemble\\forest.py:246: FutureWarning: The default value of n_estimators will change from 10 in version 0.20 to 100 in 0.22.\n",
      "  \"10 in version 0.20 to 100 in 0.22.\", FutureWarning)\n",
      "C:\\Users\\USER\\AppData\\Local\\Continuum\\anaconda3\\lib\\site-packages\\sklearn\\ensemble\\forest.py:246: FutureWarning: The default value of n_estimators will change from 10 in version 0.20 to 100 in 0.22.\n",
      "  \"10 in version 0.20 to 100 in 0.22.\", FutureWarning)\n",
      "C:\\Users\\USER\\AppData\\Local\\Continuum\\anaconda3\\lib\\site-packages\\sklearn\\ensemble\\forest.py:246: FutureWarning: The default value of n_estimators will change from 10 in version 0.20 to 100 in 0.22.\n",
      "  \"10 in version 0.20 to 100 in 0.22.\", FutureWarning)\n",
      "C:\\Users\\USER\\AppData\\Local\\Continuum\\anaconda3\\lib\\site-packages\\sklearn\\ensemble\\forest.py:246: FutureWarning: The default value of n_estimators will change from 10 in version 0.20 to 100 in 0.22.\n",
      "  \"10 in version 0.20 to 100 in 0.22.\", FutureWarning)\n",
      "C:\\Users\\USER\\AppData\\Local\\Continuum\\anaconda3\\lib\\site-packages\\sklearn\\ensemble\\forest.py:246: FutureWarning: The default value of n_estimators will change from 10 in version 0.20 to 100 in 0.22.\n",
      "  \"10 in version 0.20 to 100 in 0.22.\", FutureWarning)\n",
      "C:\\Users\\USER\\AppData\\Local\\Continuum\\anaconda3\\lib\\site-packages\\sklearn\\ensemble\\forest.py:246: FutureWarning: The default value of n_estimators will change from 10 in version 0.20 to 100 in 0.22.\n",
      "  \"10 in version 0.20 to 100 in 0.22.\", FutureWarning)\n",
      "C:\\Users\\USER\\AppData\\Local\\Continuum\\anaconda3\\lib\\site-packages\\sklearn\\ensemble\\forest.py:246: FutureWarning: The default value of n_estimators will change from 10 in version 0.20 to 100 in 0.22.\n",
      "  \"10 in version 0.20 to 100 in 0.22.\", FutureWarning)\n",
      "C:\\Users\\USER\\AppData\\Local\\Continuum\\anaconda3\\lib\\site-packages\\sklearn\\ensemble\\forest.py:246: FutureWarning: The default value of n_estimators will change from 10 in version 0.20 to 100 in 0.22.\n",
      "  \"10 in version 0.20 to 100 in 0.22.\", FutureWarning)\n"
     ]
    },
    {
     "name": "stdout",
     "output_type": "stream",
     "text": [
      "Amount_to_std_ProviderId 0.8124250777777778\n"
     ]
    },
    {
     "name": "stderr",
     "output_type": "stream",
     "text": [
      "C:\\Users\\USER\\AppData\\Local\\Continuum\\anaconda3\\lib\\site-packages\\sklearn\\ensemble\\forest.py:246: FutureWarning: The default value of n_estimators will change from 10 in version 0.20 to 100 in 0.22.\n",
      "  \"10 in version 0.20 to 100 in 0.22.\", FutureWarning)\n",
      "C:\\Users\\USER\\AppData\\Local\\Continuum\\anaconda3\\lib\\site-packages\\sklearn\\ensemble\\forest.py:246: FutureWarning: The default value of n_estimators will change from 10 in version 0.20 to 100 in 0.22.\n",
      "  \"10 in version 0.20 to 100 in 0.22.\", FutureWarning)\n"
     ]
    },
    {
     "name": "stdout",
     "output_type": "stream",
     "text": [
      "Amount_to_mean_PricingStrategy 0.8291174555555556\n"
     ]
    },
    {
     "name": "stderr",
     "output_type": "stream",
     "text": [
      "C:\\Users\\USER\\AppData\\Local\\Continuum\\anaconda3\\lib\\site-packages\\sklearn\\ensemble\\forest.py:246: FutureWarning: The default value of n_estimators will change from 10 in version 0.20 to 100 in 0.22.\n",
      "  \"10 in version 0.20 to 100 in 0.22.\", FutureWarning)\n",
      "C:\\Users\\USER\\AppData\\Local\\Continuum\\anaconda3\\lib\\site-packages\\sklearn\\ensemble\\forest.py:246: FutureWarning: The default value of n_estimators will change from 10 in version 0.20 to 100 in 0.22.\n",
      "  \"10 in version 0.20 to 100 in 0.22.\", FutureWarning)\n"
     ]
    },
    {
     "name": "stdout",
     "output_type": "stream",
     "text": [
      "Amount_to_std_PricingStrategy 0.8264664488888889\n"
     ]
    },
    {
     "name": "stderr",
     "output_type": "stream",
     "text": [
      "C:\\Users\\USER\\AppData\\Local\\Continuum\\anaconda3\\lib\\site-packages\\sklearn\\ensemble\\forest.py:246: FutureWarning: The default value of n_estimators will change from 10 in version 0.20 to 100 in 0.22.\n",
      "  \"10 in version 0.20 to 100 in 0.22.\", FutureWarning)\n",
      "C:\\Users\\USER\\AppData\\Local\\Continuum\\anaconda3\\lib\\site-packages\\sklearn\\ensemble\\forest.py:246: FutureWarning: The default value of n_estimators will change from 10 in version 0.20 to 100 in 0.22.\n",
      "  \"10 in version 0.20 to 100 in 0.22.\", FutureWarning)\n",
      "C:\\Users\\USER\\AppData\\Local\\Continuum\\anaconda3\\lib\\site-packages\\sklearn\\ensemble\\forest.py:246: FutureWarning: The default value of n_estimators will change from 10 in version 0.20 to 100 in 0.22.\n",
      "  \"10 in version 0.20 to 100 in 0.22.\", FutureWarning)\n",
      "C:\\Users\\USER\\AppData\\Local\\Continuum\\anaconda3\\lib\\site-packages\\sklearn\\ensemble\\forest.py:246: FutureWarning: The default value of n_estimators will change from 10 in version 0.20 to 100 in 0.22.\n",
      "  \"10 in version 0.20 to 100 in 0.22.\", FutureWarning)\n"
     ]
    },
    {
     "name": "stdout",
     "output_type": "stream",
     "text": [
      "Amount_to_std_ProductCategory 0.8210283244444443\n"
     ]
    },
    {
     "name": "stderr",
     "output_type": "stream",
     "text": [
      "C:\\Users\\USER\\AppData\\Local\\Continuum\\anaconda3\\lib\\site-packages\\sklearn\\ensemble\\forest.py:246: FutureWarning: The default value of n_estimators will change from 10 in version 0.20 to 100 in 0.22.\n",
      "  \"10 in version 0.20 to 100 in 0.22.\", FutureWarning)\n",
      "C:\\Users\\USER\\AppData\\Local\\Continuum\\anaconda3\\lib\\site-packages\\sklearn\\ensemble\\forest.py:246: FutureWarning: The default value of n_estimators will change from 10 in version 0.20 to 100 in 0.22.\n",
      "  \"10 in version 0.20 to 100 in 0.22.\", FutureWarning)\n"
     ]
    },
    {
     "name": "stdout",
     "output_type": "stream",
     "text": [
      "Amount_to_mean_ChannelId 0.8327858577777778\n"
     ]
    },
    {
     "name": "stderr",
     "output_type": "stream",
     "text": [
      "C:\\Users\\USER\\AppData\\Local\\Continuum\\anaconda3\\lib\\site-packages\\sklearn\\ensemble\\forest.py:246: FutureWarning: The default value of n_estimators will change from 10 in version 0.20 to 100 in 0.22.\n",
      "  \"10 in version 0.20 to 100 in 0.22.\", FutureWarning)\n",
      "C:\\Users\\USER\\AppData\\Local\\Continuum\\anaconda3\\lib\\site-packages\\sklearn\\ensemble\\forest.py:246: FutureWarning: The default value of n_estimators will change from 10 in version 0.20 to 100 in 0.22.\n",
      "  \"10 in version 0.20 to 100 in 0.22.\", FutureWarning)\n"
     ]
    },
    {
     "name": "stdout",
     "output_type": "stream",
     "text": [
      "Amount_to_std_ChannelId 0.8014915377777777\n"
     ]
    },
    {
     "name": "stderr",
     "output_type": "stream",
     "text": [
      "C:\\Users\\USER\\AppData\\Local\\Continuum\\anaconda3\\lib\\site-packages\\sklearn\\ensemble\\forest.py:246: FutureWarning: The default value of n_estimators will change from 10 in version 0.20 to 100 in 0.22.\n",
      "  \"10 in version 0.20 to 100 in 0.22.\", FutureWarning)\n",
      "C:\\Users\\USER\\AppData\\Local\\Continuum\\anaconda3\\lib\\site-packages\\sklearn\\ensemble\\forest.py:246: FutureWarning: The default value of n_estimators will change from 10 in version 0.20 to 100 in 0.22.\n",
      "  \"10 in version 0.20 to 100 in 0.22.\", FutureWarning)\n",
      "C:\\Users\\USER\\AppData\\Local\\Continuum\\anaconda3\\lib\\site-packages\\sklearn\\ensemble\\forest.py:246: FutureWarning: The default value of n_estimators will change from 10 in version 0.20 to 100 in 0.22.\n",
      "  \"10 in version 0.20 to 100 in 0.22.\", FutureWarning)\n",
      "C:\\Users\\USER\\AppData\\Local\\Continuum\\anaconda3\\lib\\site-packages\\sklearn\\ensemble\\forest.py:246: FutureWarning: The default value of n_estimators will change from 10 in version 0.20 to 100 in 0.22.\n",
      "  \"10 in version 0.20 to 100 in 0.22.\", FutureWarning)\n",
      "C:\\Users\\USER\\AppData\\Local\\Continuum\\anaconda3\\lib\\site-packages\\sklearn\\ensemble\\forest.py:246: FutureWarning: The default value of n_estimators will change from 10 in version 0.20 to 100 in 0.22.\n",
      "  \"10 in version 0.20 to 100 in 0.22.\", FutureWarning)\n",
      "C:\\Users\\USER\\AppData\\Local\\Continuum\\anaconda3\\lib\\site-packages\\sklearn\\ensemble\\forest.py:246: FutureWarning: The default value of n_estimators will change from 10 in version 0.20 to 100 in 0.22.\n",
      "  \"10 in version 0.20 to 100 in 0.22.\", FutureWarning)\n",
      "C:\\Users\\USER\\AppData\\Local\\Continuum\\anaconda3\\lib\\site-packages\\sklearn\\ensemble\\forest.py:246: FutureWarning: The default value of n_estimators will change from 10 in version 0.20 to 100 in 0.22.\n",
      "  \"10 in version 0.20 to 100 in 0.22.\", FutureWarning)\n",
      "C:\\Users\\USER\\AppData\\Local\\Continuum\\anaconda3\\lib\\site-packages\\sklearn\\ensemble\\forest.py:246: FutureWarning: The default value of n_estimators will change from 10 in version 0.20 to 100 in 0.22.\n",
      "  \"10 in version 0.20 to 100 in 0.22.\", FutureWarning)\n",
      "C:\\Users\\USER\\AppData\\Local\\Continuum\\anaconda3\\lib\\site-packages\\sklearn\\ensemble\\forest.py:246: FutureWarning: The default value of n_estimators will change from 10 in version 0.20 to 100 in 0.22.\n",
      "  \"10 in version 0.20 to 100 in 0.22.\", FutureWarning)\n",
      "C:\\Users\\USER\\AppData\\Local\\Continuum\\anaconda3\\lib\\site-packages\\sklearn\\ensemble\\forest.py:246: FutureWarning: The default value of n_estimators will change from 10 in version 0.20 to 100 in 0.22.\n",
      "  \"10 in version 0.20 to 100 in 0.22.\", FutureWarning)\n",
      "C:\\Users\\USER\\AppData\\Local\\Continuum\\anaconda3\\lib\\site-packages\\sklearn\\ensemble\\forest.py:246: FutureWarning: The default value of n_estimators will change from 10 in version 0.20 to 100 in 0.22.\n",
      "  \"10 in version 0.20 to 100 in 0.22.\", FutureWarning)\n",
      "C:\\Users\\USER\\AppData\\Local\\Continuum\\anaconda3\\lib\\site-packages\\sklearn\\ensemble\\forest.py:246: FutureWarning: The default value of n_estimators will change from 10 in version 0.20 to 100 in 0.22.\n",
      "  \"10 in version 0.20 to 100 in 0.22.\", FutureWarning)\n",
      "C:\\Users\\USER\\AppData\\Local\\Continuum\\anaconda3\\lib\\site-packages\\sklearn\\ensemble\\forest.py:246: FutureWarning: The default value of n_estimators will change from 10 in version 0.20 to 100 in 0.22.\n",
      "  \"10 in version 0.20 to 100 in 0.22.\", FutureWarning)\n",
      "C:\\Users\\USER\\AppData\\Local\\Continuum\\anaconda3\\lib\\site-packages\\sklearn\\ensemble\\forest.py:246: FutureWarning: The default value of n_estimators will change from 10 in version 0.20 to 100 in 0.22.\n",
      "  \"10 in version 0.20 to 100 in 0.22.\", FutureWarning)\n",
      "C:\\Users\\USER\\AppData\\Local\\Continuum\\anaconda3\\lib\\site-packages\\sklearn\\ensemble\\forest.py:246: FutureWarning: The default value of n_estimators will change from 10 in version 0.20 to 100 in 0.22.\n",
      "  \"10 in version 0.20 to 100 in 0.22.\", FutureWarning)\n",
      "C:\\Users\\USER\\AppData\\Local\\Continuum\\anaconda3\\lib\\site-packages\\sklearn\\ensemble\\forest.py:246: FutureWarning: The default value of n_estimators will change from 10 in version 0.20 to 100 in 0.22.\n",
      "  \"10 in version 0.20 to 100 in 0.22.\", FutureWarning)\n",
      "C:\\Users\\USER\\AppData\\Local\\Continuum\\anaconda3\\lib\\site-packages\\sklearn\\ensemble\\forest.py:246: FutureWarning: The default value of n_estimators will change from 10 in version 0.20 to 100 in 0.22.\n",
      "  \"10 in version 0.20 to 100 in 0.22.\", FutureWarning)\n",
      "C:\\Users\\USER\\AppData\\Local\\Continuum\\anaconda3\\lib\\site-packages\\sklearn\\ensemble\\forest.py:246: FutureWarning: The default value of n_estimators will change from 10 in version 0.20 to 100 in 0.22.\n",
      "  \"10 in version 0.20 to 100 in 0.22.\", FutureWarning)\n",
      "C:\\Users\\USER\\AppData\\Local\\Continuum\\anaconda3\\lib\\site-packages\\sklearn\\ensemble\\forest.py:246: FutureWarning: The default value of n_estimators will change from 10 in version 0.20 to 100 in 0.22.\n",
      "  \"10 in version 0.20 to 100 in 0.22.\", FutureWarning)\n",
      "C:\\Users\\USER\\AppData\\Local\\Continuum\\anaconda3\\lib\\site-packages\\sklearn\\ensemble\\forest.py:246: FutureWarning: The default value of n_estimators will change from 10 in version 0.20 to 100 in 0.22.\n",
      "  \"10 in version 0.20 to 100 in 0.22.\", FutureWarning)\n",
      "C:\\Users\\USER\\AppData\\Local\\Continuum\\anaconda3\\lib\\site-packages\\sklearn\\ensemble\\forest.py:246: FutureWarning: The default value of n_estimators will change from 10 in version 0.20 to 100 in 0.22.\n",
      "  \"10 in version 0.20 to 100 in 0.22.\", FutureWarning)\n",
      "C:\\Users\\USER\\AppData\\Local\\Continuum\\anaconda3\\lib\\site-packages\\sklearn\\ensemble\\forest.py:246: FutureWarning: The default value of n_estimators will change from 10 in version 0.20 to 100 in 0.22.\n",
      "  \"10 in version 0.20 to 100 in 0.22.\", FutureWarning)\n",
      "C:\\Users\\USER\\AppData\\Local\\Continuum\\anaconda3\\lib\\site-packages\\sklearn\\ensemble\\forest.py:246: FutureWarning: The default value of n_estimators will change from 10 in version 0.20 to 100 in 0.22.\n",
      "  \"10 in version 0.20 to 100 in 0.22.\", FutureWarning)\n",
      "C:\\Users\\USER\\AppData\\Local\\Continuum\\anaconda3\\lib\\site-packages\\sklearn\\ensemble\\forest.py:246: FutureWarning: The default value of n_estimators will change from 10 in version 0.20 to 100 in 0.22.\n",
      "  \"10 in version 0.20 to 100 in 0.22.\", FutureWarning)\n",
      "C:\\Users\\USER\\AppData\\Local\\Continuum\\anaconda3\\lib\\site-packages\\sklearn\\ensemble\\forest.py:246: FutureWarning: The default value of n_estimators will change from 10 in version 0.20 to 100 in 0.22.\n",
      "  \"10 in version 0.20 to 100 in 0.22.\", FutureWarning)\n",
      "C:\\Users\\USER\\AppData\\Local\\Continuum\\anaconda3\\lib\\site-packages\\sklearn\\ensemble\\forest.py:246: FutureWarning: The default value of n_estimators will change from 10 in version 0.20 to 100 in 0.22.\n",
      "  \"10 in version 0.20 to 100 in 0.22.\", FutureWarning)\n",
      "C:\\Users\\USER\\AppData\\Local\\Continuum\\anaconda3\\lib\\site-packages\\sklearn\\ensemble\\forest.py:246: FutureWarning: The default value of n_estimators will change from 10 in version 0.20 to 100 in 0.22.\n",
      "  \"10 in version 0.20 to 100 in 0.22.\", FutureWarning)\n",
      "C:\\Users\\USER\\AppData\\Local\\Continuum\\anaconda3\\lib\\site-packages\\sklearn\\ensemble\\forest.py:246: FutureWarning: The default value of n_estimators will change from 10 in version 0.20 to 100 in 0.22.\n",
      "  \"10 in version 0.20 to 100 in 0.22.\", FutureWarning)\n",
      "C:\\Users\\USER\\AppData\\Local\\Continuum\\anaconda3\\lib\\site-packages\\sklearn\\ensemble\\forest.py:246: FutureWarning: The default value of n_estimators will change from 10 in version 0.20 to 100 in 0.22.\n",
      "  \"10 in version 0.20 to 100 in 0.22.\", FutureWarning)\n",
      "C:\\Users\\USER\\AppData\\Local\\Continuum\\anaconda3\\lib\\site-packages\\sklearn\\ensemble\\forest.py:246: FutureWarning: The default value of n_estimators will change from 10 in version 0.20 to 100 in 0.22.\n",
      "  \"10 in version 0.20 to 100 in 0.22.\", FutureWarning)\n",
      "C:\\Users\\USER\\AppData\\Local\\Continuum\\anaconda3\\lib\\site-packages\\sklearn\\ensemble\\forest.py:246: FutureWarning: The default value of n_estimators will change from 10 in version 0.20 to 100 in 0.22.\n",
      "  \"10 in version 0.20 to 100 in 0.22.\", FutureWarning)\n",
      "C:\\Users\\USER\\AppData\\Local\\Continuum\\anaconda3\\lib\\site-packages\\sklearn\\ensemble\\forest.py:246: FutureWarning: The default value of n_estimators will change from 10 in version 0.20 to 100 in 0.22.\n",
      "  \"10 in version 0.20 to 100 in 0.22.\", FutureWarning)\n",
      "C:\\Users\\USER\\AppData\\Local\\Continuum\\anaconda3\\lib\\site-packages\\sklearn\\ensemble\\forest.py:246: FutureWarning: The default value of n_estimators will change from 10 in version 0.20 to 100 in 0.22.\n",
      "  \"10 in version 0.20 to 100 in 0.22.\", FutureWarning)\n"
     ]
    },
    {
     "name": "stderr",
     "output_type": "stream",
     "text": [
      "C:\\Users\\USER\\AppData\\Local\\Continuum\\anaconda3\\lib\\site-packages\\sklearn\\ensemble\\forest.py:246: FutureWarning: The default value of n_estimators will change from 10 in version 0.20 to 100 in 0.22.\n",
      "  \"10 in version 0.20 to 100 in 0.22.\", FutureWarning)\n",
      "C:\\Users\\USER\\AppData\\Local\\Continuum\\anaconda3\\lib\\site-packages\\sklearn\\ensemble\\forest.py:246: FutureWarning: The default value of n_estimators will change from 10 in version 0.20 to 100 in 0.22.\n",
      "  \"10 in version 0.20 to 100 in 0.22.\", FutureWarning)\n",
      "C:\\Users\\USER\\AppData\\Local\\Continuum\\anaconda3\\lib\\site-packages\\sklearn\\ensemble\\forest.py:246: FutureWarning: The default value of n_estimators will change from 10 in version 0.20 to 100 in 0.22.\n",
      "  \"10 in version 0.20 to 100 in 0.22.\", FutureWarning)\n",
      "C:\\Users\\USER\\AppData\\Local\\Continuum\\anaconda3\\lib\\site-packages\\sklearn\\ensemble\\forest.py:246: FutureWarning: The default value of n_estimators will change from 10 in version 0.20 to 100 in 0.22.\n",
      "  \"10 in version 0.20 to 100 in 0.22.\", FutureWarning)\n",
      "C:\\Users\\USER\\AppData\\Local\\Continuum\\anaconda3\\lib\\site-packages\\sklearn\\ensemble\\forest.py:246: FutureWarning: The default value of n_estimators will change from 10 in version 0.20 to 100 in 0.22.\n",
      "  \"10 in version 0.20 to 100 in 0.22.\", FutureWarning)\n",
      "C:\\Users\\USER\\AppData\\Local\\Continuum\\anaconda3\\lib\\site-packages\\sklearn\\ensemble\\forest.py:246: FutureWarning: The default value of n_estimators will change from 10 in version 0.20 to 100 in 0.22.\n",
      "  \"10 in version 0.20 to 100 in 0.22.\", FutureWarning)\n",
      "C:\\Users\\USER\\AppData\\Local\\Continuum\\anaconda3\\lib\\site-packages\\sklearn\\ensemble\\forest.py:246: FutureWarning: The default value of n_estimators will change from 10 in version 0.20 to 100 in 0.22.\n",
      "  \"10 in version 0.20 to 100 in 0.22.\", FutureWarning)\n",
      "C:\\Users\\USER\\AppData\\Local\\Continuum\\anaconda3\\lib\\site-packages\\sklearn\\ensemble\\forest.py:246: FutureWarning: The default value of n_estimators will change from 10 in version 0.20 to 100 in 0.22.\n",
      "  \"10 in version 0.20 to 100 in 0.22.\", FutureWarning)\n",
      "C:\\Users\\USER\\AppData\\Local\\Continuum\\anaconda3\\lib\\site-packages\\sklearn\\ensemble\\forest.py:246: FutureWarning: The default value of n_estimators will change from 10 in version 0.20 to 100 in 0.22.\n",
      "  \"10 in version 0.20 to 100 in 0.22.\", FutureWarning)\n",
      "C:\\Users\\USER\\AppData\\Local\\Continuum\\anaconda3\\lib\\site-packages\\sklearn\\ensemble\\forest.py:246: FutureWarning: The default value of n_estimators will change from 10 in version 0.20 to 100 in 0.22.\n",
      "  \"10 in version 0.20 to 100 in 0.22.\", FutureWarning)\n",
      "C:\\Users\\USER\\AppData\\Local\\Continuum\\anaconda3\\lib\\site-packages\\sklearn\\ensemble\\forest.py:246: FutureWarning: The default value of n_estimators will change from 10 in version 0.20 to 100 in 0.22.\n",
      "  \"10 in version 0.20 to 100 in 0.22.\", FutureWarning)\n",
      "C:\\Users\\USER\\AppData\\Local\\Continuum\\anaconda3\\lib\\site-packages\\sklearn\\ensemble\\forest.py:246: FutureWarning: The default value of n_estimators will change from 10 in version 0.20 to 100 in 0.22.\n",
      "  \"10 in version 0.20 to 100 in 0.22.\", FutureWarning)\n",
      "C:\\Users\\USER\\AppData\\Local\\Continuum\\anaconda3\\lib\\site-packages\\sklearn\\ensemble\\forest.py:246: FutureWarning: The default value of n_estimators will change from 10 in version 0.20 to 100 in 0.22.\n",
      "  \"10 in version 0.20 to 100 in 0.22.\", FutureWarning)\n",
      "C:\\Users\\USER\\AppData\\Local\\Continuum\\anaconda3\\lib\\site-packages\\sklearn\\ensemble\\forest.py:246: FutureWarning: The default value of n_estimators will change from 10 in version 0.20 to 100 in 0.22.\n",
      "  \"10 in version 0.20 to 100 in 0.22.\", FutureWarning)\n",
      "C:\\Users\\USER\\AppData\\Local\\Continuum\\anaconda3\\lib\\site-packages\\sklearn\\ensemble\\forest.py:246: FutureWarning: The default value of n_estimators will change from 10 in version 0.20 to 100 in 0.22.\n",
      "  \"10 in version 0.20 to 100 in 0.22.\", FutureWarning)\n",
      "C:\\Users\\USER\\AppData\\Local\\Continuum\\anaconda3\\lib\\site-packages\\sklearn\\ensemble\\forest.py:246: FutureWarning: The default value of n_estimators will change from 10 in version 0.20 to 100 in 0.22.\n",
      "  \"10 in version 0.20 to 100 in 0.22.\", FutureWarning)\n",
      "C:\\Users\\USER\\AppData\\Local\\Continuum\\anaconda3\\lib\\site-packages\\sklearn\\ensemble\\forest.py:246: FutureWarning: The default value of n_estimators will change from 10 in version 0.20 to 100 in 0.22.\n",
      "  \"10 in version 0.20 to 100 in 0.22.\", FutureWarning)\n",
      "C:\\Users\\USER\\AppData\\Local\\Continuum\\anaconda3\\lib\\site-packages\\sklearn\\ensemble\\forest.py:246: FutureWarning: The default value of n_estimators will change from 10 in version 0.20 to 100 in 0.22.\n",
      "  \"10 in version 0.20 to 100 in 0.22.\", FutureWarning)\n",
      "C:\\Users\\USER\\AppData\\Local\\Continuum\\anaconda3\\lib\\site-packages\\sklearn\\ensemble\\forest.py:246: FutureWarning: The default value of n_estimators will change from 10 in version 0.20 to 100 in 0.22.\n",
      "  \"10 in version 0.20 to 100 in 0.22.\", FutureWarning)\n",
      "C:\\Users\\USER\\AppData\\Local\\Continuum\\anaconda3\\lib\\site-packages\\sklearn\\ensemble\\forest.py:246: FutureWarning: The default value of n_estimators will change from 10 in version 0.20 to 100 in 0.22.\n",
      "  \"10 in version 0.20 to 100 in 0.22.\", FutureWarning)\n",
      "C:\\Users\\USER\\AppData\\Local\\Continuum\\anaconda3\\lib\\site-packages\\sklearn\\ensemble\\forest.py:246: FutureWarning: The default value of n_estimators will change from 10 in version 0.20 to 100 in 0.22.\n",
      "  \"10 in version 0.20 to 100 in 0.22.\", FutureWarning)\n",
      "C:\\Users\\USER\\AppData\\Local\\Continuum\\anaconda3\\lib\\site-packages\\sklearn\\ensemble\\forest.py:246: FutureWarning: The default value of n_estimators will change from 10 in version 0.20 to 100 in 0.22.\n",
      "  \"10 in version 0.20 to 100 in 0.22.\", FutureWarning)\n",
      "C:\\Users\\USER\\AppData\\Local\\Continuum\\anaconda3\\lib\\site-packages\\sklearn\\ensemble\\forest.py:246: FutureWarning: The default value of n_estimators will change from 10 in version 0.20 to 100 in 0.22.\n",
      "  \"10 in version 0.20 to 100 in 0.22.\", FutureWarning)\n",
      "C:\\Users\\USER\\AppData\\Local\\Continuum\\anaconda3\\lib\\site-packages\\sklearn\\ensemble\\forest.py:246: FutureWarning: The default value of n_estimators will change from 10 in version 0.20 to 100 in 0.22.\n",
      "  \"10 in version 0.20 to 100 in 0.22.\", FutureWarning)\n",
      "C:\\Users\\USER\\AppData\\Local\\Continuum\\anaconda3\\lib\\site-packages\\sklearn\\ensemble\\forest.py:246: FutureWarning: The default value of n_estimators will change from 10 in version 0.20 to 100 in 0.22.\n",
      "  \"10 in version 0.20 to 100 in 0.22.\", FutureWarning)\n",
      "C:\\Users\\USER\\AppData\\Local\\Continuum\\anaconda3\\lib\\site-packages\\sklearn\\ensemble\\forest.py:246: FutureWarning: The default value of n_estimators will change from 10 in version 0.20 to 100 in 0.22.\n",
      "  \"10 in version 0.20 to 100 in 0.22.\", FutureWarning)\n",
      "C:\\Users\\USER\\AppData\\Local\\Continuum\\anaconda3\\lib\\site-packages\\sklearn\\ensemble\\forest.py:246: FutureWarning: The default value of n_estimators will change from 10 in version 0.20 to 100 in 0.22.\n",
      "  \"10 in version 0.20 to 100 in 0.22.\", FutureWarning)\n",
      "C:\\Users\\USER\\AppData\\Local\\Continuum\\anaconda3\\lib\\site-packages\\sklearn\\ensemble\\forest.py:246: FutureWarning: The default value of n_estimators will change from 10 in version 0.20 to 100 in 0.22.\n",
      "  \"10 in version 0.20 to 100 in 0.22.\", FutureWarning)\n",
      "C:\\Users\\USER\\AppData\\Local\\Continuum\\anaconda3\\lib\\site-packages\\sklearn\\ensemble\\forest.py:246: FutureWarning: The default value of n_estimators will change from 10 in version 0.20 to 100 in 0.22.\n",
      "  \"10 in version 0.20 to 100 in 0.22.\", FutureWarning)\n",
      "C:\\Users\\USER\\AppData\\Local\\Continuum\\anaconda3\\lib\\site-packages\\sklearn\\ensemble\\forest.py:246: FutureWarning: The default value of n_estimators will change from 10 in version 0.20 to 100 in 0.22.\n",
      "  \"10 in version 0.20 to 100 in 0.22.\", FutureWarning)\n",
      "C:\\Users\\USER\\AppData\\Local\\Continuum\\anaconda3\\lib\\site-packages\\sklearn\\ensemble\\forest.py:246: FutureWarning: The default value of n_estimators will change from 10 in version 0.20 to 100 in 0.22.\n",
      "  \"10 in version 0.20 to 100 in 0.22.\", FutureWarning)\n",
      "C:\\Users\\USER\\AppData\\Local\\Continuum\\anaconda3\\lib\\site-packages\\sklearn\\ensemble\\forest.py:246: FutureWarning: The default value of n_estimators will change from 10 in version 0.20 to 100 in 0.22.\n",
      "  \"10 in version 0.20 to 100 in 0.22.\", FutureWarning)\n",
      "C:\\Users\\USER\\AppData\\Local\\Continuum\\anaconda3\\lib\\site-packages\\sklearn\\ensemble\\forest.py:246: FutureWarning: The default value of n_estimators will change from 10 in version 0.20 to 100 in 0.22.\n",
      "  \"10 in version 0.20 to 100 in 0.22.\", FutureWarning)\n"
     ]
    },
    {
     "name": "stderr",
     "output_type": "stream",
     "text": [
      "C:\\Users\\USER\\AppData\\Local\\Continuum\\anaconda3\\lib\\site-packages\\sklearn\\ensemble\\forest.py:246: FutureWarning: The default value of n_estimators will change from 10 in version 0.20 to 100 in 0.22.\n",
      "  \"10 in version 0.20 to 100 in 0.22.\", FutureWarning)\n",
      "C:\\Users\\USER\\AppData\\Local\\Continuum\\anaconda3\\lib\\site-packages\\sklearn\\ensemble\\forest.py:246: FutureWarning: The default value of n_estimators will change from 10 in version 0.20 to 100 in 0.22.\n",
      "  \"10 in version 0.20 to 100 in 0.22.\", FutureWarning)\n",
      "C:\\Users\\USER\\AppData\\Local\\Continuum\\anaconda3\\lib\\site-packages\\sklearn\\ensemble\\forest.py:246: FutureWarning: The default value of n_estimators will change from 10 in version 0.20 to 100 in 0.22.\n",
      "  \"10 in version 0.20 to 100 in 0.22.\", FutureWarning)\n",
      "C:\\Users\\USER\\AppData\\Local\\Continuum\\anaconda3\\lib\\site-packages\\sklearn\\ensemble\\forest.py:246: FutureWarning: The default value of n_estimators will change from 10 in version 0.20 to 100 in 0.22.\n",
      "  \"10 in version 0.20 to 100 in 0.22.\", FutureWarning)\n",
      "C:\\Users\\USER\\AppData\\Local\\Continuum\\anaconda3\\lib\\site-packages\\sklearn\\ensemble\\forest.py:246: FutureWarning: The default value of n_estimators will change from 10 in version 0.20 to 100 in 0.22.\n",
      "  \"10 in version 0.20 to 100 in 0.22.\", FutureWarning)\n",
      "C:\\Users\\USER\\AppData\\Local\\Continuum\\anaconda3\\lib\\site-packages\\sklearn\\ensemble\\forest.py:246: FutureWarning: The default value of n_estimators will change from 10 in version 0.20 to 100 in 0.22.\n",
      "  \"10 in version 0.20 to 100 in 0.22.\", FutureWarning)\n",
      "C:\\Users\\USER\\AppData\\Local\\Continuum\\anaconda3\\lib\\site-packages\\sklearn\\ensemble\\forest.py:246: FutureWarning: The default value of n_estimators will change from 10 in version 0.20 to 100 in 0.22.\n",
      "  \"10 in version 0.20 to 100 in 0.22.\", FutureWarning)\n",
      "C:\\Users\\USER\\AppData\\Local\\Continuum\\anaconda3\\lib\\site-packages\\sklearn\\ensemble\\forest.py:246: FutureWarning: The default value of n_estimators will change from 10 in version 0.20 to 100 in 0.22.\n",
      "  \"10 in version 0.20 to 100 in 0.22.\", FutureWarning)\n",
      "C:\\Users\\USER\\AppData\\Local\\Continuum\\anaconda3\\lib\\site-packages\\sklearn\\ensemble\\forest.py:246: FutureWarning: The default value of n_estimators will change from 10 in version 0.20 to 100 in 0.22.\n",
      "  \"10 in version 0.20 to 100 in 0.22.\", FutureWarning)\n",
      "C:\\Users\\USER\\AppData\\Local\\Continuum\\anaconda3\\lib\\site-packages\\sklearn\\ensemble\\forest.py:246: FutureWarning: The default value of n_estimators will change from 10 in version 0.20 to 100 in 0.22.\n",
      "  \"10 in version 0.20 to 100 in 0.22.\", FutureWarning)\n",
      "C:\\Users\\USER\\AppData\\Local\\Continuum\\anaconda3\\lib\\site-packages\\sklearn\\ensemble\\forest.py:246: FutureWarning: The default value of n_estimators will change from 10 in version 0.20 to 100 in 0.22.\n",
      "  \"10 in version 0.20 to 100 in 0.22.\", FutureWarning)\n",
      "C:\\Users\\USER\\AppData\\Local\\Continuum\\anaconda3\\lib\\site-packages\\sklearn\\ensemble\\forest.py:246: FutureWarning: The default value of n_estimators will change from 10 in version 0.20 to 100 in 0.22.\n",
      "  \"10 in version 0.20 to 100 in 0.22.\", FutureWarning)\n",
      "C:\\Users\\USER\\AppData\\Local\\Continuum\\anaconda3\\lib\\site-packages\\sklearn\\ensemble\\forest.py:246: FutureWarning: The default value of n_estimators will change from 10 in version 0.20 to 100 in 0.22.\n",
      "  \"10 in version 0.20 to 100 in 0.22.\", FutureWarning)\n",
      "C:\\Users\\USER\\AppData\\Local\\Continuum\\anaconda3\\lib\\site-packages\\sklearn\\ensemble\\forest.py:246: FutureWarning: The default value of n_estimators will change from 10 in version 0.20 to 100 in 0.22.\n",
      "  \"10 in version 0.20 to 100 in 0.22.\", FutureWarning)\n",
      "C:\\Users\\USER\\AppData\\Local\\Continuum\\anaconda3\\lib\\site-packages\\sklearn\\ensemble\\forest.py:246: FutureWarning: The default value of n_estimators will change from 10 in version 0.20 to 100 in 0.22.\n",
      "  \"10 in version 0.20 to 100 in 0.22.\", FutureWarning)\n",
      "C:\\Users\\USER\\AppData\\Local\\Continuum\\anaconda3\\lib\\site-packages\\sklearn\\ensemble\\forest.py:246: FutureWarning: The default value of n_estimators will change from 10 in version 0.20 to 100 in 0.22.\n",
      "  \"10 in version 0.20 to 100 in 0.22.\", FutureWarning)\n",
      "C:\\Users\\USER\\AppData\\Local\\Continuum\\anaconda3\\lib\\site-packages\\sklearn\\ensemble\\forest.py:246: FutureWarning: The default value of n_estimators will change from 10 in version 0.20 to 100 in 0.22.\n",
      "  \"10 in version 0.20 to 100 in 0.22.\", FutureWarning)\n",
      "C:\\Users\\USER\\AppData\\Local\\Continuum\\anaconda3\\lib\\site-packages\\sklearn\\ensemble\\forest.py:246: FutureWarning: The default value of n_estimators will change from 10 in version 0.20 to 100 in 0.22.\n",
      "  \"10 in version 0.20 to 100 in 0.22.\", FutureWarning)\n",
      "C:\\Users\\USER\\AppData\\Local\\Continuum\\anaconda3\\lib\\site-packages\\sklearn\\ensemble\\forest.py:246: FutureWarning: The default value of n_estimators will change from 10 in version 0.20 to 100 in 0.22.\n",
      "  \"10 in version 0.20 to 100 in 0.22.\", FutureWarning)\n",
      "C:\\Users\\USER\\AppData\\Local\\Continuum\\anaconda3\\lib\\site-packages\\sklearn\\ensemble\\forest.py:246: FutureWarning: The default value of n_estimators will change from 10 in version 0.20 to 100 in 0.22.\n",
      "  \"10 in version 0.20 to 100 in 0.22.\", FutureWarning)\n",
      "C:\\Users\\USER\\AppData\\Local\\Continuum\\anaconda3\\lib\\site-packages\\sklearn\\ensemble\\forest.py:246: FutureWarning: The default value of n_estimators will change from 10 in version 0.20 to 100 in 0.22.\n",
      "  \"10 in version 0.20 to 100 in 0.22.\", FutureWarning)\n",
      "C:\\Users\\USER\\AppData\\Local\\Continuum\\anaconda3\\lib\\site-packages\\sklearn\\ensemble\\forest.py:246: FutureWarning: The default value of n_estimators will change from 10 in version 0.20 to 100 in 0.22.\n",
      "  \"10 in version 0.20 to 100 in 0.22.\", FutureWarning)\n",
      "C:\\Users\\USER\\AppData\\Local\\Continuum\\anaconda3\\lib\\site-packages\\sklearn\\ensemble\\forest.py:246: FutureWarning: The default value of n_estimators will change from 10 in version 0.20 to 100 in 0.22.\n",
      "  \"10 in version 0.20 to 100 in 0.22.\", FutureWarning)\n",
      "C:\\Users\\USER\\AppData\\Local\\Continuum\\anaconda3\\lib\\site-packages\\sklearn\\ensemble\\forest.py:246: FutureWarning: The default value of n_estimators will change from 10 in version 0.20 to 100 in 0.22.\n",
      "  \"10 in version 0.20 to 100 in 0.22.\", FutureWarning)\n",
      "C:\\Users\\USER\\AppData\\Local\\Continuum\\anaconda3\\lib\\site-packages\\sklearn\\ensemble\\forest.py:246: FutureWarning: The default value of n_estimators will change from 10 in version 0.20 to 100 in 0.22.\n",
      "  \"10 in version 0.20 to 100 in 0.22.\", FutureWarning)\n",
      "C:\\Users\\USER\\AppData\\Local\\Continuum\\anaconda3\\lib\\site-packages\\sklearn\\ensemble\\forest.py:246: FutureWarning: The default value of n_estimators will change from 10 in version 0.20 to 100 in 0.22.\n",
      "  \"10 in version 0.20 to 100 in 0.22.\", FutureWarning)\n",
      "C:\\Users\\USER\\AppData\\Local\\Continuum\\anaconda3\\lib\\site-packages\\sklearn\\ensemble\\forest.py:246: FutureWarning: The default value of n_estimators will change from 10 in version 0.20 to 100 in 0.22.\n",
      "  \"10 in version 0.20 to 100 in 0.22.\", FutureWarning)\n",
      "C:\\Users\\USER\\AppData\\Local\\Continuum\\anaconda3\\lib\\site-packages\\sklearn\\ensemble\\forest.py:246: FutureWarning: The default value of n_estimators will change from 10 in version 0.20 to 100 in 0.22.\n",
      "  \"10 in version 0.20 to 100 in 0.22.\", FutureWarning)\n",
      "C:\\Users\\USER\\AppData\\Local\\Continuum\\anaconda3\\lib\\site-packages\\sklearn\\ensemble\\forest.py:246: FutureWarning: The default value of n_estimators will change from 10 in version 0.20 to 100 in 0.22.\n",
      "  \"10 in version 0.20 to 100 in 0.22.\", FutureWarning)\n",
      "C:\\Users\\USER\\AppData\\Local\\Continuum\\anaconda3\\lib\\site-packages\\sklearn\\ensemble\\forest.py:246: FutureWarning: The default value of n_estimators will change from 10 in version 0.20 to 100 in 0.22.\n",
      "  \"10 in version 0.20 to 100 in 0.22.\", FutureWarning)\n",
      "C:\\Users\\USER\\AppData\\Local\\Continuum\\anaconda3\\lib\\site-packages\\sklearn\\ensemble\\forest.py:246: FutureWarning: The default value of n_estimators will change from 10 in version 0.20 to 100 in 0.22.\n",
      "  \"10 in version 0.20 to 100 in 0.22.\", FutureWarning)\n",
      "C:\\Users\\USER\\AppData\\Local\\Continuum\\anaconda3\\lib\\site-packages\\sklearn\\ensemble\\forest.py:246: FutureWarning: The default value of n_estimators will change from 10 in version 0.20 to 100 in 0.22.\n",
      "  \"10 in version 0.20 to 100 in 0.22.\", FutureWarning)\n",
      "C:\\Users\\USER\\AppData\\Local\\Continuum\\anaconda3\\lib\\site-packages\\sklearn\\ensemble\\forest.py:246: FutureWarning: The default value of n_estimators will change from 10 in version 0.20 to 100 in 0.22.\n",
      "  \"10 in version 0.20 to 100 in 0.22.\", FutureWarning)\n"
     ]
    },
    {
     "name": "stderr",
     "output_type": "stream",
     "text": [
      "C:\\Users\\USER\\AppData\\Local\\Continuum\\anaconda3\\lib\\site-packages\\sklearn\\ensemble\\forest.py:246: FutureWarning: The default value of n_estimators will change from 10 in version 0.20 to 100 in 0.22.\n",
      "  \"10 in version 0.20 to 100 in 0.22.\", FutureWarning)\n",
      "C:\\Users\\USER\\AppData\\Local\\Continuum\\anaconda3\\lib\\site-packages\\sklearn\\ensemble\\forest.py:246: FutureWarning: The default value of n_estimators will change from 10 in version 0.20 to 100 in 0.22.\n",
      "  \"10 in version 0.20 to 100 in 0.22.\", FutureWarning)\n",
      "C:\\Users\\USER\\AppData\\Local\\Continuum\\anaconda3\\lib\\site-packages\\sklearn\\ensemble\\forest.py:246: FutureWarning: The default value of n_estimators will change from 10 in version 0.20 to 100 in 0.22.\n",
      "  \"10 in version 0.20 to 100 in 0.22.\", FutureWarning)\n",
      "C:\\Users\\USER\\AppData\\Local\\Continuum\\anaconda3\\lib\\site-packages\\sklearn\\ensemble\\forest.py:246: FutureWarning: The default value of n_estimators will change from 10 in version 0.20 to 100 in 0.22.\n",
      "  \"10 in version 0.20 to 100 in 0.22.\", FutureWarning)\n",
      "C:\\Users\\USER\\AppData\\Local\\Continuum\\anaconda3\\lib\\site-packages\\sklearn\\ensemble\\forest.py:246: FutureWarning: The default value of n_estimators will change from 10 in version 0.20 to 100 in 0.22.\n",
      "  \"10 in version 0.20 to 100 in 0.22.\", FutureWarning)\n",
      "C:\\Users\\USER\\AppData\\Local\\Continuum\\anaconda3\\lib\\site-packages\\sklearn\\ensemble\\forest.py:246: FutureWarning: The default value of n_estimators will change from 10 in version 0.20 to 100 in 0.22.\n",
      "  \"10 in version 0.20 to 100 in 0.22.\", FutureWarning)\n",
      "C:\\Users\\USER\\AppData\\Local\\Continuum\\anaconda3\\lib\\site-packages\\sklearn\\ensemble\\forest.py:246: FutureWarning: The default value of n_estimators will change from 10 in version 0.20 to 100 in 0.22.\n",
      "  \"10 in version 0.20 to 100 in 0.22.\", FutureWarning)\n",
      "C:\\Users\\USER\\AppData\\Local\\Continuum\\anaconda3\\lib\\site-packages\\sklearn\\ensemble\\forest.py:246: FutureWarning: The default value of n_estimators will change from 10 in version 0.20 to 100 in 0.22.\n",
      "  \"10 in version 0.20 to 100 in 0.22.\", FutureWarning)\n",
      "C:\\Users\\USER\\AppData\\Local\\Continuum\\anaconda3\\lib\\site-packages\\sklearn\\ensemble\\forest.py:246: FutureWarning: The default value of n_estimators will change from 10 in version 0.20 to 100 in 0.22.\n",
      "  \"10 in version 0.20 to 100 in 0.22.\", FutureWarning)\n",
      "C:\\Users\\USER\\AppData\\Local\\Continuum\\anaconda3\\lib\\site-packages\\sklearn\\ensemble\\forest.py:246: FutureWarning: The default value of n_estimators will change from 10 in version 0.20 to 100 in 0.22.\n",
      "  \"10 in version 0.20 to 100 in 0.22.\", FutureWarning)\n",
      "C:\\Users\\USER\\AppData\\Local\\Continuum\\anaconda3\\lib\\site-packages\\sklearn\\ensemble\\forest.py:246: FutureWarning: The default value of n_estimators will change from 10 in version 0.20 to 100 in 0.22.\n",
      "  \"10 in version 0.20 to 100 in 0.22.\", FutureWarning)\n",
      "C:\\Users\\USER\\AppData\\Local\\Continuum\\anaconda3\\lib\\site-packages\\sklearn\\ensemble\\forest.py:246: FutureWarning: The default value of n_estimators will change from 10 in version 0.20 to 100 in 0.22.\n",
      "  \"10 in version 0.20 to 100 in 0.22.\", FutureWarning)\n",
      "C:\\Users\\USER\\AppData\\Local\\Continuum\\anaconda3\\lib\\site-packages\\sklearn\\ensemble\\forest.py:246: FutureWarning: The default value of n_estimators will change from 10 in version 0.20 to 100 in 0.22.\n",
      "  \"10 in version 0.20 to 100 in 0.22.\", FutureWarning)\n",
      "C:\\Users\\USER\\AppData\\Local\\Continuum\\anaconda3\\lib\\site-packages\\sklearn\\ensemble\\forest.py:246: FutureWarning: The default value of n_estimators will change from 10 in version 0.20 to 100 in 0.22.\n",
      "  \"10 in version 0.20 to 100 in 0.22.\", FutureWarning)\n",
      "C:\\Users\\USER\\AppData\\Local\\Continuum\\anaconda3\\lib\\site-packages\\sklearn\\ensemble\\forest.py:246: FutureWarning: The default value of n_estimators will change from 10 in version 0.20 to 100 in 0.22.\n",
      "  \"10 in version 0.20 to 100 in 0.22.\", FutureWarning)\n",
      "C:\\Users\\USER\\AppData\\Local\\Continuum\\anaconda3\\lib\\site-packages\\sklearn\\ensemble\\forest.py:246: FutureWarning: The default value of n_estimators will change from 10 in version 0.20 to 100 in 0.22.\n",
      "  \"10 in version 0.20 to 100 in 0.22.\", FutureWarning)\n",
      "C:\\Users\\USER\\AppData\\Local\\Continuum\\anaconda3\\lib\\site-packages\\sklearn\\ensemble\\forest.py:246: FutureWarning: The default value of n_estimators will change from 10 in version 0.20 to 100 in 0.22.\n",
      "  \"10 in version 0.20 to 100 in 0.22.\", FutureWarning)\n",
      "C:\\Users\\USER\\AppData\\Local\\Continuum\\anaconda3\\lib\\site-packages\\sklearn\\ensemble\\forest.py:246: FutureWarning: The default value of n_estimators will change from 10 in version 0.20 to 100 in 0.22.\n",
      "  \"10 in version 0.20 to 100 in 0.22.\", FutureWarning)\n",
      "C:\\Users\\USER\\AppData\\Local\\Continuum\\anaconda3\\lib\\site-packages\\sklearn\\ensemble\\forest.py:246: FutureWarning: The default value of n_estimators will change from 10 in version 0.20 to 100 in 0.22.\n",
      "  \"10 in version 0.20 to 100 in 0.22.\", FutureWarning)\n",
      "C:\\Users\\USER\\AppData\\Local\\Continuum\\anaconda3\\lib\\site-packages\\sklearn\\ensemble\\forest.py:246: FutureWarning: The default value of n_estimators will change from 10 in version 0.20 to 100 in 0.22.\n",
      "  \"10 in version 0.20 to 100 in 0.22.\", FutureWarning)\n",
      "C:\\Users\\USER\\AppData\\Local\\Continuum\\anaconda3\\lib\\site-packages\\sklearn\\ensemble\\forest.py:246: FutureWarning: The default value of n_estimators will change from 10 in version 0.20 to 100 in 0.22.\n",
      "  \"10 in version 0.20 to 100 in 0.22.\", FutureWarning)\n",
      "C:\\Users\\USER\\AppData\\Local\\Continuum\\anaconda3\\lib\\site-packages\\sklearn\\ensemble\\forest.py:246: FutureWarning: The default value of n_estimators will change from 10 in version 0.20 to 100 in 0.22.\n",
      "  \"10 in version 0.20 to 100 in 0.22.\", FutureWarning)\n",
      "C:\\Users\\USER\\AppData\\Local\\Continuum\\anaconda3\\lib\\site-packages\\sklearn\\ensemble\\forest.py:246: FutureWarning: The default value of n_estimators will change from 10 in version 0.20 to 100 in 0.22.\n",
      "  \"10 in version 0.20 to 100 in 0.22.\", FutureWarning)\n",
      "C:\\Users\\USER\\AppData\\Local\\Continuum\\anaconda3\\lib\\site-packages\\sklearn\\ensemble\\forest.py:246: FutureWarning: The default value of n_estimators will change from 10 in version 0.20 to 100 in 0.22.\n",
      "  \"10 in version 0.20 to 100 in 0.22.\", FutureWarning)\n",
      "C:\\Users\\USER\\AppData\\Local\\Continuum\\anaconda3\\lib\\site-packages\\sklearn\\ensemble\\forest.py:246: FutureWarning: The default value of n_estimators will change from 10 in version 0.20 to 100 in 0.22.\n",
      "  \"10 in version 0.20 to 100 in 0.22.\", FutureWarning)\n",
      "C:\\Users\\USER\\AppData\\Local\\Continuum\\anaconda3\\lib\\site-packages\\sklearn\\ensemble\\forest.py:246: FutureWarning: The default value of n_estimators will change from 10 in version 0.20 to 100 in 0.22.\n",
      "  \"10 in version 0.20 to 100 in 0.22.\", FutureWarning)\n",
      "C:\\Users\\USER\\AppData\\Local\\Continuum\\anaconda3\\lib\\site-packages\\sklearn\\ensemble\\forest.py:246: FutureWarning: The default value of n_estimators will change from 10 in version 0.20 to 100 in 0.22.\n",
      "  \"10 in version 0.20 to 100 in 0.22.\", FutureWarning)\n",
      "C:\\Users\\USER\\AppData\\Local\\Continuum\\anaconda3\\lib\\site-packages\\sklearn\\ensemble\\forest.py:246: FutureWarning: The default value of n_estimators will change from 10 in version 0.20 to 100 in 0.22.\n",
      "  \"10 in version 0.20 to 100 in 0.22.\", FutureWarning)\n",
      "C:\\Users\\USER\\AppData\\Local\\Continuum\\anaconda3\\lib\\site-packages\\sklearn\\ensemble\\forest.py:246: FutureWarning: The default value of n_estimators will change from 10 in version 0.20 to 100 in 0.22.\n",
      "  \"10 in version 0.20 to 100 in 0.22.\", FutureWarning)\n",
      "C:\\Users\\USER\\AppData\\Local\\Continuum\\anaconda3\\lib\\site-packages\\sklearn\\ensemble\\forest.py:246: FutureWarning: The default value of n_estimators will change from 10 in version 0.20 to 100 in 0.22.\n",
      "  \"10 in version 0.20 to 100 in 0.22.\", FutureWarning)\n",
      "C:\\Users\\USER\\AppData\\Local\\Continuum\\anaconda3\\lib\\site-packages\\sklearn\\ensemble\\forest.py:246: FutureWarning: The default value of n_estimators will change from 10 in version 0.20 to 100 in 0.22.\n",
      "  \"10 in version 0.20 to 100 in 0.22.\", FutureWarning)\n",
      "C:\\Users\\USER\\AppData\\Local\\Continuum\\anaconda3\\lib\\site-packages\\sklearn\\ensemble\\forest.py:246: FutureWarning: The default value of n_estimators will change from 10 in version 0.20 to 100 in 0.22.\n",
      "  \"10 in version 0.20 to 100 in 0.22.\", FutureWarning)\n",
      "C:\\Users\\USER\\AppData\\Local\\Continuum\\anaconda3\\lib\\site-packages\\sklearn\\ensemble\\forest.py:246: FutureWarning: The default value of n_estimators will change from 10 in version 0.20 to 100 in 0.22.\n",
      "  \"10 in version 0.20 to 100 in 0.22.\", FutureWarning)\n"
     ]
    },
    {
     "name": "stderr",
     "output_type": "stream",
     "text": [
      "C:\\Users\\USER\\AppData\\Local\\Continuum\\anaconda3\\lib\\site-packages\\sklearn\\ensemble\\forest.py:246: FutureWarning: The default value of n_estimators will change from 10 in version 0.20 to 100 in 0.22.\n",
      "  \"10 in version 0.20 to 100 in 0.22.\", FutureWarning)\n",
      "C:\\Users\\USER\\AppData\\Local\\Continuum\\anaconda3\\lib\\site-packages\\sklearn\\ensemble\\forest.py:246: FutureWarning: The default value of n_estimators will change from 10 in version 0.20 to 100 in 0.22.\n",
      "  \"10 in version 0.20 to 100 in 0.22.\", FutureWarning)\n",
      "C:\\Users\\USER\\AppData\\Local\\Continuum\\anaconda3\\lib\\site-packages\\sklearn\\ensemble\\forest.py:246: FutureWarning: The default value of n_estimators will change from 10 in version 0.20 to 100 in 0.22.\n",
      "  \"10 in version 0.20 to 100 in 0.22.\", FutureWarning)\n",
      "C:\\Users\\USER\\AppData\\Local\\Continuum\\anaconda3\\lib\\site-packages\\sklearn\\ensemble\\forest.py:246: FutureWarning: The default value of n_estimators will change from 10 in version 0.20 to 100 in 0.22.\n",
      "  \"10 in version 0.20 to 100 in 0.22.\", FutureWarning)\n",
      "C:\\Users\\USER\\AppData\\Local\\Continuum\\anaconda3\\lib\\site-packages\\sklearn\\ensemble\\forest.py:246: FutureWarning: The default value of n_estimators will change from 10 in version 0.20 to 100 in 0.22.\n",
      "  \"10 in version 0.20 to 100 in 0.22.\", FutureWarning)\n",
      "C:\\Users\\USER\\AppData\\Local\\Continuum\\anaconda3\\lib\\site-packages\\sklearn\\ensemble\\forest.py:246: FutureWarning: The default value of n_estimators will change from 10 in version 0.20 to 100 in 0.22.\n",
      "  \"10 in version 0.20 to 100 in 0.22.\", FutureWarning)\n",
      "C:\\Users\\USER\\AppData\\Local\\Continuum\\anaconda3\\lib\\site-packages\\sklearn\\ensemble\\forest.py:246: FutureWarning: The default value of n_estimators will change from 10 in version 0.20 to 100 in 0.22.\n",
      "  \"10 in version 0.20 to 100 in 0.22.\", FutureWarning)\n",
      "C:\\Users\\USER\\AppData\\Local\\Continuum\\anaconda3\\lib\\site-packages\\sklearn\\ensemble\\forest.py:246: FutureWarning: The default value of n_estimators will change from 10 in version 0.20 to 100 in 0.22.\n",
      "  \"10 in version 0.20 to 100 in 0.22.\", FutureWarning)\n",
      "C:\\Users\\USER\\AppData\\Local\\Continuum\\anaconda3\\lib\\site-packages\\sklearn\\ensemble\\forest.py:246: FutureWarning: The default value of n_estimators will change from 10 in version 0.20 to 100 in 0.22.\n",
      "  \"10 in version 0.20 to 100 in 0.22.\", FutureWarning)\n",
      "C:\\Users\\USER\\AppData\\Local\\Continuum\\anaconda3\\lib\\site-packages\\sklearn\\ensemble\\forest.py:246: FutureWarning: The default value of n_estimators will change from 10 in version 0.20 to 100 in 0.22.\n",
      "  \"10 in version 0.20 to 100 in 0.22.\", FutureWarning)\n",
      "C:\\Users\\USER\\AppData\\Local\\Continuum\\anaconda3\\lib\\site-packages\\sklearn\\ensemble\\forest.py:246: FutureWarning: The default value of n_estimators will change from 10 in version 0.20 to 100 in 0.22.\n",
      "  \"10 in version 0.20 to 100 in 0.22.\", FutureWarning)\n",
      "C:\\Users\\USER\\AppData\\Local\\Continuum\\anaconda3\\lib\\site-packages\\sklearn\\ensemble\\forest.py:246: FutureWarning: The default value of n_estimators will change from 10 in version 0.20 to 100 in 0.22.\n",
      "  \"10 in version 0.20 to 100 in 0.22.\", FutureWarning)\n"
     ]
    }
   ],
   "source": [
    "training = train_data.copy()\n",
    "testing = test_data.copy()\n",
    "\n",
    "training['origin'] = 1\n",
    "testing['origin'] = 0\n",
    "\n",
    "training.drop('FraudResult', axis=1, inplace=True)\n",
    "\n",
    "training = training.sample(30000, random_state=42)\n",
    "testing = testing.sample(15000, random_state=112)\n",
    "\n",
    "combined = pd.concat([training, testing], axis=0)\n",
    "y = combined['origin']\n",
    "X = combined.drop('origin', axis=1)\n",
    "\n",
    "rfc_drift_list = []\n",
    "\n",
    "model = RandomForestClassifier(\n",
    "    max_depth=4, max_features=0.78, n_jobs=-1, random_state=23, class_weight={0:1, 1:14.4}\n",
    ")\n",
    "\n",
    "for i in X.columns:\n",
    "    score = cross_val_score(model, pd.DataFrame(X[i]), y, cv=2, scoring='roc_auc', verbose=0).mean()\n",
    "    \n",
    "    if score>0.8:\n",
    "        rfc_drift_list.append(i)\n",
    "        print(i, score)"
   ]
  },
  {
   "cell_type": "code",
   "execution_count": 29,
   "metadata": {},
   "outputs": [
    {
     "data": {
      "text/plain": [
       "['No. Customers per Acc',\n",
       " 'Amount_to_std_ProviderId',\n",
       " 'Amount_to_mean_PricingStrategy',\n",
       " 'Amount_to_std_PricingStrategy',\n",
       " 'Amount_to_std_ProductCategory',\n",
       " 'Amount_to_mean_ChannelId',\n",
       " 'Amount_to_std_ChannelId']"
      ]
     },
     "execution_count": 29,
     "metadata": {},
     "output_type": "execute_result"
    }
   ],
   "source": [
    "rfc_drift_list"
   ]
  },
  {
   "cell_type": "code",
   "execution_count": 41,
   "metadata": {},
   "outputs": [
    {
     "data": {
      "text/html": [
       "<div>\n",
       "<style scoped>\n",
       "    .dataframe tbody tr th:only-of-type {\n",
       "        vertical-align: middle;\n",
       "    }\n",
       "\n",
       "    .dataframe tbody tr th {\n",
       "        vertical-align: top;\n",
       "    }\n",
       "\n",
       "    .dataframe thead th {\n",
       "        text-align: right;\n",
       "    }\n",
       "</style>\n",
       "<table border=\"1\" class=\"dataframe\">\n",
       "  <thead>\n",
       "    <tr style=\"text-align: right;\">\n",
       "      <th></th>\n",
       "      <th>Features</th>\n",
       "      <th>Importances</th>\n",
       "    </tr>\n",
       "  </thead>\n",
       "  <tbody>\n",
       "    <tr>\n",
       "      <th>0</th>\n",
       "      <td>Amount</td>\n",
       "      <td>0.361416</td>\n",
       "    </tr>\n",
       "    <tr>\n",
       "      <th>117</th>\n",
       "      <td>Amount_to_mean_ChannelId</td>\n",
       "      <td>0.268412</td>\n",
       "    </tr>\n",
       "    <tr>\n",
       "      <th>118</th>\n",
       "      <td>Amount_to_std_ChannelId</td>\n",
       "      <td>0.088207</td>\n",
       "    </tr>\n",
       "    <tr>\n",
       "      <th>9</th>\n",
       "      <td>max_amt_per_ProviderId_in_last_12hhrs</td>\n",
       "      <td>0.088015</td>\n",
       "    </tr>\n",
       "    <tr>\n",
       "      <th>57</th>\n",
       "      <td>max_amt_per_ProductId_in_last_12hhrs</td>\n",
       "      <td>0.087849</td>\n",
       "    </tr>\n",
       "    <tr>\n",
       "      <th>4</th>\n",
       "      <td>Days_to_Nearest_Holiday</td>\n",
       "      <td>0.032233</td>\n",
       "    </tr>\n",
       "    <tr>\n",
       "      <th>110</th>\n",
       "      <td>Amount_to_std_CustomerId</td>\n",
       "      <td>0.006955</td>\n",
       "    </tr>\n",
       "    <tr>\n",
       "      <th>112</th>\n",
       "      <td>Amount_to_std_ProviderId</td>\n",
       "      <td>0.006322</td>\n",
       "    </tr>\n",
       "    <tr>\n",
       "      <th>8</th>\n",
       "      <td>sum_of_amt_per_ProviderId_in_last_12hhrs</td>\n",
       "      <td>0.005912</td>\n",
       "    </tr>\n",
       "    <tr>\n",
       "      <th>184</th>\n",
       "      <td>Week_fourth_week</td>\n",
       "      <td>0.004532</td>\n",
       "    </tr>\n",
       "    <tr>\n",
       "      <th>167</th>\n",
       "      <td>Month_January</td>\n",
       "      <td>0.004391</td>\n",
       "    </tr>\n",
       "    <tr>\n",
       "      <th>93</th>\n",
       "      <td>max_amt_per_CustomerId_in_last_24hhrs</td>\n",
       "      <td>0.003969</td>\n",
       "    </tr>\n",
       "    <tr>\n",
       "      <th>115</th>\n",
       "      <td>Amount_to_mean_ProductCategory</td>\n",
       "      <td>0.003422</td>\n",
       "    </tr>\n",
       "    <tr>\n",
       "      <th>35</th>\n",
       "      <td>Avg_amt_per_ProductCategory_in_last_168hhrs</td>\n",
       "      <td>0.003201</td>\n",
       "    </tr>\n",
       "    <tr>\n",
       "      <th>79</th>\n",
       "      <td>Avg_amt_per_PricingStrategy_in_last_72hhrs</td>\n",
       "      <td>0.003077</td>\n",
       "    </tr>\n",
       "    <tr>\n",
       "      <th>101</th>\n",
       "      <td>max_amt_per_CustomerId_in_last_168hhrs</td>\n",
       "      <td>0.002471</td>\n",
       "    </tr>\n",
       "    <tr>\n",
       "      <th>77</th>\n",
       "      <td>max_amt_per_PricingStrategy_in_last_24hhrs</td>\n",
       "      <td>0.002272</td>\n",
       "    </tr>\n",
       "    <tr>\n",
       "      <th>177</th>\n",
       "      <td>Holiday_Yes</td>\n",
       "      <td>0.002015</td>\n",
       "    </tr>\n",
       "    <tr>\n",
       "      <th>12</th>\n",
       "      <td>sum_of_amt_per_ProviderId_in_last_24hhrs</td>\n",
       "      <td>0.001968</td>\n",
       "    </tr>\n",
       "    <tr>\n",
       "      <th>65</th>\n",
       "      <td>max_amt_per_ProductId_in_last_72hhrs</td>\n",
       "      <td>0.001901</td>\n",
       "    </tr>\n",
       "  </tbody>\n",
       "</table>\n",
       "</div>"
      ],
      "text/plain": [
       "                                        Features  Importances\n",
       "0                                         Amount     0.361416\n",
       "117                     Amount_to_mean_ChannelId     0.268412\n",
       "118                      Amount_to_std_ChannelId     0.088207\n",
       "9          max_amt_per_ProviderId_in_last_12hhrs     0.088015\n",
       "57          max_amt_per_ProductId_in_last_12hhrs     0.087849\n",
       "4                        Days_to_Nearest_Holiday     0.032233\n",
       "110                     Amount_to_std_CustomerId     0.006955\n",
       "112                     Amount_to_std_ProviderId     0.006322\n",
       "8       sum_of_amt_per_ProviderId_in_last_12hhrs     0.005912\n",
       "184                             Week_fourth_week     0.004532\n",
       "167                                Month_January     0.004391\n",
       "93         max_amt_per_CustomerId_in_last_24hhrs     0.003969\n",
       "115               Amount_to_mean_ProductCategory     0.003422\n",
       "35   Avg_amt_per_ProductCategory_in_last_168hhrs     0.003201\n",
       "79    Avg_amt_per_PricingStrategy_in_last_72hhrs     0.003077\n",
       "101       max_amt_per_CustomerId_in_last_168hhrs     0.002471\n",
       "77    max_amt_per_PricingStrategy_in_last_24hhrs     0.002272\n",
       "177                                  Holiday_Yes     0.002015\n",
       "12      sum_of_amt_per_ProviderId_in_last_24hhrs     0.001968\n",
       "65          max_amt_per_ProductId_in_last_72hhrs     0.001901"
      ]
     },
     "execution_count": 41,
     "metadata": {},
     "output_type": "execute_result"
    }
   ],
   "source": [
    "rfc_selected_features"
   ]
  },
  {
   "cell_type": "code",
   "execution_count": null,
   "metadata": {},
   "outputs": [],
   "source": []
  },
  {
   "cell_type": "code",
   "execution_count": null,
   "metadata": {},
   "outputs": [],
   "source": []
  },
  {
   "cell_type": "code",
   "execution_count": null,
   "metadata": {},
   "outputs": [],
   "source": []
  },
  {
   "cell_type": "code",
   "execution_count": null,
   "metadata": {},
   "outputs": [],
   "source": []
  },
  {
   "cell_type": "code",
   "execution_count": null,
   "metadata": {},
   "outputs": [],
   "source": []
  },
  {
   "cell_type": "markdown",
   "metadata": {},
   "source": [
    "<h2>Decision Tree</h2>"
   ]
  },
  {
   "cell_type": "code",
   "execution_count": 18,
   "metadata": {},
   "outputs": [
    {
     "data": {
      "text/plain": [
       "0.3492133307599553"
      ]
     },
     "execution_count": 18,
     "metadata": {},
     "output_type": "execute_result"
    }
   ],
   "source": [
    "f1 = []\n",
    "\n",
    "for train, test in TimeSeriesSplit(n_splits=5).split(X_train, y_train):\n",
    "    # concatenate our training data back together\n",
    "    X = pd.concat([X_train.iloc[train], y_train.iloc[train]], axis=1)\n",
    "\n",
    "    # separate minority and majority classes\n",
    "    not_fraud = X[X.FraudResult==0]\n",
    "    fraud = X[X.FraudResult==1]\n",
    "\n",
    "    # upsample minority\n",
    "    fraud_upsampled = resample(fraud,\n",
    "                          replace=True, # sample with replacement\n",
    "                          n_samples=len(not_fraud), # match number in majority class\n",
    "                          random_state=27) # reproducible results\n",
    "\n",
    "    # combine majority and upsampled minority\n",
    "    upsampled = pd.concat([not_fraud, fraud_upsampled])\n",
    "\n",
    "    # check new class counts\n",
    "    upsampled.FraudResult.value_counts()\n",
    "\n",
    "    y_train_upsampled = upsampled.FraudResult\n",
    "    X_train_upsampled = upsampled.drop('FraudResult', axis=1)\n",
    "    \n",
    "    dtree = DecisionTreeClassifier(max_depth=4, max_features=0.4, random_state=42, class_weight='balanced')\n",
    "    dtree.fit(X_train_upsampled, y_train_upsampled)\n",
    "    f1.append(f1_score(y_train.iloc[test], dtree.predict(X_train.iloc[test])))\n",
    "    \n",
    "np.mean(f1)"
   ]
  },
  {
   "cell_type": "code",
   "execution_count": 19,
   "metadata": {},
   "outputs": [
    {
     "data": {
      "text/plain": [
       "0.16745709177965104"
      ]
     },
     "execution_count": 19,
     "metadata": {},
     "output_type": "execute_result"
    }
   ],
   "source": [
    "f1 = []\n",
    "\n",
    "for train, test in TimeSeriesSplit(n_splits=5).split(X_train, y_train):\n",
    "    # concatenate our training data back together\n",
    "    X = pd.concat([X_train.iloc[train], y_train.iloc[train]], axis=1)\n",
    "\n",
    "    # separate minority and majority classes\n",
    "    not_fraud = X[X.FraudResult==0]\n",
    "    fraud = X[X.FraudResult==1]\n",
    "\n",
    "    # downsample majority\n",
    "    not_fraud_downsampled = resample(not_fraud,\n",
    "                                replace = False, # sample without replacement\n",
    "                                n_samples = len(fraud), # match minority n\n",
    "                                random_state = 27) # reproducible results\n",
    "\n",
    "    # combine minority and downsampled majority\n",
    "    downsampled = pd.concat([not_fraud_downsampled, fraud])\n",
    "\n",
    "    # checking counts\n",
    "    downsampled.FraudResult.value_counts()\n",
    "\n",
    "    y_train_downsampled = downsampled.FraudResult\n",
    "    X_train_downsampled = downsampled.drop('FraudResult', axis=1)\n",
    "    \n",
    "    dtree = DecisionTreeClassifier(max_depth=4, max_features=0.4, random_state=42, class_weight='balanced')\n",
    "    dtree.fit(X_train_downsampled, y_train_downsampled)\n",
    "    f1.append(f1_score(y_train.iloc[test], dtree.predict(X_train.iloc[test])))\n",
    "    \n",
    "np.mean(f1)"
   ]
  },
  {
   "cell_type": "code",
   "execution_count": null,
   "metadata": {},
   "outputs": [],
   "source": []
  },
  {
   "cell_type": "code",
   "execution_count": null,
   "metadata": {},
   "outputs": [],
   "source": []
  },
  {
   "cell_type": "code",
   "execution_count": 20,
   "metadata": {},
   "outputs": [
    {
     "data": {
      "text/plain": [
       "0.5332214688053476"
      ]
     },
     "execution_count": 20,
     "metadata": {},
     "output_type": "execute_result"
    }
   ],
   "source": [
    "dtree = DecisionTreeClassifier(max_depth=4, random_state=42, max_features=0.6, class_weight={1:100})\n",
    "cross_val_score(dtree, X_train, y_train, cv=TimeSeriesSplit(n_splits=5), scoring='f1').mean()"
   ]
  },
  {
   "cell_type": "code",
   "execution_count": 21,
   "metadata": {},
   "outputs": [
    {
     "data": {
      "text/plain": [
       "GridSearchCV(cv=TimeSeriesSplit(max_train_size=None, n_splits=5),\n",
       "       error_score='raise-deprecating',\n",
       "       estimator=DecisionTreeClassifier(class_weight={0: 1, 1: 100}, criterion='gini',\n",
       "            max_depth=4, max_features=0.7, max_leaf_nodes=None,\n",
       "            min_impurity_decrease=0.0, min_impurity_split=None,\n",
       "            min_samples_leaf=1, min_samples_split=2,\n",
       "            min_weight_fraction_leaf=0.0, presort=False, random_state=42,\n",
       "            splitter='best'),\n",
       "       fit_params=None, iid='warn', n_jobs=-1,\n",
       "       param_grid={'class_weight': [{0: 1, 1: 14.1}, {0: 1, 1: 14.2}, {0: 1, 1: 14.3}, {0: 1, 1: 14.4}, {0: 1, 1: 14.5}]},\n",
       "       pre_dispatch='2*n_jobs', refit=True, return_train_score='warn',\n",
       "       scoring='f1', verbose=0)"
      ]
     },
     "execution_count": 21,
     "metadata": {},
     "output_type": "execute_result"
    }
   ],
   "source": [
    "params = {\n",
    "    'class_weight' : [{0:1, 1:w} for w in [14.1, 14.2, 14.3, 14.4, 14.5]]\n",
    "}\n",
    "\n",
    "\n",
    "grid4 = GridSearchCV(DecisionTreeClassifier(\n",
    "    max_depth=4, max_features=0.7, random_state=42, class_weight={0:1, 1:100}\n",
    "), params, scoring='f1', n_jobs=-1, cv=TimeSeriesSplit(n_splits=5))\n",
    "\n",
    "grid4.fit(X_train, y_train)\n"
   ]
  },
  {
   "cell_type": "code",
   "execution_count": 23,
   "metadata": {},
   "outputs": [
    {
     "data": {
      "text/plain": [
       "({'class_weight': {0: 1, 1: 14.3}}, 0.777639507578453)"
      ]
     },
     "execution_count": 23,
     "metadata": {},
     "output_type": "execute_result"
    }
   ],
   "source": [
    "grid4.best_params_, grid4.best_score_"
   ]
  },
  {
   "cell_type": "code",
   "execution_count": 24,
   "metadata": {},
   "outputs": [
    {
     "data": {
      "text/plain": [
       "GridSearchCV(cv=TimeSeriesSplit(max_train_size=None, n_splits=5),\n",
       "       error_score='raise-deprecating',\n",
       "       estimator=DecisionTreeClassifier(class_weight={0: 1, 1: 14.3}, criterion='gini',\n",
       "            max_depth=4, max_features=0.7, max_leaf_nodes=None,\n",
       "            min_impurity_decrease=0.0, min_impurity_split=None,\n",
       "            min_samples_leaf=1, min_samples_split=2,\n",
       "            min_weight_fraction_leaf=0.0, presort=False, random_state=42,\n",
       "            splitter='best'),\n",
       "       fit_params=None, iid='warn', n_jobs=-1,\n",
       "       param_grid={'max_depth': [3, 4, 5, 6, 7, 8]},\n",
       "       pre_dispatch='2*n_jobs', refit=True, return_train_score='warn',\n",
       "       scoring='f1', verbose=0)"
      ]
     },
     "execution_count": 24,
     "metadata": {},
     "output_type": "execute_result"
    }
   ],
   "source": [
    "params1 = {\n",
    "    'max_depth' : [3, 4, 5, 6, 7, 8]\n",
    "}\n",
    "\n",
    "\n",
    "grid4 = GridSearchCV(DecisionTreeClassifier(\n",
    "    max_depth=4, max_features=0.7, random_state=42, class_weight={0:1, 1:14.3}\n",
    "), params1, scoring='f1', n_jobs=-1, cv=TimeSeriesSplit(n_splits=5))\n",
    "\n",
    "grid4.fit(X_train, y_train)\n"
   ]
  },
  {
   "cell_type": "code",
   "execution_count": 25,
   "metadata": {},
   "outputs": [
    {
     "data": {
      "text/plain": [
       "({'max_depth': 5}, 0.8218006897454254)"
      ]
     },
     "execution_count": 25,
     "metadata": {},
     "output_type": "execute_result"
    }
   ],
   "source": [
    "grid4.best_params_, grid4.best_score_"
   ]
  },
  {
   "cell_type": "code",
   "execution_count": 61,
   "metadata": {},
   "outputs": [
    {
     "data": {
      "text/plain": [
       "GridSearchCV(cv=TimeSeriesSplit(max_train_size=None, n_splits=5),\n",
       "       error_score='raise-deprecating',\n",
       "       estimator=DecisionTreeClassifier(class_weight={0: 1, 1: 14.3}, criterion='gini',\n",
       "            max_depth=5, max_features=0.5, max_leaf_nodes=None,\n",
       "            min_impurity_decrease=0.0, min_impurity_split=None,\n",
       "            min_samples_leaf=1, min_samples_split=2,\n",
       "            min_weight_fraction_leaf=0.0, presort=False, random_state=42,\n",
       "            splitter='best'),\n",
       "       fit_params=None, iid='warn', n_jobs=-1,\n",
       "       param_grid={'min_samples_leaf': array([1.00000e-06, 1.79592e-06, 2.59184e-06, 3.38776e-06, 4.18367e-06,\n",
       "       4.97959e-06, 5.77551e-06, 6.57143e-06, 7.36735e-06, 8.16327e-06,\n",
       "       8.95918e-06, 9.75510e-06, 1.05510e-05, 1.13469e-05, 1.21429e-05,\n",
       "       1.29388e-05, 1.37347e-05, 1.45306e-05, 1.5326... 3.52245e-05, 3.60204e-05,\n",
       "       3.68163e-05, 3.76122e-05, 3.84082e-05, 3.92041e-05, 4.00000e-05])},\n",
       "       pre_dispatch='2*n_jobs', refit=True, return_train_score='warn',\n",
       "       scoring='f1', verbose=0)"
      ]
     },
     "execution_count": 61,
     "metadata": {},
     "output_type": "execute_result"
    }
   ],
   "source": [
    "params1 = {\n",
    "    'min_samples_leaf' : np.linspace(0.000001, 0.00004, 50, endpoint=True)\n",
    "}\n",
    "\n",
    "\n",
    "grid4 = GridSearchCV(DecisionTreeClassifier(\n",
    "    max_depth=5, max_features=0.5, random_state=42, class_weight={0:1, 1:14.3}\n",
    "), params1, scoring='f1', n_jobs=-1, cv=TimeSeriesSplit(n_splits=5))\n",
    "\n",
    "grid4.fit(X_train, y_train)\n"
   ]
  },
  {
   "cell_type": "code",
   "execution_count": 62,
   "metadata": {},
   "outputs": [
    {
     "data": {
      "text/plain": [
       "({'min_samples_leaf': 2.6469387755102045e-05}, 0.8576742725299601)"
      ]
     },
     "execution_count": 62,
     "metadata": {},
     "output_type": "execute_result"
    }
   ],
   "source": [
    "grid4.best_params_, grid4.best_score_"
   ]
  },
  {
   "cell_type": "code",
   "execution_count": 63,
   "metadata": {},
   "outputs": [
    {
     "data": {
      "text/plain": [
       "DecisionTreeClassifier(class_weight={0: 1, 1: 14.3}, criterion='gini',\n",
       "            max_depth=5, max_features=0.5, max_leaf_nodes=None,\n",
       "            min_impurity_decrease=0.0, min_impurity_split=None,\n",
       "            min_samples_leaf=2.6469387755102045e-05, min_samples_split=2,\n",
       "            min_weight_fraction_leaf=0.0, presort=False, random_state=42,\n",
       "            splitter='best')"
      ]
     },
     "execution_count": 63,
     "metadata": {},
     "output_type": "execute_result"
    }
   ],
   "source": [
    "grid4.best_estimator_"
   ]
  },
  {
   "cell_type": "code",
   "execution_count": 64,
   "metadata": {},
   "outputs": [
    {
     "data": {
      "text/html": [
       "<div>\n",
       "<style scoped>\n",
       "    .dataframe tbody tr th:only-of-type {\n",
       "        vertical-align: middle;\n",
       "    }\n",
       "\n",
       "    .dataframe tbody tr th {\n",
       "        vertical-align: top;\n",
       "    }\n",
       "\n",
       "    .dataframe thead th {\n",
       "        text-align: right;\n",
       "    }\n",
       "</style>\n",
       "<table border=\"1\" class=\"dataframe\">\n",
       "  <thead>\n",
       "    <tr style=\"text-align: right;\">\n",
       "      <th></th>\n",
       "      <th>Features</th>\n",
       "      <th>Importances</th>\n",
       "    </tr>\n",
       "  </thead>\n",
       "  <tbody>\n",
       "    <tr>\n",
       "      <th>0</th>\n",
       "      <td>Amount</td>\n",
       "      <td>0.870249</td>\n",
       "    </tr>\n",
       "    <tr>\n",
       "      <th>184</th>\n",
       "      <td>Week_fourth_week</td>\n",
       "      <td>0.045016</td>\n",
       "    </tr>\n",
       "    <tr>\n",
       "      <th>65</th>\n",
       "      <td>max_amt_per_ProductId_in_last_72hhrs</td>\n",
       "      <td>0.027265</td>\n",
       "    </tr>\n",
       "    <tr>\n",
       "      <th>7</th>\n",
       "      <td>Avg_amt_per_ProviderId_in_last_12hhrs</td>\n",
       "      <td>0.022816</td>\n",
       "    </tr>\n",
       "    <tr>\n",
       "      <th>167</th>\n",
       "      <td>Month_January</td>\n",
       "      <td>0.015760</td>\n",
       "    </tr>\n",
       "  </tbody>\n",
       "</table>\n",
       "</div>"
      ],
      "text/plain": [
       "                                  Features  Importances\n",
       "0                                   Amount     0.870249\n",
       "184                       Week_fourth_week     0.045016\n",
       "65    max_amt_per_ProductId_in_last_72hhrs     0.027265\n",
       "7    Avg_amt_per_ProviderId_in_last_12hhrs     0.022816\n",
       "167                          Month_January     0.015760"
      ]
     },
     "execution_count": 64,
     "metadata": {},
     "output_type": "execute_result"
    }
   ],
   "source": [
    "dtree_ft_importances = grid4.best_estimator_.feature_importances_\n",
    "fts = X_train.columns\n",
    "\n",
    "dtree_importances = pd.DataFrame({'Features' : fts, 'Importances' : dtree_ft_importances}).sort_values(by='Importances', ascending=False)\n",
    "dtree_importances.head()"
   ]
  },
  {
   "cell_type": "code",
   "execution_count": 65,
   "metadata": {},
   "outputs": [
    {
     "data": {
      "text/plain": [
       "(180, 2)"
      ]
     },
     "execution_count": 65,
     "metadata": {},
     "output_type": "execute_result"
    }
   ],
   "source": [
    "dtree_importances[dtree_importances['Importances']==0].shape"
   ]
  },
  {
   "cell_type": "code",
   "execution_count": 66,
   "metadata": {},
   "outputs": [
    {
     "data": {
      "text/html": [
       "<div>\n",
       "<style scoped>\n",
       "    .dataframe tbody tr th:only-of-type {\n",
       "        vertical-align: middle;\n",
       "    }\n",
       "\n",
       "    .dataframe tbody tr th {\n",
       "        vertical-align: top;\n",
       "    }\n",
       "\n",
       "    .dataframe thead th {\n",
       "        text-align: right;\n",
       "    }\n",
       "</style>\n",
       "<table border=\"1\" class=\"dataframe\">\n",
       "  <thead>\n",
       "    <tr style=\"text-align: right;\">\n",
       "      <th></th>\n",
       "      <th>Features</th>\n",
       "      <th>Importances</th>\n",
       "    </tr>\n",
       "  </thead>\n",
       "  <tbody>\n",
       "    <tr>\n",
       "      <th>0</th>\n",
       "      <td>Amount</td>\n",
       "      <td>0.870249</td>\n",
       "    </tr>\n",
       "    <tr>\n",
       "      <th>184</th>\n",
       "      <td>Week_fourth_week</td>\n",
       "      <td>0.045016</td>\n",
       "    </tr>\n",
       "    <tr>\n",
       "      <th>65</th>\n",
       "      <td>max_amt_per_ProductId_in_last_72hhrs</td>\n",
       "      <td>0.027265</td>\n",
       "    </tr>\n",
       "    <tr>\n",
       "      <th>7</th>\n",
       "      <td>Avg_amt_per_ProviderId_in_last_12hhrs</td>\n",
       "      <td>0.022816</td>\n",
       "    </tr>\n",
       "    <tr>\n",
       "      <th>167</th>\n",
       "      <td>Month_January</td>\n",
       "      <td>0.015760</td>\n",
       "    </tr>\n",
       "  </tbody>\n",
       "</table>\n",
       "</div>"
      ],
      "text/plain": [
       "                                  Features  Importances\n",
       "0                                   Amount     0.870249\n",
       "184                       Week_fourth_week     0.045016\n",
       "65    max_amt_per_ProductId_in_last_72hhrs     0.027265\n",
       "7    Avg_amt_per_ProviderId_in_last_12hhrs     0.022816\n",
       "167                          Month_January     0.015760"
      ]
     },
     "execution_count": 66,
     "metadata": {},
     "output_type": "execute_result"
    }
   ],
   "source": [
    "dtree_importances = dtree_importances[dtree_importances['Importances']>0]\n",
    "dtree_importances.head()"
   ]
  },
  {
   "cell_type": "code",
   "execution_count": 67,
   "metadata": {},
   "outputs": [],
   "source": [
    "grid4 = grid4.best_estimator_"
   ]
  },
  {
   "cell_type": "code",
   "execution_count": 49,
   "metadata": {},
   "outputs": [
    {
     "name": "stdout",
     "output_type": "stream",
     "text": [
      "Thresh=0.00000622, n=11, F1: 0.74273951\n",
      "Thresh=0.00000959, n=10, F1: 0.77214143\n",
      "Thresh=0.00057593, n=9, F1: 0.75920246\n",
      "Thresh=0.00366536, n=8, F1: 0.81533834\n",
      "Thresh=0.00622593, n=7, F1: 0.71701733\n",
      "Thresh=0.00841075, n=6, F1: 0.78077687\n",
      "Thresh=0.01576015, n=5, F1: 0.71461630\n",
      "Thresh=0.02281637, n=4, F1: 0.75453477\n",
      "Thresh=0.02726465, n=3, F1: 0.68504648\n",
      "Thresh=0.04501588, n=2, F1: 0.71387361\n",
      "Thresh=0.87024917, n=1, F1: 0.61448513\n"
     ]
    }
   ],
   "source": [
    "thresholds = np.sort(np.array(dtree_importances['Importances']))\n",
    "for thresh in thresholds:\n",
    "    \n",
    "    f1 = []\n",
    "    \n",
    "    for train, test in TimeSeriesSplit(n_splits=10).split(X_train, y_train):\n",
    "        # select features using threshold\n",
    "        selection = SelectFromModel(grid4, threshold=thresh, prefit=True)\n",
    "        select_X_train = selection.transform(X_train.iloc[train])\n",
    "        # train model\n",
    "        selection_model = DecisionTreeClassifier(**grid4.get_params())\n",
    "        selection_model.fit(select_X_train, y_train.iloc[train])\n",
    "        # eval model\n",
    "        select_X_test = selection.transform(X_train.iloc[test])\n",
    "        y_pred = selection_model.predict(select_X_test)\n",
    "        predictions = [round(value) for value in y_pred]\n",
    "        f1.append(f1_score(y_train.iloc[test], predictions))\n",
    "        \n",
    "    print(\"Thresh=%.8f, n=%d, F1: %.8f\" % (thresh, select_X_train.shape[1], np.mean(f1)))"
   ]
  },
  {
   "cell_type": "code",
   "execution_count": 68,
   "metadata": {},
   "outputs": [
    {
     "data": {
      "text/html": [
       "<div>\n",
       "<style scoped>\n",
       "    .dataframe tbody tr th:only-of-type {\n",
       "        vertical-align: middle;\n",
       "    }\n",
       "\n",
       "    .dataframe tbody tr th {\n",
       "        vertical-align: top;\n",
       "    }\n",
       "\n",
       "    .dataframe thead th {\n",
       "        text-align: right;\n",
       "    }\n",
       "</style>\n",
       "<table border=\"1\" class=\"dataframe\">\n",
       "  <thead>\n",
       "    <tr style=\"text-align: right;\">\n",
       "      <th></th>\n",
       "      <th>Features</th>\n",
       "      <th>Importances</th>\n",
       "    </tr>\n",
       "  </thead>\n",
       "  <tbody>\n",
       "    <tr>\n",
       "      <th>0</th>\n",
       "      <td>Amount</td>\n",
       "      <td>0.870249</td>\n",
       "    </tr>\n",
       "    <tr>\n",
       "      <th>184</th>\n",
       "      <td>Week_fourth_week</td>\n",
       "      <td>0.045016</td>\n",
       "    </tr>\n",
       "    <tr>\n",
       "      <th>65</th>\n",
       "      <td>max_amt_per_ProductId_in_last_72hhrs</td>\n",
       "      <td>0.027265</td>\n",
       "    </tr>\n",
       "    <tr>\n",
       "      <th>7</th>\n",
       "      <td>Avg_amt_per_ProviderId_in_last_12hhrs</td>\n",
       "      <td>0.022816</td>\n",
       "    </tr>\n",
       "    <tr>\n",
       "      <th>167</th>\n",
       "      <td>Month_January</td>\n",
       "      <td>0.015760</td>\n",
       "    </tr>\n",
       "    <tr>\n",
       "      <th>57</th>\n",
       "      <td>max_amt_per_ProductId_in_last_12hhrs</td>\n",
       "      <td>0.008411</td>\n",
       "    </tr>\n",
       "    <tr>\n",
       "      <th>100</th>\n",
       "      <td>sum_of_amt_per_CustomerId_in_last_168hhrs</td>\n",
       "      <td>0.006226</td>\n",
       "    </tr>\n",
       "    <tr>\n",
       "      <th>120</th>\n",
       "      <td>Amount_to_std_ProductId</td>\n",
       "      <td>0.003665</td>\n",
       "    </tr>\n",
       "  </tbody>\n",
       "</table>\n",
       "</div>"
      ],
      "text/plain": [
       "                                      Features  Importances\n",
       "0                                       Amount     0.870249\n",
       "184                           Week_fourth_week     0.045016\n",
       "65        max_amt_per_ProductId_in_last_72hhrs     0.027265\n",
       "7        Avg_amt_per_ProviderId_in_last_12hhrs     0.022816\n",
       "167                              Month_January     0.015760\n",
       "57        max_amt_per_ProductId_in_last_12hhrs     0.008411\n",
       "100  sum_of_amt_per_CustomerId_in_last_168hhrs     0.006226\n",
       "120                    Amount_to_std_ProductId     0.003665"
      ]
     },
     "execution_count": 68,
     "metadata": {},
     "output_type": "execute_result"
    }
   ],
   "source": [
    "dtree_selected_features = dtree_importances[dtree_importances['Importances']>=0.00366536]\n",
    "dtree_selected_features"
   ]
  },
  {
   "cell_type": "code",
   "execution_count": 69,
   "metadata": {},
   "outputs": [],
   "source": [
    "X_train_dtree = X_train.loc[:, dtree_selected_features['Features']]\n",
    "X_test_dtree = X_test.loc[:, dtree_selected_features['Features']]\n",
    "\n",
    "test_data_dtree = test_data.loc[:, dtree_selected_features['Features']]"
   ]
  },
  {
   "cell_type": "code",
   "execution_count": 70,
   "metadata": {},
   "outputs": [
    {
     "data": {
      "text/plain": [
       "DecisionTreeClassifier(class_weight={0: 1, 1: 14.3}, criterion='gini',\n",
       "            max_depth=5, max_features=0.5, max_leaf_nodes=None,\n",
       "            min_impurity_decrease=0.0, min_impurity_split=None,\n",
       "            min_samples_leaf=2.6469387755102045e-05, min_samples_split=2,\n",
       "            min_weight_fraction_leaf=0.0, presort=False, random_state=42,\n",
       "            splitter='best')"
      ]
     },
     "execution_count": 70,
     "metadata": {},
     "output_type": "execute_result"
    }
   ],
   "source": [
    "grid4"
   ]
  },
  {
   "cell_type": "code",
   "execution_count": 71,
   "metadata": {},
   "outputs": [
    {
     "data": {
      "text/plain": [
       "DecisionTreeClassifier(class_weight={0: 1, 1: 14.3}, criterion='gini',\n",
       "            max_depth=5, max_features=0.5, max_leaf_nodes=None,\n",
       "            min_impurity_decrease=0.0, min_impurity_split=None,\n",
       "            min_samples_leaf=2.6469387755102045e-05, min_samples_split=2,\n",
       "            min_weight_fraction_leaf=0.0, presort=False, random_state=42,\n",
       "            splitter='best')"
      ]
     },
     "execution_count": 71,
     "metadata": {},
     "output_type": "execute_result"
    }
   ],
   "source": [
    "dtree = DecisionTreeClassifier(\n",
    "    max_depth=5, max_features=0.5, class_weight={0:1, 1:14.3},\n",
    "    min_samples_leaf=2.6469387755102045e-05, random_state=42\n",
    ")\n",
    "\n",
    "dtree.fit(X_train_dtree, y_train, )"
   ]
  },
  {
   "cell_type": "code",
   "execution_count": 57,
   "metadata": {},
   "outputs": [
    {
     "name": "stdout",
     "output_type": "stream",
     "text": [
      "Train Score: 0.846797\n",
      "Test Score: 0.795699\n"
     ]
    }
   ],
   "source": [
    "train_predictions = dtree.predict(X_train_dtree)\n",
    "test_predictions = dtree.predict(X_test_dtree)\n",
    "\n",
    "print('Train Score: {:4f}'.format(f1_score(y_train, train_predictions)))\n",
    "print('Test Score: {:4f}'.format(f1_score(y_test, test_predictions)))"
   ]
  },
  {
   "cell_type": "code",
   "execution_count": 58,
   "metadata": {},
   "outputs": [
    {
     "data": {
      "text/plain": [
       "Counter({0: 19079, 1: 54})"
      ]
     },
     "execution_count": 58,
     "metadata": {},
     "output_type": "execute_result"
    }
   ],
   "source": [
    "Counter(test_predictions)"
   ]
  },
  {
   "cell_type": "code",
   "execution_count": 59,
   "metadata": {},
   "outputs": [
    {
     "data": {
      "text/plain": [
       "Counter({0: 44949, 1: 70})"
      ]
     },
     "execution_count": 59,
     "metadata": {},
     "output_type": "execute_result"
    }
   ],
   "source": [
    "Counter(dtree.predict(test_data_dtree))"
   ]
  },
  {
   "cell_type": "code",
   "execution_count": 60,
   "metadata": {},
   "outputs": [
    {
     "data": {
      "text/plain": [
       "array([[19077,    17],\n",
       "       [    2,    37]], dtype=int64)"
      ]
     },
     "execution_count": 60,
     "metadata": {},
     "output_type": "execute_result"
    }
   ],
   "source": [
    "confusion_matrix(y_test, test_predictions)"
   ]
  },
  {
   "cell_type": "code",
   "execution_count": 63,
   "metadata": {},
   "outputs": [
    {
     "data": {
      "text/plain": [
       "0.8248092280390418"
      ]
     },
     "execution_count": 63,
     "metadata": {},
     "output_type": "execute_result"
    }
   ],
   "source": [
    "cross_val_score(dtree, X_train_dtree, y_train, cv=TimeSeriesSplit(n_splits=5), n_jobs=-1, scoring='f1').mean()"
   ]
  },
  {
   "cell_type": "code",
   "execution_count": 64,
   "metadata": {},
   "outputs": [
    {
     "data": {
      "text/plain": [
       "0.8354513781826615"
      ]
     },
     "execution_count": 64,
     "metadata": {},
     "output_type": "execute_result"
    }
   ],
   "source": [
    "cross_val_score(dtree, X_train_dtree, y_train, cv=StratifiedKFold(n_splits=5, random_state=42), n_jobs=-1, scoring='f1').mean()"
   ]
  },
  {
   "cell_type": "code",
   "execution_count": 62,
   "metadata": {},
   "outputs": [],
   "source": [
    "#----------------------------------final solution for dtree--------------------------------\n",
    "\n",
    "final_dtree_predictions = dtree.predict(test_data_dtree)\n",
    "\n",
    "\n",
    "dtree_final_submission = pd.DataFrame(\n",
    "    {'TransactionId' : testId[0], 'FraudResult' : final_dtree_predictions}\n",
    ")\n",
    "\n",
    "dtree_final_submission.to_csv('dtree_final_submission.csv', index=False)"
   ]
  },
  {
   "cell_type": "code",
   "execution_count": 65,
   "metadata": {},
   "outputs": [
    {
     "data": {
      "image/png": "[encoded data removed]",
      "text/plain": [
       "<Figure size 432x288 with 1 Axes>"
      ]
     },
     "metadata": {
      "needs_background": "light"
     },
     "output_type": "display_data"
    }
   ],
   "source": [
    "#thresholding\n",
    "\n",
    "p_sl = dtree.predict_proba(X_test_dtree)\n",
    "precision, recall, thresholds = precision_recall_curve(y_test, p_sl[:,1])\n",
    "thresholds = np.append(thresholds, 1)\n",
    "f1_scores = 2*(precision*recall)/(precision+recall)\n",
    "plt.step(recall, precision, color='b', alpha=0.4, where='post')\n",
    "plt.xlabel('Recall')\n",
    "plt.ylabel('Precision')\n",
    "plt.ylim([0.0, 1.05])\n",
    "plt.xlim([0.0, 1.0])\n",
    "plt.title('2-class Precision-Recall curve')\n",
    "plt.show()"
   ]
  },
  {
   "cell_type": "code",
   "execution_count": 66,
   "metadata": {},
   "outputs": [
    {
     "name": "stdout",
     "output_type": "stream",
     "text": [
      "Threshold cutoff:  0.8773006134969326\n",
      "Max F1-score at cut-off :  0.8292682926829267\n"
     ]
    },
    {
     "data": {
      "text/plain": [
       "<matplotlib.axes._subplots.AxesSubplot at 0xf4c11be470>"
      ]
     },
     "execution_count": 66,
     "metadata": {},
     "output_type": "execute_result"
    },
    {
     "data": {
      "image/png": "[encoded data removed]",
      "text/plain": [
       "<Figure size 432x288 with 1 Axes>"
      ]
     },
     "metadata": {
      "needs_background": "light"
     },
     "output_type": "display_data"
    }
   ],
   "source": [
    "scrs = pd.DataFrame({'precision' : precision, 'recal' : recall, 'thresholds' : thresholds, 'f1_score':f1_scores})\n",
    "print(\"Threshold cutoff: \",scrs.loc[scrs['f1_score'] == scrs.f1_score.max(),'thresholds'].iloc[0])\n",
    "print(\"Max F1-score at cut-off : \",scrs.f1_score.max())\n",
    "\n",
    "thresh = scrs.loc[scrs['f1_score'] == scrs.f1_score.max(),'thresholds'].iloc[0]\n",
    "\n",
    "scrs.plot(x='thresholds', y='f1_score')"
   ]
  },
  {
   "cell_type": "code",
   "execution_count": 67,
   "metadata": {},
   "outputs": [
    {
     "data": {
      "text/html": [
       "<div>\n",
       "<style scoped>\n",
       "    .dataframe tbody tr th:only-of-type {\n",
       "        vertical-align: middle;\n",
       "    }\n",
       "\n",
       "    .dataframe tbody tr th {\n",
       "        vertical-align: top;\n",
       "    }\n",
       "\n",
       "    .dataframe thead th {\n",
       "        text-align: right;\n",
       "    }\n",
       "</style>\n",
       "<table border=\"1\" class=\"dataframe\">\n",
       "  <thead>\n",
       "    <tr style=\"text-align: right;\">\n",
       "      <th></th>\n",
       "      <th>precision</th>\n",
       "      <th>recal</th>\n",
       "      <th>thresholds</th>\n",
       "      <th>f1_score</th>\n",
       "    </tr>\n",
       "  </thead>\n",
       "  <tbody>\n",
       "    <tr>\n",
       "      <th>4</th>\n",
       "      <td>0.790698</td>\n",
       "      <td>0.871795</td>\n",
       "      <td>0.877301</td>\n",
       "      <td>0.829268</td>\n",
       "    </tr>\n",
       "  </tbody>\n",
       "</table>\n",
       "</div>"
      ],
      "text/plain": [
       "   precision     recal  thresholds  f1_score\n",
       "4   0.790698  0.871795    0.877301  0.829268"
      ]
     },
     "execution_count": 67,
     "metadata": {},
     "output_type": "execute_result"
    }
   ],
   "source": [
    "frame =  scrs.loc[scrs['f1_score'] == scrs.f1_score.max()]\n",
    "frame"
   ]
  },
  {
   "cell_type": "code",
   "execution_count": 68,
   "metadata": {},
   "outputs": [
    {
     "data": {
      "text/plain": [
       "0.8773006134969326"
      ]
     },
     "execution_count": 68,
     "metadata": {},
     "output_type": "execute_result"
    }
   ],
   "source": [
    "dtree_thresh = frame['thresholds'].values[0]\n",
    "dtree_thresh"
   ]
  },
  {
   "cell_type": "code",
   "execution_count": 69,
   "metadata": {},
   "outputs": [
    {
     "data": {
      "text/plain": [
       "0.8292682926829267"
      ]
     },
     "execution_count": 69,
     "metadata": {},
     "output_type": "execute_result"
    }
   ],
   "source": [
    "dtree_thresh_pred_Xtest = [1 if y>=dtree_thresh else 0 for y in p_sl[:, 1]]\n",
    "\n",
    "f1_score(y_test, dtree_thresh_pred_Xtest)"
   ]
  },
  {
   "cell_type": "code",
   "execution_count": 70,
   "metadata": {},
   "outputs": [
    {
     "data": {
      "text/plain": [
       "Counter({0: 19090, 1: 43})"
      ]
     },
     "execution_count": 70,
     "metadata": {},
     "output_type": "execute_result"
    }
   ],
   "source": [
    "Counter(dtree_thresh_pred_Xtest)"
   ]
  },
  {
   "cell_type": "code",
   "execution_count": 71,
   "metadata": {},
   "outputs": [
    {
     "data": {
      "text/plain": [
       "Counter({0: 44949, 1: 70})"
      ]
     },
     "execution_count": 71,
     "metadata": {},
     "output_type": "execute_result"
    }
   ],
   "source": [
    "Counter([1 if y>=dtree_thresh else 0 for y in dtree.predict_proba(test_data_dtree)[:, 1]])"
   ]
  },
  {
   "cell_type": "code",
   "execution_count": 72,
   "metadata": {},
   "outputs": [
    {
     "data": {
      "text/plain": [
       "0.7906976744186046"
      ]
     },
     "execution_count": 72,
     "metadata": {},
     "output_type": "execute_result"
    }
   ],
   "source": [
    "precision_score(y_test, dtree_thresh_pred_Xtest)"
   ]
  },
  {
   "cell_type": "code",
   "execution_count": 73,
   "metadata": {},
   "outputs": [
    {
     "data": {
      "text/plain": [
       "0.8717948717948718"
      ]
     },
     "execution_count": 73,
     "metadata": {},
     "output_type": "execute_result"
    }
   ],
   "source": [
    "recall_score(y_test, dtree_thresh_pred_Xtest)"
   ]
  },
  {
   "cell_type": "code",
   "execution_count": 74,
   "metadata": {},
   "outputs": [
    {
     "data": {
      "text/plain": [
       "array([[19085,     9],\n",
       "       [    5,    34]], dtype=int64)"
      ]
     },
     "execution_count": 74,
     "metadata": {},
     "output_type": "execute_result"
    }
   ],
   "source": [
    "confusion_matrix(y_test, dtree_thresh_pred_Xtest)"
   ]
  },
  {
   "cell_type": "code",
   "execution_count": 75,
   "metadata": {},
   "outputs": [],
   "source": [
    "#--------------------------final thresholding solution for DTREE--------------------------------\n",
    "\n",
    "final_thresh_dtree_predictions = [1 if y>=dtree_thresh else 0 for y in dtree.predict_proba(test_data_dtree)[:, 1]]\n",
    "\n",
    "\n",
    "dtree_final_thresh_submission = pd.DataFrame(\n",
    "    {'TransactionId' : testId[0], 'FraudResult' : final_thresh_dtree_predictions}\n",
    ")\n",
    "\n",
    "dtree_final_thresh_submission.to_csv('dtree_final_thresh_submission.csv', index=False)"
   ]
  },
  {
   "cell_type": "code",
   "execution_count": null,
   "metadata": {},
   "outputs": [],
   "source": []
  },
  {
   "cell_type": "code",
   "execution_count": null,
   "metadata": {},
   "outputs": [],
   "source": []
  },
  {
   "cell_type": "code",
   "execution_count": null,
   "metadata": {},
   "outputs": [],
   "source": []
  },
  {
   "cell_type": "code",
   "execution_count": null,
   "metadata": {},
   "outputs": [],
   "source": []
  },
  {
   "cell_type": "markdown",
   "metadata": {},
   "source": [
    "<h3>Drifting</h3>"
   ]
  },
  {
   "cell_type": "code",
   "execution_count": 51,
   "metadata": {},
   "outputs": [
    {
     "name": "stdout",
     "output_type": "stream",
     "text": [
      "No. Customers per Acc 0.8427610666666667\n",
      "Amount_to_std_PricingStrategy 0.8227109177777778\n",
      "Amount_to_mean_ChannelId 0.8297594066666667\n"
     ]
    }
   ],
   "source": [
    "training = train_data.copy()\n",
    "testing = test_data.copy()\n",
    "\n",
    "training['origin'] = 1\n",
    "testing['origin'] = 0\n",
    "\n",
    "training.drop('FraudResult', axis=1, inplace=True)\n",
    "\n",
    "training = training.sample(30000, random_state=42)\n",
    "testing = testing.sample(15000, random_state=112)\n",
    "\n",
    "combined = pd.concat([training, testing], axis=0)\n",
    "y = combined['origin']\n",
    "X = combined.drop('origin', axis=1)\n",
    "\n",
    "dtree_drift_list = []\n",
    "\n",
    "model = DecisionTreeClassifier(\n",
    "    max_depth=4, max_features=0.78, random_state=23, class_weight={0:1, 1:14.4}\n",
    ")\n",
    "\n",
    "for i in X.columns:\n",
    "    score = cross_val_score(model, pd.DataFrame(X[i]), y, cv=2, scoring='roc_auc', verbose=0).mean()\n",
    "    \n",
    "    if score>0.8:\n",
    "        dtree_drift_list.append(i)\n",
    "        print(i, score)"
   ]
  },
  {
   "cell_type": "code",
   "execution_count": null,
   "metadata": {},
   "outputs": [],
   "source": []
  },
  {
   "cell_type": "code",
   "execution_count": null,
   "metadata": {},
   "outputs": [],
   "source": []
  },
  {
   "cell_type": "code",
   "execution_count": null,
   "metadata": {},
   "outputs": [],
   "source": []
  },
  {
   "cell_type": "markdown",
   "metadata": {},
   "source": [
    "<h2>ETC</h2>"
   ]
  },
  {
   "cell_type": "code",
   "execution_count": 100,
   "metadata": {},
   "outputs": [
    {
     "data": {
      "text/plain": [
       "0.5666991679332641"
      ]
     },
     "execution_count": 100,
     "metadata": {},
     "output_type": "execute_result"
    }
   ],
   "source": [
    "etc = ExtraTreesClassifier(\n",
    "    n_estimators=100, max_depth=4, max_features=0.7, n_jobs=-1,\n",
    "    random_state=42, class_weight={0:1, 1:100}\n",
    ")\n",
    "\n",
    "cross_val_score(etc, X_train, y_train, cv=TimeSeriesSplit(n_splits=5), scoring='f1', n_jobs=-1).mean()"
   ]
  },
  {
   "cell_type": "code",
   "execution_count": 101,
   "metadata": {},
   "outputs": [
    {
     "name": "stdout",
     "output_type": "stream",
     "text": [
      "0.5342465753424658\n",
      "0.579047619047619\n"
     ]
    }
   ],
   "source": [
    "etc.fit(X_train, y_train)\n",
    "\n",
    "pred1 = etc.predict(X_train)\n",
    "pred2 = etc.predict(X_test)\n",
    "print(f1_score(y_test, pred2))\n",
    "print(f1_score(y_train, pred1))"
   ]
  },
  {
   "cell_type": "code",
   "execution_count": 104,
   "metadata": {},
   "outputs": [
    {
     "data": {
      "text/plain": [
       "GridSearchCV(cv=TimeSeriesSplit(max_train_size=None, n_splits=5),\n",
       "       error_score='raise-deprecating',\n",
       "       estimator=ExtraTreesClassifier(bootstrap=False, class_weight={0: 1, 1: 100},\n",
       "           criterion='gini', max_depth=4, max_features=0.7,\n",
       "           max_leaf_nodes=None, min_impurity_decrease=0.0,\n",
       "           min_impurity_split=None, min_samples_leaf=1,\n",
       "           min_samples_split=2, min_weight_fraction_leaf=0.0,\n",
       "           n_estimators=10, n_jobs=-1, oob_score=False, random_state=42,\n",
       "           verbose=0, warm_start=False),\n",
       "       fit_params=None, iid='warn', n_jobs=-1,\n",
       "       param_grid={'class_weight': [{0: 1, 1: 14.1}, {0: 1, 1: 14.2}, {0: 1, 1: 14.3}, {0: 1, 1: 14.4}, {0: 1, 1: 14.5}]},\n",
       "       pre_dispatch='2*n_jobs', refit=True, return_train_score='warn',\n",
       "       scoring='f1', verbose=0)"
      ]
     },
     "execution_count": 104,
     "metadata": {},
     "output_type": "execute_result"
    }
   ],
   "source": [
    "params = {\n",
    "    'class_weight' : [{0:1, 1:w} for w in [14.1, 14.2, 14.3, 14.4, 14.5]]\n",
    "}\n",
    "\n",
    "\n",
    "grid5 = GridSearchCV(ExtraTreesClassifier(\n",
    "    n_estimators=10, max_depth=4, class_weight={0:1, 1:100}, \n",
    "    max_features=0.7, random_state=42, n_jobs=-1\n",
    "), params, scoring='f1', n_jobs=-1, cv=TimeSeriesSplit(n_splits=5))\n",
    "\n",
    "grid5.fit(X_train, y_train)\n"
   ]
  },
  {
   "cell_type": "code",
   "execution_count": 105,
   "metadata": {},
   "outputs": [
    {
     "data": {
      "text/plain": [
       "({'class_weight': {0: 1, 1: 14.3}}, 0.7671160113393064)"
      ]
     },
     "execution_count": 105,
     "metadata": {},
     "output_type": "execute_result"
    }
   ],
   "source": [
    "grid5.best_params_, grid5.best_score_"
   ]
  },
  {
   "cell_type": "code",
   "execution_count": 72,
   "metadata": {},
   "outputs": [
    {
     "data": {
      "text/plain": [
       "GridSearchCV(cv=TimeSeriesSplit(max_train_size=None, n_splits=5),\n",
       "       error_score='raise-deprecating',\n",
       "       estimator=ExtraTreesClassifier(bootstrap=False, class_weight={0: 1, 1: 14.3},\n",
       "           criterion='gini', max_depth=6, max_features=0.7,\n",
       "           max_leaf_nodes=None, min_impurity_decrease=0.0,\n",
       "           min_impurity_split=None, min_samples_leaf=1,\n",
       "           min_samples_split=2, min_weight_fraction_leaf=0.0,\n",
       "           n_estimators=10, n_jobs=-1, oob_score=False, random_state=42,\n",
       "           verbose=0, warm_start=False),\n",
       "       fit_params=None, iid='warn', n_jobs=-1,\n",
       "       param_grid={'min_samples_leaf': array([1.e-08, 2.e-08, 3.e-08, 4.e-08, 5.e-08])},\n",
       "       pre_dispatch='2*n_jobs', refit=True, return_train_score='warn',\n",
       "       scoring='f1', verbose=0)"
      ]
     },
     "execution_count": 72,
     "metadata": {},
     "output_type": "execute_result"
    }
   ],
   "source": [
    "params1 = {\n",
    "    'min_samples_leaf' : np.linspace(0.00000001, 0.00000005, 5)\n",
    "}\n",
    "\n",
    "\n",
    "grid5 = GridSearchCV(ExtraTreesClassifier(\n",
    "    n_estimators=10, max_depth=6, class_weight={0:1, 1:14.3}, \n",
    "    max_features=0.7, random_state=42, n_jobs=-1\n",
    "), params1, scoring='f1', n_jobs=-1, cv=TimeSeriesSplit(n_splits=5))\n",
    "\n",
    "grid5.fit(X_train, y_train)\n"
   ]
  },
  {
   "cell_type": "code",
   "execution_count": 73,
   "metadata": {},
   "outputs": [
    {
     "data": {
      "text/plain": [
       "({'min_samples_leaf': 1e-08}, 0.8100935089754966)"
      ]
     },
     "execution_count": 73,
     "metadata": {},
     "output_type": "execute_result"
    }
   ],
   "source": [
    "grid5.best_params_, grid5.best_score_"
   ]
  },
  {
   "cell_type": "code",
   "execution_count": null,
   "metadata": {},
   "outputs": [],
   "source": []
  },
  {
   "cell_type": "code",
   "execution_count": 74,
   "metadata": {},
   "outputs": [
    {
     "data": {
      "text/plain": [
       "ExtraTreesClassifier(bootstrap=False, class_weight={0: 1, 1: 14.3},\n",
       "           criterion='gini', max_depth=6, max_features=0.7,\n",
       "           max_leaf_nodes=None, min_impurity_decrease=0.0,\n",
       "           min_impurity_split=None, min_samples_leaf=1e-08,\n",
       "           min_samples_split=2, min_weight_fraction_leaf=0.0,\n",
       "           n_estimators=10, n_jobs=-1, oob_score=False, random_state=42,\n",
       "           verbose=0, warm_start=False)"
      ]
     },
     "execution_count": 74,
     "metadata": {},
     "output_type": "execute_result"
    }
   ],
   "source": [
    "grid5.best_estimator_"
   ]
  },
  {
   "cell_type": "code",
   "execution_count": 75,
   "metadata": {},
   "outputs": [
    {
     "data": {
      "text/html": [
       "<div>\n",
       "<style scoped>\n",
       "    .dataframe tbody tr th:only-of-type {\n",
       "        vertical-align: middle;\n",
       "    }\n",
       "\n",
       "    .dataframe tbody tr th {\n",
       "        vertical-align: top;\n",
       "    }\n",
       "\n",
       "    .dataframe thead th {\n",
       "        text-align: right;\n",
       "    }\n",
       "</style>\n",
       "<table border=\"1\" class=\"dataframe\">\n",
       "  <thead>\n",
       "    <tr style=\"text-align: right;\">\n",
       "      <th></th>\n",
       "      <th>Features</th>\n",
       "      <th>Importances</th>\n",
       "    </tr>\n",
       "  </thead>\n",
       "  <tbody>\n",
       "    <tr>\n",
       "      <th>15</th>\n",
       "      <td>Avg_amt_per_ProviderId_in_last_72hhrs</td>\n",
       "      <td>0.086361</td>\n",
       "    </tr>\n",
       "    <tr>\n",
       "      <th>7</th>\n",
       "      <td>Avg_amt_per_ProviderId_in_last_12hhrs</td>\n",
       "      <td>0.079514</td>\n",
       "    </tr>\n",
       "    <tr>\n",
       "      <th>89</th>\n",
       "      <td>max_amt_per_CustomerId_in_last_12hhrs</td>\n",
       "      <td>0.070680</td>\n",
       "    </tr>\n",
       "    <tr>\n",
       "      <th>51</th>\n",
       "      <td>Avg_amt_per_ChannelId_in_last_168hhrs</td>\n",
       "      <td>0.067593</td>\n",
       "    </tr>\n",
       "    <tr>\n",
       "      <th>35</th>\n",
       "      <td>Avg_amt_per_ProductCategory_in_last_168hhrs</td>\n",
       "      <td>0.063306</td>\n",
       "    </tr>\n",
       "  </tbody>\n",
       "</table>\n",
       "</div>"
      ],
      "text/plain": [
       "                                       Features  Importances\n",
       "15        Avg_amt_per_ProviderId_in_last_72hhrs     0.086361\n",
       "7         Avg_amt_per_ProviderId_in_last_12hhrs     0.079514\n",
       "89        max_amt_per_CustomerId_in_last_12hhrs     0.070680\n",
       "51        Avg_amt_per_ChannelId_in_last_168hhrs     0.067593\n",
       "35  Avg_amt_per_ProductCategory_in_last_168hhrs     0.063306"
      ]
     },
     "execution_count": 75,
     "metadata": {},
     "output_type": "execute_result"
    }
   ],
   "source": [
    "etc_ft_importances = grid5.best_estimator_.feature_importances_\n",
    "fts = X_train.columns\n",
    "\n",
    "etc_importances = pd.DataFrame({'Features' : fts, 'Importances' : etc_ft_importances}).sort_values(by='Importances', ascending=False)\n",
    "etc_importances.head()"
   ]
  },
  {
   "cell_type": "code",
   "execution_count": 76,
   "metadata": {},
   "outputs": [
    {
     "data": {
      "text/plain": [
       "(94, 2)"
      ]
     },
     "execution_count": 76,
     "metadata": {},
     "output_type": "execute_result"
    }
   ],
   "source": [
    "etc_importances[etc_importances['Importances']==0].shape"
   ]
  },
  {
   "cell_type": "code",
   "execution_count": 77,
   "metadata": {},
   "outputs": [
    {
     "data": {
      "text/html": [
       "<div>\n",
       "<style scoped>\n",
       "    .dataframe tbody tr th:only-of-type {\n",
       "        vertical-align: middle;\n",
       "    }\n",
       "\n",
       "    .dataframe tbody tr th {\n",
       "        vertical-align: top;\n",
       "    }\n",
       "\n",
       "    .dataframe thead th {\n",
       "        text-align: right;\n",
       "    }\n",
       "</style>\n",
       "<table border=\"1\" class=\"dataframe\">\n",
       "  <thead>\n",
       "    <tr style=\"text-align: right;\">\n",
       "      <th></th>\n",
       "      <th>Features</th>\n",
       "      <th>Importances</th>\n",
       "    </tr>\n",
       "  </thead>\n",
       "  <tbody>\n",
       "    <tr>\n",
       "      <th>15</th>\n",
       "      <td>Avg_amt_per_ProviderId_in_last_72hhrs</td>\n",
       "      <td>0.086361</td>\n",
       "    </tr>\n",
       "    <tr>\n",
       "      <th>7</th>\n",
       "      <td>Avg_amt_per_ProviderId_in_last_12hhrs</td>\n",
       "      <td>0.079514</td>\n",
       "    </tr>\n",
       "    <tr>\n",
       "      <th>89</th>\n",
       "      <td>max_amt_per_CustomerId_in_last_12hhrs</td>\n",
       "      <td>0.070680</td>\n",
       "    </tr>\n",
       "    <tr>\n",
       "      <th>51</th>\n",
       "      <td>Avg_amt_per_ChannelId_in_last_168hhrs</td>\n",
       "      <td>0.067593</td>\n",
       "    </tr>\n",
       "    <tr>\n",
       "      <th>35</th>\n",
       "      <td>Avg_amt_per_ProductCategory_in_last_168hhrs</td>\n",
       "      <td>0.063306</td>\n",
       "    </tr>\n",
       "  </tbody>\n",
       "</table>\n",
       "</div>"
      ],
      "text/plain": [
       "                                       Features  Importances\n",
       "15        Avg_amt_per_ProviderId_in_last_72hhrs     0.086361\n",
       "7         Avg_amt_per_ProviderId_in_last_12hhrs     0.079514\n",
       "89        max_amt_per_CustomerId_in_last_12hhrs     0.070680\n",
       "51        Avg_amt_per_ChannelId_in_last_168hhrs     0.067593\n",
       "35  Avg_amt_per_ProductCategory_in_last_168hhrs     0.063306"
      ]
     },
     "execution_count": 77,
     "metadata": {},
     "output_type": "execute_result"
    }
   ],
   "source": [
    "etc_importances = etc_importances[etc_importances['Importances']>0]\n",
    "etc_importances.head()"
   ]
  },
  {
   "cell_type": "code",
   "execution_count": 78,
   "metadata": {},
   "outputs": [],
   "source": [
    "grid5 = grid5.best_estimator_"
   ]
  },
  {
   "cell_type": "code",
   "execution_count": 125,
   "metadata": {},
   "outputs": [
    {
     "name": "stdout",
     "output_type": "stream",
     "text": [
      "Thresh=0.00000066, n=97, F1: 0.79098105\n",
      "Thresh=0.00001079, n=96, F1: 0.80334655\n",
      "Thresh=0.00003466, n=95, F1: 0.79859306\n",
      "Thresh=0.00004727, n=94, F1: 0.79969955\n",
      "Thresh=0.00004755, n=93, F1: 0.77758763\n",
      "Thresh=0.00004783, n=92, F1: 0.78378083\n",
      "Thresh=0.00006025, n=91, F1: 0.76304749\n",
      "Thresh=0.00008013, n=90, F1: 0.78745745\n",
      "Thresh=0.00008556, n=89, F1: 0.77793616\n",
      "Thresh=0.00009203, n=88, F1: 0.78453389\n",
      "Thresh=0.00009264, n=87, F1: 0.79116897\n",
      "Thresh=0.00009422, n=86, F1: 0.78265230\n",
      "Thresh=0.00009492, n=85, F1: 0.77627425\n",
      "Thresh=0.00015251, n=84, F1: 0.76658539\n",
      "Thresh=0.00017495, n=83, F1: 0.80340120\n",
      "Thresh=0.00018378, n=82, F1: 0.77591713\n",
      "Thresh=0.00019067, n=81, F1: 0.77185389\n",
      "Thresh=0.00022579, n=80, F1: 0.78714747\n",
      "Thresh=0.00023059, n=79, F1: 0.78641996\n",
      "Thresh=0.00025858, n=78, F1: 0.77244254\n",
      "Thresh=0.00027108, n=77, F1: 0.79350088\n",
      "Thresh=0.00028242, n=76, F1: 0.79511681\n",
      "Thresh=0.00031040, n=75, F1: 0.78657041\n",
      "Thresh=0.00031067, n=74, F1: 0.79196364\n",
      "Thresh=0.00034120, n=73, F1: 0.78558568\n",
      "Thresh=0.00036157, n=72, F1: 0.78839122\n",
      "Thresh=0.00039629, n=71, F1: 0.78163558\n",
      "Thresh=0.00040659, n=70, F1: 0.77775148\n",
      "Thresh=0.00044214, n=69, F1: 0.79381304\n",
      "Thresh=0.00049087, n=68, F1: 0.78034444\n",
      "Thresh=0.00051100, n=67, F1: 0.77890517\n",
      "Thresh=0.00057050, n=66, F1: 0.79996524\n",
      "Thresh=0.00059467, n=65, F1: 0.79742539\n",
      "Thresh=0.00059804, n=64, F1: 0.77910219\n",
      "Thresh=0.00063830, n=63, F1: 0.77714316\n",
      "Thresh=0.00078724, n=62, F1: 0.78373201\n",
      "Thresh=0.00078879, n=61, F1: 0.80735804\n",
      "Thresh=0.00080638, n=60, F1: 0.75937798\n",
      "Thresh=0.00082379, n=59, F1: 0.78056284\n",
      "Thresh=0.00090008, n=58, F1: 0.76597191\n",
      "Thresh=0.00095383, n=57, F1: 0.79080391\n",
      "Thresh=0.00095593, n=56, F1: 0.76238566\n",
      "Thresh=0.00100816, n=55, F1: 0.79677374\n",
      "Thresh=0.00113924, n=54, F1: 0.78752711\n",
      "Thresh=0.00120713, n=53, F1: 0.77843930\n",
      "Thresh=0.00123918, n=52, F1: 0.79564086\n",
      "Thresh=0.00126019, n=51, F1: 0.77976733\n",
      "Thresh=0.00133064, n=50, F1: 0.78951281\n",
      "Thresh=0.00147480, n=49, F1: 0.80178971\n",
      "Thresh=0.00151229, n=48, F1: 0.78744764\n",
      "Thresh=0.00153213, n=47, F1: 0.79796875\n",
      "Thresh=0.00159278, n=46, F1: 0.76624018\n",
      "Thresh=0.00159790, n=45, F1: 0.80278151\n",
      "Thresh=0.00161644, n=44, F1: 0.80589039\n",
      "Thresh=0.00175678, n=43, F1: 0.78178927\n",
      "Thresh=0.00178301, n=42, F1: 0.77969502\n",
      "Thresh=0.00199365, n=41, F1: 0.78033192\n",
      "Thresh=0.00213950, n=40, F1: 0.79900975\n",
      "Thresh=0.00269952, n=39, F1: 0.78843701\n",
      "Thresh=0.00280400, n=38, F1: 0.78816697\n",
      "Thresh=0.00298455, n=37, F1: 0.78414376\n",
      "Thresh=0.00331825, n=36, F1: 0.78618331\n",
      "Thresh=0.00350381, n=35, F1: 0.76753155\n",
      "Thresh=0.00351780, n=34, F1: 0.77695732\n",
      "Thresh=0.00379076, n=33, F1: 0.76625946\n",
      "Thresh=0.00408668, n=32, F1: 0.76965658\n",
      "Thresh=0.00413600, n=31, F1: 0.74906301\n",
      "Thresh=0.00445436, n=30, F1: 0.77232530\n",
      "Thresh=0.00445792, n=29, F1: 0.75444976\n",
      "Thresh=0.00455285, n=28, F1: 0.76876271\n",
      "Thresh=0.00551421, n=27, F1: 0.78675993\n",
      "Thresh=0.00569593, n=26, F1: 0.75518133\n",
      "Thresh=0.00630241, n=25, F1: 0.76349300\n",
      "Thresh=0.00648681, n=24, F1: 0.74429093\n",
      "Thresh=0.00768006, n=23, F1: 0.78952023\n",
      "Thresh=0.00831080, n=22, F1: 0.77178136\n",
      "Thresh=0.00931022, n=21, F1: 0.76549637\n",
      "Thresh=0.00980032, n=20, F1: 0.75329015\n",
      "Thresh=0.01152929, n=19, F1: 0.77223762\n",
      "Thresh=0.01355707, n=18, F1: 0.74187481\n",
      "Thresh=0.01563173, n=17, F1: 0.74162609\n",
      "Thresh=0.01574455, n=16, F1: 0.74319684\n",
      "Thresh=0.02250733, n=15, F1: 0.73704380\n",
      "Thresh=0.03070421, n=14, F1: 0.77658040\n",
      "Thresh=0.03161657, n=13, F1: 0.76311398\n",
      "Thresh=0.03444294, n=12, F1: 0.70096658\n",
      "Thresh=0.03757996, n=11, F1: 0.67853826\n",
      "Thresh=0.04492663, n=10, F1: 0.65717478\n",
      "Thresh=0.04766797, n=9, F1: 0.52501611\n",
      "Thresh=0.06139107, n=8, F1: 0.51732603\n",
      "Thresh=0.06141458, n=7, F1: 0.53979527\n",
      "Thresh=0.06149444, n=6, F1: 0.50130976\n",
      "Thresh=0.06330598, n=5, F1: 0.48275942\n",
      "Thresh=0.06759252, n=4, F1: 0.50403028\n",
      "Thresh=0.07068019, n=3, F1: 0.55613443\n",
      "Thresh=0.07951374, n=2, F1: 0.53679625\n",
      "Thresh=0.08636097, n=1, F1: 0.45091836\n"
     ]
    }
   ],
   "source": [
    "thresholds = np.sort(np.array(etc_importances['Importances']))\n",
    "for thresh in thresholds:\n",
    "    \n",
    "    f1 = []\n",
    "    \n",
    "    for train, test in TimeSeriesSplit(n_splits=10).split(X_train, y_train):\n",
    "        # select features using threshold\n",
    "        selection = SelectFromModel(grid5, threshold=thresh, prefit=True)\n",
    "        select_X_train = selection.transform(X_train.iloc[train])\n",
    "        # train model\n",
    "        selection_model = ExtraTreesClassifier(**grid5.get_params())\n",
    "        selection_model.fit(select_X_train, y_train.iloc[train])\n",
    "        # eval model\n",
    "        select_X_test = selection.transform(X_train.iloc[test])\n",
    "        y_pred = selection_model.predict(select_X_test)\n",
    "        predictions = [round(value) for value in y_pred]\n",
    "        f1.append(f1_score(y_train.iloc[test], predictions))\n",
    "        \n",
    "    print(\"Thresh=%.8f, n=%d, F1: %.8f\" % (thresh, select_X_train.shape[1], np.mean(f1)))"
   ]
  },
  {
   "cell_type": "code",
   "execution_count": 79,
   "metadata": {
    "scrolled": true
   },
   "outputs": [
    {
     "data": {
      "text/html": [
       "<div>\n",
       "<style scoped>\n",
       "    .dataframe tbody tr th:only-of-type {\n",
       "        vertical-align: middle;\n",
       "    }\n",
       "\n",
       "    .dataframe tbody tr th {\n",
       "        vertical-align: top;\n",
       "    }\n",
       "\n",
       "    .dataframe thead th {\n",
       "        text-align: right;\n",
       "    }\n",
       "</style>\n",
       "<table border=\"1\" class=\"dataframe\">\n",
       "  <thead>\n",
       "    <tr style=\"text-align: right;\">\n",
       "      <th></th>\n",
       "      <th>Features</th>\n",
       "      <th>Importances</th>\n",
       "    </tr>\n",
       "  </thead>\n",
       "  <tbody>\n",
       "    <tr>\n",
       "      <th>15</th>\n",
       "      <td>Avg_amt_per_ProviderId_in_last_72hhrs</td>\n",
       "      <td>0.086361</td>\n",
       "    </tr>\n",
       "    <tr>\n",
       "      <th>7</th>\n",
       "      <td>Avg_amt_per_ProviderId_in_last_12hhrs</td>\n",
       "      <td>0.079514</td>\n",
       "    </tr>\n",
       "    <tr>\n",
       "      <th>89</th>\n",
       "      <td>max_amt_per_CustomerId_in_last_12hhrs</td>\n",
       "      <td>0.070680</td>\n",
       "    </tr>\n",
       "    <tr>\n",
       "      <th>51</th>\n",
       "      <td>Avg_amt_per_ChannelId_in_last_168hhrs</td>\n",
       "      <td>0.067593</td>\n",
       "    </tr>\n",
       "    <tr>\n",
       "      <th>35</th>\n",
       "      <td>Avg_amt_per_ProductCategory_in_last_168hhrs</td>\n",
       "      <td>0.063306</td>\n",
       "    </tr>\n",
       "  </tbody>\n",
       "</table>\n",
       "</div>"
      ],
      "text/plain": [
       "                                       Features  Importances\n",
       "15        Avg_amt_per_ProviderId_in_last_72hhrs     0.086361\n",
       "7         Avg_amt_per_ProviderId_in_last_12hhrs     0.079514\n",
       "89        max_amt_per_CustomerId_in_last_12hhrs     0.070680\n",
       "51        Avg_amt_per_ChannelId_in_last_168hhrs     0.067593\n",
       "35  Avg_amt_per_ProductCategory_in_last_168hhrs     0.063306"
      ]
     },
     "execution_count": 79,
     "metadata": {},
     "output_type": "execute_result"
    }
   ],
   "source": [
    "etc_selected_features = etc_importances[etc_importances['Importances']>0.00078879]\n",
    "etc_selected_features.head()"
   ]
  },
  {
   "cell_type": "code",
   "execution_count": 80,
   "metadata": {},
   "outputs": [],
   "source": [
    "X_train_etc = X_train.loc[:, etc_selected_features['Features']]\n",
    "X_test_etc = X_test.loc[:, etc_selected_features['Features']]\n",
    "\n",
    "test_data_etc = test_data.loc[:, etc_selected_features['Features']]"
   ]
  },
  {
   "cell_type": "code",
   "execution_count": 81,
   "metadata": {},
   "outputs": [
    {
     "data": {
      "text/plain": [
       "ExtraTreesClassifier(bootstrap=False, class_weight={0: 1, 1: 14.3},\n",
       "           criterion='gini', max_depth=6, max_features=0.7,\n",
       "           max_leaf_nodes=None, min_impurity_decrease=0.0,\n",
       "           min_impurity_split=None, min_samples_leaf=1e-08,\n",
       "           min_samples_split=2, min_weight_fraction_leaf=0.0,\n",
       "           n_estimators=10, n_jobs=-1, oob_score=False, random_state=42,\n",
       "           verbose=0, warm_start=False)"
      ]
     },
     "execution_count": 81,
     "metadata": {},
     "output_type": "execute_result"
    }
   ],
   "source": [
    "grid5"
   ]
  },
  {
   "cell_type": "code",
   "execution_count": 82,
   "metadata": {},
   "outputs": [
    {
     "data": {
      "text/plain": [
       "ExtraTreesClassifier(bootstrap=False, class_weight={0: 1, 1: 14.3},\n",
       "           criterion='gini', max_depth=6, max_features=0.7,\n",
       "           max_leaf_nodes=None, min_impurity_decrease=0.0,\n",
       "           min_impurity_split=None, min_samples_leaf=1,\n",
       "           min_samples_split=2, min_weight_fraction_leaf=0.0,\n",
       "           n_estimators=8000, n_jobs=-1, oob_score=False, random_state=42,\n",
       "           verbose=0, warm_start=False)"
      ]
     },
     "execution_count": 82,
     "metadata": {},
     "output_type": "execute_result"
    }
   ],
   "source": [
    "etc = ExtraTreesClassifier(\n",
    "    n_estimators=8000, max_depth=6, max_features=0.7, class_weight={0:1, 1:14.3},\n",
    "    n_jobs=-1, random_state=42\n",
    ")\n",
    "\n",
    "etc.fit(X_train_etc, y_train)"
   ]
  },
  {
   "cell_type": "code",
   "execution_count": 141,
   "metadata": {},
   "outputs": [
    {
     "name": "stdout",
     "output_type": "stream",
     "text": [
      "Train Score: 0.861190\n",
      "Test Score: 0.770833\n"
     ]
    }
   ],
   "source": [
    "train_predictions = etc.predict(X_train_etc)\n",
    "test_predictions = etc.predict(X_test_etc)\n",
    "\n",
    "print('Train Score: {:4f}'.format(f1_score(y_train, train_predictions)))\n",
    "print('Test Score: {:4f}'.format(f1_score(y_test, test_predictions)))"
   ]
  },
  {
   "cell_type": "code",
   "execution_count": 142,
   "metadata": {},
   "outputs": [
    {
     "data": {
      "text/plain": [
       "Counter({0: 19076, 1: 57})"
      ]
     },
     "execution_count": 142,
     "metadata": {},
     "output_type": "execute_result"
    }
   ],
   "source": [
    "Counter(test_predictions)"
   ]
  },
  {
   "cell_type": "code",
   "execution_count": 143,
   "metadata": {},
   "outputs": [
    {
     "data": {
      "text/plain": [
       "Counter({0: 44894, 1: 125})"
      ]
     },
     "execution_count": 143,
     "metadata": {},
     "output_type": "execute_result"
    }
   ],
   "source": [
    "Counter(etc.predict(test_data_etc))"
   ]
  },
  {
   "cell_type": "code",
   "execution_count": 144,
   "metadata": {},
   "outputs": [
    {
     "data": {
      "text/plain": [
       "array([[19074,    20],\n",
       "       [    2,    37]], dtype=int64)"
      ]
     },
     "execution_count": 144,
     "metadata": {},
     "output_type": "execute_result"
    }
   ],
   "source": [
    "confusion_matrix(y_test, test_predictions)"
   ]
  },
  {
   "cell_type": "code",
   "execution_count": 145,
   "metadata": {},
   "outputs": [],
   "source": [
    "#----------------------------------final solution for etc--------------------------------\n",
    "\n",
    "final_etc_predictions = etc.predict(test_data_etc)\n",
    "\n",
    "\n",
    "etc_final_submission = pd.DataFrame(\n",
    "    {'TransactionId' : testId[0], 'FraudResult' : final_etc_predictions}\n",
    ")\n",
    "\n",
    "etc_final_submission.to_csv('etc_final_submission.csv', index=False)"
   ]
  },
  {
   "cell_type": "code",
   "execution_count": null,
   "metadata": {},
   "outputs": [],
   "source": []
  },
  {
   "cell_type": "code",
   "execution_count": 25,
   "metadata": {},
   "outputs": [
    {
     "data": {
      "image/png": "[encoded data removed]",
      "text/plain": [
       "<Figure size 432x288 with 1 Axes>"
      ]
     },
     "metadata": {
      "needs_background": "light"
     },
     "output_type": "display_data"
    }
   ],
   "source": [
    "#thresholding\n",
    "\n",
    "p_sl = etc.predict_proba(X_test_etc)\n",
    "precision, recall, thresholds = precision_recall_curve(y_test, p_sl[:,1])\n",
    "thresholds = np.append(thresholds, 1)\n",
    "f1_scores = 2*(precision*recall)/(precision+recall)\n",
    "plt.step(recall, precision, color='b', alpha=0.4, where='post')\n",
    "plt.xlabel('Recall')\n",
    "plt.ylabel('Precision')\n",
    "plt.ylim([0.0, 1.05])\n",
    "plt.xlim([0.0, 1.0])\n",
    "plt.title('2-class Precision-Recall curve')\n",
    "plt.show()"
   ]
  },
  {
   "cell_type": "code",
   "execution_count": 26,
   "metadata": {},
   "outputs": [
    {
     "name": "stdout",
     "output_type": "stream",
     "text": [
      "Threshold cutoff:  0.8903699490040615\n",
      "Max F1-score at cut-off :  0.8648648648648648\n"
     ]
    },
    {
     "data": {
      "text/plain": [
       "<matplotlib.axes._subplots.AxesSubplot at 0x4c166f89b0>"
      ]
     },
     "execution_count": 26,
     "metadata": {},
     "output_type": "execute_result"
    },
    {
     "data": {
      "image/png": "[encoded data removed]",
      "text/plain": [
       "<Figure size 432x288 with 1 Axes>"
      ]
     },
     "metadata": {
      "needs_background": "light"
     },
     "output_type": "display_data"
    }
   ],
   "source": [
    "scrs = pd.DataFrame({'precision' : precision, 'recal' : recall, 'thresholds' : thresholds, 'f1_score':f1_scores})\n",
    "print(\"Threshold cutoff: \",scrs.loc[scrs['f1_score'] == scrs.f1_score.max(),'thresholds'].iloc[0])\n",
    "print(\"Max F1-score at cut-off : \",scrs.f1_score.max())\n",
    "\n",
    "thresh = scrs.loc[scrs['f1_score'] == scrs.f1_score.max(),'thresholds'].iloc[0]\n",
    "\n",
    "scrs.plot(x='thresholds', y='f1_score')"
   ]
  },
  {
   "cell_type": "code",
   "execution_count": 27,
   "metadata": {},
   "outputs": [
    {
     "data": {
      "text/html": [
       "<div>\n",
       "<style scoped>\n",
       "    .dataframe tbody tr th:only-of-type {\n",
       "        vertical-align: middle;\n",
       "    }\n",
       "\n",
       "    .dataframe tbody tr th {\n",
       "        vertical-align: top;\n",
       "    }\n",
       "\n",
       "    .dataframe thead th {\n",
       "        text-align: right;\n",
       "    }\n",
       "</style>\n",
       "<table border=\"1\" class=\"dataframe\">\n",
       "  <thead>\n",
       "    <tr style=\"text-align: right;\">\n",
       "      <th></th>\n",
       "      <th>precision</th>\n",
       "      <th>recal</th>\n",
       "      <th>thresholds</th>\n",
       "      <th>f1_score</th>\n",
       "    </tr>\n",
       "  </thead>\n",
       "  <tbody>\n",
       "    <tr>\n",
       "      <th>27</th>\n",
       "      <td>0.914286</td>\n",
       "      <td>0.820513</td>\n",
       "      <td>0.89037</td>\n",
       "      <td>0.864865</td>\n",
       "    </tr>\n",
       "  </tbody>\n",
       "</table>\n",
       "</div>"
      ],
      "text/plain": [
       "    precision     recal  thresholds  f1_score\n",
       "27   0.914286  0.820513     0.89037  0.864865"
      ]
     },
     "execution_count": 27,
     "metadata": {},
     "output_type": "execute_result"
    }
   ],
   "source": [
    "frame =  scrs.loc[scrs['f1_score'] == scrs.f1_score.max()]\n",
    "frame"
   ]
  },
  {
   "cell_type": "code",
   "execution_count": 28,
   "metadata": {},
   "outputs": [
    {
     "data": {
      "text/plain": [
       "0.8903699490040615"
      ]
     },
     "execution_count": 28,
     "metadata": {},
     "output_type": "execute_result"
    }
   ],
   "source": [
    "etc_thresh = frame['thresholds'].values[0]\n",
    "etc_thresh"
   ]
  },
  {
   "cell_type": "code",
   "execution_count": 150,
   "metadata": {},
   "outputs": [
    {
     "data": {
      "text/plain": [
       "0.8648648648648648"
      ]
     },
     "execution_count": 150,
     "metadata": {},
     "output_type": "execute_result"
    }
   ],
   "source": [
    "etc_thresh_pred_Xtest = [1 if y>=etc_thresh else 0 for y in p_sl[:, 1]]\n",
    "\n",
    "f1_score(y_test, etc_thresh_pred_Xtest)"
   ]
  },
  {
   "cell_type": "code",
   "execution_count": 151,
   "metadata": {},
   "outputs": [
    {
     "data": {
      "text/plain": [
       "Counter({0: 19098, 1: 35})"
      ]
     },
     "execution_count": 151,
     "metadata": {},
     "output_type": "execute_result"
    }
   ],
   "source": [
    "Counter(etc_thresh_pred_Xtest)"
   ]
  },
  {
   "cell_type": "code",
   "execution_count": 152,
   "metadata": {},
   "outputs": [
    {
     "data": {
      "text/plain": [
       "Counter({0: 44961, 1: 58})"
      ]
     },
     "execution_count": 152,
     "metadata": {},
     "output_type": "execute_result"
    }
   ],
   "source": [
    "Counter([1 if y>=etc_thresh else 0 for y in etc.predict_proba(test_data_etc)[:, 1]])"
   ]
  },
  {
   "cell_type": "code",
   "execution_count": 153,
   "metadata": {},
   "outputs": [
    {
     "data": {
      "text/plain": [
       "0.9142857142857143"
      ]
     },
     "execution_count": 153,
     "metadata": {},
     "output_type": "execute_result"
    }
   ],
   "source": [
    "precision_score(y_test, etc_thresh_pred_Xtest)"
   ]
  },
  {
   "cell_type": "code",
   "execution_count": 154,
   "metadata": {},
   "outputs": [
    {
     "data": {
      "text/plain": [
       "0.8205128205128205"
      ]
     },
     "execution_count": 154,
     "metadata": {},
     "output_type": "execute_result"
    }
   ],
   "source": [
    "recall_score(y_test, etc_thresh_pred_Xtest)"
   ]
  },
  {
   "cell_type": "code",
   "execution_count": 155,
   "metadata": {},
   "outputs": [
    {
     "data": {
      "text/plain": [
       "array([[19091,     3],\n",
       "       [    7,    32]], dtype=int64)"
      ]
     },
     "execution_count": 155,
     "metadata": {},
     "output_type": "execute_result"
    }
   ],
   "source": [
    "confusion_matrix(y_test, etc_thresh_pred_Xtest)"
   ]
  },
  {
   "cell_type": "code",
   "execution_count": null,
   "metadata": {},
   "outputs": [],
   "source": []
  },
  {
   "cell_type": "code",
   "execution_count": 29,
   "metadata": {},
   "outputs": [],
   "source": [
    "#--------------------------final thresholding solution for ETC--------------------------------\n",
    "\n",
    "final_thresh_etc_predictions = [1 if y>=etc_thresh else 0 for y in etc.predict_proba(test_data_etc)[:, 1]]\n",
    "\n",
    "\n",
    "etc_final_thresh_submission = pd.DataFrame(\n",
    "    {'TransactionId' : testId[0], 'FraudResult' : final_thresh_etc_predictions}\n",
    ")\n",
    "\n",
    "etc_final_thresh_submission.to_csv('etc_final_thresh_submission.csv', index=False)"
   ]
  },
  {
   "cell_type": "code",
   "execution_count": null,
   "metadata": {},
   "outputs": [],
   "source": []
  },
  {
   "cell_type": "code",
   "execution_count": null,
   "metadata": {},
   "outputs": [],
   "source": []
  },
  {
   "cell_type": "code",
   "execution_count": null,
   "metadata": {},
   "outputs": [],
   "source": []
  },
  {
   "cell_type": "code",
   "execution_count": null,
   "metadata": {},
   "outputs": [],
   "source": []
  },
  {
   "cell_type": "code",
   "execution_count": null,
   "metadata": {},
   "outputs": [],
   "source": []
  },
  {
   "cell_type": "markdown",
   "metadata": {},
   "source": [
    "<h3>Drifting</h3>"
   ]
  },
  {
   "cell_type": "code",
   "execution_count": 126,
   "metadata": {},
   "outputs": [
    {
     "name": "stderr",
     "output_type": "stream",
     "text": [
      "C:\\Users\\USER\\AppData\\Local\\Continuum\\anaconda3\\lib\\site-packages\\sklearn\\ensemble\\forest.py:246: FutureWarning: The default value of n_estimators will change from 10 in version 0.20 to 100 in 0.22.\n",
      "  \"10 in version 0.20 to 100 in 0.22.\", FutureWarning)\n",
      "C:\\Users\\USER\\AppData\\Local\\Continuum\\anaconda3\\lib\\site-packages\\sklearn\\ensemble\\forest.py:246: FutureWarning: The default value of n_estimators will change from 10 in version 0.20 to 100 in 0.22.\n",
      "  \"10 in version 0.20 to 100 in 0.22.\", FutureWarning)\n",
      "C:\\Users\\USER\\AppData\\Local\\Continuum\\anaconda3\\lib\\site-packages\\sklearn\\ensemble\\forest.py:246: FutureWarning: The default value of n_estimators will change from 10 in version 0.20 to 100 in 0.22.\n",
      "  \"10 in version 0.20 to 100 in 0.22.\", FutureWarning)\n",
      "C:\\Users\\USER\\AppData\\Local\\Continuum\\anaconda3\\lib\\site-packages\\sklearn\\ensemble\\forest.py:246: FutureWarning: The default value of n_estimators will change from 10 in version 0.20 to 100 in 0.22.\n",
      "  \"10 in version 0.20 to 100 in 0.22.\", FutureWarning)\n",
      "C:\\Users\\USER\\AppData\\Local\\Continuum\\anaconda3\\lib\\site-packages\\sklearn\\ensemble\\forest.py:246: FutureWarning: The default value of n_estimators will change from 10 in version 0.20 to 100 in 0.22.\n",
      "  \"10 in version 0.20 to 100 in 0.22.\", FutureWarning)\n",
      "C:\\Users\\USER\\AppData\\Local\\Continuum\\anaconda3\\lib\\site-packages\\sklearn\\ensemble\\forest.py:246: FutureWarning: The default value of n_estimators will change from 10 in version 0.20 to 100 in 0.22.\n",
      "  \"10 in version 0.20 to 100 in 0.22.\", FutureWarning)\n"
     ]
    },
    {
     "name": "stdout",
     "output_type": "stream",
     "text": [
      "No. Customers per Acc 0.8646109577777777\n"
     ]
    },
    {
     "name": "stderr",
     "output_type": "stream",
     "text": [
      "C:\\Users\\USER\\AppData\\Local\\Continuum\\anaconda3\\lib\\site-packages\\sklearn\\ensemble\\forest.py:246: FutureWarning: The default value of n_estimators will change from 10 in version 0.20 to 100 in 0.22.\n",
      "  \"10 in version 0.20 to 100 in 0.22.\", FutureWarning)\n",
      "C:\\Users\\USER\\AppData\\Local\\Continuum\\anaconda3\\lib\\site-packages\\sklearn\\ensemble\\forest.py:246: FutureWarning: The default value of n_estimators will change from 10 in version 0.20 to 100 in 0.22.\n",
      "  \"10 in version 0.20 to 100 in 0.22.\", FutureWarning)\n",
      "C:\\Users\\USER\\AppData\\Local\\Continuum\\anaconda3\\lib\\site-packages\\sklearn\\ensemble\\forest.py:246: FutureWarning: The default value of n_estimators will change from 10 in version 0.20 to 100 in 0.22.\n",
      "  \"10 in version 0.20 to 100 in 0.22.\", FutureWarning)\n",
      "C:\\Users\\USER\\AppData\\Local\\Continuum\\anaconda3\\lib\\site-packages\\sklearn\\ensemble\\forest.py:246: FutureWarning: The default value of n_estimators will change from 10 in version 0.20 to 100 in 0.22.\n",
      "  \"10 in version 0.20 to 100 in 0.22.\", FutureWarning)\n",
      "C:\\Users\\USER\\AppData\\Local\\Continuum\\anaconda3\\lib\\site-packages\\sklearn\\ensemble\\forest.py:246: FutureWarning: The default value of n_estimators will change from 10 in version 0.20 to 100 in 0.22.\n",
      "  \"10 in version 0.20 to 100 in 0.22.\", FutureWarning)\n",
      "C:\\Users\\USER\\AppData\\Local\\Continuum\\anaconda3\\lib\\site-packages\\sklearn\\ensemble\\forest.py:246: FutureWarning: The default value of n_estimators will change from 10 in version 0.20 to 100 in 0.22.\n",
      "  \"10 in version 0.20 to 100 in 0.22.\", FutureWarning)\n",
      "C:\\Users\\USER\\AppData\\Local\\Continuum\\anaconda3\\lib\\site-packages\\sklearn\\ensemble\\forest.py:246: FutureWarning: The default value of n_estimators will change from 10 in version 0.20 to 100 in 0.22.\n",
      "  \"10 in version 0.20 to 100 in 0.22.\", FutureWarning)\n",
      "C:\\Users\\USER\\AppData\\Local\\Continuum\\anaconda3\\lib\\site-packages\\sklearn\\ensemble\\forest.py:246: FutureWarning: The default value of n_estimators will change from 10 in version 0.20 to 100 in 0.22.\n",
      "  \"10 in version 0.20 to 100 in 0.22.\", FutureWarning)\n",
      "C:\\Users\\USER\\AppData\\Local\\Continuum\\anaconda3\\lib\\site-packages\\sklearn\\ensemble\\forest.py:246: FutureWarning: The default value of n_estimators will change from 10 in version 0.20 to 100 in 0.22.\n",
      "  \"10 in version 0.20 to 100 in 0.22.\", FutureWarning)\n",
      "C:\\Users\\USER\\AppData\\Local\\Continuum\\anaconda3\\lib\\site-packages\\sklearn\\ensemble\\forest.py:246: FutureWarning: The default value of n_estimators will change from 10 in version 0.20 to 100 in 0.22.\n",
      "  \"10 in version 0.20 to 100 in 0.22.\", FutureWarning)\n",
      "C:\\Users\\USER\\AppData\\Local\\Continuum\\anaconda3\\lib\\site-packages\\sklearn\\ensemble\\forest.py:246: FutureWarning: The default value of n_estimators will change from 10 in version 0.20 to 100 in 0.22.\n",
      "  \"10 in version 0.20 to 100 in 0.22.\", FutureWarning)\n",
      "C:\\Users\\USER\\AppData\\Local\\Continuum\\anaconda3\\lib\\site-packages\\sklearn\\ensemble\\forest.py:246: FutureWarning: The default value of n_estimators will change from 10 in version 0.20 to 100 in 0.22.\n",
      "  \"10 in version 0.20 to 100 in 0.22.\", FutureWarning)\n",
      "C:\\Users\\USER\\AppData\\Local\\Continuum\\anaconda3\\lib\\site-packages\\sklearn\\ensemble\\forest.py:246: FutureWarning: The default value of n_estimators will change from 10 in version 0.20 to 100 in 0.22.\n",
      "  \"10 in version 0.20 to 100 in 0.22.\", FutureWarning)\n",
      "C:\\Users\\USER\\AppData\\Local\\Continuum\\anaconda3\\lib\\site-packages\\sklearn\\ensemble\\forest.py:246: FutureWarning: The default value of n_estimators will change from 10 in version 0.20 to 100 in 0.22.\n",
      "  \"10 in version 0.20 to 100 in 0.22.\", FutureWarning)\n",
      "C:\\Users\\USER\\AppData\\Local\\Continuum\\anaconda3\\lib\\site-packages\\sklearn\\ensemble\\forest.py:246: FutureWarning: The default value of n_estimators will change from 10 in version 0.20 to 100 in 0.22.\n",
      "  \"10 in version 0.20 to 100 in 0.22.\", FutureWarning)\n",
      "C:\\Users\\USER\\AppData\\Local\\Continuum\\anaconda3\\lib\\site-packages\\sklearn\\ensemble\\forest.py:246: FutureWarning: The default value of n_estimators will change from 10 in version 0.20 to 100 in 0.22.\n",
      "  \"10 in version 0.20 to 100 in 0.22.\", FutureWarning)\n",
      "C:\\Users\\USER\\AppData\\Local\\Continuum\\anaconda3\\lib\\site-packages\\sklearn\\ensemble\\forest.py:246: FutureWarning: The default value of n_estimators will change from 10 in version 0.20 to 100 in 0.22.\n",
      "  \"10 in version 0.20 to 100 in 0.22.\", FutureWarning)\n",
      "C:\\Users\\USER\\AppData\\Local\\Continuum\\anaconda3\\lib\\site-packages\\sklearn\\ensemble\\forest.py:246: FutureWarning: The default value of n_estimators will change from 10 in version 0.20 to 100 in 0.22.\n",
      "  \"10 in version 0.20 to 100 in 0.22.\", FutureWarning)\n",
      "C:\\Users\\USER\\AppData\\Local\\Continuum\\anaconda3\\lib\\site-packages\\sklearn\\ensemble\\forest.py:246: FutureWarning: The default value of n_estimators will change from 10 in version 0.20 to 100 in 0.22.\n",
      "  \"10 in version 0.20 to 100 in 0.22.\", FutureWarning)\n",
      "C:\\Users\\USER\\AppData\\Local\\Continuum\\anaconda3\\lib\\site-packages\\sklearn\\ensemble\\forest.py:246: FutureWarning: The default value of n_estimators will change from 10 in version 0.20 to 100 in 0.22.\n",
      "  \"10 in version 0.20 to 100 in 0.22.\", FutureWarning)\n",
      "C:\\Users\\USER\\AppData\\Local\\Continuum\\anaconda3\\lib\\site-packages\\sklearn\\ensemble\\forest.py:246: FutureWarning: The default value of n_estimators will change from 10 in version 0.20 to 100 in 0.22.\n",
      "  \"10 in version 0.20 to 100 in 0.22.\", FutureWarning)\n",
      "C:\\Users\\USER\\AppData\\Local\\Continuum\\anaconda3\\lib\\site-packages\\sklearn\\ensemble\\forest.py:246: FutureWarning: The default value of n_estimators will change from 10 in version 0.20 to 100 in 0.22.\n",
      "  \"10 in version 0.20 to 100 in 0.22.\", FutureWarning)\n",
      "C:\\Users\\USER\\AppData\\Local\\Continuum\\anaconda3\\lib\\site-packages\\sklearn\\ensemble\\forest.py:246: FutureWarning: The default value of n_estimators will change from 10 in version 0.20 to 100 in 0.22.\n",
      "  \"10 in version 0.20 to 100 in 0.22.\", FutureWarning)\n",
      "C:\\Users\\USER\\AppData\\Local\\Continuum\\anaconda3\\lib\\site-packages\\sklearn\\ensemble\\forest.py:246: FutureWarning: The default value of n_estimators will change from 10 in version 0.20 to 100 in 0.22.\n",
      "  \"10 in version 0.20 to 100 in 0.22.\", FutureWarning)\n",
      "C:\\Users\\USER\\AppData\\Local\\Continuum\\anaconda3\\lib\\site-packages\\sklearn\\ensemble\\forest.py:246: FutureWarning: The default value of n_estimators will change from 10 in version 0.20 to 100 in 0.22.\n",
      "  \"10 in version 0.20 to 100 in 0.22.\", FutureWarning)\n",
      "C:\\Users\\USER\\AppData\\Local\\Continuum\\anaconda3\\lib\\site-packages\\sklearn\\ensemble\\forest.py:246: FutureWarning: The default value of n_estimators will change from 10 in version 0.20 to 100 in 0.22.\n",
      "  \"10 in version 0.20 to 100 in 0.22.\", FutureWarning)\n",
      "C:\\Users\\USER\\AppData\\Local\\Continuum\\anaconda3\\lib\\site-packages\\sklearn\\ensemble\\forest.py:246: FutureWarning: The default value of n_estimators will change from 10 in version 0.20 to 100 in 0.22.\n",
      "  \"10 in version 0.20 to 100 in 0.22.\", FutureWarning)\n",
      "C:\\Users\\USER\\AppData\\Local\\Continuum\\anaconda3\\lib\\site-packages\\sklearn\\ensemble\\forest.py:246: FutureWarning: The default value of n_estimators will change from 10 in version 0.20 to 100 in 0.22.\n",
      "  \"10 in version 0.20 to 100 in 0.22.\", FutureWarning)\n",
      "C:\\Users\\USER\\AppData\\Local\\Continuum\\anaconda3\\lib\\site-packages\\sklearn\\ensemble\\forest.py:246: FutureWarning: The default value of n_estimators will change from 10 in version 0.20 to 100 in 0.22.\n",
      "  \"10 in version 0.20 to 100 in 0.22.\", FutureWarning)\n",
      "C:\\Users\\USER\\AppData\\Local\\Continuum\\anaconda3\\lib\\site-packages\\sklearn\\ensemble\\forest.py:246: FutureWarning: The default value of n_estimators will change from 10 in version 0.20 to 100 in 0.22.\n",
      "  \"10 in version 0.20 to 100 in 0.22.\", FutureWarning)\n",
      "C:\\Users\\USER\\AppData\\Local\\Continuum\\anaconda3\\lib\\site-packages\\sklearn\\ensemble\\forest.py:246: FutureWarning: The default value of n_estimators will change from 10 in version 0.20 to 100 in 0.22.\n",
      "  \"10 in version 0.20 to 100 in 0.22.\", FutureWarning)\n",
      "C:\\Users\\USER\\AppData\\Local\\Continuum\\anaconda3\\lib\\site-packages\\sklearn\\ensemble\\forest.py:246: FutureWarning: The default value of n_estimators will change from 10 in version 0.20 to 100 in 0.22.\n",
      "  \"10 in version 0.20 to 100 in 0.22.\", FutureWarning)\n",
      "C:\\Users\\USER\\AppData\\Local\\Continuum\\anaconda3\\lib\\site-packages\\sklearn\\ensemble\\forest.py:246: FutureWarning: The default value of n_estimators will change from 10 in version 0.20 to 100 in 0.22.\n",
      "  \"10 in version 0.20 to 100 in 0.22.\", FutureWarning)\n",
      "C:\\Users\\USER\\AppData\\Local\\Continuum\\anaconda3\\lib\\site-packages\\sklearn\\ensemble\\forest.py:246: FutureWarning: The default value of n_estimators will change from 10 in version 0.20 to 100 in 0.22.\n",
      "  \"10 in version 0.20 to 100 in 0.22.\", FutureWarning)\n"
     ]
    },
    {
     "name": "stderr",
     "output_type": "stream",
     "text": [
      "C:\\Users\\USER\\AppData\\Local\\Continuum\\anaconda3\\lib\\site-packages\\sklearn\\ensemble\\forest.py:246: FutureWarning: The default value of n_estimators will change from 10 in version 0.20 to 100 in 0.22.\n",
      "  \"10 in version 0.20 to 100 in 0.22.\", FutureWarning)\n",
      "C:\\Users\\USER\\AppData\\Local\\Continuum\\anaconda3\\lib\\site-packages\\sklearn\\ensemble\\forest.py:246: FutureWarning: The default value of n_estimators will change from 10 in version 0.20 to 100 in 0.22.\n",
      "  \"10 in version 0.20 to 100 in 0.22.\", FutureWarning)\n",
      "C:\\Users\\USER\\AppData\\Local\\Continuum\\anaconda3\\lib\\site-packages\\sklearn\\ensemble\\forest.py:246: FutureWarning: The default value of n_estimators will change from 10 in version 0.20 to 100 in 0.22.\n",
      "  \"10 in version 0.20 to 100 in 0.22.\", FutureWarning)\n",
      "C:\\Users\\USER\\AppData\\Local\\Continuum\\anaconda3\\lib\\site-packages\\sklearn\\ensemble\\forest.py:246: FutureWarning: The default value of n_estimators will change from 10 in version 0.20 to 100 in 0.22.\n",
      "  \"10 in version 0.20 to 100 in 0.22.\", FutureWarning)\n",
      "C:\\Users\\USER\\AppData\\Local\\Continuum\\anaconda3\\lib\\site-packages\\sklearn\\ensemble\\forest.py:246: FutureWarning: The default value of n_estimators will change from 10 in version 0.20 to 100 in 0.22.\n",
      "  \"10 in version 0.20 to 100 in 0.22.\", FutureWarning)\n",
      "C:\\Users\\USER\\AppData\\Local\\Continuum\\anaconda3\\lib\\site-packages\\sklearn\\ensemble\\forest.py:246: FutureWarning: The default value of n_estimators will change from 10 in version 0.20 to 100 in 0.22.\n",
      "  \"10 in version 0.20 to 100 in 0.22.\", FutureWarning)\n",
      "C:\\Users\\USER\\AppData\\Local\\Continuum\\anaconda3\\lib\\site-packages\\sklearn\\ensemble\\forest.py:246: FutureWarning: The default value of n_estimators will change from 10 in version 0.20 to 100 in 0.22.\n",
      "  \"10 in version 0.20 to 100 in 0.22.\", FutureWarning)\n",
      "C:\\Users\\USER\\AppData\\Local\\Continuum\\anaconda3\\lib\\site-packages\\sklearn\\ensemble\\forest.py:246: FutureWarning: The default value of n_estimators will change from 10 in version 0.20 to 100 in 0.22.\n",
      "  \"10 in version 0.20 to 100 in 0.22.\", FutureWarning)\n",
      "C:\\Users\\USER\\AppData\\Local\\Continuum\\anaconda3\\lib\\site-packages\\sklearn\\ensemble\\forest.py:246: FutureWarning: The default value of n_estimators will change from 10 in version 0.20 to 100 in 0.22.\n",
      "  \"10 in version 0.20 to 100 in 0.22.\", FutureWarning)\n",
      "C:\\Users\\USER\\AppData\\Local\\Continuum\\anaconda3\\lib\\site-packages\\sklearn\\ensemble\\forest.py:246: FutureWarning: The default value of n_estimators will change from 10 in version 0.20 to 100 in 0.22.\n",
      "  \"10 in version 0.20 to 100 in 0.22.\", FutureWarning)\n",
      "C:\\Users\\USER\\AppData\\Local\\Continuum\\anaconda3\\lib\\site-packages\\sklearn\\ensemble\\forest.py:246: FutureWarning: The default value of n_estimators will change from 10 in version 0.20 to 100 in 0.22.\n",
      "  \"10 in version 0.20 to 100 in 0.22.\", FutureWarning)\n",
      "C:\\Users\\USER\\AppData\\Local\\Continuum\\anaconda3\\lib\\site-packages\\sklearn\\ensemble\\forest.py:246: FutureWarning: The default value of n_estimators will change from 10 in version 0.20 to 100 in 0.22.\n",
      "  \"10 in version 0.20 to 100 in 0.22.\", FutureWarning)\n",
      "C:\\Users\\USER\\AppData\\Local\\Continuum\\anaconda3\\lib\\site-packages\\sklearn\\ensemble\\forest.py:246: FutureWarning: The default value of n_estimators will change from 10 in version 0.20 to 100 in 0.22.\n",
      "  \"10 in version 0.20 to 100 in 0.22.\", FutureWarning)\n",
      "C:\\Users\\USER\\AppData\\Local\\Continuum\\anaconda3\\lib\\site-packages\\sklearn\\ensemble\\forest.py:246: FutureWarning: The default value of n_estimators will change from 10 in version 0.20 to 100 in 0.22.\n",
      "  \"10 in version 0.20 to 100 in 0.22.\", FutureWarning)\n",
      "C:\\Users\\USER\\AppData\\Local\\Continuum\\anaconda3\\lib\\site-packages\\sklearn\\ensemble\\forest.py:246: FutureWarning: The default value of n_estimators will change from 10 in version 0.20 to 100 in 0.22.\n",
      "  \"10 in version 0.20 to 100 in 0.22.\", FutureWarning)\n",
      "C:\\Users\\USER\\AppData\\Local\\Continuum\\anaconda3\\lib\\site-packages\\sklearn\\ensemble\\forest.py:246: FutureWarning: The default value of n_estimators will change from 10 in version 0.20 to 100 in 0.22.\n",
      "  \"10 in version 0.20 to 100 in 0.22.\", FutureWarning)\n",
      "C:\\Users\\USER\\AppData\\Local\\Continuum\\anaconda3\\lib\\site-packages\\sklearn\\ensemble\\forest.py:246: FutureWarning: The default value of n_estimators will change from 10 in version 0.20 to 100 in 0.22.\n",
      "  \"10 in version 0.20 to 100 in 0.22.\", FutureWarning)\n",
      "C:\\Users\\USER\\AppData\\Local\\Continuum\\anaconda3\\lib\\site-packages\\sklearn\\ensemble\\forest.py:246: FutureWarning: The default value of n_estimators will change from 10 in version 0.20 to 100 in 0.22.\n",
      "  \"10 in version 0.20 to 100 in 0.22.\", FutureWarning)\n",
      "C:\\Users\\USER\\AppData\\Local\\Continuum\\anaconda3\\lib\\site-packages\\sklearn\\ensemble\\forest.py:246: FutureWarning: The default value of n_estimators will change from 10 in version 0.20 to 100 in 0.22.\n",
      "  \"10 in version 0.20 to 100 in 0.22.\", FutureWarning)\n",
      "C:\\Users\\USER\\AppData\\Local\\Continuum\\anaconda3\\lib\\site-packages\\sklearn\\ensemble\\forest.py:246: FutureWarning: The default value of n_estimators will change from 10 in version 0.20 to 100 in 0.22.\n",
      "  \"10 in version 0.20 to 100 in 0.22.\", FutureWarning)\n",
      "C:\\Users\\USER\\AppData\\Local\\Continuum\\anaconda3\\lib\\site-packages\\sklearn\\ensemble\\forest.py:246: FutureWarning: The default value of n_estimators will change from 10 in version 0.20 to 100 in 0.22.\n",
      "  \"10 in version 0.20 to 100 in 0.22.\", FutureWarning)\n",
      "C:\\Users\\USER\\AppData\\Local\\Continuum\\anaconda3\\lib\\site-packages\\sklearn\\ensemble\\forest.py:246: FutureWarning: The default value of n_estimators will change from 10 in version 0.20 to 100 in 0.22.\n",
      "  \"10 in version 0.20 to 100 in 0.22.\", FutureWarning)\n",
      "C:\\Users\\USER\\AppData\\Local\\Continuum\\anaconda3\\lib\\site-packages\\sklearn\\ensemble\\forest.py:246: FutureWarning: The default value of n_estimators will change from 10 in version 0.20 to 100 in 0.22.\n",
      "  \"10 in version 0.20 to 100 in 0.22.\", FutureWarning)\n",
      "C:\\Users\\USER\\AppData\\Local\\Continuum\\anaconda3\\lib\\site-packages\\sklearn\\ensemble\\forest.py:246: FutureWarning: The default value of n_estimators will change from 10 in version 0.20 to 100 in 0.22.\n",
      "  \"10 in version 0.20 to 100 in 0.22.\", FutureWarning)\n",
      "C:\\Users\\USER\\AppData\\Local\\Continuum\\anaconda3\\lib\\site-packages\\sklearn\\ensemble\\forest.py:246: FutureWarning: The default value of n_estimators will change from 10 in version 0.20 to 100 in 0.22.\n",
      "  \"10 in version 0.20 to 100 in 0.22.\", FutureWarning)\n",
      "C:\\Users\\USER\\AppData\\Local\\Continuum\\anaconda3\\lib\\site-packages\\sklearn\\ensemble\\forest.py:246: FutureWarning: The default value of n_estimators will change from 10 in version 0.20 to 100 in 0.22.\n",
      "  \"10 in version 0.20 to 100 in 0.22.\", FutureWarning)\n",
      "C:\\Users\\USER\\AppData\\Local\\Continuum\\anaconda3\\lib\\site-packages\\sklearn\\ensemble\\forest.py:246: FutureWarning: The default value of n_estimators will change from 10 in version 0.20 to 100 in 0.22.\n",
      "  \"10 in version 0.20 to 100 in 0.22.\", FutureWarning)\n",
      "C:\\Users\\USER\\AppData\\Local\\Continuum\\anaconda3\\lib\\site-packages\\sklearn\\ensemble\\forest.py:246: FutureWarning: The default value of n_estimators will change from 10 in version 0.20 to 100 in 0.22.\n",
      "  \"10 in version 0.20 to 100 in 0.22.\", FutureWarning)\n",
      "C:\\Users\\USER\\AppData\\Local\\Continuum\\anaconda3\\lib\\site-packages\\sklearn\\ensemble\\forest.py:246: FutureWarning: The default value of n_estimators will change from 10 in version 0.20 to 100 in 0.22.\n",
      "  \"10 in version 0.20 to 100 in 0.22.\", FutureWarning)\n",
      "C:\\Users\\USER\\AppData\\Local\\Continuum\\anaconda3\\lib\\site-packages\\sklearn\\ensemble\\forest.py:246: FutureWarning: The default value of n_estimators will change from 10 in version 0.20 to 100 in 0.22.\n",
      "  \"10 in version 0.20 to 100 in 0.22.\", FutureWarning)\n",
      "C:\\Users\\USER\\AppData\\Local\\Continuum\\anaconda3\\lib\\site-packages\\sklearn\\ensemble\\forest.py:246: FutureWarning: The default value of n_estimators will change from 10 in version 0.20 to 100 in 0.22.\n",
      "  \"10 in version 0.20 to 100 in 0.22.\", FutureWarning)\n",
      "C:\\Users\\USER\\AppData\\Local\\Continuum\\anaconda3\\lib\\site-packages\\sklearn\\ensemble\\forest.py:246: FutureWarning: The default value of n_estimators will change from 10 in version 0.20 to 100 in 0.22.\n",
      "  \"10 in version 0.20 to 100 in 0.22.\", FutureWarning)\n",
      "C:\\Users\\USER\\AppData\\Local\\Continuum\\anaconda3\\lib\\site-packages\\sklearn\\ensemble\\forest.py:246: FutureWarning: The default value of n_estimators will change from 10 in version 0.20 to 100 in 0.22.\n",
      "  \"10 in version 0.20 to 100 in 0.22.\", FutureWarning)\n"
     ]
    },
    {
     "name": "stderr",
     "output_type": "stream",
     "text": [
      "C:\\Users\\USER\\AppData\\Local\\Continuum\\anaconda3\\lib\\site-packages\\sklearn\\ensemble\\forest.py:246: FutureWarning: The default value of n_estimators will change from 10 in version 0.20 to 100 in 0.22.\n",
      "  \"10 in version 0.20 to 100 in 0.22.\", FutureWarning)\n",
      "C:\\Users\\USER\\AppData\\Local\\Continuum\\anaconda3\\lib\\site-packages\\sklearn\\ensemble\\forest.py:246: FutureWarning: The default value of n_estimators will change from 10 in version 0.20 to 100 in 0.22.\n",
      "  \"10 in version 0.20 to 100 in 0.22.\", FutureWarning)\n",
      "C:\\Users\\USER\\AppData\\Local\\Continuum\\anaconda3\\lib\\site-packages\\sklearn\\ensemble\\forest.py:246: FutureWarning: The default value of n_estimators will change from 10 in version 0.20 to 100 in 0.22.\n",
      "  \"10 in version 0.20 to 100 in 0.22.\", FutureWarning)\n",
      "C:\\Users\\USER\\AppData\\Local\\Continuum\\anaconda3\\lib\\site-packages\\sklearn\\ensemble\\forest.py:246: FutureWarning: The default value of n_estimators will change from 10 in version 0.20 to 100 in 0.22.\n",
      "  \"10 in version 0.20 to 100 in 0.22.\", FutureWarning)\n",
      "C:\\Users\\USER\\AppData\\Local\\Continuum\\anaconda3\\lib\\site-packages\\sklearn\\ensemble\\forest.py:246: FutureWarning: The default value of n_estimators will change from 10 in version 0.20 to 100 in 0.22.\n",
      "  \"10 in version 0.20 to 100 in 0.22.\", FutureWarning)\n",
      "C:\\Users\\USER\\AppData\\Local\\Continuum\\anaconda3\\lib\\site-packages\\sklearn\\ensemble\\forest.py:246: FutureWarning: The default value of n_estimators will change from 10 in version 0.20 to 100 in 0.22.\n",
      "  \"10 in version 0.20 to 100 in 0.22.\", FutureWarning)\n",
      "C:\\Users\\USER\\AppData\\Local\\Continuum\\anaconda3\\lib\\site-packages\\sklearn\\ensemble\\forest.py:246: FutureWarning: The default value of n_estimators will change from 10 in version 0.20 to 100 in 0.22.\n",
      "  \"10 in version 0.20 to 100 in 0.22.\", FutureWarning)\n",
      "C:\\Users\\USER\\AppData\\Local\\Continuum\\anaconda3\\lib\\site-packages\\sklearn\\ensemble\\forest.py:246: FutureWarning: The default value of n_estimators will change from 10 in version 0.20 to 100 in 0.22.\n",
      "  \"10 in version 0.20 to 100 in 0.22.\", FutureWarning)\n",
      "C:\\Users\\USER\\AppData\\Local\\Continuum\\anaconda3\\lib\\site-packages\\sklearn\\ensemble\\forest.py:246: FutureWarning: The default value of n_estimators will change from 10 in version 0.20 to 100 in 0.22.\n",
      "  \"10 in version 0.20 to 100 in 0.22.\", FutureWarning)\n",
      "C:\\Users\\USER\\AppData\\Local\\Continuum\\anaconda3\\lib\\site-packages\\sklearn\\ensemble\\forest.py:246: FutureWarning: The default value of n_estimators will change from 10 in version 0.20 to 100 in 0.22.\n",
      "  \"10 in version 0.20 to 100 in 0.22.\", FutureWarning)\n",
      "C:\\Users\\USER\\AppData\\Local\\Continuum\\anaconda3\\lib\\site-packages\\sklearn\\ensemble\\forest.py:246: FutureWarning: The default value of n_estimators will change from 10 in version 0.20 to 100 in 0.22.\n",
      "  \"10 in version 0.20 to 100 in 0.22.\", FutureWarning)\n",
      "C:\\Users\\USER\\AppData\\Local\\Continuum\\anaconda3\\lib\\site-packages\\sklearn\\ensemble\\forest.py:246: FutureWarning: The default value of n_estimators will change from 10 in version 0.20 to 100 in 0.22.\n",
      "  \"10 in version 0.20 to 100 in 0.22.\", FutureWarning)\n",
      "C:\\Users\\USER\\AppData\\Local\\Continuum\\anaconda3\\lib\\site-packages\\sklearn\\ensemble\\forest.py:246: FutureWarning: The default value of n_estimators will change from 10 in version 0.20 to 100 in 0.22.\n",
      "  \"10 in version 0.20 to 100 in 0.22.\", FutureWarning)\n",
      "C:\\Users\\USER\\AppData\\Local\\Continuum\\anaconda3\\lib\\site-packages\\sklearn\\ensemble\\forest.py:246: FutureWarning: The default value of n_estimators will change from 10 in version 0.20 to 100 in 0.22.\n",
      "  \"10 in version 0.20 to 100 in 0.22.\", FutureWarning)\n",
      "C:\\Users\\USER\\AppData\\Local\\Continuum\\anaconda3\\lib\\site-packages\\sklearn\\ensemble\\forest.py:246: FutureWarning: The default value of n_estimators will change from 10 in version 0.20 to 100 in 0.22.\n",
      "  \"10 in version 0.20 to 100 in 0.22.\", FutureWarning)\n",
      "C:\\Users\\USER\\AppData\\Local\\Continuum\\anaconda3\\lib\\site-packages\\sklearn\\ensemble\\forest.py:246: FutureWarning: The default value of n_estimators will change from 10 in version 0.20 to 100 in 0.22.\n",
      "  \"10 in version 0.20 to 100 in 0.22.\", FutureWarning)\n",
      "C:\\Users\\USER\\AppData\\Local\\Continuum\\anaconda3\\lib\\site-packages\\sklearn\\ensemble\\forest.py:246: FutureWarning: The default value of n_estimators will change from 10 in version 0.20 to 100 in 0.22.\n",
      "  \"10 in version 0.20 to 100 in 0.22.\", FutureWarning)\n",
      "C:\\Users\\USER\\AppData\\Local\\Continuum\\anaconda3\\lib\\site-packages\\sklearn\\ensemble\\forest.py:246: FutureWarning: The default value of n_estimators will change from 10 in version 0.20 to 100 in 0.22.\n",
      "  \"10 in version 0.20 to 100 in 0.22.\", FutureWarning)\n",
      "C:\\Users\\USER\\AppData\\Local\\Continuum\\anaconda3\\lib\\site-packages\\sklearn\\ensemble\\forest.py:246: FutureWarning: The default value of n_estimators will change from 10 in version 0.20 to 100 in 0.22.\n",
      "  \"10 in version 0.20 to 100 in 0.22.\", FutureWarning)\n",
      "C:\\Users\\USER\\AppData\\Local\\Continuum\\anaconda3\\lib\\site-packages\\sklearn\\ensemble\\forest.py:246: FutureWarning: The default value of n_estimators will change from 10 in version 0.20 to 100 in 0.22.\n",
      "  \"10 in version 0.20 to 100 in 0.22.\", FutureWarning)\n",
      "C:\\Users\\USER\\AppData\\Local\\Continuum\\anaconda3\\lib\\site-packages\\sklearn\\ensemble\\forest.py:246: FutureWarning: The default value of n_estimators will change from 10 in version 0.20 to 100 in 0.22.\n",
      "  \"10 in version 0.20 to 100 in 0.22.\", FutureWarning)\n",
      "C:\\Users\\USER\\AppData\\Local\\Continuum\\anaconda3\\lib\\site-packages\\sklearn\\ensemble\\forest.py:246: FutureWarning: The default value of n_estimators will change from 10 in version 0.20 to 100 in 0.22.\n",
      "  \"10 in version 0.20 to 100 in 0.22.\", FutureWarning)\n",
      "C:\\Users\\USER\\AppData\\Local\\Continuum\\anaconda3\\lib\\site-packages\\sklearn\\ensemble\\forest.py:246: FutureWarning: The default value of n_estimators will change from 10 in version 0.20 to 100 in 0.22.\n",
      "  \"10 in version 0.20 to 100 in 0.22.\", FutureWarning)\n",
      "C:\\Users\\USER\\AppData\\Local\\Continuum\\anaconda3\\lib\\site-packages\\sklearn\\ensemble\\forest.py:246: FutureWarning: The default value of n_estimators will change from 10 in version 0.20 to 100 in 0.22.\n",
      "  \"10 in version 0.20 to 100 in 0.22.\", FutureWarning)\n",
      "C:\\Users\\USER\\AppData\\Local\\Continuum\\anaconda3\\lib\\site-packages\\sklearn\\ensemble\\forest.py:246: FutureWarning: The default value of n_estimators will change from 10 in version 0.20 to 100 in 0.22.\n",
      "  \"10 in version 0.20 to 100 in 0.22.\", FutureWarning)\n",
      "C:\\Users\\USER\\AppData\\Local\\Continuum\\anaconda3\\lib\\site-packages\\sklearn\\ensemble\\forest.py:246: FutureWarning: The default value of n_estimators will change from 10 in version 0.20 to 100 in 0.22.\n",
      "  \"10 in version 0.20 to 100 in 0.22.\", FutureWarning)\n",
      "C:\\Users\\USER\\AppData\\Local\\Continuum\\anaconda3\\lib\\site-packages\\sklearn\\ensemble\\forest.py:246: FutureWarning: The default value of n_estimators will change from 10 in version 0.20 to 100 in 0.22.\n",
      "  \"10 in version 0.20 to 100 in 0.22.\", FutureWarning)\n",
      "C:\\Users\\USER\\AppData\\Local\\Continuum\\anaconda3\\lib\\site-packages\\sklearn\\ensemble\\forest.py:246: FutureWarning: The default value of n_estimators will change from 10 in version 0.20 to 100 in 0.22.\n",
      "  \"10 in version 0.20 to 100 in 0.22.\", FutureWarning)\n",
      "C:\\Users\\USER\\AppData\\Local\\Continuum\\anaconda3\\lib\\site-packages\\sklearn\\ensemble\\forest.py:246: FutureWarning: The default value of n_estimators will change from 10 in version 0.20 to 100 in 0.22.\n",
      "  \"10 in version 0.20 to 100 in 0.22.\", FutureWarning)\n",
      "C:\\Users\\USER\\AppData\\Local\\Continuum\\anaconda3\\lib\\site-packages\\sklearn\\ensemble\\forest.py:246: FutureWarning: The default value of n_estimators will change from 10 in version 0.20 to 100 in 0.22.\n",
      "  \"10 in version 0.20 to 100 in 0.22.\", FutureWarning)\n",
      "C:\\Users\\USER\\AppData\\Local\\Continuum\\anaconda3\\lib\\site-packages\\sklearn\\ensemble\\forest.py:246: FutureWarning: The default value of n_estimators will change from 10 in version 0.20 to 100 in 0.22.\n",
      "  \"10 in version 0.20 to 100 in 0.22.\", FutureWarning)\n",
      "C:\\Users\\USER\\AppData\\Local\\Continuum\\anaconda3\\lib\\site-packages\\sklearn\\ensemble\\forest.py:246: FutureWarning: The default value of n_estimators will change from 10 in version 0.20 to 100 in 0.22.\n",
      "  \"10 in version 0.20 to 100 in 0.22.\", FutureWarning)\n",
      "C:\\Users\\USER\\AppData\\Local\\Continuum\\anaconda3\\lib\\site-packages\\sklearn\\ensemble\\forest.py:246: FutureWarning: The default value of n_estimators will change from 10 in version 0.20 to 100 in 0.22.\n",
      "  \"10 in version 0.20 to 100 in 0.22.\", FutureWarning)\n",
      "C:\\Users\\USER\\AppData\\Local\\Continuum\\anaconda3\\lib\\site-packages\\sklearn\\ensemble\\forest.py:246: FutureWarning: The default value of n_estimators will change from 10 in version 0.20 to 100 in 0.22.\n",
      "  \"10 in version 0.20 to 100 in 0.22.\", FutureWarning)\n",
      "C:\\Users\\USER\\AppData\\Local\\Continuum\\anaconda3\\lib\\site-packages\\sklearn\\ensemble\\forest.py:246: FutureWarning: The default value of n_estimators will change from 10 in version 0.20 to 100 in 0.22.\n",
      "  \"10 in version 0.20 to 100 in 0.22.\", FutureWarning)\n"
     ]
    },
    {
     "name": "stderr",
     "output_type": "stream",
     "text": [
      "C:\\Users\\USER\\AppData\\Local\\Continuum\\anaconda3\\lib\\site-packages\\sklearn\\ensemble\\forest.py:246: FutureWarning: The default value of n_estimators will change from 10 in version 0.20 to 100 in 0.22.\n",
      "  \"10 in version 0.20 to 100 in 0.22.\", FutureWarning)\n",
      "C:\\Users\\USER\\AppData\\Local\\Continuum\\anaconda3\\lib\\site-packages\\sklearn\\ensemble\\forest.py:246: FutureWarning: The default value of n_estimators will change from 10 in version 0.20 to 100 in 0.22.\n",
      "  \"10 in version 0.20 to 100 in 0.22.\", FutureWarning)\n",
      "C:\\Users\\USER\\AppData\\Local\\Continuum\\anaconda3\\lib\\site-packages\\sklearn\\ensemble\\forest.py:246: FutureWarning: The default value of n_estimators will change from 10 in version 0.20 to 100 in 0.22.\n",
      "  \"10 in version 0.20 to 100 in 0.22.\", FutureWarning)\n",
      "C:\\Users\\USER\\AppData\\Local\\Continuum\\anaconda3\\lib\\site-packages\\sklearn\\ensemble\\forest.py:246: FutureWarning: The default value of n_estimators will change from 10 in version 0.20 to 100 in 0.22.\n",
      "  \"10 in version 0.20 to 100 in 0.22.\", FutureWarning)\n",
      "C:\\Users\\USER\\AppData\\Local\\Continuum\\anaconda3\\lib\\site-packages\\sklearn\\ensemble\\forest.py:246: FutureWarning: The default value of n_estimators will change from 10 in version 0.20 to 100 in 0.22.\n",
      "  \"10 in version 0.20 to 100 in 0.22.\", FutureWarning)\n",
      "C:\\Users\\USER\\AppData\\Local\\Continuum\\anaconda3\\lib\\site-packages\\sklearn\\ensemble\\forest.py:246: FutureWarning: The default value of n_estimators will change from 10 in version 0.20 to 100 in 0.22.\n",
      "  \"10 in version 0.20 to 100 in 0.22.\", FutureWarning)\n",
      "C:\\Users\\USER\\AppData\\Local\\Continuum\\anaconda3\\lib\\site-packages\\sklearn\\ensemble\\forest.py:246: FutureWarning: The default value of n_estimators will change from 10 in version 0.20 to 100 in 0.22.\n",
      "  \"10 in version 0.20 to 100 in 0.22.\", FutureWarning)\n",
      "C:\\Users\\USER\\AppData\\Local\\Continuum\\anaconda3\\lib\\site-packages\\sklearn\\ensemble\\forest.py:246: FutureWarning: The default value of n_estimators will change from 10 in version 0.20 to 100 in 0.22.\n",
      "  \"10 in version 0.20 to 100 in 0.22.\", FutureWarning)\n",
      "C:\\Users\\USER\\AppData\\Local\\Continuum\\anaconda3\\lib\\site-packages\\sklearn\\ensemble\\forest.py:246: FutureWarning: The default value of n_estimators will change from 10 in version 0.20 to 100 in 0.22.\n",
      "  \"10 in version 0.20 to 100 in 0.22.\", FutureWarning)\n",
      "C:\\Users\\USER\\AppData\\Local\\Continuum\\anaconda3\\lib\\site-packages\\sklearn\\ensemble\\forest.py:246: FutureWarning: The default value of n_estimators will change from 10 in version 0.20 to 100 in 0.22.\n",
      "  \"10 in version 0.20 to 100 in 0.22.\", FutureWarning)\n",
      "C:\\Users\\USER\\AppData\\Local\\Continuum\\anaconda3\\lib\\site-packages\\sklearn\\ensemble\\forest.py:246: FutureWarning: The default value of n_estimators will change from 10 in version 0.20 to 100 in 0.22.\n",
      "  \"10 in version 0.20 to 100 in 0.22.\", FutureWarning)\n",
      "C:\\Users\\USER\\AppData\\Local\\Continuum\\anaconda3\\lib\\site-packages\\sklearn\\ensemble\\forest.py:246: FutureWarning: The default value of n_estimators will change from 10 in version 0.20 to 100 in 0.22.\n",
      "  \"10 in version 0.20 to 100 in 0.22.\", FutureWarning)\n",
      "C:\\Users\\USER\\AppData\\Local\\Continuum\\anaconda3\\lib\\site-packages\\sklearn\\ensemble\\forest.py:246: FutureWarning: The default value of n_estimators will change from 10 in version 0.20 to 100 in 0.22.\n",
      "  \"10 in version 0.20 to 100 in 0.22.\", FutureWarning)\n",
      "C:\\Users\\USER\\AppData\\Local\\Continuum\\anaconda3\\lib\\site-packages\\sklearn\\ensemble\\forest.py:246: FutureWarning: The default value of n_estimators will change from 10 in version 0.20 to 100 in 0.22.\n",
      "  \"10 in version 0.20 to 100 in 0.22.\", FutureWarning)\n",
      "C:\\Users\\USER\\AppData\\Local\\Continuum\\anaconda3\\lib\\site-packages\\sklearn\\ensemble\\forest.py:246: FutureWarning: The default value of n_estimators will change from 10 in version 0.20 to 100 in 0.22.\n",
      "  \"10 in version 0.20 to 100 in 0.22.\", FutureWarning)\n",
      "C:\\Users\\USER\\AppData\\Local\\Continuum\\anaconda3\\lib\\site-packages\\sklearn\\ensemble\\forest.py:246: FutureWarning: The default value of n_estimators will change from 10 in version 0.20 to 100 in 0.22.\n",
      "  \"10 in version 0.20 to 100 in 0.22.\", FutureWarning)\n",
      "C:\\Users\\USER\\AppData\\Local\\Continuum\\anaconda3\\lib\\site-packages\\sklearn\\ensemble\\forest.py:246: FutureWarning: The default value of n_estimators will change from 10 in version 0.20 to 100 in 0.22.\n",
      "  \"10 in version 0.20 to 100 in 0.22.\", FutureWarning)\n",
      "C:\\Users\\USER\\AppData\\Local\\Continuum\\anaconda3\\lib\\site-packages\\sklearn\\ensemble\\forest.py:246: FutureWarning: The default value of n_estimators will change from 10 in version 0.20 to 100 in 0.22.\n",
      "  \"10 in version 0.20 to 100 in 0.22.\", FutureWarning)\n",
      "C:\\Users\\USER\\AppData\\Local\\Continuum\\anaconda3\\lib\\site-packages\\sklearn\\ensemble\\forest.py:246: FutureWarning: The default value of n_estimators will change from 10 in version 0.20 to 100 in 0.22.\n",
      "  \"10 in version 0.20 to 100 in 0.22.\", FutureWarning)\n",
      "C:\\Users\\USER\\AppData\\Local\\Continuum\\anaconda3\\lib\\site-packages\\sklearn\\ensemble\\forest.py:246: FutureWarning: The default value of n_estimators will change from 10 in version 0.20 to 100 in 0.22.\n",
      "  \"10 in version 0.20 to 100 in 0.22.\", FutureWarning)\n",
      "C:\\Users\\USER\\AppData\\Local\\Continuum\\anaconda3\\lib\\site-packages\\sklearn\\ensemble\\forest.py:246: FutureWarning: The default value of n_estimators will change from 10 in version 0.20 to 100 in 0.22.\n",
      "  \"10 in version 0.20 to 100 in 0.22.\", FutureWarning)\n",
      "C:\\Users\\USER\\AppData\\Local\\Continuum\\anaconda3\\lib\\site-packages\\sklearn\\ensemble\\forest.py:246: FutureWarning: The default value of n_estimators will change from 10 in version 0.20 to 100 in 0.22.\n",
      "  \"10 in version 0.20 to 100 in 0.22.\", FutureWarning)\n",
      "C:\\Users\\USER\\AppData\\Local\\Continuum\\anaconda3\\lib\\site-packages\\sklearn\\ensemble\\forest.py:246: FutureWarning: The default value of n_estimators will change from 10 in version 0.20 to 100 in 0.22.\n",
      "  \"10 in version 0.20 to 100 in 0.22.\", FutureWarning)\n",
      "C:\\Users\\USER\\AppData\\Local\\Continuum\\anaconda3\\lib\\site-packages\\sklearn\\ensemble\\forest.py:246: FutureWarning: The default value of n_estimators will change from 10 in version 0.20 to 100 in 0.22.\n",
      "  \"10 in version 0.20 to 100 in 0.22.\", FutureWarning)\n",
      "C:\\Users\\USER\\AppData\\Local\\Continuum\\anaconda3\\lib\\site-packages\\sklearn\\ensemble\\forest.py:246: FutureWarning: The default value of n_estimators will change from 10 in version 0.20 to 100 in 0.22.\n",
      "  \"10 in version 0.20 to 100 in 0.22.\", FutureWarning)\n",
      "C:\\Users\\USER\\AppData\\Local\\Continuum\\anaconda3\\lib\\site-packages\\sklearn\\ensemble\\forest.py:246: FutureWarning: The default value of n_estimators will change from 10 in version 0.20 to 100 in 0.22.\n",
      "  \"10 in version 0.20 to 100 in 0.22.\", FutureWarning)\n",
      "C:\\Users\\USER\\AppData\\Local\\Continuum\\anaconda3\\lib\\site-packages\\sklearn\\ensemble\\forest.py:246: FutureWarning: The default value of n_estimators will change from 10 in version 0.20 to 100 in 0.22.\n",
      "  \"10 in version 0.20 to 100 in 0.22.\", FutureWarning)\n",
      "C:\\Users\\USER\\AppData\\Local\\Continuum\\anaconda3\\lib\\site-packages\\sklearn\\ensemble\\forest.py:246: FutureWarning: The default value of n_estimators will change from 10 in version 0.20 to 100 in 0.22.\n",
      "  \"10 in version 0.20 to 100 in 0.22.\", FutureWarning)\n",
      "C:\\Users\\USER\\AppData\\Local\\Continuum\\anaconda3\\lib\\site-packages\\sklearn\\ensemble\\forest.py:246: FutureWarning: The default value of n_estimators will change from 10 in version 0.20 to 100 in 0.22.\n",
      "  \"10 in version 0.20 to 100 in 0.22.\", FutureWarning)\n",
      "C:\\Users\\USER\\AppData\\Local\\Continuum\\anaconda3\\lib\\site-packages\\sklearn\\ensemble\\forest.py:246: FutureWarning: The default value of n_estimators will change from 10 in version 0.20 to 100 in 0.22.\n",
      "  \"10 in version 0.20 to 100 in 0.22.\", FutureWarning)\n",
      "C:\\Users\\USER\\AppData\\Local\\Continuum\\anaconda3\\lib\\site-packages\\sklearn\\ensemble\\forest.py:246: FutureWarning: The default value of n_estimators will change from 10 in version 0.20 to 100 in 0.22.\n",
      "  \"10 in version 0.20 to 100 in 0.22.\", FutureWarning)\n",
      "C:\\Users\\USER\\AppData\\Local\\Continuum\\anaconda3\\lib\\site-packages\\sklearn\\ensemble\\forest.py:246: FutureWarning: The default value of n_estimators will change from 10 in version 0.20 to 100 in 0.22.\n",
      "  \"10 in version 0.20 to 100 in 0.22.\", FutureWarning)\n",
      "C:\\Users\\USER\\AppData\\Local\\Continuum\\anaconda3\\lib\\site-packages\\sklearn\\ensemble\\forest.py:246: FutureWarning: The default value of n_estimators will change from 10 in version 0.20 to 100 in 0.22.\n",
      "  \"10 in version 0.20 to 100 in 0.22.\", FutureWarning)\n",
      "C:\\Users\\USER\\AppData\\Local\\Continuum\\anaconda3\\lib\\site-packages\\sklearn\\ensemble\\forest.py:246: FutureWarning: The default value of n_estimators will change from 10 in version 0.20 to 100 in 0.22.\n",
      "  \"10 in version 0.20 to 100 in 0.22.\", FutureWarning)\n"
     ]
    },
    {
     "name": "stderr",
     "output_type": "stream",
     "text": [
      "C:\\Users\\USER\\AppData\\Local\\Continuum\\anaconda3\\lib\\site-packages\\sklearn\\ensemble\\forest.py:246: FutureWarning: The default value of n_estimators will change from 10 in version 0.20 to 100 in 0.22.\n",
      "  \"10 in version 0.20 to 100 in 0.22.\", FutureWarning)\n",
      "C:\\Users\\USER\\AppData\\Local\\Continuum\\anaconda3\\lib\\site-packages\\sklearn\\ensemble\\forest.py:246: FutureWarning: The default value of n_estimators will change from 10 in version 0.20 to 100 in 0.22.\n",
      "  \"10 in version 0.20 to 100 in 0.22.\", FutureWarning)\n",
      "C:\\Users\\USER\\AppData\\Local\\Continuum\\anaconda3\\lib\\site-packages\\sklearn\\ensemble\\forest.py:246: FutureWarning: The default value of n_estimators will change from 10 in version 0.20 to 100 in 0.22.\n",
      "  \"10 in version 0.20 to 100 in 0.22.\", FutureWarning)\n",
      "C:\\Users\\USER\\AppData\\Local\\Continuum\\anaconda3\\lib\\site-packages\\sklearn\\ensemble\\forest.py:246: FutureWarning: The default value of n_estimators will change from 10 in version 0.20 to 100 in 0.22.\n",
      "  \"10 in version 0.20 to 100 in 0.22.\", FutureWarning)\n",
      "C:\\Users\\USER\\AppData\\Local\\Continuum\\anaconda3\\lib\\site-packages\\sklearn\\ensemble\\forest.py:246: FutureWarning: The default value of n_estimators will change from 10 in version 0.20 to 100 in 0.22.\n",
      "  \"10 in version 0.20 to 100 in 0.22.\", FutureWarning)\n",
      "C:\\Users\\USER\\AppData\\Local\\Continuum\\anaconda3\\lib\\site-packages\\sklearn\\ensemble\\forest.py:246: FutureWarning: The default value of n_estimators will change from 10 in version 0.20 to 100 in 0.22.\n",
      "  \"10 in version 0.20 to 100 in 0.22.\", FutureWarning)\n",
      "C:\\Users\\USER\\AppData\\Local\\Continuum\\anaconda3\\lib\\site-packages\\sklearn\\ensemble\\forest.py:246: FutureWarning: The default value of n_estimators will change from 10 in version 0.20 to 100 in 0.22.\n",
      "  \"10 in version 0.20 to 100 in 0.22.\", FutureWarning)\n",
      "C:\\Users\\USER\\AppData\\Local\\Continuum\\anaconda3\\lib\\site-packages\\sklearn\\ensemble\\forest.py:246: FutureWarning: The default value of n_estimators will change from 10 in version 0.20 to 100 in 0.22.\n",
      "  \"10 in version 0.20 to 100 in 0.22.\", FutureWarning)\n",
      "C:\\Users\\USER\\AppData\\Local\\Continuum\\anaconda3\\lib\\site-packages\\sklearn\\ensemble\\forest.py:246: FutureWarning: The default value of n_estimators will change from 10 in version 0.20 to 100 in 0.22.\n",
      "  \"10 in version 0.20 to 100 in 0.22.\", FutureWarning)\n",
      "C:\\Users\\USER\\AppData\\Local\\Continuum\\anaconda3\\lib\\site-packages\\sklearn\\ensemble\\forest.py:246: FutureWarning: The default value of n_estimators will change from 10 in version 0.20 to 100 in 0.22.\n",
      "  \"10 in version 0.20 to 100 in 0.22.\", FutureWarning)\n",
      "C:\\Users\\USER\\AppData\\Local\\Continuum\\anaconda3\\lib\\site-packages\\sklearn\\ensemble\\forest.py:246: FutureWarning: The default value of n_estimators will change from 10 in version 0.20 to 100 in 0.22.\n",
      "  \"10 in version 0.20 to 100 in 0.22.\", FutureWarning)\n",
      "C:\\Users\\USER\\AppData\\Local\\Continuum\\anaconda3\\lib\\site-packages\\sklearn\\ensemble\\forest.py:246: FutureWarning: The default value of n_estimators will change from 10 in version 0.20 to 100 in 0.22.\n",
      "  \"10 in version 0.20 to 100 in 0.22.\", FutureWarning)\n",
      "C:\\Users\\USER\\AppData\\Local\\Continuum\\anaconda3\\lib\\site-packages\\sklearn\\ensemble\\forest.py:246: FutureWarning: The default value of n_estimators will change from 10 in version 0.20 to 100 in 0.22.\n",
      "  \"10 in version 0.20 to 100 in 0.22.\", FutureWarning)\n",
      "C:\\Users\\USER\\AppData\\Local\\Continuum\\anaconda3\\lib\\site-packages\\sklearn\\ensemble\\forest.py:246: FutureWarning: The default value of n_estimators will change from 10 in version 0.20 to 100 in 0.22.\n",
      "  \"10 in version 0.20 to 100 in 0.22.\", FutureWarning)\n",
      "C:\\Users\\USER\\AppData\\Local\\Continuum\\anaconda3\\lib\\site-packages\\sklearn\\ensemble\\forest.py:246: FutureWarning: The default value of n_estimators will change from 10 in version 0.20 to 100 in 0.22.\n",
      "  \"10 in version 0.20 to 100 in 0.22.\", FutureWarning)\n",
      "C:\\Users\\USER\\AppData\\Local\\Continuum\\anaconda3\\lib\\site-packages\\sklearn\\ensemble\\forest.py:246: FutureWarning: The default value of n_estimators will change from 10 in version 0.20 to 100 in 0.22.\n",
      "  \"10 in version 0.20 to 100 in 0.22.\", FutureWarning)\n",
      "C:\\Users\\USER\\AppData\\Local\\Continuum\\anaconda3\\lib\\site-packages\\sklearn\\ensemble\\forest.py:246: FutureWarning: The default value of n_estimators will change from 10 in version 0.20 to 100 in 0.22.\n",
      "  \"10 in version 0.20 to 100 in 0.22.\", FutureWarning)\n",
      "C:\\Users\\USER\\AppData\\Local\\Continuum\\anaconda3\\lib\\site-packages\\sklearn\\ensemble\\forest.py:246: FutureWarning: The default value of n_estimators will change from 10 in version 0.20 to 100 in 0.22.\n",
      "  \"10 in version 0.20 to 100 in 0.22.\", FutureWarning)\n",
      "C:\\Users\\USER\\AppData\\Local\\Continuum\\anaconda3\\lib\\site-packages\\sklearn\\ensemble\\forest.py:246: FutureWarning: The default value of n_estimators will change from 10 in version 0.20 to 100 in 0.22.\n",
      "  \"10 in version 0.20 to 100 in 0.22.\", FutureWarning)\n",
      "C:\\Users\\USER\\AppData\\Local\\Continuum\\anaconda3\\lib\\site-packages\\sklearn\\ensemble\\forest.py:246: FutureWarning: The default value of n_estimators will change from 10 in version 0.20 to 100 in 0.22.\n",
      "  \"10 in version 0.20 to 100 in 0.22.\", FutureWarning)\n",
      "C:\\Users\\USER\\AppData\\Local\\Continuum\\anaconda3\\lib\\site-packages\\sklearn\\ensemble\\forest.py:246: FutureWarning: The default value of n_estimators will change from 10 in version 0.20 to 100 in 0.22.\n",
      "  \"10 in version 0.20 to 100 in 0.22.\", FutureWarning)\n",
      "C:\\Users\\USER\\AppData\\Local\\Continuum\\anaconda3\\lib\\site-packages\\sklearn\\ensemble\\forest.py:246: FutureWarning: The default value of n_estimators will change from 10 in version 0.20 to 100 in 0.22.\n",
      "  \"10 in version 0.20 to 100 in 0.22.\", FutureWarning)\n",
      "C:\\Users\\USER\\AppData\\Local\\Continuum\\anaconda3\\lib\\site-packages\\sklearn\\ensemble\\forest.py:246: FutureWarning: The default value of n_estimators will change from 10 in version 0.20 to 100 in 0.22.\n",
      "  \"10 in version 0.20 to 100 in 0.22.\", FutureWarning)\n",
      "C:\\Users\\USER\\AppData\\Local\\Continuum\\anaconda3\\lib\\site-packages\\sklearn\\ensemble\\forest.py:246: FutureWarning: The default value of n_estimators will change from 10 in version 0.20 to 100 in 0.22.\n",
      "  \"10 in version 0.20 to 100 in 0.22.\", FutureWarning)\n",
      "C:\\Users\\USER\\AppData\\Local\\Continuum\\anaconda3\\lib\\site-packages\\sklearn\\ensemble\\forest.py:246: FutureWarning: The default value of n_estimators will change from 10 in version 0.20 to 100 in 0.22.\n",
      "  \"10 in version 0.20 to 100 in 0.22.\", FutureWarning)\n",
      "C:\\Users\\USER\\AppData\\Local\\Continuum\\anaconda3\\lib\\site-packages\\sklearn\\ensemble\\forest.py:246: FutureWarning: The default value of n_estimators will change from 10 in version 0.20 to 100 in 0.22.\n",
      "  \"10 in version 0.20 to 100 in 0.22.\", FutureWarning)\n",
      "C:\\Users\\USER\\AppData\\Local\\Continuum\\anaconda3\\lib\\site-packages\\sklearn\\ensemble\\forest.py:246: FutureWarning: The default value of n_estimators will change from 10 in version 0.20 to 100 in 0.22.\n",
      "  \"10 in version 0.20 to 100 in 0.22.\", FutureWarning)\n",
      "C:\\Users\\USER\\AppData\\Local\\Continuum\\anaconda3\\lib\\site-packages\\sklearn\\ensemble\\forest.py:246: FutureWarning: The default value of n_estimators will change from 10 in version 0.20 to 100 in 0.22.\n",
      "  \"10 in version 0.20 to 100 in 0.22.\", FutureWarning)\n",
      "C:\\Users\\USER\\AppData\\Local\\Continuum\\anaconda3\\lib\\site-packages\\sklearn\\ensemble\\forest.py:246: FutureWarning: The default value of n_estimators will change from 10 in version 0.20 to 100 in 0.22.\n",
      "  \"10 in version 0.20 to 100 in 0.22.\", FutureWarning)\n",
      "C:\\Users\\USER\\AppData\\Local\\Continuum\\anaconda3\\lib\\site-packages\\sklearn\\ensemble\\forest.py:246: FutureWarning: The default value of n_estimators will change from 10 in version 0.20 to 100 in 0.22.\n",
      "  \"10 in version 0.20 to 100 in 0.22.\", FutureWarning)\n",
      "C:\\Users\\USER\\AppData\\Local\\Continuum\\anaconda3\\lib\\site-packages\\sklearn\\ensemble\\forest.py:246: FutureWarning: The default value of n_estimators will change from 10 in version 0.20 to 100 in 0.22.\n",
      "  \"10 in version 0.20 to 100 in 0.22.\", FutureWarning)\n",
      "C:\\Users\\USER\\AppData\\Local\\Continuum\\anaconda3\\lib\\site-packages\\sklearn\\ensemble\\forest.py:246: FutureWarning: The default value of n_estimators will change from 10 in version 0.20 to 100 in 0.22.\n",
      "  \"10 in version 0.20 to 100 in 0.22.\", FutureWarning)\n",
      "C:\\Users\\USER\\AppData\\Local\\Continuum\\anaconda3\\lib\\site-packages\\sklearn\\ensemble\\forest.py:246: FutureWarning: The default value of n_estimators will change from 10 in version 0.20 to 100 in 0.22.\n",
      "  \"10 in version 0.20 to 100 in 0.22.\", FutureWarning)\n"
     ]
    },
    {
     "name": "stderr",
     "output_type": "stream",
     "text": [
      "C:\\Users\\USER\\AppData\\Local\\Continuum\\anaconda3\\lib\\site-packages\\sklearn\\ensemble\\forest.py:246: FutureWarning: The default value of n_estimators will change from 10 in version 0.20 to 100 in 0.22.\n",
      "  \"10 in version 0.20 to 100 in 0.22.\", FutureWarning)\n",
      "C:\\Users\\USER\\AppData\\Local\\Continuum\\anaconda3\\lib\\site-packages\\sklearn\\ensemble\\forest.py:246: FutureWarning: The default value of n_estimators will change from 10 in version 0.20 to 100 in 0.22.\n",
      "  \"10 in version 0.20 to 100 in 0.22.\", FutureWarning)\n",
      "C:\\Users\\USER\\AppData\\Local\\Continuum\\anaconda3\\lib\\site-packages\\sklearn\\ensemble\\forest.py:246: FutureWarning: The default value of n_estimators will change from 10 in version 0.20 to 100 in 0.22.\n",
      "  \"10 in version 0.20 to 100 in 0.22.\", FutureWarning)\n",
      "C:\\Users\\USER\\AppData\\Local\\Continuum\\anaconda3\\lib\\site-packages\\sklearn\\ensemble\\forest.py:246: FutureWarning: The default value of n_estimators will change from 10 in version 0.20 to 100 in 0.22.\n",
      "  \"10 in version 0.20 to 100 in 0.22.\", FutureWarning)\n",
      "C:\\Users\\USER\\AppData\\Local\\Continuum\\anaconda3\\lib\\site-packages\\sklearn\\ensemble\\forest.py:246: FutureWarning: The default value of n_estimators will change from 10 in version 0.20 to 100 in 0.22.\n",
      "  \"10 in version 0.20 to 100 in 0.22.\", FutureWarning)\n",
      "C:\\Users\\USER\\AppData\\Local\\Continuum\\anaconda3\\lib\\site-packages\\sklearn\\ensemble\\forest.py:246: FutureWarning: The default value of n_estimators will change from 10 in version 0.20 to 100 in 0.22.\n",
      "  \"10 in version 0.20 to 100 in 0.22.\", FutureWarning)\n",
      "C:\\Users\\USER\\AppData\\Local\\Continuum\\anaconda3\\lib\\site-packages\\sklearn\\ensemble\\forest.py:246: FutureWarning: The default value of n_estimators will change from 10 in version 0.20 to 100 in 0.22.\n",
      "  \"10 in version 0.20 to 100 in 0.22.\", FutureWarning)\n",
      "C:\\Users\\USER\\AppData\\Local\\Continuum\\anaconda3\\lib\\site-packages\\sklearn\\ensemble\\forest.py:246: FutureWarning: The default value of n_estimators will change from 10 in version 0.20 to 100 in 0.22.\n",
      "  \"10 in version 0.20 to 100 in 0.22.\", FutureWarning)\n",
      "C:\\Users\\USER\\AppData\\Local\\Continuum\\anaconda3\\lib\\site-packages\\sklearn\\ensemble\\forest.py:246: FutureWarning: The default value of n_estimators will change from 10 in version 0.20 to 100 in 0.22.\n",
      "  \"10 in version 0.20 to 100 in 0.22.\", FutureWarning)\n",
      "C:\\Users\\USER\\AppData\\Local\\Continuum\\anaconda3\\lib\\site-packages\\sklearn\\ensemble\\forest.py:246: FutureWarning: The default value of n_estimators will change from 10 in version 0.20 to 100 in 0.22.\n",
      "  \"10 in version 0.20 to 100 in 0.22.\", FutureWarning)\n",
      "C:\\Users\\USER\\AppData\\Local\\Continuum\\anaconda3\\lib\\site-packages\\sklearn\\ensemble\\forest.py:246: FutureWarning: The default value of n_estimators will change from 10 in version 0.20 to 100 in 0.22.\n",
      "  \"10 in version 0.20 to 100 in 0.22.\", FutureWarning)\n",
      "C:\\Users\\USER\\AppData\\Local\\Continuum\\anaconda3\\lib\\site-packages\\sklearn\\ensemble\\forest.py:246: FutureWarning: The default value of n_estimators will change from 10 in version 0.20 to 100 in 0.22.\n",
      "  \"10 in version 0.20 to 100 in 0.22.\", FutureWarning)\n",
      "C:\\Users\\USER\\AppData\\Local\\Continuum\\anaconda3\\lib\\site-packages\\sklearn\\ensemble\\forest.py:246: FutureWarning: The default value of n_estimators will change from 10 in version 0.20 to 100 in 0.22.\n",
      "  \"10 in version 0.20 to 100 in 0.22.\", FutureWarning)\n",
      "C:\\Users\\USER\\AppData\\Local\\Continuum\\anaconda3\\lib\\site-packages\\sklearn\\ensemble\\forest.py:246: FutureWarning: The default value of n_estimators will change from 10 in version 0.20 to 100 in 0.22.\n",
      "  \"10 in version 0.20 to 100 in 0.22.\", FutureWarning)\n",
      "C:\\Users\\USER\\AppData\\Local\\Continuum\\anaconda3\\lib\\site-packages\\sklearn\\ensemble\\forest.py:246: FutureWarning: The default value of n_estimators will change from 10 in version 0.20 to 100 in 0.22.\n",
      "  \"10 in version 0.20 to 100 in 0.22.\", FutureWarning)\n",
      "C:\\Users\\USER\\AppData\\Local\\Continuum\\anaconda3\\lib\\site-packages\\sklearn\\ensemble\\forest.py:246: FutureWarning: The default value of n_estimators will change from 10 in version 0.20 to 100 in 0.22.\n",
      "  \"10 in version 0.20 to 100 in 0.22.\", FutureWarning)\n",
      "C:\\Users\\USER\\AppData\\Local\\Continuum\\anaconda3\\lib\\site-packages\\sklearn\\ensemble\\forest.py:246: FutureWarning: The default value of n_estimators will change from 10 in version 0.20 to 100 in 0.22.\n",
      "  \"10 in version 0.20 to 100 in 0.22.\", FutureWarning)\n",
      "C:\\Users\\USER\\AppData\\Local\\Continuum\\anaconda3\\lib\\site-packages\\sklearn\\ensemble\\forest.py:246: FutureWarning: The default value of n_estimators will change from 10 in version 0.20 to 100 in 0.22.\n",
      "  \"10 in version 0.20 to 100 in 0.22.\", FutureWarning)\n",
      "C:\\Users\\USER\\AppData\\Local\\Continuum\\anaconda3\\lib\\site-packages\\sklearn\\ensemble\\forest.py:246: FutureWarning: The default value of n_estimators will change from 10 in version 0.20 to 100 in 0.22.\n",
      "  \"10 in version 0.20 to 100 in 0.22.\", FutureWarning)\n",
      "C:\\Users\\USER\\AppData\\Local\\Continuum\\anaconda3\\lib\\site-packages\\sklearn\\ensemble\\forest.py:246: FutureWarning: The default value of n_estimators will change from 10 in version 0.20 to 100 in 0.22.\n",
      "  \"10 in version 0.20 to 100 in 0.22.\", FutureWarning)\n",
      "C:\\Users\\USER\\AppData\\Local\\Continuum\\anaconda3\\lib\\site-packages\\sklearn\\ensemble\\forest.py:246: FutureWarning: The default value of n_estimators will change from 10 in version 0.20 to 100 in 0.22.\n",
      "  \"10 in version 0.20 to 100 in 0.22.\", FutureWarning)\n",
      "C:\\Users\\USER\\AppData\\Local\\Continuum\\anaconda3\\lib\\site-packages\\sklearn\\ensemble\\forest.py:246: FutureWarning: The default value of n_estimators will change from 10 in version 0.20 to 100 in 0.22.\n",
      "  \"10 in version 0.20 to 100 in 0.22.\", FutureWarning)\n",
      "C:\\Users\\USER\\AppData\\Local\\Continuum\\anaconda3\\lib\\site-packages\\sklearn\\ensemble\\forest.py:246: FutureWarning: The default value of n_estimators will change from 10 in version 0.20 to 100 in 0.22.\n",
      "  \"10 in version 0.20 to 100 in 0.22.\", FutureWarning)\n",
      "C:\\Users\\USER\\AppData\\Local\\Continuum\\anaconda3\\lib\\site-packages\\sklearn\\ensemble\\forest.py:246: FutureWarning: The default value of n_estimators will change from 10 in version 0.20 to 100 in 0.22.\n",
      "  \"10 in version 0.20 to 100 in 0.22.\", FutureWarning)\n",
      "C:\\Users\\USER\\AppData\\Local\\Continuum\\anaconda3\\lib\\site-packages\\sklearn\\ensemble\\forest.py:246: FutureWarning: The default value of n_estimators will change from 10 in version 0.20 to 100 in 0.22.\n",
      "  \"10 in version 0.20 to 100 in 0.22.\", FutureWarning)\n",
      "C:\\Users\\USER\\AppData\\Local\\Continuum\\anaconda3\\lib\\site-packages\\sklearn\\ensemble\\forest.py:246: FutureWarning: The default value of n_estimators will change from 10 in version 0.20 to 100 in 0.22.\n",
      "  \"10 in version 0.20 to 100 in 0.22.\", FutureWarning)\n",
      "C:\\Users\\USER\\AppData\\Local\\Continuum\\anaconda3\\lib\\site-packages\\sklearn\\ensemble\\forest.py:246: FutureWarning: The default value of n_estimators will change from 10 in version 0.20 to 100 in 0.22.\n",
      "  \"10 in version 0.20 to 100 in 0.22.\", FutureWarning)\n",
      "C:\\Users\\USER\\AppData\\Local\\Continuum\\anaconda3\\lib\\site-packages\\sklearn\\ensemble\\forest.py:246: FutureWarning: The default value of n_estimators will change from 10 in version 0.20 to 100 in 0.22.\n",
      "  \"10 in version 0.20 to 100 in 0.22.\", FutureWarning)\n",
      "C:\\Users\\USER\\AppData\\Local\\Continuum\\anaconda3\\lib\\site-packages\\sklearn\\ensemble\\forest.py:246: FutureWarning: The default value of n_estimators will change from 10 in version 0.20 to 100 in 0.22.\n",
      "  \"10 in version 0.20 to 100 in 0.22.\", FutureWarning)\n",
      "C:\\Users\\USER\\AppData\\Local\\Continuum\\anaconda3\\lib\\site-packages\\sklearn\\ensemble\\forest.py:246: FutureWarning: The default value of n_estimators will change from 10 in version 0.20 to 100 in 0.22.\n",
      "  \"10 in version 0.20 to 100 in 0.22.\", FutureWarning)\n",
      "C:\\Users\\USER\\AppData\\Local\\Continuum\\anaconda3\\lib\\site-packages\\sklearn\\ensemble\\forest.py:246: FutureWarning: The default value of n_estimators will change from 10 in version 0.20 to 100 in 0.22.\n",
      "  \"10 in version 0.20 to 100 in 0.22.\", FutureWarning)\n",
      "C:\\Users\\USER\\AppData\\Local\\Continuum\\anaconda3\\lib\\site-packages\\sklearn\\ensemble\\forest.py:246: FutureWarning: The default value of n_estimators will change from 10 in version 0.20 to 100 in 0.22.\n",
      "  \"10 in version 0.20 to 100 in 0.22.\", FutureWarning)\n",
      "C:\\Users\\USER\\AppData\\Local\\Continuum\\anaconda3\\lib\\site-packages\\sklearn\\ensemble\\forest.py:246: FutureWarning: The default value of n_estimators will change from 10 in version 0.20 to 100 in 0.22.\n",
      "  \"10 in version 0.20 to 100 in 0.22.\", FutureWarning)\n"
     ]
    },
    {
     "name": "stderr",
     "output_type": "stream",
     "text": [
      "C:\\Users\\USER\\AppData\\Local\\Continuum\\anaconda3\\lib\\site-packages\\sklearn\\ensemble\\forest.py:246: FutureWarning: The default value of n_estimators will change from 10 in version 0.20 to 100 in 0.22.\n",
      "  \"10 in version 0.20 to 100 in 0.22.\", FutureWarning)\n",
      "C:\\Users\\USER\\AppData\\Local\\Continuum\\anaconda3\\lib\\site-packages\\sklearn\\ensemble\\forest.py:246: FutureWarning: The default value of n_estimators will change from 10 in version 0.20 to 100 in 0.22.\n",
      "  \"10 in version 0.20 to 100 in 0.22.\", FutureWarning)\n",
      "C:\\Users\\USER\\AppData\\Local\\Continuum\\anaconda3\\lib\\site-packages\\sklearn\\ensemble\\forest.py:246: FutureWarning: The default value of n_estimators will change from 10 in version 0.20 to 100 in 0.22.\n",
      "  \"10 in version 0.20 to 100 in 0.22.\", FutureWarning)\n",
      "C:\\Users\\USER\\AppData\\Local\\Continuum\\anaconda3\\lib\\site-packages\\sklearn\\ensemble\\forest.py:246: FutureWarning: The default value of n_estimators will change from 10 in version 0.20 to 100 in 0.22.\n",
      "  \"10 in version 0.20 to 100 in 0.22.\", FutureWarning)\n",
      "C:\\Users\\USER\\AppData\\Local\\Continuum\\anaconda3\\lib\\site-packages\\sklearn\\ensemble\\forest.py:246: FutureWarning: The default value of n_estimators will change from 10 in version 0.20 to 100 in 0.22.\n",
      "  \"10 in version 0.20 to 100 in 0.22.\", FutureWarning)\n",
      "C:\\Users\\USER\\AppData\\Local\\Continuum\\anaconda3\\lib\\site-packages\\sklearn\\ensemble\\forest.py:246: FutureWarning: The default value of n_estimators will change from 10 in version 0.20 to 100 in 0.22.\n",
      "  \"10 in version 0.20 to 100 in 0.22.\", FutureWarning)\n",
      "C:\\Users\\USER\\AppData\\Local\\Continuum\\anaconda3\\lib\\site-packages\\sklearn\\ensemble\\forest.py:246: FutureWarning: The default value of n_estimators will change from 10 in version 0.20 to 100 in 0.22.\n",
      "  \"10 in version 0.20 to 100 in 0.22.\", FutureWarning)\n",
      "C:\\Users\\USER\\AppData\\Local\\Continuum\\anaconda3\\lib\\site-packages\\sklearn\\ensemble\\forest.py:246: FutureWarning: The default value of n_estimators will change from 10 in version 0.20 to 100 in 0.22.\n",
      "  \"10 in version 0.20 to 100 in 0.22.\", FutureWarning)\n",
      "C:\\Users\\USER\\AppData\\Local\\Continuum\\anaconda3\\lib\\site-packages\\sklearn\\ensemble\\forest.py:246: FutureWarning: The default value of n_estimators will change from 10 in version 0.20 to 100 in 0.22.\n",
      "  \"10 in version 0.20 to 100 in 0.22.\", FutureWarning)\n",
      "C:\\Users\\USER\\AppData\\Local\\Continuum\\anaconda3\\lib\\site-packages\\sklearn\\ensemble\\forest.py:246: FutureWarning: The default value of n_estimators will change from 10 in version 0.20 to 100 in 0.22.\n",
      "  \"10 in version 0.20 to 100 in 0.22.\", FutureWarning)\n",
      "C:\\Users\\USER\\AppData\\Local\\Continuum\\anaconda3\\lib\\site-packages\\sklearn\\ensemble\\forest.py:246: FutureWarning: The default value of n_estimators will change from 10 in version 0.20 to 100 in 0.22.\n",
      "  \"10 in version 0.20 to 100 in 0.22.\", FutureWarning)\n",
      "C:\\Users\\USER\\AppData\\Local\\Continuum\\anaconda3\\lib\\site-packages\\sklearn\\ensemble\\forest.py:246: FutureWarning: The default value of n_estimators will change from 10 in version 0.20 to 100 in 0.22.\n",
      "  \"10 in version 0.20 to 100 in 0.22.\", FutureWarning)\n",
      "C:\\Users\\USER\\AppData\\Local\\Continuum\\anaconda3\\lib\\site-packages\\sklearn\\ensemble\\forest.py:246: FutureWarning: The default value of n_estimators will change from 10 in version 0.20 to 100 in 0.22.\n",
      "  \"10 in version 0.20 to 100 in 0.22.\", FutureWarning)\n",
      "C:\\Users\\USER\\AppData\\Local\\Continuum\\anaconda3\\lib\\site-packages\\sklearn\\ensemble\\forest.py:246: FutureWarning: The default value of n_estimators will change from 10 in version 0.20 to 100 in 0.22.\n",
      "  \"10 in version 0.20 to 100 in 0.22.\", FutureWarning)\n",
      "C:\\Users\\USER\\AppData\\Local\\Continuum\\anaconda3\\lib\\site-packages\\sklearn\\ensemble\\forest.py:246: FutureWarning: The default value of n_estimators will change from 10 in version 0.20 to 100 in 0.22.\n",
      "  \"10 in version 0.20 to 100 in 0.22.\", FutureWarning)\n",
      "C:\\Users\\USER\\AppData\\Local\\Continuum\\anaconda3\\lib\\site-packages\\sklearn\\ensemble\\forest.py:246: FutureWarning: The default value of n_estimators will change from 10 in version 0.20 to 100 in 0.22.\n",
      "  \"10 in version 0.20 to 100 in 0.22.\", FutureWarning)\n",
      "C:\\Users\\USER\\AppData\\Local\\Continuum\\anaconda3\\lib\\site-packages\\sklearn\\ensemble\\forest.py:246: FutureWarning: The default value of n_estimators will change from 10 in version 0.20 to 100 in 0.22.\n",
      "  \"10 in version 0.20 to 100 in 0.22.\", FutureWarning)\n",
      "C:\\Users\\USER\\AppData\\Local\\Continuum\\anaconda3\\lib\\site-packages\\sklearn\\ensemble\\forest.py:246: FutureWarning: The default value of n_estimators will change from 10 in version 0.20 to 100 in 0.22.\n",
      "  \"10 in version 0.20 to 100 in 0.22.\", FutureWarning)\n",
      "C:\\Users\\USER\\AppData\\Local\\Continuum\\anaconda3\\lib\\site-packages\\sklearn\\ensemble\\forest.py:246: FutureWarning: The default value of n_estimators will change from 10 in version 0.20 to 100 in 0.22.\n",
      "  \"10 in version 0.20 to 100 in 0.22.\", FutureWarning)\n",
      "C:\\Users\\USER\\AppData\\Local\\Continuum\\anaconda3\\lib\\site-packages\\sklearn\\ensemble\\forest.py:246: FutureWarning: The default value of n_estimators will change from 10 in version 0.20 to 100 in 0.22.\n",
      "  \"10 in version 0.20 to 100 in 0.22.\", FutureWarning)\n",
      "C:\\Users\\USER\\AppData\\Local\\Continuum\\anaconda3\\lib\\site-packages\\sklearn\\ensemble\\forest.py:246: FutureWarning: The default value of n_estimators will change from 10 in version 0.20 to 100 in 0.22.\n",
      "  \"10 in version 0.20 to 100 in 0.22.\", FutureWarning)\n",
      "C:\\Users\\USER\\AppData\\Local\\Continuum\\anaconda3\\lib\\site-packages\\sklearn\\ensemble\\forest.py:246: FutureWarning: The default value of n_estimators will change from 10 in version 0.20 to 100 in 0.22.\n",
      "  \"10 in version 0.20 to 100 in 0.22.\", FutureWarning)\n",
      "C:\\Users\\USER\\AppData\\Local\\Continuum\\anaconda3\\lib\\site-packages\\sklearn\\ensemble\\forest.py:246: FutureWarning: The default value of n_estimators will change from 10 in version 0.20 to 100 in 0.22.\n",
      "  \"10 in version 0.20 to 100 in 0.22.\", FutureWarning)\n",
      "C:\\Users\\USER\\AppData\\Local\\Continuum\\anaconda3\\lib\\site-packages\\sklearn\\ensemble\\forest.py:246: FutureWarning: The default value of n_estimators will change from 10 in version 0.20 to 100 in 0.22.\n",
      "  \"10 in version 0.20 to 100 in 0.22.\", FutureWarning)\n",
      "C:\\Users\\USER\\AppData\\Local\\Continuum\\anaconda3\\lib\\site-packages\\sklearn\\ensemble\\forest.py:246: FutureWarning: The default value of n_estimators will change from 10 in version 0.20 to 100 in 0.22.\n",
      "  \"10 in version 0.20 to 100 in 0.22.\", FutureWarning)\n",
      "C:\\Users\\USER\\AppData\\Local\\Continuum\\anaconda3\\lib\\site-packages\\sklearn\\ensemble\\forest.py:246: FutureWarning: The default value of n_estimators will change from 10 in version 0.20 to 100 in 0.22.\n",
      "  \"10 in version 0.20 to 100 in 0.22.\", FutureWarning)\n",
      "C:\\Users\\USER\\AppData\\Local\\Continuum\\anaconda3\\lib\\site-packages\\sklearn\\ensemble\\forest.py:246: FutureWarning: The default value of n_estimators will change from 10 in version 0.20 to 100 in 0.22.\n",
      "  \"10 in version 0.20 to 100 in 0.22.\", FutureWarning)\n",
      "C:\\Users\\USER\\AppData\\Local\\Continuum\\anaconda3\\lib\\site-packages\\sklearn\\ensemble\\forest.py:246: FutureWarning: The default value of n_estimators will change from 10 in version 0.20 to 100 in 0.22.\n",
      "  \"10 in version 0.20 to 100 in 0.22.\", FutureWarning)\n",
      "C:\\Users\\USER\\AppData\\Local\\Continuum\\anaconda3\\lib\\site-packages\\sklearn\\ensemble\\forest.py:246: FutureWarning: The default value of n_estimators will change from 10 in version 0.20 to 100 in 0.22.\n",
      "  \"10 in version 0.20 to 100 in 0.22.\", FutureWarning)\n",
      "C:\\Users\\USER\\AppData\\Local\\Continuum\\anaconda3\\lib\\site-packages\\sklearn\\ensemble\\forest.py:246: FutureWarning: The default value of n_estimators will change from 10 in version 0.20 to 100 in 0.22.\n",
      "  \"10 in version 0.20 to 100 in 0.22.\", FutureWarning)\n",
      "C:\\Users\\USER\\AppData\\Local\\Continuum\\anaconda3\\lib\\site-packages\\sklearn\\ensemble\\forest.py:246: FutureWarning: The default value of n_estimators will change from 10 in version 0.20 to 100 in 0.22.\n",
      "  \"10 in version 0.20 to 100 in 0.22.\", FutureWarning)\n",
      "C:\\Users\\USER\\AppData\\Local\\Continuum\\anaconda3\\lib\\site-packages\\sklearn\\ensemble\\forest.py:246: FutureWarning: The default value of n_estimators will change from 10 in version 0.20 to 100 in 0.22.\n",
      "  \"10 in version 0.20 to 100 in 0.22.\", FutureWarning)\n",
      "C:\\Users\\USER\\AppData\\Local\\Continuum\\anaconda3\\lib\\site-packages\\sklearn\\ensemble\\forest.py:246: FutureWarning: The default value of n_estimators will change from 10 in version 0.20 to 100 in 0.22.\n",
      "  \"10 in version 0.20 to 100 in 0.22.\", FutureWarning)\n"
     ]
    },
    {
     "name": "stderr",
     "output_type": "stream",
     "text": [
      "C:\\Users\\USER\\AppData\\Local\\Continuum\\anaconda3\\lib\\site-packages\\sklearn\\ensemble\\forest.py:246: FutureWarning: The default value of n_estimators will change from 10 in version 0.20 to 100 in 0.22.\n",
      "  \"10 in version 0.20 to 100 in 0.22.\", FutureWarning)\n",
      "C:\\Users\\USER\\AppData\\Local\\Continuum\\anaconda3\\lib\\site-packages\\sklearn\\ensemble\\forest.py:246: FutureWarning: The default value of n_estimators will change from 10 in version 0.20 to 100 in 0.22.\n",
      "  \"10 in version 0.20 to 100 in 0.22.\", FutureWarning)\n",
      "C:\\Users\\USER\\AppData\\Local\\Continuum\\anaconda3\\lib\\site-packages\\sklearn\\ensemble\\forest.py:246: FutureWarning: The default value of n_estimators will change from 10 in version 0.20 to 100 in 0.22.\n",
      "  \"10 in version 0.20 to 100 in 0.22.\", FutureWarning)\n",
      "C:\\Users\\USER\\AppData\\Local\\Continuum\\anaconda3\\lib\\site-packages\\sklearn\\ensemble\\forest.py:246: FutureWarning: The default value of n_estimators will change from 10 in version 0.20 to 100 in 0.22.\n",
      "  \"10 in version 0.20 to 100 in 0.22.\", FutureWarning)\n",
      "C:\\Users\\USER\\AppData\\Local\\Continuum\\anaconda3\\lib\\site-packages\\sklearn\\ensemble\\forest.py:246: FutureWarning: The default value of n_estimators will change from 10 in version 0.20 to 100 in 0.22.\n",
      "  \"10 in version 0.20 to 100 in 0.22.\", FutureWarning)\n",
      "C:\\Users\\USER\\AppData\\Local\\Continuum\\anaconda3\\lib\\site-packages\\sklearn\\ensemble\\forest.py:246: FutureWarning: The default value of n_estimators will change from 10 in version 0.20 to 100 in 0.22.\n",
      "  \"10 in version 0.20 to 100 in 0.22.\", FutureWarning)\n",
      "C:\\Users\\USER\\AppData\\Local\\Continuum\\anaconda3\\lib\\site-packages\\sklearn\\ensemble\\forest.py:246: FutureWarning: The default value of n_estimators will change from 10 in version 0.20 to 100 in 0.22.\n",
      "  \"10 in version 0.20 to 100 in 0.22.\", FutureWarning)\n",
      "C:\\Users\\USER\\AppData\\Local\\Continuum\\anaconda3\\lib\\site-packages\\sklearn\\ensemble\\forest.py:246: FutureWarning: The default value of n_estimators will change from 10 in version 0.20 to 100 in 0.22.\n",
      "  \"10 in version 0.20 to 100 in 0.22.\", FutureWarning)\n",
      "C:\\Users\\USER\\AppData\\Local\\Continuum\\anaconda3\\lib\\site-packages\\sklearn\\ensemble\\forest.py:246: FutureWarning: The default value of n_estimators will change from 10 in version 0.20 to 100 in 0.22.\n",
      "  \"10 in version 0.20 to 100 in 0.22.\", FutureWarning)\n",
      "C:\\Users\\USER\\AppData\\Local\\Continuum\\anaconda3\\lib\\site-packages\\sklearn\\ensemble\\forest.py:246: FutureWarning: The default value of n_estimators will change from 10 in version 0.20 to 100 in 0.22.\n",
      "  \"10 in version 0.20 to 100 in 0.22.\", FutureWarning)\n",
      "C:\\Users\\USER\\AppData\\Local\\Continuum\\anaconda3\\lib\\site-packages\\sklearn\\ensemble\\forest.py:246: FutureWarning: The default value of n_estimators will change from 10 in version 0.20 to 100 in 0.22.\n",
      "  \"10 in version 0.20 to 100 in 0.22.\", FutureWarning)\n",
      "C:\\Users\\USER\\AppData\\Local\\Continuum\\anaconda3\\lib\\site-packages\\sklearn\\ensemble\\forest.py:246: FutureWarning: The default value of n_estimators will change from 10 in version 0.20 to 100 in 0.22.\n",
      "  \"10 in version 0.20 to 100 in 0.22.\", FutureWarning)\n",
      "C:\\Users\\USER\\AppData\\Local\\Continuum\\anaconda3\\lib\\site-packages\\sklearn\\ensemble\\forest.py:246: FutureWarning: The default value of n_estimators will change from 10 in version 0.20 to 100 in 0.22.\n",
      "  \"10 in version 0.20 to 100 in 0.22.\", FutureWarning)\n",
      "C:\\Users\\USER\\AppData\\Local\\Continuum\\anaconda3\\lib\\site-packages\\sklearn\\ensemble\\forest.py:246: FutureWarning: The default value of n_estimators will change from 10 in version 0.20 to 100 in 0.22.\n",
      "  \"10 in version 0.20 to 100 in 0.22.\", FutureWarning)\n",
      "C:\\Users\\USER\\AppData\\Local\\Continuum\\anaconda3\\lib\\site-packages\\sklearn\\ensemble\\forest.py:246: FutureWarning: The default value of n_estimators will change from 10 in version 0.20 to 100 in 0.22.\n",
      "  \"10 in version 0.20 to 100 in 0.22.\", FutureWarning)\n",
      "C:\\Users\\USER\\AppData\\Local\\Continuum\\anaconda3\\lib\\site-packages\\sklearn\\ensemble\\forest.py:246: FutureWarning: The default value of n_estimators will change from 10 in version 0.20 to 100 in 0.22.\n",
      "  \"10 in version 0.20 to 100 in 0.22.\", FutureWarning)\n",
      "C:\\Users\\USER\\AppData\\Local\\Continuum\\anaconda3\\lib\\site-packages\\sklearn\\ensemble\\forest.py:246: FutureWarning: The default value of n_estimators will change from 10 in version 0.20 to 100 in 0.22.\n",
      "  \"10 in version 0.20 to 100 in 0.22.\", FutureWarning)\n",
      "C:\\Users\\USER\\AppData\\Local\\Continuum\\anaconda3\\lib\\site-packages\\sklearn\\ensemble\\forest.py:246: FutureWarning: The default value of n_estimators will change from 10 in version 0.20 to 100 in 0.22.\n",
      "  \"10 in version 0.20 to 100 in 0.22.\", FutureWarning)\n",
      "C:\\Users\\USER\\AppData\\Local\\Continuum\\anaconda3\\lib\\site-packages\\sklearn\\ensemble\\forest.py:246: FutureWarning: The default value of n_estimators will change from 10 in version 0.20 to 100 in 0.22.\n",
      "  \"10 in version 0.20 to 100 in 0.22.\", FutureWarning)\n",
      "C:\\Users\\USER\\AppData\\Local\\Continuum\\anaconda3\\lib\\site-packages\\sklearn\\ensemble\\forest.py:246: FutureWarning: The default value of n_estimators will change from 10 in version 0.20 to 100 in 0.22.\n",
      "  \"10 in version 0.20 to 100 in 0.22.\", FutureWarning)\n",
      "C:\\Users\\USER\\AppData\\Local\\Continuum\\anaconda3\\lib\\site-packages\\sklearn\\ensemble\\forest.py:246: FutureWarning: The default value of n_estimators will change from 10 in version 0.20 to 100 in 0.22.\n",
      "  \"10 in version 0.20 to 100 in 0.22.\", FutureWarning)\n",
      "C:\\Users\\USER\\AppData\\Local\\Continuum\\anaconda3\\lib\\site-packages\\sklearn\\ensemble\\forest.py:246: FutureWarning: The default value of n_estimators will change from 10 in version 0.20 to 100 in 0.22.\n",
      "  \"10 in version 0.20 to 100 in 0.22.\", FutureWarning)\n",
      "C:\\Users\\USER\\AppData\\Local\\Continuum\\anaconda3\\lib\\site-packages\\sklearn\\ensemble\\forest.py:246: FutureWarning: The default value of n_estimators will change from 10 in version 0.20 to 100 in 0.22.\n",
      "  \"10 in version 0.20 to 100 in 0.22.\", FutureWarning)\n",
      "C:\\Users\\USER\\AppData\\Local\\Continuum\\anaconda3\\lib\\site-packages\\sklearn\\ensemble\\forest.py:246: FutureWarning: The default value of n_estimators will change from 10 in version 0.20 to 100 in 0.22.\n",
      "  \"10 in version 0.20 to 100 in 0.22.\", FutureWarning)\n",
      "C:\\Users\\USER\\AppData\\Local\\Continuum\\anaconda3\\lib\\site-packages\\sklearn\\ensemble\\forest.py:246: FutureWarning: The default value of n_estimators will change from 10 in version 0.20 to 100 in 0.22.\n",
      "  \"10 in version 0.20 to 100 in 0.22.\", FutureWarning)\n",
      "C:\\Users\\USER\\AppData\\Local\\Continuum\\anaconda3\\lib\\site-packages\\sklearn\\ensemble\\forest.py:246: FutureWarning: The default value of n_estimators will change from 10 in version 0.20 to 100 in 0.22.\n",
      "  \"10 in version 0.20 to 100 in 0.22.\", FutureWarning)\n",
      "C:\\Users\\USER\\AppData\\Local\\Continuum\\anaconda3\\lib\\site-packages\\sklearn\\ensemble\\forest.py:246: FutureWarning: The default value of n_estimators will change from 10 in version 0.20 to 100 in 0.22.\n",
      "  \"10 in version 0.20 to 100 in 0.22.\", FutureWarning)\n",
      "C:\\Users\\USER\\AppData\\Local\\Continuum\\anaconda3\\lib\\site-packages\\sklearn\\ensemble\\forest.py:246: FutureWarning: The default value of n_estimators will change from 10 in version 0.20 to 100 in 0.22.\n",
      "  \"10 in version 0.20 to 100 in 0.22.\", FutureWarning)\n",
      "C:\\Users\\USER\\AppData\\Local\\Continuum\\anaconda3\\lib\\site-packages\\sklearn\\ensemble\\forest.py:246: FutureWarning: The default value of n_estimators will change from 10 in version 0.20 to 100 in 0.22.\n",
      "  \"10 in version 0.20 to 100 in 0.22.\", FutureWarning)\n",
      "C:\\Users\\USER\\AppData\\Local\\Continuum\\anaconda3\\lib\\site-packages\\sklearn\\ensemble\\forest.py:246: FutureWarning: The default value of n_estimators will change from 10 in version 0.20 to 100 in 0.22.\n",
      "  \"10 in version 0.20 to 100 in 0.22.\", FutureWarning)\n",
      "C:\\Users\\USER\\AppData\\Local\\Continuum\\anaconda3\\lib\\site-packages\\sklearn\\ensemble\\forest.py:246: FutureWarning: The default value of n_estimators will change from 10 in version 0.20 to 100 in 0.22.\n",
      "  \"10 in version 0.20 to 100 in 0.22.\", FutureWarning)\n",
      "C:\\Users\\USER\\AppData\\Local\\Continuum\\anaconda3\\lib\\site-packages\\sklearn\\ensemble\\forest.py:246: FutureWarning: The default value of n_estimators will change from 10 in version 0.20 to 100 in 0.22.\n",
      "  \"10 in version 0.20 to 100 in 0.22.\", FutureWarning)\n",
      "C:\\Users\\USER\\AppData\\Local\\Continuum\\anaconda3\\lib\\site-packages\\sklearn\\ensemble\\forest.py:246: FutureWarning: The default value of n_estimators will change from 10 in version 0.20 to 100 in 0.22.\n",
      "  \"10 in version 0.20 to 100 in 0.22.\", FutureWarning)\n",
      "C:\\Users\\USER\\AppData\\Local\\Continuum\\anaconda3\\lib\\site-packages\\sklearn\\ensemble\\forest.py:246: FutureWarning: The default value of n_estimators will change from 10 in version 0.20 to 100 in 0.22.\n",
      "  \"10 in version 0.20 to 100 in 0.22.\", FutureWarning)\n"
     ]
    },
    {
     "name": "stderr",
     "output_type": "stream",
     "text": [
      "C:\\Users\\USER\\AppData\\Local\\Continuum\\anaconda3\\lib\\site-packages\\sklearn\\ensemble\\forest.py:246: FutureWarning: The default value of n_estimators will change from 10 in version 0.20 to 100 in 0.22.\n",
      "  \"10 in version 0.20 to 100 in 0.22.\", FutureWarning)\n",
      "C:\\Users\\USER\\AppData\\Local\\Continuum\\anaconda3\\lib\\site-packages\\sklearn\\ensemble\\forest.py:246: FutureWarning: The default value of n_estimators will change from 10 in version 0.20 to 100 in 0.22.\n",
      "  \"10 in version 0.20 to 100 in 0.22.\", FutureWarning)\n",
      "C:\\Users\\USER\\AppData\\Local\\Continuum\\anaconda3\\lib\\site-packages\\sklearn\\ensemble\\forest.py:246: FutureWarning: The default value of n_estimators will change from 10 in version 0.20 to 100 in 0.22.\n",
      "  \"10 in version 0.20 to 100 in 0.22.\", FutureWarning)\n",
      "C:\\Users\\USER\\AppData\\Local\\Continuum\\anaconda3\\lib\\site-packages\\sklearn\\ensemble\\forest.py:246: FutureWarning: The default value of n_estimators will change from 10 in version 0.20 to 100 in 0.22.\n",
      "  \"10 in version 0.20 to 100 in 0.22.\", FutureWarning)\n",
      "C:\\Users\\USER\\AppData\\Local\\Continuum\\anaconda3\\lib\\site-packages\\sklearn\\ensemble\\forest.py:246: FutureWarning: The default value of n_estimators will change from 10 in version 0.20 to 100 in 0.22.\n",
      "  \"10 in version 0.20 to 100 in 0.22.\", FutureWarning)\n",
      "C:\\Users\\USER\\AppData\\Local\\Continuum\\anaconda3\\lib\\site-packages\\sklearn\\ensemble\\forest.py:246: FutureWarning: The default value of n_estimators will change from 10 in version 0.20 to 100 in 0.22.\n",
      "  \"10 in version 0.20 to 100 in 0.22.\", FutureWarning)\n",
      "C:\\Users\\USER\\AppData\\Local\\Continuum\\anaconda3\\lib\\site-packages\\sklearn\\ensemble\\forest.py:246: FutureWarning: The default value of n_estimators will change from 10 in version 0.20 to 100 in 0.22.\n",
      "  \"10 in version 0.20 to 100 in 0.22.\", FutureWarning)\n",
      "C:\\Users\\USER\\AppData\\Local\\Continuum\\anaconda3\\lib\\site-packages\\sklearn\\ensemble\\forest.py:246: FutureWarning: The default value of n_estimators will change from 10 in version 0.20 to 100 in 0.22.\n",
      "  \"10 in version 0.20 to 100 in 0.22.\", FutureWarning)\n",
      "C:\\Users\\USER\\AppData\\Local\\Continuum\\anaconda3\\lib\\site-packages\\sklearn\\ensemble\\forest.py:246: FutureWarning: The default value of n_estimators will change from 10 in version 0.20 to 100 in 0.22.\n",
      "  \"10 in version 0.20 to 100 in 0.22.\", FutureWarning)\n",
      "C:\\Users\\USER\\AppData\\Local\\Continuum\\anaconda3\\lib\\site-packages\\sklearn\\ensemble\\forest.py:246: FutureWarning: The default value of n_estimators will change from 10 in version 0.20 to 100 in 0.22.\n",
      "  \"10 in version 0.20 to 100 in 0.22.\", FutureWarning)\n",
      "C:\\Users\\USER\\AppData\\Local\\Continuum\\anaconda3\\lib\\site-packages\\sklearn\\ensemble\\forest.py:246: FutureWarning: The default value of n_estimators will change from 10 in version 0.20 to 100 in 0.22.\n",
      "  \"10 in version 0.20 to 100 in 0.22.\", FutureWarning)\n",
      "C:\\Users\\USER\\AppData\\Local\\Continuum\\anaconda3\\lib\\site-packages\\sklearn\\ensemble\\forest.py:246: FutureWarning: The default value of n_estimators will change from 10 in version 0.20 to 100 in 0.22.\n",
      "  \"10 in version 0.20 to 100 in 0.22.\", FutureWarning)\n",
      "C:\\Users\\USER\\AppData\\Local\\Continuum\\anaconda3\\lib\\site-packages\\sklearn\\ensemble\\forest.py:246: FutureWarning: The default value of n_estimators will change from 10 in version 0.20 to 100 in 0.22.\n",
      "  \"10 in version 0.20 to 100 in 0.22.\", FutureWarning)\n",
      "C:\\Users\\USER\\AppData\\Local\\Continuum\\anaconda3\\lib\\site-packages\\sklearn\\ensemble\\forest.py:246: FutureWarning: The default value of n_estimators will change from 10 in version 0.20 to 100 in 0.22.\n",
      "  \"10 in version 0.20 to 100 in 0.22.\", FutureWarning)\n",
      "C:\\Users\\USER\\AppData\\Local\\Continuum\\anaconda3\\lib\\site-packages\\sklearn\\ensemble\\forest.py:246: FutureWarning: The default value of n_estimators will change from 10 in version 0.20 to 100 in 0.22.\n",
      "  \"10 in version 0.20 to 100 in 0.22.\", FutureWarning)\n",
      "C:\\Users\\USER\\AppData\\Local\\Continuum\\anaconda3\\lib\\site-packages\\sklearn\\ensemble\\forest.py:246: FutureWarning: The default value of n_estimators will change from 10 in version 0.20 to 100 in 0.22.\n",
      "  \"10 in version 0.20 to 100 in 0.22.\", FutureWarning)\n",
      "C:\\Users\\USER\\AppData\\Local\\Continuum\\anaconda3\\lib\\site-packages\\sklearn\\ensemble\\forest.py:246: FutureWarning: The default value of n_estimators will change from 10 in version 0.20 to 100 in 0.22.\n",
      "  \"10 in version 0.20 to 100 in 0.22.\", FutureWarning)\n",
      "C:\\Users\\USER\\AppData\\Local\\Continuum\\anaconda3\\lib\\site-packages\\sklearn\\ensemble\\forest.py:246: FutureWarning: The default value of n_estimators will change from 10 in version 0.20 to 100 in 0.22.\n",
      "  \"10 in version 0.20 to 100 in 0.22.\", FutureWarning)\n",
      "C:\\Users\\USER\\AppData\\Local\\Continuum\\anaconda3\\lib\\site-packages\\sklearn\\ensemble\\forest.py:246: FutureWarning: The default value of n_estimators will change from 10 in version 0.20 to 100 in 0.22.\n",
      "  \"10 in version 0.20 to 100 in 0.22.\", FutureWarning)\n",
      "C:\\Users\\USER\\AppData\\Local\\Continuum\\anaconda3\\lib\\site-packages\\sklearn\\ensemble\\forest.py:246: FutureWarning: The default value of n_estimators will change from 10 in version 0.20 to 100 in 0.22.\n",
      "  \"10 in version 0.20 to 100 in 0.22.\", FutureWarning)\n",
      "C:\\Users\\USER\\AppData\\Local\\Continuum\\anaconda3\\lib\\site-packages\\sklearn\\ensemble\\forest.py:246: FutureWarning: The default value of n_estimators will change from 10 in version 0.20 to 100 in 0.22.\n",
      "  \"10 in version 0.20 to 100 in 0.22.\", FutureWarning)\n",
      "C:\\Users\\USER\\AppData\\Local\\Continuum\\anaconda3\\lib\\site-packages\\sklearn\\ensemble\\forest.py:246: FutureWarning: The default value of n_estimators will change from 10 in version 0.20 to 100 in 0.22.\n",
      "  \"10 in version 0.20 to 100 in 0.22.\", FutureWarning)\n",
      "C:\\Users\\USER\\AppData\\Local\\Continuum\\anaconda3\\lib\\site-packages\\sklearn\\ensemble\\forest.py:246: FutureWarning: The default value of n_estimators will change from 10 in version 0.20 to 100 in 0.22.\n",
      "  \"10 in version 0.20 to 100 in 0.22.\", FutureWarning)\n",
      "C:\\Users\\USER\\AppData\\Local\\Continuum\\anaconda3\\lib\\site-packages\\sklearn\\ensemble\\forest.py:246: FutureWarning: The default value of n_estimators will change from 10 in version 0.20 to 100 in 0.22.\n",
      "  \"10 in version 0.20 to 100 in 0.22.\", FutureWarning)\n",
      "C:\\Users\\USER\\AppData\\Local\\Continuum\\anaconda3\\lib\\site-packages\\sklearn\\ensemble\\forest.py:246: FutureWarning: The default value of n_estimators will change from 10 in version 0.20 to 100 in 0.22.\n",
      "  \"10 in version 0.20 to 100 in 0.22.\", FutureWarning)\n",
      "C:\\Users\\USER\\AppData\\Local\\Continuum\\anaconda3\\lib\\site-packages\\sklearn\\ensemble\\forest.py:246: FutureWarning: The default value of n_estimators will change from 10 in version 0.20 to 100 in 0.22.\n",
      "  \"10 in version 0.20 to 100 in 0.22.\", FutureWarning)\n",
      "C:\\Users\\USER\\AppData\\Local\\Continuum\\anaconda3\\lib\\site-packages\\sklearn\\ensemble\\forest.py:246: FutureWarning: The default value of n_estimators will change from 10 in version 0.20 to 100 in 0.22.\n",
      "  \"10 in version 0.20 to 100 in 0.22.\", FutureWarning)\n",
      "C:\\Users\\USER\\AppData\\Local\\Continuum\\anaconda3\\lib\\site-packages\\sklearn\\ensemble\\forest.py:246: FutureWarning: The default value of n_estimators will change from 10 in version 0.20 to 100 in 0.22.\n",
      "  \"10 in version 0.20 to 100 in 0.22.\", FutureWarning)\n",
      "C:\\Users\\USER\\AppData\\Local\\Continuum\\anaconda3\\lib\\site-packages\\sklearn\\ensemble\\forest.py:246: FutureWarning: The default value of n_estimators will change from 10 in version 0.20 to 100 in 0.22.\n",
      "  \"10 in version 0.20 to 100 in 0.22.\", FutureWarning)\n",
      "C:\\Users\\USER\\AppData\\Local\\Continuum\\anaconda3\\lib\\site-packages\\sklearn\\ensemble\\forest.py:246: FutureWarning: The default value of n_estimators will change from 10 in version 0.20 to 100 in 0.22.\n",
      "  \"10 in version 0.20 to 100 in 0.22.\", FutureWarning)\n",
      "C:\\Users\\USER\\AppData\\Local\\Continuum\\anaconda3\\lib\\site-packages\\sklearn\\ensemble\\forest.py:246: FutureWarning: The default value of n_estimators will change from 10 in version 0.20 to 100 in 0.22.\n",
      "  \"10 in version 0.20 to 100 in 0.22.\", FutureWarning)\n",
      "C:\\Users\\USER\\AppData\\Local\\Continuum\\anaconda3\\lib\\site-packages\\sklearn\\ensemble\\forest.py:246: FutureWarning: The default value of n_estimators will change from 10 in version 0.20 to 100 in 0.22.\n",
      "  \"10 in version 0.20 to 100 in 0.22.\", FutureWarning)\n",
      "C:\\Users\\USER\\AppData\\Local\\Continuum\\anaconda3\\lib\\site-packages\\sklearn\\ensemble\\forest.py:246: FutureWarning: The default value of n_estimators will change from 10 in version 0.20 to 100 in 0.22.\n",
      "  \"10 in version 0.20 to 100 in 0.22.\", FutureWarning)\n",
      "C:\\Users\\USER\\AppData\\Local\\Continuum\\anaconda3\\lib\\site-packages\\sklearn\\ensemble\\forest.py:246: FutureWarning: The default value of n_estimators will change from 10 in version 0.20 to 100 in 0.22.\n",
      "  \"10 in version 0.20 to 100 in 0.22.\", FutureWarning)\n"
     ]
    },
    {
     "name": "stderr",
     "output_type": "stream",
     "text": [
      "C:\\Users\\USER\\AppData\\Local\\Continuum\\anaconda3\\lib\\site-packages\\sklearn\\ensemble\\forest.py:246: FutureWarning: The default value of n_estimators will change from 10 in version 0.20 to 100 in 0.22.\n",
      "  \"10 in version 0.20 to 100 in 0.22.\", FutureWarning)\n",
      "C:\\Users\\USER\\AppData\\Local\\Continuum\\anaconda3\\lib\\site-packages\\sklearn\\ensemble\\forest.py:246: FutureWarning: The default value of n_estimators will change from 10 in version 0.20 to 100 in 0.22.\n",
      "  \"10 in version 0.20 to 100 in 0.22.\", FutureWarning)\n",
      "C:\\Users\\USER\\AppData\\Local\\Continuum\\anaconda3\\lib\\site-packages\\sklearn\\ensemble\\forest.py:246: FutureWarning: The default value of n_estimators will change from 10 in version 0.20 to 100 in 0.22.\n",
      "  \"10 in version 0.20 to 100 in 0.22.\", FutureWarning)\n",
      "C:\\Users\\USER\\AppData\\Local\\Continuum\\anaconda3\\lib\\site-packages\\sklearn\\ensemble\\forest.py:246: FutureWarning: The default value of n_estimators will change from 10 in version 0.20 to 100 in 0.22.\n",
      "  \"10 in version 0.20 to 100 in 0.22.\", FutureWarning)\n",
      "C:\\Users\\USER\\AppData\\Local\\Continuum\\anaconda3\\lib\\site-packages\\sklearn\\ensemble\\forest.py:246: FutureWarning: The default value of n_estimators will change from 10 in version 0.20 to 100 in 0.22.\n",
      "  \"10 in version 0.20 to 100 in 0.22.\", FutureWarning)\n",
      "C:\\Users\\USER\\AppData\\Local\\Continuum\\anaconda3\\lib\\site-packages\\sklearn\\ensemble\\forest.py:246: FutureWarning: The default value of n_estimators will change from 10 in version 0.20 to 100 in 0.22.\n",
      "  \"10 in version 0.20 to 100 in 0.22.\", FutureWarning)\n",
      "C:\\Users\\USER\\AppData\\Local\\Continuum\\anaconda3\\lib\\site-packages\\sklearn\\ensemble\\forest.py:246: FutureWarning: The default value of n_estimators will change from 10 in version 0.20 to 100 in 0.22.\n",
      "  \"10 in version 0.20 to 100 in 0.22.\", FutureWarning)\n",
      "C:\\Users\\USER\\AppData\\Local\\Continuum\\anaconda3\\lib\\site-packages\\sklearn\\ensemble\\forest.py:246: FutureWarning: The default value of n_estimators will change from 10 in version 0.20 to 100 in 0.22.\n",
      "  \"10 in version 0.20 to 100 in 0.22.\", FutureWarning)\n",
      "C:\\Users\\USER\\AppData\\Local\\Continuum\\anaconda3\\lib\\site-packages\\sklearn\\ensemble\\forest.py:246: FutureWarning: The default value of n_estimators will change from 10 in version 0.20 to 100 in 0.22.\n",
      "  \"10 in version 0.20 to 100 in 0.22.\", FutureWarning)\n",
      "C:\\Users\\USER\\AppData\\Local\\Continuum\\anaconda3\\lib\\site-packages\\sklearn\\ensemble\\forest.py:246: FutureWarning: The default value of n_estimators will change from 10 in version 0.20 to 100 in 0.22.\n",
      "  \"10 in version 0.20 to 100 in 0.22.\", FutureWarning)\n",
      "C:\\Users\\USER\\AppData\\Local\\Continuum\\anaconda3\\lib\\site-packages\\sklearn\\ensemble\\forest.py:246: FutureWarning: The default value of n_estimators will change from 10 in version 0.20 to 100 in 0.22.\n",
      "  \"10 in version 0.20 to 100 in 0.22.\", FutureWarning)\n",
      "C:\\Users\\USER\\AppData\\Local\\Continuum\\anaconda3\\lib\\site-packages\\sklearn\\ensemble\\forest.py:246: FutureWarning: The default value of n_estimators will change from 10 in version 0.20 to 100 in 0.22.\n",
      "  \"10 in version 0.20 to 100 in 0.22.\", FutureWarning)\n",
      "C:\\Users\\USER\\AppData\\Local\\Continuum\\anaconda3\\lib\\site-packages\\sklearn\\ensemble\\forest.py:246: FutureWarning: The default value of n_estimators will change from 10 in version 0.20 to 100 in 0.22.\n",
      "  \"10 in version 0.20 to 100 in 0.22.\", FutureWarning)\n",
      "C:\\Users\\USER\\AppData\\Local\\Continuum\\anaconda3\\lib\\site-packages\\sklearn\\ensemble\\forest.py:246: FutureWarning: The default value of n_estimators will change from 10 in version 0.20 to 100 in 0.22.\n",
      "  \"10 in version 0.20 to 100 in 0.22.\", FutureWarning)\n",
      "C:\\Users\\USER\\AppData\\Local\\Continuum\\anaconda3\\lib\\site-packages\\sklearn\\ensemble\\forest.py:246: FutureWarning: The default value of n_estimators will change from 10 in version 0.20 to 100 in 0.22.\n",
      "  \"10 in version 0.20 to 100 in 0.22.\", FutureWarning)\n",
      "C:\\Users\\USER\\AppData\\Local\\Continuum\\anaconda3\\lib\\site-packages\\sklearn\\ensemble\\forest.py:246: FutureWarning: The default value of n_estimators will change from 10 in version 0.20 to 100 in 0.22.\n",
      "  \"10 in version 0.20 to 100 in 0.22.\", FutureWarning)\n",
      "C:\\Users\\USER\\AppData\\Local\\Continuum\\anaconda3\\lib\\site-packages\\sklearn\\ensemble\\forest.py:246: FutureWarning: The default value of n_estimators will change from 10 in version 0.20 to 100 in 0.22.\n",
      "  \"10 in version 0.20 to 100 in 0.22.\", FutureWarning)\n",
      "C:\\Users\\USER\\AppData\\Local\\Continuum\\anaconda3\\lib\\site-packages\\sklearn\\ensemble\\forest.py:246: FutureWarning: The default value of n_estimators will change from 10 in version 0.20 to 100 in 0.22.\n",
      "  \"10 in version 0.20 to 100 in 0.22.\", FutureWarning)\n",
      "C:\\Users\\USER\\AppData\\Local\\Continuum\\anaconda3\\lib\\site-packages\\sklearn\\ensemble\\forest.py:246: FutureWarning: The default value of n_estimators will change from 10 in version 0.20 to 100 in 0.22.\n",
      "  \"10 in version 0.20 to 100 in 0.22.\", FutureWarning)\n",
      "C:\\Users\\USER\\AppData\\Local\\Continuum\\anaconda3\\lib\\site-packages\\sklearn\\ensemble\\forest.py:246: FutureWarning: The default value of n_estimators will change from 10 in version 0.20 to 100 in 0.22.\n",
      "  \"10 in version 0.20 to 100 in 0.22.\", FutureWarning)\n",
      "C:\\Users\\USER\\AppData\\Local\\Continuum\\anaconda3\\lib\\site-packages\\sklearn\\ensemble\\forest.py:246: FutureWarning: The default value of n_estimators will change from 10 in version 0.20 to 100 in 0.22.\n",
      "  \"10 in version 0.20 to 100 in 0.22.\", FutureWarning)\n",
      "C:\\Users\\USER\\AppData\\Local\\Continuum\\anaconda3\\lib\\site-packages\\sklearn\\ensemble\\forest.py:246: FutureWarning: The default value of n_estimators will change from 10 in version 0.20 to 100 in 0.22.\n",
      "  \"10 in version 0.20 to 100 in 0.22.\", FutureWarning)\n",
      "C:\\Users\\USER\\AppData\\Local\\Continuum\\anaconda3\\lib\\site-packages\\sklearn\\ensemble\\forest.py:246: FutureWarning: The default value of n_estimators will change from 10 in version 0.20 to 100 in 0.22.\n",
      "  \"10 in version 0.20 to 100 in 0.22.\", FutureWarning)\n",
      "C:\\Users\\USER\\AppData\\Local\\Continuum\\anaconda3\\lib\\site-packages\\sklearn\\ensemble\\forest.py:246: FutureWarning: The default value of n_estimators will change from 10 in version 0.20 to 100 in 0.22.\n",
      "  \"10 in version 0.20 to 100 in 0.22.\", FutureWarning)\n",
      "C:\\Users\\USER\\AppData\\Local\\Continuum\\anaconda3\\lib\\site-packages\\sklearn\\ensemble\\forest.py:246: FutureWarning: The default value of n_estimators will change from 10 in version 0.20 to 100 in 0.22.\n",
      "  \"10 in version 0.20 to 100 in 0.22.\", FutureWarning)\n",
      "C:\\Users\\USER\\AppData\\Local\\Continuum\\anaconda3\\lib\\site-packages\\sklearn\\ensemble\\forest.py:246: FutureWarning: The default value of n_estimators will change from 10 in version 0.20 to 100 in 0.22.\n",
      "  \"10 in version 0.20 to 100 in 0.22.\", FutureWarning)\n",
      "C:\\Users\\USER\\AppData\\Local\\Continuum\\anaconda3\\lib\\site-packages\\sklearn\\ensemble\\forest.py:246: FutureWarning: The default value of n_estimators will change from 10 in version 0.20 to 100 in 0.22.\n",
      "  \"10 in version 0.20 to 100 in 0.22.\", FutureWarning)\n",
      "C:\\Users\\USER\\AppData\\Local\\Continuum\\anaconda3\\lib\\site-packages\\sklearn\\ensemble\\forest.py:246: FutureWarning: The default value of n_estimators will change from 10 in version 0.20 to 100 in 0.22.\n",
      "  \"10 in version 0.20 to 100 in 0.22.\", FutureWarning)\n",
      "C:\\Users\\USER\\AppData\\Local\\Continuum\\anaconda3\\lib\\site-packages\\sklearn\\ensemble\\forest.py:246: FutureWarning: The default value of n_estimators will change from 10 in version 0.20 to 100 in 0.22.\n",
      "  \"10 in version 0.20 to 100 in 0.22.\", FutureWarning)\n",
      "C:\\Users\\USER\\AppData\\Local\\Continuum\\anaconda3\\lib\\site-packages\\sklearn\\ensemble\\forest.py:246: FutureWarning: The default value of n_estimators will change from 10 in version 0.20 to 100 in 0.22.\n",
      "  \"10 in version 0.20 to 100 in 0.22.\", FutureWarning)\n",
      "C:\\Users\\USER\\AppData\\Local\\Continuum\\anaconda3\\lib\\site-packages\\sklearn\\ensemble\\forest.py:246: FutureWarning: The default value of n_estimators will change from 10 in version 0.20 to 100 in 0.22.\n",
      "  \"10 in version 0.20 to 100 in 0.22.\", FutureWarning)\n",
      "C:\\Users\\USER\\AppData\\Local\\Continuum\\anaconda3\\lib\\site-packages\\sklearn\\ensemble\\forest.py:246: FutureWarning: The default value of n_estimators will change from 10 in version 0.20 to 100 in 0.22.\n",
      "  \"10 in version 0.20 to 100 in 0.22.\", FutureWarning)\n",
      "C:\\Users\\USER\\AppData\\Local\\Continuum\\anaconda3\\lib\\site-packages\\sklearn\\ensemble\\forest.py:246: FutureWarning: The default value of n_estimators will change from 10 in version 0.20 to 100 in 0.22.\n",
      "  \"10 in version 0.20 to 100 in 0.22.\", FutureWarning)\n"
     ]
    },
    {
     "name": "stderr",
     "output_type": "stream",
     "text": [
      "C:\\Users\\USER\\AppData\\Local\\Continuum\\anaconda3\\lib\\site-packages\\sklearn\\ensemble\\forest.py:246: FutureWarning: The default value of n_estimators will change from 10 in version 0.20 to 100 in 0.22.\n",
      "  \"10 in version 0.20 to 100 in 0.22.\", FutureWarning)\n",
      "C:\\Users\\USER\\AppData\\Local\\Continuum\\anaconda3\\lib\\site-packages\\sklearn\\ensemble\\forest.py:246: FutureWarning: The default value of n_estimators will change from 10 in version 0.20 to 100 in 0.22.\n",
      "  \"10 in version 0.20 to 100 in 0.22.\", FutureWarning)\n",
      "C:\\Users\\USER\\AppData\\Local\\Continuum\\anaconda3\\lib\\site-packages\\sklearn\\ensemble\\forest.py:246: FutureWarning: The default value of n_estimators will change from 10 in version 0.20 to 100 in 0.22.\n",
      "  \"10 in version 0.20 to 100 in 0.22.\", FutureWarning)\n",
      "C:\\Users\\USER\\AppData\\Local\\Continuum\\anaconda3\\lib\\site-packages\\sklearn\\ensemble\\forest.py:246: FutureWarning: The default value of n_estimators will change from 10 in version 0.20 to 100 in 0.22.\n",
      "  \"10 in version 0.20 to 100 in 0.22.\", FutureWarning)\n",
      "C:\\Users\\USER\\AppData\\Local\\Continuum\\anaconda3\\lib\\site-packages\\sklearn\\ensemble\\forest.py:246: FutureWarning: The default value of n_estimators will change from 10 in version 0.20 to 100 in 0.22.\n",
      "  \"10 in version 0.20 to 100 in 0.22.\", FutureWarning)\n",
      "C:\\Users\\USER\\AppData\\Local\\Continuum\\anaconda3\\lib\\site-packages\\sklearn\\ensemble\\forest.py:246: FutureWarning: The default value of n_estimators will change from 10 in version 0.20 to 100 in 0.22.\n",
      "  \"10 in version 0.20 to 100 in 0.22.\", FutureWarning)\n",
      "C:\\Users\\USER\\AppData\\Local\\Continuum\\anaconda3\\lib\\site-packages\\sklearn\\ensemble\\forest.py:246: FutureWarning: The default value of n_estimators will change from 10 in version 0.20 to 100 in 0.22.\n",
      "  \"10 in version 0.20 to 100 in 0.22.\", FutureWarning)\n",
      "C:\\Users\\USER\\AppData\\Local\\Continuum\\anaconda3\\lib\\site-packages\\sklearn\\ensemble\\forest.py:246: FutureWarning: The default value of n_estimators will change from 10 in version 0.20 to 100 in 0.22.\n",
      "  \"10 in version 0.20 to 100 in 0.22.\", FutureWarning)\n",
      "C:\\Users\\USER\\AppData\\Local\\Continuum\\anaconda3\\lib\\site-packages\\sklearn\\ensemble\\forest.py:246: FutureWarning: The default value of n_estimators will change from 10 in version 0.20 to 100 in 0.22.\n",
      "  \"10 in version 0.20 to 100 in 0.22.\", FutureWarning)\n",
      "C:\\Users\\USER\\AppData\\Local\\Continuum\\anaconda3\\lib\\site-packages\\sklearn\\ensemble\\forest.py:246: FutureWarning: The default value of n_estimators will change from 10 in version 0.20 to 100 in 0.22.\n",
      "  \"10 in version 0.20 to 100 in 0.22.\", FutureWarning)\n",
      "C:\\Users\\USER\\AppData\\Local\\Continuum\\anaconda3\\lib\\site-packages\\sklearn\\ensemble\\forest.py:246: FutureWarning: The default value of n_estimators will change from 10 in version 0.20 to 100 in 0.22.\n",
      "  \"10 in version 0.20 to 100 in 0.22.\", FutureWarning)\n",
      "C:\\Users\\USER\\AppData\\Local\\Continuum\\anaconda3\\lib\\site-packages\\sklearn\\ensemble\\forest.py:246: FutureWarning: The default value of n_estimators will change from 10 in version 0.20 to 100 in 0.22.\n",
      "  \"10 in version 0.20 to 100 in 0.22.\", FutureWarning)\n",
      "C:\\Users\\USER\\AppData\\Local\\Continuum\\anaconda3\\lib\\site-packages\\sklearn\\ensemble\\forest.py:246: FutureWarning: The default value of n_estimators will change from 10 in version 0.20 to 100 in 0.22.\n",
      "  \"10 in version 0.20 to 100 in 0.22.\", FutureWarning)\n",
      "C:\\Users\\USER\\AppData\\Local\\Continuum\\anaconda3\\lib\\site-packages\\sklearn\\ensemble\\forest.py:246: FutureWarning: The default value of n_estimators will change from 10 in version 0.20 to 100 in 0.22.\n",
      "  \"10 in version 0.20 to 100 in 0.22.\", FutureWarning)\n",
      "C:\\Users\\USER\\AppData\\Local\\Continuum\\anaconda3\\lib\\site-packages\\sklearn\\ensemble\\forest.py:246: FutureWarning: The default value of n_estimators will change from 10 in version 0.20 to 100 in 0.22.\n",
      "  \"10 in version 0.20 to 100 in 0.22.\", FutureWarning)\n",
      "C:\\Users\\USER\\AppData\\Local\\Continuum\\anaconda3\\lib\\site-packages\\sklearn\\ensemble\\forest.py:246: FutureWarning: The default value of n_estimators will change from 10 in version 0.20 to 100 in 0.22.\n",
      "  \"10 in version 0.20 to 100 in 0.22.\", FutureWarning)\n",
      "C:\\Users\\USER\\AppData\\Local\\Continuum\\anaconda3\\lib\\site-packages\\sklearn\\ensemble\\forest.py:246: FutureWarning: The default value of n_estimators will change from 10 in version 0.20 to 100 in 0.22.\n",
      "  \"10 in version 0.20 to 100 in 0.22.\", FutureWarning)\n",
      "C:\\Users\\USER\\AppData\\Local\\Continuum\\anaconda3\\lib\\site-packages\\sklearn\\ensemble\\forest.py:246: FutureWarning: The default value of n_estimators will change from 10 in version 0.20 to 100 in 0.22.\n",
      "  \"10 in version 0.20 to 100 in 0.22.\", FutureWarning)\n",
      "C:\\Users\\USER\\AppData\\Local\\Continuum\\anaconda3\\lib\\site-packages\\sklearn\\ensemble\\forest.py:246: FutureWarning: The default value of n_estimators will change from 10 in version 0.20 to 100 in 0.22.\n",
      "  \"10 in version 0.20 to 100 in 0.22.\", FutureWarning)\n",
      "C:\\Users\\USER\\AppData\\Local\\Continuum\\anaconda3\\lib\\site-packages\\sklearn\\ensemble\\forest.py:246: FutureWarning: The default value of n_estimators will change from 10 in version 0.20 to 100 in 0.22.\n",
      "  \"10 in version 0.20 to 100 in 0.22.\", FutureWarning)\n",
      "C:\\Users\\USER\\AppData\\Local\\Continuum\\anaconda3\\lib\\site-packages\\sklearn\\ensemble\\forest.py:246: FutureWarning: The default value of n_estimators will change from 10 in version 0.20 to 100 in 0.22.\n",
      "  \"10 in version 0.20 to 100 in 0.22.\", FutureWarning)\n",
      "C:\\Users\\USER\\AppData\\Local\\Continuum\\anaconda3\\lib\\site-packages\\sklearn\\ensemble\\forest.py:246: FutureWarning: The default value of n_estimators will change from 10 in version 0.20 to 100 in 0.22.\n",
      "  \"10 in version 0.20 to 100 in 0.22.\", FutureWarning)\n",
      "C:\\Users\\USER\\AppData\\Local\\Continuum\\anaconda3\\lib\\site-packages\\sklearn\\ensemble\\forest.py:246: FutureWarning: The default value of n_estimators will change from 10 in version 0.20 to 100 in 0.22.\n",
      "  \"10 in version 0.20 to 100 in 0.22.\", FutureWarning)\n",
      "C:\\Users\\USER\\AppData\\Local\\Continuum\\anaconda3\\lib\\site-packages\\sklearn\\ensemble\\forest.py:246: FutureWarning: The default value of n_estimators will change from 10 in version 0.20 to 100 in 0.22.\n",
      "  \"10 in version 0.20 to 100 in 0.22.\", FutureWarning)\n",
      "C:\\Users\\USER\\AppData\\Local\\Continuum\\anaconda3\\lib\\site-packages\\sklearn\\ensemble\\forest.py:246: FutureWarning: The default value of n_estimators will change from 10 in version 0.20 to 100 in 0.22.\n",
      "  \"10 in version 0.20 to 100 in 0.22.\", FutureWarning)\n",
      "C:\\Users\\USER\\AppData\\Local\\Continuum\\anaconda3\\lib\\site-packages\\sklearn\\ensemble\\forest.py:246: FutureWarning: The default value of n_estimators will change from 10 in version 0.20 to 100 in 0.22.\n",
      "  \"10 in version 0.20 to 100 in 0.22.\", FutureWarning)\n",
      "C:\\Users\\USER\\AppData\\Local\\Continuum\\anaconda3\\lib\\site-packages\\sklearn\\ensemble\\forest.py:246: FutureWarning: The default value of n_estimators will change from 10 in version 0.20 to 100 in 0.22.\n",
      "  \"10 in version 0.20 to 100 in 0.22.\", FutureWarning)\n",
      "C:\\Users\\USER\\AppData\\Local\\Continuum\\anaconda3\\lib\\site-packages\\sklearn\\ensemble\\forest.py:246: FutureWarning: The default value of n_estimators will change from 10 in version 0.20 to 100 in 0.22.\n",
      "  \"10 in version 0.20 to 100 in 0.22.\", FutureWarning)\n",
      "C:\\Users\\USER\\AppData\\Local\\Continuum\\anaconda3\\lib\\site-packages\\sklearn\\ensemble\\forest.py:246: FutureWarning: The default value of n_estimators will change from 10 in version 0.20 to 100 in 0.22.\n",
      "  \"10 in version 0.20 to 100 in 0.22.\", FutureWarning)\n",
      "C:\\Users\\USER\\AppData\\Local\\Continuum\\anaconda3\\lib\\site-packages\\sklearn\\ensemble\\forest.py:246: FutureWarning: The default value of n_estimators will change from 10 in version 0.20 to 100 in 0.22.\n",
      "  \"10 in version 0.20 to 100 in 0.22.\", FutureWarning)\n",
      "C:\\Users\\USER\\AppData\\Local\\Continuum\\anaconda3\\lib\\site-packages\\sklearn\\ensemble\\forest.py:246: FutureWarning: The default value of n_estimators will change from 10 in version 0.20 to 100 in 0.22.\n",
      "  \"10 in version 0.20 to 100 in 0.22.\", FutureWarning)\n",
      "C:\\Users\\USER\\AppData\\Local\\Continuum\\anaconda3\\lib\\site-packages\\sklearn\\ensemble\\forest.py:246: FutureWarning: The default value of n_estimators will change from 10 in version 0.20 to 100 in 0.22.\n",
      "  \"10 in version 0.20 to 100 in 0.22.\", FutureWarning)\n",
      "C:\\Users\\USER\\AppData\\Local\\Continuum\\anaconda3\\lib\\site-packages\\sklearn\\ensemble\\forest.py:246: FutureWarning: The default value of n_estimators will change from 10 in version 0.20 to 100 in 0.22.\n",
      "  \"10 in version 0.20 to 100 in 0.22.\", FutureWarning)\n",
      "C:\\Users\\USER\\AppData\\Local\\Continuum\\anaconda3\\lib\\site-packages\\sklearn\\ensemble\\forest.py:246: FutureWarning: The default value of n_estimators will change from 10 in version 0.20 to 100 in 0.22.\n",
      "  \"10 in version 0.20 to 100 in 0.22.\", FutureWarning)\n"
     ]
    },
    {
     "name": "stderr",
     "output_type": "stream",
     "text": [
      "C:\\Users\\USER\\AppData\\Local\\Continuum\\anaconda3\\lib\\site-packages\\sklearn\\ensemble\\forest.py:246: FutureWarning: The default value of n_estimators will change from 10 in version 0.20 to 100 in 0.22.\n",
      "  \"10 in version 0.20 to 100 in 0.22.\", FutureWarning)\n",
      "C:\\Users\\USER\\AppData\\Local\\Continuum\\anaconda3\\lib\\site-packages\\sklearn\\ensemble\\forest.py:246: FutureWarning: The default value of n_estimators will change from 10 in version 0.20 to 100 in 0.22.\n",
      "  \"10 in version 0.20 to 100 in 0.22.\", FutureWarning)\n",
      "C:\\Users\\USER\\AppData\\Local\\Continuum\\anaconda3\\lib\\site-packages\\sklearn\\ensemble\\forest.py:246: FutureWarning: The default value of n_estimators will change from 10 in version 0.20 to 100 in 0.22.\n",
      "  \"10 in version 0.20 to 100 in 0.22.\", FutureWarning)\n",
      "C:\\Users\\USER\\AppData\\Local\\Continuum\\anaconda3\\lib\\site-packages\\sklearn\\ensemble\\forest.py:246: FutureWarning: The default value of n_estimators will change from 10 in version 0.20 to 100 in 0.22.\n",
      "  \"10 in version 0.20 to 100 in 0.22.\", FutureWarning)\n",
      "C:\\Users\\USER\\AppData\\Local\\Continuum\\anaconda3\\lib\\site-packages\\sklearn\\ensemble\\forest.py:246: FutureWarning: The default value of n_estimators will change from 10 in version 0.20 to 100 in 0.22.\n",
      "  \"10 in version 0.20 to 100 in 0.22.\", FutureWarning)\n",
      "C:\\Users\\USER\\AppData\\Local\\Continuum\\anaconda3\\lib\\site-packages\\sklearn\\ensemble\\forest.py:246: FutureWarning: The default value of n_estimators will change from 10 in version 0.20 to 100 in 0.22.\n",
      "  \"10 in version 0.20 to 100 in 0.22.\", FutureWarning)\n"
     ]
    }
   ],
   "source": [
    "training = train_data.copy()\n",
    "testing = test_data.copy()\n",
    "\n",
    "training['origin'] = 1\n",
    "testing['origin'] = 0\n",
    "\n",
    "training.drop('FraudResult', axis=1, inplace=True)\n",
    "\n",
    "training = training.sample(30000, random_state=42)\n",
    "testing = testing.sample(15000, random_state=112)\n",
    "\n",
    "combined = pd.concat([training, testing], axis=0)\n",
    "y = combined['origin']\n",
    "X = combined.drop('origin', axis=1)\n",
    "\n",
    "etc_drift_list = []\n",
    "\n",
    "model = ExtraTreesClassifier(\n",
    "    max_depth=4, max_features=0.78, random_state=23, class_weight={0:1, 1:14.4}\n",
    ")\n",
    "\n",
    "for i in X.columns:\n",
    "    score = cross_val_score(model, pd.DataFrame(X[i]), y, cv=2, scoring='roc_auc', verbose=0).mean()\n",
    "    \n",
    "    if score>0.8:\n",
    "        etc_drift_list.append(i)\n",
    "        print(i, score)"
   ]
  },
  {
   "cell_type": "code",
   "execution_count": 128,
   "metadata": {},
   "outputs": [
    {
     "data": {
      "text/plain": [
       "['No. Customers per Acc']"
      ]
     },
     "execution_count": 128,
     "metadata": {},
     "output_type": "execute_result"
    }
   ],
   "source": [
    "etc_drift_list"
   ]
  },
  {
   "cell_type": "code",
   "execution_count": null,
   "metadata": {},
   "outputs": [],
   "source": []
  },
  {
   "cell_type": "code",
   "execution_count": null,
   "metadata": {},
   "outputs": [],
   "source": []
  },
  {
   "cell_type": "markdown",
   "metadata": {},
   "source": [
    "<h3>--------------Ensembling!</h3>"
   ]
  },
  {
   "cell_type": "code",
   "execution_count": 85,
   "metadata": {},
   "outputs": [],
   "source": [
    "from sklearn.ensemble import VotingClassifier"
   ]
  },
  {
   "cell_type": "code",
   "execution_count": null,
   "metadata": {},
   "outputs": [],
   "source": [
    "voting_classifier = VotingClassifier(estimators=[\n",
    "    ('xgbm', xgbm),\n",
    "    ('lgbm', lgbm),\n",
    "    ('rfc', rfc),\n",
    "    ('dtree', dtree),\n",
    "    ('etc',etc),\n",
    "    ], voting='soft', weights=[3, 3, 3, 2, 1.6], n_jobs=-1)\n",
    "\n",
    "#voting_classifier.fit(X_train, y_train)"
   ]
  },
  {
   "cell_type": "code",
   "execution_count": 86,
   "metadata": {},
   "outputs": [
    {
     "data": {
      "text/html": [
       "<div>\n",
       "<style scoped>\n",
       "    .dataframe tbody tr th:only-of-type {\n",
       "        vertical-align: middle;\n",
       "    }\n",
       "\n",
       "    .dataframe tbody tr th {\n",
       "        vertical-align: top;\n",
       "    }\n",
       "\n",
       "    .dataframe thead th {\n",
       "        text-align: right;\n",
       "    }\n",
       "</style>\n",
       "<table border=\"1\" class=\"dataframe\">\n",
       "  <thead>\n",
       "    <tr style=\"text-align: right;\">\n",
       "      <th></th>\n",
       "      <th>Amount</th>\n",
       "      <th>PricingStrategy</th>\n",
       "      <th>No. Customers per Acc</th>\n",
       "      <th>ExtraCharges</th>\n",
       "      <th>Days_to_Nearest_Holiday</th>\n",
       "      <th>Prev_Amt</th>\n",
       "      <th>Time_since_last_trans</th>\n",
       "      <th>Avg_amt_per_ProviderId_in_last_12hhrs</th>\n",
       "      <th>sum_of_amt_per_ProviderId_in_last_12hhrs</th>\n",
       "      <th>max_amt_per_ProviderId_in_last_12hhrs</th>\n",
       "      <th>...</th>\n",
       "      <th>Multiple_Sub_by_Customer_Yes</th>\n",
       "      <th>Multiple_Sub_by_Acc_Yes</th>\n",
       "      <th>Week_first_week</th>\n",
       "      <th>Week_fourth_week</th>\n",
       "      <th>Week_second_week</th>\n",
       "      <th>Week_third_week</th>\n",
       "      <th>Within_CI95_7days_Yes</th>\n",
       "      <th>Within_CI95_14days_Yes</th>\n",
       "      <th>Within_CI95_21days_Yes</th>\n",
       "      <th>Within_CI95_28days_Yes</th>\n",
       "    </tr>\n",
       "  </thead>\n",
       "  <tbody>\n",
       "    <tr>\n",
       "      <th>46767</th>\n",
       "      <td>9000.0</td>\n",
       "      <td>3</td>\n",
       "      <td>1070</td>\n",
       "      <td>0.0</td>\n",
       "      <td>2</td>\n",
       "      <td>9000.0</td>\n",
       "      <td>1.200000</td>\n",
       "      <td>10125.000000</td>\n",
       "      <td>40500.0</td>\n",
       "      <td>19500.0</td>\n",
       "      <td>...</td>\n",
       "      <td>1</td>\n",
       "      <td>0</td>\n",
       "      <td>0</td>\n",
       "      <td>0</td>\n",
       "      <td>0</td>\n",
       "      <td>0</td>\n",
       "      <td>0</td>\n",
       "      <td>0</td>\n",
       "      <td>0</td>\n",
       "      <td>0</td>\n",
       "    </tr>\n",
       "    <tr>\n",
       "      <th>6158</th>\n",
       "      <td>15000.0</td>\n",
       "      <td>3</td>\n",
       "      <td>70</td>\n",
       "      <td>1650.0</td>\n",
       "      <td>32</td>\n",
       "      <td>-644.0</td>\n",
       "      <td>3.650000</td>\n",
       "      <td>14000.000000</td>\n",
       "      <td>28000.0</td>\n",
       "      <td>15000.0</td>\n",
       "      <td>...</td>\n",
       "      <td>1</td>\n",
       "      <td>0</td>\n",
       "      <td>0</td>\n",
       "      <td>1</td>\n",
       "      <td>0</td>\n",
       "      <td>0</td>\n",
       "      <td>0</td>\n",
       "      <td>0</td>\n",
       "      <td>0</td>\n",
       "      <td>0</td>\n",
       "    </tr>\n",
       "    <tr>\n",
       "      <th>80336</th>\n",
       "      <td>-5000.0</td>\n",
       "      <td>3</td>\n",
       "      <td>30893</td>\n",
       "      <td>0.0</td>\n",
       "      <td>15</td>\n",
       "      <td>10000.0</td>\n",
       "      <td>2.450000</td>\n",
       "      <td>-5000.000000</td>\n",
       "      <td>-5000.0</td>\n",
       "      <td>-5000.0</td>\n",
       "      <td>...</td>\n",
       "      <td>1</td>\n",
       "      <td>1</td>\n",
       "      <td>1</td>\n",
       "      <td>0</td>\n",
       "      <td>0</td>\n",
       "      <td>0</td>\n",
       "      <td>1</td>\n",
       "      <td>0</td>\n",
       "      <td>0</td>\n",
       "      <td>1</td>\n",
       "    </tr>\n",
       "    <tr>\n",
       "      <th>22537</th>\n",
       "      <td>200.0</td>\n",
       "      <td>4</td>\n",
       "      <td>31</td>\n",
       "      <td>0.0</td>\n",
       "      <td>15</td>\n",
       "      <td>-200.0</td>\n",
       "      <td>1320.716667</td>\n",
       "      <td>200.000000</td>\n",
       "      <td>200.0</td>\n",
       "      <td>200.0</td>\n",
       "      <td>...</td>\n",
       "      <td>1</td>\n",
       "      <td>0</td>\n",
       "      <td>0</td>\n",
       "      <td>0</td>\n",
       "      <td>1</td>\n",
       "      <td>0</td>\n",
       "      <td>0</td>\n",
       "      <td>0</td>\n",
       "      <td>0</td>\n",
       "      <td>0</td>\n",
       "    </tr>\n",
       "    <tr>\n",
       "      <th>86131</th>\n",
       "      <td>2000.0</td>\n",
       "      <td>3</td>\n",
       "      <td>155</td>\n",
       "      <td>0.0</td>\n",
       "      <td>11</td>\n",
       "      <td>-50.0</td>\n",
       "      <td>55.900000</td>\n",
       "      <td>1532.923077</td>\n",
       "      <td>19928.0</td>\n",
       "      <td>2688.0</td>\n",
       "      <td>...</td>\n",
       "      <td>1</td>\n",
       "      <td>0</td>\n",
       "      <td>1</td>\n",
       "      <td>0</td>\n",
       "      <td>0</td>\n",
       "      <td>0</td>\n",
       "      <td>0</td>\n",
       "      <td>0</td>\n",
       "      <td>0</td>\n",
       "      <td>0</td>\n",
       "    </tr>\n",
       "  </tbody>\n",
       "</table>\n",
       "<p>5 rows × 191 columns</p>\n",
       "</div>"
      ],
      "text/plain": [
       "        Amount  PricingStrategy  No. Customers per Acc  ExtraCharges  \\\n",
       "46767   9000.0                3                   1070           0.0   \n",
       "6158   15000.0                3                     70        1650.0   \n",
       "80336  -5000.0                3                  30893           0.0   \n",
       "22537    200.0                4                     31           0.0   \n",
       "86131   2000.0                3                    155           0.0   \n",
       "\n",
       "       Days_to_Nearest_Holiday  Prev_Amt  Time_since_last_trans  \\\n",
       "46767                        2    9000.0               1.200000   \n",
       "6158                        32    -644.0               3.650000   \n",
       "80336                       15   10000.0               2.450000   \n",
       "22537                       15    -200.0            1320.716667   \n",
       "86131                       11     -50.0              55.900000   \n",
       "\n",
       "       Avg_amt_per_ProviderId_in_last_12hhrs  \\\n",
       "46767                           10125.000000   \n",
       "6158                            14000.000000   \n",
       "80336                           -5000.000000   \n",
       "22537                             200.000000   \n",
       "86131                            1532.923077   \n",
       "\n",
       "       sum_of_amt_per_ProviderId_in_last_12hhrs  \\\n",
       "46767                                   40500.0   \n",
       "6158                                    28000.0   \n",
       "80336                                   -5000.0   \n",
       "22537                                     200.0   \n",
       "86131                                   19928.0   \n",
       "\n",
       "       max_amt_per_ProviderId_in_last_12hhrs  ...  \\\n",
       "46767                                19500.0  ...   \n",
       "6158                                 15000.0  ...   \n",
       "80336                                -5000.0  ...   \n",
       "22537                                  200.0  ...   \n",
       "86131                                 2688.0  ...   \n",
       "\n",
       "       Multiple_Sub_by_Customer_Yes  Multiple_Sub_by_Acc_Yes  Week_first_week  \\\n",
       "46767                             1                        0                0   \n",
       "6158                              1                        0                0   \n",
       "80336                             1                        1                1   \n",
       "22537                             1                        0                0   \n",
       "86131                             1                        0                1   \n",
       "\n",
       "       Week_fourth_week  Week_second_week  Week_third_week  \\\n",
       "46767                 0                 0                0   \n",
       "6158                  1                 0                0   \n",
       "80336                 0                 0                0   \n",
       "22537                 0                 1                0   \n",
       "86131                 0                 0                0   \n",
       "\n",
       "       Within_CI95_7days_Yes  Within_CI95_14days_Yes  Within_CI95_21days_Yes  \\\n",
       "46767                      0                       0                       0   \n",
       "6158                       0                       0                       0   \n",
       "80336                      1                       0                       0   \n",
       "22537                      0                       0                       0   \n",
       "86131                      0                       0                       0   \n",
       "\n",
       "       Within_CI95_28days_Yes  \n",
       "46767                       0  \n",
       "6158                        0  \n",
       "80336                       1  \n",
       "22537                       0  \n",
       "86131                       0  \n",
       "\n",
       "[5 rows x 191 columns]"
      ]
     },
     "execution_count": 86,
     "metadata": {},
     "output_type": "execute_result"
    }
   ],
   "source": [
    "X_train.head()"
   ]
  },
  {
   "cell_type": "code",
   "execution_count": 99,
   "metadata": {},
   "outputs": [
    {
     "data": {
      "text/plain": [
       "Index(['Amount', 'PricingStrategy', 'No. Customers per Acc', 'ExtraCharges',\n",
       "       'Days_to_Nearest_Holiday', 'Prev_Amt', 'Time_since_last_trans',\n",
       "       'Avg_amt_per_ProviderId_in_last_12hhrs',\n",
       "       'sum_of_amt_per_ProviderId_in_last_12hhrs',\n",
       "       'max_amt_per_ProviderId_in_last_12hhrs',\n",
       "       ...\n",
       "       'Amount_to_mean_ProviderId', 'Amount_to_std_ProviderId',\n",
       "       'Amount_to_mean_PricingStrategy', 'Amount_to_std_PricingStrategy',\n",
       "       'Amount_to_mean_ProductCategory', 'Amount_to_std_ProductCategory',\n",
       "       'Amount_to_mean_ChannelId', 'Amount_to_std_ChannelId',\n",
       "       'Amount_to_mean_ProductId', 'Amount_to_std_ProductId'],\n",
       "      dtype='object', length=121)"
      ]
     },
     "execution_count": 99,
     "metadata": {},
     "output_type": "execute_result"
    }
   ],
   "source": [
    "test_data.columns[:121]"
   ]
  },
  {
   "cell_type": "code",
   "execution_count": 100,
   "metadata": {},
   "outputs": [],
   "source": [
    "from sklearn.preprocessing import StandardScaler"
   ]
  },
  {
   "cell_type": "code",
   "execution_count": 101,
   "metadata": {},
   "outputs": [],
   "source": [
    "numeric_data_columns = X_train.columns[:121]"
   ]
  },
  {
   "cell_type": "code",
   "execution_count": 104,
   "metadata": {},
   "outputs": [
    {
     "name": "stderr",
     "output_type": "stream",
     "text": [
      "C:\\Users\\USER\\AppData\\Local\\Continuum\\anaconda3\\lib\\site-packages\\pandas\\core\\indexing.py:543: SettingWithCopyWarning: \n",
      "A value is trying to be set on a copy of a slice from a DataFrame.\n",
      "Try using .loc[row_indexer,col_indexer] = value instead\n",
      "\n",
      "See the caveats in the documentation: http://pandas.pydata.org/pandas-docs/stable/indexing.html#indexing-view-versus-copy\n",
      "  self.obj[item] = s\n",
      "C:\\Users\\USER\\AppData\\Local\\Continuum\\anaconda3\\lib\\site-packages\\ipykernel_launcher.py:4: DataConversionWarning: Data with input dtype int64, float64 were all converted to float64 by StandardScaler.\n",
      "  after removing the cwd from sys.path.\n",
      "C:\\Users\\USER\\AppData\\Local\\Continuum\\anaconda3\\lib\\site-packages\\pandas\\core\\indexing.py:543: SettingWithCopyWarning: \n",
      "A value is trying to be set on a copy of a slice from a DataFrame.\n",
      "Try using .loc[row_indexer,col_indexer] = value instead\n",
      "\n",
      "See the caveats in the documentation: http://pandas.pydata.org/pandas-docs/stable/indexing.html#indexing-view-versus-copy\n",
      "  self.obj[item] = s\n",
      "C:\\Users\\USER\\AppData\\Local\\Continuum\\anaconda3\\lib\\site-packages\\ipykernel_launcher.py:6: DataConversionWarning: Data with input dtype int64, float64 were all converted to float64 by StandardScaler.\n",
      "  \n"
     ]
    }
   ],
   "source": [
    "scaler = StandardScaler()\n",
    "\n",
    "X_train.loc[:, numeric_data_columns] = scaler.fit_transform(X_train.loc[:, numeric_data_columns])\n",
    "X_test.loc[:, numeric_data_columns] = scaler.transform(X_test.loc[:, numeric_data_columns])\n",
    "\n",
    "test_data.loc[:, numeric_data_columns] = scaler.transform(test_data.loc[:, numeric_data_columns])"
   ]
  },
  {
   "cell_type": "code",
   "execution_count": 105,
   "metadata": {},
   "outputs": [
    {
     "data": {
      "text/html": [
       "<div>\n",
       "<style scoped>\n",
       "    .dataframe tbody tr th:only-of-type {\n",
       "        vertical-align: middle;\n",
       "    }\n",
       "\n",
       "    .dataframe tbody tr th {\n",
       "        vertical-align: top;\n",
       "    }\n",
       "\n",
       "    .dataframe thead th {\n",
       "        text-align: right;\n",
       "    }\n",
       "</style>\n",
       "<table border=\"1\" class=\"dataframe\">\n",
       "  <thead>\n",
       "    <tr style=\"text-align: right;\">\n",
       "      <th></th>\n",
       "      <th>Amount</th>\n",
       "      <th>PricingStrategy</th>\n",
       "      <th>No. Customers per Acc</th>\n",
       "      <th>ExtraCharges</th>\n",
       "      <th>Days_to_Nearest_Holiday</th>\n",
       "      <th>Prev_Amt</th>\n",
       "      <th>Time_since_last_trans</th>\n",
       "      <th>Avg_amt_per_ProviderId_in_last_12hhrs</th>\n",
       "      <th>sum_of_amt_per_ProviderId_in_last_12hhrs</th>\n",
       "      <th>max_amt_per_ProviderId_in_last_12hhrs</th>\n",
       "      <th>...</th>\n",
       "      <th>Multiple_Sub_by_Customer_Yes</th>\n",
       "      <th>Multiple_Sub_by_Acc_Yes</th>\n",
       "      <th>Week_first_week</th>\n",
       "      <th>Week_fourth_week</th>\n",
       "      <th>Week_second_week</th>\n",
       "      <th>Week_third_week</th>\n",
       "      <th>Within_CI95_7days_Yes</th>\n",
       "      <th>Within_CI95_14days_Yes</th>\n",
       "      <th>Within_CI95_21days_Yes</th>\n",
       "      <th>Within_CI95_28days_Yes</th>\n",
       "    </tr>\n",
       "  </thead>\n",
       "  <tbody>\n",
       "    <tr>\n",
       "      <th>46767</th>\n",
       "      <td>0.022511</td>\n",
       "      <td>-0.282873</td>\n",
       "      <td>-0.649232</td>\n",
       "      <td>-0.087028</td>\n",
       "      <td>-1.144950</td>\n",
       "      <td>0.028395</td>\n",
       "      <td>-0.233128</td>\n",
       "      <td>0.037747</td>\n",
       "      <td>0.185925</td>\n",
       "      <td>0.037604</td>\n",
       "      <td>...</td>\n",
       "      <td>1</td>\n",
       "      <td>0</td>\n",
       "      <td>0</td>\n",
       "      <td>0</td>\n",
       "      <td>0</td>\n",
       "      <td>0</td>\n",
       "      <td>0</td>\n",
       "      <td>0</td>\n",
       "      <td>0</td>\n",
       "      <td>0</td>\n",
       "    </tr>\n",
       "    <tr>\n",
       "      <th>6158</th>\n",
       "      <td>0.075012</td>\n",
       "      <td>-0.282873</td>\n",
       "      <td>-0.719364</td>\n",
       "      <td>3.375378</td>\n",
       "      <td>1.900247</td>\n",
       "      <td>-0.062568</td>\n",
       "      <td>-0.232598</td>\n",
       "      <td>0.078004</td>\n",
       "      <td>0.183861</td>\n",
       "      <td>0.011319</td>\n",
       "      <td>...</td>\n",
       "      <td>1</td>\n",
       "      <td>0</td>\n",
       "      <td>0</td>\n",
       "      <td>1</td>\n",
       "      <td>0</td>\n",
       "      <td>0</td>\n",
       "      <td>0</td>\n",
       "      <td>0</td>\n",
       "      <td>0</td>\n",
       "      <td>0</td>\n",
       "    </tr>\n",
       "    <tr>\n",
       "      <th>80336</th>\n",
       "      <td>-0.099991</td>\n",
       "      <td>-0.282873</td>\n",
       "      <td>1.442321</td>\n",
       "      <td>-0.087028</td>\n",
       "      <td>0.174635</td>\n",
       "      <td>0.037827</td>\n",
       "      <td>-0.232858</td>\n",
       "      <td>-0.119384</td>\n",
       "      <td>0.178413</td>\n",
       "      <td>-0.105504</td>\n",
       "      <td>...</td>\n",
       "      <td>1</td>\n",
       "      <td>1</td>\n",
       "      <td>1</td>\n",
       "      <td>0</td>\n",
       "      <td>0</td>\n",
       "      <td>0</td>\n",
       "      <td>1</td>\n",
       "      <td>0</td>\n",
       "      <td>0</td>\n",
       "      <td>1</td>\n",
       "    </tr>\n",
       "    <tr>\n",
       "      <th>22537</th>\n",
       "      <td>-0.054490</td>\n",
       "      <td>2.182728</td>\n",
       "      <td>-0.722099</td>\n",
       "      <td>-0.087028</td>\n",
       "      <td>0.174635</td>\n",
       "      <td>-0.058380</td>\n",
       "      <td>0.052455</td>\n",
       "      <td>-0.065362</td>\n",
       "      <td>0.179272</td>\n",
       "      <td>-0.075130</td>\n",
       "      <td>...</td>\n",
       "      <td>1</td>\n",
       "      <td>0</td>\n",
       "      <td>0</td>\n",
       "      <td>0</td>\n",
       "      <td>1</td>\n",
       "      <td>0</td>\n",
       "      <td>0</td>\n",
       "      <td>0</td>\n",
       "      <td>0</td>\n",
       "      <td>0</td>\n",
       "    </tr>\n",
       "    <tr>\n",
       "      <th>86131</th>\n",
       "      <td>-0.038740</td>\n",
       "      <td>-0.282873</td>\n",
       "      <td>-0.713403</td>\n",
       "      <td>-0.087028</td>\n",
       "      <td>-0.231391</td>\n",
       "      <td>-0.056965</td>\n",
       "      <td>-0.221289</td>\n",
       "      <td>-0.051515</td>\n",
       "      <td>0.182529</td>\n",
       "      <td>-0.060597</td>\n",
       "      <td>...</td>\n",
       "      <td>1</td>\n",
       "      <td>0</td>\n",
       "      <td>1</td>\n",
       "      <td>0</td>\n",
       "      <td>0</td>\n",
       "      <td>0</td>\n",
       "      <td>0</td>\n",
       "      <td>0</td>\n",
       "      <td>0</td>\n",
       "      <td>0</td>\n",
       "    </tr>\n",
       "  </tbody>\n",
       "</table>\n",
       "<p>5 rows × 191 columns</p>\n",
       "</div>"
      ],
      "text/plain": [
       "         Amount  PricingStrategy  No. Customers per Acc  ExtraCharges  \\\n",
       "46767  0.022511        -0.282873              -0.649232     -0.087028   \n",
       "6158   0.075012        -0.282873              -0.719364      3.375378   \n",
       "80336 -0.099991        -0.282873               1.442321     -0.087028   \n",
       "22537 -0.054490         2.182728              -0.722099     -0.087028   \n",
       "86131 -0.038740        -0.282873              -0.713403     -0.087028   \n",
       "\n",
       "       Days_to_Nearest_Holiday  Prev_Amt  Time_since_last_trans  \\\n",
       "46767                -1.144950  0.028395              -0.233128   \n",
       "6158                  1.900247 -0.062568              -0.232598   \n",
       "80336                 0.174635  0.037827              -0.232858   \n",
       "22537                 0.174635 -0.058380               0.052455   \n",
       "86131                -0.231391 -0.056965              -0.221289   \n",
       "\n",
       "       Avg_amt_per_ProviderId_in_last_12hhrs  \\\n",
       "46767                               0.037747   \n",
       "6158                                0.078004   \n",
       "80336                              -0.119384   \n",
       "22537                              -0.065362   \n",
       "86131                              -0.051515   \n",
       "\n",
       "       sum_of_amt_per_ProviderId_in_last_12hhrs  \\\n",
       "46767                                  0.185925   \n",
       "6158                                   0.183861   \n",
       "80336                                  0.178413   \n",
       "22537                                  0.179272   \n",
       "86131                                  0.182529   \n",
       "\n",
       "       max_amt_per_ProviderId_in_last_12hhrs  ...  \\\n",
       "46767                               0.037604  ...   \n",
       "6158                                0.011319  ...   \n",
       "80336                              -0.105504  ...   \n",
       "22537                              -0.075130  ...   \n",
       "86131                              -0.060597  ...   \n",
       "\n",
       "       Multiple_Sub_by_Customer_Yes  Multiple_Sub_by_Acc_Yes  Week_first_week  \\\n",
       "46767                             1                        0                0   \n",
       "6158                              1                        0                0   \n",
       "80336                             1                        1                1   \n",
       "22537                             1                        0                0   \n",
       "86131                             1                        0                1   \n",
       "\n",
       "       Week_fourth_week  Week_second_week  Week_third_week  \\\n",
       "46767                 0                 0                0   \n",
       "6158                  1                 0                0   \n",
       "80336                 0                 0                0   \n",
       "22537                 0                 1                0   \n",
       "86131                 0                 0                0   \n",
       "\n",
       "       Within_CI95_7days_Yes  Within_CI95_14days_Yes  Within_CI95_21days_Yes  \\\n",
       "46767                      0                       0                       0   \n",
       "6158                       0                       0                       0   \n",
       "80336                      1                       0                       0   \n",
       "22537                      0                       0                       0   \n",
       "86131                      0                       0                       0   \n",
       "\n",
       "       Within_CI95_28days_Yes  \n",
       "46767                       0  \n",
       "6158                        0  \n",
       "80336                       1  \n",
       "22537                       0  \n",
       "86131                       0  \n",
       "\n",
       "[5 rows x 191 columns]"
      ]
     },
     "execution_count": 105,
     "metadata": {},
     "output_type": "execute_result"
    }
   ],
   "source": [
    "X_train.head()"
   ]
  },
  {
   "cell_type": "code",
   "execution_count": null,
   "metadata": {},
   "outputs": [
    {
     "name": "stderr",
     "output_type": "stream",
     "text": [
      "C:\\Users\\USER\\AppData\\Local\\Continuum\\anaconda3\\lib\\site-packages\\sklearn\\feature_selection\\univariate_selection.py:114: UserWarning: Features [133 134 142 143 156 163 168 179] are constant.\n",
      "  UserWarning)\n",
      "C:\\Users\\USER\\AppData\\Local\\Continuum\\anaconda3\\lib\\site-packages\\sklearn\\feature_selection\\univariate_selection.py:115: RuntimeWarning: invalid value encountered in true_divide\n",
      "  f = msb / msw\n"
     ]
    },
    {
     "name": "stdout",
     "output_type": "stream",
     "text": [
      "0.06684256816182936\n"
     ]
    },
    {
     "name": "stderr",
     "output_type": "stream",
     "text": [
      "C:\\Users\\USER\\AppData\\Local\\Continuum\\anaconda3\\lib\\site-packages\\sklearn\\feature_selection\\univariate_selection.py:114: UserWarning: Features [133 134 142 143 156 163 168 179] are constant.\n",
      "  UserWarning)\n",
      "C:\\Users\\USER\\AppData\\Local\\Continuum\\anaconda3\\lib\\site-packages\\sklearn\\feature_selection\\univariate_selection.py:115: RuntimeWarning: invalid value encountered in true_divide\n",
      "  f = msb / msw\n"
     ]
    },
    {
     "name": "stdout",
     "output_type": "stream",
     "text": [
      "0.06985294117647059\n"
     ]
    },
    {
     "name": "stderr",
     "output_type": "stream",
     "text": [
      "C:\\Users\\USER\\AppData\\Local\\Continuum\\anaconda3\\lib\\site-packages\\sklearn\\feature_selection\\univariate_selection.py:114: UserWarning: Features [133 134 142 143 156 163 168 179] are constant.\n",
      "  UserWarning)\n",
      "C:\\Users\\USER\\AppData\\Local\\Continuum\\anaconda3\\lib\\site-packages\\sklearn\\feature_selection\\univariate_selection.py:115: RuntimeWarning: invalid value encountered in true_divide\n",
      "  f = msb / msw\n"
     ]
    },
    {
     "name": "stdout",
     "output_type": "stream",
     "text": [
      "0.07607607607607605\n"
     ]
    },
    {
     "name": "stderr",
     "output_type": "stream",
     "text": [
      "C:\\Users\\USER\\AppData\\Local\\Continuum\\anaconda3\\lib\\site-packages\\sklearn\\feature_selection\\univariate_selection.py:114: UserWarning: Features [133 134 142 143 156 163 168 179] are constant.\n",
      "  UserWarning)\n",
      "C:\\Users\\USER\\AppData\\Local\\Continuum\\anaconda3\\lib\\site-packages\\sklearn\\feature_selection\\univariate_selection.py:115: RuntimeWarning: invalid value encountered in true_divide\n",
      "  f = msb / msw\n"
     ]
    }
   ],
   "source": [
    "for i in [5, 10, 15, 20]:\n",
    "    select_feature = SelectKBest(f_classif, k=i).fit(X_train, y_train)\n",
    "    x_train_2 = select_feature.transform(X_train)\n",
    "    x_test_2 = select_feature.transform(X_test)\n",
    "    #clf = VotingClassifier()\n",
    "    clf = voting_classifier.fit(x_train_2,y_train)\n",
    "    print(f1_score(y_test, clf.predict(x_test_2)))"
   ]
  },
  {
   "cell_type": "code",
   "execution_count": null,
   "metadata": {},
   "outputs": [],
   "source": []
  },
  {
   "cell_type": "code",
   "execution_count": null,
   "metadata": {},
   "outputs": [],
   "source": []
  },
  {
   "cell_type": "code",
   "execution_count": 83,
   "metadata": {},
   "outputs": [],
   "source": [
    "def get_models():\n",
    "    \"\"\"Generate a library of base learners.\"\"\"\n",
    "\n",
    "    models = {'lgb': lgbm,\n",
    "              'xgb': xgbm,\n",
    "              'dtree' : dtree,\n",
    "              'etc' : etc\n",
    "              }\n",
    "\n",
    "    return models"
   ]
  },
  {
   "cell_type": "code",
   "execution_count": 84,
   "metadata": {},
   "outputs": [],
   "source": [
    "base_learners = get_models()\n",
    "meta_learner = rfc"
   ]
  },
  {
   "cell_type": "code",
   "execution_count": 85,
   "metadata": {},
   "outputs": [
    {
     "name": "stderr",
     "output_type": "stream",
     "text": [
      "[MLENS] backend: threading\n",
      "[MLENS] Found 1 residual cache(s):\n",
      "        1 (4096): C:\\Users\\USER\\AppData\\Local\\Temp\\.mlens_tmp_cache_m_k3esbc\n",
      "        Total size: 4096\n",
      "[MLENS] Removing... done.\n"
     ]
    }
   ],
   "source": [
    "from mlens.ensemble import SuperLearner"
   ]
  },
  {
   "cell_type": "code",
   "execution_count": 90,
   "metadata": {},
   "outputs": [],
   "source": [
    "def scoring(actual, pred):\n",
    "    return f1_score(actual, pred)"
   ]
  },
  {
   "cell_type": "code",
   "execution_count": 86,
   "metadata": {},
   "outputs": [
    {
     "data": {
      "text/plain": [
       "SuperLearner(array_check=None, backend=None, folds=5,\n",
       "       layers=[Layer(backend='threading', dtype=<class 'numpy.float32'>, n_jobs=-1,\n",
       "   name='layer-1', propagate_features=None, raise_on_exception=True,\n",
       "   random_state=7270, shuffle=False,\n",
       "   stack=[Group(backend='threading', dtype=<class 'numpy.float32'>,\n",
       "   indexer=FoldIndex(X=None, folds=5, raise_on_ex...rer=None)],\n",
       "   n_jobs=-1, name='group-1', raise_on_exception=True, transformers=[])],\n",
       "   verbose=0)],\n",
       "       model_selection=False, n_jobs=None, raise_on_exception=True,\n",
       "       random_state=42, sample_size=20, scorer=None, shuffle=False,\n",
       "       verbose=0)"
      ]
     },
     "execution_count": 86,
     "metadata": {},
     "output_type": "execute_result"
    }
   ],
   "source": [
    "from mlens.ensemble import SuperLearner\n",
    "\n",
    "# Instantiate the ensemble with 10 folds\n",
    "sl = SuperLearner(\n",
    "    folds=5,\n",
    "    random_state=42,\n",
    "    verbose=0,\n",
    "    backend=\"multiprocessing\"\n",
    ")\n",
    "\n",
    "# Add the base learners and the meta learner\n",
    "sl.add(list(base_learners.values()), proba=True)\n",
    "sl.add_meta(meta_learner, proba=True)"
   ]
  },
  {
   "cell_type": "code",
   "execution_count": 103,
   "metadata": {},
   "outputs": [
    {
     "name": "stderr",
     "output_type": "stream",
     "text": [
      "C:\\Users\\USER\\AppData\\Local\\Continuum\\anaconda3\\lib\\site-packages\\sklearn\\feature_selection\\univariate_selection.py:114: UserWarning: Features [133 134 142 143 156 163 168 179] are constant.\n",
      "  UserWarning)\n",
      "C:\\Users\\USER\\AppData\\Local\\Continuum\\anaconda3\\lib\\site-packages\\sklearn\\feature_selection\\univariate_selection.py:115: RuntimeWarning: invalid value encountered in true_divide\n",
      "  f = msb / msw\n"
     ]
    }
   ],
   "source": [
    "select_feature = SelectKBest(f_classif, k=25).fit(X_train, y_train)\n",
    "x_train_2 = select_feature.transform(X_train)\n",
    "x_test_2 = select_feature.transform(X_test)\n",
    "\n",
    "\n",
    "test_data_2 = select_feature.transform(test_data)"
   ]
  },
  {
   "cell_type": "code",
   "execution_count": 88,
   "metadata": {},
   "outputs": [
    {
     "ename": "ValueError",
     "evalue": "Classification metrics can't handle a mix of binary and continuous-multioutput targets",
     "output_type": "error",
     "traceback": [
      "\u001b[1;31m---------------------------------------------------------------------------\u001b[0m",
      "\u001b[1;31mValueError\u001b[0m                                Traceback (most recent call last)",
      "\u001b[1;32m<ipython-input-88-2b89beb4941d>\u001b[0m in \u001b[0;36m<module>\u001b[1;34m\u001b[0m\n\u001b[0;32m      1\u001b[0m \u001b[1;33m\u001b[0m\u001b[0m\n\u001b[0;32m      2\u001b[0m \u001b[0msl\u001b[0m \u001b[1;33m=\u001b[0m \u001b[0msl\u001b[0m\u001b[1;33m.\u001b[0m\u001b[0mfit\u001b[0m\u001b[1;33m(\u001b[0m\u001b[0mx_train_2\u001b[0m\u001b[1;33m,\u001b[0m\u001b[0my_train\u001b[0m\u001b[1;33m)\u001b[0m\u001b[1;33m\u001b[0m\u001b[1;33m\u001b[0m\u001b[0m\n\u001b[1;32m----> 3\u001b[1;33m \u001b[0mac_2\u001b[0m \u001b[1;33m=\u001b[0m \u001b[0mf1_score\u001b[0m\u001b[1;33m(\u001b[0m\u001b[0my_test\u001b[0m\u001b[1;33m,\u001b[0m \u001b[0msl\u001b[0m\u001b[1;33m.\u001b[0m\u001b[0mpredict\u001b[0m\u001b[1;33m(\u001b[0m\u001b[0mx_test_2\u001b[0m\u001b[1;33m)\u001b[0m\u001b[1;33m)\u001b[0m\u001b[1;33m\u001b[0m\u001b[1;33m\u001b[0m\u001b[0m\n\u001b[0m",
      "\u001b[1;32m~\\AppData\\Local\\Continuum\\anaconda3\\lib\\site-packages\\sklearn\\metrics\\classification.py\u001b[0m in \u001b[0;36mf1_score\u001b[1;34m(y_true, y_pred, labels, pos_label, average, sample_weight)\u001b[0m\n\u001b[0;32m    718\u001b[0m     return fbeta_score(y_true, y_pred, 1, labels=labels,\n\u001b[0;32m    719\u001b[0m                        \u001b[0mpos_label\u001b[0m\u001b[1;33m=\u001b[0m\u001b[0mpos_label\u001b[0m\u001b[1;33m,\u001b[0m \u001b[0maverage\u001b[0m\u001b[1;33m=\u001b[0m\u001b[0maverage\u001b[0m\u001b[1;33m,\u001b[0m\u001b[1;33m\u001b[0m\u001b[1;33m\u001b[0m\u001b[0m\n\u001b[1;32m--> 720\u001b[1;33m                        sample_weight=sample_weight)\n\u001b[0m\u001b[0;32m    721\u001b[0m \u001b[1;33m\u001b[0m\u001b[0m\n\u001b[0;32m    722\u001b[0m \u001b[1;33m\u001b[0m\u001b[0m\n",
      "\u001b[1;32m~\\AppData\\Local\\Continuum\\anaconda3\\lib\\site-packages\\sklearn\\metrics\\classification.py\u001b[0m in \u001b[0;36mfbeta_score\u001b[1;34m(y_true, y_pred, beta, labels, pos_label, average, sample_weight)\u001b[0m\n\u001b[0;32m    832\u001b[0m                                                  \u001b[0maverage\u001b[0m\u001b[1;33m=\u001b[0m\u001b[0maverage\u001b[0m\u001b[1;33m,\u001b[0m\u001b[1;33m\u001b[0m\u001b[1;33m\u001b[0m\u001b[0m\n\u001b[0;32m    833\u001b[0m                                                  \u001b[0mwarn_for\u001b[0m\u001b[1;33m=\u001b[0m\u001b[1;33m(\u001b[0m\u001b[1;34m'f-score'\u001b[0m\u001b[1;33m,\u001b[0m\u001b[1;33m)\u001b[0m\u001b[1;33m,\u001b[0m\u001b[1;33m\u001b[0m\u001b[1;33m\u001b[0m\u001b[0m\n\u001b[1;32m--> 834\u001b[1;33m                                                  sample_weight=sample_weight)\n\u001b[0m\u001b[0;32m    835\u001b[0m     \u001b[1;32mreturn\u001b[0m \u001b[0mf\u001b[0m\u001b[1;33m\u001b[0m\u001b[1;33m\u001b[0m\u001b[0m\n\u001b[0;32m    836\u001b[0m \u001b[1;33m\u001b[0m\u001b[0m\n",
      "\u001b[1;32m~\\AppData\\Local\\Continuum\\anaconda3\\lib\\site-packages\\sklearn\\metrics\\classification.py\u001b[0m in \u001b[0;36mprecision_recall_fscore_support\u001b[1;34m(y_true, y_pred, beta, labels, pos_label, average, warn_for, sample_weight)\u001b[0m\n\u001b[0;32m   1029\u001b[0m         \u001b[1;32mraise\u001b[0m \u001b[0mValueError\u001b[0m\u001b[1;33m(\u001b[0m\u001b[1;34m\"beta should be >0 in the F-beta score\"\u001b[0m\u001b[1;33m)\u001b[0m\u001b[1;33m\u001b[0m\u001b[1;33m\u001b[0m\u001b[0m\n\u001b[0;32m   1030\u001b[0m \u001b[1;33m\u001b[0m\u001b[0m\n\u001b[1;32m-> 1031\u001b[1;33m     \u001b[0my_type\u001b[0m\u001b[1;33m,\u001b[0m \u001b[0my_true\u001b[0m\u001b[1;33m,\u001b[0m \u001b[0my_pred\u001b[0m \u001b[1;33m=\u001b[0m \u001b[0m_check_targets\u001b[0m\u001b[1;33m(\u001b[0m\u001b[0my_true\u001b[0m\u001b[1;33m,\u001b[0m \u001b[0my_pred\u001b[0m\u001b[1;33m)\u001b[0m\u001b[1;33m\u001b[0m\u001b[1;33m\u001b[0m\u001b[0m\n\u001b[0m\u001b[0;32m   1032\u001b[0m     \u001b[0mcheck_consistent_length\u001b[0m\u001b[1;33m(\u001b[0m\u001b[0my_true\u001b[0m\u001b[1;33m,\u001b[0m \u001b[0my_pred\u001b[0m\u001b[1;33m,\u001b[0m \u001b[0msample_weight\u001b[0m\u001b[1;33m)\u001b[0m\u001b[1;33m\u001b[0m\u001b[1;33m\u001b[0m\u001b[0m\n\u001b[0;32m   1033\u001b[0m     \u001b[0mpresent_labels\u001b[0m \u001b[1;33m=\u001b[0m \u001b[0munique_labels\u001b[0m\u001b[1;33m(\u001b[0m\u001b[0my_true\u001b[0m\u001b[1;33m,\u001b[0m \u001b[0my_pred\u001b[0m\u001b[1;33m)\u001b[0m\u001b[1;33m\u001b[0m\u001b[1;33m\u001b[0m\u001b[0m\n",
      "\u001b[1;32m~\\AppData\\Local\\Continuum\\anaconda3\\lib\\site-packages\\sklearn\\metrics\\classification.py\u001b[0m in \u001b[0;36m_check_targets\u001b[1;34m(y_true, y_pred)\u001b[0m\n\u001b[0;32m     79\u001b[0m     \u001b[1;32mif\u001b[0m \u001b[0mlen\u001b[0m\u001b[1;33m(\u001b[0m\u001b[0my_type\u001b[0m\u001b[1;33m)\u001b[0m \u001b[1;33m>\u001b[0m \u001b[1;36m1\u001b[0m\u001b[1;33m:\u001b[0m\u001b[1;33m\u001b[0m\u001b[1;33m\u001b[0m\u001b[0m\n\u001b[0;32m     80\u001b[0m         raise ValueError(\"Classification metrics can't handle a mix of {0} \"\n\u001b[1;32m---> 81\u001b[1;33m                          \"and {1} targets\".format(type_true, type_pred))\n\u001b[0m\u001b[0;32m     82\u001b[0m \u001b[1;33m\u001b[0m\u001b[0m\n\u001b[0;32m     83\u001b[0m     \u001b[1;31m# We can't have more than one value on y_type => The set is no more needed\u001b[0m\u001b[1;33m\u001b[0m\u001b[1;33m\u001b[0m\u001b[1;33m\u001b[0m\u001b[0m\n",
      "\u001b[1;31mValueError\u001b[0m: Classification metrics can't handle a mix of binary and continuous-multioutput targets"
     ]
    }
   ],
   "source": [
    "\n",
    "sl = sl.fit(x_train_2,y_train)\n"
   ]
  },
  {
   "cell_type": "code",
   "execution_count": 91,
   "metadata": {},
   "outputs": [
    {
     "name": "stdout",
     "output_type": "stream",
     "text": [
      "Super Learner f1 score: 0.7777777777777778\n"
     ]
    }
   ],
   "source": [
    "\n",
    "p_sl = sl.predict_proba(x_test_2)\n",
    "pred = [1 if y>=0.5 else 0 for y in p_sl[:, 1]]\n",
    "\n",
    "print(\"Super Learner f1 score: {}\".format(f1_score(y_test, pred)))"
   ]
  },
  {
   "cell_type": "code",
   "execution_count": null,
   "metadata": {},
   "outputs": [],
   "source": []
  },
  {
   "cell_type": "code",
   "execution_count": 92,
   "metadata": {},
   "outputs": [],
   "source": [
    "precision, recall, thresholds = precision_recall_curve(y_test, p_sl[:,1])"
   ]
  },
  {
   "cell_type": "code",
   "execution_count": 93,
   "metadata": {},
   "outputs": [
    {
     "data": {
      "image/png": "[encoded data removed]",
      "text/plain": [
       "<Figure size 432x288 with 1 Axes>"
      ]
     },
     "metadata": {
      "needs_background": "light"
     },
     "output_type": "display_data"
    }
   ],
   "source": [
    "thresholds = np.append(thresholds, 1)\n",
    "f1_scores = 2*(precision*recall)/(precision+recall)\n",
    "plt.step(recall, precision, color='b', alpha=0.4, where='post')\n",
    "plt.xlabel('Recall')\n",
    "plt.ylabel('Precision')\n",
    "plt.ylim([0.0, 1.05])\n",
    "plt.xlim([0.0, 1.0])\n",
    "plt.title('2-class Precision-Recall curve')\n",
    "plt.show()"
   ]
  },
  {
   "cell_type": "code",
   "execution_count": 94,
   "metadata": {},
   "outputs": [
    {
     "name": "stdout",
     "output_type": "stream",
     "text": [
      "Threshold cutoff:  0.9091913104057312\n",
      "Max F1-score at cut-off :  0.8888888888888888\n"
     ]
    },
    {
     "data": {
      "text/plain": [
       "<matplotlib.axes._subplots.AxesSubplot at 0x9236160b8>"
      ]
     },
     "execution_count": 94,
     "metadata": {},
     "output_type": "execute_result"
    },
    {
     "data": {
      "image/png": "[encoded data removed]",
      "text/plain": [
       "<Figure size 432x288 with 1 Axes>"
      ]
     },
     "metadata": {
      "needs_background": "light"
     },
     "output_type": "display_data"
    }
   ],
   "source": [
    "scrs = pd.DataFrame({'precision' : precision, 'recal' : recall, 'thresholds' : thresholds, 'f1_score':f1_scores})\n",
    "print(\"Threshold cutoff: \",scrs.loc[scrs['f1_score'] == scrs.f1_score.max(),'thresholds'].iloc[0])\n",
    "print(\"Max F1-score at cut-off : \",scrs.f1_score.max())\n",
    "\n",
    "thresh = scrs.loc[scrs['f1_score'] == scrs.f1_score.max(),'thresholds'].iloc[0]\n",
    "\n",
    "scrs.plot(x='thresholds', y='f1_score')"
   ]
  },
  {
   "cell_type": "code",
   "execution_count": 95,
   "metadata": {},
   "outputs": [
    {
     "data": {
      "text/html": [
       "<div>\n",
       "<style scoped>\n",
       "    .dataframe tbody tr th:only-of-type {\n",
       "        vertical-align: middle;\n",
       "    }\n",
       "\n",
       "    .dataframe tbody tr th {\n",
       "        vertical-align: top;\n",
       "    }\n",
       "\n",
       "    .dataframe thead th {\n",
       "        text-align: right;\n",
       "    }\n",
       "</style>\n",
       "<table border=\"1\" class=\"dataframe\">\n",
       "  <thead>\n",
       "    <tr style=\"text-align: right;\">\n",
       "      <th></th>\n",
       "      <th>precision</th>\n",
       "      <th>recal</th>\n",
       "      <th>thresholds</th>\n",
       "      <th>f1_score</th>\n",
       "    </tr>\n",
       "  </thead>\n",
       "  <tbody>\n",
       "    <tr>\n",
       "      <th>162</th>\n",
       "      <td>0.969697</td>\n",
       "      <td>0.820513</td>\n",
       "      <td>0.909191</td>\n",
       "      <td>0.888889</td>\n",
       "    </tr>\n",
       "  </tbody>\n",
       "</table>\n",
       "</div>"
      ],
      "text/plain": [
       "     precision     recal  thresholds  f1_score\n",
       "162   0.969697  0.820513    0.909191  0.888889"
      ]
     },
     "execution_count": 95,
     "metadata": {},
     "output_type": "execute_result"
    }
   ],
   "source": [
    "scrs.loc[scrs['f1_score'] == scrs.f1_score.max()]"
   ]
  },
  {
   "cell_type": "code",
   "execution_count": 99,
   "metadata": {},
   "outputs": [
    {
     "data": {
      "text/html": [
       "<div>\n",
       "<style scoped>\n",
       "    .dataframe tbody tr th:only-of-type {\n",
       "        vertical-align: middle;\n",
       "    }\n",
       "\n",
       "    .dataframe tbody tr th {\n",
       "        vertical-align: top;\n",
       "    }\n",
       "\n",
       "    .dataframe thead th {\n",
       "        text-align: right;\n",
       "    }\n",
       "</style>\n",
       "<table border=\"1\" class=\"dataframe\">\n",
       "  <thead>\n",
       "    <tr style=\"text-align: right;\">\n",
       "      <th></th>\n",
       "      <th>precision</th>\n",
       "      <th>recal</th>\n",
       "      <th>thresholds</th>\n",
       "      <th>f1_score</th>\n",
       "    </tr>\n",
       "  </thead>\n",
       "  <tbody>\n",
       "    <tr>\n",
       "      <th>162</th>\n",
       "      <td>0.969697</td>\n",
       "      <td>0.820513</td>\n",
       "      <td>0.909191</td>\n",
       "      <td>0.888889</td>\n",
       "    </tr>\n",
       "  </tbody>\n",
       "</table>\n",
       "</div>"
      ],
      "text/plain": [
       "     precision     recal  thresholds  f1_score\n",
       "162   0.969697  0.820513    0.909191  0.888889"
      ]
     },
     "execution_count": 99,
     "metadata": {},
     "output_type": "execute_result"
    }
   ],
   "source": [
    "frame =  scrs.loc[scrs['f1_score'] == scrs.f1_score.max()]\n",
    "frame"
   ]
  },
  {
   "cell_type": "code",
   "execution_count": 100,
   "metadata": {},
   "outputs": [
    {
     "data": {
      "text/plain": [
       "0.9091913104057312"
      ]
     },
     "execution_count": 100,
     "metadata": {},
     "output_type": "execute_result"
    }
   ],
   "source": [
    "thresh = frame['thresholds'].values[0]\n",
    "thresh"
   ]
  },
  {
   "cell_type": "code",
   "execution_count": 101,
   "metadata": {},
   "outputs": [
    {
     "data": {
      "text/plain": [
       "0.8888888888888888"
      ]
     },
     "execution_count": 101,
     "metadata": {},
     "output_type": "execute_result"
    }
   ],
   "source": [
    "pred = [1 if y>=thresh else 0 for y in p_sl[:, 1]]\n",
    "\n",
    "f1_score(y_test, pred)"
   ]
  },
  {
   "cell_type": "code",
   "execution_count": 117,
   "metadata": {},
   "outputs": [],
   "source": [
    "test_data_probs_no_thresh = sl.predict_proba(test_data_2)\n",
    "test_data_pred_no_thresh = [1 if y>=0.5 else 0 for y in test_data_probs[:, 1]]\n",
    "\n",
    "submission = pd.DataFrame({'TransactionId' : testId[0], 'FraudResult' : test_data_pred_no_thresh})\n",
    "submission.to_csv('stacked_no_thresh_sub.csv', index=False)"
   ]
  },
  {
   "cell_type": "code",
   "execution_count": null,
   "metadata": {},
   "outputs": [],
   "source": []
  },
  {
   "cell_type": "code",
   "execution_count": 105,
   "metadata": {},
   "outputs": [],
   "source": [
    "test_data_probs = sl.predict_proba(test_data_2)\n",
    "test_data_pred = [1 if y>=thresh else 0 for y in test_data_probs[:, 1]]\n",
    "\n",
    "submission = pd.DataFrame({'TransactionId' : testId[0], 'FraudResult' : test_data_pred})\n",
    "submission.to_csv('stacked_sub.csv', index=False)"
   ]
  },
  {
   "cell_type": "code",
   "execution_count": null,
   "metadata": {},
   "outputs": [],
   "source": []
  },
  {
   "cell_type": "code",
   "execution_count": null,
   "metadata": {},
   "outputs": [],
   "source": []
  },
  {
   "cell_type": "markdown",
   "metadata": {},
   "source": [
    "<h4>combine</h4>"
   ]
  },
  {
   "cell_type": "code",
   "execution_count": 111,
   "metadata": {},
   "outputs": [
    {
     "data": {
      "text/plain": [
       "array([[0.98934525, 0.01065473],\n",
       "       [0.98934525, 0.01065473],\n",
       "       [0.98934525, 0.01065473],\n",
       "       ...,\n",
       "       [0.98934525, 0.01065473],\n",
       "       [0.98934525, 0.01065473],\n",
       "       [0.98934525, 0.01065473]], dtype=float32)"
      ]
     },
     "execution_count": 111,
     "metadata": {},
     "output_type": "execute_result"
    }
   ],
   "source": [
    "xgbm.predict_proba(X_test_xgb)"
   ]
  },
  {
   "cell_type": "code",
   "execution_count": 112,
   "metadata": {},
   "outputs": [
    {
     "data": {
      "text/plain": [
       "array([[0.99732562, 0.00267438],\n",
       "       [0.99732446, 0.00267553],\n",
       "       [0.99732381, 0.00267618],\n",
       "       ...,\n",
       "       [0.9973193 , 0.0026807 ],\n",
       "       [0.99731907, 0.00268092],\n",
       "       [0.99729149, 0.0027085 ]])"
      ]
     },
     "execution_count": 112,
     "metadata": {},
     "output_type": "execute_result"
    }
   ],
   "source": [
    "probs = 0.25*xgbm.predict_proba(X_test_xgb) + 0.25*lgbm.predict_proba(X_test_lgbm) + 0.25*rfc.predict_proba(X_test_rfc) + 0.13*dtree.predict_proba(X_test_dtree) + 0.12*etc.predict_proba(X_test_etc)\n",
    "probs"
   ]
  },
  {
   "cell_type": "code",
   "execution_count": 115,
   "metadata": {},
   "outputs": [
    {
     "data": {
      "text/plain": [
       "0.8705882352941177"
      ]
     },
     "execution_count": 115,
     "metadata": {},
     "output_type": "execute_result"
    }
   ],
   "source": [
    "f1_score(y_test, [1 if y>=0.5 else 0 for y in probs[:, 1]])"
   ]
  },
  {
   "cell_type": "code",
   "execution_count": 116,
   "metadata": {},
   "outputs": [
    {
     "data": {
      "text/plain": [
       "array([[0.99726322, 0.00273677],\n",
       "       [0.99726327, 0.00273673],\n",
       "       [0.99726306, 0.00273693],\n",
       "       ...,\n",
       "       [0.99727305, 0.00272694],\n",
       "       [0.99731139, 0.0026886 ],\n",
       "       [0.99732484, 0.00267515]])"
      ]
     },
     "execution_count": 116,
     "metadata": {},
     "output_type": "execute_result"
    }
   ],
   "source": [
    "test_probs = 0.25*xgbm.predict_proba(test_data_xgb) + 0.25*lgbm.predict_proba(test_data_lgbm) + 0.25*rfc.predict_proba(test_data_rfc) + 0.13*dtree.predict_proba(test_data_dtree) + 0.12*etc.predict_proba(test_data_etc)\n",
    "test_probs"
   ]
  },
  {
   "cell_type": "code",
   "execution_count": 119,
   "metadata": {},
   "outputs": [],
   "source": [
    "\n",
    "test_data_pred_no_thresh = [1 if y>=0.5 else 0 for y in test_probs[:, 1]]\n",
    "\n",
    "submission = pd.DataFrame({'TransactionId' : testId[0], 'FraudResult' : test_data_pred_no_thresh})\n",
    "submission.to_csv('combine_no_thresh_sub.csv', index=False)"
   ]
  },
  {
   "cell_type": "code",
   "execution_count": null,
   "metadata": {},
   "outputs": [],
   "source": []
  },
  {
   "cell_type": "code",
   "execution_count": 120,
   "metadata": {},
   "outputs": [],
   "source": [
    "#thresh combine!"
   ]
  },
  {
   "cell_type": "code",
   "execution_count": 122,
   "metadata": {},
   "outputs": [],
   "source": [
    "precision, recall, thresholds = precision_recall_curve(y_test, probs[:,1])"
   ]
  },
  {
   "cell_type": "code",
   "execution_count": 123,
   "metadata": {},
   "outputs": [
    {
     "data": {
      "image/png": "[encoded data removed]",
      "text/plain": [
       "<Figure size 432x288 with 1 Axes>"
      ]
     },
     "metadata": {
      "needs_background": "light"
     },
     "output_type": "display_data"
    }
   ],
   "source": [
    "thresholds = np.append(thresholds, 1)\n",
    "f1_scores = 2*(precision*recall)/(precision+recall)\n",
    "plt.step(recall, precision, color='b', alpha=0.4, where='post')\n",
    "plt.xlabel('Recall')\n",
    "plt.ylabel('Precision')\n",
    "plt.ylim([0.0, 1.05])\n",
    "plt.xlim([0.0, 1.0])\n",
    "plt.title('2-class Precision-Recall curve')\n",
    "plt.show()"
   ]
  },
  {
   "cell_type": "code",
   "execution_count": 124,
   "metadata": {},
   "outputs": [
    {
     "name": "stdout",
     "output_type": "stream",
     "text": [
      "Threshold cutoff:  0.9370986071528116\n",
      "Max F1-score at cut-off :  0.9041095890410958\n"
     ]
    },
    {
     "data": {
      "text/plain": [
       "<matplotlib.axes._subplots.AxesSubplot at 0x930c03fd0>"
      ]
     },
     "execution_count": 124,
     "metadata": {},
     "output_type": "execute_result"
    },
    {
     "data": {
      "image/png": "[encoded data removed]",
      "text/plain": [
       "<Figure size 432x288 with 1 Axes>"
      ]
     },
     "metadata": {
      "needs_background": "light"
     },
     "output_type": "display_data"
    }
   ],
   "source": [
    "scrs = pd.DataFrame({'precision' : precision, 'recal' : recall, 'thresholds' : thresholds, 'f1_score':f1_scores})\n",
    "print(\"Threshold cutoff: \",scrs.loc[scrs['f1_score'] == scrs.f1_score.max(),'thresholds'].iloc[0])\n",
    "print(\"Max F1-score at cut-off : \",scrs.f1_score.max())\n",
    "\n",
    "thresh = scrs.loc[scrs['f1_score'] == scrs.f1_score.max(),'thresholds'].iloc[0]\n",
    "\n",
    "scrs.plot(x='thresholds', y='f1_score')"
   ]
  },
  {
   "cell_type": "code",
   "execution_count": 125,
   "metadata": {},
   "outputs": [
    {
     "data": {
      "text/html": [
       "<div>\n",
       "<style scoped>\n",
       "    .dataframe tbody tr th:only-of-type {\n",
       "        vertical-align: middle;\n",
       "    }\n",
       "\n",
       "    .dataframe tbody tr th {\n",
       "        vertical-align: top;\n",
       "    }\n",
       "\n",
       "    .dataframe thead th {\n",
       "        text-align: right;\n",
       "    }\n",
       "</style>\n",
       "<table border=\"1\" class=\"dataframe\">\n",
       "  <thead>\n",
       "    <tr style=\"text-align: right;\">\n",
       "      <th></th>\n",
       "      <th>precision</th>\n",
       "      <th>recal</th>\n",
       "      <th>thresholds</th>\n",
       "      <th>f1_score</th>\n",
       "    </tr>\n",
       "  </thead>\n",
       "  <tbody>\n",
       "    <tr>\n",
       "      <th>34</th>\n",
       "      <td>0.970588</td>\n",
       "      <td>0.846154</td>\n",
       "      <td>0.937099</td>\n",
       "      <td>0.90411</td>\n",
       "    </tr>\n",
       "  </tbody>\n",
       "</table>\n",
       "</div>"
      ],
      "text/plain": [
       "    precision     recal  thresholds  f1_score\n",
       "34   0.970588  0.846154    0.937099   0.90411"
      ]
     },
     "execution_count": 125,
     "metadata": {},
     "output_type": "execute_result"
    }
   ],
   "source": [
    "frame =  scrs.loc[scrs['f1_score'] == scrs.f1_score.max()]\n",
    "frame"
   ]
  },
  {
   "cell_type": "code",
   "execution_count": 126,
   "metadata": {},
   "outputs": [
    {
     "data": {
      "text/plain": [
       "0.9370986071528116"
      ]
     },
     "execution_count": 126,
     "metadata": {},
     "output_type": "execute_result"
    }
   ],
   "source": [
    "thresh = frame['thresholds'].values[0]\n",
    "thresh"
   ]
  },
  {
   "cell_type": "code",
   "execution_count": 127,
   "metadata": {},
   "outputs": [],
   "source": [
    "\n",
    "test_data_pred_with_thresh = [1 if y>=thresh else 0 for y in test_probs[:, 1]]\n",
    "\n",
    "submission = pd.DataFrame({'TransactionId' : testId[0], 'FraudResult' : test_data_pred_with_thresh})\n",
    "submission.to_csv('combine_with_thresh_sub.csv', index=False)"
   ]
  },
  {
   "cell_type": "code",
   "execution_count": null,
   "metadata": {},
   "outputs": [],
   "source": []
  }
 ],
 "metadata": {
  "kernelspec": {
   "display_name": "Python 3",
   "language": "python",
   "name": "python3"
  },
  "language_info": {
   "codemirror_mode": {
    "name": "ipython",
    "version": 3
   },
   "file_extension": ".py",
   "mimetype": "text/x-python",
   "name": "python",
   "nbconvert_exporter": "python",
   "pygments_lexer": "ipython3",
   "version": "3.7.4"
  }
 },
 "nbformat": 4,
 "nbformat_minor": 2
}
